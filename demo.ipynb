{
 "cells": [
  {
   "cell_type": "markdown",
   "metadata": {},
   "source": [
    "# Bezmerizing demo notebook\n",
    "\n",
    "By [Allison Parrish](https://www.decontextualize.com/)\n",
    "\n",
    "This notebook demonstrates some of the features of Bezmerizing.\n",
    "\n",
    "See also [Flat and asemic writing](https://github.com/aparrish/material-of-language/blob/master/flat-asemic-writing.ipynb) for an introduction to the `Polyline` object."
   ]
  },
  {
   "cell_type": "code",
   "execution_count": 1,
   "metadata": {},
   "outputs": [],
   "source": [
    "%load_ext autoreload\n",
    "%autoreload 2"
   ]
  },
  {
   "cell_type": "code",
   "execution_count": 2,
   "metadata": {},
   "outputs": [],
   "source": [
    "import bezmerizing\n",
    "from bezmerizing import Polyline, Bezier, QuadraticBezier"
   ]
  },
  {
   "cell_type": "code",
   "execution_count": 3,
   "metadata": {},
   "outputs": [],
   "source": [
    "from flat import document, rgba, shape"
   ]
  },
  {
   "cell_type": "code",
   "execution_count": 4,
   "metadata": {},
   "outputs": [],
   "source": [
    "import numpy as np"
   ]
  },
  {
   "cell_type": "code",
   "execution_count": 5,
   "metadata": {},
   "outputs": [],
   "source": [
    "from IPython.display import SVG, Image, display"
   ]
  },
  {
   "cell_type": "code",
   "execution_count": 6,
   "metadata": {},
   "outputs": [],
   "source": [
    "from IPython.display import SVG, display\n",
    "def show(page):\n",
    "    display(SVG(page.svg()))"
   ]
  },
  {
   "cell_type": "markdown",
   "metadata": {},
   "source": [
    "## Bezier objects\n",
    "\n",
    "A `Bezier` object represents a cubic Bézier curve."
   ]
  },
  {
   "cell_type": "code",
   "execution_count": 7,
   "metadata": {},
   "outputs": [],
   "source": [
    "bez = Bezier(\n",
    "    [25, 25], # start\n",
    "    [150, 50], # control point 1\n",
    "    [50, 150], # control point 2\n",
    "    [175, 175] # end\n",
    ")"
   ]
  },
  {
   "cell_type": "code",
   "execution_count": 8,
   "metadata": {},
   "outputs": [
    {
     "data": {
      "image/svg+xml": [
       "<svg height=\"200pt\" version=\"1.1\" width=\"200pt\" xmlns=\"http://www.w3.org/2000/svg\" xmlns:xlink=\"http://www.w3.org/1999/xlink\">\n",
       "<title>Untitled</title>\n",
       "<path d=\"M25,25 C150,50,50,150,175,175\" fill=\"none\" stroke=\"rgba(0,0,0,1)\" stroke-miterlimit=\"10\" stroke-width=\"4\"/>\n",
       "<circle cx=\"25\" cy=\"25\" fill=\"rgba(255,255,255,1)\" r=\"5\" stroke=\"rgba(0,0,0,1)\" stroke-miterlimit=\"10\" stroke-width=\"2\"/>\n",
       "<circle cx=\"150\" cy=\"50\" fill=\"rgba(255,255,255,1)\" r=\"5\" stroke=\"rgba(0,0,0,1)\" stroke-miterlimit=\"10\" stroke-width=\"2\"/>\n",
       "<circle cx=\"50\" cy=\"150\" fill=\"rgba(255,255,255,1)\" r=\"5\" stroke=\"rgba(0,0,0,1)\" stroke-miterlimit=\"10\" stroke-width=\"2\"/>\n",
       "<circle cx=\"175\" cy=\"175\" fill=\"rgba(255,255,255,1)\" r=\"5\" stroke=\"rgba(0,0,0,1)\" stroke-miterlimit=\"10\" stroke-width=\"2\"/>\n",
       "</svg>"
      ],
      "text/plain": [
       "<IPython.core.display.SVG object>"
      ]
     },
     "metadata": {},
     "output_type": "display_data"
    }
   ],
   "source": [
    "d = document(200, 200, 'pt')\n",
    "page = d.addpage()\n",
    "curve_fig = shape().stroke(rgba(0, 0, 0, 255)).nofill().width(4)\n",
    "point_fig = shape().stroke(rgba(0, 0, 0, 255)).fill(rgba(255, 255, 255, 255)).width(2)\n",
    "page.place(curve_fig.path(bez.to_path()))\n",
    "page.place(point_fig.circle(*bez.start, 5))\n",
    "page.place(point_fig.circle(*bez.cp1, 5))\n",
    "page.place(point_fig.circle(*bez.cp2, 5))\n",
    "page.place(point_fig.circle(*bez.end, 5))\n",
    "show(page)"
   ]
  },
  {
   "cell_type": "markdown",
   "metadata": {},
   "source": [
    "The `.point()` method returns the `[x, y]` coordinates of a point at the specified time on the curve (from 0 to 1):"
   ]
  },
  {
   "cell_type": "code",
   "execution_count": 9,
   "metadata": {},
   "outputs": [],
   "source": [
    "n_pts = 12\n",
    "pts = []\n",
    "for i in range(n_pts + 1):\n",
    "    pts.append(bez.point(i/n_pts))"
   ]
  },
  {
   "cell_type": "code",
   "execution_count": 10,
   "metadata": {},
   "outputs": [
    {
     "data": {
      "text/plain": [
       "[[25.0, 25.0],\n",
       " [51.822916666666664, 32.725694444444436],\n",
       " [70.83333333333334, 43.05555555555556],\n",
       " [83.59375, 55.46875],\n",
       " [91.66666666666667, 69.44444444444444],\n",
       " [96.6145833333333, 84.46180555555554],\n",
       " [100.0, 100.0],\n",
       " [103.38541666666667, 115.53819444444447],\n",
       " [108.33333333333331, 130.55555555555554],\n",
       " [116.40625, 144.53125],\n",
       " [129.16666666666669, 156.94444444444446],\n",
       " [148.17708333333331, 167.27430555555554],\n",
       " [175.0, 175.0]]"
      ]
     },
     "execution_count": 10,
     "metadata": {},
     "output_type": "execute_result"
    }
   ],
   "source": [
    "pts"
   ]
  },
  {
   "cell_type": "code",
   "execution_count": 11,
   "metadata": {},
   "outputs": [
    {
     "data": {
      "image/svg+xml": [
       "<svg height=\"200pt\" version=\"1.1\" width=\"200pt\" xmlns=\"http://www.w3.org/2000/svg\" xmlns:xlink=\"http://www.w3.org/1999/xlink\">\n",
       "<title>Untitled</title>\n",
       "<path d=\"M25,25 C150,50,50,150,175,175\" fill=\"none\" stroke=\"rgba(0,0,0,1)\" stroke-miterlimit=\"10\" stroke-width=\"4\"/>\n",
       "<circle cx=\"25\" cy=\"25\" fill=\"rgba(255,255,255,1)\" r=\"5\" stroke=\"rgba(0,0,0,1)\" stroke-miterlimit=\"10\" stroke-width=\"2\"/>\n",
       "<circle cx=\"51.8229\" cy=\"32.7257\" fill=\"rgba(255,255,255,1)\" r=\"5\" stroke=\"rgba(0,0,0,1)\" stroke-miterlimit=\"10\" stroke-width=\"2\"/>\n",
       "<circle cx=\"70.8333\" cy=\"43.0556\" fill=\"rgba(255,255,255,1)\" r=\"5\" stroke=\"rgba(0,0,0,1)\" stroke-miterlimit=\"10\" stroke-width=\"2\"/>\n",
       "<circle cx=\"83.5938\" cy=\"55.4688\" fill=\"rgba(255,255,255,1)\" r=\"5\" stroke=\"rgba(0,0,0,1)\" stroke-miterlimit=\"10\" stroke-width=\"2\"/>\n",
       "<circle cx=\"91.6667\" cy=\"69.4444\" fill=\"rgba(255,255,255,1)\" r=\"5\" stroke=\"rgba(0,0,0,1)\" stroke-miterlimit=\"10\" stroke-width=\"2\"/>\n",
       "<circle cx=\"96.6146\" cy=\"84.4618\" fill=\"rgba(255,255,255,1)\" r=\"5\" stroke=\"rgba(0,0,0,1)\" stroke-miterlimit=\"10\" stroke-width=\"2\"/>\n",
       "<circle cx=\"100\" cy=\"100\" fill=\"rgba(255,255,255,1)\" r=\"5\" stroke=\"rgba(0,0,0,1)\" stroke-miterlimit=\"10\" stroke-width=\"2\"/>\n",
       "<circle cx=\"103.3854\" cy=\"115.5382\" fill=\"rgba(255,255,255,1)\" r=\"5\" stroke=\"rgba(0,0,0,1)\" stroke-miterlimit=\"10\" stroke-width=\"2\"/>\n",
       "<circle cx=\"108.3333\" cy=\"130.5556\" fill=\"rgba(255,255,255,1)\" r=\"5\" stroke=\"rgba(0,0,0,1)\" stroke-miterlimit=\"10\" stroke-width=\"2\"/>\n",
       "<circle cx=\"116.4062\" cy=\"144.5312\" fill=\"rgba(255,255,255,1)\" r=\"5\" stroke=\"rgba(0,0,0,1)\" stroke-miterlimit=\"10\" stroke-width=\"2\"/>\n",
       "<circle cx=\"129.1667\" cy=\"156.9444\" fill=\"rgba(255,255,255,1)\" r=\"5\" stroke=\"rgba(0,0,0,1)\" stroke-miterlimit=\"10\" stroke-width=\"2\"/>\n",
       "<circle cx=\"148.1771\" cy=\"167.2743\" fill=\"rgba(255,255,255,1)\" r=\"5\" stroke=\"rgba(0,0,0,1)\" stroke-miterlimit=\"10\" stroke-width=\"2\"/>\n",
       "<circle cx=\"175\" cy=\"175\" fill=\"rgba(255,255,255,1)\" r=\"5\" stroke=\"rgba(0,0,0,1)\" stroke-miterlimit=\"10\" stroke-width=\"2\"/>\n",
       "</svg>"
      ],
      "text/plain": [
       "<IPython.core.display.SVG object>"
      ]
     },
     "metadata": {},
     "output_type": "display_data"
    }
   ],
   "source": [
    "d = document(200, 200, 'pt')\n",
    "page = d.addpage()\n",
    "curve_fig = shape().stroke(rgba(0, 0, 0, 255)).nofill().width(4)\n",
    "point_fig = shape().stroke(rgba(0, 0, 0, 255)).fill(rgba(255, 255, 255, 255)).width(2)\n",
    "page.place(curve_fig.path(bez.to_path()))\n",
    "for pt in pts:\n",
    "    page.place(point_fig.circle(*pt, 5))\n",
    "show(page)"
   ]
  },
  {
   "cell_type": "markdown",
   "metadata": {},
   "source": [
    "### Curve offsets\n",
    "\n",
    "The `.offsets()` method returns a polyline with points at the given distance from the curve:"
   ]
  },
  {
   "cell_type": "code",
   "execution_count": 12,
   "metadata": {},
   "outputs": [],
   "source": [
    "offset_p = bez.offsets(np.linspace(4, 16, 12))"
   ]
  },
  {
   "cell_type": "code",
   "execution_count": 13,
   "metadata": {},
   "outputs": [
    {
     "data": {
      "text/plain": [
       "Polyline([[24.2155, 28.9223], [51.8557, 38.2488], [69.6672, 49.9649], [80.1047, 63.1229], [85.8499, 77.5715], [89.0117, 93.4870], [91.4390, 110.7346], [95.2698, 129.0268], [103.1481, 147.8101], [117.6981, 165.5388], [140.3077, 180.1519], [171.8621, 190.6893]])"
      ]
     },
     "execution_count": 13,
     "metadata": {},
     "output_type": "execute_result"
    }
   ],
   "source": [
    "offset_p"
   ]
  },
  {
   "cell_type": "code",
   "execution_count": 14,
   "metadata": {},
   "outputs": [
    {
     "data": {
      "image/svg+xml": [
       "<svg height=\"200pt\" version=\"1.1\" width=\"200pt\" xmlns=\"http://www.w3.org/2000/svg\" xmlns:xlink=\"http://www.w3.org/1999/xlink\">\n",
       "<title>Untitled</title>\n",
       "<path d=\"M25,25 C150,50,50,150,175,175\" fill=\"none\" stroke=\"rgba(0,0,0,1)\" stroke-miterlimit=\"10\" stroke-width=\"4\"/>\n",
       "<polyline fill=\"none\" points=\"24.2155 28.9223 51.8557 38.2488 69.6672 49.9649 80.1047 63.1229 85.8499 77.5715 89.0117 93.487 91.439 110.7346 95.2698 129.0268 103.1481 147.8101 117.6981 165.5388 140.3077 180.1519 171.8621 190.6893\" stroke=\"rgba(0,0,255,1)\" stroke-miterlimit=\"10\" stroke-width=\"2\"/>\n",
       "<circle cx=\"24.2155\" cy=\"28.9223\" fill=\"rgba(255,255,255,1)\" r=\"2\" stroke=\"rgba(0,0,0,1)\" stroke-miterlimit=\"10\" stroke-width=\"2\"/>\n",
       "<circle cx=\"51.8557\" cy=\"38.2488\" fill=\"rgba(255,255,255,1)\" r=\"2\" stroke=\"rgba(0,0,0,1)\" stroke-miterlimit=\"10\" stroke-width=\"2\"/>\n",
       "<circle cx=\"69.6672\" cy=\"49.9649\" fill=\"rgba(255,255,255,1)\" r=\"2\" stroke=\"rgba(0,0,0,1)\" stroke-miterlimit=\"10\" stroke-width=\"2\"/>\n",
       "<circle cx=\"80.1047\" cy=\"63.1229\" fill=\"rgba(255,255,255,1)\" r=\"2\" stroke=\"rgba(0,0,0,1)\" stroke-miterlimit=\"10\" stroke-width=\"2\"/>\n",
       "<circle cx=\"85.8499\" cy=\"77.5715\" fill=\"rgba(255,255,255,1)\" r=\"2\" stroke=\"rgba(0,0,0,1)\" stroke-miterlimit=\"10\" stroke-width=\"2\"/>\n",
       "<circle cx=\"89.0117\" cy=\"93.487\" fill=\"rgba(255,255,255,1)\" r=\"2\" stroke=\"rgba(0,0,0,1)\" stroke-miterlimit=\"10\" stroke-width=\"2\"/>\n",
       "<circle cx=\"91.439\" cy=\"110.7346\" fill=\"rgba(255,255,255,1)\" r=\"2\" stroke=\"rgba(0,0,0,1)\" stroke-miterlimit=\"10\" stroke-width=\"2\"/>\n",
       "<circle cx=\"95.2698\" cy=\"129.0268\" fill=\"rgba(255,255,255,1)\" r=\"2\" stroke=\"rgba(0,0,0,1)\" stroke-miterlimit=\"10\" stroke-width=\"2\"/>\n",
       "<circle cx=\"103.1481\" cy=\"147.8101\" fill=\"rgba(255,255,255,1)\" r=\"2\" stroke=\"rgba(0,0,0,1)\" stroke-miterlimit=\"10\" stroke-width=\"2\"/>\n",
       "<circle cx=\"117.6981\" cy=\"165.5388\" fill=\"rgba(255,255,255,1)\" r=\"2\" stroke=\"rgba(0,0,0,1)\" stroke-miterlimit=\"10\" stroke-width=\"2\"/>\n",
       "<circle cx=\"140.3077\" cy=\"180.1519\" fill=\"rgba(255,255,255,1)\" r=\"2\" stroke=\"rgba(0,0,0,1)\" stroke-miterlimit=\"10\" stroke-width=\"2\"/>\n",
       "<circle cx=\"171.8621\" cy=\"190.6893\" fill=\"rgba(255,255,255,1)\" r=\"2\" stroke=\"rgba(0,0,0,1)\" stroke-miterlimit=\"10\" stroke-width=\"2\"/>\n",
       "</svg>"
      ],
      "text/plain": [
       "<IPython.core.display.SVG object>"
      ]
     },
     "metadata": {},
     "output_type": "display_data"
    }
   ],
   "source": [
    "d = document(200, 200, 'pt')\n",
    "page = d.addpage()\n",
    "curve_fig = shape().stroke(rgba(0, 0, 0, 255)).nofill().width(4)\n",
    "point_fig = shape().stroke(rgba(0, 0, 0, 255)).fill(rgba(255, 255, 255, 255)).width(2)\n",
    "offset_fig = shape().stroke(rgba(0, 0, 255, 255)).nofill().width(2)\n",
    "page.place(curve_fig.path(bez.to_path()))\n",
    "page.place(offset_fig.polyline(offset_p))\n",
    "for pt in offset_p.vertices:\n",
    "    page.place(point_fig.circle(*pt, 2))\n",
    "show(page)"
   ]
  },
  {
   "cell_type": "markdown",
   "metadata": {},
   "source": [
    "The `.offset_polygon()` method returns a polyline with the given offsets on both sides of the curve:"
   ]
  },
  {
   "cell_type": "code",
   "execution_count": 15,
   "metadata": {},
   "outputs": [],
   "source": [
    "poly = bez.offset_polygon(np.linspace(8, 16, 20))"
   ]
  },
  {
   "cell_type": "code",
   "execution_count": 16,
   "metadata": {},
   "outputs": [
    {
     "data": {
      "image/svg+xml": [
       "<svg height=\"200pt\" version=\"1.1\" width=\"200pt\" xmlns=\"http://www.w3.org/2000/svg\" xmlns:xlink=\"http://www.w3.org/1999/xlink\">\n",
       "<title>Untitled</title>\n",
       "<path d=\"M25,25 C150,50,50,150,175,175\" fill=\"none\" stroke=\"rgba(0,0,0,1)\" stroke-miterlimit=\"10\" stroke-width=\"4\"/>\n",
       "<polygon fill=\"rgba(0,0,0,0.1569)\" points=\"25.7845 21.0777 44.2038 25.5347 59.4116 31.2173 71.7833 38.0483 81.6437 45.9288 89.2835 54.6935 95.0172 64.1063 99.225 73.9146 102.3344 83.8999 104.7792 93.8829 106.9755 103.7035 109.3112 113.2051 112.1407 122.2356 115.7854 130.6683 120.5574 138.4393 126.818 145.5625 135.0298 152.0733 145.7246 157.9375 159.419 163.0252 176.5689 167.1554 173.4311 182.8446 154.7157 177.8772 139.2367 171.6368 126.6629 164.2046 116.7233 155.7132 109.1627 146.3908 103.6562 136.5354 99.778 126.4231 97.0527 116.2525 95.0145 106.1594 93.2307 96.2541 91.3017 86.6425 88.8563 77.4267 85.5412 68.69 80.9965 60.4764 74.8149 52.7955 66.5241 45.6738 55.627 39.2085 41.6615 33.5628 24.2155 28.9223\" stroke=\"rgba(0,0,255,1)\" stroke-miterlimit=\"10\" stroke-width=\"2\"/>\n",
       "<circle cx=\"25.7845\" cy=\"21.0777\" fill=\"rgba(255,255,255,1)\" r=\"2\" stroke=\"rgba(0,0,0,1)\" stroke-miterlimit=\"10\" stroke-width=\"2\"/>\n",
       "<circle cx=\"44.2038\" cy=\"25.5347\" fill=\"rgba(255,255,255,1)\" r=\"2\" stroke=\"rgba(0,0,0,1)\" stroke-miterlimit=\"10\" stroke-width=\"2\"/>\n",
       "<circle cx=\"59.4116\" cy=\"31.2173\" fill=\"rgba(255,255,255,1)\" r=\"2\" stroke=\"rgba(0,0,0,1)\" stroke-miterlimit=\"10\" stroke-width=\"2\"/>\n",
       "<circle cx=\"71.7833\" cy=\"38.0483\" fill=\"rgba(255,255,255,1)\" r=\"2\" stroke=\"rgba(0,0,0,1)\" stroke-miterlimit=\"10\" stroke-width=\"2\"/>\n",
       "<circle cx=\"81.6437\" cy=\"45.9288\" fill=\"rgba(255,255,255,1)\" r=\"2\" stroke=\"rgba(0,0,0,1)\" stroke-miterlimit=\"10\" stroke-width=\"2\"/>\n",
       "<circle cx=\"89.2835\" cy=\"54.6935\" fill=\"rgba(255,255,255,1)\" r=\"2\" stroke=\"rgba(0,0,0,1)\" stroke-miterlimit=\"10\" stroke-width=\"2\"/>\n",
       "<circle cx=\"95.0172\" cy=\"64.1063\" fill=\"rgba(255,255,255,1)\" r=\"2\" stroke=\"rgba(0,0,0,1)\" stroke-miterlimit=\"10\" stroke-width=\"2\"/>\n",
       "<circle cx=\"99.225\" cy=\"73.9146\" fill=\"rgba(255,255,255,1)\" r=\"2\" stroke=\"rgba(0,0,0,1)\" stroke-miterlimit=\"10\" stroke-width=\"2\"/>\n",
       "<circle cx=\"102.3344\" cy=\"83.8999\" fill=\"rgba(255,255,255,1)\" r=\"2\" stroke=\"rgba(0,0,0,1)\" stroke-miterlimit=\"10\" stroke-width=\"2\"/>\n",
       "<circle cx=\"104.7792\" cy=\"93.8829\" fill=\"rgba(255,255,255,1)\" r=\"2\" stroke=\"rgba(0,0,0,1)\" stroke-miterlimit=\"10\" stroke-width=\"2\"/>\n",
       "<circle cx=\"106.9755\" cy=\"103.7035\" fill=\"rgba(255,255,255,1)\" r=\"2\" stroke=\"rgba(0,0,0,1)\" stroke-miterlimit=\"10\" stroke-width=\"2\"/>\n",
       "<circle cx=\"109.3112\" cy=\"113.2051\" fill=\"rgba(255,255,255,1)\" r=\"2\" stroke=\"rgba(0,0,0,1)\" stroke-miterlimit=\"10\" stroke-width=\"2\"/>\n",
       "<circle cx=\"112.1407\" cy=\"122.2356\" fill=\"rgba(255,255,255,1)\" r=\"2\" stroke=\"rgba(0,0,0,1)\" stroke-miterlimit=\"10\" stroke-width=\"2\"/>\n",
       "<circle cx=\"115.7854\" cy=\"130.6683\" fill=\"rgba(255,255,255,1)\" r=\"2\" stroke=\"rgba(0,0,0,1)\" stroke-miterlimit=\"10\" stroke-width=\"2\"/>\n",
       "<circle cx=\"120.5574\" cy=\"138.4393\" fill=\"rgba(255,255,255,1)\" r=\"2\" stroke=\"rgba(0,0,0,1)\" stroke-miterlimit=\"10\" stroke-width=\"2\"/>\n",
       "<circle cx=\"126.818\" cy=\"145.5625\" fill=\"rgba(255,255,255,1)\" r=\"2\" stroke=\"rgba(0,0,0,1)\" stroke-miterlimit=\"10\" stroke-width=\"2\"/>\n",
       "<circle cx=\"135.0298\" cy=\"152.0733\" fill=\"rgba(255,255,255,1)\" r=\"2\" stroke=\"rgba(0,0,0,1)\" stroke-miterlimit=\"10\" stroke-width=\"2\"/>\n",
       "<circle cx=\"145.7246\" cy=\"157.9375\" fill=\"rgba(255,255,255,1)\" r=\"2\" stroke=\"rgba(0,0,0,1)\" stroke-miterlimit=\"10\" stroke-width=\"2\"/>\n",
       "<circle cx=\"159.419\" cy=\"163.0252\" fill=\"rgba(255,255,255,1)\" r=\"2\" stroke=\"rgba(0,0,0,1)\" stroke-miterlimit=\"10\" stroke-width=\"2\"/>\n",
       "<circle cx=\"176.5689\" cy=\"167.1554\" fill=\"rgba(255,255,255,1)\" r=\"2\" stroke=\"rgba(0,0,0,1)\" stroke-miterlimit=\"10\" stroke-width=\"2\"/>\n",
       "<circle cx=\"173.4311\" cy=\"182.8446\" fill=\"rgba(255,255,255,1)\" r=\"2\" stroke=\"rgba(0,0,0,1)\" stroke-miterlimit=\"10\" stroke-width=\"2\"/>\n",
       "<circle cx=\"154.7157\" cy=\"177.8772\" fill=\"rgba(255,255,255,1)\" r=\"2\" stroke=\"rgba(0,0,0,1)\" stroke-miterlimit=\"10\" stroke-width=\"2\"/>\n",
       "<circle cx=\"139.2367\" cy=\"171.6368\" fill=\"rgba(255,255,255,1)\" r=\"2\" stroke=\"rgba(0,0,0,1)\" stroke-miterlimit=\"10\" stroke-width=\"2\"/>\n",
       "<circle cx=\"126.6629\" cy=\"164.2046\" fill=\"rgba(255,255,255,1)\" r=\"2\" stroke=\"rgba(0,0,0,1)\" stroke-miterlimit=\"10\" stroke-width=\"2\"/>\n",
       "<circle cx=\"116.7233\" cy=\"155.7132\" fill=\"rgba(255,255,255,1)\" r=\"2\" stroke=\"rgba(0,0,0,1)\" stroke-miterlimit=\"10\" stroke-width=\"2\"/>\n",
       "<circle cx=\"109.1627\" cy=\"146.3908\" fill=\"rgba(255,255,255,1)\" r=\"2\" stroke=\"rgba(0,0,0,1)\" stroke-miterlimit=\"10\" stroke-width=\"2\"/>\n",
       "<circle cx=\"103.6562\" cy=\"136.5354\" fill=\"rgba(255,255,255,1)\" r=\"2\" stroke=\"rgba(0,0,0,1)\" stroke-miterlimit=\"10\" stroke-width=\"2\"/>\n",
       "<circle cx=\"99.778\" cy=\"126.4231\" fill=\"rgba(255,255,255,1)\" r=\"2\" stroke=\"rgba(0,0,0,1)\" stroke-miterlimit=\"10\" stroke-width=\"2\"/>\n",
       "<circle cx=\"97.0527\" cy=\"116.2525\" fill=\"rgba(255,255,255,1)\" r=\"2\" stroke=\"rgba(0,0,0,1)\" stroke-miterlimit=\"10\" stroke-width=\"2\"/>\n",
       "<circle cx=\"95.0145\" cy=\"106.1594\" fill=\"rgba(255,255,255,1)\" r=\"2\" stroke=\"rgba(0,0,0,1)\" stroke-miterlimit=\"10\" stroke-width=\"2\"/>\n",
       "<circle cx=\"93.2307\" cy=\"96.2541\" fill=\"rgba(255,255,255,1)\" r=\"2\" stroke=\"rgba(0,0,0,1)\" stroke-miterlimit=\"10\" stroke-width=\"2\"/>\n",
       "<circle cx=\"91.3017\" cy=\"86.6425\" fill=\"rgba(255,255,255,1)\" r=\"2\" stroke=\"rgba(0,0,0,1)\" stroke-miterlimit=\"10\" stroke-width=\"2\"/>\n",
       "<circle cx=\"88.8563\" cy=\"77.4267\" fill=\"rgba(255,255,255,1)\" r=\"2\" stroke=\"rgba(0,0,0,1)\" stroke-miterlimit=\"10\" stroke-width=\"2\"/>\n",
       "<circle cx=\"85.5412\" cy=\"68.69\" fill=\"rgba(255,255,255,1)\" r=\"2\" stroke=\"rgba(0,0,0,1)\" stroke-miterlimit=\"10\" stroke-width=\"2\"/>\n",
       "<circle cx=\"80.9965\" cy=\"60.4764\" fill=\"rgba(255,255,255,1)\" r=\"2\" stroke=\"rgba(0,0,0,1)\" stroke-miterlimit=\"10\" stroke-width=\"2\"/>\n",
       "<circle cx=\"74.8149\" cy=\"52.7955\" fill=\"rgba(255,255,255,1)\" r=\"2\" stroke=\"rgba(0,0,0,1)\" stroke-miterlimit=\"10\" stroke-width=\"2\"/>\n",
       "<circle cx=\"66.5241\" cy=\"45.6738\" fill=\"rgba(255,255,255,1)\" r=\"2\" stroke=\"rgba(0,0,0,1)\" stroke-miterlimit=\"10\" stroke-width=\"2\"/>\n",
       "<circle cx=\"55.627\" cy=\"39.2085\" fill=\"rgba(255,255,255,1)\" r=\"2\" stroke=\"rgba(0,0,0,1)\" stroke-miterlimit=\"10\" stroke-width=\"2\"/>\n",
       "<circle cx=\"41.6615\" cy=\"33.5628\" fill=\"rgba(255,255,255,1)\" r=\"2\" stroke=\"rgba(0,0,0,1)\" stroke-miterlimit=\"10\" stroke-width=\"2\"/>\n",
       "<circle cx=\"24.2155\" cy=\"28.9223\" fill=\"rgba(255,255,255,1)\" r=\"2\" stroke=\"rgba(0,0,0,1)\" stroke-miterlimit=\"10\" stroke-width=\"2\"/>\n",
       "</svg>"
      ],
      "text/plain": [
       "<IPython.core.display.SVG object>"
      ]
     },
     "metadata": {},
     "output_type": "display_data"
    }
   ],
   "source": [
    "d = document(200, 200, 'pt')\n",
    "page = d.addpage()\n",
    "curve_fig = shape().stroke(rgba(0, 0, 0, 255)).nofill().width(4)\n",
    "point_fig = shape().stroke(rgba(0, 0, 0, 255)).fill(rgba(255, 255, 255, 255)).width(2)\n",
    "offset_fig = shape().stroke(rgba(0, 0, 255, 255)).fill(rgba(0, 0, 0, 40)).width(2)\n",
    "page.place(curve_fig.path(bez.to_path()))\n",
    "page.place(offset_fig.polygon(poly))\n",
    "for pt in poly.vertices:\n",
    "    page.place(point_fig.circle(*pt, 2))\n",
    "show(page)"
   ]
  },
  {
   "cell_type": "markdown",
   "metadata": {},
   "source": [
    "The `QuadraticBezier` class has the same interface as `Bezier`, and operates on quadratic Béziers (only one control point) instead of cubic Béziers:"
   ]
  },
  {
   "cell_type": "code",
   "execution_count": 17,
   "metadata": {},
   "outputs": [],
   "source": [
    "qbez = QuadraticBezier(\n",
    "    [25, 25], # start\n",
    "    [150, 50], # control point 1\n",
    "    [50, 150] # end\n",
    ")\n",
    "qpoly = qbez.offset_polygon(np.linspace(8, 16, 20))"
   ]
  },
  {
   "cell_type": "code",
   "execution_count": 18,
   "metadata": {},
   "outputs": [
    {
     "data": {
      "image/svg+xml": [
       "<svg height=\"200pt\" version=\"1.1\" width=\"200pt\" xmlns=\"http://www.w3.org/2000/svg\" xmlns:xlink=\"http://www.w3.org/1999/xlink\">\n",
       "<title>Untitled</title>\n",
       "<path d=\"M25,25 Q150,50,50,150\" fill=\"none\" stroke=\"rgba(0,0,0,1)\" stroke-miterlimit=\"10\" stroke-width=\"4\"/>\n",
       "<polygon fill=\"rgba(0,0,0,0.1569)\" points=\"25.4295 21.0231 38.2215 23.6852 49.8386 26.7914 60.2982 30.3605 69.6182 34.4222 77.8111 39.0215 84.8705 44.2183 90.7511 50.0742 95.3579 56.6158 98.5746 63.7927 100.3269 71.4822 100.6197 79.554 99.5112 87.9284 97.0662 96.5826 93.3329 105.5269 88.3403 114.7832 82.1035 124.3735 74.6297 134.3165 65.9214 144.6266 55.9793 155.3149 44.0207 144.6851 53.8847 134.7362 62.4895 125.2403 69.8356 116.2082 75.9256 107.6545 80.7668 99.5977 84.3742 92.06 86.7769 85.0633 88.0229 78.6178 88.1773 72.7006 87.298 67.2322 85.39 62.0822 82.3791 57.128 78.1489 52.3191 72.6044 47.6821 65.7004 43.2786 57.4304 39.1686 47.8068 35.3969 36.8477 31.9935 24.5705 28.9769\" stroke=\"rgba(0,0,255,1)\" stroke-miterlimit=\"10\" stroke-width=\"2\"/>\n",
       "<circle cx=\"25.4295\" cy=\"21.0231\" fill=\"rgba(255,255,255,1)\" r=\"2\" stroke=\"rgba(0,0,0,1)\" stroke-miterlimit=\"10\" stroke-width=\"2\"/>\n",
       "<circle cx=\"38.2215\" cy=\"23.6852\" fill=\"rgba(255,255,255,1)\" r=\"2\" stroke=\"rgba(0,0,0,1)\" stroke-miterlimit=\"10\" stroke-width=\"2\"/>\n",
       "<circle cx=\"49.8386\" cy=\"26.7914\" fill=\"rgba(255,255,255,1)\" r=\"2\" stroke=\"rgba(0,0,0,1)\" stroke-miterlimit=\"10\" stroke-width=\"2\"/>\n",
       "<circle cx=\"60.2982\" cy=\"30.3605\" fill=\"rgba(255,255,255,1)\" r=\"2\" stroke=\"rgba(0,0,0,1)\" stroke-miterlimit=\"10\" stroke-width=\"2\"/>\n",
       "<circle cx=\"69.6182\" cy=\"34.4222\" fill=\"rgba(255,255,255,1)\" r=\"2\" stroke=\"rgba(0,0,0,1)\" stroke-miterlimit=\"10\" stroke-width=\"2\"/>\n",
       "<circle cx=\"77.8111\" cy=\"39.0215\" fill=\"rgba(255,255,255,1)\" r=\"2\" stroke=\"rgba(0,0,0,1)\" stroke-miterlimit=\"10\" stroke-width=\"2\"/>\n",
       "<circle cx=\"84.8705\" cy=\"44.2183\" fill=\"rgba(255,255,255,1)\" r=\"2\" stroke=\"rgba(0,0,0,1)\" stroke-miterlimit=\"10\" stroke-width=\"2\"/>\n",
       "<circle cx=\"90.7511\" cy=\"50.0742\" fill=\"rgba(255,255,255,1)\" r=\"2\" stroke=\"rgba(0,0,0,1)\" stroke-miterlimit=\"10\" stroke-width=\"2\"/>\n",
       "<circle cx=\"95.3579\" cy=\"56.6158\" fill=\"rgba(255,255,255,1)\" r=\"2\" stroke=\"rgba(0,0,0,1)\" stroke-miterlimit=\"10\" stroke-width=\"2\"/>\n",
       "<circle cx=\"98.5746\" cy=\"63.7927\" fill=\"rgba(255,255,255,1)\" r=\"2\" stroke=\"rgba(0,0,0,1)\" stroke-miterlimit=\"10\" stroke-width=\"2\"/>\n",
       "<circle cx=\"100.3269\" cy=\"71.4822\" fill=\"rgba(255,255,255,1)\" r=\"2\" stroke=\"rgba(0,0,0,1)\" stroke-miterlimit=\"10\" stroke-width=\"2\"/>\n",
       "<circle cx=\"100.6197\" cy=\"79.554\" fill=\"rgba(255,255,255,1)\" r=\"2\" stroke=\"rgba(0,0,0,1)\" stroke-miterlimit=\"10\" stroke-width=\"2\"/>\n",
       "<circle cx=\"99.5112\" cy=\"87.9284\" fill=\"rgba(255,255,255,1)\" r=\"2\" stroke=\"rgba(0,0,0,1)\" stroke-miterlimit=\"10\" stroke-width=\"2\"/>\n",
       "<circle cx=\"97.0662\" cy=\"96.5826\" fill=\"rgba(255,255,255,1)\" r=\"2\" stroke=\"rgba(0,0,0,1)\" stroke-miterlimit=\"10\" stroke-width=\"2\"/>\n",
       "<circle cx=\"93.3329\" cy=\"105.5269\" fill=\"rgba(255,255,255,1)\" r=\"2\" stroke=\"rgba(0,0,0,1)\" stroke-miterlimit=\"10\" stroke-width=\"2\"/>\n",
       "<circle cx=\"88.3403\" cy=\"114.7832\" fill=\"rgba(255,255,255,1)\" r=\"2\" stroke=\"rgba(0,0,0,1)\" stroke-miterlimit=\"10\" stroke-width=\"2\"/>\n",
       "<circle cx=\"82.1035\" cy=\"124.3735\" fill=\"rgba(255,255,255,1)\" r=\"2\" stroke=\"rgba(0,0,0,1)\" stroke-miterlimit=\"10\" stroke-width=\"2\"/>\n",
       "<circle cx=\"74.6297\" cy=\"134.3165\" fill=\"rgba(255,255,255,1)\" r=\"2\" stroke=\"rgba(0,0,0,1)\" stroke-miterlimit=\"10\" stroke-width=\"2\"/>\n",
       "<circle cx=\"65.9214\" cy=\"144.6266\" fill=\"rgba(255,255,255,1)\" r=\"2\" stroke=\"rgba(0,0,0,1)\" stroke-miterlimit=\"10\" stroke-width=\"2\"/>\n",
       "<circle cx=\"55.9793\" cy=\"155.3149\" fill=\"rgba(255,255,255,1)\" r=\"2\" stroke=\"rgba(0,0,0,1)\" stroke-miterlimit=\"10\" stroke-width=\"2\"/>\n",
       "<circle cx=\"44.0207\" cy=\"144.6851\" fill=\"rgba(255,255,255,1)\" r=\"2\" stroke=\"rgba(0,0,0,1)\" stroke-miterlimit=\"10\" stroke-width=\"2\"/>\n",
       "<circle cx=\"53.8847\" cy=\"134.7362\" fill=\"rgba(255,255,255,1)\" r=\"2\" stroke=\"rgba(0,0,0,1)\" stroke-miterlimit=\"10\" stroke-width=\"2\"/>\n",
       "<circle cx=\"62.4895\" cy=\"125.2403\" fill=\"rgba(255,255,255,1)\" r=\"2\" stroke=\"rgba(0,0,0,1)\" stroke-miterlimit=\"10\" stroke-width=\"2\"/>\n",
       "<circle cx=\"69.8356\" cy=\"116.2082\" fill=\"rgba(255,255,255,1)\" r=\"2\" stroke=\"rgba(0,0,0,1)\" stroke-miterlimit=\"10\" stroke-width=\"2\"/>\n",
       "<circle cx=\"75.9256\" cy=\"107.6545\" fill=\"rgba(255,255,255,1)\" r=\"2\" stroke=\"rgba(0,0,0,1)\" stroke-miterlimit=\"10\" stroke-width=\"2\"/>\n",
       "<circle cx=\"80.7668\" cy=\"99.5977\" fill=\"rgba(255,255,255,1)\" r=\"2\" stroke=\"rgba(0,0,0,1)\" stroke-miterlimit=\"10\" stroke-width=\"2\"/>\n",
       "<circle cx=\"84.3742\" cy=\"92.06\" fill=\"rgba(255,255,255,1)\" r=\"2\" stroke=\"rgba(0,0,0,1)\" stroke-miterlimit=\"10\" stroke-width=\"2\"/>\n",
       "<circle cx=\"86.7769\" cy=\"85.0633\" fill=\"rgba(255,255,255,1)\" r=\"2\" stroke=\"rgba(0,0,0,1)\" stroke-miterlimit=\"10\" stroke-width=\"2\"/>\n",
       "<circle cx=\"88.0229\" cy=\"78.6178\" fill=\"rgba(255,255,255,1)\" r=\"2\" stroke=\"rgba(0,0,0,1)\" stroke-miterlimit=\"10\" stroke-width=\"2\"/>\n",
       "<circle cx=\"88.1773\" cy=\"72.7006\" fill=\"rgba(255,255,255,1)\" r=\"2\" stroke=\"rgba(0,0,0,1)\" stroke-miterlimit=\"10\" stroke-width=\"2\"/>\n",
       "<circle cx=\"87.298\" cy=\"67.2322\" fill=\"rgba(255,255,255,1)\" r=\"2\" stroke=\"rgba(0,0,0,1)\" stroke-miterlimit=\"10\" stroke-width=\"2\"/>\n",
       "<circle cx=\"85.39\" cy=\"62.0822\" fill=\"rgba(255,255,255,1)\" r=\"2\" stroke=\"rgba(0,0,0,1)\" stroke-miterlimit=\"10\" stroke-width=\"2\"/>\n",
       "<circle cx=\"82.3791\" cy=\"57.128\" fill=\"rgba(255,255,255,1)\" r=\"2\" stroke=\"rgba(0,0,0,1)\" stroke-miterlimit=\"10\" stroke-width=\"2\"/>\n",
       "<circle cx=\"78.1489\" cy=\"52.3191\" fill=\"rgba(255,255,255,1)\" r=\"2\" stroke=\"rgba(0,0,0,1)\" stroke-miterlimit=\"10\" stroke-width=\"2\"/>\n",
       "<circle cx=\"72.6044\" cy=\"47.6821\" fill=\"rgba(255,255,255,1)\" r=\"2\" stroke=\"rgba(0,0,0,1)\" stroke-miterlimit=\"10\" stroke-width=\"2\"/>\n",
       "<circle cx=\"65.7004\" cy=\"43.2786\" fill=\"rgba(255,255,255,1)\" r=\"2\" stroke=\"rgba(0,0,0,1)\" stroke-miterlimit=\"10\" stroke-width=\"2\"/>\n",
       "<circle cx=\"57.4304\" cy=\"39.1686\" fill=\"rgba(255,255,255,1)\" r=\"2\" stroke=\"rgba(0,0,0,1)\" stroke-miterlimit=\"10\" stroke-width=\"2\"/>\n",
       "<circle cx=\"47.8068\" cy=\"35.3969\" fill=\"rgba(255,255,255,1)\" r=\"2\" stroke=\"rgba(0,0,0,1)\" stroke-miterlimit=\"10\" stroke-width=\"2\"/>\n",
       "<circle cx=\"36.8477\" cy=\"31.9935\" fill=\"rgba(255,255,255,1)\" r=\"2\" stroke=\"rgba(0,0,0,1)\" stroke-miterlimit=\"10\" stroke-width=\"2\"/>\n",
       "<circle cx=\"24.5705\" cy=\"28.9769\" fill=\"rgba(255,255,255,1)\" r=\"2\" stroke=\"rgba(0,0,0,1)\" stroke-miterlimit=\"10\" stroke-width=\"2\"/>\n",
       "</svg>"
      ],
      "text/plain": [
       "<IPython.core.display.SVG object>"
      ]
     },
     "metadata": {},
     "output_type": "display_data"
    }
   ],
   "source": [
    "d = document(200, 200, 'pt')\n",
    "page = d.addpage()\n",
    "curve_fig = shape().stroke(rgba(0, 0, 0, 255)).nofill().width(4)\n",
    "point_fig = shape().stroke(rgba(0, 0, 0, 255)).fill(rgba(255, 255, 255, 255)).width(2)\n",
    "offset_fig = shape().stroke(rgba(0, 0, 255, 255)).fill(rgba(0, 0, 0, 40)).width(2)\n",
    "page.place(curve_fig.path(qbez.to_path()))\n",
    "page.place(offset_fig.polygon(qpoly))\n",
    "for pt in qpoly.vertices:\n",
    "    page.place(point_fig.circle(*pt, 2))\n",
    "show(page)"
   ]
  },
  {
   "cell_type": "markdown",
   "metadata": {},
   "source": [
    "## Polylines\n",
    "\n",
    "A `Polyline` object stores a sequence of points. The object has a special iteration handler, which makes it possible to pass the object directly to Flat's `.polyline()` method:"
   ]
  },
  {
   "cell_type": "code",
   "execution_count": 19,
   "metadata": {},
   "outputs": [],
   "source": [
    "random_p = Polyline([[np.random.uniform(25, 175), np.random.uniform(25, 175)] for i in range(12)])"
   ]
  },
  {
   "cell_type": "markdown",
   "metadata": {},
   "source": [
    "You can access a `Polyline`'s vertices directly as a `numpy` array with `.vertices`:"
   ]
  },
  {
   "cell_type": "code",
   "execution_count": 20,
   "metadata": {
    "scrolled": true
   },
   "outputs": [
    {
     "data": {
      "text/plain": [
       "[[138.04080889603102, 42.67284071026282],\n",
       " [38.29092552075852, 144.9116617793795],\n",
       " [105.00371806591762, 131.21421348147067],\n",
       " [94.07569859958238, 169.61235469373793],\n",
       " [167.43950175049375, 118.79082794025518],\n",
       " [51.80248926090287, 116.50285779661475],\n",
       " [95.9978197245367, 140.11636008545577],\n",
       " [168.01216976714315, 115.21594739755314],\n",
       " [109.41640321371301, 84.12682565667961],\n",
       " [84.06727989797383, 87.03025791268908],\n",
       " [159.27619400222056, 57.17915194499552],\n",
       " [102.3889570492353, 59.18526114445598]]"
      ]
     },
     "execution_count": 20,
     "metadata": {},
     "output_type": "execute_result"
    }
   ],
   "source": [
    "random_p.vertices.tolist()"
   ]
  },
  {
   "cell_type": "code",
   "execution_count": 21,
   "metadata": {},
   "outputs": [
    {
     "data": {
      "image/svg+xml": [
       "<svg height=\"200pt\" version=\"1.1\" width=\"200pt\" xmlns=\"http://www.w3.org/2000/svg\" xmlns:xlink=\"http://www.w3.org/1999/xlink\">\n",
       "<title>Untitled</title>\n",
       "<polyline fill=\"none\" points=\"138.0408 42.6728 38.2909 144.9117 105.0037 131.2142 94.0757 169.6124 167.4395 118.7908 51.8025 116.5029 95.9978 140.1164 168.0122 115.2159 109.4164 84.1268 84.0673 87.0303 159.2762 57.1792 102.389 59.1853\" stroke=\"rgba(0,0,0,1)\" stroke-miterlimit=\"10\"/>\n",
       "<circle cx=\"138.0408\" cy=\"42.6728\" fill=\"rgba(255,255,255,1)\" r=\"2\" stroke=\"rgba(0,0,0,1)\" stroke-miterlimit=\"10\"/>\n",
       "<circle cx=\"38.2909\" cy=\"144.9117\" fill=\"rgba(255,255,255,1)\" r=\"2\" stroke=\"rgba(0,0,0,1)\" stroke-miterlimit=\"10\"/>\n",
       "<circle cx=\"105.0037\" cy=\"131.2142\" fill=\"rgba(255,255,255,1)\" r=\"2\" stroke=\"rgba(0,0,0,1)\" stroke-miterlimit=\"10\"/>\n",
       "<circle cx=\"94.0757\" cy=\"169.6124\" fill=\"rgba(255,255,255,1)\" r=\"2\" stroke=\"rgba(0,0,0,1)\" stroke-miterlimit=\"10\"/>\n",
       "<circle cx=\"167.4395\" cy=\"118.7908\" fill=\"rgba(255,255,255,1)\" r=\"2\" stroke=\"rgba(0,0,0,1)\" stroke-miterlimit=\"10\"/>\n",
       "<circle cx=\"51.8025\" cy=\"116.5029\" fill=\"rgba(255,255,255,1)\" r=\"2\" stroke=\"rgba(0,0,0,1)\" stroke-miterlimit=\"10\"/>\n",
       "<circle cx=\"95.9978\" cy=\"140.1164\" fill=\"rgba(255,255,255,1)\" r=\"2\" stroke=\"rgba(0,0,0,1)\" stroke-miterlimit=\"10\"/>\n",
       "<circle cx=\"168.0122\" cy=\"115.2159\" fill=\"rgba(255,255,255,1)\" r=\"2\" stroke=\"rgba(0,0,0,1)\" stroke-miterlimit=\"10\"/>\n",
       "<circle cx=\"109.4164\" cy=\"84.1268\" fill=\"rgba(255,255,255,1)\" r=\"2\" stroke=\"rgba(0,0,0,1)\" stroke-miterlimit=\"10\"/>\n",
       "<circle cx=\"84.0673\" cy=\"87.0303\" fill=\"rgba(255,255,255,1)\" r=\"2\" stroke=\"rgba(0,0,0,1)\" stroke-miterlimit=\"10\"/>\n",
       "<circle cx=\"159.2762\" cy=\"57.1792\" fill=\"rgba(255,255,255,1)\" r=\"2\" stroke=\"rgba(0,0,0,1)\" stroke-miterlimit=\"10\"/>\n",
       "<circle cx=\"102.389\" cy=\"59.1853\" fill=\"rgba(255,255,255,1)\" r=\"2\" stroke=\"rgba(0,0,0,1)\" stroke-miterlimit=\"10\"/>\n",
       "</svg>"
      ],
      "text/plain": [
       "<IPython.core.display.SVG object>"
      ]
     },
     "metadata": {},
     "output_type": "display_data"
    }
   ],
   "source": [
    "d = document(200, 200, 'pt')\n",
    "page = d.addpage()\n",
    "line_fig = shape().stroke(rgba(0, 0, 0, 255)).nofill().width(1)\n",
    "point_fig = shape().stroke(rgba(0, 0, 0, 255)).fill(rgba(255, 255, 255, 255)).width(1)\n",
    "page.place(line_fig.polyline(random_p))\n",
    "for pt in random_p.vertices:\n",
    "    page.place(point_fig.circle(*pt, 2))\n",
    "show(page)"
   ]
  },
  {
   "cell_type": "markdown",
   "metadata": {},
   "source": [
    "The `.resample()` method of a `Polyline` returns a new `Polyline` where each constituent line has been replaced with the specified number of points along that line:"
   ]
  },
  {
   "cell_type": "code",
   "execution_count": 22,
   "metadata": {},
   "outputs": [],
   "source": [
    "resampled = random_p.resample(4)"
   ]
  },
  {
   "cell_type": "code",
   "execution_count": 23,
   "metadata": {},
   "outputs": [
    {
     "data": {
      "image/svg+xml": [
       "<svg height=\"200pt\" version=\"1.1\" width=\"200pt\" xmlns=\"http://www.w3.org/2000/svg\" xmlns:xlink=\"http://www.w3.org/1999/xlink\">\n",
       "<title>Untitled</title>\n",
       "<polyline fill=\"none\" points=\"138.0408 42.6728 113.1033 68.2325 88.1659 93.7923 63.2284 119.352 38.2909 144.9117 54.9691 141.4873 71.6473 138.0629 88.3255 134.6386 105.0037 131.2142 102.2717 140.8137 99.5397 150.4133 96.8077 160.0128 94.0757 169.6124 112.4166 156.907 130.7576 144.2016 149.0986 131.4962 167.4395 118.7908 138.5302 118.2188 109.621 117.6468 80.7117 117.0749 51.8025 116.5029 62.8513 122.4062 73.9002 128.3096 84.949 134.213 95.9978 140.1164 114.0014 133.8913 132.005 127.6662 150.0086 121.4411 168.0122 115.2159 153.3632 107.4437 138.7143 99.6714 124.0653 91.8991 109.4164 84.1268 103.0791 84.8527 96.7418 85.5785 90.4046 86.3044 84.0673 87.0303 102.8695 79.5675 121.6717 72.1047 140.474 64.6419 159.2762 57.1792 140.3138 57.8479 121.3514 58.5166 102.389 59.1853\" stroke=\"rgba(0,0,0,1)\" stroke-miterlimit=\"10\"/>\n",
       "<circle cx=\"138.0408\" cy=\"42.6728\" fill=\"rgba(255,255,255,1)\" r=\"2\" stroke=\"rgba(0,0,0,1)\" stroke-miterlimit=\"10\"/>\n",
       "<circle cx=\"113.1033\" cy=\"68.2325\" fill=\"rgba(255,255,255,1)\" r=\"2\" stroke=\"rgba(0,0,0,1)\" stroke-miterlimit=\"10\"/>\n",
       "<circle cx=\"88.1659\" cy=\"93.7923\" fill=\"rgba(255,255,255,1)\" r=\"2\" stroke=\"rgba(0,0,0,1)\" stroke-miterlimit=\"10\"/>\n",
       "<circle cx=\"63.2284\" cy=\"119.352\" fill=\"rgba(255,255,255,1)\" r=\"2\" stroke=\"rgba(0,0,0,1)\" stroke-miterlimit=\"10\"/>\n",
       "<circle cx=\"38.2909\" cy=\"144.9117\" fill=\"rgba(255,255,255,1)\" r=\"2\" stroke=\"rgba(0,0,0,1)\" stroke-miterlimit=\"10\"/>\n",
       "<circle cx=\"54.9691\" cy=\"141.4873\" fill=\"rgba(255,255,255,1)\" r=\"2\" stroke=\"rgba(0,0,0,1)\" stroke-miterlimit=\"10\"/>\n",
       "<circle cx=\"71.6473\" cy=\"138.0629\" fill=\"rgba(255,255,255,1)\" r=\"2\" stroke=\"rgba(0,0,0,1)\" stroke-miterlimit=\"10\"/>\n",
       "<circle cx=\"88.3255\" cy=\"134.6386\" fill=\"rgba(255,255,255,1)\" r=\"2\" stroke=\"rgba(0,0,0,1)\" stroke-miterlimit=\"10\"/>\n",
       "<circle cx=\"105.0037\" cy=\"131.2142\" fill=\"rgba(255,255,255,1)\" r=\"2\" stroke=\"rgba(0,0,0,1)\" stroke-miterlimit=\"10\"/>\n",
       "<circle cx=\"102.2717\" cy=\"140.8137\" fill=\"rgba(255,255,255,1)\" r=\"2\" stroke=\"rgba(0,0,0,1)\" stroke-miterlimit=\"10\"/>\n",
       "<circle cx=\"99.5397\" cy=\"150.4133\" fill=\"rgba(255,255,255,1)\" r=\"2\" stroke=\"rgba(0,0,0,1)\" stroke-miterlimit=\"10\"/>\n",
       "<circle cx=\"96.8077\" cy=\"160.0128\" fill=\"rgba(255,255,255,1)\" r=\"2\" stroke=\"rgba(0,0,0,1)\" stroke-miterlimit=\"10\"/>\n",
       "<circle cx=\"94.0757\" cy=\"169.6124\" fill=\"rgba(255,255,255,1)\" r=\"2\" stroke=\"rgba(0,0,0,1)\" stroke-miterlimit=\"10\"/>\n",
       "<circle cx=\"112.4166\" cy=\"156.907\" fill=\"rgba(255,255,255,1)\" r=\"2\" stroke=\"rgba(0,0,0,1)\" stroke-miterlimit=\"10\"/>\n",
       "<circle cx=\"130.7576\" cy=\"144.2016\" fill=\"rgba(255,255,255,1)\" r=\"2\" stroke=\"rgba(0,0,0,1)\" stroke-miterlimit=\"10\"/>\n",
       "<circle cx=\"149.0986\" cy=\"131.4962\" fill=\"rgba(255,255,255,1)\" r=\"2\" stroke=\"rgba(0,0,0,1)\" stroke-miterlimit=\"10\"/>\n",
       "<circle cx=\"167.4395\" cy=\"118.7908\" fill=\"rgba(255,255,255,1)\" r=\"2\" stroke=\"rgba(0,0,0,1)\" stroke-miterlimit=\"10\"/>\n",
       "<circle cx=\"138.5302\" cy=\"118.2188\" fill=\"rgba(255,255,255,1)\" r=\"2\" stroke=\"rgba(0,0,0,1)\" stroke-miterlimit=\"10\"/>\n",
       "<circle cx=\"109.621\" cy=\"117.6468\" fill=\"rgba(255,255,255,1)\" r=\"2\" stroke=\"rgba(0,0,0,1)\" stroke-miterlimit=\"10\"/>\n",
       "<circle cx=\"80.7117\" cy=\"117.0749\" fill=\"rgba(255,255,255,1)\" r=\"2\" stroke=\"rgba(0,0,0,1)\" stroke-miterlimit=\"10\"/>\n",
       "<circle cx=\"51.8025\" cy=\"116.5029\" fill=\"rgba(255,255,255,1)\" r=\"2\" stroke=\"rgba(0,0,0,1)\" stroke-miterlimit=\"10\"/>\n",
       "<circle cx=\"62.8513\" cy=\"122.4062\" fill=\"rgba(255,255,255,1)\" r=\"2\" stroke=\"rgba(0,0,0,1)\" stroke-miterlimit=\"10\"/>\n",
       "<circle cx=\"73.9002\" cy=\"128.3096\" fill=\"rgba(255,255,255,1)\" r=\"2\" stroke=\"rgba(0,0,0,1)\" stroke-miterlimit=\"10\"/>\n",
       "<circle cx=\"84.949\" cy=\"134.213\" fill=\"rgba(255,255,255,1)\" r=\"2\" stroke=\"rgba(0,0,0,1)\" stroke-miterlimit=\"10\"/>\n",
       "<circle cx=\"95.9978\" cy=\"140.1164\" fill=\"rgba(255,255,255,1)\" r=\"2\" stroke=\"rgba(0,0,0,1)\" stroke-miterlimit=\"10\"/>\n",
       "<circle cx=\"114.0014\" cy=\"133.8913\" fill=\"rgba(255,255,255,1)\" r=\"2\" stroke=\"rgba(0,0,0,1)\" stroke-miterlimit=\"10\"/>\n",
       "<circle cx=\"132.005\" cy=\"127.6662\" fill=\"rgba(255,255,255,1)\" r=\"2\" stroke=\"rgba(0,0,0,1)\" stroke-miterlimit=\"10\"/>\n",
       "<circle cx=\"150.0086\" cy=\"121.4411\" fill=\"rgba(255,255,255,1)\" r=\"2\" stroke=\"rgba(0,0,0,1)\" stroke-miterlimit=\"10\"/>\n",
       "<circle cx=\"168.0122\" cy=\"115.2159\" fill=\"rgba(255,255,255,1)\" r=\"2\" stroke=\"rgba(0,0,0,1)\" stroke-miterlimit=\"10\"/>\n",
       "<circle cx=\"153.3632\" cy=\"107.4437\" fill=\"rgba(255,255,255,1)\" r=\"2\" stroke=\"rgba(0,0,0,1)\" stroke-miterlimit=\"10\"/>\n",
       "<circle cx=\"138.7143\" cy=\"99.6714\" fill=\"rgba(255,255,255,1)\" r=\"2\" stroke=\"rgba(0,0,0,1)\" stroke-miterlimit=\"10\"/>\n",
       "<circle cx=\"124.0653\" cy=\"91.8991\" fill=\"rgba(255,255,255,1)\" r=\"2\" stroke=\"rgba(0,0,0,1)\" stroke-miterlimit=\"10\"/>\n",
       "<circle cx=\"109.4164\" cy=\"84.1268\" fill=\"rgba(255,255,255,1)\" r=\"2\" stroke=\"rgba(0,0,0,1)\" stroke-miterlimit=\"10\"/>\n",
       "<circle cx=\"103.0791\" cy=\"84.8527\" fill=\"rgba(255,255,255,1)\" r=\"2\" stroke=\"rgba(0,0,0,1)\" stroke-miterlimit=\"10\"/>\n",
       "<circle cx=\"96.7418\" cy=\"85.5785\" fill=\"rgba(255,255,255,1)\" r=\"2\" stroke=\"rgba(0,0,0,1)\" stroke-miterlimit=\"10\"/>\n",
       "<circle cx=\"90.4046\" cy=\"86.3044\" fill=\"rgba(255,255,255,1)\" r=\"2\" stroke=\"rgba(0,0,0,1)\" stroke-miterlimit=\"10\"/>\n",
       "<circle cx=\"84.0673\" cy=\"87.0303\" fill=\"rgba(255,255,255,1)\" r=\"2\" stroke=\"rgba(0,0,0,1)\" stroke-miterlimit=\"10\"/>\n",
       "<circle cx=\"102.8695\" cy=\"79.5675\" fill=\"rgba(255,255,255,1)\" r=\"2\" stroke=\"rgba(0,0,0,1)\" stroke-miterlimit=\"10\"/>\n",
       "<circle cx=\"121.6717\" cy=\"72.1047\" fill=\"rgba(255,255,255,1)\" r=\"2\" stroke=\"rgba(0,0,0,1)\" stroke-miterlimit=\"10\"/>\n",
       "<circle cx=\"140.474\" cy=\"64.6419\" fill=\"rgba(255,255,255,1)\" r=\"2\" stroke=\"rgba(0,0,0,1)\" stroke-miterlimit=\"10\"/>\n",
       "<circle cx=\"159.2762\" cy=\"57.1792\" fill=\"rgba(255,255,255,1)\" r=\"2\" stroke=\"rgba(0,0,0,1)\" stroke-miterlimit=\"10\"/>\n",
       "<circle cx=\"140.3138\" cy=\"57.8479\" fill=\"rgba(255,255,255,1)\" r=\"2\" stroke=\"rgba(0,0,0,1)\" stroke-miterlimit=\"10\"/>\n",
       "<circle cx=\"121.3514\" cy=\"58.5166\" fill=\"rgba(255,255,255,1)\" r=\"2\" stroke=\"rgba(0,0,0,1)\" stroke-miterlimit=\"10\"/>\n",
       "<circle cx=\"102.389\" cy=\"59.1853\" fill=\"rgba(255,255,255,1)\" r=\"2\" stroke=\"rgba(0,0,0,1)\" stroke-miterlimit=\"10\"/>\n",
       "</svg>"
      ],
      "text/plain": [
       "<IPython.core.display.SVG object>"
      ]
     },
     "metadata": {},
     "output_type": "display_data"
    }
   ],
   "source": [
    "d = document(200, 200, 'pt')\n",
    "page = d.addpage()\n",
    "line_fig = shape().stroke(rgba(0, 0, 0, 255)).nofill().width(1)\n",
    "point_fig = shape().stroke(rgba(0, 0, 0, 255)).fill(rgba(255, 255, 255, 255)).width(1)\n",
    "page.place(line_fig.polyline(resampled))\n",
    "for pt in resampled.vertices:\n",
    "    page.place(point_fig.circle(*pt, 2))\n",
    "show(page)"
   ]
  },
  {
   "cell_type": "markdown",
   "metadata": {},
   "source": [
    "This is potentially helpful if you, e.g., want to apply a transformation to the lines in the polyline:"
   ]
  },
  {
   "cell_type": "code",
   "execution_count": 38,
   "metadata": {},
   "outputs": [],
   "source": [
    "resampled = random_p.resample(20)\n",
    "new_verts = Polyline(resampled.vertices + \n",
    "                     np.sin(resampled.vertices * 0.1) * 5 + \n",
    "                     np.cos(resampled.vertices * 0.1) * 5)"
   ]
  },
  {
   "cell_type": "code",
   "execution_count": 39,
   "metadata": {},
   "outputs": [
    {
     "data": {
      "image/svg+xml": [
       "<svg height=\"200pt\" version=\"1.1\" width=\"200pt\" xmlns=\"http://www.w3.org/2000/svg\" xmlns:xlink=\"http://www.w3.org/1999/xlink\">\n",
       "<title>Untitled</title>\n",
       "<polyline fill=\"none\" points=\"144.4008 36.0073 140.1168 43.1259 134.1118 51.4357 126.6338 60.1191 118.2896 68.2629 109.8969 75.0919 102.2855 80.1671 96.0945 83.4979 91.6173 85.5398 88.7294 87.0776 86.9194 89.0251 85.413 92.1915 83.3623 97.0742 80.0515 103.7318 75.0724 111.7691 68.4227 120.4382 60.5075 128.8295 52.0401 136.1046 43.8683 141.7105 36.7679 145.5208 31.2537 147.8684 34.7509 147.6161 39.0061 147.348 43.9179 147.062 49.3125 146.7563 54.9629 146.4292 60.6141 146.0788 66.0106 145.7037 70.9254 145.3024 75.1844 144.8736 78.6857 144.4161 81.4112 143.9288 83.428 143.4107 84.8815 142.8612 85.9793 142.2795 86.9681 141.6653 88.1064 141.0181 89.6367 140.3377 91.7578 139.6242 94.6037 138.8777 98.2283 138.0985 97.5815 140.2 96.9553 142.0418 96.3497 143.6268 95.7652 144.9674 95.2017 146.0848 94.6593 147.0085 94.1379 147.7751 93.6376 148.4269 93.1582 149.0107 92.6995 149.5755 92.2611 150.171 91.8429 150.846 91.4444 151.6462 91.0651 152.6128 90.7046 153.7807 90.3623 155.1777 90.0377 156.8228 89.73 158.7263 89.4385 160.8888 89.1625 163.3012 91.3337 160.1612 94.3578 157.4649 98.3205 155.2224 103.1827 153.4145 108.7854 151.994 114.8712 150.8892 121.1185 150.0076 127.1842 149.2427 132.7491 148.4804 137.561 147.6066 141.4677 146.514 144.4375 145.1098 146.5632 143.3208 148.0501 141.0988 149.1884 138.4233 150.3148 135.3029 151.7674 131.7748 153.8411 127.9024 156.748 123.7713 160.5893 119.4835 154.9626 119.2885 151.5125 119.0935 149.4807 118.8984 147.6484 118.7032 144.7314 118.508 139.7986 118.3128 132.5738 118.1175 123.5261 117.9222 113.7173 117.727 104.4565 117.5317 96.8745 117.3364 91.5567 117.1412 88.3522 116.9459 86.423 116.7508 84.5168 116.5557 81.3736 116.3606 76.1357 116.1657 68.6261 115.9708 59.4066 115.7761 49.5947 115.5814 53.3305 117.5943 57.0995 119.6085 60.8258 121.6123 64.4357 123.5942 67.861 125.5432 71.0428 127.4485 73.9336 129.3001 76.5004 131.0885 78.7258 132.8054 80.6091 134.4432 82.1661 135.9956 83.4285 137.4574 84.4425 138.8248 85.2663 140.095 85.9671 141.267 86.6184 142.3407 87.296 143.3176 88.0743 144.2007 89.0231 144.994 90.2036 145.703 92.7479 144.953 96.1707 144.1089 100.4951 143.1644 105.628 142.1149 111.3731 140.9574 117.4553 139.6905 123.5564 138.3145 129.3555 136.8315 134.5709 135.2452 138.9953 133.5608 142.5232 131.7851 145.1639 129.9265 147.0404 127.9943 148.3741 125.9991 149.4555 123.9527 150.6079 121.8674 152.1453 119.7563 154.3322 117.6326 157.35 115.5101 161.2735 113.4024 158.0121 110.8117 155.3532 108.2897 153.2738 105.8597 151.7014 103.543 150.5203 101.3577 149.5815 99.3193 148.7153 97.4392 147.7458 95.7255 146.506 94.1819 144.8519 92.8081 142.6747 91.5999 139.9102 90.5488 136.5445 89.6427 132.6146 88.866 128.2058 88.1999 123.4442 87.6231 118.4857 87.1119 113.5035 86.6411 108.6722 86.1847 104.1541 85.7161 102.3318 85.7611 100.6029 85.8058 98.9746 85.8501 97.4529 85.8943 96.0418 85.9381 94.7436 85.9817 93.5587 86.0252 92.486 86.0684 91.5222 86.1115 90.6624 86.1544 89.9002 86.1972 89.2274 86.2399 88.6345 86.2825 88.1107 86.3251 87.6439 86.3676 87.2215 86.4101 86.8298 86.4527 86.4548 86.4952 86.0822 86.5378 85.6976 86.5805 86.8173 86.1423 88.0782 85.6907 89.8296 85.2024 92.3523 84.6553 95.8193 84.0282 100.2715 83.3019 105.6124 82.4594 111.621 81.4862 117.9831 80.3708 124.3352 79.1047 130.3151 77.683 135.6126 76.1041 140.0129 74.3699 143.4266 72.4857 145.9021 70.4603 147.619 68.3056 148.863 66.0362 149.9856 63.6694 151.3555 61.2247 153.3069 58.7232 151.6964 58.9015 150.4939 59.0797 149.54 59.2577 148.6532 59.4355 147.646 59.613 146.3416 59.7904 144.5897 59.9676 142.2797 60.1445 139.3508 60.3212 135.7972 60.4976 131.6686 60.6738 127.0661 60.8498 122.1326 61.0254 117.0409 61.2008 111.9775 61.3759 107.1265 61.5507 102.6532 61.7252 98.6892 61.8994 95.3208 62.0733\" stroke=\"rgba(0,0,0,1)\" stroke-miterlimit=\"10\"/>\n",
       "</svg>"
      ],
      "text/plain": [
       "<IPython.core.display.SVG object>"
      ]
     },
     "metadata": {},
     "output_type": "display_data"
    }
   ],
   "source": [
    "d = document(200, 200, 'pt')\n",
    "page = d.addpage()\n",
    "line_fig = shape().stroke(rgba(0, 0, 0, 255)).nofill().width(1)\n",
    "point_fig = shape().stroke(rgba(0, 0, 0, 255)).fill(rgba(255, 255, 255, 255)).width(1)\n",
    "page.place(line_fig.polyline(new_verts))\n",
    "# uncomment to see positions of vertices\n",
    "# for pt in new_verts.vertices:\n",
    "#     page.place(point_fig.circle(*pt, 2))\n",
    "show(page)"
   ]
  },
  {
   "cell_type": "markdown",
   "metadata": {},
   "source": [
    "## Catmull-Rom splines from polylines\n",
    "\n",
    "The polyline's `.catmull_spline()` method returns a `Spline` object composed of `Bezier` objects that result from drawing a Catmull-Rom spline through the polyline:"
   ]
  },
  {
   "cell_type": "code",
   "execution_count": 40,
   "metadata": {},
   "outputs": [],
   "source": [
    "spline = random_p.catmull_spline(tightness=0.1)"
   ]
  },
  {
   "cell_type": "code",
   "execution_count": 41,
   "metadata": {},
   "outputs": [
    {
     "data": {
      "text/plain": [
       "9"
      ]
     },
     "execution_count": 41,
     "metadata": {},
     "output_type": "execute_result"
    }
   ],
   "source": [
    "len(spline.beziers)"
   ]
  },
  {
   "cell_type": "code",
   "execution_count": 42,
   "metadata": {},
   "outputs": [],
   "source": [
    "path = spline.to_path()"
   ]
  },
  {
   "cell_type": "code",
   "execution_count": 43,
   "metadata": {},
   "outputs": [
    {
     "data": {
      "image/svg+xml": [
       "<svg height=\"200pt\" version=\"1.1\" width=\"200pt\" xmlns=\"http://www.w3.org/2000/svg\" xmlns:xlink=\"http://www.w3.org/1999/xlink\">\n",
       "<title>Untitled</title>\n",
       "<path d=\"M38.2909,144.9117 C33.3354,158.1929,96.636,127.5091,105.0037,131.2142 M105.0037,131.2142 C113.3714,134.9193,84.7103,171.4759,94.0757,169.6124 M94.0757,169.6124 C103.4411,167.7488,173.7805,126.7573,167.4395,118.7908 M167.4395,118.7908 C161.0985,110.8244,62.5187,113.304,51.8025,116.5029 M51.8025,116.5029 C41.0862,119.7017,78.5664,140.3094,95.9978,140.1164 M95.9978,140.1164 C113.4293,139.9233,165.9994,123.6144,168.0122,115.2159 M168.0122,115.2159 C170.025,106.8175,122.0081,88.3547,109.4164,84.1268 M109.4164,84.1268 C96.8247,79.899,76.5883,91.0724,84.0673,87.0303 M84.0673,87.0303 C91.5462,82.9881,156.5279,61.3559,159.2762,57.1792\" fill=\"none\" stroke=\"rgba(0,0,255,1)\" stroke-miterlimit=\"10\" stroke-width=\"2\"/>\n",
       "</svg>"
      ],
      "text/plain": [
       "<IPython.core.display.SVG object>"
      ]
     },
     "metadata": {},
     "output_type": "display_data"
    }
   ],
   "source": [
    "d = document(200, 200, 'pt')\n",
    "page = d.addpage()\n",
    "curve_fig = shape().stroke(rgba(0, 0, 255, 255)).nofill().width(2)\n",
    "page.place(curve_fig.path(path))\n",
    "show(page)"
   ]
  },
  {
   "cell_type": "markdown",
   "metadata": {},
   "source": [
    "The `.smooth_path()` function returns a `Path` directly."
   ]
  },
  {
   "cell_type": "code",
   "execution_count": 44,
   "metadata": {},
   "outputs": [],
   "source": [
    "path = random_p.augment().smooth_path(tightness=0.1)"
   ]
  },
  {
   "cell_type": "code",
   "execution_count": 45,
   "metadata": {},
   "outputs": [
    {
     "data": {
      "image/svg+xml": [
       "<svg height=\"200pt\" version=\"1.1\" width=\"200pt\" xmlns=\"http://www.w3.org/2000/svg\" xmlns:xlink=\"http://www.w3.org/1999/xlink\">\n",
       "<title>Untitled</title>\n",
       "<path d=\"M138.0408,42.6728 C123.0783,58.0087,43.2465,131.6305,38.2909,144.9117 M38.2909,144.9117 C33.3354,158.1929,96.636,127.5091,105.0037,131.2142 M105.0037,131.2142 C113.3714,134.9193,84.7103,171.4759,94.0757,169.6124 M94.0757,169.6124 C103.4411,167.7488,173.7805,126.7573,167.4395,118.7908 M167.4395,118.7908 C161.0985,110.8244,62.5187,113.304,51.8025,116.5029 M51.8025,116.5029 C41.0862,119.7017,78.5664,140.3094,95.9978,140.1164 M95.9978,140.1164 C113.4293,139.9233,165.9994,123.6144,168.0122,115.2159 M168.0122,115.2159 C170.025,106.8175,122.0081,88.3547,109.4164,84.1268 M109.4164,84.1268 C96.8247,79.899,76.5883,91.0724,84.0673,87.0303 M84.0673,87.0303 C91.5462,82.9881,156.5279,61.3559,159.2762,57.1792 M159.2762,57.1792 C162.0244,53.0024,110.922,58.8843,102.389,59.1853\" fill=\"none\" stroke=\"rgba(0,0,255,1)\" stroke-miterlimit=\"10\" stroke-width=\"2\"/>\n",
       "</svg>"
      ],
      "text/plain": [
       "<IPython.core.display.SVG object>"
      ]
     },
     "metadata": {},
     "output_type": "display_data"
    }
   ],
   "source": [
    "d = document(200, 200, 'pt')\n",
    "page = d.addpage()\n",
    "curve_fig = shape().stroke(rgba(0, 0, 255, 255)).nofill().width(2)\n",
    "page.place(curve_fig.path(path))\n",
    "show(page)"
   ]
  },
  {
   "cell_type": "code",
   "execution_count": 46,
   "metadata": {},
   "outputs": [
    {
     "data": {
      "image/svg+xml": [
       "<svg height=\"200pt\" version=\"1.1\" width=\"200pt\" xmlns=\"http://www.w3.org/2000/svg\" xmlns:xlink=\"http://www.w3.org/1999/xlink\">\n",
       "<title>Untitled</title>\n",
       "<polyline fill=\"none\" points=\"138.0408 42.6728 38.2909 144.9117 105.0037 131.2142 94.0757 169.6124 167.4395 118.7908 51.8025 116.5029 95.9978 140.1164 168.0122 115.2159 109.4164 84.1268 84.0673 87.0303 159.2762 57.1792 102.389 59.1853\" stroke=\"rgba(0,0,0,1)\" stroke-miterlimit=\"10\"/>\n",
       "<path d=\"M138.0408,42.6728 C123.0783,58.0087,43.2465,131.6305,38.2909,144.9117 M38.2909,144.9117 C33.3354,158.1929,96.636,127.5091,105.0037,131.2142 M105.0037,131.2142 C113.3714,134.9193,84.7103,171.4759,94.0757,169.6124 M94.0757,169.6124 C103.4411,167.7488,173.7805,126.7573,167.4395,118.7908 M167.4395,118.7908 C161.0985,110.8244,62.5187,113.304,51.8025,116.5029 M51.8025,116.5029 C41.0862,119.7017,78.5664,140.3094,95.9978,140.1164 M95.9978,140.1164 C113.4293,139.9233,165.9994,123.6144,168.0122,115.2159 M168.0122,115.2159 C170.025,106.8175,122.0081,88.3547,109.4164,84.1268 M109.4164,84.1268 C96.8247,79.899,76.5883,91.0724,84.0673,87.0303 M84.0673,87.0303 C91.5462,82.9881,156.5279,61.3559,159.2762,57.1792 M159.2762,57.1792 C162.0244,53.0024,110.922,58.8843,102.389,59.1853\" fill=\"none\" stroke=\"rgba(0,0,255,1)\" stroke-miterlimit=\"10\" stroke-width=\"2\"/>\n",
       "<circle cx=\"138.0408\" cy=\"42.6728\" fill=\"rgba(255,255,255,1)\" r=\"2\" stroke=\"rgba(0,0,0,1)\" stroke-miterlimit=\"10\"/>\n",
       "<circle cx=\"38.2909\" cy=\"144.9117\" fill=\"rgba(255,255,255,1)\" r=\"2\" stroke=\"rgba(0,0,0,1)\" stroke-miterlimit=\"10\"/>\n",
       "<circle cx=\"105.0037\" cy=\"131.2142\" fill=\"rgba(255,255,255,1)\" r=\"2\" stroke=\"rgba(0,0,0,1)\" stroke-miterlimit=\"10\"/>\n",
       "<circle cx=\"94.0757\" cy=\"169.6124\" fill=\"rgba(255,255,255,1)\" r=\"2\" stroke=\"rgba(0,0,0,1)\" stroke-miterlimit=\"10\"/>\n",
       "<circle cx=\"167.4395\" cy=\"118.7908\" fill=\"rgba(255,255,255,1)\" r=\"2\" stroke=\"rgba(0,0,0,1)\" stroke-miterlimit=\"10\"/>\n",
       "<circle cx=\"51.8025\" cy=\"116.5029\" fill=\"rgba(255,255,255,1)\" r=\"2\" stroke=\"rgba(0,0,0,1)\" stroke-miterlimit=\"10\"/>\n",
       "<circle cx=\"95.9978\" cy=\"140.1164\" fill=\"rgba(255,255,255,1)\" r=\"2\" stroke=\"rgba(0,0,0,1)\" stroke-miterlimit=\"10\"/>\n",
       "<circle cx=\"168.0122\" cy=\"115.2159\" fill=\"rgba(255,255,255,1)\" r=\"2\" stroke=\"rgba(0,0,0,1)\" stroke-miterlimit=\"10\"/>\n",
       "<circle cx=\"109.4164\" cy=\"84.1268\" fill=\"rgba(255,255,255,1)\" r=\"2\" stroke=\"rgba(0,0,0,1)\" stroke-miterlimit=\"10\"/>\n",
       "<circle cx=\"84.0673\" cy=\"87.0303\" fill=\"rgba(255,255,255,1)\" r=\"2\" stroke=\"rgba(0,0,0,1)\" stroke-miterlimit=\"10\"/>\n",
       "<circle cx=\"159.2762\" cy=\"57.1792\" fill=\"rgba(255,255,255,1)\" r=\"2\" stroke=\"rgba(0,0,0,1)\" stroke-miterlimit=\"10\"/>\n",
       "<circle cx=\"102.389\" cy=\"59.1853\" fill=\"rgba(255,255,255,1)\" r=\"2\" stroke=\"rgba(0,0,0,1)\" stroke-miterlimit=\"10\"/>\n",
       "</svg>"
      ],
      "text/plain": [
       "<IPython.core.display.SVG object>"
      ]
     },
     "metadata": {},
     "output_type": "display_data"
    }
   ],
   "source": [
    "d = document(200, 200, 'pt')\n",
    "page = d.addpage()\n",
    "line_fig = shape().stroke(rgba(0, 0, 0, 255)).nofill().width(1)\n",
    "curve_fig = shape().stroke(rgba(0, 0, 255, 255)).nofill().width(2)\n",
    "point_fig = shape().stroke(rgba(0, 0, 0, 255)).fill(rgba(255, 255, 255, 255)).width(1)\n",
    "page.place(line_fig.polyline(random_p))\n",
    "page.place(curve_fig.path(path))\n",
    "for pt in random_p.vertices:\n",
    "    page.place(point_fig.circle(*pt, 2))\n",
    "show(page)"
   ]
  },
  {
   "cell_type": "markdown",
   "metadata": {},
   "source": [
    "## Offsets of splines\n",
    "\n",
    "The `Spline` class has a `.tangent_offsets()` method that returns a polyline from the concatenated result of calling `.offsets()` on each curve in the spline. The `distances` parameter sets the offset distance along the spline, and the `samples_per` parameter specifies the number of points to sample along each curve:"
   ]
  },
  {
   "cell_type": "code",
   "execution_count": 47,
   "metadata": {},
   "outputs": [],
   "source": [
    "polyline = spline.tangent_offsets(\n",
    "    distances=np.sin(np.linspace(0, np.pi*50, 500))*6,\n",
    "    samples_per=48\n",
    ")\n",
    "curve_path = spline.to_path()"
   ]
  },
  {
   "cell_type": "code",
   "execution_count": 48,
   "metadata": {},
   "outputs": [
    {
     "data": {
      "image/svg+xml": [
       "<svg height=\"200pt\" version=\"1.1\" width=\"200pt\" xmlns=\"http://www.w3.org/2000/svg\" xmlns:xlink=\"http://www.w3.org/1999/xlink\">\n",
       "<title>Untitled</title>\n",
       "<polyline fill=\"none\" points=\"38.2909 144.9117 35.9792 145.3163 34.0761 146.6311 33.2704 148.9246 34.0666 151.3537 35.9539 152.7175 37.9914 152.6657 39.7116 151.4679 41.0326 149.5918 42.0542 147.4387 42.9222 145.3293 43.7827 143.532 44.7648 142.2525 45.9756 141.6505 47.4881 141.7952 49.3072 142.5574 51.4075 143.7884 53.729 145.28 56.1866 146.7888 58.6827 148.065 61.0972 148.811 63.3603 148.8966 65.4215 148.2426 67.2627 146.8552 68.9001 144.8261 70.381 142.3225 71.7768 139.5689 73.1877 136.864 74.6998 134.4653 76.3816 132.5843 78.2768 131.3704 80.3971 130.8948 82.7271 131.1636 85.2119 132.0774 87.7458 133.3888 90.2307 134.8646 92.5685 136.2551 94.6751 137.3245 96.4915 137.8786 97.9723 137.6999 99.1612 136.8345 100.1217 135.35 100.9506 133.3934 101.7696 131.18 102.7146 128.9761 103.9195 127.1198 105.4782 125.9637 107.377 125.8544 107.3482 125.9194 108.4521 127.5049 108.557 129.6087 107.5527 131.5911 105.8034 133.0019 103.8655 133.7839 102.1775 134.1458 101.0228 134.3595 100.545 134.6634 100.7733 135.2266 101.7088 136.1587 103.101 137.4513 104.7304 139.0442 106.3554 140.8322 107.7363 142.6835 108.6608 144.4619 108.9175 146.0226 108.4297 147.2807 107.2366 148.2146 105.429 148.8406 103.1664 149.2215 100.6584 149.4573 98.1499 149.6752 95.919 150.0257 94.1593 150.6169 93.0101 151.5253 92.5387 152.7839 92.7332 154.3766 93.5042 156.24 94.7156 158.2804 96.0934 160.3323 97.405 162.2557 98.4306 163.9265 98.9863 165.2529 98.9447 166.1887 98.2011 166.7242 96.8153 166.9466 94.9429 167.0003 92.7705 167.057 90.5378 167.3164 88.533 167.9887 87.1309 169.2521 86.8301 171.0944 87.9637 173.0153 90.2116 173.9236 92.3513 173.2257 93.5875 171.4303 93.9989 169.2265 93.591 167.1765 93.5612 165.3781 93.7801 164.0481 94.3989 163.2881 95.4886 163.1331 97.0596 163.542 99.0816 164.4252 101.4462 165.5583 104.0165 166.6888 106.6544 167.584 109.2256 168.0325 111.6155 167.8689 113.7311 166.9736 115.5142 165.293 117.017 162.97 118.3033 160.158 119.472 157.0625 120.6443 153.9171 121.9481 150.9558 123.5396 148.448 125.4904 146.5109 127.8401 145.2038 130.5839 144.5102 133.6687 144.3366 136.9979 144.5243 140.4381 144.8658 143.8147 145.1009 146.9721 145.0146 149.779 144.4415 152.137 143.2792 153.9925 141.5006 155.3324 139.1447 156.1983 136.3299 156.7333 133.3049 157.0727 130.2925 157.3675 127.5158 157.7675 125.1693 158.4051 123.3943 159.4397 122.3175 160.8724 121.8541 162.6872 121.8719 164.8249 122.1649 167.1772 122.4577 169.5802 122.4177 171.7436 121.6705 173.1993 119.9493 173.341 117.4606 171.8952 115.2443 171.1519 115.8359 168.7978 115.7435 166.6768 116.7863 164.7897 118.3153 163.0581 119.8575 161.4008 121.0879 159.7544 121.7702 158.0661 121.7582 156.2907 121.0023 154.3975 119.4906 152.3434 117.456 150.1074 115.1339 147.6813 112.7867 145.067 110.6819 142.276 109.0606 139.325 108.1572 136.2398 108.0724 133.05 108.7575 129.7827 110.1092 126.4619 111.9453 123.1075 114.0265 119.734 116.0769 116.351 117.7795 112.9626 118.9301 109.5703 119.3859 106.1747 119.0908 102.7771 118.082 99.3811 116.4859 95.9941 114.4876 92.6291 112.4052 89.3029 110.5129 86.0355 109.0565 82.849 108.2299 79.7658 108.1516 76.8091 108.8951 73.996 110.3656 71.3368 112.3481 68.8379 114.6102 66.5004 116.887 64.3201 118.9125 62.2872 120.4357 60.384 121.2184 58.6029 121.2427 56.932 120.5329 55.3595 119.2045 53.8703 117.4525 52.4354 115.5333 50.9916 113.7863 50.5156 112.1916 48.8913 111.6487 47.3429 112.1105 46.2616 113.585 46.1665 115.6791 47.3321 117.5721 49.3485 118.5379 51.5151 118.5359 53.3699 117.9849 54.716 117.3585 55.51 117.0223 55.7759 117.2202 55.5659 118.0979 55.0767 119.585 54.4636 121.5639 53.8882 123.8478 53.5037 126.2095 53.4412 128.4112 53.8357 130.1782 54.7151 131.3716 56.0631 131.9222 57.8235 131.8358 59.9015 131.2004 62.1758 130.1754 64.509 128.9789 66.7512 127.8858 68.7925 127.1285 70.5597 126.8922 72.0199 127.2977 73.1823 128.3866 74.0908 130.1244 74.8187 132.4006 75.4964 134.9439 76.2277 137.5095 77.1035 139.8451 78.1901 141.7207 79.5207 142.9561 81.1132 143.3708 82.9027 143.0148 84.8085 141.9951 86.7388 140.4808 88.5998 138.6993 90.3098 136.909 91.808 135.401 93.0736 134.4308 94.1376 134.1212 95.0645 134.53 95.948 135.6174 95.9664 137.2816 97.1213 139.2985 98.5102 141.376 100.0744 143.2094 101.744 144.5581 103.4489 145.2384 105.128 145.1448 106.738 144.2615 108.2486 142.6134 109.6785 140.441 111.0623 137.9945 112.4496 135.5359 113.8991 133.3239 115.4707 131.583 117.2261 130.5192 119.2025 130.2204 121.3949 130.6111 123.7832 131.5728 126.3225 132.916 128.9476 134.4028 131.578 135.7697 134.1126 136.7141 136.4815 137.063 138.6275 136.7011 140.5175 135.599 142.1467 133.8167 143.5399 131.4957 144.7463 128.8346 145.8603 126.1355 146.9718 123.6588 148.1676 121.627 149.5233 120.2058 151.0936 119.484 152.9196 119.4971 154.9871 120.1408 157.2241 121.1889 159.5478 122.4124 161.8512 123.5623 164.0127 124.4011 165.9011 124.7253 167.3551 124.3483 168.314 123.3097 168.7158 121.6957 168.5326 119.6902 167.7777 117.5656 166.5189 115.6685 164.9461 114.4055 163.398 114.1101 162.4741 113.8887 162.1661 114.7183 162.7804 115.2764 164.0215 115.0817 165.5166 114.0376 166.9175 112.3287 167.974 110.265 168.5468 108.1579 168.5583 106.2865 167.9834 104.8685 166.8392 104.0479 165.1571 103.9195 163.1023 104.3489 160.808 105.1876 158.4159 106.2297 156.0621 107.2395 153.865 107.9818 151.9453 108.1946 150.339 107.7571 149.0378 106.6352 148.0028 104.8657 147.1616 102.5669 146.4184 99.9244 145.6616 97.1767 144.7669 94.6097 143.6447 92.4523 142.2347 90.8794 140.5107 89.9955 138.4832 89.8219 136.1957 90.2987 133.7153 91.3036 131.1721 92.5528 128.674 93.801 126.3229 94.8054 124.204 95.354 122.3768 95.2921 120.8931 94.4778 119.7224 92.9789 118.8086 90.9331 118.08 88.5261 117.4504 85.9909 116.8296 83.5808 116.1249 81.5661 115.261 80.1828 114.2183 79.5213 112.9999 79.615 111.6413 80.4103 110.2069 81.7724 109.5416 83.7538 108.1335 85.5651 106.9665 87.2312 106.033 88.4925 105.2815 89.1493 104.6339 89.0876 104.004 88.2922 103.3158 86.8038 102.512 84.8659 101.5736 82.747 100.5161 80.7183 99.3825 79.0411 98.2342 77.934 97.1437 77.584 96.1769 78.0695 95.3666 79.2822 94.7251 81.08 94.2358 83.2527 93.8553 85.5476 93.5193 87.6971 93.1364 89.3904 92.6413 90.4707 91.9793 90.8369 91.1201 90.4757 90.0637 89.4622 88.8422 87.9505 87.5158 86.1514 86.1849 84.3622 84.9473 82.8379 83.8937 81.7896 83.0983 81.3684 82.6087 81.6478 82.4491 82.6428 82.5932 84.2478 82.9547 86.2244 83.4404 88.3417 83.9399 90.3538 84.3331 92.0302 84.4785 93.1875 84.0306 93.6773 76.9349 87.7003 80.0472 84.2625 81.2398 85.5352 82.4455 87.2229 83.708 88.9913 84.9251 90.5453 85.9878 91.6417 86.8206 92.1245 86.8543 92.187 86.8746 91.4067 86.8908 89.897 86.9313 87.8234 87.0708 85.44 87.3989 83.0397 87.9888 80.875 88.9001 79.1624 90.1715 78.0575 91.8145 77.6392 93.8347 77.9625 96.1433 78.8225 98.6611 80.0301 101.2946 81.3511 103.9459 82.5344 106.5227 83.3424 108.9279 83.5231 111.1173 82.9707 113.0843 81.6858 114.8459 79.7354 116.4469 77.2661 117.9547 74.4872 119.4534 71.6546 121.0426 69.0645 122.7955 66.9385 124.7652 65.4391 126.9777 64.6521 129.4285 64.5767 132.082 65.126 134.8839 66.1628 137.7179 67.3863 140.4844 68.5464 143.0846 69.4031 145.4317 69.7562 147.459 69.4692 149.1051 68.4308 150.3814 66.7231 151.3319 64.5127 152.016 62.0029 152.5119 59.4373 152.9083 57.0706 153.3052 55.1613 153.8036 53.9333 154.4453 53.4452 155.2676 53.6973 156.2975 54.5902 157.5825 55.9059 159.2762 57.1792\" stroke=\"rgba(255,40,40,1)\" stroke-miterlimit=\"10\" stroke-width=\"2\"/>\n",
       "<path d=\"M38.2909,144.9117 C33.3354,158.1929,96.636,127.5091,105.0037,131.2142 M105.0037,131.2142 C113.3714,134.9193,84.7103,171.4759,94.0757,169.6124 M94.0757,169.6124 C103.4411,167.7488,173.7805,126.7573,167.4395,118.7908 M167.4395,118.7908 C161.0985,110.8244,62.5187,113.304,51.8025,116.5029 M51.8025,116.5029 C41.0862,119.7017,78.5664,140.3094,95.9978,140.1164 M95.9978,140.1164 C113.4293,139.9233,165.9994,123.6144,168.0122,115.2159 M168.0122,115.2159 C170.025,106.8175,122.0081,88.3547,109.4164,84.1268 M109.4164,84.1268 C96.8247,79.899,76.5883,91.0724,84.0673,87.0303 M84.0673,87.0303 C91.5462,82.9881,156.5279,61.3559,159.2762,57.1792\" fill=\"none\" stroke=\"rgba(128,128,255,1)\" stroke-miterlimit=\"10\"/>\n",
       "</svg>"
      ],
      "text/plain": [
       "<IPython.core.display.SVG object>"
      ]
     },
     "metadata": {},
     "output_type": "display_data"
    }
   ],
   "source": [
    "d = document(200, 200, 'pt')\n",
    "page = d.addpage()\n",
    "polyline_fig = shape().stroke(rgba(255, 40, 40, 255)).width(2)\n",
    "curve_fig = shape().stroke(rgba(128, 128, 255, 255))\n",
    "page.place(polyline_fig.polyline(polyline))\n",
    "page.place(curve_fig.path(curve_path))\n",
    "show(page)"
   ]
  },
  {
   "cell_type": "markdown",
   "metadata": {},
   "source": [
    "The `.tangent_offset_polygon()` works the same way, but also includes a polyline drawn with the same parameters on the other side of the curve:"
   ]
  },
  {
   "cell_type": "code",
   "execution_count": 49,
   "metadata": {},
   "outputs": [],
   "source": [
    "poly = spline.tangent_offset_polygon(\n",
    "    thicknesses=[2, 8, 2],\n",
    "    samples_per=12)"
   ]
  },
  {
   "cell_type": "code",
   "execution_count": 50,
   "metadata": {},
   "outputs": [
    {
     "data": {
      "image/svg+xml": [
       "<svg height=\"200pt\" version=\"1.1\" width=\"200pt\" xmlns=\"http://www.w3.org/2000/svg\" xmlns:xlink=\"http://www.w3.org/1999/xlink\">\n",
       "<title>Untitled</title>\n",
       "<polygon fill=\"rgba(40,40,40,1)\" points=\"39.2278 145.2612 39.2551 146.7262 41.6085 147.1546 46.7272 146.4141 53.6935 144.5524 61.8685 141.9147 70.6761 138.8557 79.5569 135.7288 87.9618 132.8857 95.3591 130.675 101.2822 129.446 105.6583 129.7358 105.681 129.6846 108.1022 132.5692 108.0982 136.4094 106.8294 140.7885 104.7655 145.6755 102.2447 150.836 99.6024 155.9721 97.1805 160.7584 95.3318 164.8314 94.4214 167.6805 94.257 167.9685 93.6289 167.3667 93.6179 167.3117 97.0821 165.9849 103.2907 162.9576 111.3387 158.6182 120.5634 153.3088 130.3295 147.3621 140.006 141.1103 148.959 134.8894 156.5421 129.0499 162.0708 123.9973 164.7541 120.4634 165.1215 120.6358 165.0777 120.6708 162.7177 119.8274 155.505 118.5268 145.1028 117.5858 132.4834 117.0175 118.5042 116.7878 103.9959 116.8551 89.7811 117.1762 76.6822 117.7071 65.5293 118.4023 57.1896 119.2101 52.8424 119.9865 52.8584 120.0402 53.4835 119.2182 53.6585 117.9092 55.0464 119.4153 58.2079 121.862 62.6618 124.64 67.992 127.5252 73.8565 130.3151 79.9436 132.7726 85.9095 134.7179 91.3885 135.9811 95.9569 136.425 95.9576 136.4811 101.1093 136.1311 107.8109 135.0971 115.5593 133.4767 123.9251 131.3797 132.5009 128.9174 140.8856 126.2023 148.6773 123.3494 155.4652 120.4816 160.8111 117.7484 164.1945 115.4197 165.0766 114.5124 165.1311 114.5255 164.9323 114.254 162.8251 111.9626 158.725 108.9469 153.1657 105.6374 146.6011 102.2204 139.4463 98.8304 132.1012 95.587 124.9593 92.6049 118.4116 89.9964 112.8491 87.8737 108.6697 86.3506 108.6876 86.2975 105.5471 85.5496 102.0578 85.341 98.4076 85.5859 94.7857 86.1705 91.3732 86.9665 88.3435 87.8398 85.8638 88.6544 84.0921 89.2755 83.0904 89.6029 81.8439 86.2696 83.2719 85.5586 83.2985 85.6079 86.8504 84.0741 92.5955 81.885 100.0879 79.1496 108.8028 76.0196 118.2045 72.6513 127.7545 69.2022 136.9126 65.8306 145.1367 62.6956 151.8794 59.9589 156.5718 57.7955 158.4408 56.6295 160.1116 57.7288 157.5755 59.6539 152.7705 61.9969 146.0028 64.8656 137.7831 68.1193 128.6436 71.6037 119.1217 75.1619 109.7567 78.6362 101.0895 81.8682 93.6641 84.6982 88.0351 86.962 84.836 88.4526 84.8627 88.502 83.5324 89.2872 81.9575 86.2173 82.7384 85.8512 84.5415 85.0979 87.1101 84.1331 90.2833 83.0984 93.9096 82.1336 97.8435 81.3806 101.9473 80.9872 106.0915 81.1156 110.1452 81.9562 110.1631 81.903 114.4801 83.3554 120.1568 85.4008 126.8207 87.934 134.0923 90.8481 141.5921 94.0364 148.9433 97.3943 155.7753 100.8225 161.7327 104.2364 166.499 107.6033 169.8375 111.1344 170.8932 115.9064 170.9477 115.9195 168.3537 119.9494 164.0197 123.1256 158.1795 126.2487 151.0851 129.3719 143.0711 132.428 134.4992 135.3233 125.7402 137.9563 117.1655 140.2227 109.1403 142.0173 102.008 143.2333 96.0381 143.7517 96.0387 143.8077 90.2075 143.3828 83.9138 142.0589 77.3493 140.0432 70.7635 137.5102 64.4279 134.6248 58.6462 131.4942 53.6916 128.2604 49.7632 125.0439 46.9952 121.5799 46.5636 116.3382 50.7466 112.9655 50.7626 113.0192 56.3469 112.101 65.0285 111.3734 76.3633 110.7798 89.5946 110.3563 103.9286 110.1451 118.564 110.1899 132.6997 110.5352 145.5426 111.2271 156.3263 112.3192 164.3994 113.9123 169.8013 116.9109 169.7575 116.9458 169.9881 122.9927 166.1711 127.9581 160.0768 133.3789 152.1555 139.3365 142.9637 145.5858 133.096 151.8268 123.1596 157.7452 113.7646 163.0223 105.5168 167.3406 98.9944 170.3916 94.5335 171.913 94.5225 171.858 90.5588 170.4746 90.1534 166.8134 91.4199 163.1881 93.4892 158.9042 96.0498 154.0936 98.7778 149.0354 101.3385 144.0467 103.3904 139.4723 104.5953 135.7201 104.7461 133.4021 104.3264 132.7439 104.3491 132.6926 101.6222 132.5489 96.105 133.5905 88.8354 135.648 80.4574 138.3643 71.5501 141.3816 62.6749 144.3452 54.383 146.9019 47.2091 148.7003 41.6248 149.3789 37.8233 148.279 37.354 144.5621\"/>\n",
       "</svg>"
      ],
      "text/plain": [
       "<IPython.core.display.SVG object>"
      ]
     },
     "metadata": {},
     "output_type": "display_data"
    }
   ],
   "source": [
    "d = document(200, 200, 'pt')\n",
    "page = d.addpage()\n",
    "curve_fig = shape().fill(rgba(40, 40, 40, 255)).nostroke()\n",
    "page.place(curve_fig.polygon(poly))\n",
    "show(page)"
   ]
  },
  {
   "cell_type": "markdown",
   "metadata": {},
   "source": [
    "## Putting everything together\n",
    "\n",
    "The `.fancy_curve()` method of a `Polyline` object returns a `Polyline` that results from converting the `Polyline` object to a spline (with Catmull-Rom), then calling `.tangent_offset_polygon()` on the resulting spline."
   ]
  },
  {
   "cell_type": "code",
   "execution_count": 51,
   "metadata": {},
   "outputs": [],
   "source": [
    "pts = [[np.random.normal(300, 100), np.random.normal(300, 100)] for i in range(24)]"
   ]
  },
  {
   "cell_type": "code",
   "execution_count": 52,
   "metadata": {},
   "outputs": [],
   "source": [
    "thicknesses = (np.sin(np.linspace(0, np.pi*4, 100))+1) * 8"
   ]
  },
  {
   "cell_type": "code",
   "execution_count": 53,
   "metadata": {},
   "outputs": [],
   "source": [
    "poly = Polyline(pts).fancy_curve(thicknesses=thicknesses, samples_per=24)"
   ]
  },
  {
   "cell_type": "code",
   "execution_count": 54,
   "metadata": {},
   "outputs": [
    {
     "data": {
      "image/svg+xml": [
       "<svg height=\"600pt\" version=\"1.1\" width=\"600pt\" xmlns=\"http://www.w3.org/2000/svg\" xmlns:xlink=\"http://www.w3.org/1999/xlink\">\n",
       "<title>Untitled</title>\n",
       "<polygon fill=\"rgba(40,40,40,1)\" points=\"308.8395 103.0643 312.3614 100.9957 316.1299 100.7304 319.8289 101.5354 323.6567 103.0779 327.7145 105.2523 332.0153 108.0012 336.5338 111.2719 341.2255 115.0123 346.0371 119.1688 350.9108 123.6873 355.7845 128.5149 360.5982 133.5951 365.29 138.8733 369.7975 144.296 374.0582 149.8114 378.0069 155.3721 381.5828 160.9309 384.724 166.4481 387.365 171.8944 389.4335 177.2557 390.835 182.5403 391.4374 187.7739 391.0272 192.9641 391.1094 192.9817 389.648 197.7805 387.3326 202.2598 384.3291 206.4492 380.7505 210.4143 376.6722 214.2153 372.153 217.8982 367.2437 221.4928 361.9972 225.0235 356.469 228.5122 350.7134 231.9729 344.7862 235.4173 338.7423 238.851 332.6392 242.2808 326.5388 245.7185 320.5012 249.1696 314.5875 252.6385 308.8581 256.1248 303.3743 259.6269 298.2039 263.1493 293.4124 266.6868 289.0655 270.229 285.2257 273.7565 281.9492 277.24 281.976 277.2635 278.8437 281.1762 275.5738 285.7872 272.2227 290.988 268.8274 296.6734 265.4314 302.7513 262.0654 309.1271 258.7572 315.7085 255.5318 322.4041 252.4055 329.12 249.4125 335.772 246.5767 342.2717 243.9218 348.5307 241.4708 354.4609 239.2358 359.97 237.2515 364.9746 235.5412 369.3861 234.1288 373.1143 233.0397 376.0644 232.2943 378.1188 231.9815 379.0087 217.3283 373.1921 217.3645 373.0725 218.1466 371.1046 218.17 371.1135 219.6074 367.3894 221.7746 361.6993 224.5983 354.2603 228.0115 345.2743 231.9569 334.9431 236.3624 323.4621 241.1604 311.0275 246.2852 297.8363 251.6718 284.0853 257.2622 269.974 262.9872 255.6971 268.7785 241.4496 274.5714 227.4271 280.3015 213.8247 285.9111 200.8389 291.3347 188.6614 296.5075 177.4799 301.3722 167.4784 305.8802 158.8287 310.0111 151.6771 313.8244 146.0883 317.8262 141.8763 325.4619 139.7059 325.4492 139.7748 331.734 145.0963 333.0705 150.581 333.4043 156.8935 333.2075 164.6014 332.5858 173.7296 331.5993 184.1668 330.3017 195.7581 328.7513 208.3325 327.0017 221.7109 325.1063 235.71 323.1171 250.144 321.0855 264.8257 319.0691 279.5678 317.1219 294.1814 315.2975 308.4769 313.6489 322.2634 312.2275 335.3483 311.0901 347.5372 310.2898 358.6305 309.8777 368.42 309.8993 376.6774 310.3765 383.1263 311.2327 387.3557 311.1398 387.3887 312.2617 389.733 313.7087 391.1863 315.7655 392.1382 318.6992 392.561 322.4699 392.3051 326.9058 391.3216 331.8367 389.6437 337.1193 387.3397 342.6315 384.4912 348.2639 381.1834 353.9147 377.5027 359.4868 373.5358 364.8844 369.368 370.0154 365.0874 374.7875 360.7821 379.1085 356.541 382.8854 352.4565 386.022 348.6254 388.4247 345.1623 390.0039 342.2139 390.7148 340.001 390.7359 338.7787 390.3834 338.1712 390.4359 338.0997 388.7973 337.352 385.5225 336.8417 380.9439 336.7593 375.2797 337.0862 368.6848 337.7587 361.2894 338.7053 353.2138 339.8551 344.5737 341.1368 335.4828 342.4837 326.0527 343.8235 316.394 345.0817 306.6171 346.1872 296.8321 347.0687 287.1491 347.6596 277.6773 347.8885 268.5256 347.6792 259.8031 346.9593 251.6191 345.6559 244.0824 343.6989 237.3025 341.0139 231.3964 337.5189 226.4865 333.1415 222.6994 327.8197 222.7445 327.7945 219.872 321.268 217.5762 313.3331 215.816 304.1264 214.5573 293.7875 213.7659 282.4595 213.406 270.2861 213.4568 257.4121 213.8889 243.9835 214.6734 230.1465 215.779 216.0476 217.1688 201.8324 218.8237 187.6484 220.7147 173.6425 222.8128 159.9616 225.0878 146.7524 227.5007 134.1598 230.0337 122.3327 232.6578 111.4181 235.3438 101.5629 238.0626 92.9144 240.7736 85.6149 243.46 79.8146 246.0936 75.6595 246.0899 75.6566 248.9591 73.1644 252.3294 72.1683 256.1513 72.5563 260.3643 74.2034 264.9123 76.9814 269.7415 80.7633 274.8061 85.415 280.0473 90.8174 285.4104 96.8457 290.8416 103.3737 296.2875 110.2756 301.7017 117.4198 307.026 124.6845 312.2043 131.9453 317.1833 139.0761 321.9091 145.9508 326.3346 152.4391 330.4024 158.4169 334.0556 163.7594 337.2394 168.3389 339.8972 172.0257 341.9707 174.6783 343.3461 176.1196 343.388 176.0726 343.9737 176.4948 342.5378 177.778 341.6544 176.9352 340.1046 175.4407 337.987 173.3808 335.3839 170.83 332.3758 167.8605 329.04 164.5468 325.4556 160.9611 321.7053 157.1716 317.8686 153.2498 314.0248 149.2666 310.2511 145.2946 306.6246 141.4052 303.2264 137.6646 300.1334 134.1404 297.4201 130.896 295.155 127.9864 293.3957 125.4393 292.1877 123.1731 291.7449 120.5957 294.046 117.7672 296.9395 117.679 296.9617 117.5849 299.3749 118.0703 302.6529 118.8032 306.7192 119.785 311.4966 121.0165 316.9081 122.4972 322.8755 124.2304 329.3215 126.2174 336.1686 128.4597 343.3398 130.9588 350.7584 133.716 358.3471 136.7341 366.0297 140.0155 373.7297 143.5634 381.3714 147.3814 388.8788 151.4749 396.1768 155.8491 403.1903 160.5115 409.844 165.4719 416.0613 170.7428 421.7623 176.3412 426.8654 182.2842 431.2809 188.5915 434.9092 195.2801 434.9974 195.2405 437.8594 202.5665 440.0878 210.6576 441.7634 219.4394 442.951 228.8382 443.7057 238.7773 444.0736 249.1769 444.1038 259.9536 443.843 271.0225 443.3349 282.2969 442.6231 293.6889 441.7462 305.109 440.7487 316.4674 439.6759 327.6739 438.5702 338.6369 437.4743 349.2643 436.4261 359.4619 435.469 369.1347 434.649 378.1857 434.0083 386.5129 433.5881 394.0072 433.4224 400.5455 433.5409 405.9765 433.9481 410.083 434.0105 410.0743 434.6467 412.6054 435.4155 414.164 436.1507 415.0146 436.8896 415.4961 437.8395 415.8183 439.1746 415.9791 440.9201 415.8905 442.997 415.4884 445.2865 414.7466 447.6679 413.6846 450.0284 412.3452 452.2659 410.7895 454.2882 409.0939 456.0004 407.3382 457.3224 405.632 458.1977 404.1146 458.6272 402.9544 458.726 402.2972 458.6971 402.1066 458.6415 402.0299 458.2733 401.6381 457.1103 400.842 454.8355 399.8346 454.8339 399.8391 450.3619 398.3423 444.5049 396.5331 437.4372 394.4655 429.3066 392.1685 420.2431 389.6908 410.376 387.0677 399.832 384.3336 388.7372 381.5225 377.2195 378.6572 365.4012 375.7813 353.4068 372.9295 341.3613 370.1356 329.3894 367.433 317.6185 364.8456 306.1725 362.4148 295.1774 360.1763 284.7609 358.1641 275.0528 356.412 266.1883 354.9454 258.3076 353.8039 251.5674 353.0231 246.1646 352.63 242.4113 352.6204 242.4077 352.5688 240.9114 352.7842 240.4359 352.9584 240.2535 353.0889 239.9414 353.7379 239.6797 355.2814 239.7468 357.6759 240.276 360.7272 241.2901 364.2474 242.764 368.0817 244.6491 372.1035 246.8935 376.2014 249.4453 380.2712 252.246 384.2165 255.2342 387.9444 258.3421 391.3666 261.4976 394.3955 264.6223 396.9426 267.6188 398.9302 270.3699 400.3018 272.7465 401.0509 274.665 401.252 276.2122 401.0145 277.6834 400.2921 277.7373 400.3627 280.0682 398.2888 283.1813 394.691 286.7922 389.8116 290.7752 383.8408 295.0524 376.9392 299.5644 369.2526 304.2608 360.9206 309.0902 352.0759 314.0057 342.8505 318.9614 333.3749 323.9124 323.7787 328.8153 314.1915 333.6242 304.7408 338.2949 295.5546 342.7836 286.7601 347.0468 278.4841 351.0421 270.8524 354.7274 263.9889 358.0635 258.0137 361.0173 253.0389 363.5765 249.1525 365.8277 246.3554 368.8506 244.373 368.8771 244.468 373.0892 245.816 374.324 248.6014 374.6384 251.5553 374.6001 255.1659 374.2801 259.5254 373.6959 264.6121 372.8568 270.3707 371.7731 276.7338 370.4491 283.6276 368.8905 290.9762 367.1036 298.702 365.0951 306.7269 362.8754 314.9732 360.4488 323.3616 357.82 331.8124 354.9956 340.2465 351.9819 348.5844 348.7895 356.7485 345.4228 364.6592 341.8854 372.2362 338.1828 379.4002 334.3205 386.0719 330.3069 392.1745 330.2493 392.1347 325.8265 398.1096 320.7442 404.4582 315.0716 411.1204 308.8815 418.0377 302.2448 425.1479 295.228 432.3842 287.9018 439.6828 280.3373 446.9795 272.608 454.2132 264.7868 461.3215 256.9402 468.2352 249.1395 474.8899 241.4557 481.2212 233.9623 487.167 226.7331 492.6667 219.8343 497.6494 213.3371 502.0507 207.3125 505.8059 201.833 508.8524 196.9717 511.1321 192.793 512.5716 189.3648 513.1033 186.7577 512.652 186.7677 512.6291 184.8783 511.0748 183.508 508.3939 182.6195 504.6777 182.1854 500.0108 182.1824 494.4799 182.5777 488.1725 183.362 481.1775 184.5144 473.5848 186.0137 465.4842 187.8389 456.9654 189.957 448.1153 192.3587 439.0261 195.0232 429.7878 197.9295 420.4901 201.0566 411.223 204.3731 402.0722 207.8672 393.1305 211.5194 384.4879 215.3088 376.234 219.2148 368.4582 223.2083 361.2448 227.2762 354.6857 231.4015 348.8703 231.3733 348.8485 235.957 343.4919 241.3285 338.2679 247.4014 333.1814 254.0872 328.2368 261.2956 323.4362 268.9362 318.7816 276.9155 314.2689 285.1453 309.9029 293.5374 305.6889 302.0014 301.6293 310.4472 297.7262 318.7822 293.9768 326.9166 290.3846 334.7616 286.9559 342.226 283.6934 349.2185 280.5999 355.645 277.6749 361.4115 274.9227 366.4228 272.3539 370.5767 269.9804 373.758 267.8285 375.8255 265.9733 376.6465 264.6797 376.5682 264.6492 376.5631 264.4653 376.3079 264.3976 374.8374 263.9595 372.1861 263.6647 368.5847 263.6204 364.1849 263.8232 359.1037 264.247 353.4447 264.8617 347.3055 265.6367 340.78 266.535 333.9608 267.523 326.9396 268.5672 319.8074 269.6343 312.6545 270.6929 305.57 271.7067 298.6424 272.6421 291.9586 273.4654 285.6037 274.1428 279.6585 274.6413 274.197 274.9234 269.2795 274.9486 264.9371 274.6619 261.1376 273.9565 263.476 266.3059 266.0229 266.9372 269.6388 267.3557 274.1097 267.5219 279.2851 267.4483 285.0435 267.1619 291.2771 266.6926 297.8852 266.0747 304.7709 265.3419 311.8396 264.5278 318.9979 263.6664 326.1532 262.7887 333.2142 261.9307 340.09 261.1266 346.6907 260.4103 352.9271 259.8155 358.7114 259.3727 363.9595 259.1189 368.5931 259.091 372.5477 259.3307 375.7932 259.9018 378.3785 260.9791 380.1564 263.1435 379.98 265.9759 379.9017 265.9454 378.2333 268.2659 375.6202 270.3884 372.1098 272.5736 367.7401 274.892 362.5762 277.3658 356.6953 280.0025 350.1819 282.8084 343.1219 285.7835 335.6008 288.9229 327.7069 292.2251 319.529 295.6884 311.1579 299.315 302.6835 303.1038 294.1929 307.0479 285.7757 311.145 277.5214 315.3931 269.5213 319.7934 261.8671 324.3461 254.6448 329.0429 247.9441 333.8816 241.854 338.8598 236.466 343.9775 231.8732 349.2356 231.845 349.2138 227.6834 354.9577 223.5685 361.4575 219.5255 368.6231 215.5832 376.3664 211.7549 384.5922 208.0621 393.2102 204.5259 402.1301 201.169 411.2625 198.0217 420.5202 195.0948 429.8094 192.4094 439.0402 189.9866 448.1228 187.8478 456.9674 186.0258 465.4866 184.5296 473.5874 183.3805 481.18 182.5994 488.1744 182.2074 494.4808 182.2375 500.0084 182.6991 504.665 183.6107 508.3575 184.9873 510.991 186.8337 512.477 186.8437 512.4541 189.3577 512.8344 192.7094 512.2603 196.8265 510.7858 201.6344 508.4725 207.0551 505.3764 213.019 501.5682 219.4558 497.1147 226.2941 492.0806 233.4625 486.5303 240.8845 480.5222 248.4914 474.125 256.214 467.4058 263.9808 460.4294 271.7205 453.2604 279.3569 445.9589 286.8203 438.5919 294.0417 431.2271 300.9495 423.9298 307.4718 416.7653 313.5327 409.7958 319.0603 403.0887 323.9848 396.7142 328.2329 390.7418 328.1752 390.702 331.9735 384.6603 335.6274 378.0381 339.1317 370.9182 342.4785 363.381 345.6601 355.5067 348.6664 347.3747 351.4886 339.065 354.1237 330.6593 356.5646 322.2379 358.8046 313.8812 360.8348 305.6692 362.6462 297.6821 364.2358 290.0019 365.5966 282.7098 366.7219 275.8882 367.6037 269.6203 368.2329 263.9923 368.6066 259.0962 368.7202 255.0362 368.5783 251.9504 368.2381 250.0904 368.2541 250.1041 370.6696 250.8821 370.6962 250.977 371.0624 251.084 369.5822 253.2167 367.4231 256.845 364.7598 261.7145 361.6678 267.6579 358.2022 274.5318 354.4118 282.2011 350.3424 290.5341 346.0396 299.4013 341.5479 308.6741 336.9116 318.2244 332.1743 327.9248 327.3782 337.6474 322.568 347.2665 317.7866 356.6561 313.0761 365.6916 308.4778 374.2494 304.0282 382.2069 299.7647 389.4483 295.7161 395.8641 291.8925 401.3594 288.2562 405.8692 284.6107 409.3801 284.6645 409.4507 280.2965 411.9714 275.515 413.0924 270.7166 412.9271 266.0895 411.7448 261.6515 409.7794 257.3749 407.1842 253.2439 404.0622 249.2625 400.4956 245.4537 396.5554 241.8469 392.3138 238.4755 387.842 235.3797 383.2069 232.6023 378.4717 230.1928 373.692 228.2006 368.9158 226.6788 364.1764 225.7033 359.4785 225.3986 354.7939 225.9993 350.0883 227.8853 345.4775 231.3378 341.4974 236.0358 338.8699 241.3527 337.7519 241.3491 337.7004 246.6508 337.5914 252.9143 337.948 260.2048 338.6987 268.4717 339.8041 277.6249 341.2331 287.5574 342.9585 298.1571 344.9389 309.3067 347.1417 320.887 349.5339 332.7766 352.0846 344.8524 354.7685 356.9945 357.5427 369.0807 360.3741 380.9887 363.2295 392.5959 366.0772 403.7774 368.8938 414.4143 371.6356 424.385 374.2698 433.5696 376.7641 441.8499 379.0872 449.109 381.2209 455.2474 383.1275 460.1923 384.7945 460.1907 384.799 464.9893 386.9723 469.0478 389.9203 472.1875 393.7353 474.0642 398.2274 474.5302 402.8673 473.8247 407.2014 472.2886 411.0928 470.1755 414.5867 467.6241 417.7508 464.7162 420.624 461.5099 423.215 458.0483 425.5032 454.3775 427.4644 450.5332 429.0588 446.5412 430.2289 442.4186 430.8935 438.1848 430.9257 433.8991 430.1608 429.7246 428.4103 425.9739 425.5715 422.9922 421.7534 420.955 417.1944 419.8343 412.0585 419.8967 412.0498 419.4911 406.5741 419.4876 400.3307 419.8062 393.2844 420.3922 385.466 421.1954 376.9342 422.1725 367.762 423.2812 358.0297 424.4833 347.8219 425.7376 337.2258 426.9979 326.3293 428.2222 315.2222 429.3687 303.9951 430.3983 292.7396 431.271 281.548 431.9413 270.5128 432.3679 259.7283 432.5106 249.2896 432.3315 239.2939 431.7953 229.8399 430.8637 221.0296 429.5076 212.9685 427.7071 205.7649 425.4589 199.5265 425.547 199.4869 422.6625 193.8011 419.0021 188.2616 414.6227 182.8837 409.5915 177.6855 403.9834 172.6826 397.8751 167.8902 391.3468 163.3193 384.4797 158.9779 377.3554 154.8721 370.0554 151.0053 362.6604 147.3814 355.2512 144.0023 347.9082 140.8695 340.7115 137.9839 333.7407 135.3468 327.0758 132.9575 320.7961 130.8162 314.9811 128.9226 309.7098 127.2765 305.0608 125.8795 301.1139 124.7294 297.9483 123.8256 295.6443 123.1677 295.6665 123.0736 295.6843 122.8662 296.8555 121.379 296.869 121.4599 297.5441 123.0255 298.935 125.3404 300.9277 128.1795 303.4201 131.4271 306.3214 134.9948 309.5464 138.8026 313.0123 142.7745 316.6408 146.8336 320.3494 150.9076 324.0557 154.9258 327.6795 158.8157 331.1406 162.5053 334.3623 165.9194 337.264 168.9869 339.7636 171.6386 341.7819 173.8037 343.2416 175.4129 344.0819 176.4092 342.9243 178.1235 342.1831 177.4255 342.225 177.3784 340.755 175.6554 338.7286 172.8704 336.1392 169.0979 333.0351 164.4484 329.4669 159.0436 325.4869 153.0076 321.1449 146.4673 316.4907 139.5505 311.584 132.3782 306.4782 125.0763 301.2265 117.7703 295.8802 110.5876 290.4878 103.6578 285.1101 97.1015 279.8006 91.0441 274.6124 85.6114 269.5978 80.9302 264.8051 77.133 260.2954 74.3376 256.1218 72.6687 252.3354 72.2496 248.9825 73.2071 246.1205 75.6809 246.1168 75.6779 243.4777 79.8241 240.7834 85.6189 238.0636 92.9147 235.3598 101.5676 232.6893 111.4261 230.0809 122.3434 227.5636 134.1725 225.1666 146.7666 222.9299 159.9804 220.8726 173.665 219.0226 187.6732 217.4088 201.8578 216.0602 216.0719 215.0161 230.169 214.2973 244.0008 213.9307 257.4198 213.9453 270.2783 214.3698 282.4283 215.2415 293.7206 216.5827 304.0051 218.4171 313.1308 220.7687 320.9436 223.6543 327.286 223.6994 327.2608 227.4118 332.2919 232.188 336.4047 237.9354 339.6788 244.5569 342.1833 251.95 343.9776 260.0048 345.129 268.6108 345.7089 277.6577 345.7857 287.0353 345.4288 296.6331 344.7035 306.3407 343.6799 316.0488 342.4328 325.6482 341.0325 335.0299 339.5495 344.0848 338.0508 352.7053 336.6056 360.7857 335.2887 368.2223 334.1703 374.9157 333.3212 380.7769 332.8113 385.7413 332.7184 389.8077 333.1656 393.0891 334.4847 393.1416 334.4131 395.3028 337.1703 395.7093 340.5933 394.8529 344.139 393.0876 347.8954 390.544 351.916 387.308 356.1804 383.4615 360.6359 379.0837 365.2123 374.2571 369.8344 369.065 374.4244 363.5905 378.9027 357.917 383.1906 352.1243 387.2061 346.2905 390.8686 340.4895 394.0973 334.7874 396.8102 329.2373 398.9218 323.8716 400.3331 318.6955 400.9101 313.7127 400.4368 309.0586 398.5964 305.1761 395.1939 302.5252 390.4517 302.4322 390.4847 300.9407 384.5147 300.1753 377.1323 299.9514 368.3039 300.1835 358.1303 300.8091 346.7609 301.7717 334.3645 303.0167 321.1193 304.4933 307.208 306.1451 292.8156 307.9172 278.1284 309.7558 263.3344 311.607 248.622 313.4207 234.1812 315.1406 220.2022 316.7111 206.8768 318.0777 194.399 319.1864 182.967 319.9878 172.7872 320.4279 164.0823 320.459 157.1181 320.0791 152.2971 319.6526 150.5643 323.0175 152.9616 323.0048 153.0305 326.4068 152.5426 324.8634 154.4186 321.9509 158.929 318.3065 165.4938 314.1202 173.7834 309.5027 183.5498 304.5363 194.5706 299.2945 206.6356 293.8434 219.5383 288.2485 233.076 282.5828 247.0512 276.9129 261.2647 271.3048 275.5179 265.8215 289.6115 260.5242 303.3459 255.4861 316.5266 250.7728 328.9559 246.4498 340.4368 242.5802 350.7713 239.2228 359.7603 236.4512 367.2117 234.3293 372.9328 232.9147 376.7468 232.938 376.7557 232.0773 379.0015 231.3347 380.6982 216.7218 374.4731 217.2235 372.9028 218.0218 370.6181 219.1608 367.5231 220.6159 363.673 222.3676 359.1459 224.3947 354.0245 226.6759 348.3931 229.2006 342.3411 231.9363 335.9491 234.8609 329.3018 237.9531 322.4839 241.192 315.5797 244.5668 308.6778 248.049 301.8574 251.6184 295.1998 255.2581 288.7855 258.9539 282.693 262.7043 277.003 266.5012 271.783 270.3563 267.0976 270.3831 267.1211 274.5839 262.7686 279.2316 258.6276 284.2639 254.6559 289.6248 250.8207 295.2616 247.0988 301.121 243.4717 307.1523 239.931 313.2985 236.4619 319.5013 233.0509 325.7033 229.6894 331.8461 226.37 337.8731 223.091 343.7232 219.8464 349.3328 216.6287 354.6392 213.4364 359.5781 210.2706 364.0865 207.14 368.0989 204.0558 371.5474 201.0349 374.3723 198.1103 376.5305 195.329 378.0165 192.7434 378.8777 190.3701 378.9599 190.3877 379.2668 187.9057 379.0206 184.6615 378.1395 180.7805 376.6231 176.4062 374.5082 171.6646 371.854 166.6598 368.7267 161.4802 365.1958 156.2039 361.3322 150.9016 357.202 145.6439 352.8744 140.4967 348.4184 135.5244 343.9037 130.7902 339.4019 126.3556 334.9824 122.2855 330.7188 118.6436 326.6894 115.4943 322.9814 112.9032 319.7007 110.9355 316.9921 109.6519 315.0883 109.0642 314.3191 108.9579 314.4998 108.7177\"/>\n",
       "</svg>"
      ],
      "text/plain": [
       "<IPython.core.display.SVG object>"
      ]
     },
     "metadata": {},
     "output_type": "display_data"
    }
   ],
   "source": [
    "d = document(600, 600, 'pt')\n",
    "page = d.addpage()\n",
    "curve_fig = shape().fill(rgba(40, 40, 40, 255)).nostroke()\n",
    "page.place(curve_fig.polygon(poly))\n",
    "show(page)"
   ]
  },
  {
   "cell_type": "markdown",
   "metadata": {},
   "source": [
    "## Path class\n",
    "\n",
    "A `Path` can combine lines, curves and movement (using objects from Flat's `command` module). `Path` objects can be rotated, scaled, and translated just like their component curves and lines. You can pass a `Path` object directly to Flat's `.path()` method:"
   ]
  },
  {
   "cell_type": "code",
   "execution_count": 55,
   "metadata": {},
   "outputs": [],
   "source": [
    "from bezmerizing import Path\n",
    "from flat import command"
   ]
  },
  {
   "cell_type": "code",
   "execution_count": 56,
   "metadata": {},
   "outputs": [],
   "source": [
    "p = Path([\n",
    "    command.moveto(10, 10),\n",
    "    command.lineto(15, 25),\n",
    "    command.curveto(15, 30, 5, 30, 5, 25),\n",
    "    command.quadto(0, 20, 10, 20),\n",
    "    command.closepath\n",
    "])"
   ]
  },
  {
   "cell_type": "code",
   "execution_count": 57,
   "metadata": {},
   "outputs": [
    {
     "data": {
      "image/svg+xml": [
       "<svg height=\"283.4646pt\" version=\"1.1\" width=\"283.4646pt\" xmlns=\"http://www.w3.org/2000/svg\" xmlns:xlink=\"http://www.w3.org/1999/xlink\">\n",
       "<title>Untitled</title>\n",
       "<path d=\"M28.3465,28.3465 L42.5197,70.8661 C42.5197,85.0394,14.1732,85.0394,14.1732,70.8661 Q0,56.6929,28.3465,56.6929 z\" fill=\"none\" stroke=\"rgba(40,40,40,1)\" stroke-miterlimit=\"10\"/>\n",
       "<path d=\"M85.0394,85.0394 L99.2126,127.5591 C99.2126,141.7323,70.8661,141.7323,70.8661,127.5591 Q56.6929,113.3858,85.0394,113.3858 z\" fill=\"none\" stroke=\"rgba(40,40,40,1)\" stroke-miterlimit=\"10\"/>\n",
       "<path d=\"M111.1093,46.023 L140.4752,79.8822 C145.8991,92.9765,119.7104,103.8243,114.2865,90.7299 Q95.7683,83.0594,121.957,72.2117 z\" fill=\"none\" stroke=\"rgba(40,40,40,1)\" stroke-miterlimit=\"10\"/>\n",
       "<path d=\"M166.6639,69.0345 L210.7128,119.8233 C218.8486,139.4648,179.5656,155.7364,171.4298,136.0949 Q143.6524,124.5891,182.9355,108.3175 z\" fill=\"none\" stroke=\"rgba(40,40,40,1)\" stroke-miterlimit=\"10\"/>\n",
       "</svg>"
      ],
      "text/plain": [
       "<IPython.core.display.SVG object>"
      ]
     },
     "metadata": {},
     "output_type": "display_data"
    }
   ],
   "source": [
    "d = document(100, 100, 'mm')\n",
    "page = d.addpage()\n",
    "fig = shape().stroke(rgba(40, 40, 40, 255)).nofill()\n",
    "page.place(fig.path(p))\n",
    "page.place(fig.path(p.translate(20, 20)))\n",
    "page.place(fig.path(p.translate(20, 20).rotate(np.pi*0.125)))\n",
    "page.place(fig.path(p.translate(20, 20).rotate(np.pi*0.125).scale(1.5)))\n",
    "show(page)"
   ]
  },
  {
   "cell_type": "markdown",
   "metadata": {},
   "source": [
    "The string representation of a `Path` shows the coordinates of each component command:"
   ]
  },
  {
   "cell_type": "code",
   "execution_count": 58,
   "metadata": {
    "scrolled": true
   },
   "outputs": [
    {
     "data": {
      "text/plain": [
       "Path([moveto(x=10.0000, y=10.0000), lineto(x=15.0000, y=25.0000), curveto(x1=15.0000, y1=30.0000, x2=5.0000, y2=30.0000, x=5.0000, y=25.0000), quadto(x1=0.0000, y1=20.0000, x=10.0000, y=20.0000), closepath])"
      ]
     },
     "execution_count": 58,
     "metadata": {},
     "output_type": "execute_result"
    }
   ],
   "source": [
    "p"
   ]
  },
  {
   "cell_type": "markdown",
   "metadata": {},
   "source": [
    "You can retrieve the component Bezmerizing objects that constitute a `Path` using the `.to_list()` method:"
   ]
  },
  {
   "cell_type": "code",
   "execution_count": 59,
   "metadata": {},
   "outputs": [
    {
     "data": {
      "text/plain": [
       "[Polyline([[10.0000, 10.0000], [15.0000, 25.0000]]),\n",
       " Bezier(start=[15.0000, 25.0000], cp1=[15.0000, 30.0000], cp2=[5.0000, 30.0000], end=[5.0000, 25.0000]),\n",
       " QuadraticBezier(start=[5.0000, 25.0000], cp1=[0.0000, 20.0000], end=[10.0000, 20.0000]),\n",
       " Polyline([[10.0000, 20.0000], [10.0000, 10.0000]])]"
      ]
     },
     "execution_count": 59,
     "metadata": {},
     "output_type": "execute_result"
    }
   ],
   "source": [
    "p.to_list()"
   ]
  },
  {
   "cell_type": "markdown",
   "metadata": {},
   "source": [
    "Placing these objects individually with Flat should yield a shape identical to the original `Path`:"
   ]
  },
  {
   "cell_type": "code",
   "execution_count": 60,
   "metadata": {},
   "outputs": [
    {
     "data": {
      "image/svg+xml": [
       "<svg height=\"283.4646pt\" version=\"1.1\" width=\"283.4646pt\" xmlns=\"http://www.w3.org/2000/svg\" xmlns:xlink=\"http://www.w3.org/1999/xlink\">\n",
       "<title>Untitled</title>\n",
       "<polyline fill=\"none\" points=\"85.0394 85.0394 127.5591 212.5984\" stroke=\"rgba(40,40,40,1)\" stroke-miterlimit=\"10\"/>\n",
       "<path d=\"M127.5591,212.5984 C127.5591,255.1181,42.5197,255.1181,42.5197,212.5984\" fill=\"none\" stroke=\"rgba(40,40,40,1)\" stroke-miterlimit=\"10\"/>\n",
       "<path d=\"M42.5197,212.5984 Q0,170.0787,85.0394,170.0787\" fill=\"none\" stroke=\"rgba(40,40,40,1)\" stroke-miterlimit=\"10\"/>\n",
       "<polyline fill=\"none\" points=\"85.0394 170.0787 85.0394 85.0394\" stroke=\"rgba(40,40,40,1)\" stroke-miterlimit=\"10\"/>\n",
       "</svg>"
      ],
      "text/plain": [
       "<IPython.core.display.SVG object>"
      ]
     },
     "metadata": {},
     "output_type": "display_data"
    }
   ],
   "source": [
    "d = document(100, 100, 'mm')\n",
    "page = d.addpage()\n",
    "fig = shape().stroke(rgba(40, 40, 40, 255)).nofill()\n",
    "for item in p.scale(3).to_list():\n",
    "    if isinstance(item, Polyline):\n",
    "        page.place(fig.polyline(item))\n",
    "    elif isinstance(item, Bezier) or isinstance(item, QuadraticBezier):\n",
    "        page.place(fig.path(item.to_path()))\n",
    "show(page)"
   ]
  },
  {
   "cell_type": "markdown",
   "metadata": {},
   "source": [
    "Paths can be converted to polylines with the `.to_polyline()` method, which samples points along each component of the path."
   ]
  },
  {
   "cell_type": "code",
   "execution_count": 61,
   "metadata": {},
   "outputs": [
    {
     "data": {
      "text/plain": [
       "Polyline([[10.0000, 10.0000], [15.0000, 25.0000], [15.0000, 25.0000], [13.9600, 27.4000], [11.4800, 28.6000], [8.5200, 28.6000], [6.0400, 27.4000], [5.0000, 25.0000], [5.0000, 25.0000], [3.6000, 23.2000], [3.4000, 21.8000], [4.4000, 20.8000], [6.6000, 20.2000], [10.0000, 20.0000], [10.0000, 20.0000], [10.0000, 10.0000]])"
      ]
     },
     "execution_count": 61,
     "metadata": {},
     "output_type": "execute_result"
    }
   ],
   "source": [
    "p.to_polyline()"
   ]
  },
  {
   "cell_type": "markdown",
   "metadata": {},
   "source": [
    "The `samples_per` parameter controls the resolution of the sampling:"
   ]
  },
  {
   "cell_type": "code",
   "execution_count": 62,
   "metadata": {},
   "outputs": [
    {
     "data": {
      "image/svg+xml": [
       "<svg height=\"283.4646pt\" version=\"1.1\" width=\"283.4646pt\" xmlns=\"http://www.w3.org/2000/svg\" xmlns:xlink=\"http://www.w3.org/1999/xlink\">\n",
       "<title>Untitled</title>\n",
       "<polyline fill=\"none\" points=\"85.0394 85.0394 127.5591 212.5984 127.5591 212.5984 125.5784 223.1405 120.1477 231.5742 112.0335 237.8994 102.0025 242.1162 90.8215 244.2246 79.2572 244.2246 68.0762 242.1162 58.0453 237.8994 49.9311 231.5742 44.5003 223.1405 42.5197 212.5984 42.5197 212.5984 35.843 205.219 31.2748 198.5423 28.815 192.5685 28.4636 187.2975 30.2206 182.7292 34.086 178.8638 40.0599 175.7012 48.1421 173.2414 58.3328 171.4843 70.6319 170.4301 85.0394 170.0787 85.0394 170.0787 85.0394 85.0394\" stroke=\"rgba(40,40,40,1)\" stroke-miterlimit=\"10\"/>\n",
       "<circle cx=\"85.0394\" cy=\"85.0394\" fill=\"rgba(255,255,255,1)\" r=\"2.8346\" stroke=\"rgba(40,40,40,1)\" stroke-miterlimit=\"10\"/>\n",
       "<circle cx=\"127.5591\" cy=\"212.5984\" fill=\"rgba(255,255,255,1)\" r=\"2.8346\" stroke=\"rgba(40,40,40,1)\" stroke-miterlimit=\"10\"/>\n",
       "<circle cx=\"127.5591\" cy=\"212.5984\" fill=\"rgba(255,255,255,1)\" r=\"2.8346\" stroke=\"rgba(40,40,40,1)\" stroke-miterlimit=\"10\"/>\n",
       "<circle cx=\"125.5784\" cy=\"223.1405\" fill=\"rgba(255,255,255,1)\" r=\"2.8346\" stroke=\"rgba(40,40,40,1)\" stroke-miterlimit=\"10\"/>\n",
       "<circle cx=\"120.1477\" cy=\"231.5742\" fill=\"rgba(255,255,255,1)\" r=\"2.8346\" stroke=\"rgba(40,40,40,1)\" stroke-miterlimit=\"10\"/>\n",
       "<circle cx=\"112.0335\" cy=\"237.8994\" fill=\"rgba(255,255,255,1)\" r=\"2.8346\" stroke=\"rgba(40,40,40,1)\" stroke-miterlimit=\"10\"/>\n",
       "<circle cx=\"102.0025\" cy=\"242.1162\" fill=\"rgba(255,255,255,1)\" r=\"2.8346\" stroke=\"rgba(40,40,40,1)\" stroke-miterlimit=\"10\"/>\n",
       "<circle cx=\"90.8215\" cy=\"244.2246\" fill=\"rgba(255,255,255,1)\" r=\"2.8346\" stroke=\"rgba(40,40,40,1)\" stroke-miterlimit=\"10\"/>\n",
       "<circle cx=\"79.2572\" cy=\"244.2246\" fill=\"rgba(255,255,255,1)\" r=\"2.8346\" stroke=\"rgba(40,40,40,1)\" stroke-miterlimit=\"10\"/>\n",
       "<circle cx=\"68.0762\" cy=\"242.1162\" fill=\"rgba(255,255,255,1)\" r=\"2.8346\" stroke=\"rgba(40,40,40,1)\" stroke-miterlimit=\"10\"/>\n",
       "<circle cx=\"58.0453\" cy=\"237.8994\" fill=\"rgba(255,255,255,1)\" r=\"2.8346\" stroke=\"rgba(40,40,40,1)\" stroke-miterlimit=\"10\"/>\n",
       "<circle cx=\"49.9311\" cy=\"231.5742\" fill=\"rgba(255,255,255,1)\" r=\"2.8346\" stroke=\"rgba(40,40,40,1)\" stroke-miterlimit=\"10\"/>\n",
       "<circle cx=\"44.5003\" cy=\"223.1405\" fill=\"rgba(255,255,255,1)\" r=\"2.8346\" stroke=\"rgba(40,40,40,1)\" stroke-miterlimit=\"10\"/>\n",
       "<circle cx=\"42.5197\" cy=\"212.5984\" fill=\"rgba(255,255,255,1)\" r=\"2.8346\" stroke=\"rgba(40,40,40,1)\" stroke-miterlimit=\"10\"/>\n",
       "<circle cx=\"42.5197\" cy=\"212.5984\" fill=\"rgba(255,255,255,1)\" r=\"2.8346\" stroke=\"rgba(40,40,40,1)\" stroke-miterlimit=\"10\"/>\n",
       "<circle cx=\"35.843\" cy=\"205.219\" fill=\"rgba(255,255,255,1)\" r=\"2.8346\" stroke=\"rgba(40,40,40,1)\" stroke-miterlimit=\"10\"/>\n",
       "<circle cx=\"31.2748\" cy=\"198.5423\" fill=\"rgba(255,255,255,1)\" r=\"2.8346\" stroke=\"rgba(40,40,40,1)\" stroke-miterlimit=\"10\"/>\n",
       "<circle cx=\"28.815\" cy=\"192.5685\" fill=\"rgba(255,255,255,1)\" r=\"2.8346\" stroke=\"rgba(40,40,40,1)\" stroke-miterlimit=\"10\"/>\n",
       "<circle cx=\"28.4636\" cy=\"187.2975\" fill=\"rgba(255,255,255,1)\" r=\"2.8346\" stroke=\"rgba(40,40,40,1)\" stroke-miterlimit=\"10\"/>\n",
       "<circle cx=\"30.2206\" cy=\"182.7292\" fill=\"rgba(255,255,255,1)\" r=\"2.8346\" stroke=\"rgba(40,40,40,1)\" stroke-miterlimit=\"10\"/>\n",
       "<circle cx=\"34.086\" cy=\"178.8638\" fill=\"rgba(255,255,255,1)\" r=\"2.8346\" stroke=\"rgba(40,40,40,1)\" stroke-miterlimit=\"10\"/>\n",
       "<circle cx=\"40.0599\" cy=\"175.7012\" fill=\"rgba(255,255,255,1)\" r=\"2.8346\" stroke=\"rgba(40,40,40,1)\" stroke-miterlimit=\"10\"/>\n",
       "<circle cx=\"48.1421\" cy=\"173.2414\" fill=\"rgba(255,255,255,1)\" r=\"2.8346\" stroke=\"rgba(40,40,40,1)\" stroke-miterlimit=\"10\"/>\n",
       "<circle cx=\"58.3328\" cy=\"171.4843\" fill=\"rgba(255,255,255,1)\" r=\"2.8346\" stroke=\"rgba(40,40,40,1)\" stroke-miterlimit=\"10\"/>\n",
       "<circle cx=\"70.6319\" cy=\"170.4301\" fill=\"rgba(255,255,255,1)\" r=\"2.8346\" stroke=\"rgba(40,40,40,1)\" stroke-miterlimit=\"10\"/>\n",
       "<circle cx=\"85.0394\" cy=\"170.0787\" fill=\"rgba(255,255,255,1)\" r=\"2.8346\" stroke=\"rgba(40,40,40,1)\" stroke-miterlimit=\"10\"/>\n",
       "<circle cx=\"85.0394\" cy=\"170.0787\" fill=\"rgba(255,255,255,1)\" r=\"2.8346\" stroke=\"rgba(40,40,40,1)\" stroke-miterlimit=\"10\"/>\n",
       "<circle cx=\"85.0394\" cy=\"85.0394\" fill=\"rgba(255,255,255,1)\" r=\"2.8346\" stroke=\"rgba(40,40,40,1)\" stroke-miterlimit=\"10\"/>\n",
       "</svg>"
      ],
      "text/plain": [
       "<IPython.core.display.SVG object>"
      ]
     },
     "metadata": {},
     "output_type": "display_data"
    }
   ],
   "source": [
    "scaled_poly = p.scale(3).to_polyline(samples_per=12)\n",
    "\n",
    "d = document(100, 100, 'mm')\n",
    "page = d.addpage()\n",
    "fig = shape().stroke(rgba(40, 40, 40, 255)).nofill()\n",
    "pt_fig = shape().stroke(rgba(40, 40, 40, 255)).fill(rgba(255, 255, 255, 255))\n",
    "page.place(fig.polyline(scaled_poly))\n",
    "for pt in scaled_poly.vertices:\n",
    "    page.place(pt_fig.circle(pt[0], pt[1], 1))\n",
    "show(page)"
   ]
  },
  {
   "cell_type": "markdown",
   "metadata": {},
   "source": [
    "If the `resample_polylines` parameter is true, constituent `Polyline` elements are also resampled:"
   ]
  },
  {
   "cell_type": "code",
   "execution_count": 63,
   "metadata": {},
   "outputs": [
    {
     "data": {
      "image/svg+xml": [
       "<svg height=\"283.4646pt\" version=\"1.1\" width=\"283.4646pt\" xmlns=\"http://www.w3.org/2000/svg\" xmlns:xlink=\"http://www.w3.org/1999/xlink\">\n",
       "<title>Untitled</title>\n",
       "<polyline fill=\"none\" points=\"85.0394 85.0394 88.9048 96.6356 92.7702 108.2319 96.6356 119.8282 100.5011 131.4245 104.3665 143.0208 108.2319 154.617 112.0974 166.2133 115.9628 177.8096 119.8282 189.4059 123.6936 201.0021 127.5591 212.5984 127.5591 212.5984 125.5784 223.1405 120.1477 231.5742 112.0335 237.8994 102.0025 242.1162 90.8215 244.2246 79.2572 244.2246 68.0762 242.1162 58.0453 237.8994 49.9311 231.5742 44.5003 223.1405 42.5197 212.5984 42.5197 212.5984 35.843 205.219 31.2748 198.5423 28.815 192.5685 28.4636 187.2975 30.2206 182.7292 34.086 178.8638 40.0599 175.7012 48.1421 173.2414 58.3328 171.4843 70.6319 170.4301 85.0394 170.0787 85.0394 170.0787 85.0394 162.3479 85.0394 154.617 85.0394 146.8862 85.0394 139.1553 85.0394 131.4245 85.0394 123.6936 85.0394 115.9628 85.0394 108.2319 85.0394 100.5011 85.0394 92.7702 85.0394 85.0394\" stroke=\"rgba(40,40,40,1)\" stroke-miterlimit=\"10\"/>\n",
       "<circle cx=\"85.0394\" cy=\"85.0394\" fill=\"rgba(255,255,255,1)\" r=\"2.8346\" stroke=\"rgba(40,40,40,1)\" stroke-miterlimit=\"10\"/>\n",
       "<circle cx=\"88.9048\" cy=\"96.6356\" fill=\"rgba(255,255,255,1)\" r=\"2.8346\" stroke=\"rgba(40,40,40,1)\" stroke-miterlimit=\"10\"/>\n",
       "<circle cx=\"92.7702\" cy=\"108.2319\" fill=\"rgba(255,255,255,1)\" r=\"2.8346\" stroke=\"rgba(40,40,40,1)\" stroke-miterlimit=\"10\"/>\n",
       "<circle cx=\"96.6356\" cy=\"119.8282\" fill=\"rgba(255,255,255,1)\" r=\"2.8346\" stroke=\"rgba(40,40,40,1)\" stroke-miterlimit=\"10\"/>\n",
       "<circle cx=\"100.5011\" cy=\"131.4245\" fill=\"rgba(255,255,255,1)\" r=\"2.8346\" stroke=\"rgba(40,40,40,1)\" stroke-miterlimit=\"10\"/>\n",
       "<circle cx=\"104.3665\" cy=\"143.0208\" fill=\"rgba(255,255,255,1)\" r=\"2.8346\" stroke=\"rgba(40,40,40,1)\" stroke-miterlimit=\"10\"/>\n",
       "<circle cx=\"108.2319\" cy=\"154.617\" fill=\"rgba(255,255,255,1)\" r=\"2.8346\" stroke=\"rgba(40,40,40,1)\" stroke-miterlimit=\"10\"/>\n",
       "<circle cx=\"112.0974\" cy=\"166.2133\" fill=\"rgba(255,255,255,1)\" r=\"2.8346\" stroke=\"rgba(40,40,40,1)\" stroke-miterlimit=\"10\"/>\n",
       "<circle cx=\"115.9628\" cy=\"177.8096\" fill=\"rgba(255,255,255,1)\" r=\"2.8346\" stroke=\"rgba(40,40,40,1)\" stroke-miterlimit=\"10\"/>\n",
       "<circle cx=\"119.8282\" cy=\"189.4059\" fill=\"rgba(255,255,255,1)\" r=\"2.8346\" stroke=\"rgba(40,40,40,1)\" stroke-miterlimit=\"10\"/>\n",
       "<circle cx=\"123.6936\" cy=\"201.0021\" fill=\"rgba(255,255,255,1)\" r=\"2.8346\" stroke=\"rgba(40,40,40,1)\" stroke-miterlimit=\"10\"/>\n",
       "<circle cx=\"127.5591\" cy=\"212.5984\" fill=\"rgba(255,255,255,1)\" r=\"2.8346\" stroke=\"rgba(40,40,40,1)\" stroke-miterlimit=\"10\"/>\n",
       "<circle cx=\"127.5591\" cy=\"212.5984\" fill=\"rgba(255,255,255,1)\" r=\"2.8346\" stroke=\"rgba(40,40,40,1)\" stroke-miterlimit=\"10\"/>\n",
       "<circle cx=\"125.5784\" cy=\"223.1405\" fill=\"rgba(255,255,255,1)\" r=\"2.8346\" stroke=\"rgba(40,40,40,1)\" stroke-miterlimit=\"10\"/>\n",
       "<circle cx=\"120.1477\" cy=\"231.5742\" fill=\"rgba(255,255,255,1)\" r=\"2.8346\" stroke=\"rgba(40,40,40,1)\" stroke-miterlimit=\"10\"/>\n",
       "<circle cx=\"112.0335\" cy=\"237.8994\" fill=\"rgba(255,255,255,1)\" r=\"2.8346\" stroke=\"rgba(40,40,40,1)\" stroke-miterlimit=\"10\"/>\n",
       "<circle cx=\"102.0025\" cy=\"242.1162\" fill=\"rgba(255,255,255,1)\" r=\"2.8346\" stroke=\"rgba(40,40,40,1)\" stroke-miterlimit=\"10\"/>\n",
       "<circle cx=\"90.8215\" cy=\"244.2246\" fill=\"rgba(255,255,255,1)\" r=\"2.8346\" stroke=\"rgba(40,40,40,1)\" stroke-miterlimit=\"10\"/>\n",
       "<circle cx=\"79.2572\" cy=\"244.2246\" fill=\"rgba(255,255,255,1)\" r=\"2.8346\" stroke=\"rgba(40,40,40,1)\" stroke-miterlimit=\"10\"/>\n",
       "<circle cx=\"68.0762\" cy=\"242.1162\" fill=\"rgba(255,255,255,1)\" r=\"2.8346\" stroke=\"rgba(40,40,40,1)\" stroke-miterlimit=\"10\"/>\n",
       "<circle cx=\"58.0453\" cy=\"237.8994\" fill=\"rgba(255,255,255,1)\" r=\"2.8346\" stroke=\"rgba(40,40,40,1)\" stroke-miterlimit=\"10\"/>\n",
       "<circle cx=\"49.9311\" cy=\"231.5742\" fill=\"rgba(255,255,255,1)\" r=\"2.8346\" stroke=\"rgba(40,40,40,1)\" stroke-miterlimit=\"10\"/>\n",
       "<circle cx=\"44.5003\" cy=\"223.1405\" fill=\"rgba(255,255,255,1)\" r=\"2.8346\" stroke=\"rgba(40,40,40,1)\" stroke-miterlimit=\"10\"/>\n",
       "<circle cx=\"42.5197\" cy=\"212.5984\" fill=\"rgba(255,255,255,1)\" r=\"2.8346\" stroke=\"rgba(40,40,40,1)\" stroke-miterlimit=\"10\"/>\n",
       "<circle cx=\"42.5197\" cy=\"212.5984\" fill=\"rgba(255,255,255,1)\" r=\"2.8346\" stroke=\"rgba(40,40,40,1)\" stroke-miterlimit=\"10\"/>\n",
       "<circle cx=\"35.843\" cy=\"205.219\" fill=\"rgba(255,255,255,1)\" r=\"2.8346\" stroke=\"rgba(40,40,40,1)\" stroke-miterlimit=\"10\"/>\n",
       "<circle cx=\"31.2748\" cy=\"198.5423\" fill=\"rgba(255,255,255,1)\" r=\"2.8346\" stroke=\"rgba(40,40,40,1)\" stroke-miterlimit=\"10\"/>\n",
       "<circle cx=\"28.815\" cy=\"192.5685\" fill=\"rgba(255,255,255,1)\" r=\"2.8346\" stroke=\"rgba(40,40,40,1)\" stroke-miterlimit=\"10\"/>\n",
       "<circle cx=\"28.4636\" cy=\"187.2975\" fill=\"rgba(255,255,255,1)\" r=\"2.8346\" stroke=\"rgba(40,40,40,1)\" stroke-miterlimit=\"10\"/>\n",
       "<circle cx=\"30.2206\" cy=\"182.7292\" fill=\"rgba(255,255,255,1)\" r=\"2.8346\" stroke=\"rgba(40,40,40,1)\" stroke-miterlimit=\"10\"/>\n",
       "<circle cx=\"34.086\" cy=\"178.8638\" fill=\"rgba(255,255,255,1)\" r=\"2.8346\" stroke=\"rgba(40,40,40,1)\" stroke-miterlimit=\"10\"/>\n",
       "<circle cx=\"40.0599\" cy=\"175.7012\" fill=\"rgba(255,255,255,1)\" r=\"2.8346\" stroke=\"rgba(40,40,40,1)\" stroke-miterlimit=\"10\"/>\n",
       "<circle cx=\"48.1421\" cy=\"173.2414\" fill=\"rgba(255,255,255,1)\" r=\"2.8346\" stroke=\"rgba(40,40,40,1)\" stroke-miterlimit=\"10\"/>\n",
       "<circle cx=\"58.3328\" cy=\"171.4843\" fill=\"rgba(255,255,255,1)\" r=\"2.8346\" stroke=\"rgba(40,40,40,1)\" stroke-miterlimit=\"10\"/>\n",
       "<circle cx=\"70.6319\" cy=\"170.4301\" fill=\"rgba(255,255,255,1)\" r=\"2.8346\" stroke=\"rgba(40,40,40,1)\" stroke-miterlimit=\"10\"/>\n",
       "<circle cx=\"85.0394\" cy=\"170.0787\" fill=\"rgba(255,255,255,1)\" r=\"2.8346\" stroke=\"rgba(40,40,40,1)\" stroke-miterlimit=\"10\"/>\n",
       "<circle cx=\"85.0394\" cy=\"170.0787\" fill=\"rgba(255,255,255,1)\" r=\"2.8346\" stroke=\"rgba(40,40,40,1)\" stroke-miterlimit=\"10\"/>\n",
       "<circle cx=\"85.0394\" cy=\"162.3479\" fill=\"rgba(255,255,255,1)\" r=\"2.8346\" stroke=\"rgba(40,40,40,1)\" stroke-miterlimit=\"10\"/>\n",
       "<circle cx=\"85.0394\" cy=\"154.617\" fill=\"rgba(255,255,255,1)\" r=\"2.8346\" stroke=\"rgba(40,40,40,1)\" stroke-miterlimit=\"10\"/>\n",
       "<circle cx=\"85.0394\" cy=\"146.8862\" fill=\"rgba(255,255,255,1)\" r=\"2.8346\" stroke=\"rgba(40,40,40,1)\" stroke-miterlimit=\"10\"/>\n",
       "<circle cx=\"85.0394\" cy=\"139.1553\" fill=\"rgba(255,255,255,1)\" r=\"2.8346\" stroke=\"rgba(40,40,40,1)\" stroke-miterlimit=\"10\"/>\n",
       "<circle cx=\"85.0394\" cy=\"131.4245\" fill=\"rgba(255,255,255,1)\" r=\"2.8346\" stroke=\"rgba(40,40,40,1)\" stroke-miterlimit=\"10\"/>\n",
       "<circle cx=\"85.0394\" cy=\"123.6936\" fill=\"rgba(255,255,255,1)\" r=\"2.8346\" stroke=\"rgba(40,40,40,1)\" stroke-miterlimit=\"10\"/>\n",
       "<circle cx=\"85.0394\" cy=\"115.9628\" fill=\"rgba(255,255,255,1)\" r=\"2.8346\" stroke=\"rgba(40,40,40,1)\" stroke-miterlimit=\"10\"/>\n",
       "<circle cx=\"85.0394\" cy=\"108.2319\" fill=\"rgba(255,255,255,1)\" r=\"2.8346\" stroke=\"rgba(40,40,40,1)\" stroke-miterlimit=\"10\"/>\n",
       "<circle cx=\"85.0394\" cy=\"100.5011\" fill=\"rgba(255,255,255,1)\" r=\"2.8346\" stroke=\"rgba(40,40,40,1)\" stroke-miterlimit=\"10\"/>\n",
       "<circle cx=\"85.0394\" cy=\"92.7702\" fill=\"rgba(255,255,255,1)\" r=\"2.8346\" stroke=\"rgba(40,40,40,1)\" stroke-miterlimit=\"10\"/>\n",
       "<circle cx=\"85.0394\" cy=\"85.0394\" fill=\"rgba(255,255,255,1)\" r=\"2.8346\" stroke=\"rgba(40,40,40,1)\" stroke-miterlimit=\"10\"/>\n",
       "</svg>"
      ],
      "text/plain": [
       "<IPython.core.display.SVG object>"
      ]
     },
     "metadata": {},
     "output_type": "display_data"
    }
   ],
   "source": [
    "scaled_poly = p.scale(3).to_polyline(samples_per=12, resample_polylines=True)\n",
    "\n",
    "d = document(100, 100, 'mm')\n",
    "page = d.addpage()\n",
    "fig = shape().stroke(rgba(40, 40, 40, 255)).nofill()\n",
    "pt_fig = shape().stroke(rgba(40, 40, 40, 255)).fill(rgba(255, 255, 255, 255))\n",
    "page.place(fig.polyline(scaled_poly))\n",
    "for pt in scaled_poly.vertices:\n",
    "    page.place(pt_fig.circle(pt[0], pt[1], 1))\n",
    "show(page)"
   ]
  },
  {
   "cell_type": "markdown",
   "metadata": {},
   "source": [
    "## Polyline primitives\n",
    "\n",
    "Bezmerizing has several functions for creating `Polyline` objects from geometrical primitives:"
   ]
  },
  {
   "cell_type": "code",
   "execution_count": 64,
   "metadata": {},
   "outputs": [],
   "source": [
    "from bezmerizing.primitives import arc, ellipse, circle, rect"
   ]
  },
  {
   "cell_type": "code",
   "execution_count": 65,
   "metadata": {},
   "outputs": [
    {
     "name": "stdout",
     "output_type": "stream",
     "text": [
      "Polyline([[150.0000, 50.0000], [149.7204, 61.2095], [148.8831, 72.3563], [147.4928, 83.3781], [145.5573, 94.2133], [143.0874, 104.8012], [140.0969, 115.0826], [136.6025, 125.0000], [132.6239, 134.4980], [128.1831, 143.5235], [123.3052, 152.0259], [118.0173, 159.9578], [112.3490, 167.2747], [106.3320, 173.9358], [100.0000, 179.9038], [93.3884, 185.1453], [86.5341, 189.6311], [79.4755, 193.3359], [72.2521, 196.2392], [64.9042, 198.3246], [57.4730, 199.5806], [50.0000, 200.0000], [42.5270, 199.5806], [35.0958, 198.3246], [27.7479, 196.2392], [20.5245, 193.3359], [13.4659, 189.6311], [6.6116, 185.1453], [-0.0000, 179.9038], [-6.3320, 173.9358], [-12.3490, 167.2747], [-18.0173, 159.9578], [-23.3052, 152.0259], [-28.1831, 143.5235], [-32.6239, 134.4980], [-36.6025, 125.0000], [-40.0969, 115.0826], [-43.0874, 104.8012], [-45.5573, 94.2133], [-47.4928, 83.3781], [-48.8831, 72.3563], [-49.7204, 61.2095], [-50.0000, 50.0000], [-49.7204, 38.7905], [-48.8831, 27.6437], [-47.4928, 16.6219], [-45.5573, 5.7867], [-43.0874, -4.8012], [-40.0969, -15.0826], [-36.6025, -25.0000], [-32.6239, -34.4980], [-28.1831, -43.5235], [-23.3052, -52.0259], [-18.0173, -59.9578], [-12.3490, -67.2747], [-6.3320, -73.9358], [0.0000, -79.9038], [6.6116, -85.1453], [13.4659, -89.6311], [20.5245, -93.3359], [27.7479, -96.2392], [35.0958, -98.3246], [42.5270, -99.5806], [50.0000, -100.0000]])\n"
     ]
    }
   ],
   "source": [
    "print(arc(0, 0, 100, 150, 0, (3/2)*np.pi).translate(50, 50))"
   ]
  },
  {
   "cell_type": "code",
   "execution_count": 66,
   "metadata": {},
   "outputs": [],
   "source": [
    "a = arc(0, 0, 40, 60, 0, (3/2)*np.pi)\n",
    "b = ellipse(0, 0, 60, 40)\n",
    "c = circle(0, 0, 75)\n",
    "d = rect(-40, -25, 80, 50)"
   ]
  },
  {
   "cell_type": "code",
   "execution_count": 67,
   "metadata": {},
   "outputs": [
    {
     "data": {
      "image/svg+xml": [
       "<svg height=\"400pt\" version=\"1.1\" width=\"400pt\" xmlns=\"http://www.w3.org/2000/svg\" xmlns:xlink=\"http://www.w3.org/1999/xlink\">\n",
       "<title>Untitled</title>\n",
       "<polyline fill=\"rgba(0,128,128,0.502)\" points=\"90 200 89.8882 204.4838 89.5532 208.9425 88.9971 213.3513 88.2229 217.6853 87.2349 221.9205 86.0388 226.033 84.641 230 83.0496 233.7992 81.2733 237.4094 79.3221 240.8104 77.2069 243.9831 74.9396 246.9099 72.5328 249.5743 70 251.9615 67.3553 254.0581 64.6136 255.8524 61.7902 257.3344 58.9008 258.4957 55.9617 259.3298 52.9892 259.8322 50 260 47.0108 259.8322 44.0383 259.3298 41.0992 258.4957 38.2098 257.3344 35.3864 255.8524 32.6447 254.0581 30 251.9615 27.4672 249.5743 25.0604 246.9099 22.7931 243.9831 20.6779 240.8104 18.7267 237.4094 16.9504 233.7992 15.359 230 13.9612 226.033 12.7651 221.9205 11.7771 217.6853 11.0029 213.3513 10.4468 208.9425 10.1118 204.4838 10 200 10.1118 195.5162 10.4468 191.0575 11.0029 186.6487 11.7771 182.3147 12.7651 178.0795 13.9612 173.967 15.359 170 16.9504 166.2008 18.7267 162.5906 20.6779 159.1896 22.7931 156.0169 25.0604 153.0901 27.4672 150.4257 30 148.0385 32.6447 145.9419 35.3864 144.1476 38.2098 142.6656 41.0992 141.5043 44.0383 140.6702 47.0108 140.1678 50 140\" stroke=\"rgba(0,0,0,1)\" stroke-miterlimit=\"10\" stroke-width=\"2\"/>\n",
       "<polygon fill=\"rgba(0,128,128,0.502)\" points=\"210 200 209.7018 203.9827 208.8103 207.9258 207.3344 211.7902 205.2886 215.5374 202.6933 219.1302 199.5743 222.5328 195.9627 225.7115 191.8942 228.6347 187.4094 231.2733 182.5528 233.601 177.3726 235.5949 171.9205 237.2349 166.2504 238.505 160.4189 239.3923 154.4838 239.8882 148.5042 239.9876 142.5394 239.6896 136.6487 238.9971 130.8908 237.9171 125.3228 236.4602 120 234.641 114.9754 232.4775 110.2988 229.9912 106.0169 227.2069 102.172 224.1522 98.8025 220.8574 95.9419 217.3553 93.6184 213.6808 91.8554 209.8703 90.6702 205.9617 90.0746 201.9938 90.0746 198.0062 90.6702 194.0383 91.8554 190.1297 93.6184 186.3192 95.9419 182.6447 98.8025 179.1426 102.172 175.8478 106.0169 172.7931 110.2988 170.0088 114.9754 167.5225 120 165.359 125.3228 163.5398 130.8908 162.0829 136.6487 161.0029 142.5394 160.3104 148.5042 160.0124 154.4838 160.1118 160.4189 160.6077 166.2504 161.495 171.9205 162.7651 177.3726 164.4051 182.5528 166.399 187.4094 168.7267 191.8942 171.3653 195.9627 174.2885 199.5743 177.4672 202.6933 180.8698 205.2886 184.4626 207.3344 188.2098 208.8103 192.0742 209.7018 196.0173 210 200\" stroke=\"rgba(0,0,0,1)\" stroke-miterlimit=\"10\" stroke-width=\"2\"/>\n",
       "<polygon fill=\"rgba(0,128,128,0.502)\" points=\"325 200 324.6273 207.4676 323.5129 214.861 321.668 222.1066 319.1107 229.1326 315.8666 235.869 311.9679 242.249 307.4533 248.2091 302.3678 253.69 296.7617 258.6374 290.691 263.0019 284.2158 266.7404 277.4006 269.8155 270.313 272.1968 263.0236 273.8606 255.6048 274.7903 248.1302 274.9767 240.6742 274.4179 233.3109 273.1196 226.1135 271.0946 219.1535 268.3629 212.5 264.9519 206.2192 260.8954 200.3736 256.2336 195.0211 251.013 190.2151 245.2853 186.0032 239.1076 182.4273 232.5413 179.5231 225.6515 177.3192 218.5068 175.8377 211.1782 175.0932 203.7384 175.0932 196.2616 175.8377 188.8218 177.3192 181.4932 179.5231 174.3485 182.4273 167.4587 186.0032 160.8924 190.2151 154.7147 195.0211 148.987 200.3736 143.7664 206.2192 139.1046 212.5 135.0481 219.1535 131.6371 226.1135 128.9054 233.3109 126.8804 240.6742 125.5821 248.1302 125.0233 255.6048 125.2097 263.0236 126.1394 270.313 127.8032 277.4006 130.1845 284.2158 133.2596 290.691 136.9981 296.7617 141.3626 302.3678 146.31 307.4533 151.7909 311.9679 157.751 315.8666 164.131 319.1107 170.8674 321.668 177.8934 323.5129 185.139 324.6273 192.5324 325 200\" stroke=\"rgba(0,0,0,1)\" stroke-miterlimit=\"10\" stroke-width=\"2\"/>\n",
       "<polygon fill=\"rgba(0,128,128,0.502)\" points=\"310 175 390 175 390 225 310 225\" stroke=\"rgba(0,0,0,1)\" stroke-miterlimit=\"10\" stroke-width=\"2\"/>\n",
       "</svg>"
      ],
      "text/plain": [
       "<IPython.core.display.SVG object>"
      ]
     },
     "metadata": {},
     "output_type": "display_data"
    }
   ],
   "source": [
    "doc = document(400, 400, 'pt')\n",
    "page = doc.addpage()\n",
    "curve_fig = shape().fill(rgba(0, 128, 128, 128)).stroke(rgba(0, 0, 0, 255)).width(2)\n",
    "page.place(curve_fig.polyline(a.translate(50, 200)))\n",
    "page.place(curve_fig.polygon(b.translate(150, 200)))\n",
    "page.place(curve_fig.polygon(c.translate(250, 200)))\n",
    "page.place(curve_fig.polygon(d.translate(350, 200)))\n",
    "show(page)"
   ]
  },
  {
   "cell_type": "code",
   "execution_count": 68,
   "metadata": {},
   "outputs": [
    {
     "data": {
      "image/svg+xml": [
       "<svg height=\"400pt\" version=\"1.1\" width=\"400pt\" xmlns=\"http://www.w3.org/2000/svg\" xmlns:xlink=\"http://www.w3.org/1999/xlink\">\n",
       "<title>Untitled</title>\n",
       "<polyline fill=\"rgba(0,128,128,0.502)\" points=\"340 200 339.3043 209.9568 337.2241 219.8146 333.7802 229.4755 329.0067 238.8435 322.951 247.8254 315.6734 256.332 307.2462 264.2788 297.7532 271.5867 287.2886 278.1831 275.9565 284.0026 263.8695 288.9872 251.1477 293.0874 237.9177 296.2624 224.3107 298.4808 210.4622 299.7204 196.5097 299.9689 182.5919 299.2239 168.8471 297.4928 155.4119 294.7927 142.4198 291.1506 130 286.6025 118.2759 281.1938 107.364 274.9781 97.3727 268.0173 88.4014 260.3804 80.5393 252.1435 73.8644 243.3884 68.443 234.202 64.3292 224.6757 61.5637 214.9042 60.174 204.9846 60.174 195.0154 61.5637 185.0958 64.3292 175.3243 68.443 165.798 73.8644 156.6116 80.5393 147.8565 88.4014 139.6196 97.3727 131.9827 107.364 125.0219 118.2759 118.8062 130 113.3975 142.4198 108.8494 155.4119 105.2073 168.8471 102.5072 182.5919 100.7761 196.5097 100.0311 210.4622 100.2796 224.3107 101.5192 237.9177 103.7376 251.1477 106.9126 263.8695 111.0128 275.9565 115.9974 287.2886 121.8169 297.7532 128.4133 307.2462 135.7212 315.6734 143.668 322.951 152.1746 329.0067 161.1565 333.7802 170.5245 337.2241 180.1854 339.3043 190.0432 340 200\" stroke=\"rgba(0,0,0,1)\" stroke-miterlimit=\"10\" stroke-width=\"2\"/>\n",
       "<circle cx=\"340\" cy=\"200\" fill=\"rgba(255,255,255,1)\" r=\"3\" stroke=\"rgba(0,0,0,1)\" stroke-miterlimit=\"10\"/>\n",
       "<circle cx=\"339.3043\" cy=\"209.9568\" fill=\"rgba(255,255,255,1)\" r=\"3\" stroke=\"rgba(0,0,0,1)\" stroke-miterlimit=\"10\"/>\n",
       "<circle cx=\"337.2241\" cy=\"219.8146\" fill=\"rgba(255,255,255,1)\" r=\"3\" stroke=\"rgba(0,0,0,1)\" stroke-miterlimit=\"10\"/>\n",
       "<circle cx=\"333.7802\" cy=\"229.4755\" fill=\"rgba(255,255,255,1)\" r=\"3\" stroke=\"rgba(0,0,0,1)\" stroke-miterlimit=\"10\"/>\n",
       "<circle cx=\"329.0067\" cy=\"238.8435\" fill=\"rgba(255,255,255,1)\" r=\"3\" stroke=\"rgba(0,0,0,1)\" stroke-miterlimit=\"10\"/>\n",
       "<circle cx=\"322.951\" cy=\"247.8254\" fill=\"rgba(255,255,255,1)\" r=\"3\" stroke=\"rgba(0,0,0,1)\" stroke-miterlimit=\"10\"/>\n",
       "<circle cx=\"315.6734\" cy=\"256.332\" fill=\"rgba(255,255,255,1)\" r=\"3\" stroke=\"rgba(0,0,0,1)\" stroke-miterlimit=\"10\"/>\n",
       "<circle cx=\"307.2462\" cy=\"264.2788\" fill=\"rgba(255,255,255,1)\" r=\"3\" stroke=\"rgba(0,0,0,1)\" stroke-miterlimit=\"10\"/>\n",
       "<circle cx=\"297.7532\" cy=\"271.5867\" fill=\"rgba(255,255,255,1)\" r=\"3\" stroke=\"rgba(0,0,0,1)\" stroke-miterlimit=\"10\"/>\n",
       "<circle cx=\"287.2886\" cy=\"278.1831\" fill=\"rgba(255,255,255,1)\" r=\"3\" stroke=\"rgba(0,0,0,1)\" stroke-miterlimit=\"10\"/>\n",
       "<circle cx=\"275.9565\" cy=\"284.0026\" fill=\"rgba(255,255,255,1)\" r=\"3\" stroke=\"rgba(0,0,0,1)\" stroke-miterlimit=\"10\"/>\n",
       "<circle cx=\"263.8695\" cy=\"288.9872\" fill=\"rgba(255,255,255,1)\" r=\"3\" stroke=\"rgba(0,0,0,1)\" stroke-miterlimit=\"10\"/>\n",
       "<circle cx=\"251.1477\" cy=\"293.0874\" fill=\"rgba(255,255,255,1)\" r=\"3\" stroke=\"rgba(0,0,0,1)\" stroke-miterlimit=\"10\"/>\n",
       "<circle cx=\"237.9177\" cy=\"296.2624\" fill=\"rgba(255,255,255,1)\" r=\"3\" stroke=\"rgba(0,0,0,1)\" stroke-miterlimit=\"10\"/>\n",
       "<circle cx=\"224.3107\" cy=\"298.4808\" fill=\"rgba(255,255,255,1)\" r=\"3\" stroke=\"rgba(0,0,0,1)\" stroke-miterlimit=\"10\"/>\n",
       "<circle cx=\"210.4622\" cy=\"299.7204\" fill=\"rgba(255,255,255,1)\" r=\"3\" stroke=\"rgba(0,0,0,1)\" stroke-miterlimit=\"10\"/>\n",
       "<circle cx=\"196.5097\" cy=\"299.9689\" fill=\"rgba(255,255,255,1)\" r=\"3\" stroke=\"rgba(0,0,0,1)\" stroke-miterlimit=\"10\"/>\n",
       "<circle cx=\"182.5919\" cy=\"299.2239\" fill=\"rgba(255,255,255,1)\" r=\"3\" stroke=\"rgba(0,0,0,1)\" stroke-miterlimit=\"10\"/>\n",
       "<circle cx=\"168.8471\" cy=\"297.4928\" fill=\"rgba(255,255,255,1)\" r=\"3\" stroke=\"rgba(0,0,0,1)\" stroke-miterlimit=\"10\"/>\n",
       "<circle cx=\"155.4119\" cy=\"294.7927\" fill=\"rgba(255,255,255,1)\" r=\"3\" stroke=\"rgba(0,0,0,1)\" stroke-miterlimit=\"10\"/>\n",
       "<circle cx=\"142.4198\" cy=\"291.1506\" fill=\"rgba(255,255,255,1)\" r=\"3\" stroke=\"rgba(0,0,0,1)\" stroke-miterlimit=\"10\"/>\n",
       "<circle cx=\"130\" cy=\"286.6025\" fill=\"rgba(255,255,255,1)\" r=\"3\" stroke=\"rgba(0,0,0,1)\" stroke-miterlimit=\"10\"/>\n",
       "<circle cx=\"118.2759\" cy=\"281.1938\" fill=\"rgba(255,255,255,1)\" r=\"3\" stroke=\"rgba(0,0,0,1)\" stroke-miterlimit=\"10\"/>\n",
       "<circle cx=\"107.364\" cy=\"274.9781\" fill=\"rgba(255,255,255,1)\" r=\"3\" stroke=\"rgba(0,0,0,1)\" stroke-miterlimit=\"10\"/>\n",
       "<circle cx=\"97.3727\" cy=\"268.0173\" fill=\"rgba(255,255,255,1)\" r=\"3\" stroke=\"rgba(0,0,0,1)\" stroke-miterlimit=\"10\"/>\n",
       "<circle cx=\"88.4014\" cy=\"260.3804\" fill=\"rgba(255,255,255,1)\" r=\"3\" stroke=\"rgba(0,0,0,1)\" stroke-miterlimit=\"10\"/>\n",
       "<circle cx=\"80.5393\" cy=\"252.1435\" fill=\"rgba(255,255,255,1)\" r=\"3\" stroke=\"rgba(0,0,0,1)\" stroke-miterlimit=\"10\"/>\n",
       "<circle cx=\"73.8644\" cy=\"243.3884\" fill=\"rgba(255,255,255,1)\" r=\"3\" stroke=\"rgba(0,0,0,1)\" stroke-miterlimit=\"10\"/>\n",
       "<circle cx=\"68.443\" cy=\"234.202\" fill=\"rgba(255,255,255,1)\" r=\"3\" stroke=\"rgba(0,0,0,1)\" stroke-miterlimit=\"10\"/>\n",
       "<circle cx=\"64.3292\" cy=\"224.6757\" fill=\"rgba(255,255,255,1)\" r=\"3\" stroke=\"rgba(0,0,0,1)\" stroke-miterlimit=\"10\"/>\n",
       "<circle cx=\"61.5637\" cy=\"214.9042\" fill=\"rgba(255,255,255,1)\" r=\"3\" stroke=\"rgba(0,0,0,1)\" stroke-miterlimit=\"10\"/>\n",
       "<circle cx=\"60.174\" cy=\"204.9846\" fill=\"rgba(255,255,255,1)\" r=\"3\" stroke=\"rgba(0,0,0,1)\" stroke-miterlimit=\"10\"/>\n",
       "<circle cx=\"60.174\" cy=\"195.0154\" fill=\"rgba(255,255,255,1)\" r=\"3\" stroke=\"rgba(0,0,0,1)\" stroke-miterlimit=\"10\"/>\n",
       "<circle cx=\"61.5637\" cy=\"185.0958\" fill=\"rgba(255,255,255,1)\" r=\"3\" stroke=\"rgba(0,0,0,1)\" stroke-miterlimit=\"10\"/>\n",
       "<circle cx=\"64.3292\" cy=\"175.3243\" fill=\"rgba(255,255,255,1)\" r=\"3\" stroke=\"rgba(0,0,0,1)\" stroke-miterlimit=\"10\"/>\n",
       "<circle cx=\"68.443\" cy=\"165.798\" fill=\"rgba(255,255,255,1)\" r=\"3\" stroke=\"rgba(0,0,0,1)\" stroke-miterlimit=\"10\"/>\n",
       "<circle cx=\"73.8644\" cy=\"156.6116\" fill=\"rgba(255,255,255,1)\" r=\"3\" stroke=\"rgba(0,0,0,1)\" stroke-miterlimit=\"10\"/>\n",
       "<circle cx=\"80.5393\" cy=\"147.8565\" fill=\"rgba(255,255,255,1)\" r=\"3\" stroke=\"rgba(0,0,0,1)\" stroke-miterlimit=\"10\"/>\n",
       "<circle cx=\"88.4014\" cy=\"139.6196\" fill=\"rgba(255,255,255,1)\" r=\"3\" stroke=\"rgba(0,0,0,1)\" stroke-miterlimit=\"10\"/>\n",
       "<circle cx=\"97.3727\" cy=\"131.9827\" fill=\"rgba(255,255,255,1)\" r=\"3\" stroke=\"rgba(0,0,0,1)\" stroke-miterlimit=\"10\"/>\n",
       "<circle cx=\"107.364\" cy=\"125.0219\" fill=\"rgba(255,255,255,1)\" r=\"3\" stroke=\"rgba(0,0,0,1)\" stroke-miterlimit=\"10\"/>\n",
       "<circle cx=\"118.2759\" cy=\"118.8062\" fill=\"rgba(255,255,255,1)\" r=\"3\" stroke=\"rgba(0,0,0,1)\" stroke-miterlimit=\"10\"/>\n",
       "<circle cx=\"130\" cy=\"113.3975\" fill=\"rgba(255,255,255,1)\" r=\"3\" stroke=\"rgba(0,0,0,1)\" stroke-miterlimit=\"10\"/>\n",
       "<circle cx=\"142.4198\" cy=\"108.8494\" fill=\"rgba(255,255,255,1)\" r=\"3\" stroke=\"rgba(0,0,0,1)\" stroke-miterlimit=\"10\"/>\n",
       "<circle cx=\"155.4119\" cy=\"105.2073\" fill=\"rgba(255,255,255,1)\" r=\"3\" stroke=\"rgba(0,0,0,1)\" stroke-miterlimit=\"10\"/>\n",
       "<circle cx=\"168.8471\" cy=\"102.5072\" fill=\"rgba(255,255,255,1)\" r=\"3\" stroke=\"rgba(0,0,0,1)\" stroke-miterlimit=\"10\"/>\n",
       "<circle cx=\"182.5919\" cy=\"100.7761\" fill=\"rgba(255,255,255,1)\" r=\"3\" stroke=\"rgba(0,0,0,1)\" stroke-miterlimit=\"10\"/>\n",
       "<circle cx=\"196.5097\" cy=\"100.0311\" fill=\"rgba(255,255,255,1)\" r=\"3\" stroke=\"rgba(0,0,0,1)\" stroke-miterlimit=\"10\"/>\n",
       "<circle cx=\"210.4622\" cy=\"100.2796\" fill=\"rgba(255,255,255,1)\" r=\"3\" stroke=\"rgba(0,0,0,1)\" stroke-miterlimit=\"10\"/>\n",
       "<circle cx=\"224.3107\" cy=\"101.5192\" fill=\"rgba(255,255,255,1)\" r=\"3\" stroke=\"rgba(0,0,0,1)\" stroke-miterlimit=\"10\"/>\n",
       "<circle cx=\"237.9177\" cy=\"103.7376\" fill=\"rgba(255,255,255,1)\" r=\"3\" stroke=\"rgba(0,0,0,1)\" stroke-miterlimit=\"10\"/>\n",
       "<circle cx=\"251.1477\" cy=\"106.9126\" fill=\"rgba(255,255,255,1)\" r=\"3\" stroke=\"rgba(0,0,0,1)\" stroke-miterlimit=\"10\"/>\n",
       "<circle cx=\"263.8695\" cy=\"111.0128\" fill=\"rgba(255,255,255,1)\" r=\"3\" stroke=\"rgba(0,0,0,1)\" stroke-miterlimit=\"10\"/>\n",
       "<circle cx=\"275.9565\" cy=\"115.9974\" fill=\"rgba(255,255,255,1)\" r=\"3\" stroke=\"rgba(0,0,0,1)\" stroke-miterlimit=\"10\"/>\n",
       "<circle cx=\"287.2886\" cy=\"121.8169\" fill=\"rgba(255,255,255,1)\" r=\"3\" stroke=\"rgba(0,0,0,1)\" stroke-miterlimit=\"10\"/>\n",
       "<circle cx=\"297.7532\" cy=\"128.4133\" fill=\"rgba(255,255,255,1)\" r=\"3\" stroke=\"rgba(0,0,0,1)\" stroke-miterlimit=\"10\"/>\n",
       "<circle cx=\"307.2462\" cy=\"135.7212\" fill=\"rgba(255,255,255,1)\" r=\"3\" stroke=\"rgba(0,0,0,1)\" stroke-miterlimit=\"10\"/>\n",
       "<circle cx=\"315.6734\" cy=\"143.668\" fill=\"rgba(255,255,255,1)\" r=\"3\" stroke=\"rgba(0,0,0,1)\" stroke-miterlimit=\"10\"/>\n",
       "<circle cx=\"322.951\" cy=\"152.1746\" fill=\"rgba(255,255,255,1)\" r=\"3\" stroke=\"rgba(0,0,0,1)\" stroke-miterlimit=\"10\"/>\n",
       "<circle cx=\"329.0067\" cy=\"161.1565\" fill=\"rgba(255,255,255,1)\" r=\"3\" stroke=\"rgba(0,0,0,1)\" stroke-miterlimit=\"10\"/>\n",
       "<circle cx=\"333.7802\" cy=\"170.5245\" fill=\"rgba(255,255,255,1)\" r=\"3\" stroke=\"rgba(0,0,0,1)\" stroke-miterlimit=\"10\"/>\n",
       "<circle cx=\"337.2241\" cy=\"180.1854\" fill=\"rgba(255,255,255,1)\" r=\"3\" stroke=\"rgba(0,0,0,1)\" stroke-miterlimit=\"10\"/>\n",
       "<circle cx=\"339.3043\" cy=\"190.0432\" fill=\"rgba(255,255,255,1)\" r=\"3\" stroke=\"rgba(0,0,0,1)\" stroke-miterlimit=\"10\"/>\n",
       "<circle cx=\"340\" cy=\"200\" fill=\"rgba(255,255,255,1)\" r=\"3\" stroke=\"rgba(0,0,0,1)\" stroke-miterlimit=\"10\"/>\n",
       "</svg>"
      ],
      "text/plain": [
       "<IPython.core.display.SVG object>"
      ]
     },
     "metadata": {},
     "output_type": "display_data"
    }
   ],
   "source": [
    "b = ellipse(200, 200, 140, 100)\n",
    "doc = document(400, 400, 'pt')\n",
    "page = doc.addpage()\n",
    "curve_fig = shape().fill(rgba(0, 128, 128, 128)).stroke(rgba(0, 0, 0, 255)).width(2)\n",
    "point_fig = shape().fill(rgba(255, 255, 255, 255)).stroke(rgba(0, 0, 0, 255)).width(1)\n",
    "page.place(curve_fig.polyline(b))\n",
    "for pt in b.vertices:\n",
    "    page.place(point_fig.circle(*pt, 3))\n",
    "show(page)"
   ]
  },
  {
   "cell_type": "markdown",
   "metadata": {},
   "source": [
    "You can make polygons with sides of regular length using the `circle` or `ellipse` functions, and setting the `n` parameter to number of points in the desired polygon:"
   ]
  },
  {
   "cell_type": "code",
   "execution_count": 69,
   "metadata": {},
   "outputs": [],
   "source": [
    "b = ellipse(200, 200, 140, 100, n=5)"
   ]
  },
  {
   "cell_type": "code",
   "execution_count": 70,
   "metadata": {},
   "outputs": [
    {
     "data": {
      "image/svg+xml": [
       "<svg height=\"400pt\" version=\"1.1\" width=\"400pt\" xmlns=\"http://www.w3.org/2000/svg\" xmlns:xlink=\"http://www.w3.org/1999/xlink\">\n",
       "<title>Untitled</title>\n",
       "<polyline fill=\"rgba(0,128,128,0.502)\" points=\"340 200 200 300 60 200 200 100 340 200\" stroke=\"rgba(0,0,0,1)\" stroke-miterlimit=\"10\" stroke-width=\"2\"/>\n",
       "<circle cx=\"340\" cy=\"200\" fill=\"rgba(255,255,255,1)\" r=\"3\" stroke=\"rgba(0,0,0,1)\" stroke-miterlimit=\"10\"/>\n",
       "<circle cx=\"200\" cy=\"300\" fill=\"rgba(255,255,255,1)\" r=\"3\" stroke=\"rgba(0,0,0,1)\" stroke-miterlimit=\"10\"/>\n",
       "<circle cx=\"60\" cy=\"200\" fill=\"rgba(255,255,255,1)\" r=\"3\" stroke=\"rgba(0,0,0,1)\" stroke-miterlimit=\"10\"/>\n",
       "<circle cx=\"200\" cy=\"100\" fill=\"rgba(255,255,255,1)\" r=\"3\" stroke=\"rgba(0,0,0,1)\" stroke-miterlimit=\"10\"/>\n",
       "<circle cx=\"340\" cy=\"200\" fill=\"rgba(255,255,255,1)\" r=\"3\" stroke=\"rgba(0,0,0,1)\" stroke-miterlimit=\"10\"/>\n",
       "</svg>"
      ],
      "text/plain": [
       "<IPython.core.display.SVG object>"
      ]
     },
     "metadata": {},
     "output_type": "display_data"
    }
   ],
   "source": [
    "doc = document(400, 400, 'pt')\n",
    "page = doc.addpage()\n",
    "curve_fig = shape().fill(rgba(0, 128, 128, 128)).stroke(rgba(0, 0, 0, 255)).width(2)\n",
    "point_fig = shape().fill(rgba(255, 255, 255, 255)).stroke(rgba(0, 0, 0, 255)).width(1)\n",
    "page.place(curve_fig.polyline(b))\n",
    "for pt in b.vertices:\n",
    "    page.place(point_fig.circle(*pt, 3))\n",
    "show(page)"
   ]
  },
  {
   "cell_type": "markdown",
   "metadata": {},
   "source": [
    "You can call the `.fancy_curve()` method on polylines constructed with this method:"
   ]
  },
  {
   "cell_type": "code",
   "execution_count": 71,
   "metadata": {},
   "outputs": [
    {
     "data": {
      "image/svg+xml": [
       "<svg height=\"400pt\" version=\"1.1\" width=\"400pt\" xmlns=\"http://www.w3.org/2000/svg\" xmlns:xlink=\"http://www.w3.org/1999/xlink\">\n",
       "<title>Untitled</title>\n",
       "<polygon fill=\"rgba(40,40,40,1)\" points=\"18.9073 20.7275 19.1649 20.0168 19.7286 19.3463 20.4572 18.743 21.2051 18.2877 22.0365 18.0358 22.0451 18.1136 22.8462 18.3203 23.5767 18.6942 24.3263 19.1412 24.9734 19.5882 25.4494 20.0579 25.4494 20.0579 25.7033 20.6765 25.8713 21.4448 26.0003 22.308 26.069 23.1258 25.9563 23.9454 26.025 23.9828 25.4764 24.6564 24.7713 25.1757 23.9366 25.6207 23.1024 25.8878 22.347 25.8564 22.2375 24.8624 22.3856 24.4798 22.901 23.9691 23.5253 23.4357 24.0521 23.0014 24.1713 22.9724 24.24 23.0098 24.3349 22.926 24.485 22.2881 24.5776 21.52 24.5997 20.8577 24.6068 20.623 24.6068 20.623 24.387 20.5404 23.7658 20.3096 23.02 20.1037 22.3729 20.0005 22.2593 20.0565 22.2679 20.1343 22.1958 20.2336 21.5941 20.5561 20.8636 20.9313 20.1955 21.2143 19.7853 21.2061\"/>\n",
       "<polygon fill=\"rgba(40,40,40,1)\" points=\"20.317 22.509 19.5716 19.9682 19.1934 16.0595 19.0986 11.8879 19.2042 8.5536 19.8792 6.6541 19.8792 6.6541 21.0835 8.2707 22.1658 11.4263 23.303 15.441 24.092 19.2878 24.1274 21.9355 23.1386 22.0843 22.165 19.7146 21.1853 15.9506 20.3234 11.897 19.7053 8.6622 20.037 7.7024 20.037 7.7024 20.6366 8.5221 20.9979 11.7955 21.3672 15.9232 21.5389 19.8088 21.3059 22.3601\"/>\n",
       "<polygon fill=\"rgba(40,40,40,1)\" points=\"31.1284 66.2366 32.7011 66.3034 33.0824 67.6411 32.9216 68.7681 32.1815 69.9458 30.6528 69.5702 30.7492 68.5748 31.3733 67.9513 31.8326 68.1422 31.8618 67.9375 31.3674 67.9923 30.9427 67.2192\"/>\n",
       "<polygon fill=\"rgba(40,40,40,1)\" points=\"6.7 57.4665 8.991 57.3582 12.5381 58.8377 16.8311 61.0081 20.7909 63.2025 23.351 64.7622 23.351 64.7622 25.9482 66.2593 29.7742 68.6796 33.7391 71.4036 36.7397 73.805 37.7444 75.8668 36.8842 75.3569 35.5212 75.3577 32.4416 73.1531 28.6634 70.223 25.1331 67.4376 22.8105 65.6742 22.8105 65.6742 20.1486 64.4832 16.0104 62.7234 11.6263 60.8157 8.2139 59.1725 7.5603 57.9764\"/>\n",
       "<polygon fill=\"rgba(40,40,40,1)\" points=\"19.6829 51.5496 22.3525 51.964 26.206 53.3879 30.382 55.3423 33.9731 57.3636 36.1952 59.1341 36.1346 59.1836 37.1426 61.596 37.9298 65.0787 38.495 68.9498 38.7109 72.3775 38.3871 74.6434 38.3871 74.6434 36.7857 76.279 33.9338 78.1928 30.5177 80.0993 27.2747 81.5932 24.7468 82.2608 24.7444 82.339 21.9874 81.6525 18.1985 80.032 14.1069 77.9067 10.6325 75.7145 8.6796 73.8478 9.4542 73.2154 11.476 74.3786 15.0162 76.1822 19.0938 78.0881 22.7435 79.604 24.8093 80.2288 24.8069 80.307 26.6932 79.9473 29.8669 78.7307 33.2915 77.0674 36.1259 75.376 37.4774 74.1945 37.4774 74.1945 37.5928 72.4032 37.2109 69.1247 36.4477 65.3947 35.4825 62.1358 34.6205 60.4198 34.5599 60.4693 32.8073 59.2099 29.3838 57.2354 25.3905 55.1586 21.8054 53.4462 19.6522 52.5492\"/>\n",
       "<polygon fill=\"rgba(40,40,40,1)\" points=\"20.8037 106.1851 21.8709 106.1377 23.3076 106.4674 24.8478 107.0177 26.1858 107.6427 27.137 108.3099 27.0826 108.3662 27.584 109.3106 27.9403 110.456 28.2261 111.6926 28.3873 112.797 28.3067 113.6937 28.3067 113.6937 27.7176 114.3746 26.8112 115.026 25.7232 115.6794 24.6517 116.2187 23.6241 116.5142 23.6214 116.5924 22.4806 116.3716 21.1016 115.8434 19.6358 115.1177 18.4006 114.3132 17.6934 113.5127 18.388 112.7933 19.1439 112.919 20.4378 113.3408 21.8931 113.855 23.1531 114.2943 23.6951 114.4824 23.6924 114.5606 24.1177 114.5568 25.1108 114.2931 26.1972 113.8848 27.0732 113.4606 27.3728 113.2974 27.3728 113.2974 27.2821 112.9684 26.9787 112.0436 26.5177 110.9785 26.0175 110.081 25.7248 109.7724 25.6705 109.8286 25.1586 109.5695 23.9674 108.9683 22.5866 108.2786 21.3843 107.6408 20.7687 107.1845\"/>\n",
       "<polygon fill=\"rgba(40,40,40,1)\" points=\"7.594 111.2726 7.6612 109.3429 8.9295 107.0203 10.8303 104.6618 12.911 102.7495 14.9077 101.7526 14.9409 101.9036 17.5201 102.0893 21.4996 102.7439 25.9857 103.6032 29.9253 104.4655 32.3906 105.246 32.4773 105.1179 33.9642 106.7822 35.1911 109.328 36.0858 112.222 36.406 114.8488 35.7553 116.6668 34.9852 116.0289 34.6804 115.0064 34.0555 112.7615 33.1527 110.107 32.1685 107.7818 31.4696 106.6069 31.5563 106.4788 29.5973 105.6251 25.7708 104.6065 21.3285 103.7555 17.3965 103.2881 15.2606 103.3574 15.2938 103.5085 14.2103 104.3419 12.4365 106.1389 10.6167 108.2719 9.2064 110.127 8.5453 110.9644\"/>\n",
       "<polygon fill=\"rgba(40,40,40,1)\" points=\"26.5243 111.1433 25.6299 112.0677 23.6334 112.1264 21.4309 112.659 19.6282 113.5191 18.4102 113.1055 18.5882 112.1215 19.1945 111.4112 21.1454 111.4359 23.3285 110.908 25.0525 109.9946 25.9164 110.3493\"/>\n",
       "<polygon fill=\"rgba(40,40,40,1)\" points=\"32.8801 119.1595 29.5581 118.9854 23.9435 116.4959 17.2882 113.8705 11.4861 111.8564 8.9399 109.7157 9.7945 109.1963 12.3922 109.9045 17.7651 112.7086 24.3884 115.3213 30.2286 116.9405 32.6102 118.1966\"/>\n",
       "<polygon fill=\"rgba(40,40,40,1)\" points=\"23.0258 143.8471 24.364 143.4594 26.044 143.6834 27.7839 144.2858 29.2832 145.137 30.3168 146.3977 30.2434 146.4248 30.3203 148.2132 30.1008 150.7904 29.7235 153.7381 29.2642 156.4137 28.7768 158.2114 28.7768 158.2114 27.8754 159.8413 26.3427 162.082 24.5617 164.4609 22.9252 166.464 21.6252 167.6945 21.659 167.765 20.0393 167.9507 18.3704 167.5182 16.702 166.7395 15.3399 165.7309 14.6489 164.521 15.5871 164.1748 16.2748 164.4572 17.549 164.9837 19.0445 165.487 20.3369 165.7875 20.7458 165.8615 20.7797 165.932 21.6714 165.2495 23.4042 163.4826 25.3174 161.2895 26.9514 159.2113 27.8366 157.8304 27.8366 157.8304 28.1622 156.2228 28.4358 153.5934 28.5888 150.6871 28.5747 148.2123 28.4096 147.1016 28.3362 147.1287 27.9911 146.8972 26.854 146.2133 25.43 145.5336 24.1487 145.0246 23.4583 144.7487\"/>\n",
       "<polygon fill=\"rgba(40,40,40,1)\" points=\"20.0172 150.2946 20.924 149.7324 21.9013 149.7922 22.8966 150.1571 23.7677 150.7201 24.4164 151.5245 24.2838 151.6041 24.5167 152.6494 24.7972 154.1457 25.1456 155.8238 25.484 157.3081 25.6864 158.3598 25.8398 158.38 25.5649 159.3761 24.9899 160.2394 24.2221 160.9703 23.3494 161.4142 22.2937 161.2595 22.6738 160.3345 22.4508 159.9327 22.8058 159.4188 23.3423 158.8085 23.8299 158.2746 24.0574 158.1449 24.2107 158.1651 24.2897 157.4696 24.1375 156.0146 23.7964 154.372 23.3569 152.9767 23.0075 152.3701 22.8749 152.4497 22.6146 152.4213 21.9548 152.1256 21.2197 151.7793 20.6895 151.4492 20.7341 150.9918\"/>\n",
       "<polygon fill=\"rgba(40,40,40,1)\" points=\"10.7376 193.5709 12.275 191.9348 15.0463 190.0692 18.3326 188.2819 21.4025 186.9313 23.7277 186.37 23.7288 186.4482 25.8883 187.0886 28.6087 188.4476 31.4818 190.1624 33.8939 191.8725 35.2765 193.3256 35.2765 193.3256 35.6449 195.2972 35.6189 198.2539 35.3267 201.5871 34.8355 204.5881 34.0901 206.7137 34.1529 206.7603 32.3364 208.3166 29.444 210.0144 26.071 211.632 22.9359 212.7861 20.7094 213.0744 20.6962 212.0745 22.3809 211.3069 25.2344 209.8711 28.4147 208.1381 31.1283 206.4978 32.4579 205.5017 32.5207 205.5483 33.1482 204.1406 33.8297 201.351 34.3276 198.1455 34.5268 195.3242 34.3732 193.7874 34.3732 193.7874 33.2174 192.7631 30.8136 191.2727 27.9235 189.7993 25.2632 188.7184 23.7545 188.4028 23.7556 188.481 22.1695 188.9757 19.251 190.215 15.9839 191.7783 13.1492 193.2508 11.5405 194.1671\"/>\n",
       "<polygon fill=\"rgba(40,40,40,1)\" points=\"17.7298 210.3989 16.3404 208.4323 14.7156 205.0724 13.1458 201.1805 11.9475 197.6387 11.4268 195.1925 11.5049 195.1876 11.8997 193.1054 12.8223 190.5401 14.01 187.9065 15.2204 185.7577 16.3987 184.5604 16.3987 184.5604 18.0743 184.6813 20.4023 185.4955 23.0333 186.6887 25.4203 188.0057 27.0919 189.3086 27.1537 189.2606 28.3782 191.4415 29.8174 194.8923 31.2089 198.8515 32.2077 202.4475 32.4631 204.8418 31.465 204.9034 30.6936 202.8987 29.3727 199.5063 27.829 195.6838 26.395 192.3551 25.4855 190.5545 25.5473 190.5066 24.4293 189.4428 22.3041 188.0172 19.8694 186.6767 17.747 185.7507 16.7567 185.5096 16.7567 185.5096 16.1724 186.3446 15.1903 188.4416 14.2473 191.0561 13.5929 193.53 13.4559 195.0672 13.534 195.0624 14.0401 197.0151 15.1616 200.4616 16.5268 204.3515 17.7753 207.7712 18.5199 209.786\"/>\n",
       "<polygon fill=\"rgba(40,40,40,1)\" points=\"9.8071 236.438 11.8517 235.8359 15.1166 236.5326 18.9907 237.8325 22.512 239.2957 24.7578 240.5127 24.7578 240.5127 26.7929 242.0564 29.5784 244.6604 32.3608 247.6532 34.3424 250.34 34.6373 252.4508 33.7969 251.9089 32.7362 251.4869 30.6871 249.0469 28.1674 245.9351 25.7828 243.0725 24.1833 241.4036 24.1833 241.4036 22.0031 240.635 18.4117 239.6438 14.5375 238.6322 11.4695 237.7722 10.6475 236.98\"/>\n",
       "<polygon fill=\"rgba(40,40,40,1)\" points=\"24.7667 235.3274 27.0083 236.1724 28.4675 239.2073 30.1589 242.5896 31.7117 245.5777 31.0429 247.878 30.3237 247.1832 29.6249 246.1033 29.0082 243.0932 27.3743 239.8258 25.3359 237.5266 24.8911 236.3197\"/>\n",
       "<polygon fill=\"rgba(40,40,40,1)\" points=\"26.9636 298.0545 24.653 297.6467 21.1789 296.4738 17.3566 294.9192 14.0297 293.3659 11.9492 292.1268 11.9972 292.065 10.7394 290.5222 9.4419 288.3603 8.2587 286.0058 7.4418 283.9443 7.3101 282.4188 7.3101 282.4188 8.5142 281.4728 10.5777 280.6611 13.1055 279.9167 15.5706 279.3874 17.5565 279.252 17.5689 279.1747 19.8951 279.8476 23.3022 281.216 27.0486 282.9454 30.2785 284.6812 32.1548 286.09 31.542 286.8803 29.5654 286.091 26.2459 284.7219 22.48 283.1919 19.1454 281.8984 17.2343 281.2592 17.2467 281.182 15.7665 281.122 13.4183 281.3996 10.9405 281.9051 8.9613 282.4979 8.2408 282.8226 8.2408 282.8226 8.4959 283.5706 9.4151 285.4209 10.7386 287.5758 12.14 289.4803 13.195 290.5202 13.2429 290.4584 15.0153 291.4174 18.2378 292.969 21.9279 294.6739 25.1954 296.1628 27.1221 297.0671\"/>\n",
       "<polygon fill=\"rgba(40,40,40,1)\" points=\"24.7302 292.6527 24.5058 294.0215 23.266 294.0569 22.1769 294.1611 20.9529 294.3613 20.4731 293.0598 21.4458 292.8276 21.8144 292.3892 22.2184 292.9058 22.9874 292.8322 23.2861 292.2485 23.7312 292.6091\"/>\n",
       "<polygon fill=\"rgba(40,40,40,1)\" points=\"16.9396 282.5923 18.0214 281.7635 19.7572 281.1145 21.7575 280.6512 23.6105 280.4356 25.1205 280.6067 25.0937 280.6802 26.2427 281.6103 27.4572 283.0224 28.6919 284.6678 29.6929 286.2148 30.2132 287.4251 30.2132 287.4251 30.1557 288.7413 29.7681 290.5426 29.1968 292.5189 28.5617 294.2698 27.8169 295.5467 27.8681 295.606 26.5168 296.3012 24.7076 296.7565 22.673 297.0323 20.8199 297.0407 19.5145 296.6492 19.8575 295.7099 20.7467 295.4625 22.3883 295.1037 24.2495 294.6659 25.8383 294.2257 26.488 294.0083 26.5391 294.0675 27.0024 293.4849 27.783 291.9731 28.5305 290.1582 29.0605 288.515 29.2153 287.6079 29.2153 287.6079 28.749 286.8146 27.671 285.4659 26.3287 284.0339 25.0629 282.8968 24.4232 282.5163 24.3963 282.5898 23.7118 282.6168 22.0701 282.7684 20.1745 283.0187 18.5124 283.2652 17.5933 283.349\"/>\n",
       "<polygon fill=\"rgba(40,40,40,1)\" points=\"30.0449 283.9467 31.2802 286.5834 31.8271 290.8962 31.8387 295.6587 31.4209 299.6505 30.448 301.9091 30.448 301.9091 27.9905 301.8177 24.2061 300.4808 19.9101 298.425 16.2502 296.0789 14.3995 293.8311 15.2449 293.2969 17.3654 294.4505 20.9689 296.5216 25.0193 298.7618 28.455 300.4624 29.8818 301.0129 29.8818 301.0129 29.9974 299.4879 29.9371 295.6549 29.6535 291.0349 29.3306 286.8912 29.1995 284.4808\"/>\n",
       "<polygon fill=\"rgba(40,40,40,1)\" points=\"37.5333 341.0967 35.109 343.1458 30.254 344.7248 24.4531 345.8202 19.215 346.2619 15.8961 345.8098 15.8961 345.8098 13.57 343.3996 10.8307 338.9131 8.2862 333.5862 6.6909 328.7365 6.9112 325.5699 7.8031 326.0222 8.5946 328.2154 10.3047 332.7678 12.5358 338.0712 14.7781 342.6294 16.3755 344.8643 16.3755 344.8643 19.1224 344.8321 24.1246 343.9472 29.7213 342.6129 34.4044 341.3021 36.6414 340.6445\"/>\n",
       "<polygon fill=\"rgba(40,40,40,1)\" points=\"20.3543 340.1784 19.3765 340.3407 18.344 340.0431 17.3495 339.4819 16.5259 338.7561 15.9931 337.6652 16.0706 337.6542 16.2952 336.4821 16.7927 335.0141 17.4226 333.3643 18.0585 331.8786 18.6031 330.8723 18.6031 330.8723 19.3387 329.996 20.4865 328.8584 21.7893 327.6661 22.9716 326.6638 23.979 326.024 23.9608 325.9479 25.1712 326.0423 26.1489 326.5415 27.0363 327.26 27.6927 328.1107 27.9013 329.0798 26.9112 329.2208 26.5106 329.1589 25.8385 328.798 25.0621 328.3851 24.4246 328.0943 24.4523 328.0011 24.4341 327.925 23.9414 328.1152 22.7147 328.8663 21.3218 329.8492 20.1093 330.8065 19.442 331.4428 19.442 331.4428 19.0956 332.2973 18.651 333.7768 18.249 335.4335 18.0015 336.8505 18.0058 337.3786 18.0833 337.3676 18.1597 337.3075 18.6645 337.7934 19.3339 338.3637 19.9167 338.856 20.1215 339.2059\"/>\n",
       "<polygon fill=\"rgba(40,40,40,1)\" points=\"23.3257 335.0848 22.8072 335.3135 22.1231 335.3639 21.3858 335.2891 20.7336 335.1371 20.2073 334.9093 20.2423 334.8393 19.865 334.4458 19.5952 334.0231 19.3567 333.5861 19.1727 333.1845 19.083 332.5977 19.083 332.5977 19.4241 332.1119 19.7673 331.8338 20.1751 331.5483 20.6046 331.2895 21.1175 331.1045 21.1172 331.0263 21.6899 331.056 22.3418 331.2096 23.0356 331.4701 23.626 331.8192 23.9889 332.2545 23.5421 333.1491 23.182 333.3355 22.5644 333.3618 21.8826 333.2999 21.3087 333.206 21.1231 333.1375 21.1229 333.0593 21.0537 332.9763 20.6984 332.9706 20.3036 333.0135 20.0119 333.0633 20.0707 332.8292 20.0707 332.8292 20.1221 332.5933 20.3613 332.7675 20.6959 332.9813 21.0167 333.134 21.1156 333.0905 21.1505 333.0205 21.3473 333.0416 21.9031 333.2124 22.5414 333.4599 23.083 333.7578 23.3229 334.0848\"/>\n",
       "<polygon fill=\"rgba(40,40,40,1)\" points=\"16.106 338.1234 14.831 336.1042 14.0995 332.6974 13.8218 328.8872 13.9593 325.6495 14.6743 323.6957 14.6743 323.6957 16.7426 323.4698 19.9188 324.1122 23.5514 325.2949 26.6837 326.8216 28.3385 328.5433 27.5512 329.1599 25.7725 328.5723 22.7353 327.3143 19.3266 325.9192 16.4534 324.8731 15.3279 324.5303 15.3279 324.5303 15.391 325.7051 15.7181 328.7453 16.2556 332.389 16.7491 335.6391 16.8933 337.5068\"/>\n",
       "<polygon fill=\"rgba(40,40,40,1)\" points=\"18.8291 374.6638 19.7706 374.2031 21.2284 373.8984 22.878 373.7323 24.3667 373.7047 25.4718 373.846 25.4527 373.9219 26.3049 374.4305 27.1433 375.1474 27.956 375.9537 28.598 376.7098 28.9517 377.4893 28.9517 377.4893 28.666 378.2962 28.091 379.1045 27.3503 379.9774 26.5764 380.7635 25.7708 381.3431 25.7963 381.4171 24.7074 381.6524 23.2217 381.7523 21.5641 381.728 20.0855 381.5491 19.108 381.1707 19.3516 380.2008 20.126 379.9697 21.5146 379.7791 23.0927 379.6161 24.4648 379.4824 25.1087 379.421 25.1341 379.495 25.5446 379.3554 26.3362 378.8512 27.1516 378.212 27.764 377.6351 27.9381 377.5328 27.9381 377.5328 27.7559 377.4457 27.0963 376.9234 26.2293 376.3562 25.3975 375.9217 24.9765 375.8177 24.9575 375.8936 24.3107 375.8875 22.9322 375.8717 21.346 375.8443 19.9461 375.7733 19.1548 375.6092\"/>\n",
       "<polygon fill=\"rgba(40,40,40,1)\" points=\"27.3818 362.4056 28.8547 362.79 29.1235 364.1485 29.0684 365.9463 28.7669 367.8468 28.2668 369.4795 28.1194 369.4327 27.0325 371.9396 25.2405 376.1833 23.2505 381.0328 21.5451 385.312 20.5577 387.8598 20.6955 387.93 19.9046 389.4434 18.7843 391.0079 17.5607 392.3262 16.4152 393.1043 15.0968 392.3432 16.0953 392.3966 15.4462 391.6677 16.0503 390.866 17.1014 389.6187 18.2257 388.2582 19.094 387.1132 19.2318 387.1834 20.4379 384.836 22.3029 380.6393 24.2897 375.7977 25.9101 371.5007 26.7005 368.9827 26.5531 368.9359 26.7393 367.511 26.8949 365.7529 27.0229 364.1268 27.156 363.1319 28.13 363.069\"/>\n",
       "<polygon fill=\"rgba(40,40,40,1)\" points=\"21.962 388.1027 21.6063 388.9299 20.8057 389.364 19.8947 389.3116 19.075 388.7538 18.6752 387.7189 18.753 387.711 18.868 386.3496 19.1059 384.1052 19.4024 381.4719 19.6994 379.0453 19.9411 377.4104 19.9411 377.4104 20.2248 375.7824 20.7047 373.3852 21.2499 370.7919 21.7286 368.5863 22.0468 367.2577 21.9754 367.2257 22.6799 366.3686 23.6333 366.0964 24.5147 366.3326 25.1385 366.9961 25.2166 367.8931 24.2217 367.9948 23.9298 368.0135 23.7989 368.1459 23.7545 368.2331 23.8246 368.228 23.9021 368.0889 23.8307 368.0569 23.4072 369.0655 22.7161 371.1752 21.9629 373.6955 21.3154 376.03 20.9426 377.5717 20.9426 377.5717 20.8126 379.1525 20.6944 381.5722 20.6183 384.2016 20.6121 386.4216 20.6976 387.5122 20.7754 387.5042 20.7456 387.3478 20.6806 387.321 20.6953 387.4177 20.778 387.5845 21.0494 387.6938\"/>\n",
       "<polygon fill=\"rgba(40,40,40,1)\" points=\"26.1691 373.0733 27.7588 374.5074 29.1868 377.2213 30.3058 380.3611 30.9349 383.094 30.7516 384.9337 30.7516 384.9337 28.9717 385.4339 26.1711 385.2894 22.8846 384.733 19.9638 383.7985 18.2753 382.4822 18.918 381.7161 20.5971 381.9292 23.4017 382.6172 26.5066 383.4176 29.0715 384.0047 29.9395 384.2524 29.9395 384.2524 29.5447 383.4407 28.5208 381.0168 27.193 378.0982 26.028 375.4559 25.5264 373.8394\"/>\n",
       "<polygon fill=\"rgba(40,40,40,1)\" points=\"63.4169 21.7518 63.5218 19.4232 64.5061 16.171 65.8984 12.8283 67.2371 10.2219 68.5894 8.9407 68.5894 8.9407 69.5228 10.5528 70.0675 13.4318 70.4546 17.0322 70.4762 20.4299 69.9164 22.6927 68.9268 22.5494 68.5027 20.4557 68.2797 17.1496 68.1728 13.5932 68.1047 10.7571 68.4375 9.9899 68.4375 9.9899 68.5391 10.82 67.6695 13.5204 66.5584 16.9004 65.407 20.0075 64.4066 21.895\"/>\n",
       "<polygon fill=\"rgba(40,40,40,1)\" points=\"70.2055 13.8808 71.4566 15.0941 72.0691 17.3997 72.3167 20.1745 72.2517 22.7167 71.8772 24.4328 71.8772 24.4328 70.9035 25.8947 69.1206 27.7081 66.9532 29.4583 64.8696 30.6201 63.1278 30.5636 63.5184 29.6431 63.9518 28.8728 65.7306 27.6557 67.9513 26.2085 69.9204 24.8523 70.9013 24.0188 70.9013 24.0188 70.8191 22.7342 70.4258 20.3758 69.9233 17.7732 69.5623 15.6484 69.815 14.8014\"/>\n",
       "<polygon fill=\"rgba(40,40,40,1)\" points=\"69.8815 33.2129 68.203 33.6442 65.7818 33.5574 63.1236 33.1257 60.7739 32.4706 59.1035 31.5447 59.1579 31.4885 58.2783 29.7902 57.4948 27.323 56.7998 24.5127 56.3453 21.9539 56.3096 20.1618 56.3096 20.1618 57.0285 18.5198 58.4277 16.3298 60.1454 13.9995 61.8135 12.02 63.2762 10.7877 63.2474 10.7149 65.145 10.4988 67.5666 10.7929 70.1876 11.4114 72.4576 12.2579 73.8432 13.2988 73.1475 14.0171 71.9244 13.7452 69.7349 13.3076 67.2289 12.9062 65.0391 12.6798 64.0241 12.6781 63.9953 12.6053 63.0304 13.2715 61.2994 14.9818 59.4662 17.105 57.982 19.1042 57.3045 20.3597 57.3045 20.3597 57.4499 21.7789 58.0559 24.194 58.937 26.8571 59.8815 29.0997 60.518 30.0845 60.5724 30.0283 61.5108 30.4152 63.6205 31.0441 66.0894 31.6324 68.2796 32.0661 69.5136 32.283\"/>\n",
       "<polygon fill=\"rgba(40,40,40,1)\" points=\"56.7409 10.5876 59.7146 9.3758 64.7621 9.2681 70.4713 9.8859 75.3908 10.9597 78.2201 12.3657 78.2201 12.3657 79.1628 15.3811 79.4483 20.4083 79.159 26.1436 78.2575 31.1111 76.5924 33.8568 75.9434 33.096 76.3349 30.6648 76.9946 25.9001 77.548 20.3382 77.7345 15.4938 77.4136 13.0537 77.4136 13.0537 75.0545 12.3524 70.2413 11.7735 64.6617 11.4439 59.8525 11.3447 57.3899 11.3484\"/>\n",
       "<polygon fill=\"rgba(40,40,40,1)\" points=\"58.9212 73.8346 58.5999 71.5168 58.6704 67.8746 59.0093 63.7907 59.5043 60.1761 60.0868 57.8252 60.1596 57.8539 61.3166 56.2038 63.0845 54.3481 65.0854 52.5462 66.9083 51.1777 68.3749 50.6205 68.3749 50.6205 69.6913 51.474 71.1852 53.1956 72.7619 55.3783 74.0996 57.5647 74.8832 59.4213 74.9604 59.4086 75.0349 61.8294 74.7579 65.4673 74.2294 69.531 73.5315 73.1063 72.7295 75.3046 71.799 74.9384 71.9743 72.8397 72.2945 69.2932 72.6264 65.2752 72.8534 61.7365 72.8772 59.7509 72.9544 59.7382 72.527 58.3224 71.4678 56.1669 70.1338 53.9531 68.8747 52.2381 68.2675 51.6293 68.2675 51.6293 67.5457 52.0966 65.9538 53.5081 64.1836 55.3915 62.6944 57.2756 61.9785 58.5698 62.0513 58.5984 61.6565 60.5446 61.1335 64.0517 60.612 68.0495 60.1784 71.584 59.9079 73.6725\"/>\n",
       "<polygon fill=\"rgba(40,40,40,1)\" points=\"67.4662 60.2997 68.6863 60.2461 69.2445 60.8486 69.5906 61.6572 69.7472 62.5494 69.6759 63.4314 69.5219 63.4169 69.1708 64.481 68.6647 66.1662 68.1527 68.093 67.7554 69.8072 67.5319 70.9051 67.6727 70.969 67.2968 71.77 66.7179 72.4668 66.0161 72.9969 65.2324 73.2428 64.1999 72.5906 65.1366 72.2406 64.5961 71.6311 64.7778 71.3 65.2325 70.8682 65.7192 70.4528 66.0354 70.2264 66.1763 70.2903 66.6018 69.4584 67.1633 67.8211 67.6709 65.9111 67.9963 64.211 68.0399 63.2776 67.8859 63.2631 67.7239 62.9097 67.5076 62.3075 67.3271 61.7069 67.3338 61.3292 68.1056 61.0685\"/>\n",
       "<polygon fill=\"rgba(40,40,40,1)\" points=\"74.1484 62.7301 75.9563 63.31 76.1987 65.2394 76.2931 67.1459 76.2422 69.0898 74.5004 69.8454 74.3183 68.8621 74.3281 68.1064 75.0415 67.0406 74.9637 65.4678 74.1485 64.4776 74.0642 63.7266\"/>\n",
       "<polygon fill=\"rgba(40,40,40,1)\" points=\"58.8192 97.0538 62.5633 98.245 68.0441 102.8085 74.4963 108.0243 80.107 112.4271 82.0564 115.8385 81.0568 115.8663 78.6082 113.9714 73.6862 108.9842 67.2753 103.8017 61.3674 100.0341 59.0015 98.037\"/>\n",
       "<polygon fill=\"rgba(40,40,40,1)\" points=\"58.874 101.2382 61.2419 99.5446 65.4999 99.9149 70.2966 100.4556 74.5301 101.0425 76.4616 103.2207 75.4806 103.4148 73.7877 103.0623 70.0853 101.6937 65.4302 101.1689 61.516 101.6791 59.7872 101.6458\"/>\n",
       "<polygon fill=\"rgba(40,40,40,1)\" points=\"70.9144 105.3033 71.8657 107.1067 71.2204 110.0172 70.7668 113.3741 70.6167 116.3515 69.221 117.8379 68.8121 116.9253 68.5364 115.8007 69.5276 113.1698 69.9713 109.8853 69.7138 107.0858 70.278 106.0747\"/>\n",
       "<polygon fill=\"rgba(40,40,40,1)\" points=\"60.0674 109.2769 61.4647 107.8947 64.3519 107.6468 67.5952 107.0494 70.3812 106.2524 72.1793 107.046 71.4809 107.7617 70.5375 108.3987 67.7911 108.29 64.6109 108.8758 62.0835 109.9559 60.975 109.6967\"/>\n",
       "<polygon fill=\"rgba(40,40,40,1)\" points=\"68.6141 100.4393 70.0329 100.5804 70.3704 101.4959 70.4754 102.7023 70.3949 103.9963 70.1461 105.1431 69.994 105.1151 69.4426 106.8641 68.599 109.8154 67.709 113.1911 66.9878 116.1747 66.6052 117.9682 66.7514 118.0188 66.4024 119.1392 65.8344 120.3047 65.1482 121.3025 64.4034 121.9326 63.0994 121.3558 64.098 121.3028 63.2059 120.6802 63.4252 120.1008 63.9578 119.1911 64.5659 118.2167 65.0526 117.4304 65.1987 117.481 65.8273 115.8496 66.7178 112.9257 67.6059 109.5576 68.2727 106.5747 68.5301 104.8455 68.378 104.8175 68.3423 103.8935 68.2937 102.7459 68.2788 101.6919 68.3737 101.0797 69.4567 100.9778\"/>\n",
       "<polygon fill=\"rgba(40,40,40,1)\" points=\"63.0797 159.0851 62.0107 157.9714 61.4114 156.0177 61.1692 153.7937 61.2335 151.8607 61.718 150.5265 61.718 150.5265 63.0599 150.0636 64.9936 150.0304 67.2134 150.3084 69.1573 150.9392 70.2536 152.026 69.5408 152.7274 68.5307 152.8108 66.7356 152.4334 64.7081 151.9104 63.0106 151.4955 62.4615 151.2821 62.4615 151.2821 62.666 151.8345 63.0536 153.5385 63.5438 155.5742 63.8922 157.3752 63.7925 158.3838\"/>\n",
       "<polygon fill=\"rgba(40,40,40,1)\" points=\"77.1864 165.9856 73.6003 166.456 67.6181 164.4484 60.664 162.1855 54.6459 160.2881 52.0234 157.7973 52.9858 157.5257 55.5435 158.3322 61.0847 161.002 67.9744 163.244 74.0256 164.3464 76.5681 165.1996\"/>\n",
       "<polygon fill=\"rgba(40,40,40,1)\" points=\"65.8333 173.4945 62.8087 172.6573 58.7317 170.1392 54.4894 166.7936 51.0413 163.4372 49.2799 160.6529 49.4292 160.6127 49.8077 157.4151 51.207 152.7666 53.1053 147.6265 55.0635 143.1843 56.8542 140.5083 56.7668 140.3807 59.9152 139.4097 64.7172 139.1002 70.1157 139.3152 74.8507 140.0515 77.6934 141.3813 77.0683 142.1618 74.5387 141.7559 69.9693 141.4108 64.7283 141.2823 60.1528 141.4511 57.7826 141.8641 57.6952 141.7365 56.1235 143.7577 54.0545 148.0161 52.1816 153.0874 50.986 157.6684 50.8666 160.226 51.016 160.1858 52.5487 162.0403 55.9162 165.1426 59.9826 168.4515 63.6794 171.1592 65.8656 172.495\"/>\n",
       "<polygon fill=\"rgba(40,40,40,1)\" points=\"53.1615 166.1256 51.9612 164.4381 51.5888 161.5874 51.7607 158.27 52.3879 155.2097 53.5186 153.0242 53.6351 153.126 56.1227 151.465 60.284 149.1583 65.067 146.6615 69.3385 144.5661 72.1235 143.4747 72.1066 143.3209 74.5462 143.6426 77.4155 144.8777 80.2356 146.6332 82.3616 148.5685 83.0599 150.518 82.062 150.454 81.1404 149.7978 79.0476 148.3658 76.3878 146.8027 73.8536 145.5776 72.3038 145.1079 72.2868 144.9542 69.8109 145.6749 65.5238 147.5802 60.7766 150.0583 56.7624 152.4864 54.7556 154.1058 54.8721 154.2076 54.3713 155.7478 53.9277 158.5273 53.6895 161.6033 53.668 164.139 53.6795 165.2702\"/>\n",
       "<polygon fill=\"rgba(40,40,40,1)\" points=\"66.9419 164.4435 64.5085 163.3955 61.1364 161.0929 57.6037 158.2478 54.717 155.5714 53.1791 153.5932 53.3187 153.5265 53.4193 151.706 54.2728 149.7073 55.4717 147.6509 56.7906 145.9236 58.3253 144.9392 58.3146 144.7849 60.7937 145.1487 64.5449 146.3424 68.7611 148.015 72.4261 149.8152 74.5368 151.4166 73.9026 152.1898 71.6818 151.38 67.9661 149.9596 63.7987 148.393 60.2099 147.1192 58.4389 146.5784 58.4282 146.4241 57.6159 146.8017 56.3174 148.232 55.195 150.157 54.5901 151.9917 54.6616 152.8846 54.8012 152.8179 56.1443 154.0926 59.0206 156.5882 62.437 159.4431 65.5035 161.977 67.3023 163.5107\"/>\n",
       "<polygon fill=\"rgba(40,40,40,1)\" points=\"68.6615 209.464 67.0516 209.7037 64.929 209.1455 62.6845 208.1328 60.7841 206.9273 59.5977 205.5846 59.7355 205.5143 59.543 203.7127 59.5972 201.1059 59.7482 198.1737 59.9621 195.5752 60.3387 193.8028 60.2088 193.7188 61.5269 192.5051 63.541 191.5011 65.8777 190.7244 68.0463 190.3871 69.6231 190.791 69.1968 191.6955 68.3224 192.0978 66.4853 192.7353 64.3524 193.5268 62.5243 194.302 61.7184 194.6952 61.5885 194.6112 61.1504 195.7757 60.7709 198.2563 60.623 201.1288 60.7457 203.6353 61.0618 204.8386 61.1997 204.7684 61.9609 205.2424 63.6997 206.2012 65.74 207.2076 67.5019 208.0305 68.3304 208.5204\"/>\n",
       "<polygon fill=\"rgba(40,40,40,1)\" points=\"49.3393 203.8653 50.478 201.6579 53.7902 199.2001 58.126 196.664 62.3112 194.6067 65.2339 193.577 65.2339 193.577 68.317 193.267 72.9798 193.3504 77.9824 193.8035 82.0251 194.6205 83.994 196.1347 83.018 196.3524 81.5805 196.5435 77.6741 195.9596 72.7994 195.2434 68.2714 194.699 65.4647 194.6117 65.4647 194.6117 62.9612 195.8836 59.0938 198.3008 54.9856 201.0208 51.6978 203.2096 50.3154 203.6476\"/>\n",
       "<polygon fill=\"rgba(40,40,40,1)\" points=\"79.4821 187.1878 80.014 189.8496 78.9412 194.2171 77.0448 199.2614 74.9176 203.7268 73.0836 206.4186 73.0836 206.4186 70.3913 208.2518 65.9254 210.3779 60.8806 212.273 56.5128 213.3448 53.8512 212.8122 54.5584 212.1052 56.1203 211.4105 60.2297 210.1945 65.251 208.5999 69.7758 206.9581 72.3341 205.6689 72.3341 205.6689 73.6239 203.1109 75.267 198.5865 76.8628 193.5656 78.0799 189.4565 78.7749 187.8948\"/>\n",
       "<polygon fill=\"rgba(40,40,40,1)\" points=\"64.1276 190.8624 65.1341 190.1648 66.5631 189.8841 68.14 189.8951 69.5954 190.1714 70.8332 190.9263 70.7735 190.977 71.3388 192.3851 71.8431 194.4109 72.3178 196.7482 72.6559 198.8988 72.7401 200.4097 72.7401 200.4097 72.4537 201.8956 71.8299 203.9813 71.0456 206.2336 70.2738 208.1734 69.5245 209.4928 69.5768 209.5511 68.2489 210.1329 66.7696 210.2112 65.2054 210.0103 63.8271 209.5403 62.9235 208.7138 63.6853 208.066 64.2942 208.0309 65.4537 208.0767 66.7846 208.0711 67.8894 207.9791 68.1667 207.9799 68.2189 208.0381 68.722 207.374 69.6523 205.6372 70.6164 203.5268 71.3837 201.5703 71.7279 200.3414 71.7279 200.3414 71.5519 199.0774 71.0542 197.0356 70.3824 194.8148 69.6937 192.9689 69.2844 192.2432 69.2248 192.2939 68.9499 192.2574 67.8675 192.0178 66.5494 191.8335 65.3942 191.7232 64.7956 191.6066\"/>\n",
       "<polygon fill=\"rgba(40,40,40,1)\" points=\"67.2904 240.036 68.0811 241.0834 67.867 243.1442 68.0947 245.4895 68.7013 247.4707 68.1267 248.6506 67.1732 248.3493 66.5536 247.6076 66.8437 245.6013 66.6179 243.2752 65.9472 241.3621 66.4126 240.515\"/>\n",
       "<polygon fill=\"rgba(40,40,40,1)\" points=\"59.7741 241.9403 58.5113 241.1907 58.8998 239.9189 59.4956 239.0241 60.5191 238.1751 61.6978 239.0511 61.1927 239.9142 60.6359 240.3239 60.2874 239.9991 60.1048 240.2734 60.5389 240.4697 60.3757 241.1414\"/>\n",
       "<polygon fill=\"rgba(40,40,40,1)\" points=\"82.5371 248.3953 80.7059 250.0348 76.8706 251.0933 72.1393 251.7968 67.7413 252.0766 64.826 251.8384 64.826 251.8384 62.1393 250.682 58.3857 248.3729 54.5365 245.5333 51.645 242.8001 50.7963 240.4935 51.7666 240.7351 53.0502 241.4142 55.9283 243.8579 59.517 246.8444 62.9008 249.4683 65.0821 250.8097 65.0821 250.8097 67.6376 250.6476 71.8567 249.9164 76.4267 248.961 80.1146 248.1518 81.5667 248.1538\"/>\n",
       "<polygon fill=\"rgba(40,40,40,1)\" points=\"59.4383 250.5669 59.5899 248.0749 61.8699 244.5442 64.2414 240.3048 66.057 236.5142 68.1011 235.0809 68.3502 236.0494 67.8436 237.7139 65.3258 240.9386 62.9775 245.1365 61.5471 248.9695 60.3939 250.2723\"/>\n",
       "<polygon fill=\"rgba(40,40,40,1)\" points=\"61.0827 232.1898 63.9836 231.7928 68.438 232.2572 73.3439 233.2632 77.5609 234.5291 80.1316 235.9347 80.0226 236.0445 80.8837 238.4142 81.2955 241.925 81.4409 245.8843 81.2877 249.4158 80.6027 251.8423 80.7195 251.9438 78.2587 253.5342 74.146 255.1058 69.3271 256.469 64.9187 257.2588 61.9965 257.0756 62.2053 256.0976 64.6288 255.5504 68.7985 254.4358 73.473 253.03 77.4515 251.6442 79.3626 250.7643 79.4793 250.8657 80.096 249.2358 80.4149 245.8735 80.2731 242.011 79.7085 238.6811 78.9739 237.1008 78.8649 237.2105 76.8944 236.4731 72.825 235.3828 68.06 234.3236 63.8198 233.5178 61.3627 233.1498\"/>\n",
       "<polygon fill=\"rgba(40,40,40,1)\" points=\"63.15 284.0932 64.4193 283.5128 66.0763 283.7855 67.8524 284.4945 69.3598 285.3605 70.3007 286.224 70.3007 286.224 70.8414 287.381 71.2143 289.079 71.3565 290.9861 71.1185 292.6484 70.1833 293.6845 69.592 292.8781 69.1673 292.3511 69.1797 290.9119 69.314 289.1504 69.423 287.5836 69.4458 286.8509 69.4458 286.8509 68.7402 286.6524 67.2131 286.2854 65.4927 285.884 64.1164 285.4631 63.7414 284.8997\"/>\n",
       "<polygon fill=\"rgba(40,40,40,1)\" points=\"58.7156 284.8046 61.2333 283.2207 65.5111 281.4302 70.3834 279.7666 74.6715 278.5813 77.383 278.224 77.3739 278.3784 78.9275 279.3564 80.1272 281.0736 81.1204 283.1136 81.7322 285.1171 81.5438 286.9432 81.671 287.0313 79.7173 288.9453 76.1396 291.5896 71.8251 294.3987 67.7773 296.6617 64.9776 297.6666 64.662 296.7177 66.9125 295.1602 70.6934 292.6289 74.9048 289.7904 78.4692 287.3125 80.1928 286.0079 80.3199 286.096 80.5341 285.2476 80.1614 283.4784 79.2486 281.6035 78.0858 280.219 77.2859 279.8643 77.2768 280.0187 75.1869 280.5708 71.038 281.8482 66.2063 283.4126 61.8819 284.8275 59.2678 285.6383\"/>\n",
       "<polygon fill=\"rgba(40,40,40,1)\" points=\"61.3908 287.2726 61.8424 286.2971 62.7987 285.2119 64.0012 284.1564 65.186 283.318 66.2739 282.8367 66.292 282.9129 67.4045 283.0198 68.6232 283.3804 69.8999 283.8603 70.997 284.3726 71.7508 284.937 71.7508 284.937 72.1117 285.8067 72.3375 286.9963 72.4875 288.352 72.5363 289.6219 72.3655 290.7264 72.4348 290.7627 71.7 291.6983 70.5952 292.6396 69.2756 293.5445 67.9881 294.2035 66.9312 294.4004 66.7006 293.4274 67.1544 292.8614 68.121 291.9738 69.2369 290.9857 70.1869 290.1241 70.5642 289.7839 70.6336 289.8202 70.8016 289.4274 70.9721 288.3408 71.0445 287.0834 71.0114 286.0066 70.9498 285.5596 70.9498 285.5596 70.5318 285.3897 69.4964 285.0918 68.2601 284.8518 67.165 284.7489 66.7429 284.8149 66.761 284.891 66.3382 285.1727 65.2688 285.8808 64.0359 286.7184 62.9373 287.4361 62.2768 287.7363\"/>\n",
       "<polygon fill=\"rgba(40,40,40,1)\" points=\"54.3695 279.9961 57.0327 277.9811 62.0396 276.4527 67.8764 275.4548 73.0263 275.1338 76.171 275.7461 76.171 275.7461 77.7375 278.5408 79.0458 283.532 79.9264 289.3876 80.0432 294.6213 78.9638 297.7817 78.1535 297.1957 78.0702 294.5708 77.7568 289.5802 77.1696 283.8415 76.3608 278.9375 75.5498 276.6051 75.5498 276.6051 73.0807 276.5655 68.1701 277.3335 62.5363 278.5734 57.6988 279.839 55.1799 280.5821\"/>\n",
       "<polygon fill=\"rgba(40,40,40,1)\" points=\"61.2341 328.5705 63.0026 328.3763 65.7701 328.5059 68.8678 328.843 71.6055 329.2753 73.3784 329.7186 73.3529 329.7926 74.6123 330.5511 76.0288 331.6552 77.404 332.8796 78.4575 333.9845 78.9432 335.0506 78.9432 335.0506 78.1836 335.9426 76.8673 336.716 75.209 337.5161 73.5439 338.189 72.1247 338.5729 72.1289 338.651 70.3024 338.5909 67.5511 338.2553 64.4799 337.7294 61.783 337.0947 60.1357 336.4227 60.461 335.4771 62.072 335.5414 64.772 335.802 67.8233 336.1325 70.5074 336.417 72.0162 336.5428 72.0204 336.6209 73.0715 336.5086 74.6794 336.0961 76.3326 335.5356 77.6022 334.9872 77.9385 334.9101 77.9385 334.9101 77.6362 334.7437 76.5659 333.8679 75.13 332.8753 73.6969 332.0375 72.717 331.641 72.6915 331.715 71.2062 331.422 68.547 330.959 65.5221 330.4396 62.8542 329.9492 61.2875 329.569\"/>\n",
       "<polygon fill=\"rgba(40,40,40,1)\" points=\"65.2815 326.8716 67.424 327.487 70.4713 329.0396 73.7044 331.0184 76.3826 332.9136 77.8844 334.3555 77.76 334.4474 77.9386 335.9025 77.5026 337.3947 76.8087 338.9057 75.9609 340.2088 74.7408 341.0216 74.7522 341.1759 72.6799 340.9764 69.4971 340.1801 65.8892 339.0173 62.7257 337.7177 60.8627 336.4936 61.3939 335.6463 63.34 336.0975 66.5438 337.0211 70.1104 338.0859 73.1578 338.9776 74.6202 339.3829 74.6316 339.5371 75.1052 339.3602 75.9192 338.3943 76.535 337.0533 76.7372 335.8065 76.5628 335.3319 76.4383 335.4238 75.1779 334.5787 72.5156 332.8483 69.3838 330.8369 66.5954 329.0088 64.9849 327.8266\"/>\n",
       "<polygon fill=\"rgba(40,40,40,1)\" points=\"53.3882 369.3893 55.6565 368.0364 59.8494 367.6087 64.8044 367.7569 69.2593 368.3296 72.0574 369.2446 72.0574 369.2446 74.0854 371.3785 76.5161 375.1556 78.778 379.5666 80.1926 383.5368 79.9451 386.1662 79.0997 385.6322 78.3057 384.1157 76.7818 380.4378 74.8288 376.0325 72.8838 372.1587 71.4912 370.1408 71.4912 370.1408 69.0708 369.7499 64.7372 369.6573 59.92 369.7856 55.9442 369.9891 54.2337 369.9234\"/>\n",
       "<polygon fill=\"rgba(40,40,40,1)\" points=\"55.2469 378.2027 56.3567 376.7913 58.7208 375.9331 61.7346 375.2527 64.5985 374.8174 66.552 374.696 66.552 374.696 68.5091 374.6719 71.3974 374.8932 74.4535 375.3477 76.8748 376.0278 78.0865 377.3529 77.0872 377.39 76.345 377.9291 74.0002 377.4781 71.064 376.7653 68.3202 376.0921 66.5914 375.7554 66.5914 375.7554 64.8925 376.2197 62.2063 377.0949 59.3311 378.0239 57.0264 378.6479 56.2462 378.1655\"/>\n",
       "<polygon fill=\"rgba(40,40,40,1)\" points=\"65.4852 375.2782 67.2964 374.1144 70.2663 373.1466 73.517 372.4475 76.1799 372.0934 77.9015 372.4674 77.9015 372.4674 77.0976 374.035 75.1337 375.8679 72.5301 377.936 69.8971 379.6165 67.8482 380.2774 67.4208 379.3733 68.8154 377.9656 71.2711 376.1586 73.9921 374.3472 76.1791 372.9355 76.943 372.9204 76.943 372.9204 76.4464 373.5011 73.9674 374.295 70.8405 375.2476 67.8855 375.9982 65.9125 376.1823\"/>\n",
       "<polygon fill=\"rgba(40,40,40,1)\" points=\"62.5135 376.2493 63.4119 375.0423 65.2163 375.0718 67.1696 374.7491 68.8687 374.1408 70.1075 374.9947 69.3406 375.6365 68.9392 376.2916 67.3363 375.994 65.4589 376.3042 64.0369 377.1015 63.4461 376.6103\"/>\n",
       "<polygon fill=\"rgba(40,40,40,1)\" points=\"53.9944 379.6169 55.1706 378.1429 57.7391 377.1599 61.0392 376.2837 64.1843 375.6367 66.3128 375.3394 66.3128 375.3394 68.438 375.0194 71.6372 374.7456 75.0502 374.6475 77.7922 374.8598 79.3389 375.9387 78.3493 376.0823 77.6594 376.8291 74.9986 376.825 71.636 376.6472 68.4803 376.4515 66.465 376.3885 66.465 376.3885 64.5508 377.0218 61.581 378.1065 58.4077 379.2328 55.8577 379.9932 54.984 379.4733\"/>\n",
       "<polygon fill=\"rgba(40,40,40,1)\" points=\"113.1714 25.6814 111.3863 25.2817 108.7698 24.1956 105.9645 22.8001 103.6215 21.4735 102.3135 20.5378 102.4086 20.4158 101.9773 19.5125 102.0562 18.6702 102.3794 17.9367 102.9478 17.3101 103.9055 17.0188 103.9313 16.8663 105.5045 17.2002 108.0646 18.0341 110.9875 19.1627 113.5547 20.3608 115.0543 21.4084 114.5973 22.2979 112.9058 21.9674 110.2419 21.1267 107.3205 20.0855 104.8494 19.1481 103.6313 18.639 103.6571 18.4864 103.5061 18.3781 103.2189 18.5265 103.058 18.8918 103.1423 19.2037 103.3241 19.2421 103.4192 19.1202 104.617 19.6755 106.9763 20.8666 109.7161 22.32 112.1342 23.7186 113.5194 24.744\"/>\n",
       "<polygon fill=\"rgba(40,40,40,1)\" points=\"119.1108 5.9421 121.5942 8.5814 123.8654 13.9465 125.6889 20.3559 126.7028 26.1292 126.4728 29.7707 126.4728 29.7707 123.7307 32.1777 118.5409 34.9026 112.3529 37.3754 106.7181 38.8555 103.1114 38.5024 103.5524 37.6049 106.3166 36.9231 111.664 35.3092 117.8059 33.1489 123.0298 30.9281 125.5214 29.3031 125.5214 29.3031 125.2853 26.3379 123.8514 20.8456 121.8088 14.6636 119.8191 9.4443 118.6698 6.8396\"/>\n",
       "<polygon fill=\"rgba(40,40,40,1)\" points=\"119.3551 62.1776 119.9706 63.5943 120.2536 65.7334 120.2796 68.1319 120.0765 70.2932 119.5565 71.9135 119.4898 71.8728 118.2246 72.9361 116.3722 73.9993 114.2488 75.0318 112.2908 75.8167 110.838 76.1241 110.838 76.1241 109.4054 75.7334 107.4959 74.8368 105.4356 73.6835 103.6477 72.5152 102.446 71.3806 102.377 71.4174 101.9514 69.7698 101.8733 67.6004 102.0378 65.2074 102.4436 63.0882 103.1399 61.7093 103.9934 62.2304 104.0034 63.3399 103.9834 65.3291 104.0134 67.5903 104.1235 69.5469 104.2394 70.4231 104.1704 70.46 104.7586 71.1687 106.28 72.425 108.1428 73.714 109.865 74.7139 110.8673 75.1101 110.8673 75.1101 111.8907 74.7724 113.6678 73.8735 115.6019 72.6942 117.1932 71.5277 117.8214 70.8542 117.7546 70.8134 117.9209 69.9453 118.1437 67.9983 118.3041 65.7426 118.399 63.7556 118.473 62.6485\"/>\n",
       "<polygon fill=\"rgba(40,40,40,1)\" points=\"102.9929 68.1274 103.7333 66.7972 105.3289 66.0652 107.4111 65.4705 109.412 65.0612 110.7901 64.8826 110.7901 64.8826 112.144 64.5696 114.1621 64.2557 116.321 64.0873 118.0717 64.2172 119.2293 65.2059 118.2451 65.383 117.9842 66.189 116.3241 66.2654 114.2109 66.1567 112.2262 66 110.9778 65.9259 110.9778 65.9259 109.8335 66.4306 108.028 67.2692 106.0852 68.1077 104.5026 68.6148 103.9771 67.9503\"/>\n",
       "<polygon fill=\"rgba(40,40,40,1)\" points=\"118.801 68.3882 120.1928 69.0949 119.9159 70.4812 119.3886 71.5202 118.4333 72.5623 117.0412 71.8563 117.4364 70.9378 117.9755 70.4596 118.4672 70.6668 118.683 70.2415 118.2254 69.967 118.2931 69.2496\"/>\n",
       "<polygon fill=\"rgba(40,40,40,1)\" points=\"101.7358 80.4922 100.0877 77.9191 99.2392 73.0926 98.9851 67.421 99.2776 62.3624 100.1557 59.2376 100.1557 59.2376 102.7338 57.2657 107.3252 55.1221 112.6883 53.2596 117.4861 52.2621 120.4865 52.8411 119.9252 53.6687 117.7913 54.212 113.2757 55.357 107.9702 56.911 103.3618 58.5534 101.0331 59.8326 101.0331 59.8326 100.7064 62.4694 100.8856 67.3584 101.405 72.8623 102.0122 77.4811 102.297 79.6646\"/>\n",
       "<polygon fill=\"rgba(40,40,40,1)\" points=\"112.7127 118.714 111.3839 118.8778 109.5738 118.5779 107.6237 117.9965 105.9212 117.2838 104.7063 116.4291 104.7644 116.3767 104.2011 115.065 103.8101 113.3393 103.512 111.42 103.3703 109.6916 103.4917 108.4453 103.4917 108.4453 104.1738 107.3951 105.3621 106.1321 106.7917 104.8173 108.1733 103.7118 109.4315 103.0373 109.4188 102.9601 110.9015 103.0493 112.677 103.5534 114.5642 104.3146 116.1664 105.2086 117.1033 106.1651 116.3605 106.8346 115.462 106.6228 113.8615 106.133 112.0356 105.5951 110.4443 105.1844 109.7636 105.0429 109.7508 104.9657 109.0888 105.1981 107.7116 106.0216 106.2185 107.1047 104.9944 108.155 104.4492 108.7803 104.4492 108.7803 104.4856 109.6091 104.7879 111.1934 105.2802 112.9711 105.8435 114.4736 106.2163 115.068 106.2744 115.0156 106.8948 115.3293 108.3951 116.0002 110.1581 116.718 111.7147 117.3329 112.5494 117.7274\"/>\n",
       "<polygon fill=\"rgba(40,40,40,1)\" points=\"108.5936 109.1529 109.6503 108.5658 110.8273 109.2804 112.2624 109.6597 113.6387 109.62 114.2674 110.6525 113.3893 111.1311 112.9202 111.6485 111.9183 110.8677 110.5296 110.5006 109.2727 110.6844 109.1205 110.0028\"/>\n",
       "<polygon fill=\"rgba(40,40,40,1)\" points=\"102.6398 103.7344 105.4852 103.9754 110.0118 106.4264 115.4247 108.9785 120.1957 110.9112 122.192 112.953 121.3052 113.415 119.1648 112.8002 114.8736 110.1071 109.4918 107.5697 104.6838 105.9726 102.8476 104.7126\"/>\n",
       "<polygon fill=\"rgba(40,40,40,1)\" points=\"94.3077 112.7219 93.8171 110.7232 94.0792 107.9248 94.8311 104.9055 95.8908 102.2741 97.3207 100.4966 97.363 100.5624 99.8139 99.9158 103.5552 99.491 107.8526 99.2351 111.76 99.2108 114.3819 99.5036 114.3819 99.5036 116.771 100.6228 120.0909 102.6836 123.6224 105.1456 126.5914 107.4613 128.3442 109.2924 128.4146 109.2583 128.7061 111.521 128.236 114.3185 127.3008 117.2861 126.0633 119.8097 124.6013 121.2581 124.061 120.4167 124.6593 119.0851 125.4545 116.6604 126.1486 113.8461 126.5284 111.362 126.5142 110.1779 126.5846 110.1438 125.4152 108.7511 122.6928 106.3425 119.3499 103.7468 116.1988 101.5837 114.1068 100.4801 114.1068 100.4801 111.7463 100.3291 107.9295 100.5287 103.7232 100.9971 100.1437 101.63 98.4191 102.2072 98.4614 102.2731 97.8311 103.2756 96.858 105.5924 95.9806 108.3551 95.3929 110.8382 95.2079 112.2863\"/>\n",
       "<polygon fill=\"rgba(40,40,40,1)\" points=\"123.4882 147.1659 123.0836 150.8029 119.727 156.3127 115.9096 162.7514 112.6862 168.3402 109.6894 170.4403 109.6007 169.4443 110.9636 167.0504 114.8456 162.084 118.6309 155.6994 121.1254 149.9105 122.5717 147.5661\"/>\n",
       "<polygon fill=\"rgba(40,40,40,1)\" points=\"103.4669 148.7517 104.26 147.5609 105.7573 146.4506 107.5763 145.5012 109.3516 144.8703 110.98 144.7855 110.9615 144.8615 112.3792 145.7681 114.0812 147.2854 115.9072 149.1038 117.4666 150.8418 118.3868 152.1783 118.3868 152.1783 118.8136 153.7438 119.1346 156.0566 119.3449 158.6251 119.4052 160.9044 119.1826 162.5724 119.2526 162.6073 118.1368 163.7964 116.509 164.7451 114.6099 165.5216 112.7953 165.9486 111.3738 165.7858 111.6108 164.8143 112.4008 164.4187 113.8729 163.7168 115.5179 162.8483 116.8738 162.0152 117.3631 161.6654 117.4332 161.7003 117.6643 160.7765 117.8295 158.6417 117.8416 156.1431 117.707 153.9051 117.4666 152.6054 117.4666 152.6054 116.6291 151.5829 115.0066 150.0356 113.0903 148.4321 111.3532 147.1804 110.4984 146.7606 110.4798 146.8366 109.8968 146.9847 108.3853 147.4825 106.6602 148.1783 105.1739 148.8497 104.3618 149.1978\"/>\n",
       "<polygon fill=\"rgba(40,40,40,1)\" points=\"106.8287 168.8679 104.825 167.6684 102.3181 165.2605 99.7806 162.3092 97.7385 159.4792 96.6711 157.2325 96.7475 157.216 96.9593 154.8635 97.8012 151.7516 98.9824 148.3946 100.255 145.5129 101.4637 143.7626 101.4637 143.7626 103.4188 142.9247 106.4956 142.2483 110.02 141.7558 113.2371 141.5473 115.5849 141.8058 115.6162 141.7342 117.6068 143.2256 119.976 145.788 122.366 148.86 124.2294 151.7944 125.0081 153.996 124.0307 154.2073 122.8977 152.6445 120.8207 150.0485 118.3611 147.1923 116.0904 144.7967 114.77 143.6684 114.8014 143.5967 113.1851 143.2921 110.1295 143.2673 106.6816 143.5308 103.6954 144.0083 102.106 144.5478 102.106 144.5478 101.2623 145.9987 100.2026 148.8311 99.2611 152.1584 98.6799 155.1583 98.6581 156.8029 98.7346 156.7864 99.5789 158.3042 101.4771 161.0045 103.7892 163.9814 105.9222 166.5316 107.2295 167.9518\"/>\n",
       "<polygon fill=\"rgba(40,40,40,1)\" points=\"101.5081 147.641 102.3541 146.4605 103.4037 146.6682 104.64 147.2521 105.872 148.0523 106.8679 148.9157 106.7696 149.0351 108.2338 150.5395 110.7535 153.0131 113.669 155.7769 116.2737 158.1609 117.8541 159.5426 117.9681 159.438 118.8835 160.3864 119.7483 161.5739 120.3975 162.7773 120.661 163.8143 119.5273 164.7222 119.9813 163.8311 119.0047 164.3235 118.5408 163.76 117.8942 162.7245 117.2114 161.5813 116.6434 160.6535 116.7574 160.549 115.4324 159.0238 112.9605 156.519 110.0502 153.7603 107.4171 151.4257 105.8233 150.1841 105.7249 150.3035 104.7681 149.7858 103.5901 149.1651 102.5215 148.5747 101.9341 148.1415 102.3736 147.1401\"/>\n",
       "<polygon fill=\"rgba(40,40,40,1)\" points=\"122.6223 191.2427 123.9554 192.3489 125.0641 194.3252 125.8998 196.6737 126.3255 198.9272 126.0581 200.8708 125.9882 200.8357 124.4561 202.3922 121.9106 204.3473 118.8873 206.4419 116.0452 208.2117 113.9941 209.1999 113.9941 209.1999 111.7459 209.559 108.402 209.7277 104.7241 209.7331 101.5179 209.5803 99.3716 209.1766 99.3342 209.2453 98.0054 207.8019 97.0689 205.7084 96.4149 203.303 96.1975 201.0474 96.6608 199.3782 97.5547 199.8265 97.7718 200.9145 98.3052 202.8266 99.0715 204.9535 99.8969 206.711 100.3439 207.3912 100.3065 207.4599 101.7395 207.8488 104.8041 208.2197 108.4079 208.4318 111.6764 208.4428 113.6907 208.2319 113.6907 208.2319 115.4652 207.2555 118.143 205.3811 120.9812 203.1503 123.286 201.0968 124.2408 199.9596 124.1708 199.9245 124.1497 199.1108 123.8245 197.1967 123.2399 195.0128 122.5868 193.1383 122.144 192.1209\"/>\n",
       "<polygon fill=\"rgba(40,40,40,1)\" points=\"113.6076 199.0565 114.2836 200.0839 113.5405 200.7771 113.0901 201.6092 112.916 202.6103 111.6861 202.6061 111.869 201.623 111.3159 201.1714 112.0206 200.9505 112.4043 200.2418 112.2038 199.531 112.8844 199.7471\"/>\n",
       "<polygon fill=\"rgba(40,40,40,1)\" points=\"97.2158 239.2246 100.727 239.5848 107.4634 242.004 115.4993 244.3758 122.4698 246.0021 125.6138 247.6063 125.221 248.5259 121.8418 248.0605 115.1412 245.5797 107.1104 243.2094 100.1367 241.6542 97.0463 240.2101\"/>\n",
       "<polygon fill=\"rgba(40,40,40,1)\" points=\"114.6398 248.4319 113.2543 248.3235 111.1666 247.7971 108.8647 247.053 106.8529 246.2931 105.575 245.6873 105.6123 245.6185 104.7541 244.8963 103.8141 243.9395 102.917 242.9228 102.2427 242.0398 101.9717 241.0868 101.9717 241.0868 102.7952 240.536 103.8807 240.2995 105.2227 240.1054 106.5585 239.9846 107.6802 239.9898 107.6962 239.9132 109.0624 240.2788 111.0877 241.002 113.3239 241.9251 115.2558 242.8754 116.382 243.6898 115.9045 244.5685 114.6611 244.3392 112.6358 243.7491 110.3671 243.0172 108.3792 242.3527 107.2636 241.9796 107.2796 241.903 106.5005 241.7293 105.2757 241.6199 104.0009 241.5898 103.0176 241.632 102.9239 241.4366 102.9239 241.4366 103.1218 241.3484 103.8439 242.0172 104.835 242.8194 105.8393 243.5291 106.5456 243.901 106.583 243.8322 107.6748 244.2701 109.62 245.0506 111.8231 245.9615 113.7486 246.8229 114.8448 247.4531\"/>\n",
       "<polygon fill=\"rgba(40,40,40,1)\" points=\"108.4426 236.9518 109.9611 236.8505 112.1338 237.2261 114.5057 237.8861 116.5803 238.6562 117.9993 239.4767 117.9483 239.5361 118.7451 240.8106 119.4326 242.533 120.0309 244.4403 120.4169 246.1532 120.4192 247.4273 120.4192 247.4273 119.6768 248.4627 118.3671 249.6323 116.7717 250.8365 115.2112 251.8385 113.822 252.4125 113.829 252.4905 112.1973 252.3334 110.0615 251.7543 107.7479 250.9128 105.7615 249.9556 104.5847 248.9905 105.2358 248.2315 106.387 248.5047 108.3886 249.0716 110.6639 249.7007 112.6592 250.1993 113.6416 250.3876 113.6486 250.4655 114.4536 250.2658 115.9745 249.5476 117.6035 248.5853 118.9173 247.6418 119.4531 247.1177 119.4531 247.1177 119.3217 246.3797 118.801 244.8484 118.0348 243.1185 117.2146 241.6501 116.6756 241.0197 116.6246 241.0791 115.7157 240.6613 113.8023 239.9073 111.5851 239.0967 109.6269 238.3946 108.5313 237.9479\"/>\n",
       "<polygon fill=\"rgba(40,40,40,1)\" points=\"106.0648 284.9647 107.9658 282.6243 111.5509 279.9588 115.6786 277.5004 119.2262 275.7922 121.5366 275.482 121.5366 275.482 121.8052 277.7977 121.0235 281.6568 119.6577 286.2628 117.9574 290.3941 116.1574 292.8131 115.368 292.1992 116.143 289.6173 117.6045 285.536 119.2027 281.1085 120.4027 277.5046 120.8859 276.3189 120.8859 276.3189 119.8557 277.0793 116.6585 279.1301 112.7612 281.7697 109.1656 284.1915 106.8542 285.5786\"/>\n",
       "<polygon fill=\"rgba(40,40,40,1)\" points=\"119.0847 273.9372 120.887 276.3168 122.0453 280.9868 122.6851 286.5563 122.755 291.5858 122.1353 294.768 122.1353 294.768 119.838 297.0556 115.6225 299.7997 110.641 302.3714 106.1176 304.0114 103.1375 303.8406 103.6081 302.9582 105.5369 302.1251 109.7613 300.3789 114.7322 298.1195 119.0391 295.8662 121.1999 294.2692 121.1999 294.2692 121.3223 291.585 120.7938 286.7531 119.9006 281.3664 118.997 276.8855 118.6142 274.8196\"/>\n",
       "<polygon fill=\"rgba(40,40,40,1)\" points=\"116.8668 283.1566 117.4646 284.7284 117.8608 287.2121 118.068 290.0224 118.0766 292.5435 117.8361 294.3056 117.7611 294.2831 116.9181 295.6012 115.6202 297.0306 114.1275 298.438 112.7349 299.5384 111.5555 300.06 111.5555 300.06 110.3383 299.6337 108.8627 298.6474 107.2629 297.3631 105.8556 296.0412 104.9106 294.7942 104.8377 294.8226 104.4579 293.0852 104.2662 290.5714 104.2495 287.7535 104.4472 285.2462 104.9183 283.6319 105.8761 283.9193 106.0259 285.3085 106.1986 287.7155 106.4025 290.4431 106.626 292.8261 106.8052 294.0572 106.7323 294.0855 107.1925 294.9189 108.3163 296.2735 109.6877 297.648 110.9378 298.6896 111.5151 299.0464 111.5151 299.0464 112.0623 298.6449 113.2258 297.5073 114.4837 296.0281 115.4962 294.5886 115.8889 293.7213 115.8139 293.6988 115.8948 292.4574 115.9283 290.0642 115.9149 287.329 115.8959 284.9159 115.9348 283.5192\"/>\n",
       "<polygon fill=\"rgba(40,40,40,1)\" points=\"98.6902 290.8398 100.9319 288.6183 106.2459 286.408 112.3084 283.5605 117.4025 280.8822 120.5436 280.5755 120.312 281.5483 118.1953 282.8829 112.826 284.7049 106.7962 287.5371 101.9654 290.5058 99.5867 291.2827\"/>\n",
       "<polygon fill=\"rgba(40,40,40,1)\" points=\"106.5608 290.3171 105.8252 288.232 105.7108 285.0483 106.012 281.6398 106.5436 278.8705 107.4699 277.2883 107.4699 277.2883 109.1342 278.0574 111.1531 280.0261 113.348 282.6511 115.0734 285.3291 115.6614 287.4606 114.7073 287.7601 113.4083 286.3888 111.5911 283.9385 109.6757 281.2234 108.1046 279.0537 107.7874 278.2997 107.7874 278.2997 107.958 279.0997 107.9085 281.778 107.8883 285.1007 107.7972 288.15 107.5149 290.0177\"/>\n",
       "<polygon fill=\"rgba(40,40,40,1)\" points=\"127.3731 328.4097 127.824 330.6631 127.1228 333.8996 125.7462 337.4266 124.048 340.4716 122.1955 342.3454 122.1184 342.2113 119.1948 342.8633 114.5406 343.3826 109.2521 343.7877 104.573 343.9832 101.5843 343.784 101.5285 343.9283 99.4122 342.3584 97.2701 339.6077 95.3724 336.3314 94.1865 333.2394 94.289 330.9437 95.2166 331.3172 95.8258 332.678 97.2304 335.351 99.0897 338.4032 100.9542 340.9998 102.1768 342.2514 102.121 342.3957 104.5966 342.7782 109.1984 342.763 114.4376 342.3618 118.988 341.676 121.3765 340.9209 121.2994 340.7868 122.3171 339.3636 123.7644 336.5134 125.1372 333.2136 126.1183 330.3579 126.5132 328.9202\"/>\n",
       "<polygon fill=\"rgba(40,40,40,1)\" points=\"111.1026 328.5111 112.2982 328.7752 113.0939 329.7427 113.6947 331.0445 114.0628 332.3211 114.157 333.328 114.157 333.328 114.0663 334.3351 113.7028 335.6131 113.1066 336.9169 112.3143 337.8872 111.1196 338.1555 111.1179 337.1555 110.7672 336.6617 111.2597 335.7625 112.0279 334.7126 112.7473 333.7757 113.0969 333.3298 113.0969 333.3298 112.7457 332.8852 112.023 331.9508 111.2511 330.9037 110.7554 330.0062 111.1044 329.5111\"/>\n",
       "<polygon fill=\"rgba(40,40,40,1)\" points=\"114.1472 318.5349 116.5691 319.54 119.5704 322.0664 122.5746 325.3079 124.9243 328.4861 125.9888 331.0627 125.8349 331.0782 125.0784 333.7148 123.3189 337.3967 121.1077 341.4333 118.9522 344.8982 117.1376 346.9553 117.2075 347.0933 114.463 347.5834 110.5197 347.3144 106.1707 346.5279 102.4259 345.3588 100.275 343.859 101.0146 343.186 102.9755 343.7155 106.6049 344.4725 110.8056 345.1511 114.5004 345.5286 116.3958 345.489 116.4656 345.6271 117.9846 344.1798 120.2255 340.9095 122.4025 336.9352 123.952 333.2862 124.3539 331.227 124.1999 331.2424 123.2128 329.6239 120.9055 326.7134 118.0721 323.5388 115.4802 320.8879 113.9783 319.5205\"/>\n",
       "<polygon fill=\"rgba(40,40,40,1)\" points=\"119.4052 328.0578 120.339 330.3965 120.3583 334.1369 119.7921 338.2633 118.8941 341.7428 117.7199 343.7235 117.7199 343.7235 115.4283 343.9473 111.8962 343.2856 107.9189 342.0492 104.5394 340.4461 102.817 338.6089 103.6608 338.0722 105.449 338.6945 108.7083 340.0192 112.4539 341.4677 115.6845 342.5377 117.151 342.829 117.151 342.829 117.5088 341.3773 117.9092 337.9978 118.1851 333.9913 118.367 330.4778 118.5614 328.5945\"/>\n",
       "<polygon fill=\"rgba(40,40,40,1)\" points=\"102.0176 375.4631 103.1762 372.355 106.1175 368.3327 109.7843 364.3356 113.1515 361.3208 115.5816 360.2145 115.5816 360.2145 117.1871 362.348 118.7032 366.6058 120.0127 371.8696 120.673 376.8086 120.2046 380.0924 119.2355 379.8458 118.7101 377.0152 117.8733 372.2783 116.8604 367.0749 115.8435 362.8454 115.3201 361.2419 115.3201 361.2419 114.0939 362.4 111.1785 365.6287 107.8011 369.7145 104.8014 373.4749 102.9867 375.7098\"/>\n",
       "<polygon fill=\"rgba(40,40,40,1)\" points=\"116.4104 368.725 116.535 371.3907 114.8181 375.943 113.1796 381.3596 112.0855 386.1003 110.5043 388.25 109.8385 387.5038 110.0576 385.3802 111.9815 380.9827 113.6119 375.5926 114.4479 370.866 115.4427 368.9771\"/>\n",
       "<polygon fill=\"rgba(40,40,40,1)\" points=\"114.5624 371.8948 114.838 373.7264 113.5909 376.6174 112.5592 380.1014 112.0308 383.2052 110.8023 384.5914 110.1079 383.8717 109.9963 382.504 111.3586 379.7324 112.3831 376.2731 112.7497 373.2067 113.5882 372.1203\"/>\n",
       "<polygon fill=\"rgba(40,40,40,1)\" points=\"122.6635 377.4398 122.5923 379.2389 121.5176 381.4667 119.9079 383.7484 118.1536 385.6129 116.4312 386.6368 116.3887 386.488 114.2816 386.3542 111.1909 385.7871 107.7241 385.0361 104.6757 384.2734 102.7021 383.5232 102.602 383.6411 101.4576 381.9963 100.6321 379.573 100.1109 376.8296 100.0545 374.3568 100.7342 372.6895 101.5428 373.2778 101.7871 374.3327 102.1862 376.5035 102.7475 379.0373 103.3671 381.2364 103.7663 382.2712 103.6661 382.3891 105.0558 383.1298 107.9683 384.0395 111.381 384.7788 114.4089 385.1558 115.9805 385.0566 115.9381 384.9078 116.7297 384.131 118.2038 382.3854 119.7633 380.311 121.025 378.5 121.6839 377.6408\"/>\n",
       "<polygon fill=\"rgba(40,40,40,1)\" points=\"105.8589 382.0043 105.9342 379.2669 106.6686 375.037 107.752 370.4036 108.8769 366.4683 109.7945 364.2114 109.93 364.2861 111.1538 363.4771 112.5731 363.3536 114.0222 363.575 115.3399 364.1166 116.2664 365.2541 116.418 365.2232 116.6199 367.6512 116.5186 371.7428 116.1693 376.4884 115.6074 380.7445 114.862 383.3796 113.8902 383.1436 113.8844 380.561 114.0745 376.3298 114.3396 371.625 114.5651 367.6101 114.6563 365.5823 114.8079 365.5514 114.6076 365.0738 113.7308 364.5588 112.5575 364.3795 111.5669 364.6093 111.2332 365.0053 111.3686 365.08 110.8502 367.0426 109.8668 370.9417 108.7152 375.5111 107.6334 379.6061 106.8568 382.0692\"/>\n",
       "<polygon fill=\"rgba(40,40,40,1)\" points=\"160.6284 10.6318 162.0626 11.1477 163.0208 12.6344 163.6985 14.5683 164.0167 16.5469 163.8176 18.2646 163.6691 18.2213 162.5927 20.1422 160.7473 23.128 158.632 26.5013 156.7479 29.4629 155.4876 31.2683 155.5912 31.3832 154.1317 32.3105 152.2119 32.8857 150.1759 33.1179 148.4203 32.9028 147.3313 31.8364 148.2815 31.5246 148.6781 31.1893 150.0296 31.0222 151.7944 30.7439 153.4414 30.3747 154.3868 30.0483 154.4905 30.1632 155.7652 28.7652 157.7706 25.9438 159.8703 22.5954 161.5367 19.5613 162.24 17.8051 162.0915 17.7618 161.9735 16.7686 161.5886 15.1252 161.0705 13.4153 160.6324 12.126 160.7615 11.6229\"/>\n",
       "<polygon fill=\"rgba(40,40,40,1)\" points=\"142.0474 26.2811 142.1063 23.1511 143.2893 18.481 145.0968 13.4073 147.059 9.1078 148.8894 6.6005 148.984 6.7229 151.5543 6.1641 155.2439 6.2591 159.3546 6.7146 162.9754 7.4297 165.361 8.5377 165.4802 8.439 166.7172 11.2862 167.6905 15.9109 168.3433 21.2573 168.4751 26.0731 167.8474 29.1401 166.9079 28.7974 166.7426 26.1022 166.2532 21.468 165.5355 16.2542 164.7238 11.7862 164.0956 9.5858 164.2147 9.4872 162.6157 8.58 159.192 7.7277 155.1808 7.2832 151.6535 7.3652 149.8947 7.9003 149.9893 8.0227 148.8946 10.0321 147.1243 14.214 145.2826 19.1442 143.7904 23.5589 143.0391 26.1524\"/>\n",
       "<polygon fill=\"rgba(40,40,40,1)\" points=\"151.6515 23.2508 151.1038 21.9113 152.1183 20.8596 152.9471 19.6017 153.5131 18.2545 154.96 18.2291 154.7017 19.1952 154.9938 19.8161 153.957 20.3485 153.203 21.4928 153.123 22.6556 152.4372 22.6322\"/>\n",
       "<polygon fill=\"rgba(40,40,40,1)\" points=\"154.8915 13.7906 156.5026 14.2467 158.6867 15.4199 161.0029 16.9478 162.9691 18.47 164.1974 19.7624 164.1323 19.8058 164.6029 21.3349 164.8508 23.3105 164.952 25.442 164.8816 27.3006 164.5211 28.5888 164.5211 28.5888 163.4236 29.3536 161.6921 30.0326 159.6464 30.6395 157.6994 31.0566 156.1006 31.1162 156.0811 31.1919 154.4561 30.4582 152.371 29.1035 150.1651 27.4202 148.3377 25.7447 147.3761 24.374 148.2083 23.8195 149.3623 24.5421 151.3293 25.8566 153.5705 27.3311 155.5587 28.5735 156.6073 29.1473 156.5878 29.2231 157.5363 29.3186 159.3473 29.1538 161.3385 28.7859 162.9913 28.3222 163.694 28.0014 163.694 28.0014 163.7653 27.2323 163.6584 25.519 163.3495 23.5178 162.9083 21.7537 162.5055 20.8896 162.4404 20.933 161.5531 20.1321 159.7249 18.6644 157.5941 17.0343 155.7048 15.6104 154.6423 14.759\"/>\n",
       "<polygon fill=\"rgba(40,40,40,1)\" points=\"147.21 57.3965 150.1212 56.2754 154.8802 55.5041 160.2399 55.0984 164.9297 55.1069 167.8961 55.6643 167.8291 55.8038 169.2757 57.6971 170.4361 60.6675 171.3916 64.0895 171.9378 67.2314 171.6812 69.6002 171.8108 69.6848 169.5622 71.6983 165.5551 74.1351 160.7605 76.5646 156.2903 78.3701 153.2194 78.9193 153.1515 77.9216 155.6469 76.7612 159.843 74.6748 164.506 72.2217 168.4392 69.9771 170.3051 68.7022 170.4347 68.7868 170.7339 67.2872 170.3891 64.3082 169.4653 60.9997 168.2171 58.273 167.1843 57.1453 167.1173 57.2848 164.8608 57.1609 160.3337 57.2785 155.0744 57.5958 150.4044 57.9848 147.6687 58.2851\"/>\n",
       "<polygon fill=\"rgba(40,40,40,1)\" points=\"167.709 56.1953 169.0663 58.164 170.2627 61.4478 171.1913 65.2408 171.6848 68.7189 171.498 71.2816 171.4242 71.2556 169.8619 73.3047 167.1935 75.7942 164.0205 78.3729 161.0287 80.4764 158.8164 81.5492 158.8164 81.5492 156.3582 81.4998 152.7609 80.8399 148.8004 79.8242 145.3355 78.6786 143.0595 77.4704 143.0034 77.5249 141.7621 75.275 140.7561 71.9093 140.0136 68.0755 139.7273 64.5923 140.1371 62.2365 141.0802 62.569 141.3029 64.476 141.9318 67.7279 142.8286 71.3754 143.8074 74.5105 144.5185 76.0547 144.4623 76.1091 146.0258 77.0753 149.2636 78.3813 153.0755 79.5828 156.5266 80.3942 158.5993 80.5582 158.5993 80.5582 160.4134 79.5426 163.2091 77.3625 166.1693 74.6772 168.5645 72.137 169.5807 70.6056 169.5069 70.5796 169.5072 68.8796 169.0855 65.6224 168.3749 61.9341 167.5864 58.7171 166.9914 56.8918\"/>\n",
       "<polygon fill=\"rgba(40,40,40,1)\" points=\"165.548 98.4553 166.1595 100.7366 165.3692 104.4661 163.8873 108.8368 162.2007 112.7629 160.7479 115.2108 160.7479 115.2108 158.7039 117.1918 155.2761 119.7432 151.3684 122.1985 147.924 123.8325 145.5631 123.7669 146.1828 122.982 147.1309 122.0252 150.3148 120.2923 154.2728 118.1278 157.8659 116.0296 159.9159 114.5538 159.9159 114.5538 160.8758 112.2175 162.0833 108.2356 163.2705 103.8835 164.2175 100.3843 164.9283 99.2402\"/>\n",
       "<polygon fill=\"rgba(40,40,40,1)\" points=\"146.5509 117.8399 147.478 115.1468 150.9406 111.2878 154.7018 106.5724 157.6944 102.3384 160.1139 100.8359 160.404 101.7929 159.3027 103.7684 155.6739 107.3677 151.9322 112.0587 149.2297 116.3969 147.5485 117.9099\"/>\n",
       "<polygon fill=\"rgba(40,40,40,1)\" points=\"150.0229 114.3027 149.304 113.6396 148.8517 112.6288 148.5959 111.4662 148.5525 110.3429 148.9056 109.221 148.9706 109.2645 149.892 108.5864 151.1419 107.9488 152.58 107.2972 153.9176 106.7671 154.9211 106.4947 154.9211 106.4947 155.9609 106.4862 157.3919 106.6359 158.9525 106.8754 160.328 107.1521 161.3983 107.5566 161.4491 107.4971 162.0917 108.4822 162.353 109.5756 162.4202 110.764 162.2574 111.8594 161.744 112.6919 160.9134 112.1351 160.6809 111.7553 160.4777 110.9281 160.2509 109.9774 160.0325 109.2085 160.0776 109.1021 160.1284 109.0426 159.7679 108.8054 158.5806 108.3446 157.1391 107.9068 155.8216 107.5959 155.0592 107.4998 155.0592 107.4998 154.3511 107.798 153.1663 108.4528 151.8963 109.2632 150.8774 110.0273 150.5942 110.353 150.6592 110.3965 150.7313 110.4868 150.7284 111.2861 150.7665 112.2628 150.794 113.1141 150.6726 113.5425\"/>\n",
       "<polygon fill=\"rgba(40,40,40,1)\" points=\"146.6903 116.9505 145.6924 115.9421 144.9578 114.2827 144.4674 112.3529 144.2867 110.5249 144.6291 108.9316 144.6972 108.9702 145.9731 107.8325 147.9482 106.5475 150.2641 105.2054 152.429 104.0978 154.0075 103.5132 154.0075 103.5132 155.6889 103.4336 158.1146 103.6059 160.771 103.9349 163.0914 104.3448 164.7107 104.8926 164.7583 104.8304 165.6968 106.1627 166.2457 107.9157 166.5494 109.8836 166.5226 111.6981 165.9987 113.0165 165.1289 112.5231 164.9427 111.702 164.6218 110.1744 164.1732 108.4498 163.6852 107.0121 163.4758 106.5075 163.5234 106.4453 162.625 106.0269 160.4839 105.4229 157.936 104.8894 155.6156 104.5496 154.2101 104.5072 154.2101 104.5072 152.9331 105.0961 150.9307 106.3167 148.7946 107.8045 147.0605 109.1981 146.3974 109.9346 146.4655 109.9732 146.4702 110.5195 146.5836 112.0336 146.8455 113.7962 147.1479 115.3276 147.2978 116.1561\"/>\n",
       "<polygon fill=\"rgba(40,40,40,1)\" points=\"154.2243 114.7511 153.51 114.2111 152.7699 113.2342 152.087 112.0613 151.572 110.952 151.3115 110.0314 151.3888 110.0189 151.5166 109.1588 151.8134 108.2836 152.1855 107.4044 152.5732 106.6666 153.0964 106.1098 153.0964 106.1098 153.8569 106.0354 154.6779 106.1789 155.6014 106.4211 156.4757 106.7204 157.2349 107.1444 157.292 107.0909 157.8619 107.8592 158.4259 108.9444 158.9378 110.2015 159.2596 111.3841 159.2511 112.2795 158.2639 112.4392 157.7963 111.9797 157.1732 111.0301 156.5227 109.9231 155.9751 108.9582 155.7524 108.5355 155.8095 108.482 155.6214 108.2427 154.9975 107.811 154.2559 107.4041 153.6294 107.1304 153.5441 107.0202 153.5441 107.0202 153.5792 107.1551 153.4135 107.8183 153.2829 108.6541 153.2438 109.4118 153.3184 109.7069 153.3957 109.6944 153.5944 110.1287 154.0242 111.1516 154.5036 112.3427 154.8752 113.416 154.9535 114.0669\"/>\n",
       "<polygon fill=\"rgba(40,40,40,1)\" points=\"154.9614 148.5365 156.3893 149.2376 158.312 150.689 160.3368 152.4784 162.0419 154.1846 163.0712 155.4908 163.0043 155.5314 163.4093 156.885 163.6454 158.5757 163.7592 160.3534 163.7228 161.87 163.3673 162.9659 163.3673 162.9659 162.2917 163.3787 160.7791 163.4949 158.9979 163.475 157.297 163.3284 155.924 162.9952 155.887 163.0641 154.5283 162.1051 152.7346 160.4923 150.8411 158.5646 149.2903 156.7211 148.515 155.3321 149.3699 154.8134 150.4476 155.6455 152.2053 157.172 154.1824 158.9162 155.9285 160.4296 156.8854 161.2039 156.8484 161.2728 157.658 161.6205 159.1647 161.9687 160.8223 162.1998 162.1862 162.2653 162.6313 162.2677 162.6313 162.2677 162.6054 161.8233 162.4681 160.4648 162.15 158.8217 161.7228 157.3354 161.333 156.5452 161.2661 156.5858 160.4425 155.6711 158.8391 154.0072 156.9932 152.1247 155.3761 150.4499 154.4885 149.4177\"/>\n",
       "<polygon fill=\"rgba(40,40,40,1)\" points=\"155.9642 147.7371 157.178 147.6281 158.1185 148.2774 158.9213 149.2644 159.4964 150.386 159.7103 151.5506 159.5559 151.5596 159.2797 152.9265 158.8117 155.0122 158.3079 157.3782 157.8857 159.4737 157.581 160.8346 157.7184 160.9057 157.0486 161.8822 156.0665 162.6721 154.9313 163.2465 153.8078 163.4563 152.7437 162.8624 153.5394 162.2567 153.4406 161.7629 154.0436 161.3425 154.9078 160.823 155.7101 160.3226 156.1217 160.0792 156.2591 160.1503 156.7226 159.1579 157.3074 157.1506 157.8053 154.8125 158.0889 152.7411 158.0699 151.6459 157.9154 151.6549 157.6387 151.2649 157.1098 150.4811 156.5322 149.6546 156.1528 149.025 156.4441 148.6144\"/>\n",
       "<polygon fill=\"rgba(40,40,40,1)\" points=\"149.2872 160.3054 149.047 157.5662 149.3785 153.299 150.0622 148.6005 150.8873 144.5852 151.7171 142.2095 151.8523 142.2846 153.2632 141.4013 155.0544 141.1557 156.99 141.2185 158.7615 141.5798 160.1121 142.5529 160.252 142.4867 160.9259 144.9112 161.4887 148.9716 161.8661 153.7046 161.9199 157.9843 161.5025 160.7021 160.5142 160.5496 160.188 158.0379 159.771 153.8586 159.3181 149.1964 158.8939 145.2187 158.6267 143.2555 158.7666 143.1894 158.2845 142.6866 156.8565 142.2358 155.1217 142.1795 153.6674 142.5366 153.1538 143.0071 153.289 143.0822 152.8951 145.0238 152.2136 148.9657 151.4591 153.5887 150.7718 157.7321 150.2833 160.2173\"/>\n",
       "<polygon fill=\"rgba(40,40,40,1)\" points=\"160.9957 158.3492 160.0633 159.9215 157.9898 161.3861 155.4789 162.594 153.2064 163.3429 151.5505 163.3545 151.5505 163.3545 150.5952 162.002 149.8798 159.7187 149.3986 156.9742 149.3808 154.4357 150.1154 152.7619 151.005 153.2187 151.3544 154.4583 151.568 156.7797 151.7573 159.4168 151.974 161.6124 152.0348 162.4115 152.0348 162.4115 152.7197 161.9954 154.6304 160.8922 156.884 159.5096 158.895 158.3307 160.1061 157.8924\"/>\n",
       "<polygon fill=\"rgba(40,40,40,1)\" points=\"141.0916 156.6467 141.4559 154.0066 143.1128 150.3581 145.4424 146.5039 147.8661 143.311 150.0284 141.5468 150.0877 141.6896 152.7441 141.6968 156.5727 142.4085 160.8286 143.4694 164.5432 144.6381 166.8921 145.8786 167.0116 145.7803 168.0928 148.3531 168.7341 152.31 168.982 156.8067 168.7325 160.8061 167.8149 163.3083 166.9638 162.7833 167.0051 160.6694 166.8821 156.8656 166.5629 152.5284 166.0817 148.7768 165.6236 146.923 165.743 146.8247 164.082 145.7515 160.5433 144.455 156.3619 143.4127 152.6287 142.8965 150.6583 143.0644 150.7176 143.2073 149.4429 144.6291 147.2571 147.7158 144.9394 151.3958 143.0453 154.6968 142.0895 156.5826\"/>\n",
       "<polygon fill=\"rgba(40,40,40,1)\" points=\"145.8224 198.4449 146.7047 195.6222 149.2825 192.0142 152.5877 188.4321 155.6935 185.7194 158.0021 184.6877 158.0021 184.6877 159.8742 186.3874 161.9802 189.9328 164.0047 194.3665 165.3298 198.598 165.2887 201.5551 164.3013 201.3973 163.4279 199.1256 161.9715 195.1475 160.2551 190.733 158.6513 187.1338 157.8348 185.7346 157.8348 185.7346 156.623 186.8097 153.9775 189.73 150.9711 193.3899 148.3476 196.7161 146.8099 198.6027\"/>\n",
       "<polygon fill=\"rgba(40,40,40,1)\" points=\"156.6561 204.2434 155.8676 204.5331 154.8769 204.5322 153.8196 204.3437 152.8753 204.0302 152.0626 203.4924 152.1185 203.4376 151.7421 202.5886 151.5368 201.6278 151.379 200.5767 151.2978 199.6212 151.3566 198.8593 151.3566 198.8593 151.6914 198.1724 152.2449 197.3893 152.9128 196.5625 153.576 195.8377 154.3303 195.2958 154.3098 195.2203 155.2829 195.1676 156.256 195.375 157.2634 195.7474 158.1184 196.2479 158.6519 196.8968 157.9382 197.5972 157.5038 197.7034 156.6879 197.61 155.7664 197.4584 154.9977 197.3325 154.8614 197.2582 154.8409 197.1827 154.6409 197.2209 153.9504 197.6671 153.1937 198.2719 152.5806 198.8506 152.3356 199.1253 152.3356 199.1253 152.408 199.4862 152.644 200.2955 152.9906 201.2 153.3605 201.9343 153.5136 202.0685 153.5695 202.0137 153.7247 202.0186 154.4514 202.2989 155.3229 202.6344 156.074 202.9668 156.3949 203.2781\"/>\n",
       "<polygon fill=\"rgba(40,40,40,1)\" points=\"155.7218 238.5443 157.0787 238.7535 158.7351 239.6406 160.4044 240.8772 161.7473 242.154 162.5176 243.389 162.3714 243.4397 162.1984 244.7032 161.6629 246.1309 161.0022 247.6812 160.3435 249.0564 159.552 250.0564 159.6166 250.197 158.1924 250.4968 156.3413 250.4127 154.2931 250.0652 152.5059 249.4849 151.4151 248.6512 152.026 247.8594 152.9638 247.8138 154.6665 247.9979 156.598 248.2456 158.245 248.4423 158.8659 248.5633 158.9305 248.7039 159.3381 248.3919 160.0777 247.2362 160.7015 245.7723 161.0227 244.4383 160.9654 243.9283 160.8193 243.9791 160.302 243.6151 159.0193 242.5634 157.5027 241.3419 156.1905 240.2413 155.5739 239.5333\"/>\n",
       "<polygon fill=\"rgba(40,40,40,1)\" points=\"161.7385 233.2031 162.9239 236.1874 162.4097 241.7006 161.9712 248.0979 161.7283 253.6297 160.1468 256.4243 159.6117 255.5795 159.6088 253.2572 160.7206 247.9812 161.1549 241.6456 160.7734 236.2672 161.0932 233.967\"/>\n",
       "<polygon fill=\"rgba(40,40,40,1)\" points=\"148.627 283.9659 150.7094 282.6827 154.2292 281.4139 158.244 280.3403 161.7953 279.6688 164.1379 279.6344 164.1064 279.7858 165.4444 280.9232 166.5129 282.7317 167.4529 284.8359 168.087 286.8385 168.0414 288.594 168.1752 288.6716 166.5865 290.3935 163.7167 292.5905 160.2381 294.8645 156.9445 296.6396 154.5992 297.3344 154.3504 296.3658 156.0999 295.1265 159.1075 293.0939 162.4673 290.8014 165.3039 288.7877 166.6202 287.7692 166.754 287.8468 166.8949 287.0154 166.4892 285.188 165.6076 283.2146 164.5172 281.693 163.8039 281.2432 163.7725 281.3947 162.1355 281.6956 158.7429 282.4647 154.7935 283.4375 151.2728 284.3213 149.1823 284.7976\"/>\n",
       "<polygon fill=\"rgba(40,40,40,1)\" points=\"161.8957 281.223 162.8308 282.8725 162.8447 285.5714 162.3528 288.6736 161.5909 291.4202 160.7106 293.1524 160.7106 293.1524 159.1744 294.3421 156.6195 295.6058 153.6646 296.6711 151.0111 297.1637 149.2154 296.5548 149.8527 295.7842 150.7117 295.2129 153.0897 294.5703 155.9927 293.8105 158.5713 293.0424 159.8937 292.4768 159.8937 292.4768 160.2012 291.0718 160.4718 288.3948 160.6734 285.4009 160.8584 282.9445 161.2584 281.9936\"/>\n",
       "<polygon fill=\"rgba(40,40,40,1)\" points=\"158.8413 286.9413 159.6033 288.1331 158.8232 289.3412 158.2881 290.737 158.0606 292.1569 156.6972 292.5338 156.6961 291.5338 156.2437 291.0037 157.1377 290.2329 157.6307 288.9471 157.4811 287.7761 158.172 287.6843\"/>\n",
       "<polygon fill=\"rgba(40,40,40,1)\" points=\"143.7761 285.4767 145.6097 283.0287 149.1622 279.9208 153.4059 276.8092 157.3103 274.3906 160.0753 273.3202 160.0919 273.474 162.2871 274.3073 164.8007 276.1847 167.3803 278.5426 169.4753 280.878 170.502 282.9897 170.6567 282.9924 169.8383 285.8422 167.7792 289.9476 165.0604 294.453 162.2833 298.2696 160.0095 300.3152 159.4244 299.5043 160.8851 297.2462 163.2805 293.3371 165.8749 288.882 167.9731 284.9793 168.8591 282.9606 169.0137 282.9633 168.4844 281.5638 166.6459 279.2592 164.1528 276.9803 161.6928 275.3558 160.2514 274.9539 160.268 275.1077 158.3368 276.171 154.6378 278.6104 150.4331 281.5936 146.7544 284.3296 144.6362 285.9867\"/>\n",
       "<polygon fill=\"rgba(40,40,40,1)\" points=\"166.9946 329.2668 166.9348 331.5576 165.3339 334.6279 162.9779 337.874 160.5549 340.5413 158.6111 341.9285 158.6111 341.9285 156.2279 342.0796 152.6649 341.5403 148.7886 340.5097 145.6089 339.1389 144.1165 337.3999 145.0587 337.0649 146.4637 337.3599 149.4957 338.4496 153.1515 339.702 156.4475 340.6637 158.256 340.9296 158.256 340.9296 159.4909 339.5818 161.4402 336.7554 163.4851 333.4764 165.1489 330.7173 166.0524 329.6017\"/>\n",
       "<polygon fill=\"rgba(40,40,40,1)\" points=\"158.2498 328.5355 159.7776 328.2651 160.4847 329.5788 161.2106 330.8009 162.026 332.0503 161.0577 333.2625 160.4173 332.4945 159.8817 332.2324 160.0658 331.3176 159.4833 330.337 158.5919 330.0609 158.6179 329.4653\"/>\n",
       "<polygon fill=\"rgba(40,40,40,1)\" points=\"143.4324 323.2995 147.2056 324.047 153.6498 327.569 161.3148 331.4122 167.9921 334.4691 170.8483 337.0455 169.9966 337.5696 166.9362 336.3443 160.7393 332.5286 153.0994 328.698 146.3347 326.0149 143.522 324.2955\"/>\n",
       "<polygon fill=\"rgba(40,40,40,1)\" points=\"160.9321 330.6534 160.9263 332.4518 159.1851 334.2765 157.4742 336.5554 156.208 338.7367 154.4826 339.2441 154.525 338.245 154.6432 337.2593 156.49 335.7752 158.1612 333.5491 159.0709 331.3616 159.9845 330.9729\"/>\n",
       "<polygon fill=\"rgba(40,40,40,1)\" points=\"159.3751 364.1258 161.1405 364.6774 162.8982 366.4425 164.5048 368.8015 165.6556 371.2173 166.0022 373.3305 165.8479 373.3188 164.9705 375.6641 163.2941 379.1965 161.3017 383.1518 159.461 386.6014 158.0986 388.7024 158.1998 388.8194 156.2954 389.7987 153.6692 390.312 150.8174 390.425 148.3528 390.0632 146.8587 388.9728 147.6932 388.4218 148.6543 388.3569 150.8194 388.3242 153.4368 388.1422 155.7843 387.8082 157.0231 387.4601 157.1244 387.577 158.4332 385.972 160.3951 382.6713 162.3684 378.754 163.853 375.2129 164.3637 373.2058 164.2095 373.194 163.7518 371.9914 162.6229 369.9062 161.2113 367.6946 159.9488 365.9353 159.429 365.1244\"/>\n",
       "<polygon fill=\"rgba(40,40,40,1)\" points=\"153.2538 369.159 155.4669 369.2426 158.6604 370.1681 162.0914 371.5499 164.9797 373.0229 166.7008 374.3995 166.5777 374.4932 166.8875 376.2658 166.6649 378.5387 166.2057 381.0292 165.603 383.2319 164.6814 384.7775 164.763 384.9089 162.6641 385.5812 159.4404 385.9271 155.7422 385.9943 152.4286 385.72 150.3312 385.0088 150.715 384.0854 152.5504 383.9915 155.7344 383.8936 159.3205 383.7482 162.3897 383.5444 163.8144 383.3816 163.896 383.513 164.4933 382.7619 165.2085 380.7874 165.6471 378.4088 165.6831 376.3091 165.3931 375.3944 165.2699 375.4881 163.997 374.8279 161.2023 373.5428 157.9038 372.1279 154.9642 370.9008 153.283 370.1586\"/>\n",
       "<polygon fill=\"rgba(40,40,40,1)\" points=\"149.0764 381.6582 147.9716 379.4104 147.505 375.771 147.521 371.7676 147.9064 368.4206 148.7911 366.4831 148.7911 366.4831 150.9168 366.6177 154.0494 367.8577 157.5863 369.7333 160.5746 371.8624 162.0347 373.8974 161.1768 374.4112 159.3907 373.4417 156.4414 371.5861 153.1553 369.536 150.3856 367.9483 149.3358 367.3926 149.3358 367.3926 149.3302 368.5804 149.4226 371.7715 149.6789 375.6362 149.9226 379.1122 149.9343 381.1444\"/>\n",
       "<polygon fill=\"rgba(40,40,40,1)\" points=\"154.3065 369.1894 156.059 369.9181 158.4991 371.4929 161.1038 373.4555 163.318 375.3424 164.664 376.7963 164.6 376.8412 165.1898 378.4179 165.6104 380.4695 165.886 382.6551 165.955 384.5334 165.6348 385.8449 165.6348 385.8449 164.4252 386.4447 162.5774 386.7889 160.3845 386.9988 158.2907 387.0378 156.623 386.8077 156.5932 386.88 154.8799 385.8852 152.5537 384.1381 150.0682 382.0266 147.9971 379.9907 146.9021 378.4405 147.7211 377.8667 149.0652 378.8266 151.3124 380.5258 153.8621 382.4445 156.1263 384.0924 157.3964 384.9276 157.3666 384.9999 158.4522 385.2996 160.373 385.4833 162.4669 385.4977 164.1889 385.3516 164.8427 385.211 164.8427 385.211 164.8366 384.5423 164.602 382.8301 164.1292 380.7902 163.5293 378.9563 162.999 377.9627 162.9349 378.0076 161.8418 376.9514 159.7379 375.1031 157.3073 373.0356 155.1571 371.2154 153.9261 370.1142\"/>\n",
       "<polygon fill=\"rgba(40,40,40,1)\" points=\"194.5685 7.2144 196.2974 6.5891 198.6608 7.1012 201.2328 8.2375 203.4888 9.7065 204.9373 11.3625 204.8021 11.4376 205.5331 14.112 206.4251 18.4592 207.3509 23.4083 208.0906 27.784 208.3757 30.5419 208.5289 30.563 207.7769 32.6306 206.2044 34.8158 204.2171 36.805 202.1986 38.1367 200.3606 38.1786 200.778 37.2699 201.3082 36.6502 202.8009 35.2533 204.5543 33.3879 206.0392 31.5334 206.748 30.3169 206.9012 30.3381 206.8937 27.9255 206.3393 23.5799 205.4199 18.6649 204.3661 14.4128 203.501 12.1605 203.3657 12.2357 202.2652 11.3577 200.2103 10.1653 197.9012 9.0598 196.0046 8.2969 195.2862 7.9108\"/>\n",
       "<polygon fill=\"rgba(40,40,40,1)\" points=\"195.7247 34.359 194.2037 33.8883 192.9762 32.3724 191.9746 30.3592 191.3545 28.2844 191.3392 26.4542 191.4912 26.4828 192.4381 24.437 194.1141 21.2954 196.0557 17.7561 197.8048 14.6546 199.0214 12.7568 198.9156 12.644 200.4674 11.6735 202.5504 11.0816 204.7865 10.8446 206.7245 11.0653 207.9388 12.0952 207.0355 12.5243 206.4827 12.7811 204.9181 12.9412 202.9437 13.2281 201.1363 13.6168 200.1452 13.9556 200.0394 13.8427 198.821 15.3025 196.947 18.2644 195.0217 21.774 193.5305 24.9459 192.9541 26.7579 193.1061 26.7865 193.3528 27.8044 193.9962 29.5376 194.8152 31.3569 195.5208 32.7624 195.6012 33.3667\"/>\n",
       "<polygon fill=\"rgba(40,40,40,1)\" points=\"188.2427 12.8895 190.4282 11.424 194.1226 9.9167 198.3966 8.5846 202.2977 7.6878 205.0643 7.5122 205.0525 7.5895 207.3662 8.6858 210.2161 10.7042 213.1614 13.151 215.566 15.505 216.8223 17.3697 216.8223 17.3697 216.7521 19.617 215.9707 22.8901 214.7811 26.5296 213.444 29.7558 212.0696 31.9159 212.1208 31.9751 209.6857 33.3 205.9063 34.6186 201.5795 35.7675 197.6499 36.4595 195.0196 36.3831 195.1707 35.3945 197.3752 34.9036 201.0902 33.8805 205.2576 32.5792 208.8617 31.2779 210.7394 30.3786 210.7906 30.4378 211.9002 28.941 213.3746 25.9654 214.7355 22.4983 215.655 19.3999 215.8476 17.6509 215.8476 17.6509 214.7531 16.2731 212.3246 14.1404 209.3262 11.9309 206.4935 10.1976 204.7572 9.5218 204.7454 9.5991 202.6772 9.838 198.9337 10.6563 194.7135 11.7744 191.0244 12.8871 188.8971 13.6457\"/>\n",
       "<polygon fill=\"rgba(40,40,40,1)\" points=\"190.9174 25.8546 191.9003 23.6665 193.8936 20.4372 196.3238 16.9197 198.6111 13.8881 200.2401 12.0545 200.2936 12.1116 201.9369 11.0825 204.1408 10.0415 206.4727 9.1231 208.4493 8.5263 209.8891 8.5702 209.8891 8.5702 210.3796 9.9246 210.4287 11.9887 210.2829 14.4907 209.9809 16.9093 209.5153 18.7916 209.5862 18.8246 208.3518 20.9439 206.1843 24.0623 203.5997 27.4679 201.1526 30.3686 199.3799 31.9846 198.6959 31.2551 199.9156 29.3857 202.034 26.3065 204.4369 22.8266 206.5282 19.743 207.6727 17.9326 207.7436 17.9656 208.2763 16.5332 208.7812 14.2871 209.1357 11.9024 209.2629 9.9853 209.294 9.3917 209.294 9.3917 208.7397 9.6063 206.9578 10.3248 204.8024 11.405 202.8257 12.5849 201.6306 13.5376 201.6841 13.5946 200.3207 15.2465 198.0426 18.1948 195.4852 21.5628 193.2197 24.5355 191.8237 26.2771\"/>\n",
       "<polygon fill=\"rgba(40,40,40,1)\" points=\"191.7638 27.3795 190.9948 25.8272 190.7753 23.4316 190.9385 20.7421 191.4019 18.3488 192.2405 16.6637 192.3565 16.766 194.0042 15.9457 196.4835 15.1429 199.3037 14.3484 201.8374 13.7389 203.671 13.5784 203.7166 13.4305 205.3115 14.4299 206.9561 16.2294 208.4993 18.4381 209.5627 20.596 209.7171 22.3214 208.7199 22.2458 208.0129 21.371 206.7474 19.5975 205.239 17.576 203.8543 15.8792 203.187 15.1486 203.2325 15.0008 202.0115 14.9314 199.5495 15.3446 196.7938 16.1209 194.4783 17.0538 193.4731 17.7504 193.5891 17.8527 193.4013 18.8241 193.1061 20.9943 192.8748 23.5059 192.7212 25.6792 192.5748 26.7944\"/>\n",
       "<polygon fill=\"rgba(40,40,40,1)\" points=\"182.6414 72.1929 184.0269 70.326 187.4826 68.495 191.9609 66.553 196.2456 64.9091 199.1405 63.9669 199.1405 63.9669 202.0474 63.0621 206.4939 61.9264 211.2706 60.9219 215.1488 60.4182 217.3586 61.1405 216.4058 61.4438 215.4095 62.3746 211.6369 63.069 206.8497 63.7944 202.3507 64.4624 199.4621 64.9771 199.4621 64.9771 196.8076 66.227 192.7505 68.2829 188.425 70.4586 184.9452 72.0731 183.5942 71.8895\"/>\n",
       "<polygon fill=\"rgba(40,40,40,1)\" points=\"213.6672 63.1478 214.1912 64.5706 213.4548 65.9783 212.1786 67.3823 210.6541 68.5663 209.108 69.2745 209.0582 69.128 206.6778 69.507 202.7603 70.0642 198.3097 70.7047 194.394 71.2746 192.0033 71.5822 191.9969 71.7368 190.3138 71.4933 188.5173 70.7872 186.897 69.8 185.7936 68.657 185.8952 67.1443 186.6204 67.8328 187.0864 67.5034 188.0665 68.0548 189.5029 68.8403 190.99 69.5526 192.0713 69.9404 192.0649 70.095 194.2673 70.0761 198.1731 69.6878 202.6046 69.0501 206.4615 68.3214 208.5798 67.7185 208.5301 67.572 209.4582 66.895 210.6841 65.7923 211.8407 64.6337 212.6255 63.8282 213.1655 64.0129\"/>\n",
       "<polygon fill=\"rgba(40,40,40,1)\" points=\"197.5009 58.0316 199.6896 59.0136 201.9189 62.2619 204.7309 65.8288 207.3693 68.7546 207.8133 71.1121 206.8311 70.9245 205.5671 69.9308 203.7286 66.5857 200.9489 63.0599 198.1253 60.4914 197.4541 59.0305\"/>\n",
       "<polygon fill=\"rgba(40,40,40,1)\" points=\"192.0275 70.8906 191.6407 69.0455 192.391 66.4939 193.7278 63.7566 195.2151 61.4669 196.5606 60.175 196.5606 60.175 198.3852 59.7873 201.115 59.8427 204.1306 60.2741 206.6631 61.0864 207.9725 62.4427 207.0889 62.9109 206.0006 62.9455 203.6459 62.3975 200.8288 61.7227 198.3242 61.2188 197.0569 61.1117 197.0569 61.1117 196.4337 62.2205 195.4439 64.5757 194.4201 67.2856 193.5511 69.5415 192.9111 70.4225\"/>\n",
       "<polygon fill=\"rgba(40,40,40,1)\" points=\"191.0599 124.1465 189.2604 122.4844 187.6116 119.2783 186.2659 115.4223 185.4848 111.8095 185.611 109.1185 185.7573 109.169 187.5323 106.963 190.6726 104.0058 194.3686 100.8265 197.7619 98.1635 200.2084 96.7381 200.1804 96.586 202.8599 96.8633 206.3155 98.1756 209.927 100.0825 212.8507 102.192 214.2251 104.2197 213.2777 104.5398 211.8 103.5699 208.8841 101.9061 205.4005 100.1567 202.2373 98.8219 200.5064 98.354 200.4783 98.2019 198.4356 99.1627 195.0145 101.6237 191.3643 104.7636 188.4197 107.7785 187.1643 109.6547 187.3105 109.7051 187.5144 111.4865 188.3614 114.8137 189.5706 118.5197 190.7798 121.6514 191.518 123.2576\"/>\n",
       "<polygon fill=\"rgba(40,40,40,1)\" points=\"206.6457 103.7918 207.8054 104.4792 208.8641 105.8177 209.7588 107.4595 210.347 109.0841 210.4033 110.6393 210.3278 110.6188 209.4246 111.9579 207.9348 113.5673 206.1535 115.303 204.4547 116.7929 203.158 117.6819 203.158 117.6819 201.6538 118.1391 199.4291 118.5348 196.961 118.8414 194.7736 118.9994 193.1638 118.8681 193.1325 118.9399 191.9533 117.9243 191.0522 116.4501 190.3291 114.7259 189.9453 113.063 190.133 111.728 191.0984 111.989 191.4756 112.67 192.1268 113.9716 192.9316 115.4264 193.6987 116.6123 193.9754 117.0042 193.9442 117.076 194.8216 117.2544 196.8809 117.3281 199.2926 117.2461 201.4548 117.0386 202.7186 116.7675 202.7186 116.7675 203.7196 115.9501 205.2325 114.3913 206.8031 112.5593 208.032 110.9053 208.4408 110.1087 208.3653 110.0883 208.2321 109.6273 207.7853 108.2875 207.1521 106.7502 206.5425 105.4286 206.2464 104.7086\"/>\n",
       "<polygon fill=\"rgba(40,40,40,1)\" points=\"198.4662 112.7044 198.0703 112.2816 197.8046 111.6636 197.6466 110.9586 197.5933 110.3024 197.6669 109.6974 197.7435 109.7135 198.0579 109.2141 198.4299 108.8439 198.8286 108.5011 199.2071 108.2203 199.7254 108.002 199.7254 108.002 200.274 108.1261 200.6958 108.3362 201.1484 108.6038 201.5796 108.9031 201.9767 109.3396 202.0492 109.3104 202.2277 109.8931 202.2902 110.5485 202.2583 111.2703 202.105 111.9253 201.7893 112.4109 200.8106 112.2059 200.5253 111.954 200.3136 111.4071 200.1621 110.7748 200.0714 110.2367 200.0907 110.0987 200.1633 110.0695 200.23 110.0103 200.08 109.6786 199.8567 109.3237 199.6637 109.0632 199.8147 109.0125 199.8147 109.0125 199.9722 109.036 199.8279 109.3262 199.6702 109.7148 199.5806 110.0676 199.6567 110.1142 199.7332 110.1302 199.7764 110.2627 199.7815 110.8084 199.7431 111.4575 199.6305 112.033 199.3939 112.331\"/>\n",
       "<polygon fill=\"rgba(40,40,40,1)\" points=\"199.4676 153.2365 200.6594 152.6552 202.4204 152.5789 204.2821 152.8239 205.7856 153.2201 206.8189 153.99 206.8189 153.99 206.2249 155.1335 205.0448 156.1458 203.4764 157.1783 201.8585 157.8778 200.5324 157.8746 200.3087 156.9 201.0261 156.0882 202.4533 155.2555 204.0846 154.5045 205.4117 153.9539 205.7856 154.2272 205.7856 154.2272 205.5684 154.6363 204.134 154.7197 202.3385 154.7554 200.691 154.6287 199.6913 154.2111\"/>\n",
       "<polygon fill=\"rgba(40,40,40,1)\" points=\"192.4512 143.9177 193.6922 142.9751 195.4759 143.0776 197.4798 143.6931 199.3274 144.6407 200.6596 145.8438 200.5399 145.9418 201.6499 148.0606 203.3252 151.5469 205.2081 155.5142 206.8498 159.0164 207.7893 161.2161 207.9409 161.1853 208.0307 162.9781 207.5965 165.0086 206.8064 166.9503 205.7579 168.397 204.243 168.7625 204.5553 167.8125 204.3945 167.3277 204.8989 166.0703 205.5167 164.3483 206.0019 162.6498 206.1789 161.5426 206.3305 161.5118 205.7366 159.4781 204.2757 155.9425 202.4038 151.9984 200.5884 148.6311 199.3883 146.885 199.2687 146.983 198.299 146.42 196.6763 145.722 194.9516 145.1118 193.6585 144.7075 193.3846 144.2764\"/>\n",
       "<polygon fill=\"rgba(40,40,40,1)\" points=\"203.9042 152.4734 205.1847 152.1409 205.6252 153.2388 205.9175 154.1434 206.2026 155.2916 204.9695 155.7711 204.5789 154.8506 204.2244 154.4442 204.6694 154.2846 204.5305 153.8545 204.0762 153.9854 204.1259 153.4485\"/>\n",
       "<polygon fill=\"rgba(40,40,40,1)\" points=\"201.1113 196.3537 201.992 196.4654 202.6622 196.9721 203.1945 197.6871 203.5395 198.4683 203.618 199.3872 203.4637 199.3762 203.0748 200.1015 202.5364 200.9186 201.9695 201.8433 201.4858 202.694 201.0159 203.3696 201.0957 203.5021 200.2413 203.8491 199.3886 203.8962 198.5099 203.7464 197.7542 203.379 197.255 202.6449 198.0836 202.0851 198.2929 201.7321 198.8667 201.6761 199.5558 201.7205 200.1265 201.7972 200.1684 201.9618 200.2481 202.0944 200.5295 201.9605 201.1091 201.2844 201.6478 200.4055 201.9873 199.5822 201.9789 199.2707 201.8246 199.2598 201.6589 199.2971 201.3315 198.8234 200.9794 198.2295 200.7689 197.6928 200.9884 197.3461\"/>\n",
       "<polygon fill=\"rgba(40,40,40,1)\" points=\"193.553 208.6862 192.0475 206.4164 190.5501 202.5241 189.2779 198.0563 188.4844 194.0768 188.4643 191.4196 188.6143 191.4574 190.0105 189.8713 192.3373 188.3842 195.0702 186.9868 197.6381 185.9714 199.7415 185.7682 199.7986 185.6245 201.9409 187.1966 204.7023 190.1699 207.5793 193.8172 209.8579 197.3101 210.8163 199.8596 209.8522 200.1251 208.409 198.2606 205.9095 195.092 203.0355 191.5783 200.477 188.639 199.1341 187.295 199.1913 187.1513 197.932 187.1402 195.484 187.9258 192.8562 189.2693 190.786 190.7939 190.0576 191.8212 190.2076 191.859 190.5109 193.7346 191.3955 197.5297 192.5612 201.9168 193.6663 205.7984 194.3327 208.06\"/>\n",
       "<polygon fill=\"rgba(40,40,40,1)\" points=\"190.2153 205.6733 189.6271 202.9294 191.4057 198.9599 193.3925 194.4068 195.093 190.4032 197.5046 188.9682 197.5112 189.9682 196.8875 191.5909 194.5223 194.9554 192.5764 199.4151 191.7183 203.4372 190.9528 204.9981\"/>\n",
       "<polygon fill=\"rgba(40,40,40,1)\" points=\"214.4157 200.9059 214.4227 202.3922 213.3087 202.913 211.7512 203.2361 210.0497 203.3658 208.531 203.2733 208.5394 203.1188 206.135 202.7361 202.0742 202.1543 197.445 201.5541 193.3701 201.0812 190.9476 200.8381 190.9163 200.9896 189.4242 200.6917 187.812 200.1324 186.3885 199.4228 185.4441 198.6352 185.8299 197.1998 186.0078 198.1839 186.5259 197.2817 187.3525 197.5563 188.6698 198.1259 190.0991 198.7505 191.2802 199.2289 191.2489 199.3804 193.5431 199.8885 197.5808 200.5371 202.2022 201.1363 206.2718 201.5387 208.6198 201.6325 208.6281 201.478 209.8922 201.3166 211.4335 201.0772 212.8525 200.8624 213.7218 200.8076 213.9927 201.8121\"/>\n",
       "<polygon fill=\"rgba(40,40,40,1)\" points=\"207.0678 184.7312 208.5618 185.2663 209.0535 186.8771 209.1617 188.9566 208.9392 191.1039 208.3788 192.914 208.235 192.857 206.8301 195.3378 204.4474 199.4469 201.7487 204.1264 199.3854 208.2467 197.9418 210.7052 198.0632 210.8011 196.7771 212.1928 195.0301 213.4608 193.1759 214.4086 191.5354 214.7898 190.3241 213.7647 191.3236 213.7324 191.2286 213.0844 192.2969 212.5006 193.9004 211.5938 195.5155 210.5705 196.6524 209.6867 196.7738 209.7826 198.3596 207.6141 200.8637 203.6073 203.5548 198.9409 205.7687 194.7668 206.8514 192.3081 206.7076 192.251 206.9032 190.8244 206.98 188.9139 206.9618 187.0719 206.932 185.8548 207.5405 185.6125\"/>\n",
       "<polygon fill=\"rgba(40,40,40,1)\" points=\"200.7876 246.366 200.2529 246.5354 199.5956 246.5089 198.9066 246.3512 198.3065 246.124 197.8159 245.8196 197.8616 245.7561 197.5492 245.2946 197.3649 244.8319 197.2149 244.3597 197.1109 243.9292 197.1212 243.3598 197.1212 243.3598 197.4892 242.9252 197.8514 242.6703 198.2757 242.4145 198.7194 242.1885 199.2587 242.0478 199.2663 241.9699 199.8358 242.065 200.4366 242.2902 201.0584 242.6264 201.5698 243.0401 201.8598 243.5204 201.276 244.3323 200.9221 244.4812 200.3423 244.4395 199.7139 244.3046 199.1942 244.1521 199.0612 244.0712 199.0688 243.9933 199.0395 243.9045 198.6972 243.8702 198.3062 243.8838 198.012 243.9139 198.0706 243.7175 198.0706 243.7175 198.1561 243.5313 198.3573 243.748 198.6422 244.0163 198.922 244.2163 199.0026 244.169 199.0483 244.1055 199.2016 244.1324 199.6928 244.3607 200.2539 244.674 200.7171 245.0253 200.8848 245.3707\"/>\n",
       "<polygon fill=\"rgba(40,40,40,1)\" points=\"190.8699 241.3871 191.2287 240.0489 192.4138 238.9575 193.9962 238.0557 195.6387 237.4765 197.158 237.4135 197.1344 237.5664 198.702 238.3014 201.012 239.563 203.6135 241.0099 205.9036 242.3071 207.3549 243.2512 207.4724 243.1505 208.2202 244.4745 208.5945 246.1754 208.663 247.9955 208.3608 249.578 207.4132 250.5887 206.9377 249.7089 206.6577 249.2589 206.5623 247.9999 206.4268 246.4263 206.2359 245.0096 206.1073 244.3206 206.2248 244.2199 205.241 243.3137 203.098 241.8971 200.5301 240.4688 198.1963 239.3954 196.9075 239.0375 196.8839 239.1904 196.2306 239.4446 194.9264 240.0297 193.518 240.7446 192.3981 241.3276 191.8681 241.3271\"/>\n",
       "<polygon fill=\"rgba(40,40,40,1)\" points=\"214.6728 245.3527 214.1905 247.6541 212.3812 250.5848 209.8983 253.5832 207.3415 255.9987 205.0833 257.225 205.0505 257.0738 202.423 256.7011 198.5836 255.5829 194.3095 254.1239 190.5879 252.6608 188.2809 251.349 188.1625 251.4485 187.1256 249.0974 186.5797 245.6227 186.4486 241.7318 186.8092 238.3066 187.8349 236.1907 188.5984 236.8365 188.528 238.5256 188.5493 241.7285 188.7537 245.4346 189.1361 248.6713 189.5386 250.2915 189.4202 250.391 191.1122 251.5756 194.6704 253.1634 198.8854 254.6023 202.6717 255.5219 204.7348 255.6192 204.702 255.468 206.0113 254.4322 208.2931 252.105 210.7211 249.2976 212.6965 246.7763 213.6737 245.3968\"/>\n",
       "<polygon fill=\"rgba(40,40,40,1)\" points=\"216.8906 293.4486 213.8019 296.1917 206.8376 298.1473 198.7453 300.3299 191.7421 302.1415 187.693 301.3236 188.4015 300.6179 191.4664 300.0072 198.4566 299.1075 206.4725 296.9456 212.9671 294.2082 215.9233 293.195\"/>\n",
       "<polygon fill=\"rgba(40,40,40,1)\" points=\"199.1085 297.9842 198.4527 298.6773 197.5428 298.8752 196.6251 298.7039 195.7935 298.1726 195.2777 297.0858 195.3554 297.0766 195.5148 295.7948 195.8655 293.8347 196.3085 291.5532 196.7535 289.4583 197.1167 288.0417 197.1167 288.0417 197.5776 286.6537 198.3366 284.6511 199.1983 282.4926 199.9638 280.6544 200.5231 279.4901 200.4627 279.4403 201.4844 278.8053 202.4713 278.8083 203.3357 279.1608 203.994 279.8194 204.1706 280.7571 203.1774 280.8744 202.881 280.9409 202.5359 280.9386 202.154 280.9248 201.9395 280.9409 202.0921 280.7827 202.0317 280.733 201.5176 281.4499 200.5706 283.1357 199.5218 285.1752 198.6132 287.0759 198.0901 288.3277 198.0901 288.3277 197.8528 289.6635 197.5888 291.7536 197.3675 294.0362 197.252 295.9663 197.2966 296.8475 197.3743 296.8383 197.3315 296.6227 197.5033 296.7523 197.8318 296.9472 198.1234 297.1321 198.3367 297.3483\"/>\n",
       "<polygon fill=\"rgba(40,40,40,1)\" points=\"196.3313 339.191 194.3257 337.7698 192.204 334.8774 190.3234 331.4633 189.0688 328.4513 188.9146 326.3905 188.9146 326.3905 190.836 325.6297 194.0935 325.4437 197.9861 325.6453 201.5145 326.2916 203.6687 327.4756 203.1379 328.3231 201.1193 328.2253 197.7318 327.8084 193.987 327.3423 190.9072 327.0607 189.8131 326.9532 189.8131 326.9532 190.3874 327.8907 191.9851 330.5386 194.0392 333.7044 195.8929 336.5701 196.8621 338.3435\"/>\n",
       "<polygon fill=\"rgba(40,40,40,1)\" points=\"202.6675 320.6561 204.1213 320.7875 204.84 321.9467 205.3049 323.5154 205.5034 325.1965 205.3632 326.705 205.2104 326.681 204.5365 328.7811 203.4146 332.2427 202.1693 336.1869 201.1002 339.6652 200.446 341.7715 200.5849 341.8396 199.8335 343.1552 198.7057 344.4174 197.4243 345.4349 196.1703 345.9712 194.9046 345.244 195.8702 344.9841 195.5263 344.3626 196.1782 343.7436 197.2201 342.8191 198.2655 341.8265 198.9704 341.0486 199.1093 341.1166 199.9625 339.2675 201.1933 335.8705 202.4338 331.9413 203.3767 328.4534 203.74 326.4496 203.5872 326.4256 203.4568 325.3839 203.1708 323.971 202.8487 322.6158 202.6704 321.7348 203.3088 321.4233\"/>\n",
       "<polygon fill=\"rgba(40,40,40,1)\" points=\"187.661 334.2719 189.1976 331.5813 193.6636 328.9036 198.7542 325.703 203.103 322.8389 206.1937 322.6202 205.7658 323.524 204.0194 324.786 199.3923 326.7849 194.3619 329.9475 190.5551 333.2511 188.6609 334.278\"/>\n",
       "<polygon fill=\"rgba(40,40,40,1)\" points=\"198.4739 375.3071 199.4696 374.4119 201.1477 373.8966 203.0137 373.6859 204.5876 373.724 205.7686 374.2146 205.7686 374.2146 205.6786 375.4903 205.0081 376.9147 203.9843 378.489 202.7723 379.7589 201.5261 380.2484 201.0006 379.3977 201.3187 378.4237 202.2836 377.1283 203.4653 375.8031 204.4452 374.7614 204.8666 374.7717 204.8666 374.7717 204.6872 375.1533 203.3171 375.5631 201.6031 376.0266 200.0128 376.3094 198.9994 376.1579\"/>\n",
       "<polygon fill=\"rgba(40,40,40,1)\" points=\"197.3657 372.5137 198.2732 372.0142 199.5654 371.7892 201.0039 371.7616 202.3167 371.9056 203.4252 372.322 203.3819 372.3871 204.063 373.303 204.638 374.4964 205.1841 375.8413 205.5941 377.0808 205.7462 378.0487 205.7462 378.0487 205.5037 378.998 204.9789 380.1934 204.3087 381.4809 203.624 382.6149 202.8598 383.4626 202.8967 383.5316 201.754 383.8419 200.4335 383.8617 199.0039 383.699 197.7386 383.3533 196.8821 382.7707 197.4352 381.9376 198.0281 381.8001 199.1641 381.7561 200.4591 381.7218 201.5577 381.6672 201.8997 381.6707 201.9367 381.7396 202.2735 381.5088 203.0486 380.639 203.8558 379.5469 204.4853 378.5358 204.7329 378.0009 204.7329 378.0009 204.5367 377.4451 204.0052 376.3792 203.3042 375.216 202.6144 374.2772 202.3008 374.0157 202.2575 374.0809 201.9166 374.0521 200.8281 373.8945 199.5421 373.7385 198.4152 373.5878 197.8379 373.3951\"/>\n",
       "<polygon fill=\"rgba(40,40,40,1)\" points=\"194.5734 393.5248 192.9242 393.0402 191.7369 391.2893 190.8321 388.9477 190.3367 386.518 190.4493 384.4231 190.6004 384.4564 191.7442 381.838 193.7814 377.6445 196.138 372.9019 198.25 368.7456 199.6461 366.2526 199.5283 366.1522 201.13 364.7972 203.3657 363.7247 205.7784 363.0316 207.891 362.9205 209.2733 363.9422 208.3347 364.2874 207.8885 364.6532 206.2589 365.0767 204.1252 365.7704 202.1202 366.5981 200.8965 367.3186 200.7788 367.2182 199.3009 369.3355 197.0511 373.3701 194.706 378.0895 192.8491 382.3193 192.0542 384.776 192.2053 384.8092 192.3701 386.2196 192.9213 388.3176 193.657 390.4371 194.3038 391.9917 194.2817 392.5683\"/>\n",
       "<polygon fill=\"rgba(40,40,40,1)\" points=\"199.1812 385.7361 197.8896 384.2743 196.2336 381.7129 194.5437 378.7257 193.1673 376.0017 192.4242 374.1411 192.4992 374.1189 192.3716 372.5146 192.4576 370.5307 192.6823 368.5014 193.0074 366.8395 193.6307 365.7511 193.6307 365.7511 194.8813 365.8471 196.4387 366.512 198.2435 367.4665 199.9328 368.5102 201.1882 369.5172 201.2488 369.4676 202.3703 371.1278 203.8501 373.797 205.3715 376.8735 206.5597 379.6826 207.0431 381.5724 206.0844 381.8567 205.1307 380.3564 203.6381 377.7654 201.9709 374.821 200.4902 372.2382 199.6149 370.8046 199.6754 370.7551 198.8649 369.891 197.421 368.7394 195.8126 367.6467 194.4647 366.885 194.1055 366.6476 194.1055 366.6476 194.1 367.0782 193.9726 368.6211 193.9727 370.5656 194.1139 372.4071 194.3733 373.5631 194.4483 373.5408 195.1423 375.0704 196.4467 377.7466 197.9454 380.7802 199.25 383.4708 199.9551 385.1028\"/>\n",
       "<polygon fill=\"rgba(40,40,40,1)\" points=\"252.9672 12.4849 254.1692 13.3115 254.1825 14.6353 253.7769 16.1804 253.0938 17.6958 252.2228 18.9053 252.102 18.8086 250.4898 20.3047 247.8238 22.7829 244.8186 25.6273 242.1976 28.153 240.6152 29.6807 240.7051 29.8065 239.4497 30.6098 237.899 31.2086 236.334 31.5287 235.0129 31.4426 234.2536 30.1971 235.214 30.4758 235.158 29.716 235.9821 29.4576 237.3004 29.1102 238.6674 28.7093 239.66 28.3436 239.7499 28.4695 241.3939 27.255 244.1185 24.8772 247.1133 22.0426 249.6372 19.4528 250.9402 17.878 250.8195 17.7813 251.2392 16.8103 251.7145 15.4675 252.1339 14.1702 252.4371 13.3615 253.1927 13.4592\"/>\n",
       "<polygon fill=\"rgba(40,40,40,1)\" points=\"250.0811 20.0551 249.2474 22.4078 247.4067 25.8479 245.1422 29.5299 243.0385 32.5955 241.5911 34.2805 241.485 34.1679 240.1818 34.533 238.943 34.2395 237.7944 33.644 236.8406 32.8008 236.3879 31.5254 236.2347 31.5036 236.7775 29.3496 238.0704 25.8636 239.7742 21.891 241.5247 18.4041 242.9669 16.3668 243.8137 16.8987 243.0961 19.1343 241.7043 22.7204 240.0925 26.6839 238.706 30.0599 238.0147 31.7566 237.8615 31.7349 237.8551 32.1504 238.3917 32.8098 239.2805 33.2705 240.1286 33.329 240.4645 33.0843 240.3584 32.9717 241.3466 31.4289 243.3064 28.3501 245.6165 24.7487 247.7451 21.5444 249.1584 19.6696\"/>\n",
       "<polygon fill=\"rgba(40,40,40,1)\" points=\"235.3369 23.2333 233.8724 21.8328 234.4557 19.7526 235.1999 17.7043 236.0878 15.7348 238.1097 15.6009 237.9076 16.5803 237.5278 17.3341 236.3188 18.2748 235.6799 20.0334 236.0031 21.5308 235.8105 22.3526\"/>\n",
       "<polygon fill=\"rgba(40,40,40,1)\" points=\"233.8839 21.8197 235.1072 19.4128 238.853 17.3906 243.0817 14.9592 246.7137 12.7392 249.4093 12.8929 248.875 13.7382 247.503 14.7413 243.6701 16.0688 239.5159 18.4574 236.4404 21.1021 234.8833 21.7832\"/>\n",
       "<polygon fill=\"rgba(40,40,40,1)\" points=\"236.1086 21.7259 237.753 20.1883 241.3918 19.4305 245.5055 18.2238 248.977 16.8961 251.1915 17.3019 250.7184 18.1829 249.4233 19.0013 245.8375 19.4352 241.7667 20.6292 238.5146 22.201 236.9826 22.2119\"/>\n",
       "<polygon fill=\"rgba(40,40,40,1)\" points=\"249.8421 64.9338 249.6713 66.2304 248.7381 67.1073 247.4205 67.88 246.1024 68.4545 245.1131 68.7495 245.1131 68.7495 244.137 69.0855 242.7308 69.3856 241.2097 69.5243 239.9405 69.3545 239.0468 68.3996 239.999 68.0939 240.1417 67.3911 241.258 67.3468 242.6898 67.4844 244.0224 67.6573 244.7891 67.7401 244.7891 67.7401 245.3643 67.2265 246.3472 66.3102 247.4313 65.3648 248.3647 64.7511 248.8899 65.2394\"/>\n",
       "<polygon fill=\"rgba(40,40,40,1)\" points=\"242.8963 63.232 243.7382 62.6269 244.3559 62.6932 244.8838 62.9852 245.3141 63.4295 245.6228 64.0453 245.484 64.1137 245.5744 64.8097 245.7427 65.7828 246.0029 66.8614 246.2968 67.8042 246.5337 68.4649 246.6883 68.4625 246.6943 69.1514 246.5139 69.743 246.1772 70.2436 245.6577 70.5841 244.6325 70.4294 245.1751 69.5894 244.4895 69.3044 244.4313 69.0752 244.5633 68.7647 244.7445 68.5018 244.8907 68.4907 245.0453 68.4883 245.1136 68.0335 245.0028 67.0907 244.7481 66.0347 244.4168 65.1451 244.1487 64.7714 244.01 64.8398 243.8749 64.8966 243.5937 64.7452 243.3347 64.529 243.282 64.2985 243.7622 63.7323\"/>\n",
       "<polygon fill=\"rgba(40,40,40,1)\" points=\"241.6878 55.8885 243.98 55.8285 247.2798 56.6847 250.8346 58.0585 253.8425 59.5899 255.6495 61.1163 255.5214 61.203 255.8694 63.2955 255.744 66.232 255.3899 69.5069 254.8846 72.4023 254.0973 74.372 254.2039 74.4841 252.1124 75.5889 248.8466 76.4419 245.0804 77.024 241.6738 77.155 239.4474 76.6064 239.8178 75.6775 241.6093 75.4234 244.8042 74.9415 248.4208 74.3016 251.5172 73.6218 252.965 73.1812 253.0716 73.2933 253.7254 72.0727 254.3755 69.353 254.7202 66.1654 254.6666 63.3697 254.2888 62.0375 254.1607 62.1242 252.8405 61.3843 249.961 60.0582 246.5648 58.66 243.5469 57.5063 241.8511 56.8751\"/>\n",
       "<polygon fill=\"rgba(40,40,40,1)\" points=\"242.3649 67.3548 241.8085 66.5714 241.7752 65.5117 242.0559 64.4172 242.4748 63.5248 243.1727 62.8235 243.1727 62.8235 244.1512 62.9701 245.0198 63.4364 245.8979 64.1475 246.5033 65.0179 246.524 65.9785 245.5746 66.2927 244.9415 66.2246 244.2877 65.6143 243.6916 64.7973 243.261 64.0927 243.5057 63.8299 243.5057 63.8299 243.8589 63.8948 243.9336 64.7172 243.9425 65.7285 243.7818 66.6083 243.3143 67.0406\"/>\n",
       "<polygon fill=\"rgba(40,40,40,1)\" points=\"228.1994 110.818 230.7196 107.8141 236.9949 104.8464 244.2656 101.3792 250.5216 98.371 254.442 98.3034 253.9345 99.1651 251.2195 100.4066 244.7757 102.5269 237.5656 105.9653 231.8621 109.6377 229.1884 110.966\"/>\n",
       "<polygon fill=\"rgba(40,40,40,1)\" points=\"248.5452 110.6718 248.8416 112.3202 248.364 114.5723 247.47 116.8846 246.4864 118.7141 245.3656 119.7107 245.3656 119.7107 244.0592 118.9741 242.7104 117.3945 241.3469 115.3239 240.4032 113.2241 240.3437 111.5504 241.338 111.4439 242.2032 112.4146 243.2591 114.2811 244.3263 116.392 245.1961 118.1021 245.2527 118.6566 245.2527 118.6566 245.1906 118.1027 245.6784 116.2472 246.2744 113.9581 246.9109 111.9103 247.5509 110.7784\"/>\n",
       "<polygon fill=\"rgba(40,40,40,1)\" points=\"240.7264 120.8403 239.2067 119.8458 237.4022 117.9117 235.6163 115.5572 234.2038 113.3068 233.4844 111.4863 233.5617 111.4738 233.8347 109.6506 234.6046 107.3751 235.63 104.9503 236.702 102.8821 237.7128 101.6149 237.7128 101.6149 239.2433 101.0807 241.5498 100.754 244.1773 100.5893 246.5794 100.6162 248.3901 100.9623 248.4275 100.8936 249.9071 102.1752 251.5628 104.2532 253.1932 106.7179 254.4207 109.061 254.8559 110.8243 253.8686 110.9833 253.037 109.8236 251.5709 107.7989 249.8534 105.5408 248.2795 103.6307 247.4206 102.7492 247.4579 102.6804 246.3733 102.3497 244.154 102.1046 241.6242 102.0477 239.4277 102.1837 238.2995 102.4425 238.2995 102.4425 237.6818 103.4214 236.8261 105.449 236.0421 107.8549 235.5386 110.0301 235.4915 111.163 235.5688 111.1506 236.1162 112.253 237.3973 114.3705 238.9594 116.7388 240.3844 118.7927 241.2033 119.9614\"/>\n",
       "<polygon fill=\"rgba(40,40,40,1)\" points=\"253.1075 160.8548 250.7432 162.0312 246.5024 161.5746 241.6072 161.2489 237.3433 161.1396 235.1557 159.6604 236.0307 159.1763 237.7426 159.025 241.7257 159.9985 246.5506 160.3196 250.6276 159.8823 252.3043 160.2591\"/>\n",
       "<polygon fill=\"rgba(40,40,40,1)\" points=\"256.7962 158.7107 254.231 160.612 248.8108 161.5035 242.5628 162.6902 237.1932 163.8479 234.1095 163.0195 234.7946 162.291 237.0187 161.703 242.3592 161.4508 248.5459 160.2758 253.6069 158.5524 255.8918 158.2841\"/>\n",
       "<polygon fill=\"rgba(40,40,40,1)\" points=\"234.6776 186.4887 237.0386 185.3651 240.8444 184.5461 245.1754 184.0542 249.0836 183.9628 251.8248 184.4338 251.7928 184.5053 253.8213 186.3077 256.202 189.2959 258.6071 192.8052 260.5097 196.0767 261.3819 198.4507 261.3819 198.4507 260.9548 200.9435 259.6774 204.5059 257.9489 208.3934 256.1499 211.7639 254.4821 213.9044 254.5264 213.9688 251.9162 214.9294 248.0563 215.5485 243.7079 215.8506 239.8167 215.7356 237.291 215.059 237.6995 214.1462 239.8763 214.1568 243.5946 213.9044 247.791 213.4249 251.4393 212.7986 253.3288 212.2302 253.3732 212.2946 254.6878 210.8102 256.6037 207.6955 258.4888 203.9896 259.8896 200.6028 260.3717 198.5431 260.3717 198.5431 259.524 196.605 257.5319 193.5286 255.0057 190.2262 252.5565 187.5107 250.9944 186.2895 250.9625 186.3609 249.0012 186.1448 245.2999 186.1907 241.086 186.4805 237.3836 186.9069 235.2449 187.3123\"/>\n",
       "<polygon fill=\"rgba(40,40,40,1)\" points=\"237.4652 193.1223 239.5149 191.7127 243.1197 192.117 247.2053 192.4983 250.8227 192.7683 252.5761 194.5329 251.6158 194.812 250.2125 194.832 247.0316 193.7423 243.0602 193.3715 239.7326 193.8537 238.3572 193.5743\"/>\n",
       "<polygon fill=\"rgba(40,40,40,1)\" points=\"246.7388 207.1961 245.2021 207.1045 243.0215 206.4788 240.6563 205.5592 238.6045 204.5773 237.2468 203.6578 237.3006 203.6009 236.5655 202.3353 235.9478 200.6608 235.4292 198.8318 235.1164 197.2083 235.1818 195.992 235.1818 195.992 236.0236 195.1117 237.4212 194.2282 239.1094 193.3541 240.753 192.6581 242.1787 192.3274 242.1834 192.2493 243.7831 192.6095 245.9034 193.4329 248.1929 194.5275 250.1418 195.6887 251.2606 196.7461 250.5739 197.4731 249.3954 197.0812 247.3807 196.2997 245.0957 195.4148 243.0864 194.6789 242.0569 194.3568 242.0616 194.2786 241.2301 194.3372 239.6737 194.7606 237.9961 195.3896 236.6386 196.0457 236.1129 196.3949 236.1129 196.3949 236.2183 197.0171 236.6693 198.4558 237.3593 200.1093 238.1162 201.5336 238.6427 202.1798 238.6964 202.1229 239.636 202.6528 241.5479 203.6137 243.7572 204.6735 245.7062 205.6071 246.7987 206.1979\"/>\n",
       "<polygon fill=\"rgba(40,40,40,1)\" points=\"232.6702 191.3687 234.6794 189.8359 238.125 188.2054 242.1346 186.724 245.8155 185.6843 248.4709 185.3975 248.4622 185.4752 250.7458 186.4567 253.5795 188.3133 256.5274 190.5838 258.9543 192.7856 260.2576 194.5553 260.2576 194.5553 260.3201 196.7523 259.7632 199.9814 258.8379 203.5855 257.7479 206.7931 256.5526 208.9724 256.6073 209.0284 254.3382 210.4371 250.7975 211.8839 246.7258 213.185 243.0068 214.0214 240.4798 214.0504 240.591 213.0566 242.6581 212.4804 246.1428 211.3248 250.0445 209.8805 253.4069 208.4622 255.1306 207.5196 255.1853 207.5755 256.1548 206.0796 257.3981 203.1125 258.5056 199.6688 259.2116 196.6034 259.2984 194.8856 259.2984 194.8856 258.1725 193.5853 255.7289 191.6044 252.7361 189.5725 249.9297 187.9998 248.2448 187.4178 248.2361 187.4956 246.2974 187.8139 242.7746 188.7662 238.8108 190.0302 235.3533 191.2649 233.3697 192.0834\"/>\n",
       "<polygon fill=\"rgba(40,40,40,1)\" points=\"237.0839 193.9402 237.5651 192.7828 238.6462 191.7167 240.0201 190.8025 241.4308 190.1796 242.9004 190.0752 242.8816 190.1512 244.178 190.9782 245.7715 192.3507 247.5139 193.9968 249.0303 195.5703 249.9638 196.7703 249.9638 196.7703 250.5527 198.172 251.1816 200.2648 251.7632 202.5902 252.1791 204.6517 252.2651 206.1871 252.3405 206.2079 251.5296 207.438 250.2955 208.3627 248.8254 209.1126 247.3665 209.5329 246.1217 209.3854 246.3614 208.4146 246.8865 208.0276 247.9386 207.3766 249.1109 206.5803 250.0408 205.8406 250.3057 205.6451 250.3811 205.6659 250.4423 204.8274 250.2708 202.854 249.9178 200.5514 249.4809 198.4911 249.0882 197.2827 249.0882 197.2827 248.227 196.3484 246.6449 194.9582 244.8105 193.5225 243.1741 192.4063 242.4131 192.0489 242.3943 192.1248 242.0941 192.2599 240.9937 192.7083 239.7252 193.3403 238.6423 193.9386 238.0477 194.2068\"/>\n",
       "<polygon fill=\"rgba(40,40,40,1)\" points=\"247.1007 237.4911 248.2672 237.7496 248.946 238.6185 249.3937 239.7544 249.5899 240.9478 249.4384 242.085 249.2887 242.0461 248.6293 243.2033 247.5901 244.9436 246.4399 246.9269 245.4455 248.6932 244.7686 249.8402 244.8767 249.9508 243.9649 250.647 242.8316 251.0694 241.6234 251.245 240.5321 251.0874 239.7284 250.2032 240.6705 249.868 240.7179 249.3646 241.3849 249.1578 242.3193 248.9483 243.1899 248.7436 243.6202 248.6648 243.7283 248.7755 244.4385 248.031 245.5596 246.3997 246.6954 244.4413 247.5545 242.6581 247.848 241.672 247.6982 241.6331 247.5529 241.2204 247.2982 240.3632 247.016 239.4481 246.8643 238.7665 247.2776 238.4753\"/>\n",
       "<polygon fill=\"rgba(40,40,40,1)\" points=\"235.288 239.1853 237.9739 238.8581 242.583 240.3222 248.032 241.69 252.7861 242.5762 254.9991 244.133 254.2216 244.7618 252.1413 244.6293 247.7097 242.9039 242.2938 241.5445 237.5727 240.9724 235.6764 240.1068\"/>\n",
       "<polygon fill=\"rgba(40,40,40,1)\" points=\"248.0616 280.5977 249.3061 280.9436 249.9123 281.9652 250.2442 283.2675 250.3079 284.6155 250.0326 285.8311 249.886 285.7818 249.0651 287.1311 247.7423 289.2467 246.2672 291.6605 244.9878 293.8027 244.1614 295.1486 244.2722 295.2566 243.316 296.0561 242.0873 296.6142 240.7771 296.9129 239.5914 296.8395 238.7159 295.8897 239.6921 295.6725 239.6801 295.109 240.3825 294.8495 241.4136 294.5387 242.4078 294.2125 242.9847 294.0017 243.0955 294.1097 243.9895 293.1276 245.3979 291.1154 246.8607 288.7218 248.009 286.5505 248.4752 285.307 248.3286 285.2577 248.253 284.6482 248.0898 283.6146 247.8961 282.5553 247.8066 281.8118 248.3135 281.5655\"/>\n",
       "<polygon fill=\"rgba(40,40,40,1)\" points=\"258.2569 282.3444 259.046 283.6533 258.4202 285.0163 257.2542 286.4544 255.8196 287.7494 254.355 288.6373 254.2826 288.5007 251.8528 289.3961 247.7997 290.8752 243.2002 292.5842 239.1646 294.1104 236.7397 295.0188 236.7741 295.1696 235.085 295.4534 233.1529 295.4094 231.3307 295.0815 229.9668 294.4579 229.7097 292.9512 230.4723 293.5981 230.7426 292.9085 231.7766 293.0286 233.3852 293.2396 235.0794 293.3982 236.3747 293.4167 236.4091 293.5675 238.7752 292.9699 242.8493 291.62 247.4359 289.9159 251.403 288.278 253.5853 287.1856 253.5128 287.0489 254.4819 286.1891 255.6615 284.9628 256.742 283.7526 257.4467 282.9865 258.1017 283.3323\"/>\n",
       "<polygon fill=\"rgba(40,40,40,1)\" points=\"243.3198 281.2425 244.1748 279.7191 245.8504 279.9776 247.3866 280.3606 248.9875 280.919 249.0271 282.6655 248.0356 282.536 247.3864 282.357 246.8973 281.5174 245.7393 281.2287 244.9133 281.7404 244.2561 281.5936\"/>\n",
       "<polygon fill=\"rgba(40,40,40,1)\" points=\"247.8501 337.0788 246.6674 337.3223 244.8762 337.3041 242.8817 337.1096 241.115 336.8172 239.9049 336.4662 239.9339 336.3935 239.0721 335.7528 238.1969 334.8796 237.3619 333.9201 236.7239 333.0469 236.4341 332.1653 236.4341 332.1653 236.9636 331.4031 237.8244 330.7485 238.8986 330.0674 239.9867 329.4805 240.9956 329.1125 240.9886 329.0346 242.2485 329.0438 244.0251 329.268 245.9921 329.6512 247.7139 330.1452 248.7779 330.7164 248.4069 331.645 247.3999 331.6937 245.6836 331.5761 243.7462 331.3899 242.0533 331.2185 241.1794 331.1371 241.1723 331.0592 240.5851 331.1203 239.5478 331.4368 238.465 331.875 237.6351 332.2974 237.438 332.3117 237.438 332.3117 237.6229 332.3816 238.2976 333.0235 239.2101 333.7526 240.1138 334.3521 240.6591 334.5783 240.6882 334.5057 241.5489 334.6772 243.2203 334.9965 245.1302 335.3713 246.8086 335.7487 247.7597 336.0828\"/>\n",
       "<polygon fill=\"rgba(40,40,40,1)\" points=\"238.0795 330.2252 239.2119 328.5848 241.8409 328.2089 244.7377 327.593 247.2923 326.8666 248.9941 327.9043 248.1673 328.4668 247.3386 329.0181 244.9445 328.8318 242.1561 329.4247 240.045 330.569 239.0636 330.4025\"/>\n",
       "<polygon fill=\"rgba(40,40,40,1)\" points=\"238.9589 374.6016 240.6816 374.2629 243.3644 375.396 246.5951 376.2898 249.4788 376.6967 250.7824 377.8727 250.0596 378.5637 248.8095 378.742 246.2472 377.4966 243.0426 376.6101 240.2045 376.3613 239.2239 375.5658\"/>\n",
       "<polygon fill=\"rgba(40,40,40,1)\" points=\"241.483 362.6427 243.0831 365.9429 244.6687 373.2028 246.9876 381.5874 249.3575 388.6304 249.6805 392.2838 248.6898 392.4199 247.2775 389.1824 245.7762 381.9193 243.459 373.5405 241.015 366.5381 240.5631 363.035\"/>\n",
       "<polygon fill=\"rgba(40,40,40,1)\" points=\"246.9169 384.6257 244.4717 384.1919 240.8701 382.8612 236.9934 381.1001 233.7436 379.3711 231.8885 378.0156 231.9998 377.9083 231.5991 376.3874 231.8594 374.7093 232.4138 372.9753 233.1755 371.4575 234.3842 370.4513 234.3558 370.2992 236.6532 370.2716 240.3033 370.7488 244.4826 371.5636 248.188 372.5694 250.4314 373.6348 250.0091 374.5412 247.7712 374.2512 244.0684 373.6231 239.9401 372.9006 236.4112 372.3124 234.686 372.0665 234.6576 371.9144 234.1218 372.2039 233.3577 373.3776 232.8616 374.9292 232.8029 376.3285 233.0714 376.8751 233.1827 376.7677 234.7306 377.5684 237.9461 379.1368 241.7277 380.9435 245.108 382.5802 247.0989 383.6424\"/>\n",
       "<polygon fill=\"rgba(40,40,40,1)\" points=\"290.3013 9.5121 291.9329 9.665 293.5954 10.9023 295.1702 12.6839 296.3693 14.6048 296.8766 16.4199 296.7222 16.4293 296.2649 18.6372 295.3173 22.037 294.184 25.872 293.1312 29.2408 292.3149 31.3426 292.4394 31.4344 291.0269 32.6822 288.9763 33.6427 286.686 34.2821 284.6181 34.4169 283.1654 33.6583 283.9259 33.009 284.5469 32.6856 286.2052 32.2371 288.2383 31.5891 290.053 30.8724 290.9924 30.3673 291.1169 30.4591 292.0035 28.8158 293.2055 25.5633 294.3282 21.7643 295.0872 18.3809 295.2364 16.5196 295.082 16.529 294.5681 15.5944 293.4345 14.0064 292.0802 12.3574 290.9321 11.0795 290.5867 10.4705\"/>\n",
       "<polygon fill=\"rgba(40,40,40,1)\" points=\"289.0551 17.7981 290.4282 18.4248 292.1748 19.8139 293.9389 21.5342 295.3431 23.1508 296.0946 24.3918 295.9525 24.4531 295.8126 25.5644 295.2688 26.4725 294.5896 27.3477 293.8449 28.0998 292.803 28.5112 292.779 28.664 291.3902 28.2441 289.4757 27.285 287.3715 26.0031 285.5923 24.6559 284.6444 23.4812 285.3543 22.7769 286.5591 23.2179 288.4631 24.2082 290.5496 25.3853 292.3105 26.4065 293.0589 26.888 293.0348 27.0408 293.2049 27.0786 293.8398 26.6472 294.4042 25.92 294.6645 25.1979 294.5857 25.0425 294.4436 25.1038 293.7915 24.4983 292.3652 23.0459 290.7071 21.3169 289.2752 19.7182 288.549 18.6606\"/>\n",
       "<polygon fill=\"rgba(40,40,40,1)\" points=\"289.9112 18.9538 290.6196 19.2319 291.3406 19.8374 292.0139 20.6135 292.5374 21.3923 292.8524 22.1738 292.7764 22.1922 292.6903 22.9869 292.4403 23.7392 292.1242 24.5033 291.7914 25.1614 291.3674 25.681 291.3674 25.681 290.7391 25.9154 290.009 26.019 289.1839 26.0728 288.3911 26.0677 287.611 25.8938 287.5691 25.9599 286.9303 25.4104 286.3611 24.6644 285.8426 23.7773 285.5009 22.8999 285.4653 22.1397 286.4371 21.9041 286.8651 22.1028 287.4538 22.6797 288.0705 23.3768 288.5794 23.9792 288.6996 24.1769 288.6577 24.243 288.7572 24.3609 289.3443 24.5658 290.0468 24.7237 290.6394 24.8015 290.7765 24.8564 290.7765 24.8564 290.7687 24.7089 290.8854 24.1227 290.9617 23.4068 290.9564 22.7849 290.8767 22.6528 290.8007 22.6712 290.6521 22.4939 290.2452 21.8184 289.7834 21.0103 289.4263 20.2674 289.3757 19.7983\"/>\n",
       "<polygon fill=\"rgba(40,40,40,1)\" points=\"289.9738 9.6686 292.6684 10.6495 295.9685 13.5477 299.215 17.2859 301.6634 20.8368 302.5786 23.4053 302.5786 23.4053 301.2363 25.7787 298.215 28.8569 294.3753 31.9827 290.6269 34.2718 287.804 34.7758 287.8901 33.7796 289.6728 32.544 293.1133 30.2075 297.0003 27.3939 300.1983 24.7911 301.5225 23.314 301.5225 23.314 300.4713 21.6317 297.7673 18.5189 294.4206 15.08 291.4321 12.188 289.8877 10.6649\"/>\n",
       "<polygon fill=\"rgba(40,40,40,1)\" points=\"279.6425 55.754 281.2887 54.5656 284.0789 53.9811 287.3201 53.8435 290.2937 54.1349 292.437 54.9757 292.345 55.1001 293.8288 57.1769 295.7503 60.5982 297.7979 64.5373 299.4942 68.0757 300.3416 70.4833 300.4962 70.4796 299.953 72.7168 298.483 75.3182 296.5082 77.8919 294.4267 79.8398 292.5083 80.5044 292.4784 79.5049 293.2752 78.545 294.8898 76.5525 296.6743 74.0974 298.1092 71.809 298.6989 70.5232 298.8535 70.5195 298.3754 68.5238 296.8761 64.9879 294.8519 61.0938 292.8193 57.8352 291.4605 56.2973 291.3686 56.4217 289.9774 56.1656 287.28 56.0253 284.2453 56.0753 281.6868 56.252 280.4434 56.3527\"/>\n",
       "<polygon fill=\"rgba(40,40,40,1)\" points=\"283.1587 57.3517 285.4892 58.7696 288.6525 62.8443 292.6613 67.3261 296.3595 70.9224 297.5098 73.396 296.5646 73.7224 294.7096 72.3041 291.7189 68.1563 287.7228 63.6887 283.9328 60.2558 282.7293 58.2548\"/>\n",
       "<polygon fill=\"rgba(40,40,40,1)\" points=\"278.8489 55.5683 279.0368 54.2193 279.9623 53.0556 281.2576 52.1817 282.7253 51.7222 284.3236 52.0355 284.2829 52.1024 285.7253 53.5618 287.8519 56.0597 290.2615 59.0367 292.4073 61.8303 293.7517 63.7987 293.7517 63.7987 294.8238 65.9278 296.2303 69.1574 297.6696 72.7067 298.8266 75.7764 299.4059 77.7449 299.484 77.7416 298.9848 79.2919 297.8726 80.354 296.481 81.0647 295.0148 81.3116 293.7433 80.8233 294.2636 79.9693 294.8175 79.7441 295.6804 79.2873 296.5902 78.6406 297.2208 78.005 297.3747 77.8305 297.4529 77.8272 297.1587 76.2918 296.2423 73.2161 295.0221 69.6259 293.7965 66.3698 292.8779 64.3141 292.8779 64.3141 291.5234 62.5155 289.2669 59.8674 286.7154 57.0623 284.4672 54.772 283.2658 53.7717 283.2251 53.8385 282.9979 53.8887 282.1366 54.133 281.1304 54.6164 280.3131 55.1504 279.848 55.5262\"/>\n",
       "<polygon fill=\"rgba(40,40,40,1)\" points=\"292.3306 54.5346 294.2157 55.9855 296.6045 58.7033 299.032 61.9593 300.9911 65.0137 302.0176 67.295 301.9415 67.313 301.8333 69.5526 301.186 72.4452 300.2412 75.5135 299.1931 78.1077 298.1117 79.6629 298.1117 79.6629 296.2867 80.1702 293.4919 80.3031 290.2837 80.182 287.3397 79.8381 285.1899 79.2008 285.1477 79.2667 283.3333 77.5446 281.0969 74.687 278.8248 71.3207 277.048 68.1686 276.3008 65.9103 277.2739 65.6797 278.4159 67.378 280.441 70.2307 282.8122 73.4073 284.9888 76.1209 286.2854 77.4883 286.2433 77.5542 287.7122 78.1327 290.45 78.6757 293.5346 79.0079 296.1914 79.0559 297.5246 78.8356 297.5246 78.8356 298.1727 77.6499 299.0045 75.1262 299.7092 72.1048 300.1006 69.3413 300.0394 67.7637 299.9633 67.7818 299.1006 66.1063 297.2577 63.156 295.042 59.869 293.0178 57.0157 291.7917 55.377\"/>\n",
       "<polygon fill=\"rgba(40,40,40,1)\" points=\"279.1155 104.2769 281.1849 102.5193 285.0988 101.2127 289.6724 100.3629 293.7207 100.0765 296.2616 100.5677 296.2616 100.5677 297.595 102.7857 298.7154 106.6864 299.4868 111.2739 299.6028 115.3984 298.6623 117.9453 297.8427 117.3723 297.6293 115.3702 297.3196 111.4903 296.8427 107.0165 296.2227 103.1977 295.6541 101.4365 295.6541 101.4365 293.8047 101.5068 290.005 102.2351 285.6393 103.3226 281.8888 104.3633 279.935 104.8499\"/>\n",
       "<polygon fill=\"rgba(40,40,40,1)\" points=\"300.2133 112.4333 299.0308 114.9976 295.2013 117.1335 290.8487 119.6125 287.0581 121.8168 284.2494 121.5258 284.8426 120.7208 286.3313 119.7913 290.2719 118.4968 294.5359 116.0682 297.6594 113.3392 299.2183 112.5329\"/>\n",
       "<polygon fill=\"rgba(40,40,40,1)\" points=\"283.4663 105.4091 284.9561 105.3007 286.3559 106.1998 287.8908 107.5658 289.2364 108.9631 290.0835 109.9751 290.0835 109.9751 291.0516 110.8719 292.3797 112.2859 293.6668 113.8876 294.4944 115.3307 294.3114 116.8131 293.6223 116.0885 292.8179 116.3722 291.8668 115.1139 290.8325 113.3915 289.9107 111.7386 289.3153 110.7056 289.3153 110.7056 288.3135 110.0591 286.709 109.0555 285.0407 107.9359 283.8318 106.9229 284.1555 106.1337\"/>\n",
       "<polygon fill=\"rgba(40,40,40,1)\" points=\"277.9698 118.8417 277.4201 116.3679 277.3 112.4938 277.5036 108.1457 277.9502 104.285 278.6306 101.7173 278.7011 101.7512 280.2724 99.9787 282.7327 98.0114 285.5562 96.0982 288.1465 94.65 290.0598 94.0908 290.0598 94.0908 291.8786 94.9068 294.2461 96.696 296.781 98.9779 298.9488 101.2635 300.2625 103.2346 300.337 103.2106 300.6593 105.8473 300.573 109.7328 300.1793 114.0678 299.5297 117.889 298.6464 120.2642 297.7451 119.831 297.97 117.6366 298.2381 113.8884 298.4351 109.636 298.4764 105.8977 298.3269 103.856 298.4014 103.8321 297.5723 102.3372 295.6905 100.0302 293.3858 97.6651 291.2406 95.8253 289.9902 95.1028 289.9902 95.1028 288.6527 95.6473 286.2757 97.1759 283.6688 99.2032 281.4888 101.2307 280.4629 102.598 280.5334 102.6319 280.1057 104.6338 279.6346 108.3426 279.2474 112.5819 278.9997 116.3315 278.9219 118.5361\"/>\n",
       "<polygon fill=\"rgba(40,40,40,1)\" points=\"274.8562 156.6623 273.994 155.5898 273.7221 154.0664 273.876 152.4293 274.4185 150.9331 275.6064 149.8025 275.6372 149.8744 277.5978 149.5984 280.6812 149.439 284.2729 149.3585 287.5727 149.3826 289.8064 149.5444 289.8064 149.5444 291.9866 150.0563 295.1434 151.0177 298.5475 152.166 301.4429 153.2378 303.232 154.0862 303.2829 154.0267 304.0794 155.4602 304.1509 157.0501 303.8093 158.6586 303.0954 160.0316 301.9525 160.798 301.5585 159.8789 301.714 159.2648 301.9185 158.1844 302.0142 156.9278 301.941 155.9022 301.9101 155.6307 301.9609 155.5712 300.7293 154.8309 297.997 153.5779 294.7105 152.2391 291.6577 151.1252 289.6533 150.5473 289.6533 150.5473 287.5678 150.5009 284.3216 150.6535 280.7854 150.9509 277.8038 151.3318 276.4073 151.671 276.4382 151.7429 276.3276 151.9928 275.9518 152.9499 275.6684 154.1778 275.5412 155.27 275.5064 155.9025\"/>\n",
       "<polygon fill=\"rgba(40,40,40,1)\" points=\"280.38 166.0087 278.8453 164.2775 277.5288 161.1459 276.5244 157.455 276.0155 154.0576 276.2757 151.5849 276.4188 151.6435 278.1273 149.8636 281.0302 147.666 284.4225 145.3548 287.53 143.4575 289.8116 142.5189 289.8095 142.3642 292.2059 143.0269 295.1814 144.7438 298.2486 147.0293 300.6812 149.4005 301.7307 151.4623 300.7631 151.7146 299.4531 150.6228 296.9452 148.6767 293.9668 146.5567 291.2671 144.8551 289.8346 144.1619 289.8324 144.0072 288.0709 144.5345 284.9716 146.2216 281.6359 148.4942 278.9316 150.7611 277.7963 152.2075 277.9395 152.2661 278.0604 153.853 278.656 156.9881 279.539 160.5357 280.4323 163.5818 280.969 165.2005\"/>\n",
       "<polygon fill=\"rgba(40,40,40,1)\" points=\"283.2696 157.6533 283.3045 155.8117 283.985 153.138 285.016 150.262 286.1116 147.8392 287.1205 146.3697 287.2298 146.4791 288.542 146.1196 289.9986 146.2558 291.5445 146.5742 292.9363 147.0247 293.9997 147.8735 294.1433 147.8161 294.4894 149.5648 294.5384 152.2233 294.349 155.2726 293.9175 157.9976 293.2218 159.7031 292.2851 159.3532 292.1976 157.7871 292.253 155.1308 292.3572 152.1588 292.4351 149.6258 292.4735 148.4825 292.6172 148.4252 292.3584 148.0822 291.2613 147.5604 289.869 147.2736 288.655 147.3195 288.2817 147.5322 288.391 147.6417 287.9745 148.7071 287.0452 151.0647 285.9664 153.836 284.9676 156.298 284.2684 157.702\"/>\n",
       "<polygon fill=\"rgba(40,40,40,1)\" points=\"287.7872 172.4481 285.5055 172.3179 282.4427 171.2171 279.2134 169.5717 276.4852 167.7578 274.8172 165.9142 274.888 165.8809 274.5627 163.2782 274.6958 159.4687 275.1122 155.1718 275.7267 151.3291 276.4957 148.8252 276.4957 148.8252 278.1771 146.8169 281.0657 144.2091 284.443 141.5202 287.5659 139.3343 289.926 138.19 289.9154 138.1125 292.37 138.5077 295.3769 139.8084 298.5153 141.6211 301.1063 143.5907 302.4579 145.4336 301.5533 145.8597 300.131 144.8337 297.5119 143.2925 294.4376 141.7314 291.663 140.5736 290.2009 140.2043 290.1903 140.1268 288.4466 140.8415 285.3202 142.756 281.8768 145.2197 278.9473 147.6278 277.3872 149.3093 277.3872 149.3093 276.8262 151.5335 276.4016 155.3019 276.21 159.5315 276.3064 163.1962 276.6564 165.048 276.7272 165.0147 277.833 166.04 280.3149 167.7368 283.2983 169.4654 286.0171 170.8231 287.652 171.4573\"/>\n",
       "<polygon fill=\"rgba(40,40,40,1)\" points=\"301.2633 153.7883 301.5379 155.3544 300.7808 157.1685 299.4875 159.019 297.9673 160.5567 296.3748 161.439 296.3285 161.2914 294.1307 161.3923 290.6794 161.3381 286.7695 161.2258 283.3207 161.0818 281.1324 160.855 281.0777 160.9997 279.5384 160.0274 278.109 158.405 276.924 156.4834 276.2722 154.6289 276.6363 153.081 277.4455 153.6686 277.9197 154.0921 278.7565 155.4562 279.8758 157.1244 281.0041 158.5868 281.7134 159.3179 281.6587 159.4626 283.439 159.8825 286.8168 160.2009 290.691 160.3121 294.0815 160.1881 295.883 159.8711 295.8367 159.7235 296.5868 159.0342 297.797 157.639 299.0103 156.0378 299.9239 154.7239 300.4217 154.3284\"/>\n",
       "<polygon fill=\"rgba(40,40,40,1)\" points=\"297.5873 197.4076 298.3884 198.1529 298.7863 199.2695 298.8951 200.5189 298.716 201.7235 297.9794 202.842 297.9319 202.7798 296.6161 203.2585 294.689 203.728 292.4513 204.1973 290.3853 204.5582 288.9406 204.6985 288.9406 204.6985 287.4931 204.5901 285.4198 204.2747 283.1723 203.8548 281.2353 203.4278 279.9092 202.9782 279.8631 203.0414 279.1021 201.9394 278.8965 200.739 278.9778 199.4876 279.351 198.3625 280.1355 197.5997 280.7422 198.3946 280.8654 198.8127 280.9228 199.6194 281.0281 200.5474 281.1808 201.2713 281.1069 201.3354 281.0608 201.3987 281.7664 201.765 283.5493 202.3869 285.6958 203.0085 287.6766 203.4869 288.9294 203.6841 288.9294 203.6841 290.1776 203.4593 292.1474 202.9375 294.2798 202.2688 296.0485 201.6078 296.7459 201.226 296.6984 201.1638 296.6231 201.1013 296.7599 200.3742 296.8447 199.4441 296.8843 198.6364 296.9982 198.2156\"/>\n",
       "<polygon fill=\"rgba(40,40,40,1)\" points=\"295.7216 196.2996 297.348 196.1547 297.9079 197.5524 298.1598 198.8238 298.1752 200.3293 296.6164 200.8155 296.343 199.8536 296.3592 199.1746 296.9041 198.7955 296.7579 198.0573 296.1096 197.9146 295.8357 197.2931\"/>\n",
       "<polygon fill=\"rgba(40,40,40,1)\" points=\"290.9904 191.3352 292.271 191.4978 293.2223 192.4363 293.9873 193.7341 294.4747 195.126 294.5337 196.4657 294.3799 196.4491 293.8108 197.9292 292.8534 200.1759 291.7765 202.7221 290.8312 204.974 290.1655 206.4133 290.2846 206.512 289.2821 207.4029 287.944 208.0226 286.4799 208.3777 285.1439 208.3487 284.1353 207.5431 285.0103 207.0589 285.1616 206.616 286.0578 206.3198 287.2501 205.9537 288.344 205.5743 288.9008 205.3642 289.0198 205.463 289.7518 204.4381 290.8376 202.3081 291.9024 199.7907 292.6744 197.5279 292.9 196.2889 292.7462 196.2722 292.5092 195.7264 292.0195 194.6773 291.4517 193.5668 291.04 192.7173 291.2524 192.3003\"/>\n",
       "<polygon fill=\"rgba(40,40,40,1)\" points=\"281.1307 196.0045 282.1892 194.5665 284.2693 193.0953 286.7857 191.778 289.1512 190.8694 291.0241 190.6491 291.0023 190.8023 292.4458 191.7312 294.1073 193.3251 295.8712 195.2008 297.3603 196.9569 298.1989 198.4547 298.3531 198.4424 298.0184 200.2981 296.9664 202.6035 295.4973 205.0344 293.9013 207.0203 292.401 207.9887 291.95 207.0962 292.5354 205.9541 293.7208 203.913 295.0465 201.5662 296.1205 199.5097 296.5609 198.5855 296.7151 198.5731 296.362 197.632 295.096 195.8729 293.3889 194.0577 291.7107 192.6862 290.7931 192.276 290.7713 192.4291 289.8218 192.812 287.7033 193.7579 285.2797 194.9371 283.1697 195.9951 281.9938 196.5094\"/>\n",
       "<polygon fill=\"rgba(40,40,40,1)\" points=\"299.0745 196.4365 299.5616 198.0239 299.2527 200.2153 298.4746 202.5884 297.4396 204.6491 296.1734 206.0035 296.0897 205.8734 294.1718 206.3395 291.2624 206.7236 287.9678 207.0705 285.0423 207.3008 283.0693 207.2444 283.0145 207.3891 281.494 206.3281 280.0525 204.5281 278.7972 202.3691 278.0386 200.2901 278.1844 198.6361 279.1295 198.9631 279.669 199.7033 280.6463 201.3721 281.8653 203.3134 283.0326 204.9656 283.6511 205.7077 283.5964 205.8523 285.038 206.0957 287.8863 206.0477 291.1291 205.7062 293.9249 205.1599 295.2843 204.6217 295.2006 204.4916 295.651 203.637 296.4485 201.7779 297.2365 199.6252 297.8448 197.7895 298.2183 196.9531\"/>\n",
       "<polygon fill=\"rgba(40,40,40,1)\" points=\"293.1397 242.1842 293.4189 243.6198 293.2569 245.7349 292.8164 248.0352 292.2451 250.0014 291.5767 251.2906 291.4534 251.1972 290.3773 251.6481 289.1938 251.6993 287.9263 251.6416 286.7523 251.4831 285.7216 250.9363 285.5903 251.0182 285.0418 249.6735 284.6515 247.6636 284.4217 245.3328 284.4525 243.2117 284.861 241.8075 285.8397 242.0126 286.1839 243.1433 286.5128 245.1313 286.8136 247.3686 287.0571 249.2707 287.1159 250.067 286.9847 250.1488 287.1434 250.3432 288.0478 250.6228 289.1653 250.6736 290.0913 250.4774 290.2671 250.2982 290.1438 250.2048 290.2747 249.4171 290.69 247.545 291.1928 245.3443 291.7008 243.3944 292.1464 242.2996\"/>\n",
       "<polygon fill=\"rgba(40,40,40,1)\" points=\"300.062 233.6224 301.2663 233.4061 302.3945 233.9312 303.2074 234.8969 303.5663 236.1634 303.1351 237.5689 303.071 237.524 301.6081 238.9403 299.0632 241.2061 296.0376 243.8228 293.2109 246.1907 291.251 247.7175 291.251 247.7175 289.1845 249.0966 286.0466 251.0332 282.6099 253.0803 279.6577 254.7816 277.8525 255.7239 277.875 255.7988 276.4052 255.7653 275.3164 255.0256 274.656 253.9498 274.513 252.7137 275.0977 251.6388 275.9167 252.2126 276.0918 252.652 276.4049 253.0888 276.8185 253.5012 277.1736 253.7214 277.2701 253.7761 277.2925 253.8511 278.8642 253.2268 281.8825 251.7508 285.4043 249.9077 288.607 248.1388 290.6574 246.8949 290.6574 246.8949 292.4839 245.3409 295.1717 242.8586 298.0306 240.0969 300.3824 237.6973 301.4701 236.4024 301.406 236.3575 301.3844 236.2487 301.2873 235.8422 301.0262 235.3198 300.7104 234.885 300.3485 234.5804\"/>\n",
       "<polygon fill=\"rgba(40,40,40,1)\" points=\"282.306 243.2902 282.873 241.8012 284.276 240.0176 286.0705 238.2541 287.819 236.8749 289.3187 236.1805 289.3498 236.332 290.7146 236.7139 292.2125 237.563 293.8105 238.5983 295.1977 239.6182 296.1042 240.7077 296.2552 240.6741 296.2345 242.3267 295.6905 244.4863 294.8146 246.8447 293.7603 248.8543 292.6332 249.9804 291.9439 249.2559 292.2 248.1008 292.8542 246.0898 293.613 243.8186 294.2308 241.8693 294.5001 241.0639 294.6511 241.0304 294.358 240.4827 293.2106 239.4307 291.6981 238.4508 290.2689 237.8337 289.6493 237.7901 289.6804 237.9416 289.0554 238.5165 287.529 239.8772 285.7664 241.4981 284.1985 242.9172 283.249 243.6231\"/>\n",
       "<polygon fill=\"rgba(40,40,40,1)\" points=\"283.6675 249.5749 282.7647 249.5563 282.0372 249.0848 281.5059 248.3884 281.215 247.5279 281.4374 246.3975 281.505 246.4369 282.3121 245.6676 283.5449 244.6646 284.9953 243.5299 286.3534 242.5155 287.3303 241.8636 287.3303 241.8636 288.3621 241.3025 289.8921 240.5728 291.5716 239.8173 293.0332 239.1932 294.0897 238.8371 294.0864 238.7589 295.1904 239.0883 295.8165 239.7464 296.1855 240.5408 296.2641 241.4042 295.8602 242.2118 294.9961 241.7086 294.7005 241.6306 294.4184 241.3642 294.1134 241.0424 293.9075 240.8552 294.1772 240.8682 294.1739 240.79 293.5573 240.8583 292.0898 241.2415 290.3688 241.7778 288.8118 242.3264 287.8547 242.732 287.8547 242.732 287.0502 243.3902 285.8399 244.5127 284.564 245.7862 283.5417 246.9066 283.1942 247.4205 283.2619 247.4599 283.376 247.2151 283.4457 247.4844 283.5886 247.9043 283.693 248.2779 283.6245 248.5758\"/>\n",
       "<polygon fill=\"rgba(40,40,40,1)\" points=\"287.8336 247.5185 285.7499 247.0467 283.033 245.5826 280.3258 243.7117 278.2679 242.0075 277.3771 240.4923 277.3771 240.4923 279.0107 239.8439 281.6814 239.763 284.9669 239.9495 288.0102 240.4629 289.9442 241.3704 289.6195 242.3162 287.6969 242.4115 284.717 242.1132 281.527 241.6583 278.984 241.2764 278.3797 240.8366 278.3797 240.8366 279.1268 240.8607 281.3681 242.1212 284.1648 243.7216 286.6996 245.3165 288.1583 246.5727\"/>\n",
       "<polygon fill=\"rgba(40,40,40,1)\" points=\"283.1043 287.6513 283.4237 286.5979 284.242 285.3832 285.3165 284.1736 286.409 283.1877 287.4756 282.577 287.5001 282.6513 288.6671 282.6689 289.9897 282.9458 291.3981 283.3445 292.6242 283.7919 293.4748 284.3017 293.4748 284.3017 293.9848 285.1521 294.4326 286.3781 294.8317 287.7863 295.1089 289.1089 295.1269 290.2759 295.2012 290.3004 294.5908 291.3672 293.6052 292.4599 292.3959 293.5348 291.1815 294.3535 290.1281 294.6732 289.8147 293.7235 290.2006 293.1149 291.0586 292.1163 292.0475 290.9923 292.8786 290.0121 293.1961 289.6393 293.2704 289.6638 293.3667 289.2183 293.3368 288.0356 293.173 286.6828 292.9321 285.5294 292.7575 285.0191 292.7575 285.0191 292.2472 284.8448 291.0937 284.6041 289.7409 284.4407 288.5582 284.4111 288.1127 284.5076 288.1372 284.5819 287.7645 284.8995 286.7845 285.7309 285.6609 286.7201 284.6625 287.5784 284.054 287.9645\"/>\n",
       "<polygon fill=\"rgba(40,40,40,1)\" points=\"299.1516 278.9536 300.3792 280.9833 301.4843 284.3387 302.3579 288.1971 302.8436 291.7106 302.7301 294.2334 302.6549 294.212 301.3375 296.2219 299.0834 298.6204 296.4041 301.0788 293.8704 303.0663 291.9427 304.0647 291.9427 304.0647 289.7789 303.8896 286.6736 303.0369 283.2519 301.8061 280.2455 300.4662 278.2533 299.1223 278.1922 299.1712 277.1118 296.8886 276.2007 293.4607 275.5139 289.5647 275.235 286.043 275.582 283.6965 276.5438 283.9703 276.8099 285.9164 277.4358 289.2382 278.285 292.9751 279.1865 296.208 279.8411 297.8527 279.78 297.9015 281.1023 298.9453 283.8575 300.4169 287.1053 301.815 290.0383 302.8018 291.7426 303.0702 291.7426 303.0702 293.2103 302.1635 295.5334 300.119 297.9876 297.5735 299.9592 295.1507 300.7749 293.6768 300.6996 293.6554 300.6671 291.8855 300.248 288.5555 299.5857 284.7811 298.878 281.4757 298.3706 279.5781\"/>\n",
       "<polygon fill=\"rgba(40,40,40,1)\" points=\"285.0021 283.0537 286.0683 281.5353 288.1513 281.6985 290.3442 281.8088 292.4331 281.8554 293.3415 283.4732 292.3557 283.641 291.6222 283.8488 290.1799 283.054 288.1898 282.954 286.6751 283.6 285.9661 283.3197\"/>\n",
       "<polygon fill=\"rgba(40,40,40,1)\" points=\"286.2187 318.4294 287.7532 321.6903 289.1968 328.8408 291.3512 337.1036 293.5826 344.0487 293.8356 347.6437 292.8428 347.7633 291.4946 344.5696 290.135 337.4175 287.9823 329.1607 285.6767 322.2552 285.2939 318.8098\"/>\n",
       "<polygon fill=\"rgba(40,40,40,1)\" points=\"292.8648 326.9654 294.0804 329.1515 295.3194 332.8115 296.3909 336.9613 297.087 340.6032 297.1871 342.9249 297.0338 342.9037 296.0648 344.1875 294.535 345.072 292.7647 345.7693 291.0427 346.1656 289.4585 345.8875 289.3608 346.0075 287.8507 344.2412 285.8762 341.1029 283.8298 337.337 282.2401 333.8152 281.6383 331.3873 282.6089 331.1465 283.8043 333.0699 285.6823 336.3463 287.7659 340.0117 289.5755 343.1238 290.4957 344.6131 290.3981 344.733 291.0055 344.961 292.4756 344.7848 294.0752 344.1547 295.2705 343.2811 295.5593 342.7001 295.4061 342.6789 295.0634 340.9622 294.2646 337.4519 293.2889 333.3502 292.428 329.6731 291.9907 327.4512\"/>\n",
       "<polygon fill=\"rgba(40,40,40,1)\" points=\"284.4997 346.0779 282.9415 346.0557 281.1529 345.2684 279.3981 344.0543 277.9879 342.6587 277.2316 341.0284 277.3095 341.0208 277.7303 339.0453 278.7186 336.2363 279.996 333.0592 281.2887 330.2129 282.3539 328.3665 282.3539 328.3665 283.8477 326.846 286.2439 324.8385 288.9631 322.7571 291.405 321.0529 293.1957 320.1185 293.1822 320.0415 294.9555 320.3337 296.6776 321.3188 298.3173 322.6845 299.5547 324.197 299.9932 325.6924 298.998 325.7898 298.3231 325.1867 297.0417 324.1587 295.4932 323.1013 294.0933 322.3398 293.5465 322.121 293.533 322.0439 292.2877 322.5589 289.8174 324.0089 287.021 325.8755 284.5713 327.6987 283.1615 328.9804 283.1615 328.9804 282.304 330.6819 281.2032 333.5303 280.1534 336.7242 279.4177 339.4926 279.2549 340.8303 279.3328 340.8227 279.69 341.291 280.7984 342.4358 282.2318 343.6448 283.5653 344.6042 284.3271 345.0929\"/>\n",
       "<polygon fill=\"rgba(40,40,40,1)\" points=\"279.2828 322.0741 280.2383 320.6544 282.0643 319.4154 284.2775 318.4342 286.4424 317.875 288.383 318.0447 288.3509 318.1161 289.9927 319.5884 292.1237 322.079 294.4371 325.0515 296.4188 327.8564 297.5651 329.8883 297.5651 329.8883 298.1249 332.1532 298.607 335.5535 298.9629 339.3033 299.1208 342.5773 298.9361 344.7748 299.0084 344.8047 297.7128 346.2594 295.754 347.3376 293.4705 348.1419 291.292 348.493 289.6228 348.1153 290.0334 347.2035 291.0649 346.9294 292.8622 346.2898 294.8452 345.4 296.4589 344.4718 297.0572 343.9985 297.1296 344.0284 297.3759 342.527 297.4487 339.3673 297.3162 335.6675 297.0193 332.3216 296.6222 330.2627 296.6222 330.2627 295.4988 328.4922 293.4196 325.854 290.9781 323.0711 288.7576 320.8219 287.5484 319.8985 287.5163 319.9698 286.7563 320.0359 284.9453 320.4675 282.8921 321.1803 281.1456 321.9478 280.207 322.456\"/>\n",
       "<polygon fill=\"rgba(40,40,40,1)\" points=\"294.699 381.3397 292.9507 383.9965 289.4755 387.2053 285.411 390.2682 281.8739 392.4787 279.5103 393.076 279.5103 393.076 278.9703 390.6987 279.3356 386.5437 280.2212 381.5319 281.5042 376.9792 283.0788 374.2159 283.9313 374.7385 283.3953 377.5445 282.3442 382.0189 281.2074 386.879 280.3973 390.8276 280.0644 392.1722 280.0644 392.1722 281.1117 391.2655 284.263 388.7523 288.0785 385.5343 291.5891 382.5677 293.8465 380.817\"/>\n",
       "<polygon fill=\"rgba(40,40,40,1)\" points=\"285.3066 367.8204 287.1742 366.3173 290.1059 366.9727 293.2547 367.8194 296.1198 368.7225 296.9818 370.9596 295.983 370.9095 294.89 370.4885 292.8286 369.0009 289.882 368.2086 287.3525 368.4619 286.1957 368.278\"/>\n",
       "<polygon fill=\"rgba(40,40,40,1)\" points=\"288.3848 385.3851 285.9291 385.0054 282.7139 383.3021 279.4796 380.9927 276.9871 378.7545 275.9197 376.9184 275.9197 376.9184 277.22 375.2391 279.9861 373.3493 283.4968 371.4869 286.9087 370.2228 289.393 370.1705 289.3269 371.1683 287.5483 372.09 284.3873 373.4746 280.8742 375.0308 278.0249 376.4244 276.9775 376.9885 276.9775 376.9885 277.9413 377.6858 280.5818 379.4432 283.8588 381.4493 286.8095 383.2389 288.4509 384.3873\"/>\n",
       "<polygon fill=\"rgba(40,40,40,1)\" points=\"343.8808 20.6843 344.2347 22.0143 343.5936 23.2535 342.5082 24.4349 341.2222 25.3864 339.8821 25.9048 339.8447 25.7547 337.9926 25.8075 335.0398 25.8237 331.6903 25.8531 328.7377 25.8886 326.8849 25.8683 326.8502 26.0191 325.5012 25.5243 324.1987 24.5955 323.0928 23.4333 322.43 22.2055 322.7605 20.8696 323.4794 21.5648 323.9631 21.398 324.6713 22.0471 325.6461 22.9624 326.6263 23.8045 327.2542 24.2672 327.2194 24.4179 328.7854 24.6844 331.6937 24.827 335.0184 24.7979 337.9238 24.6043 339.4848 24.3103 339.4474 24.1602 340.067 23.6866 341.0324 22.8275 341.991 21.8952 342.6877 21.2338 343.1743 21.392\"/>\n",
       "<polygon fill=\"rgba(40,40,40,1)\" points=\"329.0271 28.3903 328.0282 28.2536 327.1311 27.6462 326.3638 26.7931 325.8193 25.8263 325.6934 24.5935 325.7698 24.6106 326.4055 23.5555 327.4251 22.2682 328.6429 20.8375 329.8064 19.5692 330.697 18.7508 330.697 18.7508 331.7245 18.1126 333.2585 17.3322 334.9636 16.5431 336.4774 15.9066 337.6644 15.5774 337.6685 15.4993 338.8222 15.9515 339.6073 16.7355 340.2231 17.7036 340.5674 18.7309 340.431 19.7298 339.455 19.5119 339.1019 19.3212 338.5925 18.772 337.9969 18.1451 337.4926 17.6835 337.5585 17.6076 337.5626 17.5295 336.9769 17.5792 335.4892 17.9646 333.7573 18.5282 332.2119 19.1191 331.3106 19.5587 331.3106 19.5587 330.6452 20.3089 329.6611 21.639 328.6532 23.1561 327.8826 24.4857 327.6775 25.0365 327.7539 25.0536 327.8447 25.0105 328.1539 25.6202 328.598 26.3622 328.9903 27.0003 329.0792 27.3917\"/>\n",
       "<polygon fill=\"rgba(40,40,40,1)\" points=\"341.0795 26.4247 339.3704 28.9237 335.8537 31.762 331.6855 34.3854 327.9946 36.2117 325.5383 36.5903 325.5383 36.5903 324.5165 34.3248 324.0353 30.2349 323.962 25.3104 324.424 20.8149 325.5872 18.0198 326.4662 18.4966 326.3811 21.0703 326.138 25.4051 325.9365 30.1999 325.938 34.1454 326.0438 35.6585 326.0438 35.6585 327.37 34.9223 330.6784 32.7724 334.588 29.9894 338.0893 27.4223 340.2005 25.9478\"/>\n",
       "<polygon fill=\"rgba(40,40,40,1)\" points=\"327.9816 14.6519 330.5877 13.2541 334.9315 12.4409 339.7592 12.1368 343.8262 12.3111 346.1628 13.1525 346.1628 13.1525 346.1767 15.636 344.9845 19.5282 343.0876 23.9781 340.8721 27.8019 338.6851 29.7925 338.1078 28.976 339.195 26.7615 341.1393 23.0043 343.2318 18.7906 344.8027 15.2299 345.2972 13.7645 345.2972 13.7645 343.7508 13.7419 339.87 14.0351 335.1997 14.6024 331.0091 15.1822 328.5588 15.4685\"/>\n",
       "<polygon fill=\"rgba(40,40,40,1)\" points=\"347.5752 65.8886 345.1798 68.4832 339.3981 71.0123 332.7499 74.1048 327.0908 76.8974 323.5632 77.058 323.9746 76.1465 326.362 74.8725 332.2441 72.9551 338.8446 69.8848 344.1006 66.6214 346.613 65.6162\"/>\n",
       "<polygon fill=\"rgba(40,40,40,1)\" points=\"336.5908 71.9053 334.8215 72.4036 332.7278 71.1321 330.2533 69.956 327.9452 69.1355 327.2143 67.4489 328.2139 67.4216 329.1517 67.3535 330.8323 68.8414 333.2264 69.9793 335.4414 70.3428 335.9807 71.1129\"/>\n",
       "<polygon fill=\"rgba(40,40,40,1)\" points=\"335.853 117.6909 334.3546 117.6003 332.2087 117.0013 329.8744 116.1238 327.8459 115.1917 326.5066 114.3363 326.5577 114.2771 325.7933 113.1106 325.118 111.5716 324.532 109.8971 324.154 108.4123 324.1686 107.2599 324.1686 107.2599 324.9815 106.443 326.3067 105.6739 327.9129 104.9206 329.4848 104.3258 330.8531 104.0556 330.8595 103.9776 332.4078 104.3357 334.4932 105.1323 336.7537 106.1856 338.6833 107.2992 339.7967 108.3061 339.1425 109.0625 337.9637 108.7058 335.9641 107.968 333.7021 107.1209 331.7153 106.4065 330.6854 106.0816 330.6918 106.0036 329.8916 106.0234 328.4157 106.3502 326.8311 106.8589 325.5587 107.4008 325.1038 107.6529 325.1038 107.6529 325.2421 108.1542 325.7455 109.4423 326.4911 110.9302 327.2905 112.2132 327.8364 112.7986 327.8876 112.7395 328.8405 113.2478 330.7411 114.167 332.9293 115.1899 334.8556 116.1019 335.9355 116.6943\"/>\n",
       "<polygon fill=\"rgba(40,40,40,1)\" points=\"329.5405 118.1567 327.7478 116.8626 326.0559 114.1473 324.6544 110.9 323.7957 107.9843 323.8157 105.9876 323.8157 105.9876 325.4714 104.8714 328.378 103.9827 331.8605 103.3645 335.0587 103.2816 337.1261 104.0655 336.6521 104.946 335.0526 105.2553 332.0806 105.5314 328.705 105.856 325.8811 106.2444 324.7491 106.4901 324.7491 106.4901 325.1673 107.5703 326.3981 110.1414 327.9859 113.1379 329.392 115.7707 330.0145 117.2762\"/>\n",
       "<polygon fill=\"rgba(40,40,40,1)\" points=\"328.7014 107.138 328.661 105.5246 330.13 104.9645 331.5282 104.4191 332.9883 103.8364 334.0512 105.051 333.1833 105.5479 332.7556 105.9758 331.8408 105.6356 330.7237 106.0713 330.281 106.9412 329.6765 106.916\"/>\n",
       "<polygon fill=\"rgba(40,40,40,1)\" points=\"334.8333 107.3812 337.3264 108.2092 340.6021 110.2481 343.8737 112.7495 346.3567 114.9778 347.3567 116.7507 347.3567 116.7507 345.4077 117.3376 342.0732 117.2264 337.9808 116.7663 334.2055 115.9696 331.8333 114.841 332.2065 113.9132 334.612 114.0382 338.3324 114.6168 342.3156 115.3403 345.4992 115.9078 346.3731 116.3551 346.3731 116.3551 345.4328 116.0729 342.7427 114.2782 339.3676 112.0425 336.2826 109.8843 334.4602 108.309\"/>\n",
       "<polygon fill=\"rgba(40,40,40,1)\" points=\"328.0324 160.6522 327.4057 159.2733 327.716 157.4072 328.488 155.3408 329.4241 153.5427 330.308 152.409 330.308 152.409 331.4756 151.5703 333.309 150.7055 335.4042 150.0153 337.2811 149.7785 338.6342 150.4589 337.9134 151.152 337.504 151.7396 335.8857 152.1394 333.8473 152.5293 332.003 152.9024 331.0428 153.1732 331.0428 153.1732 330.7345 154.122 330.2893 155.9503 329.8196 157.9718 329.3565 159.5731 328.7533 159.9591\"/>\n",
       "<polygon fill=\"rgba(40,40,40,1)\" points=\"321.8481 156.4356 321.4089 155.0256 321.5392 153.1437 322.0337 151.1351 322.7721 149.3728 323.8875 148.0953 323.9277 148.1624 325.6981 147.7722 328.2453 147.5893 331.1565 147.5253 333.8046 147.6 335.6096 147.8555 335.6096 147.8555 337.2634 148.6225 339.5265 149.9996 341.935 151.6362 343.9732 153.1747 345.247 154.4648 345.3172 154.4303 345.5587 156.109 345.2202 157.9894 344.5431 159.9441 343.6292 161.5944 342.494 162.539 341.9809 161.6807 342.2404 160.8412 342.7063 159.2911 343.1381 157.4947 343.3818 155.939 343.4227 155.3621 343.4929 155.3275 342.8003 154.4675 341.006 152.8336 338.7844 151.062 336.6881 149.5816 335.322 148.8283 335.322 148.8283 333.7659 148.7177 331.2017 148.8204 328.374 149.0993 325.9797 149.495 324.9307 149.8402 324.9709 149.9073 324.6915 150.4138 324.0502 151.852 323.4358 153.5944 322.984 155.1486 322.7454 155.9943\"/>\n",
       "<polygon fill=\"rgba(40,40,40,1)\" points=\"339.1693 185.6985 340.7477 187.6521 341.6527 191.5476 342.1139 196.2619 342.1263 200.5804 341.6398 203.3896 341.6398 203.3896 340.0221 205.7371 336.9918 208.814 333.3641 211.8598 329.992 214.0099 327.4974 214.3015 327.8752 213.3757 329.0005 212.3033 332.0696 210.1081 335.7656 207.3606 339.003 204.73 340.6583 202.9891 340.6583 202.9891 340.6936 200.5871 340.2209 196.4425 339.5023 191.8936 338.8453 188.1779 338.7915 186.6243\"/>\n",
       "<polygon fill=\"rgba(40,40,40,1)\" points=\"328.0631 198.335 329.1996 197.568 331.1185 196.7368 333.3343 195.9647 335.3436 195.3883 336.7335 195.1339 336.7414 195.2118 337.8915 195.361 339.2185 195.7028 340.5485 196.139 341.6264 196.5923 342.3603 197.2604 342.3603 197.2604 342.1215 198.2237 341.4774 199.1996 340.6141 200.3015 339.7009 201.3231 338.8278 202.0864 338.8645 202.1555 337.5677 202.7165 335.5769 203.3541 333.3058 203.9438 331.2486 204.3192 329.8774 204.3133 329.7771 203.3183 330.8587 202.7881 332.7612 202.0719 334.9317 201.3136 336.8395 200.658 337.8731 200.2916 337.9098 200.3606 338.5614 200.0007 339.5326 199.2398 340.4925 198.3574 341.1896 197.6054 341.3895 197.555 341.3895 197.555 341.1953 197.6242 340.1978 197.3865 338.9095 197.1865 337.6792 197.0937 336.9375 197.1566 336.9453 197.2345 335.8824 197.5043 333.9321 198.0196 331.7062 198.5955 329.7265 199.0575 328.5327 199.2179\"/>\n",
       "<polygon fill=\"rgba(40,40,40,1)\" points=\"334.6164 188.057 337.2043 189.5179 339.3687 193.7595 341.9015 198.6013 344.1513 202.7982 343.8754 205.7572 343.0679 205.1673 342.1124 203.4865 340.768 199.1424 338.2778 194.382 335.4761 190.8002 334.6404 189.0567\"/>\n",
       "<polygon fill=\"rgba(40,40,40,1)\" points=\"326.7475 195.442 329.3555 194.3609 333.64 193.3507 338.4563 192.5436 342.6459 192.0848 345.2213 192.1411 345.1919 192.293 346.4881 193.3727 347.2838 195.0233 347.8191 196.9104 348.0086 198.7328 347.4724 200.3324 347.5772 200.4462 345.4149 201.8464 341.6085 203.6558 337.0857 205.4979 332.909 206.8879 330.1217 207.3372 329.9647 206.3496 332.3331 205.2536 336.3054 203.5475 340.7388 201.6545 344.5096 200.0014 346.3593 199.1236 346.4641 199.2374 346.8099 198.6082 346.809 197.0908 346.3294 195.4001 345.5334 194.1082 344.9087 193.7543 344.8793 193.9062 342.8441 194.1304 338.767 194.7035 334 195.4203 329.7235 196.0541 327.1324 196.365\"/>\n",
       "<polygon fill=\"rgba(40,40,40,1)\" points=\"329.0066 203.8172 327.546 202.1186 326.3347 199.1255 325.4633 195.7445 325.0487 192.8647 325.4018 191.0098 325.4018 191.0098 327.2863 190.8906 330.092 191.6609 333.338 192.947 336.1568 194.5219 337.6601 196.1828 336.9102 196.8443 335.1708 196.2317 332.401 194.9132 329.3733 193.4214 326.8807 192.2647 326.1031 191.8047 326.1031 191.8047 326.4627 192.6335 327.2997 195.2509 328.4024 198.441 329.3654 201.3535 329.7565 203.1557\"/>\n",
       "<polygon fill=\"rgba(40,40,40,1)\" points=\"322.8125 236.8753 323.9265 235.3632 326.0311 233.7767 328.5753 232.322 331.0138 231.2741 333.0504 230.9362 333.0417 231.014 334.9527 231.8972 337.367 233.5458 339.9581 235.5674 342.1664 237.5324 343.4599 239.0837 343.4599 239.0837 344.0156 241.0255 344.3991 243.9565 344.6143 247.2359 344.6202 250.1593 344.2764 252.2363 344.3456 252.2729 342.9211 253.7672 340.6835 255.1946 338.0502 256.4809 335.5549 257.3294 333.6781 257.4005 333.7894 256.4068 335.0417 255.8351 337.2079 254.7228 339.6072 253.3448 341.612 252.0196 342.4784 251.2876 342.5476 251.3241 342.8818 250.001 343.0988 247.2375 343.1058 244.038 342.9099 241.1936 342.5633 239.5583 342.5633 239.5583 341.4058 238.3523 339.1636 236.5912 336.5137 234.7982 334.1063 233.4239 332.8242 232.9565 332.8155 233.0343 331.723 233.3392 329.5 234.2521 327.0115 235.4616 324.8737 236.6277 323.6969 237.342\"/>\n",
       "<polygon fill=\"rgba(40,40,40,1)\" points=\"325.8084 246.0194 326.2588 243.7842 327.6372 240.5941 329.4647 237.1979 331.2691 234.3722 332.7392 232.7587 332.8296 232.8843 334.447 232.6918 336.2841 233.1162 338.2225 233.8081 339.9132 234.6429 341.0431 235.8159 341.1925 235.776 341.3087 237.9557 340.9161 241.2853 340.1801 245.0711 339.2271 248.413 338.1603 250.4282 337.2847 249.9451 337.5516 247.9713 338.1217 244.6515 338.7623 240.9344 339.2638 237.7512 339.4555 236.2397 339.6049 236.1998 339.2056 235.6184 337.8079 234.7466 336.0107 234.1051 334.3769 233.8949 333.6996 234.092 333.7901 234.2176 332.9814 235.5088 331.3539 238.2901 329.4961 241.5727 327.8353 244.5032 326.792 246.1999\"/>\n",
       "<polygon fill=\"rgba(40,40,40,1)\" points=\"322.6503 241.2911 324.292 239.0425 328.4143 237.6998 333.1047 236.0997 337.1881 234.6431 339.8618 235.4194 339.1384 236.1099 337.5359 236.7668 333.4636 237.3033 328.8658 238.8718 325.3146 240.936 323.6448 241.3955\"/>\n",
       "<polygon fill=\"rgba(40,40,40,1)\" points=\"325.9491 300.1177 324.0473 297.723 322.0246 293.4782 320.2152 288.5467 319.0007 284.1052 318.7979 281.0909 318.9492 281.1232 320.4989 279.1292 323.2584 276.9747 326.5442 274.8404 329.6345 273.1952 332.0863 272.59 332.1183 272.4387 334.7897 273.8494 338.3539 276.7647 342.1239 280.4227 345.1797 283.9965 346.5943 286.7075 345.6529 287.0447 343.8536 285.1118 340.6311 281.9007 336.8914 278.3843 333.5477 275.4868 331.746 274.1976 331.7781 274.0462 330.0784 274.3156 327.0591 275.7279 323.8599 277.8059 321.342 279.9903 320.405 281.4336 320.5563 281.4659 321.0017 283.6361 322.2895 287.869 323.9819 292.7152 325.6054 296.9649 326.6399 299.3946\"/>\n",
       "<polygon fill=\"rgba(40,40,40,1)\" points=\"350.4462 293.0061 349.0693 295.7835 345.8707 299.2666 341.8418 302.7554 337.9519 305.4726 334.928 306.6638 334.9165 306.5096 331.9032 305.5506 327.6957 303.3382 323.1108 300.5537 319.2077 297.8402 316.9674 295.6085 316.8252 295.6693 316.4881 292.4368 317.1057 287.7322 318.3439 282.5486 319.9599 278.1043 321.7896 275.6018 322.4384 276.3628 321.5725 278.7382 320.3719 283.0968 319.2487 288.1437 318.5367 292.6002 318.4781 294.962 318.3359 295.0228 319.974 296.91 323.6748 299.6965 328.1964 302.4426 332.3753 304.4418 334.8052 305.0253 334.7936 304.871 336.8623 303.73 340.4886 301.0435 344.4492 297.7198 347.7632 294.6448 349.4719 292.7812\"/>\n",
       "<polygon fill=\"rgba(40,40,40,1)\" points=\"326.6124 284.1253 328.7589 284.1803 332.1343 286.0107 336.2353 287.7486 339.8981 288.901 341.4305 290.4051 340.667 291.051 338.9813 290.848 335.7347 288.9006 331.6548 287.1715 327.9976 286.1931 326.6793 285.1231\"/>\n",
       "<polygon fill=\"rgba(40,40,40,1)\" points=\"322.5651 302.6118 322.4481 300.3134 323.9693 296.8169 326.2404 292.6709 328.5743 288.9021 330.3055 286.5129 330.3055 286.5129 332.2143 284.2633 335.32 281.1 338.8068 277.908 341.8413 275.599 344.1016 275.166 343.4843 275.9527 343.0264 277.1773 340.2056 279.5776 336.5821 282.5224 333.2045 285.2988 331.1395 287.1674 331.1395 287.1674 329.8157 289.6176 327.9222 293.5585 325.9236 297.7784 324.263 301.0891 323.1824 301.8251\"/>\n",
       "<polygon fill=\"rgba(40,40,40,1)\" points=\"336.6682 328.8235 337.1243 331.1814 337.2799 334.9336 337.2053 339.0925 336.967 342.66 336.607 344.7536 336.4575 344.714 335.6063 345.6625 334.5048 346.0251 333.3488 346.0791 332.2183 345.8205 331.2825 344.9554 331.1373 345.0088 330.5839 342.9578 330.0145 339.428 329.5529 335.2941 329.3584 331.5437 329.593 329.1536 330.5927 329.1813 331.0848 331.3955 331.6406 335.0597 332.1782 339.1444 332.6129 342.6311 332.8248 344.3884 332.6796 344.4418 332.8195 344.7761 333.4636 345.0595 334.2956 345.0206 334.9105 344.6785 335.0187 344.3327 334.8691 344.2931 334.9164 342.5236 335.0246 339.0116 335.1795 334.8945 335.3916 331.1946 335.6755 328.9442\"/>\n",
       "<polygon fill=\"rgba(40,40,40,1)\" points=\"332.0927 322.6215 333.7967 322.5578 336.1316 323.1264 338.6359 324.0644 340.799 325.1453 342.2493 326.328 342.1864 326.3746 342.7573 328.1245 343.1016 330.5491 343.3016 333.2645 343.3105 335.7007 343.0373 337.3678 343.0373 337.3678 342.048 338.7373 340.3146 340.4491 338.2484 342.2223 336.2865 343.6881 334.6433 344.5175 334.6546 344.5949 332.7933 344.4008 330.5016 343.6295 328.0704 342.5155 326.0206 341.2612 324.864 340.0081 325.6678 339.4132 326.8212 339.8991 328.8817 340.7429 331.2531 341.6256 333.3477 342.2888 334.3483 342.506 334.3596 342.5834 335.3914 342.1894 337.3487 341.0028 339.4776 339.4598 341.247 337.9569 342.1005 336.9784 342.1005 336.9784 342.1923 335.6832 342.01 333.3688 341.6025 330.7713 341.0635 328.5468 340.6152 327.5374 340.5523 327.584 339.6926 327.0278 337.7453 326.0104 335.4471 324.9517 333.3956 324.086 332.2378 323.6109\"/>\n",
       "<polygon fill=\"rgba(40,40,40,1)\" points=\"349.3048 338.7976 346.0281 341.1376 339.0591 342.3733 330.9734 343.7705 323.9939 344.9452 320.1219 343.8406 320.8739 343.1814 323.8978 342.7954 330.7961 342.5271 338.8087 341.1425 345.397 339.0802 348.3752 338.429\"/>\n",
       "<polygon fill=\"rgba(40,40,40,1)\" points=\"327.87 319.3688 330.7457 321.6709 334.5343 327.5226 339.2058 334.1821 343.4184 339.7364 344.6041 343.224 343.6046 343.2547 341.5959 340.8809 338.1691 334.8912 333.5147 328.2561 329.0492 322.995 327.5009 320.2982\"/>\n",
       "<polygon fill=\"rgba(40,40,40,1)\" points=\"335.2242 316.1843 338.3002 317.7298 342.0234 321.7852 345.6691 326.9226 348.3916 331.7566 349.3393 335.0981 349.3393 335.0981 347.6863 338.1529 343.976 342.2777 339.2987 346.4973 334.7813 349.6442 331.4425 350.4823 331.5521 349.4883 333.7374 347.9692 337.9385 344.7962 342.6806 340.8856 346.5973 337.2219 348.2856 334.982 348.2856 334.982 347.1259 332.4281 344.1015 327.999 340.3253 323.1491 336.9164 319.1371 335.1146 317.1783\"/>\n",
       "<polygon fill=\"rgba(40,40,40,1)\" points=\"332.7918 390.787 330.6086 389.7869 328.2504 386.958 326.0072 383.3161 324.3516 379.8446 323.7603 377.3793 323.7603 377.3793 324.5545 374.9717 326.4929 371.6498 329.031 368.2068 331.6162 365.5837 333.8749 364.7686 333.8333 365.7677 332.9617 367.0277 330.6917 369.616 328.0269 372.7736 325.7918 375.694 324.8195 377.4234 324.8195 377.4234 325.6447 379.2276 327.6293 382.3236 330.0225 385.6917 332.0695 388.4598 332.8334 389.7879\"/>\n",
       "<polygon fill=\"rgba(40,40,40,1)\" points=\"336.8449 383.8543 335.9932 385.4368 334.0876 385.3726 332.1518 385.318 330.2457 385.2745 329.4846 383.6466 330.4733 383.4966 331.1517 383.3225 332.3119 384.0722 333.9981 384.1198 335.1987 383.4368 335.8662 383.6489\"/>\n",
       "<polygon fill=\"rgba(40,40,40,1)\" points=\"325.1889 384.5891 324.2326 382.219 323.6526 378.3792 323.4198 374.0579 323.5414 370.2684 324.1228 367.8074 324.2591 367.8804 325.9548 366.6894 328.5244 365.752 331.466 364.9614 334.1593 364.4844 336.2236 364.665 336.305 364.5334 338.0418 366.3715 340.0466 369.5895 342.0114 373.4454 343.4344 377.0586 343.795 379.5888 342.796 379.6332 341.824 377.6983 340.1239 374.3675 338.1392 370.6494 336.3321 367.5119 335.3586 366.0621 335.4401 365.9305 334.2206 365.688 331.6787 365.9652 328.8436 366.7271 326.5052 367.7615 325.5715 368.5827 325.7079 368.6556 325.5924 370.3982 325.6016 374.0188 325.7481 378.231 325.9467 381.9653 326.0756 384.1267\"/>\n",
       "<polygon fill=\"rgba(40,40,40,1)\" points=\"386.2905 13.6991 387.3854 15.8725 387.53 19.557 387.0822 23.7571 386.2678 27.4201 385.1928 29.6282 385.1928 29.6282 382.986 30.7059 379.324 31.5247 375.1245 31.9777 371.4398 31.8376 369.2651 30.7453 369.9718 30.0378 371.5986 29.8703 375.0432 29.8011 379.1121 29.635 382.669 29.3087 384.4428 28.8791 384.4428 28.8791 384.8702 27.1047 385.1922 23.5475 385.3533 19.4784 385.4183 16.0337 385.5838 14.4067\"/>\n",
       "<polygon fill=\"rgba(40,40,40,1)\" points=\"367.7923 24.9937 368.3644 23.3635 370.2153 21.9192 372.6913 20.5037 375.1068 19.3802 376.8285 18.802 376.8285 18.802 378.602 18.4101 381.251 18.128 384.1023 18.065 386.4329 18.3487 387.7633 19.4508 386.7997 19.7182 386.1861 20.3069 383.9976 20.2405 381.2397 20.0296 378.6739 19.8411 377.112 19.8234 377.112 19.8234 375.7826 20.6435 373.681 22.1274 371.4263 23.7296 369.5851 24.9145 368.7559 24.7262\"/>\n",
       "<polygon fill=\"rgba(40,40,40,1)\" points=\"389.4194 9.2994 390.5106 12.0522 390.3504 16.8564 389.4502 22.414 388.1526 27.3188 386.7079 30.267 386.7079 30.267 383.926 32.0106 379.1828 33.8114 373.749 35.2848 368.9876 35.9439 366.1361 35.1451 366.8055 34.4021 368.8123 33.978 373.306 33.1523 378.6669 31.9811 383.4006 30.6777 385.9203 29.5574 385.9203 29.5574 386.7723 26.9349 387.5762 22.0913 388.1833 16.6377 388.5371 12.0824 388.7501 10.0423\"/>\n",
       "<polygon fill=\"rgba(40,40,40,1)\" points=\"385.592 66.2017 386.2855 66.818 386.5384 67.6814 386.4821 68.5904 386.1228 69.4625 385.189 70.1816 385.1643 70.1074 383.9937 70.1627 382.2928 70.116 380.3203 70.0241 378.5067 69.8996 377.2611 69.7488 377.2611 69.7488 376.0344 69.4852 374.2794 69.0114 372.3847 68.455 370.7616 67.9445 369.673 67.5105 369.6254 67.5726 368.9772 66.5882 368.9219 65.6466 369.1651 64.7689 369.6858 64.0353 370.5424 63.6787 370.8589 64.6273 371.0108 64.8959 371.0406 65.301 371.0587 65.7659 371.0961 66.0609 370.9102 65.8973 370.8626 65.9594 371.4379 66.3352 372.9114 67.034 374.6969 67.7846 376.3562 68.4141 377.4288 68.7483 377.4288 68.7483 378.5518 68.7822 380.3257 68.7282 382.2583 68.6009 383.8791 68.4208 384.5456 68.2532 384.5208 68.179 384.2917 68.273 384.4232 68.0063 384.592 67.5727 384.7523 67.1995 384.9835 66.9952\"/>\n",
       "<polygon fill=\"rgba(40,40,40,1)\" points=\"382.1141 62.0244 382.8478 62.9837 383.4626 64.5314 383.9351 66.3183 384.2011 67.969 384.1568 69.2961 384.0805 69.2788 383.4348 70.3422 382.4547 71.4313 381.3152 72.5261 380.233 73.4143 379.2971 73.9033 379.2971 73.9033 378.2436 73.8319 376.8956 73.454 375.412 72.9099 374.0766 72.3069 373.0578 71.593 372.9949 71.6396 372.4206 70.4424 372.0002 68.8241 371.7142 66.998 371.6547 65.3337 371.9406 64.1604 372.9157 64.382 373.2265 65.1738 373.6322 66.6491 374.0821 68.3279 374.4984 69.7711 374.6916 70.3832 374.6287 70.4298 375.0071 70.83 376.0821 71.5506 377.3804 72.2522 378.5435 72.7545 379.0887 72.9105 379.0887 72.9105 379.5251 72.5484 380.388 71.6208 381.2945 70.4563 381.9889 69.3641 382.1744 68.8456 382.0981 68.8282 382.0288 68.19 381.8295 66.7013 381.5662 64.9833 381.3444 63.4695 381.3104 62.6195\"/>\n",
       "<polygon fill=\"rgba(40,40,40,1)\" points=\"388.1099 107.3519 388.5801 109.0954 388.2675 111.5794 387.4808 114.285 386.438 116.6303 385.1666 118.159 385.0774 118.0326 383.1109 118.5459 380.1591 118.9152 376.8187 119.2139 373.8481 119.374 371.8218 119.2178 371.7564 119.358 370.234 118.079 368.7917 115.9559 367.5375 113.4328 366.7892 111.0436 366.9427 109.2444 367.8988 109.5375 368.445 110.5328 369.4453 112.5534 370.6864 114.8734 371.8771 116.8445 372.5162 117.7285 372.4508 117.8687 373.881 118.1693 376.7573 118.1897 380.0378 117.8964 382.8648 117.3661 384.219 116.8166 384.1298 116.6902 384.602 115.7068 385.4241 113.5558 386.2339 111.0524 386.86 108.8863 387.2209 107.8099\"/>\n",
       "<polygon fill=\"rgba(40,40,40,1)\" points=\"390.785 119.1061 388.3084 121.2298 383.4926 122.9807 377.8172 124.2524 372.7622 124.8275 369.6122 124.3958 369.6122 124.3958 367.8045 121.7803 366.0349 117.0103 364.6066 111.3723 363.9942 106.2849 364.7706 103.1161 365.6225 103.6398 365.9628 106.144 366.7468 110.9678 367.8716 116.5179 369.136 121.2512 370.1674 123.4926 370.1674 123.4926 372.633 123.4006 377.4272 122.3912 382.8871 120.8885 387.545 119.4097 389.9331 118.5825\"/>\n",
       "<polygon fill=\"rgba(40,40,40,1)\" points=\"379.7081 160.1948 377.6811 158.6846 374.7778 155.927 371.7042 152.7285 369.1703 149.8983 367.8517 148.203 367.9748 148.1093 367.6688 147.1288 367.8475 146.2742 368.4251 145.6924 369.2784 145.5076 370.2611 145.8064 370.3539 145.6827 372.0586 146.989 374.907 149.5025 378.1276 152.5529 380.9061 155.4363 382.4308 157.4524 381.7034 158.1387 379.7065 156.6867 376.6909 154.0855 373.4277 151.1067 370.6851 148.5178 369.2744 147.1204 369.3673 146.9967 369.0627 146.6933 368.8617 146.6209 368.7792 146.7041 368.853 146.9045 369.1586 147.2069 369.2816 147.1132 370.6891 148.5137 373.2977 151.2376 376.3 154.4793 378.9228 157.4761 380.3891 159.4625\"/>\n",
       "<polygon fill=\"rgba(40,40,40,1)\" points=\"383.7469 149.9475 384.7826 150.7779 384.7114 151.6754 384.3198 152.6148 383.7258 153.4977 383.0077 154.1891 382.8999 154.0781 381.7378 154.8642 379.8807 156.1922 377.8103 157.7525 376.022 159.1718 374.9462 160.0723 375.0231 160.2065 374.1607 160.7063 373.1483 161.0341 372.1373 161.1517 371.255 160.9728 370.7421 159.7484 371.6488 160.1702 371.5106 159.259 371.9283 159.0613 372.7062 158.8971 373.5348 158.7487 374.1287 158.6469 374.2057 158.7811 375.3213 158.1912 377.198 156.9291 379.2579 155.3767 380.9883 153.9204 381.8627 153.0105 381.7549 152.8995 382.0165 152.3567 382.3874 151.6011 382.7596 150.8985 383.0647 150.5514 383.9026 150.9353\"/>\n",
       "<polygon fill=\"rgba(40,40,40,1)\" points=\"372.4719 157.8222 372.177 156.4764 372.784 154.9453 373.8361 153.3986 374.9834 152.1458 376.0165 151.4326 376.0165 151.4326 377.246 151.1792 378.9444 151.2164 380.7893 151.5255 382.3152 152.1455 383.0837 153.2889 382.1641 153.6818 381.5578 153.968 380.195 153.6209 378.5588 153.0785 377.105 152.605 376.4329 152.4074 376.4329 152.4074 376.111 153.0297 375.4481 154.4073 374.7088 155.9646 374.0175 157.1892 373.3915 157.4293\"/>\n",
       "<polygon fill=\"rgba(40,40,40,1)\" points=\"388.3217 148.6664 389.238 150.1992 389.4418 152.598 389.1854 155.3226 388.5727 157.7892 387.5526 159.5403 387.442 159.4321 385.4474 160.4915 382.2566 161.807 378.6101 163.2006 375.3552 164.3486 373.1626 164.8896 373.1523 165.0439 371.2244 164.4196 369.1226 162.9904 367.1144 161.1314 365.6664 159.2081 365.3268 157.4549 366.3209 157.5634 367.0691 158.1909 368.5968 159.6429 370.4982 161.2964 372.2854 162.6595 373.2716 163.25 373.2613 163.4044 375.031 163.1879 378.2661 162.2339 381.8681 160.8573 384.9149 159.4103 386.3778 158.3914 386.2672 158.2832 386.6082 157.1855 387.0307 154.9778 387.3445 152.4776 387.5144 150.3768 387.6534 149.4103\"/>\n",
       "<polygon fill=\"rgba(40,40,40,1)\" points=\"375.3931 194.2204 376.4729 193.5674 377.1748 193.8549 377.7725 194.3993 378.2511 195.0923 378.5479 195.8551 378.4052 195.915 378.6066 196.9787 378.9953 198.6581 379.5059 200.5447 380.0172 202.1909 380.3799 203.2109 380.5333 203.1907 380.6617 203.9991 380.598 204.8388 380.3564 205.6104 379.8954 206.2126 378.6336 206.1934 379.3437 205.4893 378.4289 205.2897 378.3563 204.968 378.4606 204.3991 378.6153 203.809 378.7508 203.4255 378.9041 203.4053 378.8458 202.4741 378.5137 200.806 378.0067 198.9329 377.4522 197.3249 377.0329 196.4914 376.8903 196.5513 376.5799 196.2885 376.1487 195.8571 375.7717 195.4184 375.6721 195.104 376.3614 194.4702\"/>\n",
       "<polygon fill=\"rgba(40,40,40,1)\" points=\"369.0197 199.5985 368.1453 197.7258 369.4275 195.7429 370.8353 193.703 372.2343 191.8008 374.2955 191.9539 373.8897 192.8679 373.4058 193.6059 371.7963 194.5117 370.5245 196.3545 370.2486 198.1807 369.7303 198.8949\"/>\n",
       "<polygon fill=\"rgba(40,40,40,1)\" points=\"393.4402 198.8407 393.6087 200.993 392.9682 203.9866 391.8407 207.2023 390.4935 209.9744 388.9766 211.7772 388.9336 211.7118 386.5558 212.353 383.0368 212.7149 379.0409 212.8763 375.4386 212.7964 373.037 212.3995 373.037 212.3995 370.9833 211.093 368.2464 208.7492 365.3774 205.9631 362.9975 203.3459 361.654 201.2818 361.5784 201.3019 361.6511 198.9469 362.4969 195.9831 363.8024 192.8355 365.3224 190.1782 366.8839 188.6873 367.4326 189.5233 366.6855 190.977 365.5921 193.6083 364.5265 196.662 363.791 199.3813 363.6189 200.7601 363.5433 200.7802 364.3837 202.2849 366.494 204.9384 369.1471 207.8175 371.69 210.2263 373.3993 211.4519 373.3993 211.4519 375.4903 211.6792 378.9915 211.5814 382.8888 211.2067 386.231 210.6379 387.861 210.0777 387.818 210.0123 388.6097 208.8704 389.8759 206.354 391.1194 203.3682 392.0604 200.6787 392.4737 199.0973\"/>\n",
       "<polygon fill=\"rgba(40,40,40,1)\" points=\"368.6415 197.0358 370.7293 195.6027 374.8733 195.3815 379.6284 194.8676 383.724 194.1983 386.0697 195.1522 385.3475 195.8438 383.7392 196.3503 379.7341 196.1191 375.0375 196.6267 371.1743 197.7082 369.4949 197.5571\"/>\n",
       "<polygon fill=\"rgba(40,40,40,1)\" points=\"367.2559 246.5818 367.3816 244.185 368.9838 240.983 371.3071 237.6685 373.6715 235.0162 375.6026 233.7361 375.6026 233.7361 377.8801 234.1613 381.092 235.6809 384.5243 237.8263 387.2488 240.1494 388.2997 242.3071 387.3197 242.5062 385.9095 241.5991 383.2406 239.5858 380.0897 237.2969 377.2711 235.4582 375.8136 234.775 375.8136 234.775 374.7382 235.9728 372.8604 238.7654 370.8523 242.1023 369.1804 244.9973 368.2359 246.3827\"/>\n",
       "<polygon fill=\"rgba(40,40,40,1)\" points=\"379.9146 242.4922 380.5965 243.2068 380.6448 244.0499 380.372 244.9321 379.9531 245.6872 379.4434 246.2674 379.4434 246.2674 378.8196 246.7228 378.0299 247.0721 377.1266 247.2643 376.2914 247.1402 375.641 246.3967 376.3793 245.7222 376.4795 245.1755 377.0776 245.0868 377.8475 245.1792 378.5279 245.3201 378.7283 245.4848 378.7283 245.4848 378.5823 245.2703 378.5033 244.5801 378.4805 243.805 378.6228 243.2173 379.1763 243.1667\"/>\n",
       "<polygon fill=\"rgba(40,40,40,1)\" points=\"378.8145 254.6005 376.907 252.9948 374.2379 250.0842 371.4015 246.6559 369.0106 243.509 367.6358 241.3624 367.7054 241.3266 367.1432 239.3914 366.7304 236.8833 366.4785 234.2787 366.4484 232.1223 366.8973 230.7047 366.8973 230.7047 368.3802 230.5926 370.4723 231.1161 372.9497 231.9582 375.2965 232.9349 377.0513 233.9256 377.1022 233.8661 378.8765 235.6963 381.3918 238.7447 384.0787 242.2913 386.3001 245.5564 387.4259 247.7812 386.5373 248.2397 385.0184 246.4803 382.5365 243.4838 379.7294 240.0925 377.2277 237.1278 375.73 235.4705 375.7808 235.4111 374.4814 234.4785 372.3559 233.3525 370.0474 232.3403 368.1443 231.6858 367.5271 231.5 367.5271 231.5 367.5666 232.1433 367.7675 234.1458 368.2237 236.6248 368.8326 238.9518 369.4425 240.4303 369.5121 240.3944 370.7819 242.2321 373.0944 245.3467 375.7521 248.8564 378.1 251.959 379.4645 253.8406\"/>\n",
       "<polygon fill=\"rgba(40,40,40,1)\" points=\"380.0061 241.7013 381.0777 242.5489 380.717 243.853 380.6663 245.2478 380.9313 246.5746 379.801 247.3421 379.4592 246.4024 378.8339 246.093 379.4144 245.1464 379.4611 243.8632 378.9508 242.877 379.597 242.6138\"/>\n",
       "<polygon fill=\"rgba(40,40,40,1)\" points=\"364.0948 288.0889 367.0003 286.3084 373.1771 285.1535 380.3151 283.5334 386.3852 281.9085 389.7746 282.2602 389.3396 283.1606 386.7308 284.0326 380.5754 284.7621 373.4727 286.3742 367.6056 288.3735 364.876 288.7132\"/>\n",
       "<polygon fill=\"rgba(40,40,40,1)\" points=\"366.5912 302.261 364.9925 299.3144 364.3225 293.9722 364.3316 287.7815 364.9053 282.3323 366.0373 279.0673 366.0373 279.0673 369.0511 277.3765 374.3134 275.8496 380.4052 274.7474 385.7818 274.4636 388.9643 275.5168 388.3227 276.2838 385.7846 276.4373 380.6643 276.91 374.6795 277.7156 369.4822 278.7428 366.8504 279.7475 366.8504 279.7475 366.3263 282.5154 366.233 287.8123 366.4968 293.8454 366.9357 298.9687 367.2329 301.494\"/>\n",
       "<polygon fill=\"rgba(40,40,40,1)\" points=\"375.0203 286.2845 376.5169 285.9015 378.8511 285.815 381.4274 285.942 383.6381 286.2039 385.0041 286.5585 384.9542 286.7049 385.6276 287.4602 385.8187 288.2992 385.8361 289.1474 385.6797 289.9936 385.038 290.7759 385.0938 290.9201 383.7435 291.3306 381.5455 291.6832 378.9766 291.916 376.6408 291.9256 375.1297 291.6045 375.1947 290.6066 376.5274 290.1966 378.776 289.8249 381.2909 289.5159 383.4352 289.2987 384.445 289.2434 384.5009 289.3877 384.6142 289.4304 384.8172 289.0271 384.8055 288.4613 384.5861 288.0667 384.4747 288.114 384.4248 288.2605 383.4136 288.2468 381.2622 288.1179 378.7366 287.9127 376.4747 287.6337 375.1262 287.2789\"/>\n",
       "<polygon fill=\"rgba(40,40,40,1)\" points=\"373.3609 298.048 372.2305 296.1075 370.9828 292.8534 369.8212 289.1101 368.9702 285.7248 368.652 283.4184 368.7302 283.4181 369.1856 281.5261 370.1169 279.2428 371.2768 276.9247 372.4313 275.0544 373.5594 274.0283 373.5594 274.0283 375.0584 274.3087 377.0235 275.2935 379.2282 276.6564 381.2202 278.11 382.6017 279.4805 382.6685 279.4396 383.6094 281.5693 384.664 284.8969 385.6422 288.6922 386.2903 292.1165 386.348 294.3615 385.348 294.3654 384.7458 292.4491 383.7584 289.1936 382.6151 285.5151 381.5517 282.2997 380.8679 280.5419 380.9346 280.5011 380.0529 279.4079 378.3308 277.8777 376.339 276.3939 374.5936 275.3258 373.8365 275.0042 373.8365 275.0042 373.3612 275.6757 372.4372 277.5015 371.5221 279.8105 370.8608 282.0172 370.6849 283.4106 370.7631 283.4103 371.1048 285.2651 371.8893 288.5597 372.8492 292.2902 373.7195 295.5791 374.2138 297.5259\"/>\n",
       "<polygon fill=\"rgba(40,40,40,1)\" points=\"380.6928 333.4229 380.5415 334.4311 379.9675 334.9013 379.179 335.1485 378.3932 335.2287 377.7207 335.1903 377.7207 335.1903 377.0471 335.1873 376.2677 335.059 375.4959 334.7638 374.9519 334.2593 374.8628 333.2437 375.8623 333.2744 376.1846 332.7179 376.6631 332.9249 377.1829 333.3921 377.6225 333.8752 377.7533 334.1307 377.7533 334.1307 377.8995 333.8837 378.3679 333.4285 378.9154 332.9942 379.4058 332.8169 379.6932 333.3922\"/>\n",
       "<polygon fill=\"rgba(40,40,40,1)\" points=\"377.3759 329.8636 378.6107 331.0702 380.1917 333.2435 381.7807 335.7554 383.0356 337.9739 383.6417 339.3224 383.5012 339.3871 383.5223 340.2171 383.1863 340.8511 382.6291 341.2222 381.9146 341.2877 381.1569 340.9483 381.0431 341.053 380.0325 339.9738 378.4693 337.9606 376.7642 335.526 375.3685 333.2293 374.7312 331.6248 375.5836 331.1018 376.7917 332.241 378.4739 334.3053 380.2334 336.6761 381.6758 338.7397 382.3662 339.8358 382.2524 339.9405 382.2942 340.1439 382.3483 340.2353 382.384 340.2115 382.3205 340.1264 382.149 340.0093 382.0085 340.074 381.2633 339.0144 379.9154 336.8879 378.4062 334.3503 377.15 332.0024 376.5648 330.4484\"/>\n",
       "<polygon fill=\"rgba(40,40,40,1)\" points=\"375.8965 335.5039 374.8465 334.8064 375.2146 333.7685 375.2562 332.7004 374.9698 331.637 376.0708 331.0232 376.3757 331.9756 377.0551 332.1683 376.5073 332.8114 376.4706 333.755 376.9669 334.4387 376.2745 334.5781\"/>\n",
       "<polygon fill=\"rgba(40,40,40,1)\" points=\"360.9122 330.0756 362.7203 328.1861 366.7223 326.673 371.6948 325.4581 376.3361 324.743 379.4352 324.7524 379.4352 324.7524 382.3149 325.8979 386.356 328.29 390.5184 331.2694 393.669 334.164 394.6434 336.591 393.6615 336.4014 392.2771 335.5634 389.151 332.9647 385.2525 329.8386 381.5823 327.1292 379.2342 325.7933 379.2342 325.7933 376.5574 326.1586 372.1423 327.3063 367.36 328.7557 363.491 330.0032 361.894 330.2653\"/>\n",
       "<polygon fill=\"rgba(40,40,40,1)\" points=\"370.969 383.7996 369.7435 381.7865 370.3877 378.4799 371.0082 374.7316 371.464 371.3938 373.2729 369.883 373.484 370.8605 373.4795 372.1479 372.2367 374.993 371.6349 378.6283 371.8946 381.7221 371.4839 382.9423\"/>\n",
       "<polygon fill=\"rgba(40,40,40,1)\" points=\"380.7655 391.7622 377.9875 391.6818 373.9651 390.4408 369.6334 388.5606 365.9808 386.5215 363.8601 384.5979 363.9924 384.5178 363.6443 381.9055 363.892 378.0996 364.4561 373.8469 365.2092 370.108 366.2263 367.6769 366.1194 367.5651 368.6683 366.2609 372.7262 365.2445 377.3983 364.5587 381.6052 364.4092 384.3081 365.0559 383.902 365.9697 381.6417 366.1416 377.6511 366.6442 373.1346 367.3881 369.2555 368.2304 367.3619 368.8646 367.255 368.7528 366.3633 370.4553 365.467 374.0229 364.9138 378.1933 364.849 381.8711 365.266 383.7473 365.3983 383.6672 367.0611 384.7731 370.5865 386.5976 374.7529 388.4934 378.4744 390.0189 380.6118 390.7741\"/>\n",
       "<polygon fill=\"rgba(40,40,40,1)\" points=\"377.274 374.4127 379.8762 373.7989 383.8156 373.7472 388.0004 374.0616 391.3471 374.5527 393.1743 375.4726 393.1743 375.4726 391.6967 376.8873 388.6405 378.337 384.7313 379.8633 380.9495 380.9676 378.2816 381.1428 378.1335 380.1538 380.387 379.0757 384.0342 377.7998 387.9817 376.5532 391.1303 375.5713 392.1259 375.6296 392.1259 375.6296 391.1911 375.9769 387.8929 375.9602 383.7534 375.9243 379.8925 375.7726 377.422 375.4017\"/>\n",
       "</svg>"
      ],
      "text/plain": [
       "<IPython.core.display.SVG object>"
      ]
     },
     "metadata": {},
     "output_type": "display_data"
    }
   ],
   "source": [
    "doc = document(400, 400, 'pt')\n",
    "page = doc.addpage()\n",
    "fig = shape().fill(rgba(40, 40, 40, 255)).nostroke()\n",
    "grid_size = 9\n",
    "grid_res = doc.width / grid_size\n",
    "for i in range(grid_size):\n",
    "    for j in range(grid_size):\n",
    "        for k in range(np.random.choice([2, 3, 4, 5])):\n",
    "            poly = ellipse(0, 0,\n",
    "                           np.random.uniform((doc.width/grid_size)*0.4),\n",
    "                           np.random.uniform((doc.height/grid_size)*0.4),\n",
    "                           n=np.random.choice([4, 5, 6, 7]))\n",
    "            poly_fancy = poly.fancy_curve(thicknesses=[1, 2, 1, 2, 1],\n",
    "                                          interp=\"cubic\",\n",
    "                                          tightness=0.5)\n",
    "            page.place(fig.polygon(poly_fancy.rotate(np.random.uniform(np.pi*2)).translate(\n",
    "                i*grid_res+grid_res*0.5, j*grid_res+grid_res*0.5)))\n",
    "show(page)"
   ]
  },
  {
   "cell_type": "markdown",
   "metadata": {},
   "source": [
    "An example with `arc` primitives and `.fancy_curve()`:"
   ]
  },
  {
   "cell_type": "code",
   "execution_count": 72,
   "metadata": {},
   "outputs": [
    {
     "data": {
      "image/svg+xml": [
       "<svg height=\"400pt\" version=\"1.1\" width=\"400pt\" xmlns=\"http://www.w3.org/2000/svg\" xmlns:xlink=\"http://www.w3.org/1999/xlink\">\n",
       "<title>Untitled</title>\n",
       "<polygon fill=\"rgba(40,40,40,1)\" points=\"188.4653 117.1304 188.7496 117.109 189.0339 117.0885 189.3182 117.0689 189.6025 117.0503 189.8868 117.0327 189.8889 117.0499 190.1731 117.0333 190.4574 117.0175 190.7416 117.0028 191.0258 116.9889 191.31 116.9761 191.3118 116.9932 191.596 116.9813 191.8801 116.9704 192.1642 116.9604 192.4482 116.9513 192.7322 116.9432 192.7337 116.9603 193.0176 116.9531 193.3015 116.9469 193.5854 116.9416 193.8692 116.9373 194.153 116.934 194.1542 116.951 194.4378 116.9486 194.7214 116.9471 195.005 116.9466 195.2885 116.947 195.5719 116.9484 195.5728 116.9653 195.8561 116.9676 196.1393 116.9709 196.4225 116.9751 196.7056 116.9803 196.9886 116.9864 196.9892 117.0032 197.2721 117.0103 197.5549 117.0182 197.8376 117.0272 198.1202 117.037 198.4027 117.0479 198.403 117.0646 198.6854 117.0763 198.9677 117.089 199.2499 117.1027 199.5319 117.1172 199.8139 117.1328 199.8139 117.1494 200.0957 117.1658 200.3774 117.1832 200.6589 117.2015 200.9404 117.2208 201.2217 117.241 201.2214 117.2575 201.5026 117.2786 201.7836 117.3006 202.0645 117.3236 202.3452 117.3476 202.6258 117.3724 202.6253 117.3888 202.9057 117.4146 203.1859 117.4413 203.4661 117.4689 203.746 117.4975 204.0258 117.527 204.025 117.5433 204.3046 117.5737 204.5841 117.6051 204.8633 117.6373 205.1424 117.6705 205.4214 117.7047 205.4203 117.7208 205.699 117.7559 205.9776 117.7918 206.2559 117.8287 206.5341 117.8665 206.8121 117.9053 206.8108 117.9213 207.0886 117.9609 207.3661 118.0015 207.6435 118.043 207.9207 118.0854 208.1977 118.1287 208.1961 118.1446 208.4728 118.1888 208.7493 118.2339 209.0257 118.28 209.3018 118.3269 209.5777 118.3748 209.5758 118.3906 209.8515 118.4393 210.1269 118.489 210.4021 118.5396 210.677 118.5911 210.9518 118.6435 210.9497 118.6592 211.2241 118.7125 211.4984 118.7667 211.7724 118.8218 212.0461 118.8778 212.3196 118.9347 212.3173 118.9502 212.5905 119.008 212.8634 119.0667 213.1361 119.1263 213.4086 119.1868 213.6808 119.2482 213.6782 119.2636 213.9501 119.3258 214.2217 119.389 214.4931 119.4531 214.7642 119.5181 215.035 119.5839 215.0322 119.5991 215.3027 119.6658 215.5729 119.7335 215.8429 119.802 216.1125 119.8714 216.3819 119.9417 216.3789 119.9567 216.6479 120.0278 216.9166 120.0999 217.1851 120.1728 217.4533 120.2466 217.7211 120.3213 217.7178 120.3362 217.9854 120.4117 218.2526 120.4882 218.5195 120.5655 218.7861 120.6436 219.0523 120.7227 219.0488 120.7374 219.3147 120.8173 219.5803 120.8981 219.8456 120.9797 220.1106 121.0623 220.3752 121.1457 220.3714 121.1602 220.6357 121.2444 220.8996 121.3295 221.1632 121.4155 221.4264 121.5024 221.6893 121.5901 221.6854 121.6044 221.9479 121.6929 222.2101 121.7823 222.4719 121.8726 222.7334 121.9637 222.9945 122.0557 222.9903 122.0699 223.251 122.1627 223.5113 122.2563 223.7713 122.3508 224.031 122.4462 224.2902 122.5424 224.2858 122.5564 224.5447 122.6534 224.8031 122.7513 225.0612 122.85 225.319 122.9496 225.5763 123.05 225.5717 123.0638 225.8286 123.165 226.0851 123.2671 226.3412 123.37 226.597 123.4737 226.8523 123.5783 226.8475 123.5919 227.1024 123.6973 227.3569 123.8035 227.6111 123.9105 227.8648 124.0184 228.118 124.1271 228.113 124.1405 228.3659 124.25 228.6183 124.3603 228.8703 124.4715 229.1219 124.5834 229.3731 124.6962 229.3679 124.7095 229.6186 124.823 229.8689 124.9374 230.1188 125.0526 230.3682 125.1685 230.6173 125.2852 230.612 125.2981 230.8606 125.4154 231.1088 125.5335 231.3566 125.6524 231.604 125.7719 231.851 125.8922 231.8457 125.9045 232.0923 126.0255 232.3384 126.1471 232.5841 126.2696 232.8294 126.3927 233.0743 126.5166 233.069 126.5283 233.3134 126.6528 233.5575 126.7781 233.801 126.9041 234.0442 127.0308 234.2869 127.1582 234.2817 127.1693 234.524 127.2974 234.7658 127.4262 235.0072 127.5557 235.2482 127.6859 235.4887 127.8169 235.4836 127.8274 235.7236 127.959 235.9633 128.0913 236.2025 128.2243 236.4413 128.358 236.6796 128.4925 236.6744 128.5025 236.9123 128.6375 237.1497 128.7733 237.3867 128.9098 237.6232 129.0469 237.8592 129.1848 237.8542 129.1943 238.0897 129.3328 238.3249 129.472 238.5595 129.6119 238.7937 129.7525 239.0275 129.8938 239.0225 129.9027 239.2558 130.0446 239.4886 130.1872 239.721 130.3305 239.9528 130.4745 240.1842 130.6192 240.1794 130.6275 240.4103 130.7728 240.6408 130.9188 240.8708 131.0655 241.1002 131.2128 241.3293 131.3609 241.3246 131.3687 241.5531 131.5173 241.7812 131.6666 242.0087 131.8166 242.2358 131.9673 242.4624 132.1187 242.4579 132.1259 242.684 132.2779 242.9096 132.4305 243.1347 132.5838 243.3594 132.7378 243.5835 132.8925 243.5791 132.8992 243.8028 133.0544 244.0259 133.2103 244.2486 133.3669 244.4707 133.5241 244.6924 133.682 244.6882 133.6882 244.9093 133.8467 245.13 134.0059 245.3501 134.1657 245.5697 134.3262 245.7888 134.4873 245.7849 134.493 246.0035 134.6546 246.2216 134.817 246.4392 134.98 246.6562 135.1437 246.8728 135.308 246.869 135.3132 247.0851 135.478 247.3006 135.6436 247.5156 135.8098 247.73 135.9766 247.944 136.144 247.9404 136.1487 248.1539 136.3167 248.3668 136.4854 248.5792 136.6547 248.791 136.8247 249.0023 136.9952 248.999 136.9994 249.2098 137.1706 249.42 137.3423 249.6297 137.5148 249.8389 137.6878 250.0475 137.8615 250.0445 137.8652 250.2526 138.0394 250.4602 138.2142 250.6672 138.3897 250.8737 138.5658 251.0796 138.7425 251.0768 138.7458 251.2822 138.923 251.4871 139.1009 251.6914 139.2794 251.8951 139.4585 252.0982 139.6382 252.0958 139.641 252.2984 139.8213 252.5005 140.0022 252.702 140.1837 252.903 140.3658 253.1033 140.5485 253.1012 140.5508 253.3011 140.7341 253.5004 140.9179 253.6991 141.1024 253.8972 141.2874 254.0948 141.4731 254.093 141.475 254.29 141.6612 254.4865 141.848 254.6824 142.0354 254.8777 142.2233 255.0724 142.4119 255.0709 142.4134 255.2651 142.6025 255.4587 142.7921 255.6517 142.9824 255.8441 143.1733 256.0359 143.3647 256.0348 143.3658 256.2261 143.5577 256.4168 143.7503 256.6069 143.9434 256.7964 144.1371 256.9853 144.3314 256.9846 144.3321 257.173 144.5268 257.3607 144.7222 257.5479 144.9181 257.7345 145.1146 257.9204 145.3117 257.9201 145.312 258.1055 145.5096 258.2903 145.7078 258.4745 145.9065 258.658 146.1058 258.841 146.3056 258.8411 146.3056 259.0235 146.5059 259.2053 146.7068 259.3865 146.9083 259.567 147.1103 259.747 147.3128 259.7474 147.3124 259.9268 147.5155 260.1056 147.7191 260.2838 147.9233 260.4613 148.128 260.6382 148.3333 260.6391 148.3325 260.8154 148.5383 260.9911 148.7446 261.1662 148.9514 261.3406 149.1588 261.5144 149.3667 261.5157 149.3657 261.689 149.5741 261.8616 149.783 262.0336 149.9925 262.2049 150.2025 262.3756 150.413 262.3756 150.413 262.2083 150.1998 262.0401 149.9872 261.8711 149.7753 261.7014 149.5639 261.5309 149.3532 261.5322 149.3521 261.3608 149.1421 261.1886 148.9327 261.0156 148.724 260.8419 148.5159 260.6674 148.3084 260.6682 148.3077 260.4929 148.1009 260.3167 147.8948 260.1398 147.6894 259.9621 147.4846 259.7837 147.2805 259.7841 147.2801 259.6049 147.0767 259.4248 146.874 259.244 146.6719 259.0625 146.4705 258.8802 146.2699 258.8802 146.2698 258.6971 146.0699 258.5133 145.8706 258.3287 145.672 258.1433 145.4741 257.9573 145.2769 257.9569 145.2772 257.7701 145.0808 257.5825 144.8851 257.3941 144.69 257.2051 144.4957 257.0153 144.3021 257.0146 144.3028 256.824 144.1099 256.6328 143.9178 256.4408 143.7264 256.2481 143.5357 256.0547 143.3457 256.0536 143.3468 255.8594 143.1577 255.6646 142.9692 255.469 142.7815 255.2727 142.5945 255.0758 142.4083 255.0743 142.4098 254.8766 142.2244 254.6783 142.0397 254.4792 141.8558 254.2794 141.6726 254.079 141.4901 254.0772 141.4921 253.8761 141.3105 253.6743 141.1296 253.4718 140.9495 253.2686 140.7702 253.0648 140.5916 253.0627 140.594 252.8582 140.4163 252.653 140.2393 252.4472 140.0632 252.2407 139.8878 252.0336 139.7131 252.0312 139.7159 251.8233 139.5422 251.6149 139.3692 251.4058 139.197 251.1961 139.0256 250.9857 138.855 250.983 138.8583 250.772 138.6885 250.5604 138.5196 250.3481 138.3515 250.1352 138.1841 249.9217 138.0176 249.9188 138.0213 249.7046 137.8557 249.4899 137.6909 249.2745 137.5268 249.0586 137.3636 248.842 137.2013 248.8388 137.2054 248.6216 137.044 248.4039 136.8833 248.1855 136.7235 247.9666 136.5644 247.7471 136.4063 247.7436 136.4109 247.5235 136.2537 247.3028 136.0972 247.0815 135.9416 246.8597 135.7869 246.6373 135.633 246.6336 135.6381 246.4106 135.4851 246.1871 135.333 245.963 135.1817 245.7384 135.0312 245.5132 134.8816 245.5092 134.8873 245.2835 134.7387 245.0572 134.5909 244.8304 134.4439 244.6031 134.2978 244.3752 134.1526 244.3711 134.1588 244.1427 134.0145 243.9137 133.8711 243.6843 133.7286 243.4543 133.5869 243.2239 133.4462 243.2195 133.4529 242.9886 133.313 242.7571 133.1741 242.5251 133.036 242.2926 132.8988 242.0596 132.7625 242.0551 132.7698 241.8217 132.6345 241.5877 132.5 241.3533 132.3665 241.1184 132.2338 240.883 132.102 240.8783 132.1098 240.6424 131.979 240.4061 131.8491 240.1693 131.7201 239.9321 131.5921 239.6944 131.4649 239.6896 131.4732 239.4515 131.347 239.2129 131.2217 238.9738 131.0973 238.7343 130.9739 238.4944 130.8513 238.4895 130.8602 238.2492 130.7386 238.0084 130.618 237.7672 130.4983 237.5256 130.3795 237.2836 130.2616 237.2785 130.271 237.0361 130.1541 236.7932 130.0382 236.55 129.9232 236.3063 129.8091 236.0623 129.6959 236.0572 129.7059 235.8127 129.5937 235.5679 129.4825 235.3227 129.3722 235.0771 129.2629 234.8311 129.1544 234.8259 129.165 234.5796 129.0576 234.3329 128.9512 234.0858 128.8456 233.8384 128.7411 233.5906 128.6374 233.5854 128.6486 233.3373 128.546 233.0888 128.4443 232.84 128.3436 232.5908 128.2439 232.3413 128.1451 232.336 128.1568 232.0862 128.059 231.8361 127.9622 231.5856 127.8664 231.3348 127.7714 231.0837 127.6775 231.0784 127.6898 230.827 127.5969 230.5753 127.505 230.3232 127.414 230.0709 127.3239 229.8183 127.2349 229.813 127.2478 229.5601 127.1598 229.3069 127.0727 229.0535 126.9866 228.7997 126.9015 228.5458 126.8172 228.5406 126.8304 228.2864 126.7471 228.032 126.6646 227.7773 126.5831 227.5224 126.5024 227.2673 126.4227 227.2623 126.4361 227.007 126.3573 226.7514 126.2794 226.4956 126.2024 226.2396 126.1263 225.9834 126.0511 225.9786 126.0648 225.7223 125.9905 225.4657 125.9171 225.2089 125.8447 224.9518 125.7731 224.6946 125.7025 224.69 125.7163 224.4327 125.6466 224.1751 125.5779 223.9174 125.51 223.6594 125.443 223.4013 125.3769 223.3969 125.3909 223.1387 125.3258 222.8802 125.2616 222.6216 125.1983 222.3628 125.1359 222.1039 125.0745 222.0997 125.0887 221.8406 125.0281 221.5814 124.9685 221.322 124.9098 221.0625 124.852 220.8028 124.7952 220.7988 124.8095 220.539 124.7536 220.2791 124.6986 220.019 124.6445 219.7587 124.5913 219.4984 124.539 219.4946 124.5535 219.2342 124.5022 218.9736 124.4518 218.7129 124.4023 218.4521 124.3537 218.1912 124.3061 218.1876 124.3208 217.9266 124.2741 217.6655 124.2283 217.4043 124.1834 217.143 124.1394 216.8815 124.0964 216.8782 124.1113 216.6168 124.0692 216.3552 124.028 216.0935 123.9877 215.8317 123.9484 215.5699 123.91 215.5668 123.925 215.305 123.8875 215.043 123.851 214.781 123.8153 214.5189 123.7806 214.2567 123.7468 214.2539 123.762 213.9917 123.7291 213.7294 123.6972 213.4671 123.6662 213.2048 123.6361 212.9424 123.6069 212.9398 123.6223 212.6774 123.594 212.4149 123.5667 212.1524 123.5403 211.8899 123.5149 211.6273 123.4903 211.6249 123.5058 211.3624 123.4822 211.0998 123.4595 210.8372 123.4377 210.5745 123.4169 210.3119 123.3969 210.3098 123.4125 210.0472 123.3935 209.7846 123.3755 209.5219 123.3583 209.2593 123.3421 208.9966 123.3268 208.9948 123.3425 208.7322 123.3281 208.4696 123.3147 208.207 123.3021 207.9445 123.2905 207.6819 123.2798 207.6803 123.2957 207.4178 123.2859 207.1554 123.2771 206.8929 123.2691 206.6305 123.2621 206.3681 123.256 206.3668 123.272 206.1045 123.2669 205.8422 123.2626 205.58 123.2593 205.3178 123.2568 205.0557 123.2553 205.0547 123.2715 204.7926 123.2709 204.5307 123.2712 204.2687 123.2725 204.0069 123.2746 203.7451 123.2777 203.7443 123.2939 203.4827 123.2979 203.221 123.3029 202.9595 123.3087 202.6981 123.3154 202.4367 123.323 202.4362 123.3394 202.1749 123.348 201.9138 123.3575 201.6527 123.3678 201.3918 123.3791 201.1309 123.3913 201.1307 123.4078 200.8699 123.421 200.6093 123.435 200.3488 123.4499 200.0884 123.4657 199.8281 123.4825 199.8282 123.4991 199.5681 123.5167 199.3081 123.5353 199.0482 123.5548 198.7884 123.5751 198.5288 123.5964 198.5291 123.6131 198.2697 123.6353 198.0104 123.6584 197.7512 123.6823 197.4922 123.7072 197.2333 123.733 197.2339 123.7498 196.9753 123.7765 196.7167 123.8041 196.4584 123.8325 196.2002 123.8619 195.9421 123.8922 195.943 123.9091 195.6852 123.9402 195.4275 123.9723 195.17 124.0052 194.9127 124.0391 194.6555 124.0738 194.6567 124.0908 194.3998 124.1264 194.1431 124.163 193.8865 124.2004 193.6302 124.2386 193.374 124.2778 193.3755 124.2949 193.1196 124.335 192.8639 124.3759 192.6084 124.4178 192.3531 124.4605 192.098 124.5041 192.0998 124.5212 191.845 124.5657 191.5903 124.6111 191.3359 124.6573 191.0817 124.7044 190.8278 124.7524 190.8299 124.7697 190.5762 124.8185 190.3228 124.8683 190.0695 124.9189 189.8166 124.9704 189.5638 125.0228\"/>\n",
       "<polygon fill=\"rgba(40,40,40,1)\" points=\"240.7057 241.1332 240.0505 241.7547 239.3854 242.3661 238.7109 242.967 238.0274 243.5572 237.3353 244.1361 237.3275 244.127 236.6268 244.6948 235.917 245.2519 235.1986 245.7978 234.4721 246.3322 233.7379 246.8548 233.7309 246.8451 232.989 247.356 232.2388 247.8554 231.481 248.3431 230.716 248.8187 229.9443 249.282 229.9382 249.2718 229.1596 249.7228 228.3738 250.1617 227.5813 250.5883 226.7826 251.0024 225.9781 251.4036 225.9728 251.3931 225.1625 251.7815 224.3459 252.1574 223.5236 252.5205 222.696 252.8707 221.8638 253.2076 221.8593 253.1967 221.0222 253.5205 220.1799 253.8312 219.3328 254.1288 218.4815 254.4131 217.6266 254.6838 217.623 254.6727 216.7643 254.9299 215.9013 255.1738 215.0347 255.4042 214.1649 255.621 213.2925 255.824 213.2899 255.8128 212.4148 256.0021 211.5365 256.1778 210.6556 256.3398 209.7726 256.4879 208.8882 256.6222 208.8864 256.6109 208.0003 256.7313 207.1121 256.8379 206.2223 256.9306 205.3316 257.0095 204.4404 257.0744 204.4395 257.063 203.5478 257.1139 202.655 257.1509 201.7618 257.1741 200.8687 257.1833 199.9763 257.1785 199.9763 257.1672 199.0844 257.1485 198.1925 257.1159 197.3012 257.0694 196.4112 257.0091 195.5229 256.9349 195.5238 256.9237 194.6371 256.8357 193.7515 256.7338 192.8676 256.6181 191.986 256.4888 191.1073 256.3458 191.109 256.3348 190.2329 256.1781 189.359 256.0078 188.4878 255.8238 187.62 255.6264 186.7561 255.4156 186.7587 255.4048 185.8984 255.1807 185.0415 254.943 184.1883 254.6921 183.3395 254.428 182.4956 254.1508 182.499 254.1403 181.6598 253.8502 180.8249 253.5469 179.9949 253.2306 179.1701 252.9015 178.3514 252.5599 178.3555 252.5497 177.5425 252.1955 176.7347 251.8285 175.9327 251.4489 175.1371 251.057 174.3483 250.6531 174.3532 250.6434 173.5712 250.2274 172.7953 249.799 172.0263 249.3586 171.2644 248.9065 170.5104 248.4429 170.516 248.4336 169.7696 247.9585 169.0304 247.4716 168.2988 246.9732 167.5753 246.4636 166.8605 245.9433 166.8668 245.9346 166.1605 245.4033 165.4622 244.8609 164.7724 244.3076 164.0917 243.7439 163.4203 243.1701 163.4272 243.162 162.7652 242.578 162.112 241.9835 161.4682 241.3788 160.8341 240.7645 160.2103 240.1408 160.2177 240.1333 159.6039 239.5002 158.9997 238.8574 158.4056 238.2052 157.822 237.544 157.2493 236.8744 157.2572 236.8675 156.6952 236.1893 156.1436 235.5021 155.6027 234.8064 155.073 234.1026 154.5547 233.3912 154.5631 233.385 154.0562 232.6658 153.5604 231.9386 153.0759 231.2036 152.6031 230.4615 152.1423 229.7127 152.1512 229.7072 151.7023 228.9516 151.2651 228.1888 150.8398 227.4191 150.4268 226.6433 150.0262 225.8618 150.0353 225.857 149.6472 225.0696 149.2711 224.2759 148.9075 223.4764 148.5565 222.6716 148.2184 221.8621 148.2278 221.8581 147.9026 221.0438 147.5899 220.2241 147.2899 219.3995 147.003 218.5708 146.7293 217.7383 146.739 217.7351 146.4784 216.8988 146.2308 216.0581 145.9963 215.2136 145.775 214.3659 145.5672 213.5156 145.577 213.5132 145.3826 212.6601 145.2014 211.8036 145.0336 210.9443 144.8793 210.0829 144.7385 209.2199 144.7484 209.2183 144.6211 208.3535 144.5074 207.4864 144.4071 206.6176 144.3204 205.7477 144.2474 204.8773 144.2573 204.8765 144.1979 204.0054 144.1521 203.133 144.1198 202.2599 144.1012 201.3869 144.0962 200.5144 144.106 200.5143 144.1147 199.6421 144.1369 198.7697 144.1728 197.8978 144.2221 197.0268 144.2849 196.1575 144.2946 196.1581 144.3708 195.2902 144.4606 194.4231 144.5639 193.5574 144.6805 192.6938 144.8105 191.8328 144.8196 191.8342 144.9629 190.9757 145.1195 190.119 145.2894 189.2648 145.4725 188.4137 145.6686 187.5662 145.6773 187.5682 145.8865 186.7242 146.1089 185.8831 146.3443 185.0454 146.5926 184.2119 146.8536 183.383 146.8618 183.3855 147.1355 182.561 147.4222 181.7404 147.7216 180.9243 148.0336 180.1133 148.3578 179.3079 148.3654 179.3109 148.7019 178.5109 149.0511 177.7157 149.4126 176.926 149.7862 176.1422 150.1716 175.3651 150.1785 175.3685 150.5758 174.5976 150.9853 173.8326 151.4066 173.0739 151.8394 172.3222 152.2836 171.5779 152.2899 171.5816 152.7454 170.8445 153.2126 170.1141 153.6911 169.391 154.1806 168.6756 154.6807 167.9686 154.6864 167.9726 155.1973 167.2736 155.7193 166.5821 156.2521 165.8988 156.7951 165.2241 157.3482 164.5584 157.3533 164.5627 157.9165 163.9059 158.4901 163.2575 159.0738 162.618 159.6672 161.9879 160.2697 161.3675 160.2742 161.3719 160.8862 160.7612 161.508 160.1596 162.1391 159.5678 162.7791 158.9859 163.4275 158.4146 163.4314 158.419 164.0885 157.858 164.7546 157.3068 165.4293 156.766 166.1121 156.2359 166.8024 155.7169 166.8057 155.7214 167.5039 155.2132 168.2103 154.7157 168.9245 154.2292 169.6459 153.7539 170.374 153.2903 170.3767 153.2946 171.1118 152.8425 171.8542 152.4015 172.6036 151.972 173.3592 151.5544 174.1206 151.1488 174.1229 151.1531 174.8904 150.7595 175.6644 150.3776 176.4444 150.0077 177.2297 149.6501 178.0199 149.305 178.0217 149.3091 178.817 148.9763 179.6179 148.6558 180.4238 148.3477 181.2341 148.0522 182.0483 147.7696 182.0496 147.7734 182.868 147.5035 183.691 147.2461 184.518 147.0015 185.3485 146.7699 186.1818 146.5513 186.1827 146.5549 187.0191 146.3493 187.8593 146.1566 188.7024 145.977 189.548 145.8105 190.3954 145.6573 190.396 145.6606 191.2456 145.5205 192.0978 145.3936 192.952 145.28 193.8077 145.1796 194.6641 145.0926 194.6644 145.0955 195.522 145.0218 196.3812 144.9614 197.2414 144.9144 198.102 144.8806 198.9623 144.8603 198.9624 144.8629 199.8229 144.8559 200.6839 144.8623 201.545 144.8821 202.4053 144.9152 203.2644 144.9617 203.2643 144.9639 204.1225 145.0236 204.9803 145.0968 205.837 145.1833 206.692 145.283 207.5447 145.3959 207.5445 145.3977 208.3953 145.5238 209.2446 145.6632 210.0918 145.8158 210.9364 145.9815 211.7776 146.1602 211.7773 146.1616 212.6156 146.3533 213.4515 146.5581 214.2842 146.7759 215.1132 147.0066 215.938 147.2499 215.9376 147.251 216.7585 147.507 217.5758 147.776 218.389 148.0577 219.1976 148.352 220.0009 148.6585 220.0006 148.6591 220.799 148.9781 221.593 149.3096 222.3819 149.6535 223.1651 150.0095 223.9422 150.3774 223.942 150.3777 224.7133 150.7576 225.4791 151.1497 226.2389 151.5537 226.9922 151.9694 227.7383 152.3964 227.7383 152.3963 228.4778 152.8349 229.2109 153.2852 229.9371 153.7469 230.6559 154.2197 231.3667 154.7033 231.3669 154.703 232.0702 155.1976 232.7662 155.7034 233.4544 156.2201 234.1344 156.7472 234.8056 157.2845 234.8061 157.2839 235.4689 157.8316 236.1236 158.3899 236.7698 158.9584 237.4069 159.5368 238.0345 160.1246 238.0353 160.1238 238.6537 160.7212 239.2633 161.3287 239.8634 161.9457 240.4539 162.5719 241.0341 163.2066 241.0341 163.2066 240.456 162.5699 239.8676 161.9417 239.2693 161.3227 238.6615 160.7133 238.0446 160.114 238.0455 160.1131 237.4192 159.5235 236.7833 158.9434 236.1382 158.3732 235.4844 157.8132 234.8223 157.264 234.8228 157.2634 234.1522 156.7246 233.4727 156.1961 232.7848 155.6782 232.0891 155.1712 231.3859 154.6755 231.3862 154.6752 230.6753 154.1907 229.9564 153.717 229.23 153.2546 228.4966 152.8037 227.7568 152.3647 227.7568 152.3646 227.0101 151.9373 226.2563 151.5215 225.4959 151.1175 224.7294 150.7255 223.9574 150.3458 223.9573 150.3461 223.1794 149.9787 222.3953 149.6233 221.6056 149.2801 220.8107 148.9494 220.0114 148.6315 220.0111 148.6321 219.2069 148.3269 218.3974 148.034 217.5833 147.7539 216.765 147.4865 215.9433 147.2323 215.943 147.2333 215.1174 146.9921 214.2875 146.7636 213.454 146.5482 212.6174 146.3459 211.7784 146.1569 211.778 146.1583 210.9362 145.9825 210.0911 145.8199 209.2434 145.6705 208.3936 145.5344 207.5425 145.4118 207.5423 145.4136 206.6894 145.3044 205.8343 145.2086 204.9776 145.1262 204.12 145.0571 203.2621 145.0016 203.2619 145.0038 202.4033 144.9619 201.5435 144.9334 200.6832 144.9184 199.8231 144.9168 198.9636 144.9288 198.9637 144.9313 198.1046 144.9568 197.2455 144.9958 196.3869 145.0483 195.5295 145.1142 194.6739 145.1935 194.6742 145.1964 193.8201 145.2891 192.9669 145.3954 192.1153 145.5149 191.266 145.6478 190.4196 145.7939 190.4201 145.7971 189.5762 145.9565 188.7343 146.1293 187.895 146.3152 187.059 146.5142 186.2269 146.7261 186.2279 146.7296 185.3993 146.9546 184.5739 147.1928 183.7521 147.4438 182.9346 147.7077 182.1221 147.984 182.1234 147.9879 181.3154 148.277 180.5115 148.579 179.7123 148.8936 178.9184 149.2206 178.1303 149.5597 178.1321 149.5637 177.3496 149.9152 176.5722 150.2791 175.8005 150.6552 175.0351 151.0432 174.2764 151.4429 174.2787 151.4471 173.5266 151.8586 172.7805 152.2822 172.0411 152.7174 171.3088 153.164 170.5842 153.6217 170.5869 153.6261 169.8698 154.095 169.1597 154.5755 168.457 155.0671 167.7624 155.5695 167.0763 156.0823 167.0796 156.0867 166.4019 156.6102 165.732 157.1446 165.0705 157.6894 164.4178 158.2444 163.7744 158.809 163.7783 158.8135 163.1441 159.3881 162.5186 159.973 161.9022 160.5677 161.2954 161.1717 160.6987 161.7847 160.7032 161.7891 160.1164 162.4112 159.5391 163.0429 158.9716 163.6837 158.4145 164.333 157.8681 164.9904 157.8732 164.9947 157.3374 165.6605 156.8117 166.335 156.2966 167.0178 155.7925 167.7083 155.2997 168.406 155.3054 168.4101 154.8238 169.1153 154.353 169.8285 153.8934 170.549 153.4453 171.2764 153.0091 172.01 153.0154 172.0138 152.591 172.754 152.1779 173.5013 151.7765 174.2551 151.3872 175.0147 151.0101 175.7797 151.0171 175.7831 150.6523 176.5537 150.2994 177.3304 149.9587 178.1127 149.6304 178.8998 149.3147 179.6913 149.3223 179.6943 149.0193 180.4905 148.7287 181.2918 148.4506 182.0976 148.1853 182.9073 147.9329 183.7204 147.941 183.723 147.7016 184.5397 147.4749 185.3605 147.2611 186.1849 147.0603 187.0122 146.8727 187.8418 146.8813 187.8438 146.7069 188.6759 146.5454 189.5112 146.397 190.349 146.2619 191.1887 146.14 192.0296 146.1492 192.031 146.0406 192.8734 145.9453 193.7179 145.8631 194.5639 145.7943 195.4107 145.7388 196.2577 145.7484 196.2584 145.7063 197.1059 145.6775 197.9544 145.662 198.8033 145.6598 199.652 145.6708 200.4999 145.6806 200.4998 145.7049 201.347 145.7425 202.1943 145.7932 203.0409 145.8572 203.8863 145.9343 204.7298 145.9441 204.7289 146.0344 205.5707 146.1379 206.4116 146.2545 207.2507 146.3841 208.0876 146.5266 208.9216 146.5365 208.9199 146.6921 209.7512 146.8607 210.5805 147.0422 211.4071 147.2366 212.2304 147.4436 213.0497 147.4534 213.0473 147.6731 213.863 147.9057 214.6757 148.151 215.4847 148.4087 216.2894 148.6788 217.0892 148.6884 217.086 148.9709 217.8811 149.2659 218.6723 149.5732 219.4588 149.8926 220.24 150.2239 221.0154 150.2334 221.0114 150.5766 221.7812 150.9321 222.546 151.2995 223.3053 151.6786 224.0583 152.0689 224.8047 152.0781 224.7999 152.48 225.5397 152.8936 226.2736 153.3187 227.001 153.7549 227.7214 154.2018 228.4341 154.2106 228.4286 154.6685 229.134 155.1377 229.8325 155.6177 230.5237 156.1082 231.207 156.6089 231.8819 156.6173 231.8757 157.1282 232.5424 157.6499 233.2014 158.1818 233.8522 158.7236 234.4944 159.2747 235.1274 159.2827 235.1205 159.8435 235.7445 160.4144 236.36 160.9948 236.9667 161.5843 237.5639 162.1825 238.1512 162.19 238.1436 162.7971 238.7213 163.4136 239.2897 164.0388 239.8485 164.6725 240.3972 165.3139 240.9353 165.3208 240.9272 165.9704 241.455 166.6286 241.973 167.2948 242.4806 167.9685 242.9776 168.6493 243.4634 168.6555 243.4547 169.3435 243.9296 170.0393 244.394 170.7423 244.8476 171.4519 245.2899 172.1676 245.7206 172.1732 245.7113 172.8953 246.1306 173.6244 246.5387 174.3597 246.9355 175.1008 247.3206 175.8471 247.6936 175.852 247.6839 176.6037 248.045 177.3614 248.3946 178.1246 248.7324 178.8925 249.058 179.6647 249.3712 179.6689 249.3611 180.4455 249.662 181.2273 249.951 182.0135 250.2278 182.8036 250.4921 183.5969 250.7438 183.6003 250.7333 184.3971 250.9724 185.198 251.1992 186.0025 251.4135 186.8098 251.6151 187.6193 251.8038 187.6219 251.793 188.4339 251.9689 189.2491 252.1323 190.0668 252.2829 190.8863 252.4206 191.7071 252.5454 191.7088 252.5344 192.531 252.6462 193.3555 252.7453 194.1814 252.8315 195.0081 252.9047 195.8351 252.965 195.8359 252.9537 196.6634 253.001 197.4919 253.0353 198.321 253.0567 199.1499 253.0652 199.978 253.0607 199.978 253.0493 200.8055 253.0318 201.6332 253.0014 202.4603 252.9581 203.2863 252.9019 204.1104 252.8328 204.1095 252.8214 204.9321 252.7395 205.7538 252.6446 206.574 252.537 207.392 252.4166 208.2071 252.2835 208.2053 252.2722 209.0179 252.1264 209.8287 251.9679 210.6369 251.7968 211.442 251.6131 212.2432 251.4171 212.2405 251.4058 213.0382 251.1974 213.833 250.9763 214.6244 250.7429 215.4116 250.4972 216.194 250.2396 216.1905 250.2285 216.9684 249.9587 217.7426 249.6767 218.5123 249.3825 219.2769 249.0766 220.0358 248.759 220.0313 248.7482 220.7848 248.4189 221.5336 248.0777 222.277 247.7248 223.0144 247.3606 223.7452 246.9853 223.7399 246.9747 224.4644 246.5882 225.1833 246.1901 225.8959 245.7808 226.6017 245.3606 227.3 244.9299 227.2938 244.9198 227.985 244.4784 228.6697 244.026 229.3472 243.5629 230.0171 243.0896 230.6788 242.6064 230.6718 242.5967 231.3255 242.1034 231.9719 241.5996 232.6103 241.0857 233.2404 240.5622 233.8614 240.0295 233.8537 240.0203 234.466 239.4782 235.0702 238.9262 235.6658 238.3648 236.2522 237.7945 236.829 237.2157\"/>\n",
       "<polygon fill=\"rgba(40,40,40,1)\" points=\"193.2491 126.1959 192.4724 126.2539 191.6959 126.3202 190.9198 126.3946 190.1445 126.4772 189.3703 126.5679 189.3678 126.5511 188.5942 126.6501 187.8212 126.7572 187.0491 126.8726 186.2782 126.9961 185.5088 127.1277 185.5055 127.1111 184.7371 127.2509 183.9698 127.3988 183.2038 127.5549 182.4394 127.7191 181.6769 127.8913 181.6728 127.875 180.9118 128.0553 180.1523 128.2437 179.3946 128.4402 178.6389 128.6447 177.8855 128.857 177.8806 128.8411 177.1292 129.0615 176.3796 129.29 175.6323 129.5265 174.8874 129.7708 174.1453 130.0229 174.1396 130.0074 173.3998 130.2674 172.6624 130.5354 171.9276 130.8113 171.1956 131.0949 170.4669 131.3861 170.4603 131.371 169.7344 131.67 169.0111 131.9769 168.2909 132.2915 167.574 132.6137 166.8606 132.9434 166.8534 132.9287 166.1432 133.266 165.4362 133.611 164.7327 133.9636 164.0328 134.3236 163.3369 134.6908 163.3289 134.6766 162.6366 135.0514 161.9479 135.4337 161.263 135.8233 160.5822 136.2202 159.9057 136.6241 159.897 136.6104 159.2246 137.0217 158.5561 137.4402 157.8918 137.866 157.232 138.2987 156.5769 138.7382 156.5676 138.7251 155.9169 139.1718 155.2705 139.6256 154.6288 140.0863 153.9918 140.5538 153.36 141.0278 153.3501 141.0153 152.723 141.4963 152.1007 141.9841 151.4833 142.4786 150.8711 142.9796 150.2643 143.4869 150.2539 143.475 149.6522 143.989 149.0557 144.5095 148.4645 145.0365 147.8788 145.5698 147.2989 146.109 147.2879 146.0978 146.7134 146.6434 146.1444 147.1953 145.5811 147.7534 145.0236 148.3175 144.4722 148.8873 144.4607 148.8767 143.9151 149.4525 143.3753 150.0344 142.8415 150.6221 142.3138 151.2155 141.7925 151.8142 141.7806 151.8043 141.2654 152.4088 140.7564 153.0191 140.2537 153.6349 139.7574 154.256 139.2678 154.8821 139.2554 154.8729 138.7722 155.5045 138.2955 156.1415 137.8253 156.7837 137.3618 157.4309 136.9053 158.0827 136.8926 158.0743 136.4428 158.7312 135.9997 159.3932 135.5635 160.0601 135.1343 160.7316 134.7122 161.4074 134.6991 161.3997 134.2841 162.0802 133.876 162.7655 133.475 163.4552 133.0812 164.1492 132.6949 164.8472 132.6815 164.8402 132.3024 165.5425 131.9306 166.2491 131.566 166.9599 131.209 167.6745 130.8595 168.3927 130.8459 168.3865 130.5039 169.1086 130.1694 169.8347 129.8424 170.5645 129.5231 171.2978 129.2116 172.0343 129.1977 172.0288 128.8939 172.7688 128.5977 173.5124 128.3093 174.2594 128.0288 175.0093 127.7562 175.7621 127.7421 175.7574 127.4774 176.5132 127.2205 177.2723 126.9715 178.0342 126.7306 178.7988 126.4977 179.5657 126.4836 179.5618 126.2588 180.3315 126.042 181.1039 125.8332 181.8788 125.6327 182.6559 125.4403 183.4349 125.4261 183.4318 125.2419 184.2131 125.0659 184.9967 124.898 185.7824 124.7385 186.5699 124.5873 187.3589 124.573 187.3565 124.4301 188.1474 124.2954 188.9401 124.169 189.7345 124.051 190.5302 123.9415 191.3269 123.9272 191.3253 123.826 192.1234 123.7331 192.9231 123.6487 193.7239 123.5727 194.5256 123.5052 195.3279 123.4909 195.327 123.4318 196.1303 123.3812 196.9346 123.339 197.7397 123.3053 198.5452 123.28 199.3508 123.2659 199.3507 123.2492 200.1569 123.2409 200.9636 123.2412 201.7707 123.25 202.5777 123.2672 203.3844 123.2532 203.3851 123.279 204.1919 123.3133 204.9988 123.3561 205.8056 123.4074 206.612 123.4672 207.4176 123.4533 207.4189 123.5216 208.2241 123.5985 209.029 123.6838 209.8333 123.7777 210.6367 123.8801 211.4389 123.8666 211.4409 123.9776 212.2422 124.0972 213.0427 124.2254 213.8422 124.362 214.6403 124.507 215.4367 124.4942 215.4393 124.6478 216.2344 124.81 217.0283 124.9806 217.8205 125.1597 218.611 125.347 219.3994 125.3349 219.4026 125.5308 220.1891 125.7351 220.974 125.9479 221.7568 126.1689 222.5374 126.3982 223.3155 126.3867 223.3191 126.6244 224.0949 126.8704 224.8685 127.1247 225.6396 127.3872 226.4081 127.6577 227.1735 127.6469 227.1776 127.9258 227.9403 128.2129 228.7004 128.5081 229.4576 128.8113 230.2116 129.1224 230.9623 129.1124 230.9667 129.4317 231.7141 129.759 232.4585 130.0944 233.1996 130.4375 233.937 130.7885 234.6707 130.7791 234.6754 131.138 235.4054 131.5047 236.1319 131.8793 236.8547 132.2615 237.5734 132.6513 238.2879 132.6426 238.2928 133.0401 239.0033 133.4453 239.7098 133.8581 240.4122 134.2783 241.1101 134.7058 241.8034 134.6979 241.8085 135.1329 242.4973 135.5754 243.1818 136.0253 243.8617 136.4823 244.5368 136.9464 245.2068 136.9392 245.212 137.4105 245.8772 137.8892 246.5376 138.3749 247.1931 138.8675 247.8434 139.3669 248.4882 139.3603 248.4935 139.8667 249.1331 140.3801 249.7675 140.9003 250.3966 141.4271 251.0202 141.9604 251.638 141.9546 251.6432 142.4946 252.2553 143.0413 252.862 143.5946 253.4629 144.1541 254.0579 144.7199 254.6468 144.7147 254.652 145.2868 255.2349 145.8653 255.8119 146.45 256.3829 147.0408 256.9476 147.6373 257.5059 147.6328 257.5109 148.2354 258.0629 148.8441 258.6087 149.4587 259.148 150.0789 259.6808 150.7046 260.2069 150.7007 260.2117 151.3321 260.7311 151.9693 261.244 152.6119 261.7502 153.2599 262.2495 153.913 262.7418 153.9097 262.7464 154.5681 263.2317 155.2319 263.7102 155.9009 264.1817 156.5748 264.646 157.2534 265.1031 157.2506 265.1074 157.9342 265.5572 158.6228 265.9999 159.3161 266.4354 160.0141 266.8634 160.7163 267.2839 160.714 267.2879 161.4207 267.7009 162.1322 268.1065 162.848 268.5046 163.5679 268.8951 164.2917 269.2778 164.2898 269.2815 165.0178 269.6564 165.75 270.0238 166.4862 270.3834 167.2261 270.7351 167.9695 271.0789 167.968 271.0822 168.7151 271.418 169.4661 271.746 170.2205 272.0661 170.9783 272.3781 171.7391 272.6819 171.738 272.6848 172.5021 272.9805 173.2695 273.2682 174.0401 273.5477 174.8136 273.8191 175.5897 274.0821 175.5888 274.0846 176.3677 274.3393 177.1496 274.5858 177.9341 274.824 178.721 275.0539 179.5101 275.2754 179.5096 275.2774 180.3011 275.4903 181.095 275.695 181.8912 275.8912 182.6894 276.079 183.4892 276.2582 183.4889 276.2597 184.2907 276.4303 185.0945 276.5925 185.9001 276.7461 186.7072 276.8912 187.5155 277.0277 187.5154 277.0286 188.3252 277.1564 189.1365 277.2757 189.9492 277.3863 190.7629 277.4883 191.5774 277.5816 191.5774 277.582 192.3929 277.6666 193.2094 277.7425 194.0269 277.8098 194.8449 277.8683 195.6632 277.9182 195.6632 277.9182 196.4821 277.9592 197.3015 277.9917 198.1214 278.0154 198.9413 278.0304 199.7612 278.0367 199.7612 278.0361 200.581 278.0336 201.401 278.0224 202.2209 278.0025 203.0405 277.9739 203.8594 277.9366 203.8593 277.9355 204.6778 277.8895 205.496 277.8347 206.3136 277.7712 207.1304 277.6991 207.9461 277.6184 207.946 277.6167 208.7607 277.5272 209.5748 277.4291 210.3878 277.3223 211.1995 277.2068 212.0096 277.0829 212.0096 277.0829 211.1989 277.2027 210.3867 277.3141 209.5733 277.4171 208.759 277.5116 207.944 277.5977 207.9439 277.596 207.1281 277.6736 206.3113 277.7428 205.4938 277.8034 204.6758 277.8556 203.8575 277.8992 203.8575 277.898 203.0389 277.9332 202.2197 277.9599 201.4002 277.9781 200.5806 277.9877 199.7613 277.9888 199.7613 277.9882 198.942 277.9809 198.1226 277.965 197.3033 277.9407 196.4844 277.9078 195.6661 277.8664 195.6661 277.8663 194.8483 277.8165 194.0308 277.7581 193.2139 277.6913 192.3978 277.616 191.5828 277.5322 191.5827 277.5327 190.7686 277.4405 189.9552 277.3398 189.1428 277.2307 188.3317 277.1131 187.5221 276.9872 187.5219 276.9881 186.7137 276.8539 185.9065 276.7111 185.1008 276.56 184.2968 276.4005 183.4948 276.2327 183.4944 276.2342 182.6941 276.0581 181.8954 275.8737 181.0985 275.6809 180.3038 275.4799 179.5114 275.2707 179.5109 275.2727 178.7206 275.0553 177.9324 274.8297 177.1465 274.5958 176.3631 274.3538 175.5825 274.1037 175.5817 274.1062 174.8037 273.848 174.0281 273.5818 173.2552 273.3074 172.4853 273.025 171.7186 272.7347 171.7175 272.7376 170.9537 272.4394 170.1928 272.1332 169.435 271.819 168.6806 271.497 167.9297 271.1672 167.9282 271.1705 167.1808 270.833 166.4366 270.4876 165.6959 270.1345 164.959 269.7737 164.226 269.4053 164.2241 269.409 163.495 269.033 162.7695 268.6494 162.0479 268.2581 161.3304 267.8594 160.6173 267.4534 160.615 267.4575 159.906 267.0441 159.2012 266.6231 158.5006 266.1948 157.8045 265.7593 157.1132 265.3167 157.1104 265.321 156.4235 264.8712 155.7412 264.4141 155.0635 263.9498 154.3907 263.4786 153.723 263.0005 153.7196 263.0051 153.0568 262.5201 152.3988 262.028 151.7458 261.529 151.098 261.0232 150.4557 260.5109 150.4518 260.5157 149.8147 259.9967 149.1828 259.4709 148.5563 258.9384 147.9353 258.3995 147.3202 257.8542 147.3156 257.8592 146.706 257.3076 146.1019 256.7494 145.5036 256.1849 144.9111 255.6141 144.3248 255.0374 144.3196 255.0425 143.7391 254.4597 143.1645 253.8706 142.5959 253.2754 142.0335 252.6744 141.4775 252.0676 141.4717 252.0728 140.9219 251.4603 140.3783 250.8418 139.841 250.2175 139.3103 249.5877 138.7862 248.9526 138.7797 248.9578 138.2621 248.3172 137.751 247.6709 137.2465 247.0192 136.7488 246.3623 136.2581 245.7004 136.2508 245.7055 135.7668 245.0384 135.2896 244.3661 134.8193 243.6886 134.3561 243.0063 133.9 242.3193 133.8921 242.3244 133.443 241.6326 133.001 240.9358 132.5662 240.2344 132.1386 239.5284 131.7186 238.8182 131.7099 238.8231 131.2971 238.1084 130.8915 237.3891 130.4933 236.6655 130.1027 235.9377 129.7197 235.2061 129.7103 235.2107 129.3348 234.475 128.9668 233.735 128.6065 232.9911 128.2538 232.2435 127.9091 231.4923 127.899 231.4967 127.5619 230.7419 127.2325 229.9832 126.9109 229.2209 126.5973 228.4553 126.2917 227.6866 126.2809 227.6907 125.9832 226.9186 125.6934 226.1432 125.4115 225.3646 125.1378 224.5831 124.8723 223.7988 124.8608 223.8025 124.6033 223.0153 124.3539 222.2252 124.1126 221.4322 123.8796 220.6368 123.6549 219.8391 123.6427 219.8423 123.4262 219.0421 123.2179 218.2393 123.0179 217.4341 122.8263 216.6269 122.6432 215.8178 122.6303 215.8204 122.4554 215.0093 122.2889 214.1959 122.1309 213.3806 121.9813 212.5637 121.8402 211.7454 121.8267 211.7474 121.694 210.9274 121.5698 210.1057 121.4542 209.2825 121.3471 208.458 121.2487 207.6326 121.2348 207.6339 121.1451 206.8072 121.064 205.9792 120.9915 205.1502 120.9278 204.3204 120.8727 203.4901 120.8587 203.4907 120.8123 202.6595 120.7747 201.8275 120.7457 200.995 120.7255 200.1621 120.7141 199.3291 120.6999 199.329 120.6972 198.4957 120.7032 197.6619 120.7179 196.8281 120.7414 195.9944 120.7736 195.1611 120.7594 195.1602 120.8004 194.327 120.8501 193.4938 120.9086 192.661 120.9759 191.8288 121.0518 190.9974 121.0375 190.9958 121.1222 190.1649 121.2157 189.3346 121.3178 188.5051 121.4287 187.6767 121.5483 186.8495 121.534 186.8471 121.6622 186.021 121.7992 185.1958 121.9449 184.3719 122.0992 183.5495 122.2621 182.7288 122.2479 182.7256 122.4194 181.9064 122.5997 181.0887 122.7885 180.2727 122.9859 179.4586 123.1919 178.6467 123.1777 178.6427 123.3922 177.8328 123.6153 177.0247 123.8469 176.2188 124.087 175.4153 124.3354 174.6144 124.3214 174.6097 124.5784 173.8112 124.8438 173.015 125.1176 172.2215 125.3998 171.4308 125.6902 170.6432 125.6764 170.6377 125.9751 169.8529 126.2823 169.0708 126.5977 168.2919 126.9213 167.5161 127.253 166.744 127.2393 166.7377 127.5792 165.9688 127.9273 165.2031 128.2835 164.4408 128.6477 163.6823 129.0198 162.9277 129.0064 162.9207 129.3865 162.1698 129.7747 161.4225 130.1708 160.6792 130.5748 159.9399 130.9864 159.205 130.9733 159.1973 131.3927 158.4665 131.82 157.7398 132.2551 157.0174 132.6977 156.2995 133.1478 155.5864 133.135 155.5779 133.5927 154.8693 134.058 154.1651 134.5309 153.4657 135.0111 152.7713 135.4984 152.0819 135.4861 152.0727 135.9808 151.3883 136.483 150.7087 136.9925 150.0343 137.509 149.3651 138.0324 148.7015 138.0205 148.6916 138.5511 148.0333 139.0888 147.3802 139.6335 146.7327 140.185 146.0908 140.7432 145.4548 140.7317 145.4442 141.2967 144.8138 141.8686 144.1891 142.4472 143.5703 143.0322 142.9575 143.6237 142.3509 143.6127 142.3396 144.2107 141.739 144.8152 141.1445 145.4261 140.5561 146.0433 139.9741 146.6664 139.3987 146.6559 139.3868 147.2853 138.8177 147.9209 138.255 148.5626 137.6988 149.2102 137.1493 149.8634 136.6067 149.8535 136.5942 150.5126 136.0582 151.1777 135.529 151.8484 135.0066 152.5247 134.4912 153.2062 133.9829 153.1969 133.9698 153.8841 133.4686 154.5768 132.9743 155.2748 132.4872 155.978 132.0074 156.6861 131.535 156.6775 131.5213 157.3908 131.0562 158.1093 130.5984 158.8327 130.148 159.561 129.7052 160.2938 129.27 160.2858 129.2559 161.0234 128.8283 161.7658 128.4082 162.5128 127.9959 163.2641 127.5913 164.0196 127.1947 164.0124 127.18 164.7723 126.7912 165.5366 126.4102 166.3051 126.0371 167.0776 125.6721 167.8538 125.3152 167.8473 125.3001 168.6275 124.9512 169.4117 124.6103 170.1996 124.2777 170.9911 123.9532 171.7859 123.6371 171.7802 123.6215 172.5786 123.3137 173.3805 123.014 174.1858 122.7227 174.9942 122.4399 175.8055 122.1655 175.8005 122.1496 176.615 121.8837 177.4325 121.6262 178.253 121.3772 179.0761 121.1368 179.9017 120.9051 179.8976 120.8888 180.7258 120.6656 181.5568 120.4511 182.3902 120.2452 183.2258 120.048 184.0635 119.8597 184.0602 119.8431 184.9 119.6634 185.7422 119.4925 186.5863 119.3304 187.4321 119.1771 188.2795 119.0327 188.2771 119.0159 189.1263 118.8803 189.9773 118.7536 190.8298 118.6359 191.6836 118.527 192.5384 118.4271\"/>\n",
       "<polygon fill=\"rgba(40,40,40,1)\" points=\"164.7676 240.3357 164.8053 240.385 164.8431 240.4343 164.881 240.4835 164.919 240.5326 164.957 240.5818 164.9489 240.5911 164.9871 240.6402 165.0252 240.6892 165.0635 240.7382 165.1018 240.7871 165.1403 240.836 165.1323 240.8453 165.1708 240.8942 165.2094 240.943 165.2481 240.9918 165.2868 241.0405 165.3256 241.0892 165.3178 241.0985 165.3567 241.1471 165.3956 241.1957 165.4347 241.2442 165.4738 241.2927 165.513 241.3412 165.5052 241.3505 165.5445 241.3989 165.5839 241.4472 165.6233 241.4955 165.6628 241.5438 165.7024 241.592 165.6948 241.6013 165.7344 241.6495 165.7742 241.6976 165.814 241.7457 165.8539 241.7937 165.8938 241.8417 165.8863 241.8509 165.9264 241.8989 165.9665 241.9468 166.0067 241.9946 166.0469 242.0424 166.0873 242.0902 166.0799 242.0994 166.1203 242.1471 166.1608 242.1948 166.2014 242.2424 166.242 242.29 166.2828 242.3375 166.2754 242.3467 166.3163 242.3941 166.3571 242.4416 166.3981 242.4889 166.4391 242.5363 166.4802 242.5835 166.473 242.5927 166.5142 242.6399 166.5555 242.6871 166.5968 242.7342 166.6382 242.7813 166.6797 242.8283 166.6726 242.8375 166.7141 242.8845 166.7558 242.9314 166.7975 242.9783 166.8393 243.0251 166.8811 243.0719 166.8741 243.081 166.916 243.1278 166.9581 243.1744 167.0001 243.2211 167.0423 243.2677 167.0845 243.3142 167.0776 243.3233 167.1199 243.3698 167.1623 243.4162 167.2048 243.4626 167.2473 243.5089 167.2899 243.5552 167.2831 243.5643 167.3258 243.6105 167.3685 243.6567 167.4113 243.7028 167.4542 243.7488 167.4972 243.7949 167.4905 243.8039 167.5335 243.8499 167.5767 243.8958 167.6199 243.9417 167.6631 243.9875 167.7065 244.0332 167.6998 244.0423 167.7433 244.088 167.7868 244.1336 167.8303 244.1792 167.8739 244.2248 167.9177 244.2703 167.9111 244.2793 167.9549 244.3247 167.9988 244.3701 168.0427 244.4154 168.0867 244.4607 168.1308 244.506 168.1243 244.515 168.1685 244.5601 168.2127 244.6052 168.257 244.6503 168.3013 244.6953 168.3458 244.7403 168.3394 244.7492 168.3839 244.7941 168.4285 244.839 168.4732 244.8838 168.5179 244.9285 168.5627 244.9732 168.5564 244.9821 168.6013 245.0268 168.6462 245.0713 168.6912 245.1159 168.7363 245.1603 168.7815 245.2047 168.7753 245.2137 168.8205 245.258 168.8658 245.3023 168.9112 245.3465 168.9566 245.3907 169.0021 245.4349 168.9961 245.4437 169.0416 245.4878 169.0873 245.5318 169.133 245.5758 169.1788 245.6197 169.2247 245.6635 169.2187 245.6724 169.2646 245.7162 169.3106 245.7599 169.3567 245.8036 169.4028 245.8472 169.449 245.8908 169.4432 245.8996 169.4894 245.9431 169.5358 245.9866 169.5822 246.03 169.6287 246.0733 169.6753 246.1166 169.6695 246.1254 169.7161 246.1686 169.7628 246.2118 169.8096 246.2549 169.8564 246.2979 169.9033 246.3409 169.8976 246.3497 169.9446 246.3926 169.9916 246.4355 170.0388 246.4783 170.0859 246.521 170.1332 246.5637 170.1276 246.5725 170.1749 246.6151 170.2223 246.6577 170.2697 246.7002 170.3173 246.7426 170.3649 246.785 170.3593 246.7937 170.407 246.8361 170.4547 246.8784 170.5025 246.9206 170.5504 246.9627 170.5983 247.0048 170.5929 247.0135 170.6409 247.0555 170.689 247.0975 170.7371 247.1394 170.7853 247.1813 170.8336 247.2231 170.8282 247.2317 170.8766 247.2735 170.925 247.3152 170.9735 247.3568 171.022 247.3983 171.0706 247.4398 171.0653 247.4484 171.114 247.4899 171.1628 247.5312 171.2116 247.5725 171.2605 247.6137 171.3094 247.6548 171.3044 247.6633 171.3535 247.7042 171.4027 247.7451 171.452 247.7858 171.5014 247.8265 171.5508 247.867 171.546 247.8751 171.5956 247.9155 171.6453 247.9558 171.695 247.9959 171.7449 248.036 171.7948 248.0759 171.7902 248.0838 171.8403 248.1236 171.8905 248.1633 171.9407 248.2029 171.9911 248.2423 172.0415 248.2817 172.0371 248.2892 172.0876 248.3284 172.1383 248.3676 172.189 248.4065 172.2398 248.4454 172.2907 248.4842 172.2865 248.4914 172.3375 248.5301 172.3886 248.5686 172.4398 248.607 172.491 248.6453 172.5424 248.6835 172.5385 248.6904 172.5899 248.7284 172.6414 248.7663 172.6931 248.8041 172.7448 248.8418 172.7965 248.8794 172.7929 248.886 172.8448 248.9235 172.8967 248.9608 172.9488 248.998 173.001 249.0351 173.0532 249.0721 173.0497 249.0784 173.1021 249.1152 173.1545 249.1519 173.207 249.1885 173.2595 249.225 173.3122 249.2614 173.309 249.2673 173.3617 249.3036 173.4146 249.3397 173.4675 249.3756 173.5205 249.4115 173.5736 249.4473 173.5706 249.4529 173.6238 249.4885 173.677 249.524 173.7304 249.5594 173.7838 249.5947 173.8373 249.6298 173.8345 249.6351 173.8881 249.6701 173.9418 249.705 173.9955 249.7397 174.0494 249.7744 174.1033 249.8089 174.1007 249.8139 174.1547 249.8483 174.2088 249.8825 174.2629 249.9166 174.3172 249.9506 174.3715 249.9845 174.3691 249.9892 174.4235 250.0229 174.478 250.0565 174.5325 250.09 174.5872 250.1234 174.6419 250.1567 174.6397 250.161 174.6945 250.1941 174.7494 250.2271 174.8043 250.2599 174.8593 250.2927 174.9144 250.3253 174.9124 250.3293 174.9676 250.3618 175.0229 250.3941 175.0782 250.4263 175.1336 250.4584 175.1891 250.4904 175.1873 250.4941 175.2428 250.5259 175.2985 250.5576 175.3542 250.5892 175.41 250.6206 175.4658 250.652 175.4642 250.6554 175.5201 250.6865 175.5761 250.7176 175.6322 250.7485 175.6883 250.7793 175.7445 250.81 175.7431 250.813 175.7994 250.8435 175.8558 250.8739 175.9122 250.9042 175.9687 250.9343 176.0253 250.9643 176.024 250.967 176.0806 250.9969 176.1374 251.0266 176.1942 251.0562 176.251 251.0857 176.3079 251.1151 176.3068 251.1175 176.3638 251.1467 176.4209 251.1757 176.478 251.2047 176.5352 251.2335 176.5924 251.2622 176.5915 251.2642 176.6489 251.2928 176.7063 251.3212 176.7637 251.3495 176.8212 251.3776 176.8788 251.4057 176.8781 251.4073 176.9357 251.4352 176.9935 251.4629 177.0513 251.4906 177.1091 251.518 177.167 251.5454 177.1664 251.5468 177.2244 251.5739 177.2825 251.601 177.3406 251.628 177.3987 251.6548 177.4569 251.6815 177.4565 251.6825 177.5148 251.709 177.5732 251.7354 177.6316 251.7616 177.6901 251.7878 177.7486 251.8138 177.7483 251.8144 177.8069 251.8403 177.8656 251.866 177.9243 251.8916 177.9831 251.917 178.0419 251.9423 178.0418 251.9426 178.1007 251.9678 178.1596 251.9928 178.2187 252.0177 178.2777 252.0425 178.3368 252.0671 178.3369 252.0671 178.3961 252.0916 178.4553 252.1159 178.5146 252.1401 178.5739 252.1642 178.6333 252.1881 178.6335 252.1877 178.693 252.2115 178.7525 252.2352 178.8121 252.2587 178.8717 252.2821 178.9314 252.3053 178.9317 252.3046 178.9914 252.3277 179.0512 252.3506 179.1111 252.3734 179.171 252.3961 179.2309 252.4187 179.2313 252.4176 179.2914 252.44 179.3514 252.4622 179.4115 252.4844 179.4717 252.5064 179.5319 252.5282 179.5319 252.5282 179.4728 252.5036 179.4137 252.4789 179.3546 252.4541 179.2955 252.4294 179.2364 252.4047 179.2369 252.4036 179.1778 252.3789 179.1187 252.3543 179.0596 252.3296 179.0006 252.3049 178.9415 252.2802 178.9418 252.2794 178.8827 252.2548 178.8237 252.2301 178.7646 252.2055 178.7055 252.1808 178.6465 252.1561 178.6466 252.1557 178.5875 252.1311 178.5285 252.1065 178.4694 252.0818 178.4103 252.0572 178.3513 252.0325 178.3513 252.0324 178.2922 252.0078 178.2331 251.9832 178.174 251.9586 178.1149 251.9339 178.0559 251.9093 178.0557 251.9096 177.9966 251.885 177.9376 251.8604 177.8785 251.8358 177.8194 251.8112 177.7603 251.7865 177.76 251.7872 177.7009 251.7626 177.6418 251.738 177.5827 251.7134 177.5236 251.6888 177.4645 251.6642 177.4641 251.6652 177.4049 251.6406 177.3458 251.616 177.2867 251.5914 177.2276 251.5668 177.1684 251.5422 177.1678 251.5436 177.1087 251.519 177.0495 251.4944 176.9904 251.4698 176.9312 251.4452 176.8721 251.4206 176.8713 251.4223 176.8122 251.3978 176.753 251.3732 176.6938 251.3486 176.6346 251.324 176.5754 251.2994 176.5745 251.3015 176.5153 251.2769 176.4561 251.2524 176.3969 251.2278 176.3377 251.2032 176.2785 251.1786 176.2774 251.181 176.2181 251.1564 176.1589 251.1319 176.0996 251.1073 176.0404 251.0827 175.9811 251.0581 175.9799 251.0608 175.9206 251.0363 175.8613 251.0117 175.802 250.9872 175.7427 250.9626 175.6834 250.938 175.682 250.941 175.6227 250.9165 175.5633 250.8919 175.504 250.8673 175.4447 250.8427 175.3853 250.8181 175.3837 250.8215 175.3243 250.797 175.2649 250.7724 175.2056 250.7478 175.1462 250.7232 175.0868 250.6986 175.085 250.7023 175.0255 250.6778 174.9661 250.6532 174.9067 250.6286 174.8472 250.604 174.7878 250.5794 174.7858 250.5834 174.7263 250.5589 174.6668 250.5343 174.6073 250.5097 174.5478 250.4851 174.4883 250.4604 174.4861 250.4648 174.4265 250.4402 174.367 250.4156 174.3074 250.391 174.2479 250.3664 174.1883 250.3417 174.1859 250.3464 174.1263 250.3218 174.0667 250.2972 174.0071 250.2726 173.9474 250.248 173.8878 250.2233 173.8852 250.2283 173.8255 250.2037 173.7658 250.1791 173.7061 250.1544 173.6464 250.1298 173.5867 250.1051 173.5839 250.1104 173.5242 250.0858 173.4644 250.0611 173.4046 250.0365 173.3449 250.0118 173.2851 249.9871 173.2821 249.9928 173.2222 249.9681 173.1624 249.9434 173.1026 249.9187 173.0427 249.894 172.9828 249.8693 172.9796 249.8753 172.9197 249.8506 172.8598 249.8259 172.7999 249.8012 172.7399 249.7764 172.68 249.7517 172.6765 249.758 172.6165 249.7333 172.5565 249.7085 172.4965 249.6838 172.4365 249.659 172.3765 249.6342 172.3728 249.6408 172.3127 249.6161 172.2526 249.5913 172.1925 249.5665 172.1324 249.5417 172.0723 249.5169 172.0684 249.5238 172.0082 249.499 171.948 249.4742 171.8878 249.4494 171.8276 249.4246 171.7674 249.3997 171.7633 249.407 171.703 249.3821 171.6427 249.3573 171.5825 249.3324 171.5222 249.3076 171.4618 249.2827 171.4575 249.2902 171.3971 249.2653 171.3367 249.2404 171.2763 249.2155 171.2159 249.1906 171.1555 249.1657 171.1509 249.1735 171.0905 249.1486 171.03 249.1237 170.9695 249.0987 170.909 249.0738 170.8484 249.0488 170.8436 249.0569 170.783 249.032 170.7224 249.007 170.6618 248.982 170.6012 248.957 170.5406 248.9319 170.5355 248.9404 170.4748 248.9154 170.4141 248.8903 170.3534 248.8653 170.2927 248.8402 170.232 248.815 170.2268 248.8236 170.1661 248.7983 170.1054 248.773 170.0447 248.7477 169.984 248.7222 169.9234 248.6967 169.9181 248.7054 169.8574 248.6798 169.7968 248.6542 169.7362 248.6285 169.6755 248.6028 169.6149 248.577 169.6095 248.5856 169.5489 248.5598 169.4883 248.5338 169.4277 248.5078 169.3672 248.4818 169.3066 248.4557 169.3011 248.4644 169.2406 248.4382 169.18 248.4119 169.1195 248.3856 169.059 248.3592 168.9985 248.3328 168.9929 248.3415 168.9324 248.315 168.8719 248.2884 168.8114 248.2618 168.7509 248.2351 168.6905 248.2084 168.6848 248.2171 168.6243 248.1903 168.5639 248.1634 168.5034 248.1365 168.443 248.1094 168.3826 248.0824 168.3768 248.0912 168.3164 248.064 168.256 248.0368 168.1957 248.0095 168.1353 247.9822 168.0749 247.9548 168.0691 247.9636 168.0087 247.9362 167.9484 247.9087 167.8881 247.8811 167.8277 247.8534 167.7675 247.8257 167.7615 247.8346 167.7012 247.8068 167.6409 247.7789 167.5806 247.751 167.5204 247.723 167.4601 247.695 167.4541 247.7039 167.3938 247.6758 167.3336 247.6476 167.2734 247.6194 167.2132 247.5911 167.153 247.5627 167.1468 247.5717 167.0867 247.5432 167.0265 247.5148 166.9663 247.4862 166.9062 247.4576 166.8461 247.4289 166.8398 247.4379 166.7797 247.4091 166.7196 247.3803 166.6595 247.3514 166.5994 247.3225 166.5393 247.2935 166.533 247.3025 166.4729 247.2734 166.4129 247.2443 166.3528 247.2151 166.2928 247.1858 166.2328 247.1565 166.2263 247.1655 166.1663 247.1361 166.1063 247.1066 166.0464 247.0771 165.9864 247.0475 165.9265 247.0179 165.9199 247.0269 165.86 246.9972 165.8001 246.9674 165.7401 246.9376 165.6802 246.9077 165.6204 246.8777 165.6137 246.8868 165.5538 246.8567 165.494 246.8266 165.4341 246.7965 165.3743 246.7662 165.3145 246.7359 165.3077 246.745 165.2479 246.7146 165.1881 246.6842 165.1283 246.6537 165.0686 246.6232 165.0088 246.5926 165.002 246.6017 164.9422 246.571 164.8825 246.5402 164.8228 246.5094 164.7631 246.4785 164.7034 246.4476 164.6965 246.4567 164.6368 246.4257 164.5771 246.3946 164.5175 246.3635 164.4578 246.3323 164.3982 246.301 164.3912 246.3101 164.3316 246.2788 164.272 246.2474 164.2124 246.2159 164.1528 246.1844 164.0933 246.1528 164.0861 246.162 164.0266 246.1303 163.9671 246.0986 163.9076 246.0668 163.8481 246.0349 163.7886 246.003 163.7814 246.0122 163.7219 245.9802 163.6624 245.9481 163.603 245.916 163.5436 245.8838 163.4842 245.8516 163.4768 245.8608 163.4174 245.8284 163.3581 245.7961 163.2987 245.7636 163.2393 245.7311 163.18 245.6985 163.1726 245.7077 163.1133 245.6751 163.0539 245.6424 162.9947 245.6096 162.9354 245.5768 162.8761 245.5439 162.8686 245.5531 162.8093 245.5201 162.7501 245.4871 162.6909 245.454 162.6317 245.4208 162.5725 245.3876 162.5649 245.3968 162.5057 245.3635 162.4466 245.3301 162.3874 245.2967 162.3283 245.2632 162.2692 245.2296 162.2615 245.2389 162.2024 245.2053 162.1433 245.1716 162.0842 245.1378 162.0252 245.104 161.9662 245.0701 161.9584 245.0794 161.8993 245.0454 161.8403 245.0114 161.7814 244.9773 161.7224 244.9431 161.6635 244.9089 161.6555 244.9182 161.5966 244.8839 161.5377 244.8495 161.4788 244.8151 161.4199 244.7806 161.361 244.7461 161.353 244.7554 161.2942 244.7207 161.2353 244.686 161.1765 244.6513 161.1177 244.6165 161.0589 244.5816\"/>\n",
       "<polygon fill=\"rgba(40,40,40,1)\" points=\"184.34 146.6878 184.3436 146.6988 184.3473 146.7098 184.3509 146.7208 184.3545 146.7318 184.3581 146.7428 184.3614 146.7538 184.365 146.7648 184.3686 146.7757 184.3722 146.7866 184.3759 146.7976 184.3795 146.8085 184.3827 146.8195 184.3863 146.8303 184.3899 146.8412 184.3935 146.852 184.3971 146.8629 184.4007 146.8737 184.4039 146.8846 184.4074 146.8955 184.411 146.9063 184.4146 146.917 184.4182 146.9278 184.4217 146.9386 184.4249 146.9494 184.4285 146.9602 184.432 146.9709 184.4356 146.9816 184.4391 146.9923 184.4427 147.003 184.4458 147.0138 184.4494 147.0245 184.4529 147.0351 184.4564 147.0458 184.4599 147.0564 184.4635 147.067 184.4666 147.0778 184.4701 147.0884 184.4736 147.099 184.4772 147.1095 184.4807 147.1201 184.4842 147.1307 184.4873 147.1413 184.4908 147.1519 184.4943 147.1624 184.4978 147.1729 184.5012 147.1834 184.5047 147.1939 184.5078 147.2045 184.5113 147.2149 184.5148 147.2254 184.5182 147.2358 184.5217 147.2463 184.5252 147.2567 184.5282 147.2672 184.5317 147.2776 184.5351 147.288 184.5386 147.2984 184.542 147.3087 184.5455 147.3191 184.5485 147.3295 184.552 147.3399 184.5554 147.3502 184.5588 147.3605 184.5622 147.3708 184.5657 147.3811 184.5687 147.3914 184.5721 147.4017 184.5755 147.412 184.5789 147.4222 184.5823 147.4324 184.5857 147.4426 184.5887 147.4529 184.5921 147.4631 184.5955 147.4733 184.5989 147.4835 184.6023 147.4937 184.6057 147.5038 184.6087 147.514 184.612 147.5242 184.6154 147.5343 184.6188 147.5444 184.6221 147.5545 184.6255 147.5645 184.6285 147.5747 184.6318 147.5848 184.6352 147.5948 184.6385 147.6049 184.6418 147.6149 184.6452 147.6249 184.6481 147.635 184.6515 147.645 184.6548 147.655 184.6581 147.6649 184.6614 147.6749 184.6647 147.6848 184.6677 147.6949 184.671 147.7048 184.6743 147.7147 184.6776 147.7246 184.6809 147.7345 184.6842 147.7443 184.6871 147.7543 184.6904 147.7642 184.6937 147.774 184.6969 147.7838 184.7002 147.7936 184.7035 147.8035 184.7064 147.8134 184.7096 147.8231 184.7129 147.8329 184.7162 147.8427 184.7194 147.8524 184.7227 147.8622 184.7255 147.872 184.7288 147.8817 184.732 147.8914 184.7353 147.9011 184.7385 147.9108 184.7417 147.9204 184.7446 147.9302 184.7478 147.9399 184.751 147.9495 184.7542 147.9591 184.7575 147.9687 184.7607 147.9783 184.7635 147.988 184.7667 147.9976 184.7699 148.0072 184.7731 148.0167 184.7763 148.0263 184.7795 148.0358 184.7823 148.0454 184.7855 148.0549 184.7887 148.0644 184.7918 148.0739 184.795 148.0834 184.7982 148.0928 184.801 148.1024 184.8041 148.1118 184.8073 148.1213 184.8104 148.1307 184.8136 148.1401 184.8167 148.1495 184.8195 148.159 184.8227 148.1684 184.8258 148.1777 184.8289 148.1871 184.8321 148.1964 184.8352 148.2057 184.8379 148.2152 184.8411 148.2245 184.8442 148.2337 184.8473 148.243 184.8504 148.2523 184.8535 148.2616 184.8562 148.2709 184.8593 148.2801 184.8624 148.2894 184.8655 148.2986 184.8686 148.3078 184.8717 148.317 184.8744 148.3263 184.8775 148.3354 184.8806 148.3446 184.8836 148.3537 184.8867 148.3629 184.8898 148.372 184.8925 148.3812 184.8955 148.3903 184.8986 148.3994 184.9016 148.4085 184.9047 148.4175 184.9077 148.4266 184.9104 148.4357 184.9134 148.4448 184.9164 148.4538 184.9195 148.4628 184.9225 148.4718 184.9255 148.4808 184.9282 148.4898 184.9312 148.4988 184.9342 148.5077 184.9372 148.5167 184.9402 148.5256 184.9432 148.5344 184.9458 148.5433 184.9487 148.552 184.9516 148.5606 184.9545 148.5692 184.9574 148.5778 184.9603 148.5862 184.9628 148.5948 184.9656 148.6031 184.9685 148.6114 184.9713 148.6197 184.974 148.6279 184.9768 148.636 184.9792 148.6442 184.982 148.6522 184.9847 148.6602 184.9874 148.6681 184.9901 148.676 184.9927 148.6838 184.995 148.6916 184.9977 148.6993 185.0003 148.7069 185.0029 148.7145 185.0055 148.722 185.008 148.7295 185.0102 148.737 185.0128 148.7443 185.0153 148.7516 185.0178 148.7588 185.0203 148.766 185.0228 148.7731 185.0248 148.7802 185.0273 148.7872 185.0297 148.7942 185.0321 148.8011 185.0345 148.8079 185.0369 148.8146 185.0388 148.8215 185.0412 148.8281 185.0435 148.8347 185.0458 148.8412 185.0481 148.8477 185.0504 148.8542 185.0522 148.8606 185.0545 148.8669 185.0567 148.8732 185.0589 148.8794 185.0611 148.8855 185.0632 148.8916 185.065 148.8977 185.0672 148.9037 185.0693 148.9096 185.0714 148.9155 185.0735 148.9213 185.0755 148.927 185.0772 148.9328 185.0793 148.9384 185.0813 148.944 185.0833 148.9495 185.0853 148.9549 185.0872 148.9603 185.0888 148.9658 185.0907 148.9711 185.0927 148.9763 185.0946 148.9814 185.0964 148.9866 185.0983 148.9916 185.0998 148.9967 185.1016 149.0016 185.1034 149.0065 185.1052 149.0113 185.107 149.0161 185.1088 149.0208 185.1102 149.0256 185.1119 149.0302 185.1136 149.0347 185.1153 149.0392 185.117 149.0436 185.1186 149.048 185.1199 149.0524 185.1216 149.0566 185.1232 149.0608 185.1248 149.065 185.1264 149.0691 185.1279 149.0731 185.1291 149.0771 185.1306 149.0811 185.1321 149.0849 185.1336 149.0887 185.1351 149.0924 185.1366 149.0961 185.1377 149.0998 185.1391 149.1034 185.1405 149.1069 185.1419 149.1104 185.1433 149.1138 185.1446 149.1171 185.1456 149.1205 185.147 149.1237 185.1483 149.1269 185.1496 149.13 185.1508 149.133 185.1521 149.136 185.153 149.1391 185.1542 149.1419 185.1554 149.1448 185.1566 149.1475 185.1578 149.1502 185.159 149.1529 185.1598 149.1556 185.1609 149.1581 185.162 149.1606 185.1631 149.163 185.1642 149.1654 185.1652 149.1677 185.1659 149.1701 185.1669 149.1723 185.168 149.1744 185.1689 149.1765 185.1699 149.1785 185.1709 149.1805 185.1715 149.1825 185.1724 149.1843 185.1733 149.1861 185.1742 149.1878 185.1751 149.1895 185.1759 149.1911 185.1764 149.1928 185.1772 149.1943 185.1781 149.1958 185.1789 149.1972 185.1796 149.1985 185.1804 149.1998 185.1808 149.2011 185.1815 149.2023 185.1822 149.2034 185.1829 149.2044 185.1836 149.2054 185.1842 149.2063 185.1845 149.2073 185.1852 149.2082 185.1858 149.2089 185.1864 149.2096 185.1869 149.2103 185.1875 149.2109 185.1877 149.2115 185.1882 149.212 185.1887 149.2124 185.1892 149.2128 185.1897 149.2131 185.1901 149.2133 185.1902 149.2136 185.1907 149.2137 185.1911 149.2138 185.1915 149.2138 185.1918 149.2138 185.1922 149.2137 185.1922 149.2137 185.1925 149.2135 185.1928 149.2132 185.1931 149.2129 185.1934 149.2125 185.1936 149.212 185.1935 149.2117 185.1937 149.2111 185.194 149.2105 185.1941 149.2098 185.1943 149.2091 185.1945 149.2083 185.1943 149.2076 185.1944 149.2067 185.1945 149.2057 185.1946 149.2047 185.1947 149.2037 185.1947 149.2025 185.1944 149.2015 185.1944 149.2002 185.1945 149.1989 185.1944 149.1976 185.1944 149.1962 185.1944 149.1947 185.1944 149.1947 185.1936 149.1934 185.1929 149.1922 185.1922 149.1911 185.1915 149.19 185.1908 149.189 185.1905 149.1879 185.1898 149.187 185.1892 149.1861 185.1886 149.1853 185.1879 149.1846 185.1874 149.1839 185.1871 149.1832 185.1866 149.1826 185.1861 149.1821 185.1855 149.1816 185.185 149.1812 185.1845 149.1809 185.1844 149.1805 185.184 149.1802 185.1835 149.1801 185.1831 149.18 185.1827 149.1799 185.1823 149.1799 185.1823 149.1798 185.182 149.18 185.1816 149.1801 185.1813 149.1804 185.181 149.1806 185.1807 149.181 185.1808 149.1813 185.1805 149.1817 185.1803 149.1823 185.1801 149.1828 185.1799 149.1835 185.1797 149.1841 185.1799 149.1848 185.1797 149.1856 185.1796 149.1864 185.1795 149.1874 185.1794 149.1883 185.1793 149.1894 185.1796 149.1903 185.1795 149.1915 185.1795 149.1927 185.1795 149.1939 185.1795 149.1952 185.1795 149.1966 185.1799 149.1979 185.1799 149.1994 185.18 149.201 185.18 149.2026 185.1801 149.2042 185.1803 149.2059 185.1807 149.2076 185.1809 149.2094 185.1811 149.2113 185.1812 149.2133 185.1814 149.2153 185.1816 149.2173 185.1822 149.2193 185.1825 149.2215 185.1827 149.2237 185.183 149.226 185.1833 149.2284 185.1836 149.2308 185.1843 149.2331 185.1847 149.2357 185.185 149.2382 185.1854 149.2409 185.1858 149.2435 185.1862 149.2463 185.187 149.249 185.1875 149.2518 185.1879 149.2548 185.1884 149.2577 185.1889 149.2608 185.1894 149.2639 185.1903 149.2669 185.1909 149.2701 185.1914 149.2734 185.192 149.2767 185.1926 149.28 185.1932 149.2835 185.1942 149.2869 185.1949 149.2904 185.1955 149.294 185.1962 149.2977 185.1969 149.3014 185.1976 149.3052 185.1987 149.3089 185.1995 149.3128 185.2002 149.3167 185.201 149.3207 185.2018 149.3248 185.2026 149.3289 185.2038 149.333 185.2047 149.3372 185.2055 149.3415 185.2064 149.3458 185.2073 149.3502 185.2082 149.3547 185.2095 149.3591 185.2105 149.3637 185.2114 149.3683 185.2124 149.373 185.2134 149.3777 185.2144 149.3825 185.2158 149.3873 185.2169 149.3922 185.2179 149.3972 185.219 149.4022 185.2201 149.4073 185.2212 149.4125 185.2227 149.4176 185.2239 149.4228 185.2251 149.4281 185.2262 149.4335 185.2274 149.4389 185.2287 149.4444 185.2303 149.4499 185.2315 149.4555 185.2328 149.4611 185.2341 149.4669 185.2354 149.4726 185.2367 149.4785 185.2384 149.4843 185.2397 149.4902 185.2411 149.4962 185.2425 149.5023 185.2439 149.5084 185.2453 149.5146 185.2471 149.5207 185.2486 149.527 185.25 149.5333 185.2515 149.5397 185.253 149.5462 185.2545 149.5527 185.2564 149.5592 185.258 149.5658 185.2596 149.5725 185.2611 149.5792 185.2627 149.5861 185.2644 149.5929 185.2664 149.5997 185.268 149.6067 185.2697 149.6137 185.2714 149.6208 185.2731 149.628 185.2748 149.6352 185.2769 149.6423 185.2787 149.6497 185.2804 149.657 185.2822 149.6645 185.284 149.672 185.2858 149.6795 185.288 149.687 185.2899 149.6947 185.2918 149.7024 185.2937 149.7102 185.2956 149.718 185.2975 149.7259 185.2998 149.7337 185.3017 149.7417 185.3037 149.7498 185.3057 149.7579 185.3077 149.7661 185.3097 149.7743 185.3121 149.7825 185.3142 149.7909 185.3163 149.7993 185.3184 149.8077 185.3205 149.8162 185.3226 149.8248 185.3251 149.8333 185.3273 149.842 185.3294 149.8508 185.3316 149.8596 185.3338 149.8684 185.3361 149.8774 185.3387 149.8862 185.3409 149.8953 185.3432 149.9044 185.3455 149.9135 185.3478 149.9227 185.3501 149.9318 185.3528 149.9409 185.3551 149.9501 185.3574 149.9593 185.3597 149.9685 185.362 149.9778 185.3643 149.987 185.367 149.9961 185.3693 150.0054 185.3717 150.0147 185.374 150.024 185.3763 150.0333 185.3787 150.0426 185.3814 150.0518 185.3837 150.0611 185.3861 150.0704 185.3885 150.0798 185.3908 150.0892 185.3932 150.0985 185.3959 150.1078 185.3983 150.1172 185.4006 150.1266 185.403 150.1361 185.4054 150.1455 185.4078 150.1549 185.4105 150.1643 185.4129 150.1738 185.4153 150.1832 185.4177 150.1927 185.4201 150.2022 185.4225 150.2117 185.4253 150.2212 185.4277 150.2307 185.4301 150.2402 185.4325 150.2498 185.4349 150.2594 185.4374 150.2689 185.4402 150.2784 185.4426 150.288 185.445 150.2977 185.4475 150.3073 185.4499 150.3169 185.4524 150.3266 185.4552 150.3361 185.4576 150.3458 185.4601 150.3555 185.4625 150.3652 185.465 150.3749 185.4675 150.3846 185.4703 150.3942 185.4728 150.404 185.4752 150.4137 185.4777 150.4235 185.4802 150.4333 185.4827 150.443 185.4855 150.4527 185.488 150.4625 185.4905 150.4724 185.493 150.4822 185.4955 150.492 185.498 150.5019 185.5009 150.5117 185.5034 150.5215 185.5059 150.5314 185.5085 150.5413 185.511 150.5512 185.5135 150.5612 185.5164 150.571 185.5189 150.5809 185.5215 150.5909 185.524 150.6009 185.5266 150.6108 185.5291 150.6208 185.532 150.6307 185.5346 150.6408 185.5372 150.6508 185.5397 150.6608 185.5423 150.6709 185.5449 150.6809 185.5478 150.6909 185.5504 150.701 185.5529 150.7111 185.5555 150.7212 185.5581 150.7313 185.5607 150.7414 185.5637 150.7515 185.5663 150.7616 185.5689 150.7718 185.5715 150.7819 185.5741 150.7921 185.5767 150.8023 185.5797 150.8124 185.5823 150.8227 185.5849 150.8329 185.5875 150.8431 185.5902 150.8534 185.5928 150.8636 185.5958 150.8738 185.5984 150.8841 185.6011 150.8944 185.6037 150.9047 185.6064 150.915 185.609 150.9254 185.612 150.9356 185.6147 150.946 185.6174 150.9563 185.62 150.9667 185.6227 150.9771 185.6254 150.9875 185.6284 150.9978 185.6311 151.0082 185.6338 151.0187 185.6365 151.0291 185.6392 151.0396 185.6419 151.0501 185.6449 151.0604 185.6476 151.0709 185.6503 151.0814 185.653 151.092 185.6557 151.1025 185.6585 151.113 185.6615 151.1235 185.6643 151.134 185.667 151.1446 185.6697 151.1552 185.6725 151.1658 185.6752 151.1764 185.6783 151.1869 185.681 151.1975 185.6838 151.2082 185.6865 151.2188 185.6893 151.2295 185.6921 151.2402 185.6952 151.2508 185.6979 151.2615 185.7007 151.2722 185.7035 151.2829 185.7062 151.2936 185.709 151.3044 185.7122 151.315 185.7149 151.3258 185.7177 151.3366 185.7205 151.3473 185.7233 151.3581 185.7261 151.369 185.7293 151.3797 185.7321 151.3905 185.7349 151.4014 185.7377 151.4122 185.7405 151.4231 185.7434 151.434 185.7465 151.4448 185.7494 151.4557 185.7522 151.4666 185.755 151.4775 185.7579 151.4884 185.7607 151.4994 185.7639 151.5103 185.7668 151.5212 185.7696 151.5322 185.7725 151.5432 185.7753 151.5542 185.7782 151.5652 185.7814 151.5762 185.7843 151.5872 185.7872 151.5982 185.79 151.6093 185.7929 151.6204 185.7958 151.6315 185.799 151.6425 185.8019 151.6536 185.8048 151.6647 185.8077 151.6758 185.8106 151.687 185.8135 151.6981 185.8168 151.7092 185.8197 151.7204 185.8226 151.7315 185.8256 151.7427 185.8285 151.754 185.8314 151.7652\"/>\n",
       "<polygon fill=\"rgba(40,40,40,1)\" points=\"89.7024 207.957 89.7198 207.8767 89.7372 207.7963 89.7546 207.7161 89.7721 207.6358 89.7896 207.5555 89.8125 207.554 89.83 207.4738 89.8475 207.3936 89.8651 207.3135 89.8827 207.2334 89.9004 207.1533 89.9231 207.1519 89.9408 207.0718 89.9585 206.9918 89.9762 206.9119 89.994 206.832 90.0118 206.7521 90.0344 206.7507 90.0522 206.6708 90.0701 206.591 90.088 206.5112 90.1059 206.4315 90.1238 206.3517 90.1463 206.3504 90.1643 206.2707 90.1823 206.1911 90.2003 206.1115 90.2184 206.0319 90.2365 205.9523 90.2588 205.9511 90.2769 205.8716 90.2951 205.7921 90.3133 205.7127 90.3315 205.6332 90.3497 205.5538 90.3719 205.5527 90.3902 205.4734 90.4085 205.3941 90.4268 205.3148 90.4452 205.2355 90.4635 205.1563 90.4856 205.1553 90.504 205.0761 90.5225 204.9969 90.5409 204.9178 90.5594 204.8387 90.578 204.7597 90.5999 204.7587 90.6184 204.6797 90.637 204.6007 90.6556 204.5218 90.6743 204.4428 90.6929 204.3639 90.7147 204.3631 90.7334 204.2842 90.7522 204.2054 90.7709 204.1266 90.7897 204.0479 90.8085 203.9691 90.8302 203.9684 90.849 203.8897 90.8679 203.811 90.8868 203.7324 90.9057 203.6538 90.9247 203.5752 90.9462 203.5745 90.9652 203.496 90.9842 203.4175 91.0032 203.3391 91.0223 203.2607 91.0414 203.1823 91.0627 203.1816 91.0819 203.1033 91.101 203.025 91.1202 202.9467 91.1394 202.8684 91.1586 202.7902 91.1799 202.7896 91.1991 202.7114 91.2184 202.6333 91.2377 202.5551 91.2571 202.477 91.2765 202.399 91.2976 202.3985 91.3169 202.3205 91.3364 202.2425 91.3558 202.1645 91.3753 202.0866 91.3948 202.0087 91.4158 202.0083 91.4353 201.9304 91.4549 201.8526 91.4745 201.7748 91.4941 201.697 91.5138 201.6193 91.5346 201.6189 91.5542 201.5412 91.5739 201.4636 91.5937 201.3859 91.6134 201.3083 91.6332 201.2307 91.6539 201.2305 91.6737 201.1529 91.6935 201.0754 91.7134 200.998 91.7333 200.9205 91.7532 200.8431 91.7737 200.8429 91.7937 200.7655 91.8136 200.6882 91.8336 200.6109 91.8537 200.5336 91.8737 200.4563 91.8941 200.4562 91.9142 200.379 91.9343 200.3018 91.9544 200.2246 91.9746 200.1475 91.9948 200.0704 92.015 200.0704 92.0352 199.9933 92.0555 199.9163 92.0757 199.8393 92.096 199.7623 92.1164 199.6854 92.1365 199.6854 92.1568 199.6085 92.1772 199.5316 92.1976 199.4548 92.218 199.378 92.2385 199.3012 92.2584 199.3013 92.2789 199.2246 92.2994 199.1479 92.3199 199.0712 92.3405 198.9945 92.3611 198.9179 92.3809 198.9181 92.4015 198.8415 92.4221 198.7649 92.4428 198.6884 92.4635 198.6119 92.4842 198.5354 92.5039 198.5357 92.5246 198.4593 92.5453 198.3828 92.5661 198.3065 92.587 198.2301 92.6078 198.1538 92.6273 198.1541 92.6482 198.0779 92.6691 198.0016 92.69 197.9254 92.7109 197.8492 92.7319 197.773 92.7513 197.7734 92.7723 197.6973 92.7933 197.6212 92.8144 197.5452 92.8354 197.4691 92.8565 197.3931 92.8758 197.3936 92.8969 197.3176 92.918 197.2417 92.9392 197.1658 92.9604 197.0899 92.9816 197.014 93.0007 197.0146 93.022 196.9388 93.0432 196.863 93.0645 196.7872 93.0859 196.7115 93.1072 196.6358 93.1262 196.6364 93.1476 196.5607 93.1689 196.4851 93.1904 196.4095 93.2118 196.3339 93.2333 196.2584 93.2521 196.259 93.2736 196.1835 93.2951 196.108 93.3167 196.0326 93.3381 195.9572 93.3596 195.8817 93.3779 195.8825 93.3992 195.8071 93.4203 195.7317 93.4414 195.6564 93.4625 195.5811 93.4835 195.5058 93.5011 195.5066 93.5219 195.4313 93.5426 195.3561 93.5633 195.2809 93.5839 195.2057 93.6044 195.1306 93.6214 195.1313 93.6417 195.0562 93.662 194.9811 93.6822 194.906 93.7023 194.8309 93.7224 194.7559 93.7387 194.7567 93.7586 194.6817 93.7784 194.6066 93.7982 194.5317 93.8179 194.4567 93.8375 194.3817 93.853 194.3826 93.8725 194.3076 93.8918 194.2327 93.9112 194.1579 93.9304 194.083 93.9496 194.0081 93.9644 194.009 93.9834 193.9341 94.0024 193.8593 94.0212 193.7845 94.04 193.7098 94.0588 193.635 94.0729 193.6358 94.0914 193.5611 94.1099 193.4864 94.1284 193.4117 94.1467 193.337 94.165 193.2623 94.1784 193.2631 94.1965 193.1885 94.2145 193.1138 94.2325 193.0392 94.2504 192.9646 94.2683 192.89 94.281 192.8908 94.2986 192.8162 94.3162 192.7416 94.3337 192.6671 94.3512 192.5925 94.3686 192.518 94.3806 192.5188 94.3978 192.4443 94.4149 192.3698 94.432 192.2953 94.449 192.2208 94.466 192.1463 94.4772 192.1472 94.494 192.0727 94.5107 191.9982 94.5273 191.9238 94.5439 191.8494 94.5604 191.7749 94.5709 191.7758 94.5873 191.7013 94.6035 191.6269 94.6197 191.5525 94.6358 191.4782 94.6519 191.4038 94.6617 191.4046 94.6776 191.3302 94.6934 191.2558 94.7091 191.1815 94.7248 191.1071 94.7404 191.0328 94.7495 191.0336 94.765 190.9592 94.7803 190.8849 94.7956 190.8106 94.8108 190.7363 94.826 190.662 94.8344 190.6627 94.8494 190.5884 94.8643 190.5141 94.8791 190.4398 94.8939 190.3655 94.9086 190.2912 94.9163 190.2919 94.9309 190.2176 94.9453 190.1434 94.9597 190.0691 94.9741 189.9948 94.9883 189.9206 94.9953 189.9212 95.0094 189.847 95.0234 189.7727 95.0374 189.6984 95.0513 189.6242 95.0651 189.5499 95.0714 189.5505 95.085 189.4763 95.0986 189.402 95.1121 189.3278 95.1255 189.2535 95.1389 189.1792 95.1445 189.1798 95.1576 189.1056 95.1708 189.0313 95.1838 188.957 95.1968 188.8828 95.2098 188.8085 95.2146 188.809 95.2274 188.7348 95.2401 188.6605 95.2527 188.5862 95.2652 188.512 95.2777 188.4377 95.2819 188.4381 95.2942 188.3639 95.3064 188.2896 95.3186 188.2153 95.3307 188.141 95.3427 188.0667 95.3462 188.0671 95.358 187.9928 95.3698 187.9185 95.3816 187.8442 95.3932 187.7699 95.4048 187.6956 95.4076 187.6959 95.419 187.6216 95.4303 187.5472 95.4416 187.4729 95.4528 187.3985 95.464 187.3242 95.466 187.3244 95.477 187.2501 95.4879 187.1757 95.4987 187.1013 95.5095 187.0269 95.5202 186.9526 95.5216 186.9527 95.5321 186.8783 95.5426 186.8039 95.553 186.7295 95.5633 186.6551 95.5736 186.5806 95.5742 186.5807 95.5843 186.5062 95.5943 186.4318 95.6043 186.3573 95.6142 186.2828 95.624 186.2083 95.6239 186.2083 95.6336 186.1338 95.6432 186.0593 95.6527 185.9848 95.6621 185.9102 95.6715 185.8357 95.6707 185.8356 95.6799 185.761 95.6891 185.6864 95.6982 185.6118 95.7072 185.5372 95.7162 185.4626 95.7147 185.4624 95.7234 185.3877 95.7321 185.3131 95.7408 185.2384 95.7494 185.1637 95.7579 185.089 95.7557 185.0887 95.764 185.014 95.7723 184.9392 95.7805 184.8645 95.7887 184.7897 95.7968 184.7149 95.7968 184.7149 95.7831 184.7889 95.7696 184.8629 95.7562 184.9369 95.7431 185.011 95.7301 185.085 95.7278 185.0847 95.7151 185.1588 95.7026 185.233 95.6902 185.3072 95.678 185.3814 95.666 185.4556 95.6645 185.4554 95.6527 185.5296 95.6412 185.6039 95.6298 185.6783 95.6185 185.7526 95.6075 185.827 95.6067 185.8269 95.5959 185.9013 95.5853 185.9757 95.5749 186.0502 95.5646 186.1246 95.5545 186.1992 95.5544 186.1991 95.5446 186.2737 95.535 186.3483 95.5255 186.4228 95.5162 186.4974 95.5071 186.5721 95.5077 186.5722 95.4989 186.6468 95.4902 186.7215 95.4817 186.7962 95.4734 186.8709 95.4653 186.9457 95.4666 186.9459 95.4587 187.0206 95.451 187.0954 95.4435 187.1703 95.4362 187.2451 95.429 187.32 95.431 187.3202 95.4241 187.3951 95.4174 187.47 95.4109 187.5449 95.4045 187.6199 95.3983 187.6948 95.4011 187.6951 95.3951 187.7701 95.3894 187.8451 95.3838 187.9201 95.3784 187.9952 95.3732 188.0702 95.3767 188.0706 95.3717 188.1457 95.367 188.2207 95.3624 188.2958 95.358 188.371 95.3537 188.4461 95.3579 188.4465 95.3539 188.5217 95.3501 188.5968 95.3465 188.672 95.3431 188.7472 95.3398 188.8224 95.3447 188.8229 95.3417 188.8981 95.3389 188.9734 95.3362 189.0486 95.3338 189.1239 95.3315 189.1991 95.3371 189.1997 95.3351 189.275 95.3332 189.3503 95.3316 189.4255 95.3301 189.5009 95.3288 189.5762 95.3351 189.5768 95.334 189.6521 95.3332 189.7275 95.3325 189.8028 95.332 189.8782 95.3317 189.9535 95.3387 189.9542 95.3386 190.0296 95.3388 190.1049 95.3391 190.1803 95.3395 190.2557 95.3402 190.3311 95.3479 190.3318 95.3488 190.4072 95.3499 190.4826 95.3512 190.558 95.3527 190.6334 95.3543 190.7089 95.3627 190.7096 95.3646 190.785 95.3667 190.8605 95.369 190.9359 95.3714 191.0113 95.374 191.0868 95.3832 191.0875 95.3861 191.163 95.3891 191.2384 95.3924 191.3139 95.3958 191.3893 95.3994 191.4648 95.4092 191.4656 95.4131 191.541 95.4172 191.6165 95.4214 191.6919 95.4258 191.7674 95.4304 191.8428 95.4409 191.8436 95.4458 191.9191 95.4508 191.9945 95.456 192.07 95.4614 192.1454 95.467 192.2208 95.4782 192.2217 95.4841 192.2971 95.4901 192.3725 95.4963 192.4479 95.5026 192.5234 95.5092 192.5988 95.5212 192.5996 95.528 192.675 95.535 192.7504 95.5422 192.8258 95.5495 192.9012 95.557 192.9766 95.5697 192.9775 95.5775 193.0529 95.5855 193.1282 95.5937 193.2036 95.602 193.279 95.6105 193.3543 95.6239 193.3552 95.6327 193.4305 95.6417 193.5058 95.6508 193.5812 95.6601 193.6565 95.6696 193.7318 95.6837 193.7326 95.6935 193.8079 95.7034 193.8832 95.7136 193.9585 95.7239 194.0337 95.7343 194.109 95.7491 194.1098 95.7599 194.185 95.7708 194.2603 95.7819 194.3355 95.7932 194.4107 95.8047 194.4859 95.8202 194.4867 95.8319 194.5618 95.8439 194.637 95.856 194.7121 95.8682 194.7873 95.8806 194.8624 95.8969 194.8632 95.9096 194.9383 95.9225 195.0133 95.9356 195.0884 95.9488 195.1634 95.9622 195.2385 95.9792 195.2392 95.9929 195.3142 96.0068 195.3892 96.0208 195.4642 96.0351 195.5392 96.0495 195.6141 96.0671 195.6148 96.0818 195.6898 96.0967 195.7646 96.1117 195.8395 96.1269 195.9144 96.1423 195.9892 96.1607 195.9899 96.1764 196.0647 96.1922 196.1395 96.2082 196.2143 96.2243 196.289 96.2405 196.3637 96.2593 196.3644 96.2755 196.4391 96.2919 196.5137 96.3083 196.5884 96.3248 196.663 96.3414 196.7376 96.3604 196.7382 96.377 196.8127 96.3938 196.8872 96.4106 196.9617 96.4276 197.0362 96.4445 197.1107 96.4636 197.1112 96.4807 197.1856 96.4979 197.26 96.5152 197.3343 96.5325 197.4087 96.5499 197.483 96.5691 197.4835 96.5866 197.5577 96.6042 197.632 96.6219 197.7062 96.6396 197.7804 96.6574 197.8545 96.6768 197.8549 96.6947 197.9291 96.7127 198.0032 96.7308 198.0772 96.7489 198.1513 96.7671 198.2253 96.7867 198.2256 96.805 198.2996 96.8234 198.3736 96.8418 198.4475 96.8604 198.5214 96.879 198.5953 96.8987 198.5956 96.9174 198.6694 96.9362 198.7432 96.9551 198.817 96.9741 198.8907 96.9931 198.9644 97.0129 198.9646 97.0321 199.0383 97.0513 199.112 97.0705 199.1856 97.0899 199.2592 97.1093 199.3328 97.1293 199.3329 97.1489 199.4064 97.1685 199.4799 97.1882 199.5534 97.2079 199.6269 97.2278 199.7003 97.2479 199.7003 97.2678 199.7737 97.2878 199.847 97.3079 199.9204 97.3281 199.9937 97.3483 200.0669 97.3686 200.0669 97.3889 200.1401 97.4094 200.2133 97.4299 200.2865 97.4504 200.3596 97.4711 200.4327 97.4915 200.4326 97.5122 200.5056 97.5331 200.5787 97.554 200.6517 97.5749 200.7246 97.596 200.7976 97.6165 200.7974 97.6377 200.8703 97.6589 200.9432 97.6802 201.016 97.7016 201.0888 97.723 201.1616 97.7437 201.1613 97.7653 201.2341 97.7869 201.3067 97.8086 201.3794 97.8304 201.452 97.8522 201.5246 97.8731 201.5243 97.895 201.5969 97.917 201.6694 97.9391 201.7419 97.9613 201.8144 97.9836 201.8868 98.0045 201.8864 98.0269 201.9588 98.0493 202.0312 98.0718 202.1035 98.0944 202.1758 98.117 202.248 98.1381 202.2476 98.1609 202.3198 98.1837 202.392 98.2066 202.4641 98.2296 202.5362 98.2526 202.6083 98.2739 202.6078 98.297 202.6798 98.3203 202.7518 98.3436 202.8238 98.3669 202.8957 98.3904 202.9676 98.4118 202.967 98.4353 203.0389 98.4589 203.1107 98.4826 203.1825 98.5064 203.2542 98.5302 203.326 98.5517 203.3252 98.5757 203.3969 98.5997 203.4686 98.6238 203.5402 98.648 203.6118 98.6722 203.6833 98.6939 203.6825 98.7182 203.754 98.7426 203.8255 98.7671 203.8969 98.7916 203.9683 98.8163 204.0396 98.8381 204.0388 98.8628 204.1101 98.8876 204.1813 98.9125 204.2526 98.9374 204.3238 98.9624 204.395 98.9844 204.394 99.0095 204.4651 99.0347 204.5362 99.06 204.6072 99.0853 204.6783 99.1107 204.7492 99.1328 204.7482 99.1583 204.8191 99.1839 204.89 99.2096 204.9609 99.2353 205.0317 99.2611 205.1025 99.2833 205.1014 99.3092 205.1721 99.3352 205.2428 99.3612 205.3134 99.3874 205.3841 99.4135 205.4547 99.4359 205.4534 99.4622 205.524 99.4886 205.5945 99.515 205.665 99.5415 205.7354 99.5681 205.8058 99.5906 205.8045 99.6173 205.8748 99.644 205.9451 99.6708 206.0154 99.6977 206.0856 99.7247 206.1558 99.7473 206.1544 99.7744 206.2245 99.8015 206.2946 99.8287 206.3647 99.856 206.4347 99.8834 206.5047 99.9061 206.5032 99.9336 206.5732 99.9611 206.6431 99.9887 206.7129 100.0164 206.7828 100.0441 206.8525 100.067 206.851 100.0949 206.9207 100.1228 206.9904 100.1508 207.06 100.1788 207.1296 100.2069 207.1992\"/>\n",
       "<polygon fill=\"rgba(40,40,40,1)\" points=\"197.8251 138.8619 197.7206 138.8516 197.616 138.8415 197.5115 138.8316 197.4069 138.8218 197.3022 138.8123 197.3016 138.7983 197.1969 138.7889 197.0921 138.7798 196.9873 138.7709 196.8825 138.7621 196.7776 138.7536 196.7769 138.7396 196.672 138.7313 196.567 138.7231 196.462 138.7152 196.357 138.7074 196.2519 138.6999 196.251 138.686 196.1459 138.6787 196.0407 138.6715 195.9355 138.6645 195.8303 138.6578 195.725 138.6512 195.7241 138.6375 195.6188 138.6311 195.5134 138.6249 195.408 138.619 195.3026 138.6132 195.1971 138.6076 195.1961 138.5939 195.0906 138.5886 194.985 138.5834 194.8795 138.5784 194.7739 138.5736 194.6682 138.5691 194.6671 138.5555 194.5614 138.5511 194.4557 138.547 194.3499 138.543 194.2442 138.5392 194.1384 138.5356 194.1371 138.5221 194.0313 138.5188 193.9254 138.5156 193.8195 138.5126 193.7136 138.5098 193.6076 138.5072 193.6062 138.4939 193.5002 138.4915 193.3942 138.4893 193.2882 138.4873 193.1821 138.4856 193.076 138.484 193.0745 138.4707 192.9684 138.4694 192.8622 138.4682 192.756 138.4672 192.6498 138.4664 192.5436 138.4658 192.542 138.4527 192.4357 138.4523 192.3295 138.4522 192.2231 138.4522 192.1168 138.4524 192.0105 138.4528 192.0088 138.4398 191.9024 138.4404 191.796 138.4413 191.6895 138.4423 191.5831 138.4435 191.4766 138.445 191.4748 138.432 191.3683 138.4337 191.2618 138.4355 191.1553 138.4376 191.0487 138.4398 190.9422 138.4422 190.9403 138.4294 190.8337 138.4321 190.7271 138.4349 190.6204 138.438 190.5138 138.4412 190.4071 138.4447 190.4051 138.4319 190.2984 138.4356 190.1917 138.4395 190.085 138.4436 189.9783 138.4478 189.8716 138.4523 189.8695 138.4397 189.7627 138.4443 189.6559 138.4492 189.5491 138.4543 189.4423 138.4596 189.3355 138.4651 189.3333 138.4525 189.2265 138.4583 189.1196 138.4642 189.0128 138.4703 188.9059 138.4766 188.799 138.4831 188.7968 138.4706 188.6899 138.4773 188.583 138.4843 188.476 138.4914 188.3691 138.4987 188.2622 138.5062 188.2598 138.4939 188.1529 138.5016 188.0459 138.5096 187.939 138.5177 187.832 138.5261 187.7251 138.5346 187.7226 138.5224 187.6156 138.5311 187.5086 138.5401 187.4016 138.5492 187.2946 138.5586 187.1876 138.5682 187.1851 138.556 187.0781 138.5658 186.9711 138.5758 186.8641 138.586 186.7571 138.5964 186.65 138.6069 186.6474 138.5949 186.5404 138.6057 186.4334 138.6167 186.3263 138.6279 186.2193 138.6393 186.1123 138.6509 186.1096 138.639 186.0025 138.6509 185.8955 138.6629 185.7885 138.6751 185.6814 138.6875 185.5744 138.7002 185.5716 138.6884 185.4646 138.7012 185.3576 138.7142 185.2506 138.7275 185.1435 138.7409 185.0365 138.7546 185.0337 138.7429 184.9266 138.7568 184.8196 138.7708 184.7126 138.7851 184.6056 138.7996 184.4986 138.8143 184.4957 138.8027 184.3887 138.8176 184.2817 138.8327 184.1747 138.848 184.0678 138.8635 183.9608 138.8792 183.9578 138.8677 183.8508 138.8836 183.7439 138.8997 183.637 138.916 183.53 138.9326 183.4231 138.9493 183.42 138.9379 183.3131 138.9549 183.2062 138.972 183.0993 138.9893 182.9924 139.0069 182.8856 139.0246 182.8824 139.0134 182.7756 139.0313 182.6687 139.0495 182.5619 139.0679 182.4551 139.0865 182.3483 139.1052 182.3451 139.0941 182.2383 139.1131 182.1315 139.1323 182.0247 139.1517 181.918 139.1713 181.8113 139.191 181.808 139.18 181.7013 139.2 181.5946 139.2203 181.4879 139.2407 181.3813 139.2614 181.2747 139.2823 181.2714 139.2715 181.1648 139.2928 181.0583 139.3143 180.9518 139.3361 180.8454 139.3581 180.739 139.3804 180.7357 139.3701 180.6293 139.3927 180.523 139.4156 180.4168 139.4387 180.3106 139.4621 180.2044 139.4857 180.2012 139.4758 180.0951 139.4998 179.989 139.524 179.883 139.5485 179.777 139.5732 179.6711 139.5982 179.6679 139.5888 179.562 139.6141 179.4562 139.6397 179.3504 139.6655 179.2447 139.6916 179.1391 139.7179 179.136 139.7089 179.0304 139.7356 178.9248 139.7625 178.8193 139.7896 178.7139 139.817 178.6085 139.8447 178.6055 139.8362 178.5002 139.8641 178.3949 139.8924 178.2897 139.9209 178.1846 139.9496 178.0795 139.9786 178.0765 139.9705 177.9715 139.9998 177.8666 140.0294 177.7617 140.0593 177.6569 140.0893 177.5521 140.1197 177.5492 140.112 177.4446 140.1426 177.34 140.1735 177.2354 140.2047 177.1309 140.2361 177.0265 140.2678 177.0237 140.2605 176.9194 140.2925 176.8151 140.3247 176.7109 140.3572 176.6068 140.3899 176.5028 140.4229 176.5001 140.4161 176.3961 140.4494 176.2922 140.4829 176.1884 140.5167 176.0846 140.5508 175.981 140.585 175.9784 140.5787 175.8748 140.6133 175.7713 140.6481 175.6678 140.6832 175.5645 140.7186 175.4612 140.7542 175.4587 140.7482 175.3556 140.7841 175.2525 140.8203 175.1494 140.8567 175.0465 140.8934 174.9436 140.9303 174.9413 140.9247 174.8385 140.9619 174.7358 140.9994 174.6332 141.0371 174.5307 141.075 174.4283 141.1132 174.4261 141.1081 174.3238 141.1466 174.2215 141.1854 174.1194 141.2244 174.0173 141.2636 173.9153 141.3031 173.9132 141.2984 173.8114 141.3382 173.7096 141.3783 173.6079 141.4185 173.5063 141.4591 173.4048 141.4998 173.4029 141.4955 173.3015 141.5366 173.2002 141.5779 173.099 141.6195 172.9979 141.6613 172.8969 141.7034 172.8951 141.6995 172.7942 141.7418 172.6934 141.7844 172.5927 141.8273 172.4921 141.8703 172.3916 141.9137 172.39 141.9102 172.2896 141.9538 172.1893 141.9977 172.0891 142.0418 171.9891 142.0861 171.8891 142.1307 171.8876 142.1276 171.7878 142.1725 171.688 142.2176 171.5884 142.263 171.4889 142.3085 171.3894 142.3544 171.3881 142.3517 171.2888 142.3978 171.1896 142.4442 171.0906 142.4908 170.9916 142.5376 170.8927 142.5847 170.8916 142.5824 170.7928 142.6298 170.6942 142.6774 170.5957 142.7253 170.4973 142.7734 170.3991 142.8217 170.3981 142.8198 170.2999 142.8684 170.2019 142.9172 170.104 142.9663 170.0062 143.0156 169.9085 143.0652 169.9078 143.0637 169.8102 143.1135 169.7128 143.1636 169.6155 143.2139 169.5183 143.2644 169.4213 143.3152 169.4207 143.3141 169.3238 143.3651 169.227 143.4164 169.1303 143.4679 169.0337 143.5197 168.9373 143.5716 168.9369 143.5709 168.8407 143.6232 168.7445 143.6757 168.6485 143.7284 168.5526 143.7813 168.4568 143.8345 168.4566 143.8342 168.361 143.8876 168.2655 143.9413 168.1701 143.9952 168.0749 144.0494 167.9798 144.1037 167.9798 144.1038 167.8849 144.1584 167.7901 144.2133 167.6954 144.2684 167.6008 144.3237 167.5064 144.3793 167.5067 144.3797 167.4124 144.4355 167.3183 144.4916 167.2243 144.5478 167.1305 144.6043 167.0368 144.661 167.0372 144.6618 166.9437 144.7188 166.8503 144.776 166.757 144.8335 166.6639 144.8911 166.5709 144.949 166.5716 144.9502 166.4788 145.0083 166.3861 145.0667 166.2936 145.1253 166.2012 145.1841 166.1089 145.2431 166.1089 145.2431 166.203 145.187 166.2971 145.1311 166.3913 145.0752 166.4855 145.0194 166.5798 144.9637 166.5805 144.9649 166.6748 144.9092 166.7692 144.8537 166.8636 144.7982 166.9581 144.7429 167.0526 144.6876 167.0531 144.6884 167.1476 144.6332 167.2422 144.5781 167.3369 144.5231 167.4316 144.4682 167.5264 144.4134 167.5266 144.4138 167.6214 144.359 167.7162 144.3044 167.8111 144.2498 167.9061 144.1953 168.0011 144.1409 168.0011 144.141 168.0962 144.0866 168.1913 144.0324 168.2864 143.9782 168.3816 143.9242 168.4769 143.8702 168.4767 143.8699 168.572 143.816 168.6673 143.7622 168.7627 143.7084 168.8581 143.6548 168.9537 143.6013 168.9533 143.6006 169.0488 143.5471 169.1444 143.4937 169.24 143.4404 169.3357 143.3872 169.4315 143.3341 169.4309 143.333 169.5267 143.28 169.6225 143.227 169.7184 143.1741 169.8144 143.1214 169.9104 143.0687 169.9096 143.0672 170.0057 143.0146 170.1018 142.962 170.1979 142.9096 170.2942 142.8572 170.3904 142.805 170.3895 142.8031 170.4858 142.7509 170.5821 142.6988 170.6786 142.6468 170.775 142.5948 170.8716 142.543 170.8704 142.5407 170.967 142.489 171.0636 142.4373 171.1603 142.3857 171.2571 142.3342 171.3539 142.2828 171.3526 142.2801 171.4494 142.2287 171.5463 142.1774 171.6433 142.1262 171.7403 142.0752 171.8374 142.0242 171.8359 142.0211 171.933 141.9702 172.0302 141.9193 172.1274 141.8685 172.2247 141.8179 172.3221 141.7673 172.3204 141.7638 172.4178 141.7133 172.5153 141.6628 172.6128 141.6125 172.7104 141.5623 172.808 141.5121 172.8062 141.5082 172.9039 141.4581 173.0016 141.4081 173.0994 141.3582 173.1973 141.3083 173.2952 141.2586 173.2932 141.2543 173.3912 141.2046 173.4892 141.155 173.5873 141.1055 173.6854 141.0561 173.7836 141.0068 173.7815 141.002 173.8798 140.9528 173.9781 140.9036 174.0765 140.8545 174.1749 140.8055 174.2734 140.7566 174.2712 140.7515 174.3697 140.7026 174.4683 140.6538 174.567 140.6051 174.6658 140.5566 174.7645 140.5081 174.7622 140.5025 174.861 140.4541 174.9599 140.4057 175.0589 140.3575 175.1579 140.3093 175.257 140.2612 175.2546 140.2553 175.3537 140.2072 175.4529 140.1593 175.5522 140.1114 175.6515 140.0637 175.7509 140.016 175.7483 140.0096 175.8478 139.962 175.9473 139.9145 176.0469 139.8671 176.1465 139.8197 176.2462 139.7725 176.2435 139.7657 176.3433 139.7185 176.4431 139.6714 176.543 139.6243 176.643 139.5774 176.743 139.5306 176.7402 139.5234 176.8403 139.4766 176.9404 139.4299 177.0406 139.3833 177.1409 139.3368 177.2412 139.2904 177.2384 139.2827 177.3388 139.2363 177.4392 139.19 177.5397 139.1439 177.6403 139.0978 177.741 139.0518 177.738 139.0437 177.8388 138.9977 177.9395 138.9519 178.0404 138.9061 178.1413 138.8604 178.2423 138.8149 178.2393 138.8063 178.3403 138.7608 178.4414 138.7153 178.5426 138.67 178.6438 138.6248 178.7452 138.5796 178.742 138.5706 178.8434 138.5255 178.9449 138.4805 179.0464 138.4355 179.148 138.3907 179.2496 138.346 179.2464 138.3366 179.3482 138.2919 179.4499 138.2473 179.5518 138.2028 179.6537 138.1583 179.7557 138.114 179.7525 138.1042 179.8545 138.0599 179.9566 138.0157 180.0588 137.9716 180.1611 137.9276 180.2634 137.8837 180.2602 137.8734 180.3626 137.8296 180.465 137.7858 180.5676 137.7422 180.6702 137.6986 180.7729 137.6551 180.7695 137.6444 180.8723 137.6009 180.9751 137.5576 181.078 137.5144 181.181 137.4713 181.284 137.4284 181.2807 137.4173 181.3839 137.3745 181.4872 137.3319 181.5905 137.2894 181.6939 137.2471 181.7975 137.2049 181.7942 137.1938 181.8978 137.1518 182.0015 137.1099 182.1053 137.0682 182.2092 137.0266 182.3132 136.9852 182.31 136.974 182.4141 136.9327 182.5182 136.8916 182.6225 136.8507 182.7268 136.8099 182.8312 136.7693 182.8281 136.7579 182.9326 136.7174 183.0372 136.6771 183.1419 136.6369 183.2466 136.5969 183.3514 136.557 183.3484 136.5456 183.4534 136.5058 183.5584 136.4663 183.6635 136.4269 183.7687 136.3877 183.874 136.3486 183.871 136.337 183.9764 136.2981 184.0818 136.2593 184.1874 136.2207 184.293 136.1822 184.3987 136.1439 184.3958 136.1322 184.5016 136.0941 184.6075 136.0561 184.7134 136.0183 184.8195 135.9806 184.9256 135.9431 184.9228 135.9313 185.029 135.8939 185.1353 135.8567 185.2417 135.8197 185.3482 135.7828 185.4547 135.7461 185.452 135.7342 185.5586 135.6976 185.6653 135.6612 185.7721 135.625 185.879 135.5889 185.9859 135.5529 185.9833 135.5409 186.0904 135.5052 186.1975 135.4695 186.3047 135.4341 186.412 135.3988 186.5193 135.3637 186.5168 135.3516 186.6242 135.3166 186.7318 135.2818 186.8394 135.2471 186.947 135.2127 187.0548 135.1783 187.0524 135.1661 187.1602 135.132 187.2681 135.0979 187.3761 135.0641 187.4842 135.0304 187.5924 134.9969 187.59 134.9846 187.6982 134.9512 187.8066 134.918 187.915 134.885 188.0234 134.8521 188.132 134.8194 188.1297 134.807 188.2383 134.7745 188.347 134.7421 188.4558 134.7099 188.5647 134.6778 188.6736 134.6459 188.6714 134.6334 188.7805 134.6017 188.8896 134.5701 188.9987 134.5387 189.108 134.5075 189.2173 134.4764 189.2152 134.4638 189.3246 134.4329 189.4341 134.4021 189.5436 134.3715 189.6532 134.3411 189.7629 134.3109 189.7609 134.2982 189.8707 134.2681 189.9805 134.2382 190.0905 134.2084 190.2005 134.1788 190.3105 134.1494 190.3086 134.1366 190.4188 134.1073 190.529 134.0782 190.6393 134.0493 190.7496 134.0206 190.86 133.992 190.8583 133.979 190.9688 133.9506 191.0793 133.9224 191.19 133.8943 191.3007 133.8664 191.4115 133.8386 191.4098 133.8256 191.5207 133.798 191.6316 133.7706 191.7426 133.7434 191.8537 133.7163 191.9648 133.6894 191.9632 133.6762 192.0745 133.6495 192.1857 133.6229 192.2971 133.5965 192.4085 133.5703 192.52 133.5442 192.5185 133.531 192.6301 133.5051 192.7417 133.4794 192.8534 133.4538 192.9652 133.4284 193.077 133.4032 193.0756 133.3899 193.1876 133.3648 193.2995 133.3399 193.4116 133.3152 193.5237 133.2907 193.6359 133.2664 193.6346 133.2529 193.7468 133.2287 193.8592 133.2047 193.9715 133.1808 194.084 133.1572 194.1965 133.1337 194.1953 133.1201 194.3079 133.0968 194.4205 133.0736 194.5333 133.0506 194.646 133.0278 194.7589 133.0052 194.7578 132.9915 194.8707 132.9691 194.9837 132.9467 195.0967 132.9246 195.2098 132.9027 195.323 132.8809 195.322 132.8672 195.4352 132.8455 195.5485 132.8241 195.6619 132.8028 195.7753 132.7818 195.8888 132.7608 195.8879 132.747 196.0015 132.7263 196.1151 132.7057 196.2287 132.6853 196.3425 132.6651 196.4562 132.6451 196.4555 132.6311 196.5694 132.6113 196.6833 132.5916 196.7973 132.572 196.9113 132.5527 197.0254 132.5335 197.0247 132.5195 197.1389 132.5005 197.2531 132.4817 197.3674 132.4631 197.4817 132.4446 197.5961 132.4263\"/>\n",
       "<polygon fill=\"rgba(40,40,40,1)\" points=\"239.9791 208.3307 239.8049 209.0885 239.6162 209.8433 239.4131 210.5945 239.1959 211.3413 238.9648 212.0831 238.9567 212.0805 238.7116 212.8174 238.4523 213.55 238.1791 214.2776 237.8922 214.9995 237.592 215.715 237.5843 215.7117 237.2706 216.4211 236.9432 217.1248 236.6025 217.8223 236.2488 218.5128 235.8823 219.1957 235.875 219.1917 235.4957 219.8672 235.1034 220.5358 234.6984 221.1969 234.2812 221.8498 233.852 222.494 233.8451 222.4894 233.4039 223.125 232.9504 223.7525 232.485 224.3713 232.0081 224.9809 231.5203 225.5806 231.5139 225.5754 231.0149 226.1655 230.5044 226.7463 229.9829 227.3174 229.4509 227.8782 228.9089 228.4281 228.9031 228.4224 228.3509 228.9616 227.7882 229.4907 227.2155 230.009 226.6333 230.516 226.0422 231.0114 226.0369 231.0051 225.4367 231.4889 224.827 231.9614 224.2084 232.4224 223.5814 232.8713 222.9466 233.3076 222.942 233.301 222.2993 233.725 221.6482 234.1369 220.9894 234.5365 220.3233 234.9233 219.6508 235.2969 219.6469 235.2899 218.9676 235.6504 218.2811 235.9982 217.5881 236.3329 216.8891 236.6542 216.185 236.9619 216.1818 236.9545 215.4721 237.2485 214.7565 237.5291 214.0357 237.7961 213.3102 238.0493 212.5809 238.2883 212.5784 238.2807 211.8449 238.5056 211.1068 238.7167 210.3646 238.9138 209.6193 239.0966 208.8714 239.2649 208.8697 239.2572 208.119 239.4112 207.365 239.551 206.6084 239.6765 205.85 239.7875 205.0904 239.8839 205.0894 239.8761 204.3284 239.9579 203.5654 240.0253 202.8012 240.0782 202.0365 240.1166 201.2721 240.1403 201.2718 240.1325 200.5074 240.1416 199.7424 240.1362 198.9775 240.1162 198.2135 240.0818 197.4512 240.0328 197.4517 240.025 196.6907 239.9615 195.9306 239.8835 195.1719 239.791 194.4155 239.6842 193.6622 239.5631 193.6634 239.5555 192.9128 239.4201 192.1644 239.2703 191.4188 239.1063 190.6769 238.9283 189.9393 238.7363 189.9412 238.729 189.2077 238.523 188.4778 238.303 187.752 238.0692 187.0312 237.8217 186.316 237.5608 186.3186 237.5537 185.6088 237.2793 184.9039 236.9912 184.2044 236.6898 183.5112 236.3753 182.8248 236.048 182.8281 236.0412 182.1483 235.7009 181.4747 235.3476 180.8078 234.9814 180.1484 234.6028 179.497 234.2122 179.5008 234.2058 178.8573 233.8029 178.221 233.3876 177.5927 232.9602 176.9729 232.5211 176.3623 232.0708 176.3667 232.0649 175.765 231.6032 175.1718 231.1298 174.5876 230.6451 174.013 230.1497 173.4486 229.6439 173.4535 229.6385 172.899 229.1222 172.3541 228.5952 171.8192 228.0577 171.2949 227.5105 170.7817 226.9541 170.787 226.9491 170.2847 226.3832 169.7929 225.8073 169.3121 225.2221 168.8426 224.6282 168.3852 224.0262 168.391 224.0218 167.9452 223.4113 167.5108 222.792 167.0882 222.1644 166.6779 221.5293 166.2801 220.8872 166.2863 220.8834 165.901 220.234 165.5279 219.5769 165.1672 218.9128 164.8195 218.2422 164.4849 217.5659 164.4914 217.5628 164.1699 216.8805 163.8613 216.1916 163.5657 215.4969 163.2836 214.7971 163.0152 214.0929 163.0218 214.0903 162.7669 213.3814 162.5254 212.6671 162.2975 211.9482 162.0834 211.2255 161.8833 210.4997 161.8902 210.4979 161.7041 209.7686 161.5317 209.0354 161.3733 208.2989 161.2291 207.5599 161.099 206.8192 161.1059 206.818 160.9901 206.0752 160.8884 205.3297 160.8008 204.5823 160.7275 203.8337 160.6685 203.0848 160.6755 203.0843 160.6308 202.3346 160.6005 201.5836 160.5844 200.8321 160.5825 200.0807 160.5949 199.3304 160.6017 199.3305 160.6284 198.5808 160.6693 197.8311 160.7245 197.0821 160.7937 196.3348 160.8771 195.5897 160.8836 195.5905 160.9811 194.8474 161.0928 194.1057 161.2186 193.3661 161.3583 192.6294 161.5117 191.8963 161.5179 191.8976 161.6852 191.1679 161.8665 190.4408 162.0616 189.7171 162.2703 188.9977 162.4923 188.2831 162.4981 188.2849 162.7336 187.575 162.9828 186.869 163.2453 186.1677 163.521 185.4719 163.8095 184.7823 163.8148 184.7845 164.1163 184.1007 164.431 183.4221 164.7585 182.7495 165.0986 182.0835 165.4509 181.4249 165.4557 181.4275 165.8203 180.7759 166.1976 180.1307 166.5871 179.4927 166.9884 178.8625 167.4012 178.2408 167.4055 178.2436 167.8299 177.63 168.2662 177.024 168.7141 176.4263 169.173 175.8374 169.6424 175.258 169.6463 175.2611 170.1265 174.6909 170.618 174.1295 171.1201 173.5772 171.6323 173.0349 172.1542 172.503 172.1575 172.5063 172.6893 171.9846 173.2313 171.4726 173.7831 170.9708 174.3441 170.4798 174.9136 170.0002 174.9164 170.0036 175.4948 169.5349 176.0825 169.0769 176.679 168.63 177.2835 168.1946 177.8955 167.7714 177.8979 167.7748 178.5177 167.3633 179.1458 166.9633 179.7815 166.5752 180.4242 166.1994 181.0731 165.8362 181.075 165.8397 181.7306 165.489 182.3934 165.1505 183.0626 164.8246 183.7376 164.5115 184.4176 164.2117 184.4191 164.215 185.1046 163.9283 185.796 163.6543 186.4928 163.3934 187.194 163.1458 187.899 162.9119 187.9 162.9152 188.6092 162.6947 189.3232 162.4876 190.0411 162.294 190.7623 162.1142 191.4859 161.9482 191.4866 161.9513 192.2131 161.7991 192.9431 161.6607 193.6758 161.536 194.4105 161.4254 195.1462 161.3288 195.1466 161.3316 195.8839 161.2491 196.6234 161.1805 197.3643 161.1259 198.1058 161.0853 198.8471 161.0589 198.8471 161.0615 199.5887 161.0492 200.3311 161.051 201.0735 161.0668 201.8152 161.0967 202.5553 161.1407 202.5552 161.143 203.2943 161.201 204.0329 161.2731 204.7702 161.3592 205.5055 161.4592 206.2379 161.5731 206.2376 161.5751 206.9676 161.7028 207.6958 161.8445 208.4214 162.0001 209.1437 162.1693 209.8618 162.352 209.8613 162.3537 210.5757 162.55 211.287 162.76 211.9944 162.9836 212.6972 163.2204 213.3946 163.4703 213.394 163.4717 214.0865 163.7347 214.7745 164.0112 215.4574 164.3007 216.1344 164.603 216.8048 164.9177 216.8043 164.9189 217.4685 165.2463 218.1271 165.5866 218.7794 165.9394 219.4246 166.3044 220.062 166.6812 220.0615 166.6821 220.6916 167.0709 221.3149 167.472 221.9307 167.8851 222.5383 168.3095 223.137 168.7449 223.1366 168.7455 223.727 169.1922 224.3093 169.6506 224.8832 170.12 225.4477 170.6001 226.0025 171.0903 226.0022 171.0906 226.5475 171.5912 227.0838 172.1027 227.6105 172.6244 228.127 173.1557 228.6328 173.6962 228.6326 173.6964 229.128 174.2464 229.6134 174.8063 230.0883 175.3755 230.5521 175.9534 231.0044 176.5394 231.0044 176.5394 231.4455 177.1339 231.8756 177.7373 232.2944 178.3489 232.7014 178.9682 233.0961 179.5944 233.0964 179.5943 233.4791 180.2279 233.8501 180.8694 234.2091 181.518 234.5556 182.1731 234.8892 182.8339 234.8897 182.8337 235.2107 183.5008 235.5193 184.1746 235.8152 184.8544 236.0981 185.5394 236.3676 186.229 236.3684 186.2287 236.6247 186.9233 236.8681 187.6234 237.0983 188.3282 237.315 189.0371 237.518 189.7492 237.518 189.7492 237.317 189.0365 237.1022 188.327 236.8738 187.6214 236.6321 186.9206 236.3773 186.2253 236.3781 186.225 236.1099 185.5347 235.8283 184.8488 235.5336 184.1682 235.226 183.4936 234.906 182.8257 234.9065 182.8254 234.5736 182.1638 234.2278 181.5079 233.8694 180.8585 233.4988 180.2163 233.1164 179.5819 233.1167 179.5818 232.7221 178.9549 232.3153 178.335 231.8965 177.7227 231.4662 177.1188 231.025 176.5238 231.0251 176.5238 230.5725 175.9374 230.1083 175.3592 229.6329 174.7897 229.147 174.2296 228.651 173.6795 228.6508 173.6796 228.1444 173.1392 227.6271 172.6079 227.0996 172.0864 226.5624 171.5753 226.0162 171.0751 226.0159 171.0754 225.4601 170.5858 224.8945 170.1064 224.3197 169.6377 223.7362 169.1802 223.1448 168.7345 223.1443 168.7351 222.5444 168.3008 221.9357 167.8776 221.3188 167.466 220.6944 167.0664 220.0632 166.6792 220.0627 166.68 219.4242 166.3051 218.7779 165.942 218.1247 165.5912 217.4651 165.253 216.7999 164.9279 216.7994 164.9291 216.1281 164.6168 215.4503 164.3172 214.7666 164.0304 214.0779 163.7568 213.3849 163.4968 213.3843 163.4982 212.6865 163.2515 211.9833 163.018 211.2756 162.7979 210.564 162.5914 209.8495 162.3987 209.8491 162.4004 209.131 162.2216 208.409 162.0563 207.6836 161.9048 206.9559 161.7672 206.2264 161.6436 206.2261 161.6457 205.4945 161.5362 204.7602 161.4407 204.0239 161.3591 203.2866 161.2916 202.5489 161.2383 202.5488 161.2406 201.8103 161.2015 201.0705 161.1765 200.3301 161.1656 199.5899 161.1689 198.8508 161.1862 198.8509 161.1888 198.1124 161.2204 197.3738 161.2661 196.6361 161.3259 195.8999 161.3998 195.1661 161.4876 195.1665 161.4904 194.4347 161.5923 193.7042 161.7083 192.9758 161.8382 192.2504 161.982 191.5287 162.1394 191.5294 162.1424 190.8109 162.3136 190.0952 162.4987 189.3829 162.6975 188.6749 162.9097 187.9718 163.1352 187.9729 163.1384 187.2745 163.3773 186.58 163.6298 185.8903 163.8955 185.2061 164.1743 184.5282 164.4657 184.5296 164.469 183.8576 164.7733 183.1908 165.0908 182.53 165.421 181.8759 165.7635 181.2293 166.1181 181.2312 166.1215 180.5916 166.4884 179.9585 166.8679 179.3326 167.2594 178.7146 167.6626 178.1052 168.0771 178.1075 168.0805 177.5063 168.5065 176.9127 168.9444 176.3275 169.3936 175.7512 169.8537 175.1845 170.3241 175.1873 170.3275 174.6299 170.8086 174.0812 171.3008 173.5418 171.8035 173.0125 172.3162 172.4936 172.8382 172.4969 172.8415 171.9884 173.3733 171.4895 173.9152 171.001 174.4667 170.5233 175.0272 170.0571 175.5959 170.0609 175.5991 169.6058 176.1765 169.1613 176.7632 168.728 177.3584 168.3063 177.9614 167.8968 178.5716 167.9012 178.5745 167.5036 179.1923 167.1174 179.8182 166.7433 180.4515 166.3814 181.0915 166.0323 181.7375 166.0371 181.7401 165.7006 182.3925 165.3763 183.0519 165.0645 183.7174 164.7657 184.3885 164.4801 185.0643 164.4854 185.0665 164.213 185.7475 163.9533 186.4342 163.7068 187.1259 163.4736 187.8218 163.254 188.5211 163.2597 188.5229 163.0538 189.2261 162.861 189.9338 162.6818 190.6452 162.5163 191.3595 162.3647 192.0759 162.3708 192.0772 162.233 192.7962 162.1089 193.5184 161.9985 194.2429 161.9021 194.9691 161.8196 195.696 161.8261 195.6967 161.7577 196.4248 161.7031 197.1548 161.6625 197.8859 161.6358 198.6171 161.6232 199.3478 161.63 199.348 161.6314 200.0785 161.6468 200.8096 161.6761 201.5404 161.7193 202.2701 161.7763 202.9979 161.7833 202.9974 161.8542 203.7237 161.9391 204.4492 162.0377 205.1731 162.1501 205.8946 162.276 206.6129 162.2829 206.6117 162.4225 207.3271 162.5759 208.0405 162.7429 208.751 162.9232 209.4577 163.1167 210.16 163.1235 210.1581 163.3304 210.8563 163.5507 211.551 163.7843 212.2416 164.0308 212.9272 164.2901 213.6071 164.2967 213.6046 164.5688 214.2791 164.854 214.949 165.1519 215.6134 165.4622 216.2717 165.7846 216.9231 165.791 216.9199 166.1257 217.5648 166.473 218.2037 166.8324 218.8361 167.2036 219.4612 167.5861 220.0782 167.5922 220.0744 167.9863 220.6838 168.3924 221.2861 168.8099 221.8807 169.2384 222.4669 169.6775 223.0441 169.6832 223.0397 170.1331 223.6081 170.5941 224.1684 171.0658 224.7199 171.5476 225.2621 172.039 225.7942 172.0444 225.7892 172.5457 226.3116 173.0574 226.8249 173.5789 227.3284 174.1095 227.8217 174.6487 228.304 174.6536 228.2985 175.2017 228.7703 175.7593 229.232 176.3257 229.6831 176.9002 230.123 177.4822 230.5514 177.4866 230.5454 178.0765 230.9623 178.6748 231.3683 179.2808 231.763 179.8939 232.1458 180.5133 232.5164 180.5171 232.51 181.1433 232.8684 181.7768 233.2152 182.4169 233.55 183.0628 233.8724 183.7139 234.1819 183.7172 234.1751 184.3738 234.4719 185.0366 234.7565 185.7049 235.0285 186.3778 235.2876 187.0546 235.5334 187.0572 235.5263 187.7383 235.759 188.4244 235.979 189.1147 236.1858 189.8084 236.3794 190.5047 236.5595 190.5066 236.5521 191.2059 236.7187 191.909 236.8722 192.615 237.0122 193.3231 237.1387 194.0325 237.2516 194.0337 237.244 194.7448 237.3431 195.4585 237.4288 196.1737 237.5009 196.8898 237.5594 197.6058 237.6041 197.6063 237.5964 198.3228 237.6274 199.0404 237.6447 199.7584 237.6484 200.4759 237.6384 201.1921 237.6148 201.1918 237.607 201.9071 237.5697 202.6222 237.5187 203.3364 237.4541 204.0488 237.3759 204.7586 237.2843 204.7576 237.2766 205.4652 237.1714 206.1713 237.0527 206.8753 236.9206 207.5761 236.7752 208.2731 236.6166 208.2713 236.6089 208.9648 236.4371 209.6556 236.252 210.3429 236.0536 211.0258 235.8424 211.7036 235.6185 211.7012 235.611 212.3743 235.3742 213.0434 235.1245 213.7079 234.8619 214.3668 234.587 215.0194 234.3 215.0162 234.2926 215.6628 233.9933 216.3044 233.6813 216.94 233.3572 217.569 233.0212 218.1904 232.6738 218.1865 232.6667 218.801 232.3076 219.4091 231.9365 220.0102 231.5538 220.6035 231.1599 221.1883 230.7554 221.1837 230.7488 221.7605 230.3333 222.3298 229.9065 222.891 229.4689 223.4434 229.0209 223.9863 228.5632 223.9811 228.557 224.5149 228.0891 225.0403 227.6107 225.5566 227.1223 226.0632 226.6244 226.5595 226.1177 226.5536 226.112 227.0398 225.5961 227.5167 225.0705 227.9835 224.5359 228.4398 223.9928 228.885 223.4419 228.8785 223.4367 229.3129 222.8776 229.7369 222.3098 230.1502 221.7338 230.5522 221.1505 230.9423 220.5606 230.9354 220.556 231.314 219.9589 231.6816 219.3541 232.0377 218.7422 232.3818 218.1241 232.7136 217.5005 232.7062 217.4966 233.0259 216.867 233.3338 216.2308 233.6296 215.5887 233.9129 214.9415 234.1835 214.2901 234.1757 214.2868 234.4336 213.6306 234.6792 212.9689 234.9122 212.3024 235.1323 211.6321 235.3393 210.9588 235.3312 210.9563 235.5252 210.2794 235.7064 209.5982 235.8747 208.9136 236.0298 208.2263 236.1716 207.5373\"/>\n",
       "</svg>"
      ],
      "text/plain": [
       "<IPython.core.display.SVG object>"
      ]
     },
     "metadata": {},
     "output_type": "display_data"
    }
   ],
   "source": [
    "parts = []\n",
    "for i in range(8):\n",
    "    arc_poly = arc(0, 0, 100, 100, np.random.uniform(0, np.pi*2), np.random.uniform(0, np.pi*2))\n",
    "    poly = arc_poly.fancy_curve(thicknesses=[10, 5, 1, 0], interp=\"quadratic\")\n",
    "    poly = poly.scale(np.random.uniform(0.25, 1.5))\n",
    "    parts.append(poly)\n",
    "d = document(400, 400, 'pt')\n",
    "page = d.addpage()\n",
    "curve_fig = shape().fill(rgba(40, 40, 40, 255)).nostroke()\n",
    "for part in parts:\n",
    "    page.place(curve_fig.polygon(part.translate(200, 200)))\n",
    "show(page)"
   ]
  }
 ],
 "metadata": {
  "kernelspec": {
   "display_name": "Python 3",
   "language": "python",
   "name": "python3"
  },
  "language_info": {
   "codemirror_mode": {
    "name": "ipython",
    "version": 3
   },
   "file_extension": ".py",
   "mimetype": "text/x-python",
   "name": "python",
   "nbconvert_exporter": "python",
   "pygments_lexer": "ipython3",
   "version": "3.7.0"
  }
 },
 "nbformat": 4,
 "nbformat_minor": 2
}
