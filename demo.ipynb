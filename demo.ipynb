{
 "cells": [
  {
   "cell_type": "markdown",
   "metadata": {},
   "source": [
    "# Bezmerizing demo notebook\n",
    "\n",
    "By [Allison Parrish](https://www.decontextualize.com/)\n",
    "\n",
    "This notebook demonstrates some of the features of Bezmerizing.\n",
    "\n",
    "See also [Flat and asemic writing](https://github.com/aparrish/material-of-language/blob/master/flat-asemic-writing.ipynb) for an introduction to the `Polyline` object."
   ]
  },
  {
   "cell_type": "code",
   "execution_count": 1,
   "metadata": {},
   "outputs": [],
   "source": [
    "%load_ext autoreload\n",
    "%autoreload 2"
   ]
  },
  {
   "cell_type": "code",
   "execution_count": 2,
   "metadata": {},
   "outputs": [],
   "source": [
    "import bezmerizing\n",
    "from bezmerizing import Polyline, Bezier, QuadraticBezier"
   ]
  },
  {
   "cell_type": "code",
   "execution_count": 3,
   "metadata": {},
   "outputs": [],
   "source": [
    "from flat import document, rgba, shape"
   ]
  },
  {
   "cell_type": "code",
   "execution_count": 4,
   "metadata": {},
   "outputs": [],
   "source": [
    "import numpy as np"
   ]
  },
  {
   "cell_type": "code",
   "execution_count": 5,
   "metadata": {},
   "outputs": [],
   "source": [
    "from IPython.display import SVG, Image, display"
   ]
  },
  {
   "cell_type": "code",
   "execution_count": 6,
   "metadata": {},
   "outputs": [],
   "source": [
    "from IPython.display import SVG, display\n",
    "def show(page):\n",
    "    display(SVG(page.svg()))"
   ]
  },
  {
   "cell_type": "markdown",
   "metadata": {},
   "source": [
    "## Bezier objects\n",
    "\n",
    "A `Bezier` object represents a cubic Bézier curve."
   ]
  },
  {
   "cell_type": "code",
   "execution_count": 7,
   "metadata": {},
   "outputs": [],
   "source": [
    "bez = Bezier(\n",
    "    [25, 25], # start\n",
    "    [150, 50], # control point 1\n",
    "    [50, 150], # control point 2\n",
    "    [175, 175] # end\n",
    ")"
   ]
  },
  {
   "cell_type": "code",
   "execution_count": 8,
   "metadata": {},
   "outputs": [
    {
     "data": {
      "image/svg+xml": [
       "<svg height=\"200pt\" version=\"1.1\" width=\"200pt\" xmlns=\"http://www.w3.org/2000/svg\" xmlns:xlink=\"http://www.w3.org/1999/xlink\">\n",
       "<title>Untitled</title>\n",
       "<path d=\"M25,25 C150,50,50,150,175,175\" fill=\"none\" stroke=\"rgba(0,0,0,1)\" stroke-miterlimit=\"10\" stroke-width=\"4\"/>\n",
       "<circle cx=\"25\" cy=\"25\" fill=\"rgba(255,255,255,1)\" r=\"5\" stroke=\"rgba(0,0,0,1)\" stroke-miterlimit=\"10\" stroke-width=\"2\"/>\n",
       "<circle cx=\"150\" cy=\"50\" fill=\"rgba(255,255,255,1)\" r=\"5\" stroke=\"rgba(0,0,0,1)\" stroke-miterlimit=\"10\" stroke-width=\"2\"/>\n",
       "<circle cx=\"50\" cy=\"150\" fill=\"rgba(255,255,255,1)\" r=\"5\" stroke=\"rgba(0,0,0,1)\" stroke-miterlimit=\"10\" stroke-width=\"2\"/>\n",
       "<circle cx=\"175\" cy=\"175\" fill=\"rgba(255,255,255,1)\" r=\"5\" stroke=\"rgba(0,0,0,1)\" stroke-miterlimit=\"10\" stroke-width=\"2\"/>\n",
       "</svg>"
      ],
      "text/plain": [
       "<IPython.core.display.SVG object>"
      ]
     },
     "metadata": {},
     "output_type": "display_data"
    }
   ],
   "source": [
    "d = document(200, 200, 'pt')\n",
    "page = d.addpage()\n",
    "curve_fig = shape().stroke(rgba(0, 0, 0, 255)).nofill().width(4)\n",
    "point_fig = shape().stroke(rgba(0, 0, 0, 255)).fill(rgba(255, 255, 255, 255)).width(2)\n",
    "page.place(curve_fig.path(bez.to_path()))\n",
    "page.place(point_fig.circle(*bez.start, 5))\n",
    "page.place(point_fig.circle(*bez.cp1, 5))\n",
    "page.place(point_fig.circle(*bez.cp2, 5))\n",
    "page.place(point_fig.circle(*bez.end, 5))\n",
    "show(page)"
   ]
  },
  {
   "cell_type": "markdown",
   "metadata": {},
   "source": [
    "The `.point()` method returns the `[x, y]` coordinates of a point at the specified time on the curve (from 0 to 1):"
   ]
  },
  {
   "cell_type": "code",
   "execution_count": 9,
   "metadata": {},
   "outputs": [],
   "source": [
    "n_pts = 12\n",
    "pts = []\n",
    "for i in range(n_pts + 1):\n",
    "    pts.append(bez.point(i/n_pts))"
   ]
  },
  {
   "cell_type": "code",
   "execution_count": 10,
   "metadata": {},
   "outputs": [
    {
     "data": {
      "text/plain": [
       "[[25.0, 25.0],\n",
       " [51.822916666666664, 32.725694444444436],\n",
       " [70.83333333333334, 43.05555555555556],\n",
       " [83.59375, 55.46875],\n",
       " [91.66666666666667, 69.44444444444444],\n",
       " [96.6145833333333, 84.46180555555554],\n",
       " [100.0, 100.0],\n",
       " [103.38541666666667, 115.53819444444447],\n",
       " [108.33333333333331, 130.55555555555554],\n",
       " [116.40625, 144.53125],\n",
       " [129.16666666666669, 156.94444444444446],\n",
       " [148.17708333333331, 167.27430555555554],\n",
       " [175.0, 175.0]]"
      ]
     },
     "execution_count": 10,
     "metadata": {},
     "output_type": "execute_result"
    }
   ],
   "source": [
    "pts"
   ]
  },
  {
   "cell_type": "code",
   "execution_count": 11,
   "metadata": {},
   "outputs": [
    {
     "data": {
      "image/svg+xml": [
       "<svg height=\"200pt\" version=\"1.1\" width=\"200pt\" xmlns=\"http://www.w3.org/2000/svg\" xmlns:xlink=\"http://www.w3.org/1999/xlink\">\n",
       "<title>Untitled</title>\n",
       "<path d=\"M25,25 C150,50,50,150,175,175\" fill=\"none\" stroke=\"rgba(0,0,0,1)\" stroke-miterlimit=\"10\" stroke-width=\"4\"/>\n",
       "<circle cx=\"25\" cy=\"25\" fill=\"rgba(255,255,255,1)\" r=\"5\" stroke=\"rgba(0,0,0,1)\" stroke-miterlimit=\"10\" stroke-width=\"2\"/>\n",
       "<circle cx=\"51.8229\" cy=\"32.7257\" fill=\"rgba(255,255,255,1)\" r=\"5\" stroke=\"rgba(0,0,0,1)\" stroke-miterlimit=\"10\" stroke-width=\"2\"/>\n",
       "<circle cx=\"70.8333\" cy=\"43.0556\" fill=\"rgba(255,255,255,1)\" r=\"5\" stroke=\"rgba(0,0,0,1)\" stroke-miterlimit=\"10\" stroke-width=\"2\"/>\n",
       "<circle cx=\"83.5938\" cy=\"55.4688\" fill=\"rgba(255,255,255,1)\" r=\"5\" stroke=\"rgba(0,0,0,1)\" stroke-miterlimit=\"10\" stroke-width=\"2\"/>\n",
       "<circle cx=\"91.6667\" cy=\"69.4444\" fill=\"rgba(255,255,255,1)\" r=\"5\" stroke=\"rgba(0,0,0,1)\" stroke-miterlimit=\"10\" stroke-width=\"2\"/>\n",
       "<circle cx=\"96.6146\" cy=\"84.4618\" fill=\"rgba(255,255,255,1)\" r=\"5\" stroke=\"rgba(0,0,0,1)\" stroke-miterlimit=\"10\" stroke-width=\"2\"/>\n",
       "<circle cx=\"100\" cy=\"100\" fill=\"rgba(255,255,255,1)\" r=\"5\" stroke=\"rgba(0,0,0,1)\" stroke-miterlimit=\"10\" stroke-width=\"2\"/>\n",
       "<circle cx=\"103.3854\" cy=\"115.5382\" fill=\"rgba(255,255,255,1)\" r=\"5\" stroke=\"rgba(0,0,0,1)\" stroke-miterlimit=\"10\" stroke-width=\"2\"/>\n",
       "<circle cx=\"108.3333\" cy=\"130.5556\" fill=\"rgba(255,255,255,1)\" r=\"5\" stroke=\"rgba(0,0,0,1)\" stroke-miterlimit=\"10\" stroke-width=\"2\"/>\n",
       "<circle cx=\"116.4062\" cy=\"144.5312\" fill=\"rgba(255,255,255,1)\" r=\"5\" stroke=\"rgba(0,0,0,1)\" stroke-miterlimit=\"10\" stroke-width=\"2\"/>\n",
       "<circle cx=\"129.1667\" cy=\"156.9444\" fill=\"rgba(255,255,255,1)\" r=\"5\" stroke=\"rgba(0,0,0,1)\" stroke-miterlimit=\"10\" stroke-width=\"2\"/>\n",
       "<circle cx=\"148.1771\" cy=\"167.2743\" fill=\"rgba(255,255,255,1)\" r=\"5\" stroke=\"rgba(0,0,0,1)\" stroke-miterlimit=\"10\" stroke-width=\"2\"/>\n",
       "<circle cx=\"175\" cy=\"175\" fill=\"rgba(255,255,255,1)\" r=\"5\" stroke=\"rgba(0,0,0,1)\" stroke-miterlimit=\"10\" stroke-width=\"2\"/>\n",
       "</svg>"
      ],
      "text/plain": [
       "<IPython.core.display.SVG object>"
      ]
     },
     "metadata": {},
     "output_type": "display_data"
    }
   ],
   "source": [
    "d = document(200, 200, 'pt')\n",
    "page = d.addpage()\n",
    "curve_fig = shape().stroke(rgba(0, 0, 0, 255)).nofill().width(4)\n",
    "point_fig = shape().stroke(rgba(0, 0, 0, 255)).fill(rgba(255, 255, 255, 255)).width(2)\n",
    "page.place(curve_fig.path(bez.to_path()))\n",
    "for pt in pts:\n",
    "    page.place(point_fig.circle(*pt, 5))\n",
    "show(page)"
   ]
  },
  {
   "cell_type": "markdown",
   "metadata": {},
   "source": [
    "### Curve offsets\n",
    "\n",
    "The `.offsets()` method returns a polyline with points at the given distance from the curve:"
   ]
  },
  {
   "cell_type": "code",
   "execution_count": 12,
   "metadata": {},
   "outputs": [],
   "source": [
    "offset_p = bez.offsets(np.linspace(4, 16, 12))"
   ]
  },
  {
   "cell_type": "code",
   "execution_count": 13,
   "metadata": {},
   "outputs": [
    {
     "data": {
      "text/plain": [
       "Polyline([[24.2155, 28.9223], [51.8557, 38.2488], [69.6672, 49.9649], [80.1047, 63.1229], [85.8499, 77.5715], [89.0117, 93.4870], [91.4390, 110.7346], [95.2698, 129.0268], [103.1481, 147.8101], [117.6981, 165.5388], [140.3077, 180.1519], [171.8621, 190.6893]])"
      ]
     },
     "execution_count": 13,
     "metadata": {},
     "output_type": "execute_result"
    }
   ],
   "source": [
    "offset_p"
   ]
  },
  {
   "cell_type": "code",
   "execution_count": 14,
   "metadata": {},
   "outputs": [
    {
     "data": {
      "image/svg+xml": [
       "<svg height=\"200pt\" version=\"1.1\" width=\"200pt\" xmlns=\"http://www.w3.org/2000/svg\" xmlns:xlink=\"http://www.w3.org/1999/xlink\">\n",
       "<title>Untitled</title>\n",
       "<path d=\"M25,25 C150,50,50,150,175,175\" fill=\"none\" stroke=\"rgba(0,0,0,1)\" stroke-miterlimit=\"10\" stroke-width=\"4\"/>\n",
       "<polyline fill=\"none\" points=\"24.2155 28.9223 51.8557 38.2488 69.6672 49.9649 80.1047 63.1229 85.8499 77.5715 89.0117 93.487 91.439 110.7346 95.2698 129.0268 103.1481 147.8101 117.6981 165.5388 140.3077 180.1519 171.8621 190.6893\" stroke=\"rgba(0,0,255,1)\" stroke-miterlimit=\"10\" stroke-width=\"2\"/>\n",
       "<circle cx=\"24.2155\" cy=\"28.9223\" fill=\"rgba(255,255,255,1)\" r=\"2\" stroke=\"rgba(0,0,0,1)\" stroke-miterlimit=\"10\" stroke-width=\"2\"/>\n",
       "<circle cx=\"51.8557\" cy=\"38.2488\" fill=\"rgba(255,255,255,1)\" r=\"2\" stroke=\"rgba(0,0,0,1)\" stroke-miterlimit=\"10\" stroke-width=\"2\"/>\n",
       "<circle cx=\"69.6672\" cy=\"49.9649\" fill=\"rgba(255,255,255,1)\" r=\"2\" stroke=\"rgba(0,0,0,1)\" stroke-miterlimit=\"10\" stroke-width=\"2\"/>\n",
       "<circle cx=\"80.1047\" cy=\"63.1229\" fill=\"rgba(255,255,255,1)\" r=\"2\" stroke=\"rgba(0,0,0,1)\" stroke-miterlimit=\"10\" stroke-width=\"2\"/>\n",
       "<circle cx=\"85.8499\" cy=\"77.5715\" fill=\"rgba(255,255,255,1)\" r=\"2\" stroke=\"rgba(0,0,0,1)\" stroke-miterlimit=\"10\" stroke-width=\"2\"/>\n",
       "<circle cx=\"89.0117\" cy=\"93.487\" fill=\"rgba(255,255,255,1)\" r=\"2\" stroke=\"rgba(0,0,0,1)\" stroke-miterlimit=\"10\" stroke-width=\"2\"/>\n",
       "<circle cx=\"91.439\" cy=\"110.7346\" fill=\"rgba(255,255,255,1)\" r=\"2\" stroke=\"rgba(0,0,0,1)\" stroke-miterlimit=\"10\" stroke-width=\"2\"/>\n",
       "<circle cx=\"95.2698\" cy=\"129.0268\" fill=\"rgba(255,255,255,1)\" r=\"2\" stroke=\"rgba(0,0,0,1)\" stroke-miterlimit=\"10\" stroke-width=\"2\"/>\n",
       "<circle cx=\"103.1481\" cy=\"147.8101\" fill=\"rgba(255,255,255,1)\" r=\"2\" stroke=\"rgba(0,0,0,1)\" stroke-miterlimit=\"10\" stroke-width=\"2\"/>\n",
       "<circle cx=\"117.6981\" cy=\"165.5388\" fill=\"rgba(255,255,255,1)\" r=\"2\" stroke=\"rgba(0,0,0,1)\" stroke-miterlimit=\"10\" stroke-width=\"2\"/>\n",
       "<circle cx=\"140.3077\" cy=\"180.1519\" fill=\"rgba(255,255,255,1)\" r=\"2\" stroke=\"rgba(0,0,0,1)\" stroke-miterlimit=\"10\" stroke-width=\"2\"/>\n",
       "<circle cx=\"171.8621\" cy=\"190.6893\" fill=\"rgba(255,255,255,1)\" r=\"2\" stroke=\"rgba(0,0,0,1)\" stroke-miterlimit=\"10\" stroke-width=\"2\"/>\n",
       "</svg>"
      ],
      "text/plain": [
       "<IPython.core.display.SVG object>"
      ]
     },
     "metadata": {},
     "output_type": "display_data"
    }
   ],
   "source": [
    "d = document(200, 200, 'pt')\n",
    "page = d.addpage()\n",
    "curve_fig = shape().stroke(rgba(0, 0, 0, 255)).nofill().width(4)\n",
    "point_fig = shape().stroke(rgba(0, 0, 0, 255)).fill(rgba(255, 255, 255, 255)).width(2)\n",
    "offset_fig = shape().stroke(rgba(0, 0, 255, 255)).nofill().width(2)\n",
    "page.place(curve_fig.path(bez.to_path()))\n",
    "page.place(offset_fig.polyline(offset_p))\n",
    "for pt in offset_p.vertices:\n",
    "    page.place(point_fig.circle(*pt, 2))\n",
    "show(page)"
   ]
  },
  {
   "cell_type": "markdown",
   "metadata": {},
   "source": [
    "The `.offset_polygon()` method returns a polyline with the given offsets on both sides of the curve:"
   ]
  },
  {
   "cell_type": "code",
   "execution_count": 15,
   "metadata": {},
   "outputs": [],
   "source": [
    "poly = bez.offset_polygon(np.linspace(8, 16, 20))"
   ]
  },
  {
   "cell_type": "code",
   "execution_count": 16,
   "metadata": {},
   "outputs": [
    {
     "data": {
      "image/svg+xml": [
       "<svg height=\"200pt\" version=\"1.1\" width=\"200pt\" xmlns=\"http://www.w3.org/2000/svg\" xmlns:xlink=\"http://www.w3.org/1999/xlink\">\n",
       "<title>Untitled</title>\n",
       "<path d=\"M25,25 C150,50,50,150,175,175\" fill=\"none\" stroke=\"rgba(0,0,0,1)\" stroke-miterlimit=\"10\" stroke-width=\"4\"/>\n",
       "<polygon fill=\"rgba(0,0,0,0.1569)\" points=\"25.7845 21.0777 44.2038 25.5347 59.4116 31.2173 71.7833 38.0483 81.6437 45.9288 89.2835 54.6935 95.0172 64.1063 99.225 73.9146 102.3344 83.8999 104.7792 93.8829 106.9755 103.7035 109.3112 113.2051 112.1407 122.2356 115.7854 130.6683 120.5574 138.4393 126.818 145.5625 135.0298 152.0733 145.7246 157.9375 159.419 163.0252 176.5689 167.1554 173.4311 182.8446 154.7157 177.8772 139.2367 171.6368 126.6629 164.2046 116.7233 155.7132 109.1627 146.3908 103.6562 136.5354 99.778 126.4231 97.0527 116.2525 95.0145 106.1594 93.2307 96.2541 91.3017 86.6425 88.8563 77.4267 85.5412 68.69 80.9965 60.4764 74.8149 52.7955 66.5241 45.6738 55.627 39.2085 41.6615 33.5628 24.2155 28.9223\" stroke=\"rgba(0,0,255,1)\" stroke-miterlimit=\"10\" stroke-width=\"2\"/>\n",
       "<circle cx=\"25.7845\" cy=\"21.0777\" fill=\"rgba(255,255,255,1)\" r=\"2\" stroke=\"rgba(0,0,0,1)\" stroke-miterlimit=\"10\" stroke-width=\"2\"/>\n",
       "<circle cx=\"44.2038\" cy=\"25.5347\" fill=\"rgba(255,255,255,1)\" r=\"2\" stroke=\"rgba(0,0,0,1)\" stroke-miterlimit=\"10\" stroke-width=\"2\"/>\n",
       "<circle cx=\"59.4116\" cy=\"31.2173\" fill=\"rgba(255,255,255,1)\" r=\"2\" stroke=\"rgba(0,0,0,1)\" stroke-miterlimit=\"10\" stroke-width=\"2\"/>\n",
       "<circle cx=\"71.7833\" cy=\"38.0483\" fill=\"rgba(255,255,255,1)\" r=\"2\" stroke=\"rgba(0,0,0,1)\" stroke-miterlimit=\"10\" stroke-width=\"2\"/>\n",
       "<circle cx=\"81.6437\" cy=\"45.9288\" fill=\"rgba(255,255,255,1)\" r=\"2\" stroke=\"rgba(0,0,0,1)\" stroke-miterlimit=\"10\" stroke-width=\"2\"/>\n",
       "<circle cx=\"89.2835\" cy=\"54.6935\" fill=\"rgba(255,255,255,1)\" r=\"2\" stroke=\"rgba(0,0,0,1)\" stroke-miterlimit=\"10\" stroke-width=\"2\"/>\n",
       "<circle cx=\"95.0172\" cy=\"64.1063\" fill=\"rgba(255,255,255,1)\" r=\"2\" stroke=\"rgba(0,0,0,1)\" stroke-miterlimit=\"10\" stroke-width=\"2\"/>\n",
       "<circle cx=\"99.225\" cy=\"73.9146\" fill=\"rgba(255,255,255,1)\" r=\"2\" stroke=\"rgba(0,0,0,1)\" stroke-miterlimit=\"10\" stroke-width=\"2\"/>\n",
       "<circle cx=\"102.3344\" cy=\"83.8999\" fill=\"rgba(255,255,255,1)\" r=\"2\" stroke=\"rgba(0,0,0,1)\" stroke-miterlimit=\"10\" stroke-width=\"2\"/>\n",
       "<circle cx=\"104.7792\" cy=\"93.8829\" fill=\"rgba(255,255,255,1)\" r=\"2\" stroke=\"rgba(0,0,0,1)\" stroke-miterlimit=\"10\" stroke-width=\"2\"/>\n",
       "<circle cx=\"106.9755\" cy=\"103.7035\" fill=\"rgba(255,255,255,1)\" r=\"2\" stroke=\"rgba(0,0,0,1)\" stroke-miterlimit=\"10\" stroke-width=\"2\"/>\n",
       "<circle cx=\"109.3112\" cy=\"113.2051\" fill=\"rgba(255,255,255,1)\" r=\"2\" stroke=\"rgba(0,0,0,1)\" stroke-miterlimit=\"10\" stroke-width=\"2\"/>\n",
       "<circle cx=\"112.1407\" cy=\"122.2356\" fill=\"rgba(255,255,255,1)\" r=\"2\" stroke=\"rgba(0,0,0,1)\" stroke-miterlimit=\"10\" stroke-width=\"2\"/>\n",
       "<circle cx=\"115.7854\" cy=\"130.6683\" fill=\"rgba(255,255,255,1)\" r=\"2\" stroke=\"rgba(0,0,0,1)\" stroke-miterlimit=\"10\" stroke-width=\"2\"/>\n",
       "<circle cx=\"120.5574\" cy=\"138.4393\" fill=\"rgba(255,255,255,1)\" r=\"2\" stroke=\"rgba(0,0,0,1)\" stroke-miterlimit=\"10\" stroke-width=\"2\"/>\n",
       "<circle cx=\"126.818\" cy=\"145.5625\" fill=\"rgba(255,255,255,1)\" r=\"2\" stroke=\"rgba(0,0,0,1)\" stroke-miterlimit=\"10\" stroke-width=\"2\"/>\n",
       "<circle cx=\"135.0298\" cy=\"152.0733\" fill=\"rgba(255,255,255,1)\" r=\"2\" stroke=\"rgba(0,0,0,1)\" stroke-miterlimit=\"10\" stroke-width=\"2\"/>\n",
       "<circle cx=\"145.7246\" cy=\"157.9375\" fill=\"rgba(255,255,255,1)\" r=\"2\" stroke=\"rgba(0,0,0,1)\" stroke-miterlimit=\"10\" stroke-width=\"2\"/>\n",
       "<circle cx=\"159.419\" cy=\"163.0252\" fill=\"rgba(255,255,255,1)\" r=\"2\" stroke=\"rgba(0,0,0,1)\" stroke-miterlimit=\"10\" stroke-width=\"2\"/>\n",
       "<circle cx=\"176.5689\" cy=\"167.1554\" fill=\"rgba(255,255,255,1)\" r=\"2\" stroke=\"rgba(0,0,0,1)\" stroke-miterlimit=\"10\" stroke-width=\"2\"/>\n",
       "<circle cx=\"173.4311\" cy=\"182.8446\" fill=\"rgba(255,255,255,1)\" r=\"2\" stroke=\"rgba(0,0,0,1)\" stroke-miterlimit=\"10\" stroke-width=\"2\"/>\n",
       "<circle cx=\"154.7157\" cy=\"177.8772\" fill=\"rgba(255,255,255,1)\" r=\"2\" stroke=\"rgba(0,0,0,1)\" stroke-miterlimit=\"10\" stroke-width=\"2\"/>\n",
       "<circle cx=\"139.2367\" cy=\"171.6368\" fill=\"rgba(255,255,255,1)\" r=\"2\" stroke=\"rgba(0,0,0,1)\" stroke-miterlimit=\"10\" stroke-width=\"2\"/>\n",
       "<circle cx=\"126.6629\" cy=\"164.2046\" fill=\"rgba(255,255,255,1)\" r=\"2\" stroke=\"rgba(0,0,0,1)\" stroke-miterlimit=\"10\" stroke-width=\"2\"/>\n",
       "<circle cx=\"116.7233\" cy=\"155.7132\" fill=\"rgba(255,255,255,1)\" r=\"2\" stroke=\"rgba(0,0,0,1)\" stroke-miterlimit=\"10\" stroke-width=\"2\"/>\n",
       "<circle cx=\"109.1627\" cy=\"146.3908\" fill=\"rgba(255,255,255,1)\" r=\"2\" stroke=\"rgba(0,0,0,1)\" stroke-miterlimit=\"10\" stroke-width=\"2\"/>\n",
       "<circle cx=\"103.6562\" cy=\"136.5354\" fill=\"rgba(255,255,255,1)\" r=\"2\" stroke=\"rgba(0,0,0,1)\" stroke-miterlimit=\"10\" stroke-width=\"2\"/>\n",
       "<circle cx=\"99.778\" cy=\"126.4231\" fill=\"rgba(255,255,255,1)\" r=\"2\" stroke=\"rgba(0,0,0,1)\" stroke-miterlimit=\"10\" stroke-width=\"2\"/>\n",
       "<circle cx=\"97.0527\" cy=\"116.2525\" fill=\"rgba(255,255,255,1)\" r=\"2\" stroke=\"rgba(0,0,0,1)\" stroke-miterlimit=\"10\" stroke-width=\"2\"/>\n",
       "<circle cx=\"95.0145\" cy=\"106.1594\" fill=\"rgba(255,255,255,1)\" r=\"2\" stroke=\"rgba(0,0,0,1)\" stroke-miterlimit=\"10\" stroke-width=\"2\"/>\n",
       "<circle cx=\"93.2307\" cy=\"96.2541\" fill=\"rgba(255,255,255,1)\" r=\"2\" stroke=\"rgba(0,0,0,1)\" stroke-miterlimit=\"10\" stroke-width=\"2\"/>\n",
       "<circle cx=\"91.3017\" cy=\"86.6425\" fill=\"rgba(255,255,255,1)\" r=\"2\" stroke=\"rgba(0,0,0,1)\" stroke-miterlimit=\"10\" stroke-width=\"2\"/>\n",
       "<circle cx=\"88.8563\" cy=\"77.4267\" fill=\"rgba(255,255,255,1)\" r=\"2\" stroke=\"rgba(0,0,0,1)\" stroke-miterlimit=\"10\" stroke-width=\"2\"/>\n",
       "<circle cx=\"85.5412\" cy=\"68.69\" fill=\"rgba(255,255,255,1)\" r=\"2\" stroke=\"rgba(0,0,0,1)\" stroke-miterlimit=\"10\" stroke-width=\"2\"/>\n",
       "<circle cx=\"80.9965\" cy=\"60.4764\" fill=\"rgba(255,255,255,1)\" r=\"2\" stroke=\"rgba(0,0,0,1)\" stroke-miterlimit=\"10\" stroke-width=\"2\"/>\n",
       "<circle cx=\"74.8149\" cy=\"52.7955\" fill=\"rgba(255,255,255,1)\" r=\"2\" stroke=\"rgba(0,0,0,1)\" stroke-miterlimit=\"10\" stroke-width=\"2\"/>\n",
       "<circle cx=\"66.5241\" cy=\"45.6738\" fill=\"rgba(255,255,255,1)\" r=\"2\" stroke=\"rgba(0,0,0,1)\" stroke-miterlimit=\"10\" stroke-width=\"2\"/>\n",
       "<circle cx=\"55.627\" cy=\"39.2085\" fill=\"rgba(255,255,255,1)\" r=\"2\" stroke=\"rgba(0,0,0,1)\" stroke-miterlimit=\"10\" stroke-width=\"2\"/>\n",
       "<circle cx=\"41.6615\" cy=\"33.5628\" fill=\"rgba(255,255,255,1)\" r=\"2\" stroke=\"rgba(0,0,0,1)\" stroke-miterlimit=\"10\" stroke-width=\"2\"/>\n",
       "<circle cx=\"24.2155\" cy=\"28.9223\" fill=\"rgba(255,255,255,1)\" r=\"2\" stroke=\"rgba(0,0,0,1)\" stroke-miterlimit=\"10\" stroke-width=\"2\"/>\n",
       "</svg>"
      ],
      "text/plain": [
       "<IPython.core.display.SVG object>"
      ]
     },
     "metadata": {},
     "output_type": "display_data"
    }
   ],
   "source": [
    "d = document(200, 200, 'pt')\n",
    "page = d.addpage()\n",
    "curve_fig = shape().stroke(rgba(0, 0, 0, 255)).nofill().width(4)\n",
    "point_fig = shape().stroke(rgba(0, 0, 0, 255)).fill(rgba(255, 255, 255, 255)).width(2)\n",
    "offset_fig = shape().stroke(rgba(0, 0, 255, 255)).fill(rgba(0, 0, 0, 40)).width(2)\n",
    "page.place(curve_fig.path(bez.to_path()))\n",
    "page.place(offset_fig.polygon(poly))\n",
    "for pt in poly.vertices:\n",
    "    page.place(point_fig.circle(*pt, 2))\n",
    "show(page)"
   ]
  },
  {
   "cell_type": "markdown",
   "metadata": {},
   "source": [
    "The `QuadraticBezier` class has the same interface as `Bezier`, and operates on quadratic Béziers (only one control point) instead of cubic Béziers:"
   ]
  },
  {
   "cell_type": "code",
   "execution_count": 17,
   "metadata": {},
   "outputs": [],
   "source": [
    "qbez = QuadraticBezier(\n",
    "    [25, 25], # start\n",
    "    [150, 50], # control point 1\n",
    "    [50, 150] # end\n",
    ")\n",
    "qpoly = qbez.offset_polygon(np.linspace(8, 16, 20))"
   ]
  },
  {
   "cell_type": "code",
   "execution_count": 18,
   "metadata": {},
   "outputs": [
    {
     "data": {
      "image/svg+xml": [
       "<svg height=\"200pt\" version=\"1.1\" width=\"200pt\" xmlns=\"http://www.w3.org/2000/svg\" xmlns:xlink=\"http://www.w3.org/1999/xlink\">\n",
       "<title>Untitled</title>\n",
       "<path d=\"M25,25 Q150,50,50,150\" fill=\"none\" stroke=\"rgba(0,0,0,1)\" stroke-miterlimit=\"10\" stroke-width=\"4\"/>\n",
       "<polygon fill=\"rgba(0,0,0,0.1569)\" points=\"25.4295 21.0231 38.2215 23.6852 49.8386 26.7914 60.2982 30.3605 69.6182 34.4222 77.8111 39.0215 84.8705 44.2183 90.7511 50.0742 95.3579 56.6158 98.5746 63.7927 100.3269 71.4822 100.6197 79.554 99.5112 87.9284 97.0662 96.5826 93.3329 105.5269 88.3403 114.7832 82.1035 124.3735 74.6297 134.3165 65.9214 144.6266 55.9793 155.3149 44.0207 144.6851 53.8847 134.7362 62.4895 125.2403 69.8356 116.2082 75.9256 107.6545 80.7668 99.5977 84.3742 92.06 86.7769 85.0633 88.0229 78.6178 88.1773 72.7006 87.298 67.2322 85.39 62.0822 82.3791 57.128 78.1489 52.3191 72.6044 47.6821 65.7004 43.2786 57.4304 39.1686 47.8068 35.3969 36.8477 31.9935 24.5705 28.9769\" stroke=\"rgba(0,0,255,1)\" stroke-miterlimit=\"10\" stroke-width=\"2\"/>\n",
       "<circle cx=\"25.4295\" cy=\"21.0231\" fill=\"rgba(255,255,255,1)\" r=\"2\" stroke=\"rgba(0,0,0,1)\" stroke-miterlimit=\"10\" stroke-width=\"2\"/>\n",
       "<circle cx=\"38.2215\" cy=\"23.6852\" fill=\"rgba(255,255,255,1)\" r=\"2\" stroke=\"rgba(0,0,0,1)\" stroke-miterlimit=\"10\" stroke-width=\"2\"/>\n",
       "<circle cx=\"49.8386\" cy=\"26.7914\" fill=\"rgba(255,255,255,1)\" r=\"2\" stroke=\"rgba(0,0,0,1)\" stroke-miterlimit=\"10\" stroke-width=\"2\"/>\n",
       "<circle cx=\"60.2982\" cy=\"30.3605\" fill=\"rgba(255,255,255,1)\" r=\"2\" stroke=\"rgba(0,0,0,1)\" stroke-miterlimit=\"10\" stroke-width=\"2\"/>\n",
       "<circle cx=\"69.6182\" cy=\"34.4222\" fill=\"rgba(255,255,255,1)\" r=\"2\" stroke=\"rgba(0,0,0,1)\" stroke-miterlimit=\"10\" stroke-width=\"2\"/>\n",
       "<circle cx=\"77.8111\" cy=\"39.0215\" fill=\"rgba(255,255,255,1)\" r=\"2\" stroke=\"rgba(0,0,0,1)\" stroke-miterlimit=\"10\" stroke-width=\"2\"/>\n",
       "<circle cx=\"84.8705\" cy=\"44.2183\" fill=\"rgba(255,255,255,1)\" r=\"2\" stroke=\"rgba(0,0,0,1)\" stroke-miterlimit=\"10\" stroke-width=\"2\"/>\n",
       "<circle cx=\"90.7511\" cy=\"50.0742\" fill=\"rgba(255,255,255,1)\" r=\"2\" stroke=\"rgba(0,0,0,1)\" stroke-miterlimit=\"10\" stroke-width=\"2\"/>\n",
       "<circle cx=\"95.3579\" cy=\"56.6158\" fill=\"rgba(255,255,255,1)\" r=\"2\" stroke=\"rgba(0,0,0,1)\" stroke-miterlimit=\"10\" stroke-width=\"2\"/>\n",
       "<circle cx=\"98.5746\" cy=\"63.7927\" fill=\"rgba(255,255,255,1)\" r=\"2\" stroke=\"rgba(0,0,0,1)\" stroke-miterlimit=\"10\" stroke-width=\"2\"/>\n",
       "<circle cx=\"100.3269\" cy=\"71.4822\" fill=\"rgba(255,255,255,1)\" r=\"2\" stroke=\"rgba(0,0,0,1)\" stroke-miterlimit=\"10\" stroke-width=\"2\"/>\n",
       "<circle cx=\"100.6197\" cy=\"79.554\" fill=\"rgba(255,255,255,1)\" r=\"2\" stroke=\"rgba(0,0,0,1)\" stroke-miterlimit=\"10\" stroke-width=\"2\"/>\n",
       "<circle cx=\"99.5112\" cy=\"87.9284\" fill=\"rgba(255,255,255,1)\" r=\"2\" stroke=\"rgba(0,0,0,1)\" stroke-miterlimit=\"10\" stroke-width=\"2\"/>\n",
       "<circle cx=\"97.0662\" cy=\"96.5826\" fill=\"rgba(255,255,255,1)\" r=\"2\" stroke=\"rgba(0,0,0,1)\" stroke-miterlimit=\"10\" stroke-width=\"2\"/>\n",
       "<circle cx=\"93.3329\" cy=\"105.5269\" fill=\"rgba(255,255,255,1)\" r=\"2\" stroke=\"rgba(0,0,0,1)\" stroke-miterlimit=\"10\" stroke-width=\"2\"/>\n",
       "<circle cx=\"88.3403\" cy=\"114.7832\" fill=\"rgba(255,255,255,1)\" r=\"2\" stroke=\"rgba(0,0,0,1)\" stroke-miterlimit=\"10\" stroke-width=\"2\"/>\n",
       "<circle cx=\"82.1035\" cy=\"124.3735\" fill=\"rgba(255,255,255,1)\" r=\"2\" stroke=\"rgba(0,0,0,1)\" stroke-miterlimit=\"10\" stroke-width=\"2\"/>\n",
       "<circle cx=\"74.6297\" cy=\"134.3165\" fill=\"rgba(255,255,255,1)\" r=\"2\" stroke=\"rgba(0,0,0,1)\" stroke-miterlimit=\"10\" stroke-width=\"2\"/>\n",
       "<circle cx=\"65.9214\" cy=\"144.6266\" fill=\"rgba(255,255,255,1)\" r=\"2\" stroke=\"rgba(0,0,0,1)\" stroke-miterlimit=\"10\" stroke-width=\"2\"/>\n",
       "<circle cx=\"55.9793\" cy=\"155.3149\" fill=\"rgba(255,255,255,1)\" r=\"2\" stroke=\"rgba(0,0,0,1)\" stroke-miterlimit=\"10\" stroke-width=\"2\"/>\n",
       "<circle cx=\"44.0207\" cy=\"144.6851\" fill=\"rgba(255,255,255,1)\" r=\"2\" stroke=\"rgba(0,0,0,1)\" stroke-miterlimit=\"10\" stroke-width=\"2\"/>\n",
       "<circle cx=\"53.8847\" cy=\"134.7362\" fill=\"rgba(255,255,255,1)\" r=\"2\" stroke=\"rgba(0,0,0,1)\" stroke-miterlimit=\"10\" stroke-width=\"2\"/>\n",
       "<circle cx=\"62.4895\" cy=\"125.2403\" fill=\"rgba(255,255,255,1)\" r=\"2\" stroke=\"rgba(0,0,0,1)\" stroke-miterlimit=\"10\" stroke-width=\"2\"/>\n",
       "<circle cx=\"69.8356\" cy=\"116.2082\" fill=\"rgba(255,255,255,1)\" r=\"2\" stroke=\"rgba(0,0,0,1)\" stroke-miterlimit=\"10\" stroke-width=\"2\"/>\n",
       "<circle cx=\"75.9256\" cy=\"107.6545\" fill=\"rgba(255,255,255,1)\" r=\"2\" stroke=\"rgba(0,0,0,1)\" stroke-miterlimit=\"10\" stroke-width=\"2\"/>\n",
       "<circle cx=\"80.7668\" cy=\"99.5977\" fill=\"rgba(255,255,255,1)\" r=\"2\" stroke=\"rgba(0,0,0,1)\" stroke-miterlimit=\"10\" stroke-width=\"2\"/>\n",
       "<circle cx=\"84.3742\" cy=\"92.06\" fill=\"rgba(255,255,255,1)\" r=\"2\" stroke=\"rgba(0,0,0,1)\" stroke-miterlimit=\"10\" stroke-width=\"2\"/>\n",
       "<circle cx=\"86.7769\" cy=\"85.0633\" fill=\"rgba(255,255,255,1)\" r=\"2\" stroke=\"rgba(0,0,0,1)\" stroke-miterlimit=\"10\" stroke-width=\"2\"/>\n",
       "<circle cx=\"88.0229\" cy=\"78.6178\" fill=\"rgba(255,255,255,1)\" r=\"2\" stroke=\"rgba(0,0,0,1)\" stroke-miterlimit=\"10\" stroke-width=\"2\"/>\n",
       "<circle cx=\"88.1773\" cy=\"72.7006\" fill=\"rgba(255,255,255,1)\" r=\"2\" stroke=\"rgba(0,0,0,1)\" stroke-miterlimit=\"10\" stroke-width=\"2\"/>\n",
       "<circle cx=\"87.298\" cy=\"67.2322\" fill=\"rgba(255,255,255,1)\" r=\"2\" stroke=\"rgba(0,0,0,1)\" stroke-miterlimit=\"10\" stroke-width=\"2\"/>\n",
       "<circle cx=\"85.39\" cy=\"62.0822\" fill=\"rgba(255,255,255,1)\" r=\"2\" stroke=\"rgba(0,0,0,1)\" stroke-miterlimit=\"10\" stroke-width=\"2\"/>\n",
       "<circle cx=\"82.3791\" cy=\"57.128\" fill=\"rgba(255,255,255,1)\" r=\"2\" stroke=\"rgba(0,0,0,1)\" stroke-miterlimit=\"10\" stroke-width=\"2\"/>\n",
       "<circle cx=\"78.1489\" cy=\"52.3191\" fill=\"rgba(255,255,255,1)\" r=\"2\" stroke=\"rgba(0,0,0,1)\" stroke-miterlimit=\"10\" stroke-width=\"2\"/>\n",
       "<circle cx=\"72.6044\" cy=\"47.6821\" fill=\"rgba(255,255,255,1)\" r=\"2\" stroke=\"rgba(0,0,0,1)\" stroke-miterlimit=\"10\" stroke-width=\"2\"/>\n",
       "<circle cx=\"65.7004\" cy=\"43.2786\" fill=\"rgba(255,255,255,1)\" r=\"2\" stroke=\"rgba(0,0,0,1)\" stroke-miterlimit=\"10\" stroke-width=\"2\"/>\n",
       "<circle cx=\"57.4304\" cy=\"39.1686\" fill=\"rgba(255,255,255,1)\" r=\"2\" stroke=\"rgba(0,0,0,1)\" stroke-miterlimit=\"10\" stroke-width=\"2\"/>\n",
       "<circle cx=\"47.8068\" cy=\"35.3969\" fill=\"rgba(255,255,255,1)\" r=\"2\" stroke=\"rgba(0,0,0,1)\" stroke-miterlimit=\"10\" stroke-width=\"2\"/>\n",
       "<circle cx=\"36.8477\" cy=\"31.9935\" fill=\"rgba(255,255,255,1)\" r=\"2\" stroke=\"rgba(0,0,0,1)\" stroke-miterlimit=\"10\" stroke-width=\"2\"/>\n",
       "<circle cx=\"24.5705\" cy=\"28.9769\" fill=\"rgba(255,255,255,1)\" r=\"2\" stroke=\"rgba(0,0,0,1)\" stroke-miterlimit=\"10\" stroke-width=\"2\"/>\n",
       "</svg>"
      ],
      "text/plain": [
       "<IPython.core.display.SVG object>"
      ]
     },
     "metadata": {},
     "output_type": "display_data"
    }
   ],
   "source": [
    "d = document(200, 200, 'pt')\n",
    "page = d.addpage()\n",
    "curve_fig = shape().stroke(rgba(0, 0, 0, 255)).nofill().width(4)\n",
    "point_fig = shape().stroke(rgba(0, 0, 0, 255)).fill(rgba(255, 255, 255, 255)).width(2)\n",
    "offset_fig = shape().stroke(rgba(0, 0, 255, 255)).fill(rgba(0, 0, 0, 40)).width(2)\n",
    "page.place(curve_fig.path(qbez.to_path()))\n",
    "page.place(offset_fig.polygon(qpoly))\n",
    "for pt in qpoly.vertices:\n",
    "    page.place(point_fig.circle(*pt, 2))\n",
    "show(page)"
   ]
  },
  {
   "cell_type": "markdown",
   "metadata": {},
   "source": [
    "## Polylines\n",
    "\n",
    "A `Polyline` object stores a sequence of points. The object has a special iteration handler, which makes it possible to pass the object directly to Flat's `.polyline()` method:"
   ]
  },
  {
   "cell_type": "code",
   "execution_count": 19,
   "metadata": {},
   "outputs": [],
   "source": [
    "random_p = Polyline([[np.random.uniform(25, 175), np.random.uniform(25, 175)] for i in range(12)])"
   ]
  },
  {
   "cell_type": "markdown",
   "metadata": {},
   "source": [
    "You can access a `Polyline`'s vertices directly as a `numpy` array with `.vertices`:"
   ]
  },
  {
   "cell_type": "code",
   "execution_count": 20,
   "metadata": {
    "scrolled": true
   },
   "outputs": [
    {
     "data": {
      "text/plain": [
       "[[132.5823147118256, 124.06611678207625],\n",
       " [96.0786627538417, 44.8869294846395],\n",
       " [133.7859674469351, 102.94794459210314],\n",
       " [81.79674478996444, 37.986757283268666],\n",
       " [103.10633428973782, 47.60589257676011],\n",
       " [41.972396504227106, 67.25275339465017],\n",
       " [77.10768466471563, 98.5797255553185],\n",
       " [100.80158913286196, 78.70364380500095],\n",
       " [86.33859729100406, 109.42405113851056],\n",
       " [171.0351579539322, 144.3592514176965],\n",
       " [159.4636925338659, 28.122350983645315],\n",
       " [113.34337413799196, 96.20483149859386]]"
      ]
     },
     "execution_count": 20,
     "metadata": {},
     "output_type": "execute_result"
    }
   ],
   "source": [
    "random_p.vertices.tolist()"
   ]
  },
  {
   "cell_type": "code",
   "execution_count": 21,
   "metadata": {},
   "outputs": [
    {
     "data": {
      "image/svg+xml": [
       "<svg height=\"200pt\" version=\"1.1\" width=\"200pt\" xmlns=\"http://www.w3.org/2000/svg\" xmlns:xlink=\"http://www.w3.org/1999/xlink\">\n",
       "<title>Untitled</title>\n",
       "<polyline fill=\"none\" points=\"132.5823 124.0661 96.0787 44.8869 133.786 102.9479 81.7967 37.9868 103.1063 47.6059 41.9724 67.2528 77.1077 98.5797 100.8016 78.7036 86.3386 109.4241 171.0352 144.3593 159.4637 28.1224 113.3434 96.2048\" stroke=\"rgba(0,0,0,1)\" stroke-miterlimit=\"10\"/>\n",
       "<circle cx=\"132.5823\" cy=\"124.0661\" fill=\"rgba(255,255,255,1)\" r=\"2\" stroke=\"rgba(0,0,0,1)\" stroke-miterlimit=\"10\"/>\n",
       "<circle cx=\"96.0787\" cy=\"44.8869\" fill=\"rgba(255,255,255,1)\" r=\"2\" stroke=\"rgba(0,0,0,1)\" stroke-miterlimit=\"10\"/>\n",
       "<circle cx=\"133.786\" cy=\"102.9479\" fill=\"rgba(255,255,255,1)\" r=\"2\" stroke=\"rgba(0,0,0,1)\" stroke-miterlimit=\"10\"/>\n",
       "<circle cx=\"81.7967\" cy=\"37.9868\" fill=\"rgba(255,255,255,1)\" r=\"2\" stroke=\"rgba(0,0,0,1)\" stroke-miterlimit=\"10\"/>\n",
       "<circle cx=\"103.1063\" cy=\"47.6059\" fill=\"rgba(255,255,255,1)\" r=\"2\" stroke=\"rgba(0,0,0,1)\" stroke-miterlimit=\"10\"/>\n",
       "<circle cx=\"41.9724\" cy=\"67.2528\" fill=\"rgba(255,255,255,1)\" r=\"2\" stroke=\"rgba(0,0,0,1)\" stroke-miterlimit=\"10\"/>\n",
       "<circle cx=\"77.1077\" cy=\"98.5797\" fill=\"rgba(255,255,255,1)\" r=\"2\" stroke=\"rgba(0,0,0,1)\" stroke-miterlimit=\"10\"/>\n",
       "<circle cx=\"100.8016\" cy=\"78.7036\" fill=\"rgba(255,255,255,1)\" r=\"2\" stroke=\"rgba(0,0,0,1)\" stroke-miterlimit=\"10\"/>\n",
       "<circle cx=\"86.3386\" cy=\"109.4241\" fill=\"rgba(255,255,255,1)\" r=\"2\" stroke=\"rgba(0,0,0,1)\" stroke-miterlimit=\"10\"/>\n",
       "<circle cx=\"171.0352\" cy=\"144.3593\" fill=\"rgba(255,255,255,1)\" r=\"2\" stroke=\"rgba(0,0,0,1)\" stroke-miterlimit=\"10\"/>\n",
       "<circle cx=\"159.4637\" cy=\"28.1224\" fill=\"rgba(255,255,255,1)\" r=\"2\" stroke=\"rgba(0,0,0,1)\" stroke-miterlimit=\"10\"/>\n",
       "<circle cx=\"113.3434\" cy=\"96.2048\" fill=\"rgba(255,255,255,1)\" r=\"2\" stroke=\"rgba(0,0,0,1)\" stroke-miterlimit=\"10\"/>\n",
       "</svg>"
      ],
      "text/plain": [
       "<IPython.core.display.SVG object>"
      ]
     },
     "metadata": {},
     "output_type": "display_data"
    }
   ],
   "source": [
    "d = document(200, 200, 'pt')\n",
    "page = d.addpage()\n",
    "line_fig = shape().stroke(rgba(0, 0, 0, 255)).nofill().width(1)\n",
    "point_fig = shape().stroke(rgba(0, 0, 0, 255)).fill(rgba(255, 255, 255, 255)).width(1)\n",
    "page.place(line_fig.polyline(random_p))\n",
    "for pt in random_p.vertices:\n",
    "    page.place(point_fig.circle(*pt, 2))\n",
    "show(page)"
   ]
  },
  {
   "cell_type": "markdown",
   "metadata": {},
   "source": [
    "The `.resample()` method of a `Polyline` returns a new `Polyline` where each constituent line has been replaced with the specified number of points along that line:"
   ]
  },
  {
   "cell_type": "code",
   "execution_count": 22,
   "metadata": {},
   "outputs": [],
   "source": [
    "resampled = random_p.resample(4)"
   ]
  },
  {
   "cell_type": "code",
   "execution_count": 23,
   "metadata": {},
   "outputs": [
    {
     "data": {
      "image/svg+xml": [
       "<svg height=\"200pt\" version=\"1.1\" width=\"200pt\" xmlns=\"http://www.w3.org/2000/svg\" xmlns:xlink=\"http://www.w3.org/1999/xlink\">\n",
       "<title>Untitled</title>\n",
       "<polyline fill=\"none\" points=\"132.5823 124.0661 123.4564 104.2713 114.3305 84.4765 105.2046 64.6817 96.0787 44.8869 105.5055 59.4022 114.9323 73.9174 124.3591 88.4327 133.786 102.9479 120.7887 86.7076 107.7914 70.4674 94.7941 54.2271 81.7967 37.9868 87.1241 40.3915 92.4515 42.7963 97.7789 45.2011 103.1063 47.6059 87.8228 52.5176 72.5394 57.4293 57.2559 62.341 41.9724 67.2528 50.7562 75.0845 59.54 82.9162 68.3239 90.748 77.1077 98.5797 83.0312 93.6107 88.9546 88.6417 94.8781 83.6727 100.8016 78.7036 97.1858 86.3837 93.5701 94.0638 89.9543 101.7439 86.3386 109.4241 107.5127 118.1579 128.6869 126.8917 149.861 135.6255 171.0352 144.3593 168.1423 115.3 165.2494 86.2408 162.3566 57.1816 159.4637 28.1224 144.0903 50.8165 128.7168 73.5107 113.3434 96.2048\" stroke=\"rgba(0,0,0,1)\" stroke-miterlimit=\"10\"/>\n",
       "<circle cx=\"132.5823\" cy=\"124.0661\" fill=\"rgba(255,255,255,1)\" r=\"2\" stroke=\"rgba(0,0,0,1)\" stroke-miterlimit=\"10\"/>\n",
       "<circle cx=\"123.4564\" cy=\"104.2713\" fill=\"rgba(255,255,255,1)\" r=\"2\" stroke=\"rgba(0,0,0,1)\" stroke-miterlimit=\"10\"/>\n",
       "<circle cx=\"114.3305\" cy=\"84.4765\" fill=\"rgba(255,255,255,1)\" r=\"2\" stroke=\"rgba(0,0,0,1)\" stroke-miterlimit=\"10\"/>\n",
       "<circle cx=\"105.2046\" cy=\"64.6817\" fill=\"rgba(255,255,255,1)\" r=\"2\" stroke=\"rgba(0,0,0,1)\" stroke-miterlimit=\"10\"/>\n",
       "<circle cx=\"96.0787\" cy=\"44.8869\" fill=\"rgba(255,255,255,1)\" r=\"2\" stroke=\"rgba(0,0,0,1)\" stroke-miterlimit=\"10\"/>\n",
       "<circle cx=\"105.5055\" cy=\"59.4022\" fill=\"rgba(255,255,255,1)\" r=\"2\" stroke=\"rgba(0,0,0,1)\" stroke-miterlimit=\"10\"/>\n",
       "<circle cx=\"114.9323\" cy=\"73.9174\" fill=\"rgba(255,255,255,1)\" r=\"2\" stroke=\"rgba(0,0,0,1)\" stroke-miterlimit=\"10\"/>\n",
       "<circle cx=\"124.3591\" cy=\"88.4327\" fill=\"rgba(255,255,255,1)\" r=\"2\" stroke=\"rgba(0,0,0,1)\" stroke-miterlimit=\"10\"/>\n",
       "<circle cx=\"133.786\" cy=\"102.9479\" fill=\"rgba(255,255,255,1)\" r=\"2\" stroke=\"rgba(0,0,0,1)\" stroke-miterlimit=\"10\"/>\n",
       "<circle cx=\"120.7887\" cy=\"86.7076\" fill=\"rgba(255,255,255,1)\" r=\"2\" stroke=\"rgba(0,0,0,1)\" stroke-miterlimit=\"10\"/>\n",
       "<circle cx=\"107.7914\" cy=\"70.4674\" fill=\"rgba(255,255,255,1)\" r=\"2\" stroke=\"rgba(0,0,0,1)\" stroke-miterlimit=\"10\"/>\n",
       "<circle cx=\"94.7941\" cy=\"54.2271\" fill=\"rgba(255,255,255,1)\" r=\"2\" stroke=\"rgba(0,0,0,1)\" stroke-miterlimit=\"10\"/>\n",
       "<circle cx=\"81.7967\" cy=\"37.9868\" fill=\"rgba(255,255,255,1)\" r=\"2\" stroke=\"rgba(0,0,0,1)\" stroke-miterlimit=\"10\"/>\n",
       "<circle cx=\"87.1241\" cy=\"40.3915\" fill=\"rgba(255,255,255,1)\" r=\"2\" stroke=\"rgba(0,0,0,1)\" stroke-miterlimit=\"10\"/>\n",
       "<circle cx=\"92.4515\" cy=\"42.7963\" fill=\"rgba(255,255,255,1)\" r=\"2\" stroke=\"rgba(0,0,0,1)\" stroke-miterlimit=\"10\"/>\n",
       "<circle cx=\"97.7789\" cy=\"45.2011\" fill=\"rgba(255,255,255,1)\" r=\"2\" stroke=\"rgba(0,0,0,1)\" stroke-miterlimit=\"10\"/>\n",
       "<circle cx=\"103.1063\" cy=\"47.6059\" fill=\"rgba(255,255,255,1)\" r=\"2\" stroke=\"rgba(0,0,0,1)\" stroke-miterlimit=\"10\"/>\n",
       "<circle cx=\"87.8228\" cy=\"52.5176\" fill=\"rgba(255,255,255,1)\" r=\"2\" stroke=\"rgba(0,0,0,1)\" stroke-miterlimit=\"10\"/>\n",
       "<circle cx=\"72.5394\" cy=\"57.4293\" fill=\"rgba(255,255,255,1)\" r=\"2\" stroke=\"rgba(0,0,0,1)\" stroke-miterlimit=\"10\"/>\n",
       "<circle cx=\"57.2559\" cy=\"62.341\" fill=\"rgba(255,255,255,1)\" r=\"2\" stroke=\"rgba(0,0,0,1)\" stroke-miterlimit=\"10\"/>\n",
       "<circle cx=\"41.9724\" cy=\"67.2528\" fill=\"rgba(255,255,255,1)\" r=\"2\" stroke=\"rgba(0,0,0,1)\" stroke-miterlimit=\"10\"/>\n",
       "<circle cx=\"50.7562\" cy=\"75.0845\" fill=\"rgba(255,255,255,1)\" r=\"2\" stroke=\"rgba(0,0,0,1)\" stroke-miterlimit=\"10\"/>\n",
       "<circle cx=\"59.54\" cy=\"82.9162\" fill=\"rgba(255,255,255,1)\" r=\"2\" stroke=\"rgba(0,0,0,1)\" stroke-miterlimit=\"10\"/>\n",
       "<circle cx=\"68.3239\" cy=\"90.748\" fill=\"rgba(255,255,255,1)\" r=\"2\" stroke=\"rgba(0,0,0,1)\" stroke-miterlimit=\"10\"/>\n",
       "<circle cx=\"77.1077\" cy=\"98.5797\" fill=\"rgba(255,255,255,1)\" r=\"2\" stroke=\"rgba(0,0,0,1)\" stroke-miterlimit=\"10\"/>\n",
       "<circle cx=\"83.0312\" cy=\"93.6107\" fill=\"rgba(255,255,255,1)\" r=\"2\" stroke=\"rgba(0,0,0,1)\" stroke-miterlimit=\"10\"/>\n",
       "<circle cx=\"88.9546\" cy=\"88.6417\" fill=\"rgba(255,255,255,1)\" r=\"2\" stroke=\"rgba(0,0,0,1)\" stroke-miterlimit=\"10\"/>\n",
       "<circle cx=\"94.8781\" cy=\"83.6727\" fill=\"rgba(255,255,255,1)\" r=\"2\" stroke=\"rgba(0,0,0,1)\" stroke-miterlimit=\"10\"/>\n",
       "<circle cx=\"100.8016\" cy=\"78.7036\" fill=\"rgba(255,255,255,1)\" r=\"2\" stroke=\"rgba(0,0,0,1)\" stroke-miterlimit=\"10\"/>\n",
       "<circle cx=\"97.1858\" cy=\"86.3837\" fill=\"rgba(255,255,255,1)\" r=\"2\" stroke=\"rgba(0,0,0,1)\" stroke-miterlimit=\"10\"/>\n",
       "<circle cx=\"93.5701\" cy=\"94.0638\" fill=\"rgba(255,255,255,1)\" r=\"2\" stroke=\"rgba(0,0,0,1)\" stroke-miterlimit=\"10\"/>\n",
       "<circle cx=\"89.9543\" cy=\"101.7439\" fill=\"rgba(255,255,255,1)\" r=\"2\" stroke=\"rgba(0,0,0,1)\" stroke-miterlimit=\"10\"/>\n",
       "<circle cx=\"86.3386\" cy=\"109.4241\" fill=\"rgba(255,255,255,1)\" r=\"2\" stroke=\"rgba(0,0,0,1)\" stroke-miterlimit=\"10\"/>\n",
       "<circle cx=\"107.5127\" cy=\"118.1579\" fill=\"rgba(255,255,255,1)\" r=\"2\" stroke=\"rgba(0,0,0,1)\" stroke-miterlimit=\"10\"/>\n",
       "<circle cx=\"128.6869\" cy=\"126.8917\" fill=\"rgba(255,255,255,1)\" r=\"2\" stroke=\"rgba(0,0,0,1)\" stroke-miterlimit=\"10\"/>\n",
       "<circle cx=\"149.861\" cy=\"135.6255\" fill=\"rgba(255,255,255,1)\" r=\"2\" stroke=\"rgba(0,0,0,1)\" stroke-miterlimit=\"10\"/>\n",
       "<circle cx=\"171.0352\" cy=\"144.3593\" fill=\"rgba(255,255,255,1)\" r=\"2\" stroke=\"rgba(0,0,0,1)\" stroke-miterlimit=\"10\"/>\n",
       "<circle cx=\"168.1423\" cy=\"115.3\" fill=\"rgba(255,255,255,1)\" r=\"2\" stroke=\"rgba(0,0,0,1)\" stroke-miterlimit=\"10\"/>\n",
       "<circle cx=\"165.2494\" cy=\"86.2408\" fill=\"rgba(255,255,255,1)\" r=\"2\" stroke=\"rgba(0,0,0,1)\" stroke-miterlimit=\"10\"/>\n",
       "<circle cx=\"162.3566\" cy=\"57.1816\" fill=\"rgba(255,255,255,1)\" r=\"2\" stroke=\"rgba(0,0,0,1)\" stroke-miterlimit=\"10\"/>\n",
       "<circle cx=\"159.4637\" cy=\"28.1224\" fill=\"rgba(255,255,255,1)\" r=\"2\" stroke=\"rgba(0,0,0,1)\" stroke-miterlimit=\"10\"/>\n",
       "<circle cx=\"144.0903\" cy=\"50.8165\" fill=\"rgba(255,255,255,1)\" r=\"2\" stroke=\"rgba(0,0,0,1)\" stroke-miterlimit=\"10\"/>\n",
       "<circle cx=\"128.7168\" cy=\"73.5107\" fill=\"rgba(255,255,255,1)\" r=\"2\" stroke=\"rgba(0,0,0,1)\" stroke-miterlimit=\"10\"/>\n",
       "<circle cx=\"113.3434\" cy=\"96.2048\" fill=\"rgba(255,255,255,1)\" r=\"2\" stroke=\"rgba(0,0,0,1)\" stroke-miterlimit=\"10\"/>\n",
       "</svg>"
      ],
      "text/plain": [
       "<IPython.core.display.SVG object>"
      ]
     },
     "metadata": {},
     "output_type": "display_data"
    }
   ],
   "source": [
    "d = document(200, 200, 'pt')\n",
    "page = d.addpage()\n",
    "line_fig = shape().stroke(rgba(0, 0, 0, 255)).nofill().width(1)\n",
    "point_fig = shape().stroke(rgba(0, 0, 0, 255)).fill(rgba(255, 255, 255, 255)).width(1)\n",
    "page.place(line_fig.polyline(resampled))\n",
    "for pt in resampled.vertices:\n",
    "    page.place(point_fig.circle(*pt, 2))\n",
    "show(page)"
   ]
  },
  {
   "cell_type": "markdown",
   "metadata": {},
   "source": [
    "This is potentially helpful if you, e.g., want to apply a transformation to the lines in the polyline:"
   ]
  },
  {
   "cell_type": "code",
   "execution_count": 24,
   "metadata": {},
   "outputs": [],
   "source": [
    "resampled = random_p.resample(20)\n",
    "new_verts = Polyline(resampled.vertices + \n",
    "                     np.sin(resampled.vertices * 0.1) * 5 + \n",
    "                     np.cos(resampled.vertices * 0.1) * 5)"
   ]
  },
  {
   "cell_type": "code",
   "execution_count": 25,
   "metadata": {},
   "outputs": [
    {
     "data": {
      "image/svg+xml": [
       "<svg height=\"200pt\" version=\"1.1\" width=\"200pt\" xmlns=\"http://www.w3.org/2000/svg\" xmlns:xlink=\"http://www.w3.org/1999/xlink\">\n",
       "<title>Untitled</title>\n",
       "<polyline fill=\"none\" points=\"139.6225 128.207 137.5605 121.7174 135.2725 114.9787 132.7738 108.4209 130.0869 102.4461 127.2404 97.366 124.2681 93.3542 121.2083 90.4188 118.1019 88.4014 114.9914 87.0018 111.9196 85.824 108.928 84.4377 106.0551 82.4449 103.3359 79.5416 100.8001 75.5644 98.4712 70.5161 96.366 64.5652 94.4937 58.02 92.8561 51.2804 91.4467 44.7766 90.2519 38.9023 91.4897 43.1339 92.9569 47.7551 94.6685 52.6221 96.6304 57.5707 98.8401 62.4296 101.286 67.0351 103.9483 71.2448 106.7994 74.9494 109.805 78.0816 112.9256 80.6225 116.1173 82.6022 119.3339 84.0981 122.5281 85.2278 125.6535 86.1399 128.6662 87.0009 131.5263 87.9818 134.1992 89.2433 136.657 90.9229 138.8794 93.1229 140.8545 95.9022 138.0663 92.8318 134.8159 90.4797 131.1469 88.752 127.1312 87.49 122.8641 86.4858 118.4575 85.5047 114.0328 84.3099 109.7128 82.6864 105.613 80.4644 101.8343 77.5367 98.4558 73.8697 95.5299 69.5073 93.0785 64.5659 91.0918 59.2226 89.5285 53.6966 88.319 48.2261 87.3699 43.0435 86.5703 38.351 85.7993 34.2998 84.9341 30.9738 85.3078 31.4194 85.6539 31.8813 85.9803 32.3595 86.2956 32.854 86.6082 33.3649 86.9266 33.892 87.2593 34.4353 87.6147 34.9946 88.0008 35.5697 88.4253 36.1604 88.8954 36.7664 89.418 37.3875 89.9991 38.0234 90.6443 38.6736 91.3583 39.3378 92.1452 40.0155 93.008 40.7064 93.9491 41.4099 94.9699 42.1255 96.0709 42.8526 93.1269 44.3713 90.8248 45.9307 89.0944 47.5251 87.813 49.1488 86.8158 50.7954 85.912 52.4587 84.902 54.132 83.596 55.8087 81.8317 57.4821 79.4893 59.1455 76.5026 60.7923 72.8651 62.4162 68.6306 64.0109 63.9084 65.5706 58.8528 67.0897 53.6491 68.563 48.4965 69.9858 43.5891 71.3538 39.0986 72.6633 35.158 73.9112 37.3496 75.7673 39.7375 77.4533 42.3024 78.9663 45.0194 80.3075 47.8589 81.4825 50.7876 82.5008 53.7694 83.3759 56.7667 84.1247 59.7411 84.7672 62.6552 85.326 65.4735 85.8258 68.1632 86.2927 70.6956 86.7537 73.0468 87.2358 75.1986 87.7655 77.1387 88.3682 78.8616 89.0676 80.3683 89.8848 81.6664 90.8381 82.7701 91.9427 83.4146 91.2237 83.9872 90.5674 84.4966 89.9706 84.9522 89.4294 85.3643 88.9392 85.7437 88.4951 86.1017 88.0917 86.4499 87.7231 86.7999 87.3832 87.1636 87.0655 87.5523 86.7634 87.9774 86.4701 88.4493 86.1785 88.9781 85.8818 89.5731 85.5731 90.2424 85.2457 90.9933 84.893 91.8319 84.5085 92.763 84.0865 93.7902 83.6211 93.1516 84.3218 92.5492 84.9263 91.9824 85.4567 91.4504 85.9366 90.9521 86.3909 90.4864 86.8449 90.052 87.3243 89.6472 87.8539 89.2706 88.4573 88.9202 89.1567 88.5941 89.9715 88.2902 90.9189 88.0063 92.0127 87.7403 93.2633 87.4895 94.6774 87.2517 96.2579 87.0242 98.0038 86.8044 99.9101 86.5898 101.968 86.3776 104.1654 87.7033 106.8137 89.536 109.5946 92.3002 112.4767 96.2557 115.4253 101.4518 118.404 107.7187 121.3751 114.6975 124.3015 121.9032 127.1472 128.811 129.8789 134.9488 132.4664 139.9802 134.8843 143.7646 137.1121 146.3815 139.1352 148.1168 140.9452 149.412 142.54 150.7866 143.9245 152.7459 145.1095 155.6918 146.1122 159.8521 146.9552 165.24 147.6661 164.4368 144.7428 163.6538 139.785 162.8916 132.5124 162.1509 123.4046 161.4321 113.544 160.7358 104.26 160.0624 96.6927 159.4121 91.4188 158.7852 88.2614 158.1819 86.349 157.6022 84.401 157.0462 81.1488 156.5138 75.7517 156.0048 68.0735 155.519 58.7272 155.0561 48.8734 154.6156 39.8393 154.1973 32.683 153.8004 27.846 153.4243 25.0083 152.058 26.5629 150.9836 28.7708 150.1217 31.8067 149.3806 35.7402 148.6614 40.5267 147.864 46.0134 146.8927 51.9586 145.6622 58.0621 144.1024 64.0038 142.1623 69.4842 139.8134 74.2623 137.051 78.1862 133.8949 81.2127 130.3878 83.4125 126.5929 84.9614 122.5904 86.1178 118.4727 87.1901 114.339 88.4971 110.2891 90.328\" stroke=\"rgba(0,0,0,1)\" stroke-miterlimit=\"10\"/>\n",
       "</svg>"
      ],
      "text/plain": [
       "<IPython.core.display.SVG object>"
      ]
     },
     "metadata": {},
     "output_type": "display_data"
    }
   ],
   "source": [
    "d = document(200, 200, 'pt')\n",
    "page = d.addpage()\n",
    "line_fig = shape().stroke(rgba(0, 0, 0, 255)).nofill().width(1)\n",
    "point_fig = shape().stroke(rgba(0, 0, 0, 255)).fill(rgba(255, 255, 255, 255)).width(1)\n",
    "page.place(line_fig.polyline(new_verts))\n",
    "# uncomment to see positions of vertices\n",
    "# for pt in new_verts.vertices:\n",
    "#     page.place(point_fig.circle(*pt, 2))\n",
    "show(page)"
   ]
  },
  {
   "cell_type": "markdown",
   "metadata": {},
   "source": [
    "## Catmull-Rom splines from polylines\n",
    "\n",
    "The polyline's `.catmull_spline()` method returns a `Spline` object composed of `Bezier` objects that result from drawing a Catmull-Rom spline through the polyline:"
   ]
  },
  {
   "cell_type": "code",
   "execution_count": 26,
   "metadata": {},
   "outputs": [],
   "source": [
    "spline = random_p.catmull_spline(tightness=0.1)"
   ]
  },
  {
   "cell_type": "code",
   "execution_count": 27,
   "metadata": {},
   "outputs": [
    {
     "data": {
      "text/plain": [
       "9"
      ]
     },
     "execution_count": 27,
     "metadata": {},
     "output_type": "execute_result"
    }
   ],
   "source": [
    "len(spline.beziers)"
   ]
  },
  {
   "cell_type": "code",
   "execution_count": 28,
   "metadata": {},
   "outputs": [],
   "source": [
    "path = spline.to_path()"
   ]
  },
  {
   "cell_type": "code",
   "execution_count": 29,
   "metadata": {},
   "outputs": [
    {
     "data": {
      "image/svg+xml": [
       "<svg height=\"200pt\" version=\"1.1\" width=\"200pt\" xmlns=\"http://www.w3.org/2000/svg\" xmlns:xlink=\"http://www.w3.org/1999/xlink\">\n",
       "<title>Untitled</title>\n",
       "<path d=\"M96.0787,44.8869 C96.2592,41.7192,135.9283,103.983,133.786,102.9479 M133.786,102.9479 C131.6437,101.9129,86.3987,46.2881,81.7967,37.9868 M81.7967,37.9868 C77.1948,29.6854,109.08,43.216,103.1063,47.6059 M103.1063,47.6059 C97.1327,51.9958,45.8722,59.6067,41.9724,67.2528 M41.9724,67.2528 C38.0726,74.8988,68.2833,96.8621,77.1077,98.5797 M77.1077,98.5797 C85.9321,100.2974,99.417,77.077,100.8016,78.7036 M100.8016,78.7036 C102.1862,80.3303,75.8036,99.5757,86.3386,109.4241 M86.3386,109.4241 C96.8736,119.2724,160.0664,156.5545,171.0352,144.3593 M171.0352,144.3593 C182.0039,132.164,168.1175,35.3455,159.4637,28.1224\" fill=\"none\" stroke=\"rgba(0,0,255,1)\" stroke-miterlimit=\"10\" stroke-width=\"2\"/>\n",
       "</svg>"
      ],
      "text/plain": [
       "<IPython.core.display.SVG object>"
      ]
     },
     "metadata": {},
     "output_type": "display_data"
    }
   ],
   "source": [
    "d = document(200, 200, 'pt')\n",
    "page = d.addpage()\n",
    "curve_fig = shape().stroke(rgba(0, 0, 255, 255)).nofill().width(2)\n",
    "page.place(curve_fig.path(path))\n",
    "show(page)"
   ]
  },
  {
   "cell_type": "markdown",
   "metadata": {},
   "source": [
    "The `.smooth_path()` function returns a `Path` directly."
   ]
  },
  {
   "cell_type": "code",
   "execution_count": 30,
   "metadata": {},
   "outputs": [],
   "source": [
    "path = random_p.augment().smooth_path(tightness=0.1)"
   ]
  },
  {
   "cell_type": "code",
   "execution_count": 31,
   "metadata": {},
   "outputs": [
    {
     "data": {
      "image/svg+xml": [
       "<svg height=\"200pt\" version=\"1.1\" width=\"200pt\" xmlns=\"http://www.w3.org/2000/svg\" xmlns:xlink=\"http://www.w3.org/1999/xlink\">\n",
       "<title>Untitled</title>\n",
       "<path d=\"M132.5823,124.0661 C127.1068,112.1892,95.8981,48.0547,96.0787,44.8869 M96.0787,44.8869 C96.2592,41.7192,135.9283,103.983,133.786,102.9479 M133.786,102.9479 C131.6437,101.9129,86.3987,46.2881,81.7967,37.9868 M81.7967,37.9868 C77.1948,29.6854,109.08,43.216,103.1063,47.6059 M103.1063,47.6059 C97.1327,51.9958,45.8722,59.6067,41.9724,67.2528 M41.9724,67.2528 C38.0726,74.8988,68.2833,96.8621,77.1077,98.5797 M77.1077,98.5797 C85.9321,100.2974,99.417,77.077,100.8016,78.7036 M100.8016,78.7036 C102.1862,80.3303,75.8036,99.5757,86.3386,109.4241 M86.3386,109.4241 C96.8736,119.2724,160.0664,156.5545,171.0352,144.3593 M171.0352,144.3593 C182.0039,132.164,168.1175,35.3455,159.4637,28.1224 M159.4637,28.1224 C150.8099,20.8992,120.2614,85.9925,113.3434,96.2048\" fill=\"none\" stroke=\"rgba(0,0,255,1)\" stroke-miterlimit=\"10\" stroke-width=\"2\"/>\n",
       "</svg>"
      ],
      "text/plain": [
       "<IPython.core.display.SVG object>"
      ]
     },
     "metadata": {},
     "output_type": "display_data"
    }
   ],
   "source": [
    "d = document(200, 200, 'pt')\n",
    "page = d.addpage()\n",
    "curve_fig = shape().stroke(rgba(0, 0, 255, 255)).nofill().width(2)\n",
    "page.place(curve_fig.path(path))\n",
    "show(page)"
   ]
  },
  {
   "cell_type": "code",
   "execution_count": 32,
   "metadata": {},
   "outputs": [
    {
     "data": {
      "image/svg+xml": [
       "<svg height=\"200pt\" version=\"1.1\" width=\"200pt\" xmlns=\"http://www.w3.org/2000/svg\" xmlns:xlink=\"http://www.w3.org/1999/xlink\">\n",
       "<title>Untitled</title>\n",
       "<polyline fill=\"none\" points=\"132.5823 124.0661 96.0787 44.8869 133.786 102.9479 81.7967 37.9868 103.1063 47.6059 41.9724 67.2528 77.1077 98.5797 100.8016 78.7036 86.3386 109.4241 171.0352 144.3593 159.4637 28.1224 113.3434 96.2048\" stroke=\"rgba(0,0,0,1)\" stroke-miterlimit=\"10\"/>\n",
       "<path d=\"M132.5823,124.0661 C127.1068,112.1892,95.8981,48.0547,96.0787,44.8869 M96.0787,44.8869 C96.2592,41.7192,135.9283,103.983,133.786,102.9479 M133.786,102.9479 C131.6437,101.9129,86.3987,46.2881,81.7967,37.9868 M81.7967,37.9868 C77.1948,29.6854,109.08,43.216,103.1063,47.6059 M103.1063,47.6059 C97.1327,51.9958,45.8722,59.6067,41.9724,67.2528 M41.9724,67.2528 C38.0726,74.8988,68.2833,96.8621,77.1077,98.5797 M77.1077,98.5797 C85.9321,100.2974,99.417,77.077,100.8016,78.7036 M100.8016,78.7036 C102.1862,80.3303,75.8036,99.5757,86.3386,109.4241 M86.3386,109.4241 C96.8736,119.2724,160.0664,156.5545,171.0352,144.3593 M171.0352,144.3593 C182.0039,132.164,168.1175,35.3455,159.4637,28.1224 M159.4637,28.1224 C150.8099,20.8992,120.2614,85.9925,113.3434,96.2048\" fill=\"none\" stroke=\"rgba(0,0,255,1)\" stroke-miterlimit=\"10\" stroke-width=\"2\"/>\n",
       "<circle cx=\"132.5823\" cy=\"124.0661\" fill=\"rgba(255,255,255,1)\" r=\"2\" stroke=\"rgba(0,0,0,1)\" stroke-miterlimit=\"10\"/>\n",
       "<circle cx=\"96.0787\" cy=\"44.8869\" fill=\"rgba(255,255,255,1)\" r=\"2\" stroke=\"rgba(0,0,0,1)\" stroke-miterlimit=\"10\"/>\n",
       "<circle cx=\"133.786\" cy=\"102.9479\" fill=\"rgba(255,255,255,1)\" r=\"2\" stroke=\"rgba(0,0,0,1)\" stroke-miterlimit=\"10\"/>\n",
       "<circle cx=\"81.7967\" cy=\"37.9868\" fill=\"rgba(255,255,255,1)\" r=\"2\" stroke=\"rgba(0,0,0,1)\" stroke-miterlimit=\"10\"/>\n",
       "<circle cx=\"103.1063\" cy=\"47.6059\" fill=\"rgba(255,255,255,1)\" r=\"2\" stroke=\"rgba(0,0,0,1)\" stroke-miterlimit=\"10\"/>\n",
       "<circle cx=\"41.9724\" cy=\"67.2528\" fill=\"rgba(255,255,255,1)\" r=\"2\" stroke=\"rgba(0,0,0,1)\" stroke-miterlimit=\"10\"/>\n",
       "<circle cx=\"77.1077\" cy=\"98.5797\" fill=\"rgba(255,255,255,1)\" r=\"2\" stroke=\"rgba(0,0,0,1)\" stroke-miterlimit=\"10\"/>\n",
       "<circle cx=\"100.8016\" cy=\"78.7036\" fill=\"rgba(255,255,255,1)\" r=\"2\" stroke=\"rgba(0,0,0,1)\" stroke-miterlimit=\"10\"/>\n",
       "<circle cx=\"86.3386\" cy=\"109.4241\" fill=\"rgba(255,255,255,1)\" r=\"2\" stroke=\"rgba(0,0,0,1)\" stroke-miterlimit=\"10\"/>\n",
       "<circle cx=\"171.0352\" cy=\"144.3593\" fill=\"rgba(255,255,255,1)\" r=\"2\" stroke=\"rgba(0,0,0,1)\" stroke-miterlimit=\"10\"/>\n",
       "<circle cx=\"159.4637\" cy=\"28.1224\" fill=\"rgba(255,255,255,1)\" r=\"2\" stroke=\"rgba(0,0,0,1)\" stroke-miterlimit=\"10\"/>\n",
       "<circle cx=\"113.3434\" cy=\"96.2048\" fill=\"rgba(255,255,255,1)\" r=\"2\" stroke=\"rgba(0,0,0,1)\" stroke-miterlimit=\"10\"/>\n",
       "</svg>"
      ],
      "text/plain": [
       "<IPython.core.display.SVG object>"
      ]
     },
     "metadata": {},
     "output_type": "display_data"
    }
   ],
   "source": [
    "d = document(200, 200, 'pt')\n",
    "page = d.addpage()\n",
    "line_fig = shape().stroke(rgba(0, 0, 0, 255)).nofill().width(1)\n",
    "curve_fig = shape().stroke(rgba(0, 0, 255, 255)).nofill().width(2)\n",
    "point_fig = shape().stroke(rgba(0, 0, 0, 255)).fill(rgba(255, 255, 255, 255)).width(1)\n",
    "page.place(line_fig.polyline(random_p))\n",
    "page.place(curve_fig.path(path))\n",
    "for pt in random_p.vertices:\n",
    "    page.place(point_fig.circle(*pt, 2))\n",
    "show(page)"
   ]
  },
  {
   "cell_type": "markdown",
   "metadata": {},
   "source": [
    "## Offsets of splines\n",
    "\n",
    "The `Spline` class has a `.tangent_offsets()` method that returns a polyline from the concatenated result of calling `.offsets()` on each curve in the spline. The `distances` parameter sets the offset distance along the spline, and the `samples_per` parameter specifies the number of points to sample along each curve:"
   ]
  },
  {
   "cell_type": "code",
   "execution_count": 33,
   "metadata": {},
   "outputs": [],
   "source": [
    "polyline = spline.tangent_offsets(\n",
    "    distances=np.sin(np.linspace(0, np.pi*50, 500))*6,\n",
    "    samples_per=48\n",
    ")\n",
    "curve_path = spline.to_path()"
   ]
  },
  {
   "cell_type": "code",
   "execution_count": 34,
   "metadata": {},
   "outputs": [
    {
     "data": {
      "image/svg+xml": [
       "<svg height=\"200pt\" version=\"1.1\" width=\"200pt\" xmlns=\"http://www.w3.org/2000/svg\" xmlns:xlink=\"http://www.w3.org/1999/xlink\">\n",
       "<title>Untitled</title>\n",
       "<polyline fill=\"none\" points=\"96.0787 44.8869 96.6424 46.8347 94.1828 48.1585 92.9436 48.8566 92.5459 49.356 92.932 49.6076 94.0602 49.612 95.8609 49.4015 98.126 49.1103 100.6193 48.8846 103.1088 48.863 105.3728 49.1739 107.2259 49.9198 108.5152 51.1809 109.1632 52.9869 109.2647 55.2538 108.9374 57.8862 108.3562 60.7538 107.7318 63.7059 107.2848 66.5884 107.2811 69.2197 107.8415 71.5155 109.0417 73.4212 110.8812 74.9319 113.2816 76.0922 116.0957 76.9899 119.1232 77.7452 122.0957 78.5195 124.7805 79.4493 126.9857 80.6431 128.575 82.1727 129.4828 84.0638 129.7029 86.3042 129.3245 88.8217 128.5698 91.463 127.6488 94.0841 126.7851 96.5353 126.189 98.6784 126.0322 100.4025 126.5048 101.5923 127.5616 102.2775 129.1386 102.5051 131.1058 102.3695 133.2831 102.0114 135.4726 101.6302 137.4816 101.6239 138.8867 104.1837 131.236 108.2259 131.2669 108.162 130.3927 106.6127 130.8459 105.0382 131.7508 103.1868 132.7969 101.1505 133.7197 99.1017 134.31 97.1937 134.3979 95.5577 133.8691 94.283 132.6771 93.4052 130.7951 92.9469 128.4027 92.759 125.671 92.7043 122.8022 92.6234 120.0083 92.3511 117.4865 91.737 115.4383 90.6287 113.9538 88.967 113.0218 86.776 112.5826 84.1187 112.5125 81.1093 112.6391 77.9002 112.7555 74.6704 112.6218 71.6231 112.071 68.901 110.9842 66.6064 109.3073 64.7888 107.0586 63.4387 104.3273 62.4905 101.2463 61.8444 98.0706 61.305 95.0184 60.7085 92.2936 59.9048 90.065 58.7741 88.4464 57.2417 87.5248 55.2565 87.2398 52.8831 87.4471 50.2507 87.9794 47.505 88.6371 44.8135 89.213 42.346 89.4997 40.2663 89.3041 38.7194 88.5886 37.7279 87.3512 37.2799 85.659 37.3025 83.6382 37.6647 81.4526 38.1775 79.6246 39.1909 77.644 39.1173 76.1346 38.3652 75.4243 36.915 75.8524 35.0952 77.4578 33.7141 79.6319 33.6089 81.4718 34.7898 82.6088 36.6384 83.1549 38.5531 83.3591 40.1221 83.457 41.0949 83.6345 41.3223 84.0268 40.7479 84.6926 39.5417 85.6371 37.882 86.8177 36.0006 88.1551 34.1546 89.5474 32.597 90.8613 31.6154 92.005 31.3263 92.9075 31.7807 93.5307 32.947 93.8765 34.71 93.9868 36.8853 93.9411 39.2376 93.8622 41.4779 93.8697 43.369 94.0738 44.7304 94.5649 45.4518 95.4015 45.5061 96.6096 44.9384 98.1673 43.8799 99.9561 42.5981 101.8541 41.3314 103.7126 40.3142 105.3692 39.7453 106.6611 39.7581 107.3752 40.4499 107.4457 41.6857 106.8199 43.2514 105.5087 44.8198 103.6442 45.9676 101.5595 46.2782 99.8374 45.6065 99.0047 44.3646 99.095 43.3075 99.734 43.0169 100.2966 43.7825 101.0803 45.1395 101.5957 47.1277 101.8172 49.3981 101.7172 51.6087 101.2878 53.4871 100.5296 54.8182 99.4557 55.4632 98.0938 55.373 96.4697 54.5341 94.6641 53.171 92.7447 51.5117 90.7781 49.8111 88.8269 48.3304 86.9446 47.3049 85.1829 46.964 83.5629 47.4069 82.0745 48.5868 80.6978 50.4035 79.3979 52.6796 78.1285 55.1819 76.8351 57.6415 75.4531 59.7499 73.9411 61.3088 72.2694 62.1801 70.4254 62.311 68.4158 61.7397 66.2673 60.5914 64.0212 59.0483 61.7544 57.4208 59.5383 55.9759 57.444 54.9512 55.5365 54.5322 53.8688 54.8298 52.4897 55.9087 51.4051 57.6702 50.5844 59.9001 49.9863 62.3681 49.5495 64.8149 49.1964 66.9836 48.8318 68.6388 48.3315 69.5695 47.632 69.7805 46.6591 69.3335 45.3544 68.3993 43.6839 67.2564 41.6625 66.2866 39.447 65.9647 37.9643 65.2085 36.43 66.1572 35.7728 67.5706 36.1142 69.018 37.3489 70.1579 39.2561 70.8166 41.4996 71.0024 43.755 70.8584 45.7755 70.5864 47.3758 70.4046 48.4417 70.5095 48.9204 71.0575 48.8072 72.1584 48.2814 73.7532 47.5048 75.7511 46.6652 78.0021 45.9545 80.3173 45.5479 82.4953 45.6325 84.2979 46.2672 85.6019 47.4543 86.343 49.1425 86.5216 51.2265 86.2106 53.5604 85.547 55.9702 84.7211 58.2575 83.9751 60.2692 83.5161 61.896 83.5102 63.0793 84.0683 63.8162 85.2307 64.1526 86.9702 64.178 89.1914 64.0722 91.654 63.985 94.14 64.058 96.4229 64.4065 98.2946 65.1057 99.59 66.218 100.1418 67.6763 99.9893 69.3843 99.2233 71.2193 97.9908 73.0396 96.4927 74.704 94.9607 76.0784 93.6613 77.0728 92.835 77.678 92.6075 77.939 93.053 77.9673 94.1633 77.6493 95.797 77.736 97.8734 78.3052 100.0404 79.2968 101.924 80.533 103.247 81.788 103.8338 82.8473 103.6218 83.5525 102.653 83.8019 101.0094 83.6431 98.9547 83.1884 96.7335 82.5993 94.5742 82.065 92.6797 81.7728 91.2076 81.9076 90.2893 82.5784 89.9582 83.7732 90.126 85.4347 90.6821 87.4399 91.4741 89.6155 92.3261 91.7564 93.0546 93.616 93.4572 95.0393 93.4294 95.9141 92.908 96.1962 91.8879 95.9158 90.4213 95.1738 88.6112 94.1232 86.594 93.0087 84.5718 92.0474 82.716 91.4293 81.1729 91.3001 80.0529 91.7422 79.4198 92.7923 79.3076 94.3672 79.6617 96.2759 80.3476 98.3205 81.2293 100.2823 82.1534 101.9485 82.9654 103.1328 83.5185 103.6629 83.6476 103.5634 83.3313 102.9075 82.5452 101.8779 81.291 100.8137 79.5797 100.3674 77.4709 101.6447 75.6035 104.4147 75.6281 105.1381 75.0123 106.7322 78.2534 105.9906 80.4489 104.4125 81.0709 102.5174 80.7342 100.5199 79.8941 98.5999 78.8973 96.9044 78.0102 95.5642 77.447 94.6763 77.3622 94.2969 77.8476 94.4626 78.9554 95.031 80.5476 95.8728 82.4842 96.8238 84.5848 97.7034 86.6531 98.3339 88.5013 98.5139 89.9293 98.1543 90.8569 97.2302 91.2755 95.7694 91.2333 93.8626 90.8395 91.6551 90.2488 89.3387 89.647 87.1515 89.2407 85.2924 89.1806 83.9242 89.5649 83.1586 90.429 83.0416 91.7419 83.5511 93.4131 84.608 95.312 85.9746 97.2256 87.4334 98.9869 88.7496 100.4611 89.6989 101.5685 90.0957 102.3008 89.7545 102.7099 88.7055 102.9583 87.0701 103.2366 85.0489 103.7271 82.9255 104.5643 81.0276 105.789 79.6978 107.3113 79.1997 108.908 79.5794 110.3104 80.7583 111.2575 82.5345 111.5779 84.6425 111.2384 86.0699 109.7115 88.2257 108.763 90.2643 107.9895 92.0791 107.6145 93.5958 107.8058 94.783 108.6607 95.6575 110.197 96.2577 112.3871 96.727 115.0353 97.2114 117.92 97.8503 120.8111 98.7723 123.4806 100.0791 125.7293 101.8527 127.3798 104.1169 128.3431 106.7986 128.6913 109.8102 128.529 113.032 128.0252 116.3273 127.3925 119.5564 126.8644 122.5645 126.7217 125.278 127.1124 127.6547 128.1381 129.6973 129.8216 131.452 132.1028 133.0006 134.8451 134.4471 137.8524 135.9269 140.8388 137.5464 143.5491 139.3821 145.7632 141.4738 147.3122 143.8186 148.0995 146.3811 148.0837 149.0748 147.3459 151.7703 146.1083 154.3515 144.5953 156.715 143.0592 158.786 141.7509 160.5331 140.8936 161.9706 140.7327 163.1963 141.2502 164.3413 142.3967 165.5661 144.0175 167.0311 145.8568 168.85 147.5722 171.0073 148.7416 173.2981 149.0086 175.3406 148.2317 175.3934 148.2792 176.0769 146.2302 175.7568 143.9686 174.6574 141.6808 173.108 139.4576 171.4663 137.3213 170.0323 135.2449 169.0541 133.1822 168.7059 131.0796 169.0745 128.8844 170.2176 126.5546 171.9143 124.0515 173.9601 121.3626 176.1031 118.4932 178.0746 115.4647 179.6212 112.3105 180.4754 109.0739 180.5258 105.7973 179.7746 102.5157 178.294 99.2555 176.2406 96.0304 173.8366 92.841 171.353 89.6744 169.1029 86.5045 167.3193 83.3051 166.1728 80.0521 165.7524 76.7275 166.0556 73.3247 166.9893 69.8504 168.4076 66.3228 169.9925 62.7931 171.4796 59.3128 172.6162 55.9398 173.1913 52.7333 173.0615 49.7476 172.1101 47.0404 170.4238 44.631 168.1784 42.5188 165.5879 40.6901 162.9086 39.1138 160.4085 37.7436 158.3587 36.514 156.9939 35.3429 156.3734 34.1781 156.493 32.9556 157.2394 31.6058 158.3731 30.0379 159.4637 28.1224\" stroke=\"rgba(255,40,40,1)\" stroke-miterlimit=\"10\" stroke-width=\"2\"/>\n",
       "<path d=\"M96.0787,44.8869 C96.2592,41.7192,135.9283,103.983,133.786,102.9479 M133.786,102.9479 C131.6437,101.9129,86.3987,46.2881,81.7967,37.9868 M81.7967,37.9868 C77.1948,29.6854,109.08,43.216,103.1063,47.6059 M103.1063,47.6059 C97.1327,51.9958,45.8722,59.6067,41.9724,67.2528 M41.9724,67.2528 C38.0726,74.8988,68.2833,96.8621,77.1077,98.5797 M77.1077,98.5797 C85.9321,100.2974,99.417,77.077,100.8016,78.7036 M100.8016,78.7036 C102.1862,80.3303,75.8036,99.5757,86.3386,109.4241 M86.3386,109.4241 C96.8736,119.2724,160.0664,156.5545,171.0352,144.3593 M171.0352,144.3593 C182.0039,132.164,168.1175,35.3455,159.4637,28.1224\" fill=\"none\" stroke=\"rgba(128,128,255,1)\" stroke-miterlimit=\"10\"/>\n",
       "</svg>"
      ],
      "text/plain": [
       "<IPython.core.display.SVG object>"
      ]
     },
     "metadata": {},
     "output_type": "display_data"
    }
   ],
   "source": [
    "d = document(200, 200, 'pt')\n",
    "page = d.addpage()\n",
    "polyline_fig = shape().stroke(rgba(255, 40, 40, 255)).width(2)\n",
    "curve_fig = shape().stroke(rgba(128, 128, 255, 255))\n",
    "page.place(polyline_fig.polyline(polyline))\n",
    "page.place(curve_fig.path(curve_path))\n",
    "show(page)"
   ]
  },
  {
   "cell_type": "markdown",
   "metadata": {},
   "source": [
    "The `.tangent_offset_polygon()` works the same way, but also includes a polyline drawn with the same parameters on the other side of the curve:"
   ]
  },
  {
   "cell_type": "code",
   "execution_count": 35,
   "metadata": {},
   "outputs": [],
   "source": [
    "poly = spline.tangent_offset_polygon(\n",
    "    thicknesses=[2, 8, 2],\n",
    "    samples_per=12)"
   ]
  },
  {
   "cell_type": "code",
   "execution_count": 36,
   "metadata": {},
   "outputs": [
    {
     "data": {
      "image/svg+xml": [
       "<svg height=\"200pt\" version=\"1.1\" width=\"200pt\" xmlns=\"http://www.w3.org/2000/svg\" xmlns:xlink=\"http://www.w3.org/1999/xlink\">\n",
       "<title>Untitled</title>\n",
       "<polygon fill=\"rgba(40,40,40,1)\" points=\"95.0803 44.83 97.8416 44.8542 100.5055 48.2222 104.3534 53.6253 109.0519 60.5215 114.2401 68.3375 119.5533 76.4957 124.6262 84.4178 129.0942 91.5262 132.5952 97.2487 134.7857 101.0498 133.0826 104.4038 133.0582 104.4542 130.9222 102.5579 127.4921 98.7452 122.7016 93.1682 116.9118 86.2687 110.4963 78.5018 103.831 70.3247 97.292 62.1951 91.2547 54.5699 86.0925 47.9023 82.1697 42.6326 79.7942 39.0969 79.7451 39.1241 79.0956 35.5317 81.9226 33.0389 84.9975 32.9461 88.3862 33.6321 92.1087 34.8432 95.9319 36.4461 99.5743 38.3237 102.7634 40.3921 105.2855 42.7137 106.7555 46.0574 104.8607 49.9932 104.8939 50.0384 101.4863 51.766 96.762 53.3144 90.7614 54.9446 83.8266 56.6752 76.3544 58.4989 68.7592 60.4022 61.4668 62.3671 54.9191 64.3683 49.5953 66.3569 46.0876 68.1743 45.211 68.9046 45.2609 68.93 45.398 68.9852 46.1998 70.753 48.2505 73.5531 51.3416 76.8343 55.1827 80.3025 59.459 83.7915 63.9043 87.1235 68.2818 90.0815 72.3079 92.4923 75.6556 94.1766 77.813 94.9561 77.8023 95.0112 78.7417 94.9966 80.5319 94.2849 82.8476 92.734 85.3848 90.523 87.9615 87.8959 90.456 85.0954 92.7746 82.3536 94.8436 79.8873 96.6288 77.8771 98.3408 76.3428 103.1003 76.747 103.0576 76.7833 102.9437 81.197 101.2889 83.1066 99.0565 85.3635 96.3988 88.0478 93.5771 91.0659 90.8773 94.2885 88.5922 97.5609 87.0029 100.6889 86.3181 103.4316 86.574 105.6635 87.9405 107.7104 87.9022 107.7514 91.7649 110.9351 97.8753 115.2362 105.6814 120.2296 114.6884 125.5513 124.4129 130.8482 134.3728 135.7695 144.082 139.9654 153.0422 143.0871 160.721 144.7949 166.4956 144.8195 169.7914 143.2405 169.833 143.278 171.9211 138.6787 173.2339 130.2441 173.6252 119.0437 173.198 105.9487 172.0825 91.774 170.4134 77.318 168.3266 63.3743 165.9592 50.7359 163.4513 40.2013 160.9586 32.5949 158.8229 28.8901 160.1045 27.3546 162.9033 31.7706 165.5927 39.5999 168.2435 50.245 170.7398 62.9596 172.9506 76.9715 174.7417 91.5032 175.9778 105.7772 176.5223 119.0214 176.234 130.48 174.9449 139.4535 172.2373 145.4405 172.279 145.478 167.1597 148.2131 160.2857 148.3384 152.0278 146.6268 142.7089 143.5026 132.742 139.3194 122.5746 134.4217 112.6661 129.1533 103.4799 123.8568 95.4784 118.8724 89.1122 114.5296 84.775 111.0967 84.7367 111.1377 82.0902 107.3874 81.4113 103.1337 82.2865 98.9461 84.1689 94.9425 86.684 91.1256 89.5298 87.5448 92.4158 84.289 95.0448 81.4724 97.0948 79.2451 98.1351 77.9306 98.5456 80.624 98.5029 80.6603 101.9323 81.3345 101.2653 82.0855 99.7737 83.9271 97.8193 86.4302 95.5188 89.3266 92.9497 92.3842 90.1695 95.3863 87.2075 98.1266 84.033 100.4004 80.4929 101.938 76.4131 102.1483 76.4024 102.2033 72.7694 101.094 68.7061 99.1932 64.2009 96.6343 59.4273 93.5495 54.6018 90.0775 49.9881 86.3127 45.8204 82.3888 42.2841 78.4514 39.5893 74.518 38.0277 70.3489 38.6839 65.5755 38.7338 65.6009 42.1936 62.1671 46.884 59.8527 52.7845 57.7704 59.6523 55.7904 67.1311 53.8924 74.8277 52.0799 82.3324 50.3637 89.2244 48.7589 95.0651 47.287 99.3616 45.9952 101.3187 45.1734 101.352 45.2186 100.9499 46.3532 100.8284 46.2684 99.3449 44.8135 96.7848 43.0367 93.6044 41.2794 90.2017 39.7371 86.9655 38.572 84.3327 37.93 82.994 37.8366 83.6853 36.9499 83.8484 36.8494 83.7993 36.8766 85.8235 40.0624 89.576 45.2885 94.6098 51.9725 100.5342 59.6354 106.9673 67.8121 113.5298 76.0402 119.8426 83.8588 125.5265 90.8063 130.2002 96.4189 133.4697 100.2196 134.5137 101.4416 134.4893 101.4921 132.0036 102.4653 129.9979 98.7687 126.6221 93.037 122.2656 85.8956 117.2995 77.9326 112.0919 69.7313 107.0106 61.8738 102.424 54.9431 98.7039 49.5266 96.2501 46.2429 97.077 44.9438\"/>\n",
       "</svg>"
      ],
      "text/plain": [
       "<IPython.core.display.SVG object>"
      ]
     },
     "metadata": {},
     "output_type": "display_data"
    }
   ],
   "source": [
    "d = document(200, 200, 'pt')\n",
    "page = d.addpage()\n",
    "curve_fig = shape().fill(rgba(40, 40, 40, 255)).nostroke()\n",
    "page.place(curve_fig.polygon(poly))\n",
    "show(page)"
   ]
  },
  {
   "cell_type": "markdown",
   "metadata": {},
   "source": [
    "## Putting everything together\n",
    "\n",
    "The `.fancy_curve()` method of a `Polyline` object returns a `Polyline` that results from converting the `Polyline` object to a spline (with Catmull-Rom), then calling `.tangent_offset_polygon()` on the resulting spline."
   ]
  },
  {
   "cell_type": "code",
   "execution_count": 37,
   "metadata": {},
   "outputs": [],
   "source": [
    "pts = [[np.random.normal(300, 100), np.random.normal(300, 100)] for i in range(24)]"
   ]
  },
  {
   "cell_type": "code",
   "execution_count": 38,
   "metadata": {},
   "outputs": [],
   "source": [
    "thicknesses = (np.sin(np.linspace(0, np.pi*4, 100))+1) * 8"
   ]
  },
  {
   "cell_type": "code",
   "execution_count": 39,
   "metadata": {},
   "outputs": [],
   "source": [
    "poly = Polyline(pts).fancy_curve(thicknesses=thicknesses, samples_per=24)"
   ]
  },
  {
   "cell_type": "code",
   "execution_count": 40,
   "metadata": {},
   "outputs": [
    {
     "data": {
      "image/svg+xml": [
       "<svg height=\"600pt\" version=\"1.1\" width=\"600pt\" xmlns=\"http://www.w3.org/2000/svg\" xmlns:xlink=\"http://www.w3.org/1999/xlink\">\n",
       "<title>Untitled</title>\n",
       "<polygon fill=\"rgba(40,40,40,1)\" points=\"307.9347 256.2971 314.1969 254.3252 320.9889 252.1311 328.2377 249.749 335.8716 247.213 343.8193 244.5573 352.0106 241.817 360.3748 239.0247 368.8417 236.214 377.3415 233.4187 385.8048 230.6721 394.1632 228.0106 402.3475 225.4654 410.2898 223.0693 417.9234 220.8555 425.1834 218.8571 432.0085 217.1104 438.3411 215.6459 444.1331 214.4961 449.3557 213.6974 454.0207 213.2983 458.2361 213.4024 462.3123 214.3474 466.4056 217.3536 466.4728 217.3033 468.1651 223.4141 466.9172 228.0043 464.6676 232.1238 461.6089 236.4497 457.786 241.143 453.2626 246.2152 448.1157 251.6259 442.4346 257.3185 436.316 263.2311 429.8563 269.2945 423.1537 275.4372 416.3043 281.5833 409.407 287.658 402.5653 293.5917 395.8794 299.31 389.4494 304.7387 383.3727 309.8006 377.7467 314.4196 372.6737 318.5281 368.2485 322.0555 364.5576 324.9371 361.6557 327.1253 359.4178 328.6736 359.4363 328.704 349.1634 327.853 346.9637 319.5114 348.0774 316.2401 349.6528 312.9032 351.7212 309.0207 354.2504 304.5835 357.1803 299.6693 360.4421 294.3823 363.9694 288.8406 367.6769 283.155 371.4876 277.4438 375.325 271.8259 379.1133 266.4194 382.7882 261.3475 386.2697 256.715 389.4978 252.6242 392.4386 249.1547 395.1494 246.32 398.1731 243.9233 406.0713 242.8557 411.8236 251.1206 411.1648 255.55 409.6796 259.9674 409.6562 259.9585 407.4301 265.6272 404.3138 273.397 400.3842 283.0693 395.7255 294.4258 390.4151 307.2395 384.5459 321.2878 378.2074 336.3459 371.4866 352.1878 364.4707 368.587 357.2393 385.3144 349.884 402.1454 342.4946 418.8556 335.158 435.2194 327.9606 451.0116 320.9824 466.0053 314.3109 479.979 308.033 492.7144 302.2285 503.9971 296.9681 513.625 292.2927 521.4244 288.148 527.322 283.8122 531.6223 273.9384 531.8528 273.9798 531.7963 270.3576 525.2548 269.8807 519.0544 270.1409 511.154 270.9698 501.3145 272.3096 489.636 274.1166 476.298 276.3478 461.5057 278.954 445.4732 281.8904 428.4203 285.1121 410.569 288.5759 392.143 292.2389 373.3669 296.0521 354.4645 299.9703 335.6606 303.9487 317.18 307.943 299.2476 311.9107 282.0884 315.8039 265.9255 319.5783 250.9818 323.1905 237.4776 326.5991 225.6295 329.7691 215.6438 332.6767 207.6975 332.7686 207.7332 335.7716 201.32 339.1336 196.0212 342.8505 191.7875 346.8975 188.5988 351.2033 186.4552 355.6407 185.3339 360.0677 185.1512 364.3819 185.7733 368.5328 187.0588 372.5018 188.8831 376.2791 191.1421 379.8527 193.7455 383.2062 196.6094 386.3159 199.6566 389.155 202.8109 391.6941 205.9971 393.9022 209.1425 395.7498 212.1762 397.2031 215.0391 398.2273 217.6906 398.7719 220.1427 398.6671 222.5311 397.2707 224.8161 397.2129 224.7487 395.2852 225.7398 392.9074 226.4096 389.9098 227.0057 386.2982 227.5763 382.125 228.1345 377.4586 228.6865 372.3738 229.2387 366.9482 229.7966 361.2612 230.3701 355.3923 230.963 349.4213 231.5772 343.4289 232.2175 337.4956 232.889 331.703 233.601 326.1324 234.3583 320.8645 235.1612 315.9812 236.0142 311.5647 236.9215 307.6997 237.8904 304.4732 238.9234 301.9744 240.0089 300.2983 241.1191 299.4991 242.176 299.45 242.1599 299.4932 243.2577 300.4871 244.7084 302.4499 246.38 305.2611 248.1876 308.8021 250.0961 312.9626 252.0815 317.6297 254.137 322.6968 256.2499 328.0576 258.4076 333.6071 260.596 339.2427 262.7955 344.8554 265.0036 350.3398 267.2083 355.5908 269.3977 360.5034 271.5587 364.9769 273.6701 368.9016 275.7306 372.1724 277.7282 374.6837 279.6508 376.3297 281.4855 377.0168 283.2156 376.6286 284.8414 375.0577 286.3464 375.0603 286.3503 372.2502 287.717 368.2854 288.9584 363.2633 290.0788 357.2864 291.0912 350.4568 292.0096 342.8767 292.8479 334.6491 293.6303 325.875 294.3623 316.6563 295.0559 307.0953 295.7249 297.294 296.3834 287.3551 297.0541 277.3804 297.7448 267.472 298.4665 257.7322 299.2331 248.2633 300.0584 239.1689 300.9639 230.5517 301.9591 222.5148 303.0541 215.1628 304.2619 208.6016 305.5951 202.9421 307.0702 198.3002 308.6901 198.3234 308.7487 194.3997 310.664 190.7871 313.0042 187.4842 315.7191 184.4886 318.7533 181.7954 322.049 179.4034 325.5509 177.3114 329.2034 175.5222 332.9512 174.0361 336.7367 172.848 340.4994 171.9567 344.1798 171.3603 347.7168 171.0581 351.0474 171.0464 354.1037 171.3103 356.8123 171.8274 359.0924 172.5504 360.8572 173.3875 362.0344 174.2154 362.6417 175.0406 362.8469 176.1268 362.7311 177.6857 362.1233 179.7225 360.8221 179.6671 360.7429 182.4576 358.4359 186.1014 355.0671 190.4712 350.7631 195.478 345.6314 201.0428 339.7716 207.0939 333.2827 213.5596 326.261 220.3697 318.8018 227.4542 311.0001 234.7429 302.9498 242.1671 294.746 249.6576 286.4826 257.1455 278.2537 264.5622 270.1529 271.8399 262.2742 278.9102 254.7101 285.706 247.5529 292.1614 240.894 298.2128 234.8229 303.8022 229.4281 308.878 224.7895 313.4118 220.9768 317.4395 218.0369 317.3884 217.9548 320.7917 215.8616 324.0162 214.165 327.1098 212.8631 330.1362 211.9734 333.1648 211.5528 336.2272 211.7204 339.2311 212.615 341.9303 214.2674 344.0879 216.5048 345.6549 219.0846 346.7206 221.8622 347.3989 224.7966 347.7738 227.8963 347.8953 231.1818 347.7939 234.6699 347.4841 238.3711 346.9802 242.2903 346.2958 246.4294 345.4392 250.7865 344.4176 255.3579 343.2336 260.137 341.8932 265.1168 340.4075 270.2912 340.4677 270.3097 338.6276 276.1962 336.3181 283.0167 333.5749 290.6889 330.4442 299.1197 326.9677 308.2086 323.1879 317.8522 319.1444 327.9443 314.8765 338.3775 310.4344 349.0487 305.8614 359.8515 301.2008 370.6796 296.4933 381.4254 291.7761 391.9802 287.1005 402.2418 282.509 412.1049 278.0435 421.465 273.7434 430.2186 269.6402 438.2612 265.7791 445.5019 262.1883 451.8542 258.8778 457.252 255.802 461.6784 252.6909 465.2485 252.6942 465.2519 247.958 468.3308 241.5761 468.8608 236.3438 466.354 233.0735 462.7981 230.7875 458.8411 228.9676 454.439 227.4273 449.5447 226.0991 444.1683 224.97 438.3538 224.0232 432.1695 223.2581 425.6916 222.6794 419.0019 222.2937 412.1854 222.1194 405.3282 222.1576 398.5173 222.417 391.838 222.9101 385.3724 223.6532 379.198 224.6776 373.3854 226.0137 367.9904 227.7252 363.0476 229.9474 358.5697 232.96 354.5941 232.9975 354.6297 236.6145 351.6084 240.7388 349.162 245.3398 347.0836 250.3968 345.2758 255.8745 343.7001 261.7202 342.3353 267.8714 341.1697 274.2605 340.2016 280.816 339.4327 287.4645 338.8714 294.1306 338.5226 300.7385 338.388 307.2136 338.4747 313.4825 338.7911 319.4745 339.3512 325.1234 340.1702 330.3716 341.2654 335.1734 342.6738 339.4992 344.4665 343.3235 346.7905 346.5379 349.9166 348.7042 354.0993 349.1043 358.9437 349.016 358.9348 347.7193 363.5283 345.385 368.1383 342.1647 373.2068 338.1228 378.8141 333.3347 384.9332 327.8854 391.4994 321.8647 398.4316 315.3698 405.6455 308.4972 413.0509 301.3449 420.556 294.0113 428.0677 286.5939 435.4911 279.1934 442.7337 271.9087 449.7011 264.8388 456.2994 258.0821 462.4347 251.7356 468.0137 245.8951 472.9449 240.651 477.1391 236.0821 480.5137 232.2288 483.0017 228.9599 484.5738 224.9843 484.7616 225.016 484.6682 222.2501 480.8818 222.6102 477.6014 223.7815 473.9174 225.6064 469.4233 228.0266 464.1086 230.9784 458.0431 234.3938 451.3195 238.1995 444.0373 242.326 436.3026 246.7018 428.2225 251.2541 419.9047 255.9102 411.4576 260.5932 402.9879 265.2319 394.6055 269.7546 386.4205 274.0878 378.5422 278.1579 371.0801 281.8873 364.1422 285.2034 357.8399 288.0344 352.2863 290.3045 347.5968 291.9359 343.8963 292.8415 341.352 292.9097 341.3681 293.1614 339.9904 293.2635 339.8436 293.2841 339.8587 292.248 340.2121 290.6002 341.2197 288.5382 342.7926 286.1516 344.8437 283.5054 347.2932 280.6601 350.0682 277.6726 353.0963 274.5919 356.2994 271.4712 359.6049 268.3632 362.9402 265.3231 366.2351 262.4068 369.4205 259.6609 372.4189 257.1378 375.158 254.8896 377.5659 252.9705 379.5723 251.4369 381.1107 250.3305 382.1053 249.6543 382.4992 249.4763 382.0237 249.5 382.0318 250.0809 381.0998 251.2639 379.733 252.9919 377.952 255.2033 375.7907 257.8348 373.2842 260.8154 370.4604 264.0901 367.3643 267.5955 364.0322 271.268 360.5006 275.0443 356.8057 278.8522 352.9754 282.6364 349.0547 286.3336 345.0804 289.8803 341.089 293.2129 337.1171 296.2589 333.1947 298.9616 329.3656 301.2584 325.6684 303.0851 322.1417 304.3785 318.8257 305.0671 315.7618 305.1015 313.0005 304.4379 310.5825 304.4053 310.5969 303.0149 308.2495 300.9405 305.7505 298.242 303.135 294.9786 300.4355 291.2077 297.6852 286.9867 294.9166 282.3698 292.168 277.4166 289.4689 272.1869 286.8481 266.7383 284.3373 261.1287 281.9683 255.4142 279.7781 249.654 277.7973 243.9087 276.0538 238.2375 274.5789 232.7006 273.4041 227.3586 272.5643 222.2751 272.0897 217.5166 272.0039 213.1512 272.3309 209.2491 273.088 205.8798 274.284 203.0994 275.913 203.1477 275.9817 200.6888 278.2046 198.2982 281.1595 196.0022 284.7979 193.821 289.0585 191.762 293.8739 189.8318 299.1783 188.0341 304.9066 186.3721 310.9942 184.8493 317.3776 183.4629 323.9918 182.2129 330.7733 181.0992 337.6589 180.1221 344.5852 179.2833 351.4894 178.5796 358.3077 178.0106 364.9766 177.5757 371.4324 177.2741 377.6109 177.1065 383.4472 177.0704 388.8748 177.1642 393.8252 177.3856 398.2254 177.7295 401.9938 169.7606 402.6976 169.5928 398.5753 169.5635 393.92 169.669 388.7744 169.9084 383.1903 170.2815 377.2234 170.7871 370.9319 171.4272 364.3753 172.2025 357.6139 173.1139 350.7084 174.1621 343.7198 175.3453 336.709 176.6668 329.7374 178.1281 322.8664 179.7304 316.1569 181.4753 309.6701 183.3611 303.4656 185.3929 297.6041 187.5752 292.1458 189.9132 287.1498 192.4145 282.675 195.0883 278.7783 197.956 275.523 201.0451 272.9851 201.0934 273.0539 204.5663 271.2298 208.4935 270.0139 212.8168 269.3369 217.4913 269.1444 222.4729 269.3904 227.7153 270.0358 233.1705 271.0408 238.7877 272.3725 244.5132 274.0025 250.2928 275.8989 256.0714 278.03 261.795 280.3604 267.4086 282.8573 272.8538 285.4946 278.074 288.2409 283.0128 291.0645 287.6152 293.9311 291.8266 296.8069 295.5868 299.6669 298.8389 302.4804 301.5257 305.2175 303.5921 307.8473 304.9837 310.3416 304.9511 310.356 305.5885 312.9494 305.4815 315.8193 304.7133 318.9337 303.3613 322.2703 301.4812 325.7977 299.1362 329.4832 296.3895 333.2928 293.3052 337.1923 289.9535 341.1526 286.3888 345.1309 282.6745 349.091 278.874 352.9968 275.0508 356.8122 271.2766 360.5094 267.6062 364.0434 264.103 367.3779 260.8304 370.4763 257.852 373.3023 255.2396 375.8281 253.0491 378.0088 251.3443 379.8066 250.1903 381.1829 249.657 382.0851 249.6806 382.0932 249.6141 382.2332 250.1237 381.8582 251.1726 380.8439 252.6594 379.2773 254.5211 377.2268 256.7094 374.7699 259.1739 371.9807 261.862 368.9312 264.7216 365.6933 267.6946 362.3337 270.7322 358.9274 273.7851 355.5482 276.8013 352.2678 279.7294 349.1576 282.5136 346.2837 285.1064 343.7179 287.4635 341.5313 289.5453 339.7883 291.3369 338.5459 292.931 337.8593 294.668 338.1887 295.4681 339.8543 295.2948 341.9315 295.363 341.9476 294.4958 344.8699 292.9498 348.7748 290.7848 353.611 288.0696 359.2849 284.8756 365.693 281.2777 372.7302 277.3502 380.289 273.1624 388.2589 268.7875 396.5309 264.2991 404.9955 259.7721 413.5443 255.2824 422.0686 250.8999 430.4565 246.6988 438.5978 242.753 446.3816 239.1381 453.6964 235.9315 460.4296 233.2067 466.4622 231.0424 471.6683 229.5221 475.8991 228.7341 478.9254 228.6679 480.1223 227.1555 478.3614 227.1872 478.268 226.4412 477.9845 228.4424 476.817 231.6989 474.488 235.8784 471.1593 240.8203 466.9551 246.4022 461.9838 252.5139 456.3475 259.0499 450.1457 265.9063 443.4762 272.9806 436.4363 280.1705 429.123 287.3743 421.6333 294.4913 414.0656 301.4183 406.5162 308.0526 399.0831 314.2911 391.8656 320.0295 384.9647 325.1639 378.4871 329.5831 372.5429 333.171 367.2585 335.8022 362.7979 337.34 359.4326 337.7349 357.7959 337.6466 357.787 337.5533 357.6199 337.2809 357.3481 336.2772 356.5636 334.2695 355.508 331.3152 354.4393 327.5547 353.4916 323.1239 352.7229 318.1429 352.1576 312.7199 351.7998 306.9543 351.652 300.9412 351.7151 294.773 351.9848 288.5406 352.4552 282.3342 353.115 276.244 353.9564 270.3622 354.9747 264.7832 356.1587 259.6051 357.494 254.9311 358.9559 250.8743 360.5102 247.565 362.1055 245.1483 363.6315 243.7594 364.8686 243.7968 364.9042 242.9065 366.2155 241.7746 368.6767 240.6631 372.133 239.6895 376.405 238.8995 381.3354 238.3059 386.788 237.9222 392.6413 237.7467 398.7808 237.7743 405.0966 237.9957 411.4819 238.3945 417.8317 238.9711 424.0401 239.7144 430.0001 240.6111 435.6014 241.643 440.7283 242.7754 445.2569 243.9776 449.0392 245.1642 451.8934 246.131 453.5803 246.3418 453.8638 244.8013 453.2001 242.3041 453.3846 241.6275 453.7375 241.6308 453.741 243.129 451.9913 245.5401 448.5627 248.5067 443.7853 251.8954 437.8574 255.6286 430.9283 259.647 423.1269 263.9082 414.5772 268.3562 405.3903 272.9426 395.6778 277.6218 385.5505 282.3488 375.1183 287.0872 364.4944 291.7866 353.7852 296.4001 343.0984 300.8835 332.5431 305.1924 322.2281 309.2895 312.2654 313.1265 302.763 316.6553 293.83 319.8309 285.5783 322.6074 278.1224 324.9434 271.5847 326.787 266.0981 326.8472 266.1166 328.3921 261.1831 329.7881 256.47 331.0336 251.9916 332.1223 247.7611 333.044 243.7922 333.7936 240.1012 334.3667 236.7068 334.7644 233.6307 334.9885 230.8984 335.0409 228.5405 334.9396 226.594 334.7222 225.0996 334.4598 224.0863 334.2541 223.5329 334.1817 223.3154 334.1811 223.2113 334.0029 223.068 333.3883 222.9365 332.2325 222.976 330.5545 223.3257 328.4113 224.0628 325.8539 225.225 322.9177 226.8306 322.8666 226.7486 319.527 228.9782 315.2961 232.2974 310.3483 236.5644 304.7937 241.6604 298.7192 247.4768 292.2054 253.9132 285.3272 260.8709 278.1571 268.2525 270.7667 275.9618 263.2259 283.9027 255.6056 291.9806 247.9756 300.1006 240.4056 308.1681 232.9648 316.0887 225.7231 323.7686 218.7488 331.1133 212.1105 338.0292 205.8763 344.4231 200.1133 350.2025 194.888 355.2781 190.2603 359.5607 186.2793 362.9694 182.9565 365.4421 182.9011 365.363 179.9117 366.9945 177.0163 367.8243 174.2226 367.7643 171.7447 366.7564 169.8487 364.9952 168.5434 362.7614 167.7081 360.186 167.2533 357.31 167.1339 354.1595 167.3302 350.767 167.8295 347.1722 168.6306 343.4207 169.7352 339.5623 171.1438 335.6492 172.8574 331.7351 174.8736 327.8727 177.195 324.1175 179.8266 320.5274 182.7698 317.1599 186.0258 314.0731 189.592 311.3221 193.4684 308.965 197.6561 307.0644 197.6793 307.123 202.5118 305.571 208.2924 304.1867 214.9334 302.9451 222.3416 301.835 230.419 300.841 239.0663 299.9484 248.1826 299.1396 257.6668 298.3962 267.4183 297.712 277.3357 297.0728 287.3174 296.4648 297.2615 295.8714 307.0658 295.2721 316.6292 294.6624 325.8497 294.0281 334.6256 293.3555 342.855 292.6287 350.4349 291.8254 357.2644 290.942 363.2416 289.9646 368.265 288.8794 372.2329 287.6715 375.0389 286.3176 375.0415 286.3216 376.6115 284.8308 377.0063 283.2166 376.3288 281.4861 374.6726 279.6633 372.1543 277.7552 368.878 275.7728 364.9485 273.7277 360.4705 271.6316 355.5446 269.5069 350.28 267.3562 344.7821 265.1902 339.1556 263.0206 333.5054 260.8593 327.9325 258.7274 322.5444 256.6291 317.4462 254.5741 312.7419 252.5736 308.5347 250.6384 304.9219 248.7856 302.0035 247.0149 299.8707 245.3151 298.6132 243.6249 298.4595 241.8359 298.4104 241.8198 299.4321 240.2094 301.3103 238.8143 303.9371 237.5466 307.2458 236.3685 311.1634 235.2587 315.615 234.2096 320.5235 233.2188 325.809 232.2804 331.3915 231.3891 337.1897 230.5352 343.123 229.7136 349.1109 228.9239 355.0723 228.1611 360.9255 227.4201 366.5886 226.6929 371.979 225.9735 377.0144 225.2617 381.6102 224.5533 385.6794 223.8447 389.1282 223.1322 391.8473 222.4189 393.6805 221.7433 394.2961 221.3429 394.2383 221.2755 393.9228 221.5644 393.8008 220.907 393.3066 219.4242 392.347 217.412 390.9479 215.0429 389.1511 212.4369 386.9992 209.695 384.5393 206.9071 381.817 204.1607 378.8794 201.5413 375.7759 199.1329 372.5597 197.0188 369.2908 195.2756 366.0336 193.9735 362.855 193.1687 359.8127 192.8972 356.933 193.178 354.1897 194.0377 351.5175 195.5531 348.8657 197.8618 346.2394 201.1244 343.6905 205.4812 341.2913 211.0433 341.3832 211.079 338.8353 218.6044 335.9444 228.3549 332.7771 240.0551 329.3889 253.4595 325.8294 268.3323 322.1456 284.4418 318.3838 301.5587 314.5868 319.4539 310.8027 337.9004 307.0779 356.6707 303.4582 375.5377 299.989 394.2739 296.712 412.651 293.675 430.4415 290.9252 447.417 288.5085 463.3472 286.4707 477.9998 284.8533 491.1368 283.7039 502.5112 283.0693 511.8502 282.9825 518.8021 283.3656 522.6755 281.9012 520.9771 281.9426 520.9205 275.8936 520.4557 277.2419 518.8183 280.4658 513.9898 284.6685 506.7287 289.6211 497.4155 295.1892 486.3304 301.269 473.725 307.7652 459.8391 314.5899 444.9082 321.6557 429.1645 328.8677 412.8351 336.1375 396.1488 343.377 379.3338 350.5014 362.6194 357.427 346.2353 364.0589 330.4058 370.3091 315.3587 376.09 301.3218 381.3161 288.524 385.9054 277.1967 389.7605 267.5668 392.7906 259.8698 394.8979 254.3611 394.8745 254.3522 395.8481 251.4243 395.9353 251.4164 400.8807 257.9052 406.5789 257.476 406.1692 257.8857 404.3733 259.7785 401.8937 262.7111 398.9475 266.4504 395.6608 270.8291 392.1334 275.703 388.445 280.9301 384.6912 286.3871 380.9562 291.9453 377.323 297.477 373.8748 302.8538 370.6857 307.94 367.8495 312.6068 365.4571 316.7117 363.6082 320.0859 362.4305 322.4737 362.115 323.1482 359.9699 316.7269 351.3953 315.5242 351.4139 315.5547 352.7823 314.6655 355.4171 312.7819 358.9907 310.1086 363.3547 306.7488 368.3929 302.7887 373.9971 298.3089 380.0669 293.3927 386.4967 288.1149 393.1811 282.5494 400.0174 276.7729 406.9028 270.8621 413.738 264.8982 420.419 258.9576 426.8392 253.1152 432.8938 247.4506 438.4763 242.0456 443.4806 236.9892 447.7933 232.3758 451.2883 228.316 453.8264 224.9723 455.2499 222.6567 455.5483 222.1972 456.4574 224.7948 456.5246 224.7445 457.5982 225.5687 456.7405 225.3121 454.2481 225.1274 450.5722 225.2847 445.9612 225.8201 440.5676 226.7144 434.5031 227.9366 427.8604 229.4514 420.7221 231.2219 413.1677 233.2169 405.273 235.4017 397.1117 237.742 388.7565 240.203 380.2787 242.7486 371.7507 245.3472 363.2435 247.9649 354.8279 250.5677 346.5744 253.1216 338.5528 255.5918 330.8333 257.9458 323.4855 260.1501 316.5781 262.1712 310.1787 263.9759\"/>\n",
       "</svg>"
      ],
      "text/plain": [
       "<IPython.core.display.SVG object>"
      ]
     },
     "metadata": {},
     "output_type": "display_data"
    }
   ],
   "source": [
    "d = document(600, 600, 'pt')\n",
    "page = d.addpage()\n",
    "curve_fig = shape().fill(rgba(40, 40, 40, 255)).nostroke()\n",
    "page.place(curve_fig.polygon(poly))\n",
    "show(page)"
   ]
  },
  {
   "cell_type": "markdown",
   "metadata": {},
   "source": [
    "## Path class\n",
    "\n",
    "A `Path` can combine lines, curves and movement (using objects from Flat's `command` module). `Path` objects can be rotated, scaled, and translated just like their component curves and lines. You can pass a `Path` object directly to Flat's `.path()` method:"
   ]
  },
  {
   "cell_type": "code",
   "execution_count": 41,
   "metadata": {},
   "outputs": [],
   "source": [
    "from bezmerizing import Path\n",
    "from flat import command"
   ]
  },
  {
   "cell_type": "code",
   "execution_count": 42,
   "metadata": {},
   "outputs": [],
   "source": [
    "p = Path([\n",
    "    command.moveto(10, 10),\n",
    "    command.lineto(15, 25),\n",
    "    command.curveto(15, 30, 5, 30, 5, 25),\n",
    "    command.quadto(0, 20, 10, 20),\n",
    "    command.closepath\n",
    "])"
   ]
  },
  {
   "cell_type": "code",
   "execution_count": 43,
   "metadata": {},
   "outputs": [
    {
     "data": {
      "image/svg+xml": [
       "<svg height=\"283.4646pt\" version=\"1.1\" width=\"283.4646pt\" xmlns=\"http://www.w3.org/2000/svg\" xmlns:xlink=\"http://www.w3.org/1999/xlink\">\n",
       "<title>Untitled</title>\n",
       "<path d=\"M28.3465,28.3465 L42.5197,70.8661 C42.5197,85.0394,14.1732,85.0394,14.1732,70.8661 Q0,56.6929,28.3465,56.6929 z\" fill=\"none\" stroke=\"rgba(40,40,40,1)\" stroke-miterlimit=\"10\"/>\n",
       "<path d=\"M85.0394,85.0394 L99.2126,127.5591 C99.2126,141.7323,70.8661,141.7323,70.8661,127.5591 Q56.6929,113.3858,85.0394,113.3858 z\" fill=\"none\" stroke=\"rgba(40,40,40,1)\" stroke-miterlimit=\"10\"/>\n",
       "<path d=\"M111.1093,46.023 L140.4752,79.8822 C145.8991,92.9765,119.7104,103.8243,114.2865,90.7299 Q95.7683,83.0594,121.957,72.2117 z\" fill=\"none\" stroke=\"rgba(40,40,40,1)\" stroke-miterlimit=\"10\"/>\n",
       "<path d=\"M166.6639,69.0345 L210.7128,119.8233 C218.8486,139.4648,179.5656,155.7364,171.4298,136.0949 Q143.6524,124.5891,182.9355,108.3175 z\" fill=\"none\" stroke=\"rgba(40,40,40,1)\" stroke-miterlimit=\"10\"/>\n",
       "</svg>"
      ],
      "text/plain": [
       "<IPython.core.display.SVG object>"
      ]
     },
     "metadata": {},
     "output_type": "display_data"
    }
   ],
   "source": [
    "d = document(100, 100, 'mm')\n",
    "page = d.addpage()\n",
    "fig = shape().stroke(rgba(40, 40, 40, 255)).nofill()\n",
    "page.place(fig.path(p))\n",
    "page.place(fig.path(p.translate(20, 20)))\n",
    "page.place(fig.path(p.translate(20, 20).rotate(np.pi*0.125)))\n",
    "page.place(fig.path(p.translate(20, 20).rotate(np.pi*0.125).scale(1.5)))\n",
    "show(page)"
   ]
  },
  {
   "cell_type": "markdown",
   "metadata": {},
   "source": [
    "The string representation of a `Path` shows the coordinates of each component command:"
   ]
  },
  {
   "cell_type": "code",
   "execution_count": 44,
   "metadata": {
    "scrolled": false
   },
   "outputs": [
    {
     "data": {
      "text/plain": [
       "Path([moveto(x=10.0000, y=10.0000), lineto(x=15.0000, y=25.0000), curveto(x1=15.0000, y1=30.0000, x2=5.0000, y2=30.0000, x=5.0000, y=25.0000), quadto(x1=0.0000, y1=20.0000, x=10.0000, y=20.0000), closepath])"
      ]
     },
     "execution_count": 44,
     "metadata": {},
     "output_type": "execute_result"
    }
   ],
   "source": [
    "p"
   ]
  },
  {
   "cell_type": "markdown",
   "metadata": {},
   "source": [
    "### Polyline lists"
   ]
  },
  {
   "cell_type": "markdown",
   "metadata": {},
   "source": [
    "You can retrieve the component Bezmerizing objects that constitute a `Path` using the `.to_lists()` method, which returns a list of lists of components in closed paths:"
   ]
  },
  {
   "cell_type": "code",
   "execution_count": 45,
   "metadata": {},
   "outputs": [
    {
     "data": {
      "text/plain": [
       "[[Polyline([[10.0000, 10.0000], [15.0000, 25.0000]]),\n",
       "  Bezier(start=[15.0000, 25.0000], cp1=[15.0000, 30.0000], cp2=[5.0000, 30.0000], end=[5.0000, 25.0000]),\n",
       "  QuadraticBezier(start=[5.0000, 25.0000], cp1=[0.0000, 20.0000], end=[10.0000, 20.0000]),\n",
       "  Polyline([[10.0000, 20.0000], [10.0000, 10.0000]])]]"
      ]
     },
     "execution_count": 45,
     "metadata": {},
     "output_type": "execute_result"
    }
   ],
   "source": [
    "p.to_lists()"
   ]
  },
  {
   "cell_type": "markdown",
   "metadata": {},
   "source": [
    "Placing these objects individually with Flat should yield a shape identical to the original `Path`:"
   ]
  },
  {
   "cell_type": "code",
   "execution_count": 46,
   "metadata": {},
   "outputs": [
    {
     "data": {
      "image/svg+xml": [
       "<svg height=\"283.4646pt\" version=\"1.1\" width=\"283.4646pt\" xmlns=\"http://www.w3.org/2000/svg\" xmlns:xlink=\"http://www.w3.org/1999/xlink\">\n",
       "<title>Untitled</title>\n",
       "<polyline fill=\"none\" points=\"85.0394 85.0394 127.5591 212.5984\" stroke=\"rgba(40,40,40,1)\" stroke-miterlimit=\"10\"/>\n",
       "<path d=\"M127.5591,212.5984 C127.5591,255.1181,42.5197,255.1181,42.5197,212.5984\" fill=\"none\" stroke=\"rgba(40,40,40,1)\" stroke-miterlimit=\"10\"/>\n",
       "<path d=\"M42.5197,212.5984 Q0,170.0787,85.0394,170.0787\" fill=\"none\" stroke=\"rgba(40,40,40,1)\" stroke-miterlimit=\"10\"/>\n",
       "<polyline fill=\"none\" points=\"85.0394 170.0787 85.0394 85.0394\" stroke=\"rgba(40,40,40,1)\" stroke-miterlimit=\"10\"/>\n",
       "</svg>"
      ],
      "text/plain": [
       "<IPython.core.display.SVG object>"
      ]
     },
     "metadata": {},
     "output_type": "display_data"
    }
   ],
   "source": [
    "d = document(100, 100, 'mm')\n",
    "page = d.addpage()\n",
    "fig = shape().stroke(rgba(40, 40, 40, 255)).nofill()\n",
    "for item in p.scale(3).to_lists()[0]:\n",
    "    if isinstance(item, Polyline):\n",
    "        page.place(fig.polyline(item))\n",
    "    elif isinstance(item, Bezier) or isinstance(item, QuadraticBezier):\n",
    "        page.place(fig.path(item.to_path()))\n",
    "show(page)"
   ]
  },
  {
   "cell_type": "markdown",
   "metadata": {},
   "source": [
    "Paths can be converted to polylines with the `.to_polyline_list()` method, which samples points along each component of the path. It returns a `PolylineList` object, with one polyline per closed part of the path."
   ]
  },
  {
   "cell_type": "code",
   "execution_count": 47,
   "metadata": {},
   "outputs": [
    {
     "data": {
      "text/plain": [
       "<bezmerizing.PolylineList at 0x11ecfcba8>"
      ]
     },
     "execution_count": 47,
     "metadata": {},
     "output_type": "execute_result"
    }
   ],
   "source": [
    "p.to_polyline_list()"
   ]
  },
  {
   "cell_type": "markdown",
   "metadata": {},
   "source": [
    "The `samples_per` parameter controls the resolution of the sampling:"
   ]
  },
  {
   "cell_type": "code",
   "execution_count": 48,
   "metadata": {},
   "outputs": [
    {
     "data": {
      "image/svg+xml": [
       "<svg height=\"283.4646pt\" version=\"1.1\" width=\"283.4646pt\" xmlns=\"http://www.w3.org/2000/svg\" xmlns:xlink=\"http://www.w3.org/1999/xlink\">\n",
       "<title>Untitled</title>\n",
       "<polyline fill=\"none\" points=\"85.0394 85.0394 127.5591 212.5984 127.5591 212.5984 125.5784 223.1405 120.1477 231.5742 112.0335 237.8994 102.0025 242.1162 90.8215 244.2246 79.2572 244.2246 68.0762 242.1162 58.0453 237.8994 49.9311 231.5742 44.5003 223.1405 42.5197 212.5984 42.5197 212.5984 35.843 205.219 31.2748 198.5423 28.815 192.5685 28.4636 187.2975 30.2206 182.7292 34.086 178.8638 40.0599 175.7012 48.1421 173.2414 58.3328 171.4843 70.6319 170.4301 85.0394 170.0787 85.0394 170.0787 85.0394 85.0394\" stroke=\"rgba(40,40,40,1)\" stroke-miterlimit=\"10\"/>\n",
       "<circle cx=\"85.0394\" cy=\"85.0394\" fill=\"rgba(255,255,255,1)\" r=\"2.8346\" stroke=\"rgba(40,40,40,1)\" stroke-miterlimit=\"10\"/>\n",
       "<circle cx=\"127.5591\" cy=\"212.5984\" fill=\"rgba(255,255,255,1)\" r=\"2.8346\" stroke=\"rgba(40,40,40,1)\" stroke-miterlimit=\"10\"/>\n",
       "<circle cx=\"127.5591\" cy=\"212.5984\" fill=\"rgba(255,255,255,1)\" r=\"2.8346\" stroke=\"rgba(40,40,40,1)\" stroke-miterlimit=\"10\"/>\n",
       "<circle cx=\"125.5784\" cy=\"223.1405\" fill=\"rgba(255,255,255,1)\" r=\"2.8346\" stroke=\"rgba(40,40,40,1)\" stroke-miterlimit=\"10\"/>\n",
       "<circle cx=\"120.1477\" cy=\"231.5742\" fill=\"rgba(255,255,255,1)\" r=\"2.8346\" stroke=\"rgba(40,40,40,1)\" stroke-miterlimit=\"10\"/>\n",
       "<circle cx=\"112.0335\" cy=\"237.8994\" fill=\"rgba(255,255,255,1)\" r=\"2.8346\" stroke=\"rgba(40,40,40,1)\" stroke-miterlimit=\"10\"/>\n",
       "<circle cx=\"102.0025\" cy=\"242.1162\" fill=\"rgba(255,255,255,1)\" r=\"2.8346\" stroke=\"rgba(40,40,40,1)\" stroke-miterlimit=\"10\"/>\n",
       "<circle cx=\"90.8215\" cy=\"244.2246\" fill=\"rgba(255,255,255,1)\" r=\"2.8346\" stroke=\"rgba(40,40,40,1)\" stroke-miterlimit=\"10\"/>\n",
       "<circle cx=\"79.2572\" cy=\"244.2246\" fill=\"rgba(255,255,255,1)\" r=\"2.8346\" stroke=\"rgba(40,40,40,1)\" stroke-miterlimit=\"10\"/>\n",
       "<circle cx=\"68.0762\" cy=\"242.1162\" fill=\"rgba(255,255,255,1)\" r=\"2.8346\" stroke=\"rgba(40,40,40,1)\" stroke-miterlimit=\"10\"/>\n",
       "<circle cx=\"58.0453\" cy=\"237.8994\" fill=\"rgba(255,255,255,1)\" r=\"2.8346\" stroke=\"rgba(40,40,40,1)\" stroke-miterlimit=\"10\"/>\n",
       "<circle cx=\"49.9311\" cy=\"231.5742\" fill=\"rgba(255,255,255,1)\" r=\"2.8346\" stroke=\"rgba(40,40,40,1)\" stroke-miterlimit=\"10\"/>\n",
       "<circle cx=\"44.5003\" cy=\"223.1405\" fill=\"rgba(255,255,255,1)\" r=\"2.8346\" stroke=\"rgba(40,40,40,1)\" stroke-miterlimit=\"10\"/>\n",
       "<circle cx=\"42.5197\" cy=\"212.5984\" fill=\"rgba(255,255,255,1)\" r=\"2.8346\" stroke=\"rgba(40,40,40,1)\" stroke-miterlimit=\"10\"/>\n",
       "<circle cx=\"42.5197\" cy=\"212.5984\" fill=\"rgba(255,255,255,1)\" r=\"2.8346\" stroke=\"rgba(40,40,40,1)\" stroke-miterlimit=\"10\"/>\n",
       "<circle cx=\"35.843\" cy=\"205.219\" fill=\"rgba(255,255,255,1)\" r=\"2.8346\" stroke=\"rgba(40,40,40,1)\" stroke-miterlimit=\"10\"/>\n",
       "<circle cx=\"31.2748\" cy=\"198.5423\" fill=\"rgba(255,255,255,1)\" r=\"2.8346\" stroke=\"rgba(40,40,40,1)\" stroke-miterlimit=\"10\"/>\n",
       "<circle cx=\"28.815\" cy=\"192.5685\" fill=\"rgba(255,255,255,1)\" r=\"2.8346\" stroke=\"rgba(40,40,40,1)\" stroke-miterlimit=\"10\"/>\n",
       "<circle cx=\"28.4636\" cy=\"187.2975\" fill=\"rgba(255,255,255,1)\" r=\"2.8346\" stroke=\"rgba(40,40,40,1)\" stroke-miterlimit=\"10\"/>\n",
       "<circle cx=\"30.2206\" cy=\"182.7292\" fill=\"rgba(255,255,255,1)\" r=\"2.8346\" stroke=\"rgba(40,40,40,1)\" stroke-miterlimit=\"10\"/>\n",
       "<circle cx=\"34.086\" cy=\"178.8638\" fill=\"rgba(255,255,255,1)\" r=\"2.8346\" stroke=\"rgba(40,40,40,1)\" stroke-miterlimit=\"10\"/>\n",
       "<circle cx=\"40.0599\" cy=\"175.7012\" fill=\"rgba(255,255,255,1)\" r=\"2.8346\" stroke=\"rgba(40,40,40,1)\" stroke-miterlimit=\"10\"/>\n",
       "<circle cx=\"48.1421\" cy=\"173.2414\" fill=\"rgba(255,255,255,1)\" r=\"2.8346\" stroke=\"rgba(40,40,40,1)\" stroke-miterlimit=\"10\"/>\n",
       "<circle cx=\"58.3328\" cy=\"171.4843\" fill=\"rgba(255,255,255,1)\" r=\"2.8346\" stroke=\"rgba(40,40,40,1)\" stroke-miterlimit=\"10\"/>\n",
       "<circle cx=\"70.6319\" cy=\"170.4301\" fill=\"rgba(255,255,255,1)\" r=\"2.8346\" stroke=\"rgba(40,40,40,1)\" stroke-miterlimit=\"10\"/>\n",
       "<circle cx=\"85.0394\" cy=\"170.0787\" fill=\"rgba(255,255,255,1)\" r=\"2.8346\" stroke=\"rgba(40,40,40,1)\" stroke-miterlimit=\"10\"/>\n",
       "<circle cx=\"85.0394\" cy=\"170.0787\" fill=\"rgba(255,255,255,1)\" r=\"2.8346\" stroke=\"rgba(40,40,40,1)\" stroke-miterlimit=\"10\"/>\n",
       "<circle cx=\"85.0394\" cy=\"85.0394\" fill=\"rgba(255,255,255,1)\" r=\"2.8346\" stroke=\"rgba(40,40,40,1)\" stroke-miterlimit=\"10\"/>\n",
       "</svg>"
      ],
      "text/plain": [
       "<IPython.core.display.SVG object>"
      ]
     },
     "metadata": {},
     "output_type": "display_data"
    }
   ],
   "source": [
    "scaled_poly = p.scale(3).to_polyline_list(samples_per=12)[0]\n",
    "\n",
    "d = document(100, 100, 'mm')\n",
    "page = d.addpage()\n",
    "fig = shape().stroke(rgba(40, 40, 40, 255)).nofill()\n",
    "pt_fig = shape().stroke(rgba(40, 40, 40, 255)).fill(rgba(255, 255, 255, 255))\n",
    "page.place(fig.polyline(scaled_poly))\n",
    "for pt in scaled_poly.vertices:\n",
    "    page.place(pt_fig.circle(pt[0], pt[1], 1))\n",
    "show(page)"
   ]
  },
  {
   "cell_type": "markdown",
   "metadata": {},
   "source": [
    "If the `resample_polylines` parameter is true, constituent `Polyline` elements are also resampled:"
   ]
  },
  {
   "cell_type": "code",
   "execution_count": 49,
   "metadata": {},
   "outputs": [
    {
     "data": {
      "image/svg+xml": [
       "<svg height=\"283.4646pt\" version=\"1.1\" width=\"283.4646pt\" xmlns=\"http://www.w3.org/2000/svg\" xmlns:xlink=\"http://www.w3.org/1999/xlink\">\n",
       "<title>Untitled</title>\n",
       "<polyline fill=\"none\" points=\"85.0394 85.0394 88.9048 96.6356 92.7702 108.2319 96.6356 119.8282 100.5011 131.4245 104.3665 143.0208 108.2319 154.617 112.0974 166.2133 115.9628 177.8096 119.8282 189.4059 123.6936 201.0021 127.5591 212.5984 127.5591 212.5984 125.5784 223.1405 120.1477 231.5742 112.0335 237.8994 102.0025 242.1162 90.8215 244.2246 79.2572 244.2246 68.0762 242.1162 58.0453 237.8994 49.9311 231.5742 44.5003 223.1405 42.5197 212.5984 42.5197 212.5984 35.843 205.219 31.2748 198.5423 28.815 192.5685 28.4636 187.2975 30.2206 182.7292 34.086 178.8638 40.0599 175.7012 48.1421 173.2414 58.3328 171.4843 70.6319 170.4301 85.0394 170.0787 85.0394 170.0787 85.0394 162.3479 85.0394 154.617 85.0394 146.8862 85.0394 139.1553 85.0394 131.4245 85.0394 123.6936 85.0394 115.9628 85.0394 108.2319 85.0394 100.5011 85.0394 92.7702 85.0394 85.0394\" stroke=\"rgba(40,40,40,1)\" stroke-miterlimit=\"10\"/>\n",
       "<circle cx=\"85.0394\" cy=\"85.0394\" fill=\"rgba(255,255,255,1)\" r=\"2.8346\" stroke=\"rgba(40,40,40,1)\" stroke-miterlimit=\"10\"/>\n",
       "<circle cx=\"88.9048\" cy=\"96.6356\" fill=\"rgba(255,255,255,1)\" r=\"2.8346\" stroke=\"rgba(40,40,40,1)\" stroke-miterlimit=\"10\"/>\n",
       "<circle cx=\"92.7702\" cy=\"108.2319\" fill=\"rgba(255,255,255,1)\" r=\"2.8346\" stroke=\"rgba(40,40,40,1)\" stroke-miterlimit=\"10\"/>\n",
       "<circle cx=\"96.6356\" cy=\"119.8282\" fill=\"rgba(255,255,255,1)\" r=\"2.8346\" stroke=\"rgba(40,40,40,1)\" stroke-miterlimit=\"10\"/>\n",
       "<circle cx=\"100.5011\" cy=\"131.4245\" fill=\"rgba(255,255,255,1)\" r=\"2.8346\" stroke=\"rgba(40,40,40,1)\" stroke-miterlimit=\"10\"/>\n",
       "<circle cx=\"104.3665\" cy=\"143.0208\" fill=\"rgba(255,255,255,1)\" r=\"2.8346\" stroke=\"rgba(40,40,40,1)\" stroke-miterlimit=\"10\"/>\n",
       "<circle cx=\"108.2319\" cy=\"154.617\" fill=\"rgba(255,255,255,1)\" r=\"2.8346\" stroke=\"rgba(40,40,40,1)\" stroke-miterlimit=\"10\"/>\n",
       "<circle cx=\"112.0974\" cy=\"166.2133\" fill=\"rgba(255,255,255,1)\" r=\"2.8346\" stroke=\"rgba(40,40,40,1)\" stroke-miterlimit=\"10\"/>\n",
       "<circle cx=\"115.9628\" cy=\"177.8096\" fill=\"rgba(255,255,255,1)\" r=\"2.8346\" stroke=\"rgba(40,40,40,1)\" stroke-miterlimit=\"10\"/>\n",
       "<circle cx=\"119.8282\" cy=\"189.4059\" fill=\"rgba(255,255,255,1)\" r=\"2.8346\" stroke=\"rgba(40,40,40,1)\" stroke-miterlimit=\"10\"/>\n",
       "<circle cx=\"123.6936\" cy=\"201.0021\" fill=\"rgba(255,255,255,1)\" r=\"2.8346\" stroke=\"rgba(40,40,40,1)\" stroke-miterlimit=\"10\"/>\n",
       "<circle cx=\"127.5591\" cy=\"212.5984\" fill=\"rgba(255,255,255,1)\" r=\"2.8346\" stroke=\"rgba(40,40,40,1)\" stroke-miterlimit=\"10\"/>\n",
       "<circle cx=\"127.5591\" cy=\"212.5984\" fill=\"rgba(255,255,255,1)\" r=\"2.8346\" stroke=\"rgba(40,40,40,1)\" stroke-miterlimit=\"10\"/>\n",
       "<circle cx=\"125.5784\" cy=\"223.1405\" fill=\"rgba(255,255,255,1)\" r=\"2.8346\" stroke=\"rgba(40,40,40,1)\" stroke-miterlimit=\"10\"/>\n",
       "<circle cx=\"120.1477\" cy=\"231.5742\" fill=\"rgba(255,255,255,1)\" r=\"2.8346\" stroke=\"rgba(40,40,40,1)\" stroke-miterlimit=\"10\"/>\n",
       "<circle cx=\"112.0335\" cy=\"237.8994\" fill=\"rgba(255,255,255,1)\" r=\"2.8346\" stroke=\"rgba(40,40,40,1)\" stroke-miterlimit=\"10\"/>\n",
       "<circle cx=\"102.0025\" cy=\"242.1162\" fill=\"rgba(255,255,255,1)\" r=\"2.8346\" stroke=\"rgba(40,40,40,1)\" stroke-miterlimit=\"10\"/>\n",
       "<circle cx=\"90.8215\" cy=\"244.2246\" fill=\"rgba(255,255,255,1)\" r=\"2.8346\" stroke=\"rgba(40,40,40,1)\" stroke-miterlimit=\"10\"/>\n",
       "<circle cx=\"79.2572\" cy=\"244.2246\" fill=\"rgba(255,255,255,1)\" r=\"2.8346\" stroke=\"rgba(40,40,40,1)\" stroke-miterlimit=\"10\"/>\n",
       "<circle cx=\"68.0762\" cy=\"242.1162\" fill=\"rgba(255,255,255,1)\" r=\"2.8346\" stroke=\"rgba(40,40,40,1)\" stroke-miterlimit=\"10\"/>\n",
       "<circle cx=\"58.0453\" cy=\"237.8994\" fill=\"rgba(255,255,255,1)\" r=\"2.8346\" stroke=\"rgba(40,40,40,1)\" stroke-miterlimit=\"10\"/>\n",
       "<circle cx=\"49.9311\" cy=\"231.5742\" fill=\"rgba(255,255,255,1)\" r=\"2.8346\" stroke=\"rgba(40,40,40,1)\" stroke-miterlimit=\"10\"/>\n",
       "<circle cx=\"44.5003\" cy=\"223.1405\" fill=\"rgba(255,255,255,1)\" r=\"2.8346\" stroke=\"rgba(40,40,40,1)\" stroke-miterlimit=\"10\"/>\n",
       "<circle cx=\"42.5197\" cy=\"212.5984\" fill=\"rgba(255,255,255,1)\" r=\"2.8346\" stroke=\"rgba(40,40,40,1)\" stroke-miterlimit=\"10\"/>\n",
       "<circle cx=\"42.5197\" cy=\"212.5984\" fill=\"rgba(255,255,255,1)\" r=\"2.8346\" stroke=\"rgba(40,40,40,1)\" stroke-miterlimit=\"10\"/>\n",
       "<circle cx=\"35.843\" cy=\"205.219\" fill=\"rgba(255,255,255,1)\" r=\"2.8346\" stroke=\"rgba(40,40,40,1)\" stroke-miterlimit=\"10\"/>\n",
       "<circle cx=\"31.2748\" cy=\"198.5423\" fill=\"rgba(255,255,255,1)\" r=\"2.8346\" stroke=\"rgba(40,40,40,1)\" stroke-miterlimit=\"10\"/>\n",
       "<circle cx=\"28.815\" cy=\"192.5685\" fill=\"rgba(255,255,255,1)\" r=\"2.8346\" stroke=\"rgba(40,40,40,1)\" stroke-miterlimit=\"10\"/>\n",
       "<circle cx=\"28.4636\" cy=\"187.2975\" fill=\"rgba(255,255,255,1)\" r=\"2.8346\" stroke=\"rgba(40,40,40,1)\" stroke-miterlimit=\"10\"/>\n",
       "<circle cx=\"30.2206\" cy=\"182.7292\" fill=\"rgba(255,255,255,1)\" r=\"2.8346\" stroke=\"rgba(40,40,40,1)\" stroke-miterlimit=\"10\"/>\n",
       "<circle cx=\"34.086\" cy=\"178.8638\" fill=\"rgba(255,255,255,1)\" r=\"2.8346\" stroke=\"rgba(40,40,40,1)\" stroke-miterlimit=\"10\"/>\n",
       "<circle cx=\"40.0599\" cy=\"175.7012\" fill=\"rgba(255,255,255,1)\" r=\"2.8346\" stroke=\"rgba(40,40,40,1)\" stroke-miterlimit=\"10\"/>\n",
       "<circle cx=\"48.1421\" cy=\"173.2414\" fill=\"rgba(255,255,255,1)\" r=\"2.8346\" stroke=\"rgba(40,40,40,1)\" stroke-miterlimit=\"10\"/>\n",
       "<circle cx=\"58.3328\" cy=\"171.4843\" fill=\"rgba(255,255,255,1)\" r=\"2.8346\" stroke=\"rgba(40,40,40,1)\" stroke-miterlimit=\"10\"/>\n",
       "<circle cx=\"70.6319\" cy=\"170.4301\" fill=\"rgba(255,255,255,1)\" r=\"2.8346\" stroke=\"rgba(40,40,40,1)\" stroke-miterlimit=\"10\"/>\n",
       "<circle cx=\"85.0394\" cy=\"170.0787\" fill=\"rgba(255,255,255,1)\" r=\"2.8346\" stroke=\"rgba(40,40,40,1)\" stroke-miterlimit=\"10\"/>\n",
       "<circle cx=\"85.0394\" cy=\"170.0787\" fill=\"rgba(255,255,255,1)\" r=\"2.8346\" stroke=\"rgba(40,40,40,1)\" stroke-miterlimit=\"10\"/>\n",
       "<circle cx=\"85.0394\" cy=\"162.3479\" fill=\"rgba(255,255,255,1)\" r=\"2.8346\" stroke=\"rgba(40,40,40,1)\" stroke-miterlimit=\"10\"/>\n",
       "<circle cx=\"85.0394\" cy=\"154.617\" fill=\"rgba(255,255,255,1)\" r=\"2.8346\" stroke=\"rgba(40,40,40,1)\" stroke-miterlimit=\"10\"/>\n",
       "<circle cx=\"85.0394\" cy=\"146.8862\" fill=\"rgba(255,255,255,1)\" r=\"2.8346\" stroke=\"rgba(40,40,40,1)\" stroke-miterlimit=\"10\"/>\n",
       "<circle cx=\"85.0394\" cy=\"139.1553\" fill=\"rgba(255,255,255,1)\" r=\"2.8346\" stroke=\"rgba(40,40,40,1)\" stroke-miterlimit=\"10\"/>\n",
       "<circle cx=\"85.0394\" cy=\"131.4245\" fill=\"rgba(255,255,255,1)\" r=\"2.8346\" stroke=\"rgba(40,40,40,1)\" stroke-miterlimit=\"10\"/>\n",
       "<circle cx=\"85.0394\" cy=\"123.6936\" fill=\"rgba(255,255,255,1)\" r=\"2.8346\" stroke=\"rgba(40,40,40,1)\" stroke-miterlimit=\"10\"/>\n",
       "<circle cx=\"85.0394\" cy=\"115.9628\" fill=\"rgba(255,255,255,1)\" r=\"2.8346\" stroke=\"rgba(40,40,40,1)\" stroke-miterlimit=\"10\"/>\n",
       "<circle cx=\"85.0394\" cy=\"108.2319\" fill=\"rgba(255,255,255,1)\" r=\"2.8346\" stroke=\"rgba(40,40,40,1)\" stroke-miterlimit=\"10\"/>\n",
       "<circle cx=\"85.0394\" cy=\"100.5011\" fill=\"rgba(255,255,255,1)\" r=\"2.8346\" stroke=\"rgba(40,40,40,1)\" stroke-miterlimit=\"10\"/>\n",
       "<circle cx=\"85.0394\" cy=\"92.7702\" fill=\"rgba(255,255,255,1)\" r=\"2.8346\" stroke=\"rgba(40,40,40,1)\" stroke-miterlimit=\"10\"/>\n",
       "<circle cx=\"85.0394\" cy=\"85.0394\" fill=\"rgba(255,255,255,1)\" r=\"2.8346\" stroke=\"rgba(40,40,40,1)\" stroke-miterlimit=\"10\"/>\n",
       "</svg>"
      ],
      "text/plain": [
       "<IPython.core.display.SVG object>"
      ]
     },
     "metadata": {},
     "output_type": "display_data"
    }
   ],
   "source": [
    "scaled_poly = p.scale(3).to_polyline_list(samples_per=12, resample_polylines=True)[0]\n",
    "\n",
    "d = document(100, 100, 'mm')\n",
    "page = d.addpage()\n",
    "fig = shape().stroke(rgba(40, 40, 40, 255)).nofill()\n",
    "pt_fig = shape().stroke(rgba(40, 40, 40, 255)).fill(rgba(255, 255, 255, 255))\n",
    "page.place(fig.polyline(scaled_poly))\n",
    "for pt in scaled_poly.vertices:\n",
    "    page.place(pt_fig.circle(pt[0], pt[1], 1))\n",
    "show(page)"
   ]
  },
  {
   "cell_type": "markdown",
   "metadata": {},
   "source": [
    "You can get a `Path` back from a `PolylineList` with the `.to_path()` method:"
   ]
  },
  {
   "cell_type": "code",
   "execution_count": 50,
   "metadata": {},
   "outputs": [],
   "source": [
    "resampled_path = p.to_polyline_list().to_path()"
   ]
  },
  {
   "cell_type": "markdown",
   "metadata": {},
   "source": [
    "The benefit of `Path`s created with `PolylineList`s is that they respect the underlying renderer's about winding orders and fill rules:"
   ]
  },
  {
   "cell_type": "code",
   "execution_count": 51,
   "metadata": {},
   "outputs": [],
   "source": [
    "cutout = Path([command.moveto(10, 10),\n",
    "              command.curveto(90, 25, 90, 75, 90, 90),\n",
    "              command.lineto(10, 90),\n",
    "              command.closepath,\n",
    "              command.moveto(40, 40),\n",
    "              command.lineto(40, 60),\n",
    "              command.lineto(60, 60),\n",
    "              command.lineto(60, 40),\n",
    "              command.closepath])"
   ]
  },
  {
   "cell_type": "code",
   "execution_count": 53,
   "metadata": {},
   "outputs": [
    {
     "data": {
      "image/svg+xml": [
       "<svg height=\"283.4646pt\" version=\"1.1\" width=\"283.4646pt\" xmlns=\"http://www.w3.org/2000/svg\" xmlns:xlink=\"http://www.w3.org/1999/xlink\">\n",
       "<title>Untitled</title>\n",
       "<path d=\"M28.3465,28.3465 C255.1181,70.8661,255.1181,212.5984,255.1181,255.1181 L28.3465,255.1181 z M113.3858,113.3858 L113.3858,170.0787 L170.0787,170.0787 L170.0787,113.3858 z\" fill=\"rgba(128,128,128,1)\" stroke=\"rgba(40,40,40,1)\" stroke-miterlimit=\"10\"/>\n",
       "</svg>"
      ],
      "text/plain": [
       "<IPython.core.display.SVG object>"
      ]
     },
     "metadata": {},
     "output_type": "display_data"
    }
   ],
   "source": [
    "d = document(100, 100, 'mm')\n",
    "page = d.addpage()\n",
    "fig = shape().stroke(rgba(40, 40, 40, 255)).fill(rgba(128, 128, 128, 255))\n",
    "page.place(fig.path(cutout))\n",
    "show(page)"
   ]
  },
  {
   "cell_type": "markdown",
   "metadata": {},
   "source": [
    "Now, convert this shape to a `PolylineList`:"
   ]
  },
  {
   "cell_type": "code",
   "execution_count": 54,
   "metadata": {},
   "outputs": [],
   "source": [
    "pl_cutout = cutout.to_polyline_list(samples_per=48, resample_polylines=True)"
   ]
  },
  {
   "cell_type": "markdown",
   "metadata": {},
   "source": [
    "Use the `.map()` method to apply a function to each `Polyline` in the `PolylineList`:"
   ]
  },
  {
   "cell_type": "code",
   "execution_count": 55,
   "metadata": {},
   "outputs": [],
   "source": [
    "pl_cutout_wavy = pl_cutout.map(lambda p: Polyline(p.vertices + np.stack(\n",
    "                                [np.sin(p.vertices[:,1]*0.2)*2,\n",
    "                                 np.cos(p.vertices[:,0]*0.2)*2], axis=1)))"
   ]
  },
  {
   "cell_type": "markdown",
   "metadata": {},
   "source": [
    "And now draw the `Path` obtained with `.to_path()`:"
   ]
  },
  {
   "cell_type": "code",
   "execution_count": 56,
   "metadata": {},
   "outputs": [
    {
     "data": {
      "image/svg+xml": [
       "<svg height=\"283.4646pt\" version=\"1.1\" width=\"283.4646pt\" xmlns=\"http://www.w3.org/2000/svg\" xmlns:xlink=\"http://www.w3.org/1999/xlink\">\n",
       "<title>Untitled</title>\n",
       "<path d=\"M33.5015,25.9872 L47.0962,25.581 L59.8269,30.4109 L71.7021,38.553 L82.7622,46.1106 L93.0863,50.4635 L102.7941,51.6626 L112.0417,51.7078 L121.0091,52.9192 L129.8796,56.664 L138.8128,62.976 L147.9152,70.9138 L157.213,79.2068 L166.6344,86.8034 L176.0069,93.1456 L185.0745,98.1796 L193.5331,102.2088 L201.0817,105.6997 L207.4802,109.118 L212.6007,112.8275 L216.4635,117.0512 L219.2448,121.8767 L221.2542,127.2869 L222.8851,133.1969 L224.545,139.4888 L226.5826,146.0369 L229.2252,152.7253 L232.5414,159.456 L236.4341,166.1517 L240.6671,172.7553 L244.9158,179.2265 L248.8319,185.5385 L252.1066,191.6744 L254.5214,197.6239 L255.9774,203.3807 L256.4993,208.9411 L256.2188,214.3021 L255.3418,219.4608 L254.1093,224.4139 L252.7585,229.1575 L251.4929,233.6866 L250.4628,237.996 L249.7576,242.0793 L249.4091,245.9299 L249.4018,249.5408 L249.6868,252.9047 L250.1971,256.0141 L250.8605,258.8616 L250.8605,258.8616 L246.0356,257.2253 L241.2107,255.347 L236.3858,253.4425 L231.5608,251.7303 L226.7359,250.407 L221.911,249.6243 L217.086,249.4722 L212.2611,249.9682 L207.4362,251.0551 L202.6113,252.6085 L197.7863,254.4498 L192.9614,256.3679 L188.1365,258.1425 L183.3115,259.57 L178.4866,260.4865 L173.6617,260.7869 L168.8368,260.4366 L164.0118,259.4759 L159.1869,258.0151 L154.362,256.2217 L149.537,254.3017 L144.7121,252.4754 L139.8872,250.9524 L135.0623,249.9075 L130.2373,249.4606 L125.4124,249.6631 L120.5875,250.4917 L115.7625,251.8513 L110.9376,253.5858 L106.1127,255.4962 L101.2878,257.3632 L96.4628,258.9725 L91.6379,260.1395 L86.813,260.7301 L81.988,260.6765 L77.1631,259.9851 L72.3382,258.735 L67.5133,257.0698 L62.6883,255.1806 L57.8634,253.2842 L53.0385,251.5983 L48.2135,250.3164 L43.3886,249.5856 L38.5637,249.4898 L33.7387,250.04 L28.9138,251.173 L24.0889,252.7589 L24.0889,252.7589 L23.0833,247.9339 L22.6818,243.109 L22.9304,238.2841 L23.8007,233.4591 L25.1927,228.6342 L26.9467,223.8093 L28.8613,218.9844 L30.7169,214.1594 L32.3003,209.3345 L33.43,204.5096 L33.9762,199.6846 L33.8763,194.8597 L33.1416,190.0348 L31.8567,185.2098 L30.1688,180.3849 L28.2717,175.56 L26.3833,170.7351 L24.7201,165.9101 L23.4732,161.0852 L22.7856,156.2603 L22.7363,151.4353 L23.3308,146.6104 L24.501,141.7855 L26.1126,136.9606 L27.9806,132.1356 L29.8905,127.3107 L31.6233,122.4858 L32.9799,117.6608 L33.8048,112.8359 L34.0031,108.011 L33.5522,103.1861 L32.5039,98.3611 L30.9783,93.5362 L29.1507,88.7113 L27.2308,83.8863 L25.4389,79.0614 L23.9808,74.2365 L23.0237,69.4116 L22.6775,64.5866 L22.982,59.7617 L23.9022,54.9368 L25.3324,50.1118 L27.1086,45.2869 L29.0269,40.462 L30.8671,35.6371 L32.418,30.8121 L33.5015,25.9872 z M118.9948,112.5609 L118.9044,113.7672 L118.774,114.9734 L118.6046,116.1796 L118.3975,117.3859 L118.1541,118.5921 L117.8761,119.7983 L117.5657,121.0046 L117.225,122.2108 L116.8565,123.417 L116.4629,124.6233 L116.047,125.8295 L115.6118,127.0357 L115.1606,128.242 L114.6964,129.4482 L114.2228,130.6544 L113.7432,131.8607 L113.2609,133.0669 L112.7796,134.2731 L112.3026,135.4794 L111.8335,136.6856 L111.3757,137.8918 L110.9323,139.0981 L110.5068,140.3043 L110.102,141.5105 L109.7211,142.7167 L109.3667,143.923 L109.0413,145.1292 L108.7474,146.3354 L108.4871,147.5417 L108.2623,148.7479 L108.0745,149.9541 L107.9252,151.1604 L107.8154,152.3666 L107.746,153.5728 L107.7173,154.7791 L107.7297,155.9853 L107.7831,157.1915 L107.877,158.3978 L108.0107,159.604 L108.1834,160.8102 L108.3938,162.0165 L108.6402,163.2227 L108.9211,164.4289 L109.2342,165.6352 L109.5774,166.8414 L109.9482,168.0476 L110.3438,169.2539 L110.3438,169.2539 L111.5501,168.7801 L112.7563,168.3157 L113.9625,167.864 L115.1688,167.4284 L116.375,167.012 L117.5812,166.6178 L118.7875,166.2486 L119.9937,165.9072 L121.1999,165.5959 L122.4062,165.3172 L123.6124,165.0728 L124.8186,164.8647 L126.0249,164.6944 L127.2311,164.563 L128.4373,164.4716 L129.6436,164.4207 L130.8498,164.4108 L132.056,164.442 L133.2623,164.5139 L134.4685,164.6261 L135.6747,164.7778 L136.8809,164.9678 L138.0872,165.1949 L139.2934,165.4573 L140.4996,165.7532 L141.7059,166.0803 L142.9121,166.4365 L144.1183,166.8189 L145.3246,167.225 L146.5308,167.6518 L147.737,168.0961 L148.9433,168.5547 L150.1495,169.0244 L151.3557,169.5017 L152.562,169.9832 L153.7682,170.4654 L154.9744,170.9448 L156.1807,171.4179 L157.3869,171.8813 L158.5931,172.3317 L159.7994,172.7658 L161.0056,173.1804 L162.2118,173.5726 L163.4181,173.9394 L164.6243,174.2784 L165.8305,174.5869 L167.0368,174.8628 L167.0368,174.8628 L166.6411,173.6566 L166.2703,172.4503 L165.9271,171.2441 L165.614,170.0379 L165.3332,168.8316 L165.0867,167.6254 L164.8763,166.4192 L164.7037,165.2129 L164.5699,164.0067 L164.476,162.8005 L164.4226,161.5942 L164.4103,160.388 L164.4389,159.1818 L164.5084,157.9755 L164.6181,156.7693 L164.7674,155.5631 L164.9552,154.3568 L165.1801,153.1506 L165.4404,151.9444 L165.7342,150.7382 L166.0596,149.5319 L166.414,148.3257 L166.795,147.1195 L167.1997,145.9132 L167.6252,144.707 L168.0686,143.5008 L168.5264,142.2945 L168.9956,141.0883 L169.4725,139.8821 L169.9539,138.6758 L170.4361,137.4696 L170.9158,136.2634 L171.3894,135.0571 L171.8535,133.8509 L172.3047,132.6447 L172.7399,131.4384 L173.1558,130.2322 L173.5494,129.026 L173.9179,127.8197 L174.2586,126.6135 L174.569,125.4073 L174.847,124.201 L175.0904,122.9948 L175.2975,121.7886 L175.4669,120.5823 L175.5973,119.3761 L175.6877,118.1699 L175.6877,118.1699 L174.4815,117.894 L173.2752,117.5855 L172.069,117.2465 L170.8628,116.8797 L169.6565,116.4875 L168.4503,116.0729 L167.2441,115.6388 L166.0378,115.1884 L164.8316,114.725 L163.6254,114.2519 L162.4191,113.7725 L161.2129,113.2903 L160.0067,112.8088 L158.8004,112.3315 L157.5942,111.8618 L156.388,111.4031 L155.1818,110.9588 L153.9755,110.5321 L152.7693,110.126 L151.5631,109.7435 L150.3568,109.3874 L149.1506,109.0603 L147.9444,108.7644 L146.7381,108.502 L145.5319,108.2749 L144.3257,108.0849 L143.1194,107.9332 L141.9132,107.821 L140.707,107.749 L139.5007,107.7179 L138.2945,107.7278 L137.0883,107.7787 L135.882,107.8701 L134.6758,108.0015 L133.4696,108.1718 L132.2633,108.3799 L131.0571,108.6242 L129.8509,108.903 L128.6446,109.2143 L127.4384,109.5557 L126.2322,109.9249 L125.0259,110.3191 L123.8197,110.7355 L122.6135,111.1711 L121.4073,111.6228 L120.201,112.0871 L118.9948,112.5609 z\" fill=\"rgba(128,128,128,1)\" stroke=\"rgba(40,40,40,1)\" stroke-miterlimit=\"10\"/>\n",
       "</svg>"
      ],
      "text/plain": [
       "<IPython.core.display.SVG object>"
      ]
     },
     "metadata": {},
     "output_type": "display_data"
    }
   ],
   "source": [
    "d = document(100, 100, 'mm')\n",
    "page = d.addpage()\n",
    "fig = shape().stroke(rgba(40, 40, 40, 255)).fill(rgba(128, 128, 128, 255))\n",
    "page.place(fig.path(pl_cutout_wavy.to_path()))\n",
    "show(page)"
   ]
  },
  {
   "cell_type": "markdown",
   "metadata": {},
   "source": [
    "## Polyline primitives\n",
    "\n",
    "Bezmerizing has several functions for creating `Polyline` objects from geometrical primitives:"
   ]
  },
  {
   "cell_type": "code",
   "execution_count": 57,
   "metadata": {},
   "outputs": [],
   "source": [
    "from bezmerizing.primitives import arc, ellipse, circle, rect"
   ]
  },
  {
   "cell_type": "code",
   "execution_count": 58,
   "metadata": {},
   "outputs": [
    {
     "name": "stdout",
     "output_type": "stream",
     "text": [
      "Polyline([[150.0000, 50.0000], [149.7204, 61.2095], [148.8831, 72.3563], [147.4928, 83.3781], [145.5573, 94.2133], [143.0874, 104.8012], [140.0969, 115.0826], [136.6025, 125.0000], [132.6239, 134.4980], [128.1831, 143.5235], [123.3052, 152.0259], [118.0173, 159.9578], [112.3490, 167.2747], [106.3320, 173.9358], [100.0000, 179.9038], [93.3884, 185.1453], [86.5341, 189.6311], [79.4755, 193.3359], [72.2521, 196.2392], [64.9042, 198.3246], [57.4730, 199.5806], [50.0000, 200.0000], [42.5270, 199.5806], [35.0958, 198.3246], [27.7479, 196.2392], [20.5245, 193.3359], [13.4659, 189.6311], [6.6116, 185.1453], [-0.0000, 179.9038], [-6.3320, 173.9358], [-12.3490, 167.2747], [-18.0173, 159.9578], [-23.3052, 152.0259], [-28.1831, 143.5235], [-32.6239, 134.4980], [-36.6025, 125.0000], [-40.0969, 115.0826], [-43.0874, 104.8012], [-45.5573, 94.2133], [-47.4928, 83.3781], [-48.8831, 72.3563], [-49.7204, 61.2095], [-50.0000, 50.0000], [-49.7204, 38.7905], [-48.8831, 27.6437], [-47.4928, 16.6219], [-45.5573, 5.7867], [-43.0874, -4.8012], [-40.0969, -15.0826], [-36.6025, -25.0000], [-32.6239, -34.4980], [-28.1831, -43.5235], [-23.3052, -52.0259], [-18.0173, -59.9578], [-12.3490, -67.2747], [-6.3320, -73.9358], [0.0000, -79.9038], [6.6116, -85.1453], [13.4659, -89.6311], [20.5245, -93.3359], [27.7479, -96.2392], [35.0958, -98.3246], [42.5270, -99.5806], [50.0000, -100.0000]])\n"
     ]
    }
   ],
   "source": [
    "print(arc(0, 0, 100, 150, 0, (3/2)*np.pi).translate(50, 50))"
   ]
  },
  {
   "cell_type": "code",
   "execution_count": 59,
   "metadata": {},
   "outputs": [],
   "source": [
    "a = arc(0, 0, 40, 60, 0, (3/2)*np.pi)\n",
    "b = ellipse(0, 0, 60, 40)\n",
    "c = circle(0, 0, 75)\n",
    "d = rect(-40, -25, 80, 50)"
   ]
  },
  {
   "cell_type": "code",
   "execution_count": 60,
   "metadata": {},
   "outputs": [
    {
     "data": {
      "image/svg+xml": [
       "<svg height=\"400pt\" version=\"1.1\" width=\"400pt\" xmlns=\"http://www.w3.org/2000/svg\" xmlns:xlink=\"http://www.w3.org/1999/xlink\">\n",
       "<title>Untitled</title>\n",
       "<polyline fill=\"rgba(0,128,128,0.502)\" points=\"90 200 89.8882 204.4838 89.5532 208.9425 88.9971 213.3513 88.2229 217.6853 87.2349 221.9205 86.0388 226.033 84.641 230 83.0496 233.7992 81.2733 237.4094 79.3221 240.8104 77.2069 243.9831 74.9396 246.9099 72.5328 249.5743 70 251.9615 67.3553 254.0581 64.6136 255.8524 61.7902 257.3344 58.9008 258.4957 55.9617 259.3298 52.9892 259.8322 50 260 47.0108 259.8322 44.0383 259.3298 41.0992 258.4957 38.2098 257.3344 35.3864 255.8524 32.6447 254.0581 30 251.9615 27.4672 249.5743 25.0604 246.9099 22.7931 243.9831 20.6779 240.8104 18.7267 237.4094 16.9504 233.7992 15.359 230 13.9612 226.033 12.7651 221.9205 11.7771 217.6853 11.0029 213.3513 10.4468 208.9425 10.1118 204.4838 10 200 10.1118 195.5162 10.4468 191.0575 11.0029 186.6487 11.7771 182.3147 12.7651 178.0795 13.9612 173.967 15.359 170 16.9504 166.2008 18.7267 162.5906 20.6779 159.1896 22.7931 156.0169 25.0604 153.0901 27.4672 150.4257 30 148.0385 32.6447 145.9419 35.3864 144.1476 38.2098 142.6656 41.0992 141.5043 44.0383 140.6702 47.0108 140.1678 50 140\" stroke=\"rgba(0,0,0,1)\" stroke-miterlimit=\"10\" stroke-width=\"2\"/>\n",
       "<polygon fill=\"rgba(0,128,128,0.502)\" points=\"210 200 209.7018 203.9827 208.8103 207.9258 207.3344 211.7902 205.2886 215.5374 202.6933 219.1302 199.5743 222.5328 195.9627 225.7115 191.8942 228.6347 187.4094 231.2733 182.5528 233.601 177.3726 235.5949 171.9205 237.2349 166.2504 238.505 160.4189 239.3923 154.4838 239.8882 148.5042 239.9876 142.5394 239.6896 136.6487 238.9971 130.8908 237.9171 125.3228 236.4602 120 234.641 114.9754 232.4775 110.2988 229.9912 106.0169 227.2069 102.172 224.1522 98.8025 220.8574 95.9419 217.3553 93.6184 213.6808 91.8554 209.8703 90.6702 205.9617 90.0746 201.9938 90.0746 198.0062 90.6702 194.0383 91.8554 190.1297 93.6184 186.3192 95.9419 182.6447 98.8025 179.1426 102.172 175.8478 106.0169 172.7931 110.2988 170.0088 114.9754 167.5225 120 165.359 125.3228 163.5398 130.8908 162.0829 136.6487 161.0029 142.5394 160.3104 148.5042 160.0124 154.4838 160.1118 160.4189 160.6077 166.2504 161.495 171.9205 162.7651 177.3726 164.4051 182.5528 166.399 187.4094 168.7267 191.8942 171.3653 195.9627 174.2885 199.5743 177.4672 202.6933 180.8698 205.2886 184.4626 207.3344 188.2098 208.8103 192.0742 209.7018 196.0173 210 200\" stroke=\"rgba(0,0,0,1)\" stroke-miterlimit=\"10\" stroke-width=\"2\"/>\n",
       "<polygon fill=\"rgba(0,128,128,0.502)\" points=\"325 200 324.6273 207.4676 323.5129 214.861 321.668 222.1066 319.1107 229.1326 315.8666 235.869 311.9679 242.249 307.4533 248.2091 302.3678 253.69 296.7617 258.6374 290.691 263.0019 284.2158 266.7404 277.4006 269.8155 270.313 272.1968 263.0236 273.8606 255.6048 274.7903 248.1302 274.9767 240.6742 274.4179 233.3109 273.1196 226.1135 271.0946 219.1535 268.3629 212.5 264.9519 206.2192 260.8954 200.3736 256.2336 195.0211 251.013 190.2151 245.2853 186.0032 239.1076 182.4273 232.5413 179.5231 225.6515 177.3192 218.5068 175.8377 211.1782 175.0932 203.7384 175.0932 196.2616 175.8377 188.8218 177.3192 181.4932 179.5231 174.3485 182.4273 167.4587 186.0032 160.8924 190.2151 154.7147 195.0211 148.987 200.3736 143.7664 206.2192 139.1046 212.5 135.0481 219.1535 131.6371 226.1135 128.9054 233.3109 126.8804 240.6742 125.5821 248.1302 125.0233 255.6048 125.2097 263.0236 126.1394 270.313 127.8032 277.4006 130.1845 284.2158 133.2596 290.691 136.9981 296.7617 141.3626 302.3678 146.31 307.4533 151.7909 311.9679 157.751 315.8666 164.131 319.1107 170.8674 321.668 177.8934 323.5129 185.139 324.6273 192.5324 325 200\" stroke=\"rgba(0,0,0,1)\" stroke-miterlimit=\"10\" stroke-width=\"2\"/>\n",
       "<polygon fill=\"rgba(0,128,128,0.502)\" points=\"310 175 390 175 390 225 310 225\" stroke=\"rgba(0,0,0,1)\" stroke-miterlimit=\"10\" stroke-width=\"2\"/>\n",
       "</svg>"
      ],
      "text/plain": [
       "<IPython.core.display.SVG object>"
      ]
     },
     "metadata": {},
     "output_type": "display_data"
    }
   ],
   "source": [
    "doc = document(400, 400, 'pt')\n",
    "page = doc.addpage()\n",
    "curve_fig = shape().fill(rgba(0, 128, 128, 128)).stroke(rgba(0, 0, 0, 255)).width(2)\n",
    "page.place(curve_fig.polyline(a.translate(50, 200)))\n",
    "page.place(curve_fig.polygon(b.translate(150, 200)))\n",
    "page.place(curve_fig.polygon(c.translate(250, 200)))\n",
    "page.place(curve_fig.polygon(d.translate(350, 200)))\n",
    "show(page)"
   ]
  },
  {
   "cell_type": "code",
   "execution_count": 61,
   "metadata": {},
   "outputs": [
    {
     "data": {
      "image/svg+xml": [
       "<svg height=\"400pt\" version=\"1.1\" width=\"400pt\" xmlns=\"http://www.w3.org/2000/svg\" xmlns:xlink=\"http://www.w3.org/1999/xlink\">\n",
       "<title>Untitled</title>\n",
       "<polyline fill=\"rgba(0,128,128,0.502)\" points=\"340 200 339.3043 209.9568 337.2241 219.8146 333.7802 229.4755 329.0067 238.8435 322.951 247.8254 315.6734 256.332 307.2462 264.2788 297.7532 271.5867 287.2886 278.1831 275.9565 284.0026 263.8695 288.9872 251.1477 293.0874 237.9177 296.2624 224.3107 298.4808 210.4622 299.7204 196.5097 299.9689 182.5919 299.2239 168.8471 297.4928 155.4119 294.7927 142.4198 291.1506 130 286.6025 118.2759 281.1938 107.364 274.9781 97.3727 268.0173 88.4014 260.3804 80.5393 252.1435 73.8644 243.3884 68.443 234.202 64.3292 224.6757 61.5637 214.9042 60.174 204.9846 60.174 195.0154 61.5637 185.0958 64.3292 175.3243 68.443 165.798 73.8644 156.6116 80.5393 147.8565 88.4014 139.6196 97.3727 131.9827 107.364 125.0219 118.2759 118.8062 130 113.3975 142.4198 108.8494 155.4119 105.2073 168.8471 102.5072 182.5919 100.7761 196.5097 100.0311 210.4622 100.2796 224.3107 101.5192 237.9177 103.7376 251.1477 106.9126 263.8695 111.0128 275.9565 115.9974 287.2886 121.8169 297.7532 128.4133 307.2462 135.7212 315.6734 143.668 322.951 152.1746 329.0067 161.1565 333.7802 170.5245 337.2241 180.1854 339.3043 190.0432 340 200\" stroke=\"rgba(0,0,0,1)\" stroke-miterlimit=\"10\" stroke-width=\"2\"/>\n",
       "<circle cx=\"340\" cy=\"200\" fill=\"rgba(255,255,255,1)\" r=\"3\" stroke=\"rgba(0,0,0,1)\" stroke-miterlimit=\"10\"/>\n",
       "<circle cx=\"339.3043\" cy=\"209.9568\" fill=\"rgba(255,255,255,1)\" r=\"3\" stroke=\"rgba(0,0,0,1)\" stroke-miterlimit=\"10\"/>\n",
       "<circle cx=\"337.2241\" cy=\"219.8146\" fill=\"rgba(255,255,255,1)\" r=\"3\" stroke=\"rgba(0,0,0,1)\" stroke-miterlimit=\"10\"/>\n",
       "<circle cx=\"333.7802\" cy=\"229.4755\" fill=\"rgba(255,255,255,1)\" r=\"3\" stroke=\"rgba(0,0,0,1)\" stroke-miterlimit=\"10\"/>\n",
       "<circle cx=\"329.0067\" cy=\"238.8435\" fill=\"rgba(255,255,255,1)\" r=\"3\" stroke=\"rgba(0,0,0,1)\" stroke-miterlimit=\"10\"/>\n",
       "<circle cx=\"322.951\" cy=\"247.8254\" fill=\"rgba(255,255,255,1)\" r=\"3\" stroke=\"rgba(0,0,0,1)\" stroke-miterlimit=\"10\"/>\n",
       "<circle cx=\"315.6734\" cy=\"256.332\" fill=\"rgba(255,255,255,1)\" r=\"3\" stroke=\"rgba(0,0,0,1)\" stroke-miterlimit=\"10\"/>\n",
       "<circle cx=\"307.2462\" cy=\"264.2788\" fill=\"rgba(255,255,255,1)\" r=\"3\" stroke=\"rgba(0,0,0,1)\" stroke-miterlimit=\"10\"/>\n",
       "<circle cx=\"297.7532\" cy=\"271.5867\" fill=\"rgba(255,255,255,1)\" r=\"3\" stroke=\"rgba(0,0,0,1)\" stroke-miterlimit=\"10\"/>\n",
       "<circle cx=\"287.2886\" cy=\"278.1831\" fill=\"rgba(255,255,255,1)\" r=\"3\" stroke=\"rgba(0,0,0,1)\" stroke-miterlimit=\"10\"/>\n",
       "<circle cx=\"275.9565\" cy=\"284.0026\" fill=\"rgba(255,255,255,1)\" r=\"3\" stroke=\"rgba(0,0,0,1)\" stroke-miterlimit=\"10\"/>\n",
       "<circle cx=\"263.8695\" cy=\"288.9872\" fill=\"rgba(255,255,255,1)\" r=\"3\" stroke=\"rgba(0,0,0,1)\" stroke-miterlimit=\"10\"/>\n",
       "<circle cx=\"251.1477\" cy=\"293.0874\" fill=\"rgba(255,255,255,1)\" r=\"3\" stroke=\"rgba(0,0,0,1)\" stroke-miterlimit=\"10\"/>\n",
       "<circle cx=\"237.9177\" cy=\"296.2624\" fill=\"rgba(255,255,255,1)\" r=\"3\" stroke=\"rgba(0,0,0,1)\" stroke-miterlimit=\"10\"/>\n",
       "<circle cx=\"224.3107\" cy=\"298.4808\" fill=\"rgba(255,255,255,1)\" r=\"3\" stroke=\"rgba(0,0,0,1)\" stroke-miterlimit=\"10\"/>\n",
       "<circle cx=\"210.4622\" cy=\"299.7204\" fill=\"rgba(255,255,255,1)\" r=\"3\" stroke=\"rgba(0,0,0,1)\" stroke-miterlimit=\"10\"/>\n",
       "<circle cx=\"196.5097\" cy=\"299.9689\" fill=\"rgba(255,255,255,1)\" r=\"3\" stroke=\"rgba(0,0,0,1)\" stroke-miterlimit=\"10\"/>\n",
       "<circle cx=\"182.5919\" cy=\"299.2239\" fill=\"rgba(255,255,255,1)\" r=\"3\" stroke=\"rgba(0,0,0,1)\" stroke-miterlimit=\"10\"/>\n",
       "<circle cx=\"168.8471\" cy=\"297.4928\" fill=\"rgba(255,255,255,1)\" r=\"3\" stroke=\"rgba(0,0,0,1)\" stroke-miterlimit=\"10\"/>\n",
       "<circle cx=\"155.4119\" cy=\"294.7927\" fill=\"rgba(255,255,255,1)\" r=\"3\" stroke=\"rgba(0,0,0,1)\" stroke-miterlimit=\"10\"/>\n",
       "<circle cx=\"142.4198\" cy=\"291.1506\" fill=\"rgba(255,255,255,1)\" r=\"3\" stroke=\"rgba(0,0,0,1)\" stroke-miterlimit=\"10\"/>\n",
       "<circle cx=\"130\" cy=\"286.6025\" fill=\"rgba(255,255,255,1)\" r=\"3\" stroke=\"rgba(0,0,0,1)\" stroke-miterlimit=\"10\"/>\n",
       "<circle cx=\"118.2759\" cy=\"281.1938\" fill=\"rgba(255,255,255,1)\" r=\"3\" stroke=\"rgba(0,0,0,1)\" stroke-miterlimit=\"10\"/>\n",
       "<circle cx=\"107.364\" cy=\"274.9781\" fill=\"rgba(255,255,255,1)\" r=\"3\" stroke=\"rgba(0,0,0,1)\" stroke-miterlimit=\"10\"/>\n",
       "<circle cx=\"97.3727\" cy=\"268.0173\" fill=\"rgba(255,255,255,1)\" r=\"3\" stroke=\"rgba(0,0,0,1)\" stroke-miterlimit=\"10\"/>\n",
       "<circle cx=\"88.4014\" cy=\"260.3804\" fill=\"rgba(255,255,255,1)\" r=\"3\" stroke=\"rgba(0,0,0,1)\" stroke-miterlimit=\"10\"/>\n",
       "<circle cx=\"80.5393\" cy=\"252.1435\" fill=\"rgba(255,255,255,1)\" r=\"3\" stroke=\"rgba(0,0,0,1)\" stroke-miterlimit=\"10\"/>\n",
       "<circle cx=\"73.8644\" cy=\"243.3884\" fill=\"rgba(255,255,255,1)\" r=\"3\" stroke=\"rgba(0,0,0,1)\" stroke-miterlimit=\"10\"/>\n",
       "<circle cx=\"68.443\" cy=\"234.202\" fill=\"rgba(255,255,255,1)\" r=\"3\" stroke=\"rgba(0,0,0,1)\" stroke-miterlimit=\"10\"/>\n",
       "<circle cx=\"64.3292\" cy=\"224.6757\" fill=\"rgba(255,255,255,1)\" r=\"3\" stroke=\"rgba(0,0,0,1)\" stroke-miterlimit=\"10\"/>\n",
       "<circle cx=\"61.5637\" cy=\"214.9042\" fill=\"rgba(255,255,255,1)\" r=\"3\" stroke=\"rgba(0,0,0,1)\" stroke-miterlimit=\"10\"/>\n",
       "<circle cx=\"60.174\" cy=\"204.9846\" fill=\"rgba(255,255,255,1)\" r=\"3\" stroke=\"rgba(0,0,0,1)\" stroke-miterlimit=\"10\"/>\n",
       "<circle cx=\"60.174\" cy=\"195.0154\" fill=\"rgba(255,255,255,1)\" r=\"3\" stroke=\"rgba(0,0,0,1)\" stroke-miterlimit=\"10\"/>\n",
       "<circle cx=\"61.5637\" cy=\"185.0958\" fill=\"rgba(255,255,255,1)\" r=\"3\" stroke=\"rgba(0,0,0,1)\" stroke-miterlimit=\"10\"/>\n",
       "<circle cx=\"64.3292\" cy=\"175.3243\" fill=\"rgba(255,255,255,1)\" r=\"3\" stroke=\"rgba(0,0,0,1)\" stroke-miterlimit=\"10\"/>\n",
       "<circle cx=\"68.443\" cy=\"165.798\" fill=\"rgba(255,255,255,1)\" r=\"3\" stroke=\"rgba(0,0,0,1)\" stroke-miterlimit=\"10\"/>\n",
       "<circle cx=\"73.8644\" cy=\"156.6116\" fill=\"rgba(255,255,255,1)\" r=\"3\" stroke=\"rgba(0,0,0,1)\" stroke-miterlimit=\"10\"/>\n",
       "<circle cx=\"80.5393\" cy=\"147.8565\" fill=\"rgba(255,255,255,1)\" r=\"3\" stroke=\"rgba(0,0,0,1)\" stroke-miterlimit=\"10\"/>\n",
       "<circle cx=\"88.4014\" cy=\"139.6196\" fill=\"rgba(255,255,255,1)\" r=\"3\" stroke=\"rgba(0,0,0,1)\" stroke-miterlimit=\"10\"/>\n",
       "<circle cx=\"97.3727\" cy=\"131.9827\" fill=\"rgba(255,255,255,1)\" r=\"3\" stroke=\"rgba(0,0,0,1)\" stroke-miterlimit=\"10\"/>\n",
       "<circle cx=\"107.364\" cy=\"125.0219\" fill=\"rgba(255,255,255,1)\" r=\"3\" stroke=\"rgba(0,0,0,1)\" stroke-miterlimit=\"10\"/>\n",
       "<circle cx=\"118.2759\" cy=\"118.8062\" fill=\"rgba(255,255,255,1)\" r=\"3\" stroke=\"rgba(0,0,0,1)\" stroke-miterlimit=\"10\"/>\n",
       "<circle cx=\"130\" cy=\"113.3975\" fill=\"rgba(255,255,255,1)\" r=\"3\" stroke=\"rgba(0,0,0,1)\" stroke-miterlimit=\"10\"/>\n",
       "<circle cx=\"142.4198\" cy=\"108.8494\" fill=\"rgba(255,255,255,1)\" r=\"3\" stroke=\"rgba(0,0,0,1)\" stroke-miterlimit=\"10\"/>\n",
       "<circle cx=\"155.4119\" cy=\"105.2073\" fill=\"rgba(255,255,255,1)\" r=\"3\" stroke=\"rgba(0,0,0,1)\" stroke-miterlimit=\"10\"/>\n",
       "<circle cx=\"168.8471\" cy=\"102.5072\" fill=\"rgba(255,255,255,1)\" r=\"3\" stroke=\"rgba(0,0,0,1)\" stroke-miterlimit=\"10\"/>\n",
       "<circle cx=\"182.5919\" cy=\"100.7761\" fill=\"rgba(255,255,255,1)\" r=\"3\" stroke=\"rgba(0,0,0,1)\" stroke-miterlimit=\"10\"/>\n",
       "<circle cx=\"196.5097\" cy=\"100.0311\" fill=\"rgba(255,255,255,1)\" r=\"3\" stroke=\"rgba(0,0,0,1)\" stroke-miterlimit=\"10\"/>\n",
       "<circle cx=\"210.4622\" cy=\"100.2796\" fill=\"rgba(255,255,255,1)\" r=\"3\" stroke=\"rgba(0,0,0,1)\" stroke-miterlimit=\"10\"/>\n",
       "<circle cx=\"224.3107\" cy=\"101.5192\" fill=\"rgba(255,255,255,1)\" r=\"3\" stroke=\"rgba(0,0,0,1)\" stroke-miterlimit=\"10\"/>\n",
       "<circle cx=\"237.9177\" cy=\"103.7376\" fill=\"rgba(255,255,255,1)\" r=\"3\" stroke=\"rgba(0,0,0,1)\" stroke-miterlimit=\"10\"/>\n",
       "<circle cx=\"251.1477\" cy=\"106.9126\" fill=\"rgba(255,255,255,1)\" r=\"3\" stroke=\"rgba(0,0,0,1)\" stroke-miterlimit=\"10\"/>\n",
       "<circle cx=\"263.8695\" cy=\"111.0128\" fill=\"rgba(255,255,255,1)\" r=\"3\" stroke=\"rgba(0,0,0,1)\" stroke-miterlimit=\"10\"/>\n",
       "<circle cx=\"275.9565\" cy=\"115.9974\" fill=\"rgba(255,255,255,1)\" r=\"3\" stroke=\"rgba(0,0,0,1)\" stroke-miterlimit=\"10\"/>\n",
       "<circle cx=\"287.2886\" cy=\"121.8169\" fill=\"rgba(255,255,255,1)\" r=\"3\" stroke=\"rgba(0,0,0,1)\" stroke-miterlimit=\"10\"/>\n",
       "<circle cx=\"297.7532\" cy=\"128.4133\" fill=\"rgba(255,255,255,1)\" r=\"3\" stroke=\"rgba(0,0,0,1)\" stroke-miterlimit=\"10\"/>\n",
       "<circle cx=\"307.2462\" cy=\"135.7212\" fill=\"rgba(255,255,255,1)\" r=\"3\" stroke=\"rgba(0,0,0,1)\" stroke-miterlimit=\"10\"/>\n",
       "<circle cx=\"315.6734\" cy=\"143.668\" fill=\"rgba(255,255,255,1)\" r=\"3\" stroke=\"rgba(0,0,0,1)\" stroke-miterlimit=\"10\"/>\n",
       "<circle cx=\"322.951\" cy=\"152.1746\" fill=\"rgba(255,255,255,1)\" r=\"3\" stroke=\"rgba(0,0,0,1)\" stroke-miterlimit=\"10\"/>\n",
       "<circle cx=\"329.0067\" cy=\"161.1565\" fill=\"rgba(255,255,255,1)\" r=\"3\" stroke=\"rgba(0,0,0,1)\" stroke-miterlimit=\"10\"/>\n",
       "<circle cx=\"333.7802\" cy=\"170.5245\" fill=\"rgba(255,255,255,1)\" r=\"3\" stroke=\"rgba(0,0,0,1)\" stroke-miterlimit=\"10\"/>\n",
       "<circle cx=\"337.2241\" cy=\"180.1854\" fill=\"rgba(255,255,255,1)\" r=\"3\" stroke=\"rgba(0,0,0,1)\" stroke-miterlimit=\"10\"/>\n",
       "<circle cx=\"339.3043\" cy=\"190.0432\" fill=\"rgba(255,255,255,1)\" r=\"3\" stroke=\"rgba(0,0,0,1)\" stroke-miterlimit=\"10\"/>\n",
       "<circle cx=\"340\" cy=\"200\" fill=\"rgba(255,255,255,1)\" r=\"3\" stroke=\"rgba(0,0,0,1)\" stroke-miterlimit=\"10\"/>\n",
       "</svg>"
      ],
      "text/plain": [
       "<IPython.core.display.SVG object>"
      ]
     },
     "metadata": {},
     "output_type": "display_data"
    }
   ],
   "source": [
    "b = ellipse(200, 200, 140, 100)\n",
    "doc = document(400, 400, 'pt')\n",
    "page = doc.addpage()\n",
    "curve_fig = shape().fill(rgba(0, 128, 128, 128)).stroke(rgba(0, 0, 0, 255)).width(2)\n",
    "point_fig = shape().fill(rgba(255, 255, 255, 255)).stroke(rgba(0, 0, 0, 255)).width(1)\n",
    "page.place(curve_fig.polyline(b))\n",
    "for pt in b.vertices:\n",
    "    page.place(point_fig.circle(*pt, 3))\n",
    "show(page)"
   ]
  },
  {
   "cell_type": "markdown",
   "metadata": {},
   "source": [
    "You can make polygons with sides of regular length using the `circle` or `ellipse` functions, and setting the `n` parameter to number of points in the desired polygon:"
   ]
  },
  {
   "cell_type": "code",
   "execution_count": 62,
   "metadata": {},
   "outputs": [],
   "source": [
    "b = ellipse(200, 200, 140, 100, n=5)"
   ]
  },
  {
   "cell_type": "code",
   "execution_count": 63,
   "metadata": {},
   "outputs": [
    {
     "data": {
      "image/svg+xml": [
       "<svg height=\"400pt\" version=\"1.1\" width=\"400pt\" xmlns=\"http://www.w3.org/2000/svg\" xmlns:xlink=\"http://www.w3.org/1999/xlink\">\n",
       "<title>Untitled</title>\n",
       "<polyline fill=\"rgba(0,128,128,0.502)\" points=\"340 200 200 300 60 200 200 100 340 200\" stroke=\"rgba(0,0,0,1)\" stroke-miterlimit=\"10\" stroke-width=\"2\"/>\n",
       "<circle cx=\"340\" cy=\"200\" fill=\"rgba(255,255,255,1)\" r=\"3\" stroke=\"rgba(0,0,0,1)\" stroke-miterlimit=\"10\"/>\n",
       "<circle cx=\"200\" cy=\"300\" fill=\"rgba(255,255,255,1)\" r=\"3\" stroke=\"rgba(0,0,0,1)\" stroke-miterlimit=\"10\"/>\n",
       "<circle cx=\"60\" cy=\"200\" fill=\"rgba(255,255,255,1)\" r=\"3\" stroke=\"rgba(0,0,0,1)\" stroke-miterlimit=\"10\"/>\n",
       "<circle cx=\"200\" cy=\"100\" fill=\"rgba(255,255,255,1)\" r=\"3\" stroke=\"rgba(0,0,0,1)\" stroke-miterlimit=\"10\"/>\n",
       "<circle cx=\"340\" cy=\"200\" fill=\"rgba(255,255,255,1)\" r=\"3\" stroke=\"rgba(0,0,0,1)\" stroke-miterlimit=\"10\"/>\n",
       "</svg>"
      ],
      "text/plain": [
       "<IPython.core.display.SVG object>"
      ]
     },
     "metadata": {},
     "output_type": "display_data"
    }
   ],
   "source": [
    "doc = document(400, 400, 'pt')\n",
    "page = doc.addpage()\n",
    "curve_fig = shape().fill(rgba(0, 128, 128, 128)).stroke(rgba(0, 0, 0, 255)).width(2)\n",
    "point_fig = shape().fill(rgba(255, 255, 255, 255)).stroke(rgba(0, 0, 0, 255)).width(1)\n",
    "page.place(curve_fig.polyline(b))\n",
    "for pt in b.vertices:\n",
    "    page.place(point_fig.circle(*pt, 3))\n",
    "show(page)"
   ]
  },
  {
   "cell_type": "markdown",
   "metadata": {},
   "source": [
    "You can call the `.fancy_curve()` method on polylines constructed with this method:"
   ]
  },
  {
   "cell_type": "code",
   "execution_count": 64,
   "metadata": {},
   "outputs": [
    {
     "data": {
      "image/svg+xml": [
       "<svg height=\"400pt\" version=\"1.1\" width=\"400pt\" xmlns=\"http://www.w3.org/2000/svg\" xmlns:xlink=\"http://www.w3.org/1999/xlink\">\n",
       "<title>Untitled</title>\n",
       "<polygon fill=\"rgba(40,40,40,1)\" points=\"13.7947 35.9302 11.6481 33.6989 9.3572 29.5536 7.2937 24.6516 5.8968 20.1572 5.6496 16.9923 5.8006 17.0258 7.5171 14.6507 10.673 11.7292 14.4458 8.6938 17.9754 6.2368 20.663 5.0688 20.6626 4.9141 23.7011 5.8333 27.7921 8.1603 32.1385 11.2256 35.697 14.3511 37.4169 16.9257 36.4923 17.3066 34.5286 15.6306 30.8833 12.9102 26.6096 9.9943 22.7684 7.6647 20.6668 6.712 20.6664 6.5573 18.5714 7.2843 15.0561 9.5186 11.3479 12.502 8.4126 15.4572 7.2539 17.348 7.4049 17.3814 7.8854 19.6383 9.3384 23.8893 11.2715 28.6882 13.1482 32.8315 14.3648 35.1086\"/>\n",
       "<polygon fill=\"rgba(40,40,40,1)\" points=\"28.9467 16.5185 30.4594 18.1763 30.1887 21.153 29.9423 24.46 29.769 27.444 28.0274 28.8593 27.8028 27.8849 27.7261 26.7675 28.6974 24.2941 28.9329 21.1326 28.3388 18.5427 28.5802 17.449\"/>\n",
       "<polygon fill=\"rgba(40,40,40,1)\" points=\"19.5609 17.6515 20.16 16.2368 21.6331 16.355 23.0495 16.3838 24.5262 16.3256 25.0672 17.7635 24.0781 17.9111 23.592 18.2643 22.8915 17.6298 21.7402 17.6064 21.0146 18.2118 20.5432 17.8392\"/>\n",
       "<polygon fill=\"rgba(40,40,40,1)\" points=\"18.1117 54.98 20.1497 57.2256 22.5596 62.6026 25.7609 68.6936 28.8227 73.728 29.5165 76.6801 28.5304 76.8463 26.8929 74.6802 24.6456 69.2714 21.4513 63.1935 18.2709 58.275 17.4156 55.6979\"/>\n",
       "<polygon fill=\"rgba(40,40,40,1)\" points=\"18.1519 56.3885 20.3766 56.5669 23.6731 57.4546 27.2899 58.7267 30.4382 60.0678 32.449 61.2596 32.3985 61.3194 33.5524 62.9992 34.6613 65.3828 35.6427 68.0182 36.2867 70.3585 36.3248 72.0246 36.3248 72.0246 35.19 73.2452 33.1544 74.5674 30.6707 75.8863 28.2588 76.9323 26.2806 77.4221 26.2787 77.5003 23.9838 77.0563 20.7393 75.9685 17.1902 74.5182 14.1359 72.993 12.3539 71.6492 12.9991 70.8852 14.8146 71.5663 17.9201 72.7105 21.4578 73.9526 24.5917 74.9591 26.3313 75.3897 26.3293 75.468 27.7324 75.2679 30.0657 74.4968 32.5458 73.4234 34.547 72.3302 35.3765 71.6643 35.3765 71.6643 35.1984 70.6157 34.4279 68.4695 33.2863 66.0201 32.0536 63.8941 31.1373 62.8129 31.0869 62.8726 29.5002 62.0395 26.4886 60.7112 23.0186 59.2909 19.9368 58.0844 18.127 57.3882\"/>\n",
       "<polygon fill=\"rgba(40,40,40,1)\" points=\"14.8485 99.9097 16.9383 99.9236 19.7181 101.4825 22.7949 103.7823 25.4513 106.1462 27.0061 107.962 27.0061 107.962 28.0592 110.1079 29.1804 113.4825 30.0764 117.2178 30.4094 120.3875 29.5959 122.3125 29.0461 121.4772 28.4419 120.5441 27.9308 117.5921 27.3266 113.9064 26.6886 110.5252 26.1206 108.5449 26.1206 108.5449 24.5261 107.2402 21.6726 105.3174 18.5261 103.3054 16.0166 101.6689 15.3984 100.745\"/>\n",
       "<polygon fill=\"rgba(40,40,40,1)\" points=\"19.0677 118.2799 17.9 117.8319 16.639 116.7898 15.4318 115.4509 14.4901 114.0965 14.0018 112.7631 14.0797 112.7554 14.4115 111.3958 15.1227 109.7877 16.0219 108.0522 16.9299 106.5436 17.7365 105.5735 17.7365 105.5735 18.8528 104.9859 20.5171 104.4109 22.4014 103.8916 24.1221 103.5296 25.521 103.4873 25.5447 103.4127 26.7477 104.1672 27.8772 105.3695 28.9363 106.8284 29.6939 108.2782 29.8897 109.5135 28.8945 109.6113 28.3306 109.0767 27.3751 107.9958 26.2676 106.7801 25.2771 105.7812 24.9066 105.4252 24.9302 105.3506 24.275 105.2685 22.6743 105.3823 20.8304 105.6683 19.2198 106.0424 18.375 106.3618 18.375 106.3618 17.8872 107.1218 17.1869 108.6197 16.5243 110.3641 16.0808 111.9063 16.025 112.5642 16.1029 112.5566 16.3743 112.9929 17.1457 114.1693 18.1051 115.505 18.9641 116.6641 19.37 117.3266\"/>\n",
       "<polygon fill=\"rgba(40,40,40,1)\" points=\"16.459 125.642 14.7173 124.9127 13.1751 122.9026 11.871 120.2815 11.0384 117.6362 10.9787 115.4028 11.1303 115.4336 12.3386 112.9847 14.54 109.2511 17.1242 105.0707 19.4798 101.4325 21.1303 99.2569 21.035 99.1351 23.0595 98.1901 25.7979 97.7523 28.7255 97.7471 31.213 98.228 32.644 99.46 31.7426 99.8929 30.8178 99.9151 28.6367 99.846 25.9527 99.929 23.5065 100.1961 22.1427 100.5512 22.0474 100.4293 20.4551 102.1405 17.9868 105.6264 15.4226 109.7743 13.4079 113.5405 12.5891 115.7299 12.7407 115.7607 13.0326 117.1393 13.8873 119.4469 15.0128 121.8848 16.0497 123.805 16.4433 124.6422\"/>\n",
       "<polygon fill=\"rgba(40,40,40,1)\" points=\"25.5718 114.9039 24.3686 115.1024 22.5529 115.0195 20.536 114.7547 18.7539 114.4017 17.5455 114.0148 17.5762 113.9428 16.7259 113.2868 15.8598 112.3994 15.036 111.4289 14.4096 110.5507 14.1348 109.6609 14.1348 109.6609 14.7016 108.9221 15.5941 108.3162 16.7039 107.6924 17.8243 107.1612 18.8496 106.8415 18.8458 106.7634 20.1134 106.8204 21.9071 107.1087 23.8903 107.5612 25.6216 108.1143 26.681 108.7185 26.2887 109.6383 25.2609 109.6525 23.5204 109.4752 21.5578 109.2201 19.8422 108.987 18.9476 108.8721 18.9438 108.794 18.3391 108.8292 17.2804 109.094 16.1736 109.4753 15.3236 109.8515 15.1334 109.84 15.1334 109.84 15.3157 109.8952 15.982 110.5434 16.8874 111.2855 17.7881 111.9016 18.343 112.1448 18.3737 112.0728 19.2525 112.2759 20.9422 112.6534 22.8711 113.0962 24.5647 113.5347 25.5236 113.9051\"/>\n",
       "<polygon fill=\"rgba(40,40,40,1)\" points=\"8.413 112.1617 9.1884 108.9749 13.0567 105.4149 17.5404 101.3883 21.4942 97.9235 24.7457 97.4938 24.3223 98.3997 22.6205 99.7572 18.3392 102.3575 13.9348 106.3129 10.8909 110.2911 9.359 111.8377\"/>\n",
       "<polygon fill=\"rgba(40,40,40,1)\" points=\"19.2493 149.7557 22.041 148.4083 26.5459 147.4706 31.4663 146.9522 35.5177 146.88 37.7957 147.5729 37.7957 147.5729 37.0281 149.8268 34.6041 153.0738 31.3104 156.7658 27.919 159.8757 25.1951 161.3554 24.739 160.4655 26.6062 158.4018 29.7611 155.235 33.1896 151.8029 35.8842 148.9641 36.8523 148.0564 36.8523 148.0564 35.5501 148.3124 31.6722 148.8426 26.8841 149.6222 22.4711 150.3346 19.7055 150.6456\"/>\n",
       "<polygon fill=\"rgba(40,40,40,1)\" points=\"17.3681 154.6125 17.6684 153.0835 18.9259 151.4353 20.6089 149.9203 22.2268 148.8309 23.6035 148.4462 23.6035 148.4462 24.7359 149.3184 25.8282 150.9343 26.8215 152.9693 27.3704 154.9685 27.0764 156.4986 26.0947 156.3079 25.4628 155.475 24.7822 153.7344 24.0983 151.7238 23.5096 150.0592 23.4013 149.4869 23.4013 149.4869 23.0866 149.977 21.9174 151.3001 20.5304 152.9083 19.2475 154.2675 18.3497 154.8032\"/>\n",
       "<polygon fill=\"rgba(40,40,40,1)\" points=\"27.1813 150.0102 27.9016 152.5446 28.3505 156.615 28.5415 161.1525 28.4773 165.0724 28.1186 167.4568 27.9714 167.4091 26.8048 168.4995 25.1893 169.0384 23.3935 169.3112 21.6909 169.2765 20.2531 168.5818 20.1267 168.671 19.076 166.5008 17.8505 162.7768 16.6852 158.3873 15.9048 154.3673 15.8399 151.7333 16.8394 151.7002 17.5986 154.0016 18.7185 157.8594 19.9457 162.1671 21.0209 165.8368 21.5951 167.6337 21.4688 167.7229 21.9683 168.1037 23.342 168.2865 24.9342 168.0445 26.1915 167.462 26.5555 166.9501 26.4083 166.9024 26.4229 165.016 26.3597 161.1926 26.2521 156.7148 26.1757 152.6985 26.2171 150.2754\"/>\n",
       "<polygon fill=\"rgba(40,40,40,1)\" points=\"13.093 153.8383 12.8226 152.7082 13.0947 151.4105 13.6877 150.1172 14.488 149.0249 15.6818 148.2996 15.6987 148.376 17.1554 148.5185 19.1419 148.9703 21.3991 149.576 23.4409 150.2116 24.813 150.7772 24.813 150.7772 26.0356 151.6185 27.6823 152.9827 29.4216 154.5439 30.8841 155.962 31.7983 157.105 31.8716 157.0775 31.9152 158.4737 31.4364 159.7403 30.6761 160.9429 29.737 161.8791 28.6425 162.2691 28.4262 161.2928 28.5882 160.7944 29.0291 159.9 29.4904 158.8498 29.7927 157.9611 29.895 157.8195 29.9683 157.792 29.5555 157.0943 28.3347 155.6 26.7916 153.924 25.3146 152.4734 24.3294 151.6691 24.3294 151.6691 23.1179 151.2823 21.0963 150.836 18.8498 150.4574 16.9315 150.2497 16.1215 150.2844 16.1385 150.3608 16.0757 150.5239 15.4959 151.2621 14.8674 152.2217 14.3584 153.0792 14.0292 153.4869\"/>\n",
       "<polygon fill=\"rgba(40,40,40,1)\" points=\"23.8366 153.6905 25.0268 154.3356 26.1466 155.7534 27.0642 157.4462 27.6423 158.9321 27.6293 160.2358 27.6293 160.2358 26.3409 160.4356 24.7875 160.0765 22.9806 159.411 21.4169 158.506 20.6079 157.4206 21.2623 156.6645 22.362 156.7733 23.9175 157.4447 25.5342 158.3277 26.8026 159.0792 26.8278 159.542 26.8278 159.542 26.3661 159.5835 25.4405 158.436 24.3349 156.9625 23.4475 155.5193 23.1821 154.4466\"/>\n",
       "<polygon fill=\"rgba(40,40,40,1)\" points=\"14.9204 189.2018 16.4691 188.2464 18.921 188.0078 21.7162 188.2356 24.2539 188.8317 26.0588 189.8504 25.9522 189.9624 27.0809 192 28.5063 195.2807 30.0214 199.0335 31.2733 202.3842 31.8757 204.6343 32.0302 204.6409 31.4385 206.6272 30.026 208.8181 28.1725 210.9227 26.2422 212.4533 24.4643 212.841 24.56 211.8456 25.194 211.0736 26.6488 209.4765 28.2984 207.485 29.6519 205.6114 30.2339 204.5646 30.3885 204.5712 30.1193 202.7316 29.0614 199.3957 27.5639 195.6865 26.0092 192.5512 24.9257 191.0404 24.819 191.1524 23.6733 190.8031 21.3984 190.3945 18.8286 190.1065 16.6727 189.9671 15.6804 189.8518\"/>\n",
       "<polygon fill=\"rgba(40,40,40,1)\" points=\"16.8668 196.119 17.4201 195.122 18.4527 194.5799 19.7051 194.2943 20.9432 194.2673 22.0674 194.6057 21.9987 194.7443 22.8767 195.6126 24.0731 196.9257 25.4319 198.3954 26.6474 199.6909 27.4443 200.6341 27.5878 200.5765 27.8373 201.7238 27.7134 202.956 27.3307 204.1822 26.7095 205.1692 25.6722 205.6427 25.4809 204.6612 25.1983 204.3213 25.3418 203.5058 25.582 202.4879 25.787 201.5824 25.9192 201.246 26.0628 201.1884 25.7023 200.4387 24.6653 199.0774 23.3332 197.6367 22.0572 196.4963 21.3381 196.0782 21.2694 196.2168 20.9237 196.3223 20.0049 196.4558 18.9714 196.6156 18.1471 196.6948 17.8304 196.3865\"/>\n",
       "<polygon fill=\"rgba(40,40,40,1)\" points=\"21.8208 196.3047 23.0437 196.5456 24.6286 197.3628 26.2532 198.4638 27.572 199.5568 28.3525 200.5033 28.2217 200.586 28.2439 201.5902 27.9054 202.4272 27.4725 203.2595 26.9816 204.0172 26.1466 204.5756 26.154 204.7301 24.9309 204.6346 23.2789 204.1823 21.4447 203.4844 19.8656 202.656 18.9662 201.793 19.5443 200.977 20.5525 201.0652 22.1839 201.518 23.9774 202.115 25.4849 202.6555 26.0675 202.9343 26.075 203.0888 26.1531 203.1419 26.6065 202.7092 26.9576 202.0341 27.0516 201.4145 26.9633 201.381 26.8325 201.4636 26.2697 201.1466 24.9616 200.2227 23.443 199.0971 22.1357 198.0214 21.4846 197.2465\"/>\n",
       "<polygon fill=\"rgba(40,40,40,1)\" points=\"19.4559 186.3265 21.0395 189.2689 22.5714 195.8002 24.8179 203.3201 27.1196 209.6214 27.4094 212.9503 26.4171 213.0745 25.0498 210.2105 23.6134 203.6759 21.3691 196.1633 18.9858 189.9117 18.5581 186.7669\"/>\n",
       "<polygon fill=\"rgba(40,40,40,1)\" points=\"15.2618 240.6549 15.6773 239.4855 16.6216 239.0362 17.7737 238.8741 18.9461 238.96 19.9924 239.3346 19.9287 239.4756 21.0326 240.3179 22.761 241.6426 24.7445 243.1108 26.5163 244.3769 27.6443 245.1866 27.7605 245.0845 28.4244 245.9757 28.849 247.072 29.0305 248.2211 28.8766 249.2555 27.8796 249.9945 27.7753 248.9999 27.1559 249.0519 26.9464 248.4855 26.7351 247.6135 26.5254 246.7615 26.4096 246.2708 26.5258 246.1687 25.7578 245.3134 24.1251 243.9288 22.1596 242.4739 20.3585 241.3169 19.3161 240.8322 19.2524 240.9731 18.7493 241.0057 17.8732 241.054 16.9775 241.1066 16.3746 241.0718 16.2434 240.4641\"/>\n",
       "<polygon fill=\"rgba(40,40,40,1)\" points=\"20.8021 239.309 22.4066 239.6945 23.5929 241.6362 25.2328 243.6072 26.9265 245.1267 27.0139 246.7745 26.0355 246.5679 25.1455 246.3346 24.2493 244.3883 22.646 242.4614 20.895 241.2263 20.8274 240.3087\"/>\n",
       "<polygon fill=\"rgba(40,40,40,1)\" points=\"14.5666 282.4708 15.8571 281.3638 18.0486 280.2954 20.6077 279.3767 22.9819 278.7703 24.8271 278.6719 24.8137 278.749 26.3724 279.5743 28.1753 280.9884 30.0416 282.682 31.5815 284.3076 32.4297 285.624 32.4297 285.624 32.5029 287.1882 32.1922 289.4057 31.6553 291.868 31.0077 294.0659 30.2173 295.6426 30.2729 295.6976 28.7131 296.6883 26.4277 297.5723 23.8105 298.3094 21.4057 298.7111 19.7124 298.5585 19.8835 297.5732 21.108 297.1594 23.2739 296.4352 25.7134 295.5549 27.8037 294.7032 28.7716 294.2133 28.8273 294.2683 29.3966 293.3937 30.2047 291.4293 30.9283 289.1196 31.3923 287.0566 31.4634 285.933 31.4634 285.933 30.7535 285.0593 29.1784 283.6485 27.2486 282.1875 25.4505 281.0567 24.4793 280.6749 24.4659 280.752 23.3933 280.9147 21.1968 281.4342 18.6992 282.133 16.5151 282.8002 15.2777 283.1739\"/>\n",
       "<polygon fill=\"rgba(40,40,40,1)\" points=\"16.6554 276.4534 18.2236 275.5556 20.6364 275.0763 23.3562 274.9364 25.8305 275.1337 27.7176 275.838 27.6697 275.8998 28.861 277.676 30.1473 280.4378 31.4267 283.6506 32.4166 286.6202 32.8262 288.7146 32.8262 288.7146 32.4856 290.8214 31.5938 293.8219 30.4207 297.075 29.2259 299.8775 28.0936 301.6919 28.1435 301.7522 26.2805 302.5181 23.8141 302.7966 21.0911 302.7461 18.6639 302.3464 17.0671 301.5006 17.6794 300.7099 18.9256 300.7883 21.1509 300.7976 23.6782 300.6608 25.8484 300.3777 26.7966 300.1264 26.8465 300.1867 27.6857 299.0559 29.0283 296.4766 30.3766 293.3772 31.4085 290.5205 31.8119 288.7313 31.8119 288.7313 31.3499 286.9563 30.2248 284.135 28.7753 281.0816 27.3487 278.5478 26.4728 277.4452 26.4249 277.5071 25.4689 277.2871 23.2906 277.0755 20.7601 277.0218 18.5364 277.1042 17.2934 277.2235\"/>\n",
       "<polygon fill=\"rgba(40,40,40,1)\" points=\"12.6517 286.992 14.0842 284.8988 17.7782 283.6124 21.9458 281.9959 25.541 280.4548 28.0103 281.0345 27.3497 281.7853 26.0139 282.5542 22.3591 283.1819 18.2728 284.7669 15.1507 286.768 13.6458 287.101\"/>\n",
       "<polygon fill=\"rgba(40,40,40,1)\" points=\"10.3411 284.678 12.0192 282.0936 15.7818 279.2413 20.3678 276.6206 24.5484 274.8063 27.3505 274.4193 27.3505 274.4193 29.2835 276.4846 31.3885 280.5265 33.3006 285.4503 34.4273 290.0355 34.1033 293.0998 33.1608 292.7657 32.4923 290.4243 31.2249 286.11 29.6235 281.2342 28.0257 277.1706 26.9964 275.4185 26.9964 275.4185 25.0934 276.1314 21.2932 278.2818 16.9788 281.0609 13.2774 283.6143 11.2837 285.0121\"/>\n",
       "<polygon fill=\"rgba(40,40,40,1)\" points=\"11.2993 280.8814 13.3883 279.694 17.0938 279.4531 21.4211 279.7806 25.2794 280.4799 27.6868 281.4347 27.6868 281.4347 29.3217 283.4432 31.1495 286.9124 32.7638 290.9406 33.649 294.5469 33.1452 296.8964 32.3387 296.3051 31.7141 294.9363 30.6923 291.6135 29.3861 287.6239 28.0531 284.1091 27.06 282.2897 27.06 282.2897 25.0261 281.8901 21.2731 281.6764 17.0754 281.6311 13.599 281.6564 12.1058 281.4726\"/>\n",
       "<polygon fill=\"rgba(40,40,40,1)\" points=\"19.4374 342.0791 17.0212 340.9176 14.2098 338.0981 11.5511 334.6125 9.6361 331.4164 9.0781 329.148 9.0781 329.148 10.845 327.6199 14.2554 326.1195 18.44 324.8129 22.3641 324.1381 25.007 324.5875 24.7036 325.5404 22.6365 326.093 18.9518 326.93 14.8284 327.9327 11.4306 328.9276 10.0882 329.4697 10.0882 329.4697 10.87 330.6881 13.067 333.4645 15.8515 336.6667 18.3737 339.4802 19.7408 341.1263\"/>\n",
       "<polygon fill=\"rgba(40,40,40,1)\" points=\"12.2201 345.1642 10.6485 343.4644 9.4186 340.3326 8.5585 336.612 8.2161 333.1531 8.6448 330.6108 8.7843 330.6776 10.7307 328.7083 14.0688 326.0965 17.9603 323.2991 21.4995 320.9671 23.9863 319.7496 23.9675 319.5961 26.5139 319.9997 29.6835 321.4263 32.9361 323.427 35.5128 325.5907 36.6233 327.6218 35.6466 327.8367 34.363 326.8869 31.7735 325.1767 28.6453 323.3457 25.7771 321.9182 24.1862 321.3806 24.1674 321.227 22.0911 322.017 18.5359 324.1485 14.6905 326.9128 11.5374 329.6036 10.1271 331.3199 10.2666 331.3867 10.2694 333.066 10.7086 336.2396 11.4475 339.788 12.2436 342.7875 12.7349 344.3068\"/>\n",
       "<polygon fill=\"rgba(40,40,40,1)\" points=\"25.0635 365.5406 27.766 366.8337 29.8986 370.9246 32.2819 375.611 34.3317 379.7439 33.7849 382.6895 33.0409 382.0213 32.2588 380.3218 31.137 376.1274 28.8068 371.5456 26.0779 368.1685 25.1652 366.5354\"/>\n",
       "<polygon fill=\"rgba(40,40,40,1)\" points=\"28.1312 385.3084 25.8212 385.054 22.2653 384.1631 18.3201 382.9463 14.8648 381.7135 12.6973 380.7292 12.7363 380.6614 11.3139 379.4092 9.7343 377.6318 8.2342 375.6946 7.1313 373.995 6.7719 372.6189 6.7719 372.6189 7.886 371.7348 9.7887 371.0388 12.1518 370.3915 14.4824 369.9197 16.3718 369.7734 16.3814 369.6957 18.7054 370.2112 22.2082 371.3016 26.0931 372.6993 29.4709 374.1236 31.4703 375.3081 30.972 376.1751 28.9012 375.5973 25.4537 374.5409 21.5546 373.3395 18.111 372.3122 16.1225 371.791 16.1321 371.7133 14.6642 371.6558 12.4366 371.88 10.1202 372.2916 8.3021 372.7729 7.7341 372.9402 7.7341 372.9402 8.0877 373.4152 9.2518 374.8923 10.8562 376.613 12.5023 378.1306 13.7102 378.9666 13.7492 378.8987 15.652 379.6768 19.022 380.9246 22.8607 382.3068 26.2513 383.5337 28.2538 384.316\"/>\n",
       "<polygon fill=\"rgba(40,40,40,1)\" points=\"26.6679 380.1982 25.337 381.0827 23.2355 380.5967 20.8197 380.4246 18.6705 380.6079 17.4784 379.5436 18.307 378.9838 19.0342 378.4869 20.9377 379.1741 23.2959 379.3421 25.2775 378.9316 25.927 379.5265\"/>\n",
       "<polygon fill=\"rgba(40,40,40,1)\" points=\"18.3426 372.2875 19.9648 371.3681 22.5568 371.1483 25.4213 371.386 27.8517 371.9111 29.3418 372.7469 29.3418 372.7469 29.632 374.4305 29.3153 376.8968 28.5829 379.6762 27.5102 382.0461 26.1018 383.2681 25.5247 382.4514 25.7311 381.1914 26.5307 378.9466 27.4822 376.391 28.2157 374.2142 28.4761 373.3586 28.4761 373.3586 27.5827 373.3184 25.2859 373.2828 22.5592 373.3263 20.1763 373.3304 18.9197 373.1042\"/>\n",
       "<polygon fill=\"rgba(40,40,40,1)\" points=\"9.905 386.9302 10.1968 383.1969 13.4139 377.3939 17.076 370.6188 20.1687 364.7485 23.1323 362.4594 23.2651 363.4505 21.9424 365.9672 18.1658 371.2433 14.5333 377.9635 12.1879 384.0132 10.8069 386.4984\"/>\n",
       "<polygon fill=\"rgba(40,40,40,1)\" points=\"60.4893 8.1292 64.0516 7.6294 69.5812 8.6977 75.6018 10.6484 80.5984 12.8743 83.1898 14.9796 83.1898 14.9796 82.9819 18.312 81.2328 23.4948 78.5873 29.2441 75.6257 34.0343 72.844 36.3152 72.4426 35.3993 73.9977 32.9184 76.6655 28.2191 79.4932 22.7267 81.6122 17.8915 82.2188 15.4052 82.2188 15.4052 79.9794 14.1664 74.9877 12.4481 69.0326 10.8055 63.769 9.5827 60.8907 9.0451\"/>\n",
       "<polygon fill=\"rgba(40,40,40,1)\" points=\"69.7397 18.4907 71.3768 19.7557 73.0078 22.2172 74.3938 25.0777 75.2789 27.5607 75.2802 29.3158 75.2802 29.3158 73.5574 29.651 70.9508 29.2585 67.8776 28.4467 65.1491 27.3179 63.5937 25.9537 64.2294 25.1818 65.9155 25.499 68.5779 26.3843 71.4667 27.4282 73.815 28.2416 74.4619 28.6419 74.4619 28.6419 73.945 28.0837 72.6964 25.9349 71.118 23.2999 69.7386 20.8567 69.104 19.2627\"/>\n",
       "<polygon fill=\"rgba(40,40,40,1)\" points=\"71.0347 50.796 72.8265 50.7088 74.9866 51.4924 77.15 52.7783 78.9158 54.2989 79.898 56.0873 79.8207 56.0994 79.4787 58.466 78.5181 61.9778 77.2342 65.9769 75.905 69.575 74.7809 71.9144 74.7809 71.9144 73.1084 73.8992 70.3722 76.5873 67.2515 79.3985 64.4428 81.7151 62.4247 82.9977 62.4454 83.0732 60.4115 82.9109 58.3003 81.9242 56.2403 80.4786 54.6396 78.83 53.9842 77.1601 54.9722 77.0054 55.802 77.7599 57.4042 78.9147 59.342 80.0547 61.1013 80.8392 61.8877 81.0369 61.9084 81.1124 63.4305 80.2929 66.2923 78.2253 69.5096 75.6202 72.3163 73.1097 73.9291 71.3635 73.9291 71.3635 74.8601 69.1764 75.9984 65.5869 77.0546 61.5841 77.7665 58.1261 77.8895 56.4018 77.8122 56.4139 77.3093 55.7778 75.8722 54.4951 74.0377 53.1954 72.3274 52.2078 71.2989 51.7605\"/>\n",
       "<polygon fill=\"rgba(40,40,40,1)\" points=\"75.2325 64.8835 75.5292 66.2729 75.0778 68.0008 74.208 69.8032 73.1424 71.3281 71.9067 72.2953 71.8415 72.155 70.2163 72.3049 67.8531 72.2864 65.1906 72.2174 62.8296 72.1133 61.2143 71.8795 61.142 72.0162 59.958 70.9862 58.9729 69.4082 58.1977 67.5631 57.8364 65.8141 58.2048 64.442 59.0964 64.8949 59.528 65.4389 60.1569 66.805 60.9224 68.4277 61.6527 69.8235 61.9826 70.427 61.9103 70.5637 62.9807 70.9177 65.2429 71.1926 67.854 71.2603 70.1274 71.103 71.2147 70.805 71.1495 70.6647 71.5103 70.0791 72.3119 68.723 73.1605 67.1422 73.8593 65.8105 74.3186 65.2896\"/>\n",
       "<polygon fill=\"rgba(40,40,40,1)\" points=\"69.605 60.5413 70.6141 60.7132 71.6145 61.349 72.5398 62.2329 73.2548 63.1999 73.6177 64.3666 73.5394 64.3678 73.1521 65.505 72.4477 66.8245 71.5847 68.2707 70.7348 69.5471 70.0227 70.3883 70.0227 70.3883 69.1126 71.0099 67.7554 71.7238 66.228 72.4332 64.843 72.9979 63.6719 73.266 63.6627 73.3437 62.5396 72.8625 61.6514 72.0517 60.8675 71.0403 60.3382 69.9796 60.2712 68.9582 61.2711 68.9429 61.6976 69.1746 62.3804 69.8109 63.165 70.5388 63.8399 71.1084 63.9123 71.2473 63.903 71.325 64.3882 71.3126 65.7179 71.0061 67.2562 70.5279 68.6082 70.0118 69.3433 69.6349 69.3433 69.6349 69.7939 68.9425 70.4466 67.6509 71.0808 66.1701 71.5226 64.879 71.585 64.3977 71.5067 64.3989 71.376 64.3125 70.879 63.5826 70.2358 62.7272 69.6732 61.9825 69.4867 61.5343\"/>\n",
       "<polygon fill=\"rgba(40,40,40,1)\" points=\"71.8058 96.0719 73.8366 96.6691 76.3097 98.315 78.7921 100.4922 80.7869 102.7231 81.8378 104.7928 81.7607 104.806 81.3998 107.2444 80.3313 110.6497 78.8908 114.4324 77.3875 117.7642 76.0786 119.8588 76.0786 119.8588 74.0852 121.3173 70.8722 123.06 67.2047 124.773 63.8866 126.0874 61.4811 126.6255 61.4735 126.7033 59.3327 125.8064 56.9619 123.9799 54.6092 121.6632 52.7871 119.317 52.0431 117.3352 53.0286 117.1655 54.047 118.3637 55.999 120.2962 58.3472 122.3486 60.5195 123.9736 61.6788 124.6021 61.6712 124.68 63.3803 124.4168 66.6414 123.3661 70.322 121.8866 73.5302 120.3464 75.3355 119.1681 75.3355 119.1681 76.3787 117.2816 77.6805 113.9695 78.887 110.1906 79.6967 106.8615 79.8343 105.1377 79.7572 105.1509 79.0457 104.0407 77.2664 101.9929 75.0478 99.8009 72.9779 97.9953 71.7086 97.0671\"/>\n",
       "<polygon fill=\"rgba(40,40,40,1)\" points=\"53.5397 119.1394 52.5732 119.4642 51.5777 119.1181 51.0078 118.1628 51.1646 117.0205 51.9546 116.1375 52.0012 116.2004 53.6948 115.2634 56.6652 113.6625 60.1736 111.7924 63.4229 110.0885 65.6223 108.9832 65.6223 108.9832 67.8421 107.9195 71.1777 106.3916 74.8034 104.7603 77.8869 103.3899 79.6641 102.6233 79.6429 102.548 80.8246 102.4632 81.8243 103.038 82.2312 104.0733 81.896 105.0724 81.0479 105.6383 80.4525 104.8348 80.4685 104.3955 80.3025 104.3569 80.2826 104.5224 80.3578 104.5963 80.2158 104.58 80.1946 104.5047 78.5261 105.0143 75.38 106.1618 71.6822 107.5852 68.2905 108.944 66.0693 109.8939 66.0693 109.8939 63.959 111.0699 60.8093 112.9217 57.4211 114.976 54.5888 116.7628 53.165 117.7709 53.2116 117.8338 53.1376 117.956 53.1251 117.8514 52.982 117.7659 52.911 117.9208 53.2683 118.177\"/>\n",
       "<polygon fill=\"rgba(40,40,40,1)\" points=\"64.3764 119.4499 62.366 117.3873 59.8167 113.699 57.2734 109.421 55.3013 105.5983 54.4253 103.0943 54.5783 103.0714 55.2014 101.3938 56.5911 99.9175 58.324 98.5726 60.099 97.5928 61.8788 97.4056 61.9389 97.2631 64.1471 98.7331 67.3607 101.5923 70.8737 105.1178 73.8139 108.5028 75.313 110.9621 74.4492 111.4661 72.5219 109.6574 69.3738 106.5887 65.8533 103.1701 62.8052 100.2897 61.2402 98.9196 61.3003 98.7771 60.4724 98.7387 58.878 99.4363 57.2903 100.6685 56.2187 102.0399 56.0505 102.8515 56.2035 102.8286 57.1422 104.6847 59.176 108.3523 61.6139 112.6112 63.8052 116.4224 65.079 118.7383\"/>\n",
       "<polygon fill=\"rgba(40,40,40,1)\" points=\"67.5078 106.3369 68.7845 106.9114 70.3035 108.2135 71.7936 109.8426 72.951 111.3963 73.5422 112.6814 73.3923 112.7197 73.0831 113.8393 72.4057 114.8377 71.5966 115.8566 70.7776 116.7427 69.7572 117.2974 69.7538 117.4521 68.3682 117.1674 66.5926 116.3921 64.6683 115.3098 63.056 114.1254 62.2071 113.012 62.9573 112.3508 64.0021 112.6737 65.7038 113.482 67.5849 114.4486 69.1774 115.2783 69.7935 115.6547 69.7901 115.8093 70.0582 115.7758 70.8372 115.1666 71.5615 114.2544 71.9784 113.3576 71.9503 113.0889 71.8005 113.1273 71.2943 112.6125 70.1254 111.2494 68.7577 109.6361 67.585 108.1618 67.0337 107.2174\"/>\n",
       "<polygon fill=\"rgba(40,40,40,1)\" points=\"76.9727 161.7759 73.9556 162.1837 68.7083 160.681 62.5364 159.2133 57.1743 158.1931 54.6638 156.4709 55.4826 155.8968 57.8151 156.1387 62.8465 157.9962 68.9793 159.4546 74.3083 160.0607 76.5 160.8947\"/>\n",
       "<polygon fill=\"rgba(40,40,40,1)\" points=\"79.8686 146.5182 80.5432 149.4876 79.7378 154.2609 78.1014 159.5929 76.1606 164.1516 74.303 166.7108 74.303 166.7108 71.2451 167.5166 66.293 167.6763 60.7301 167.2726 55.9888 166.2963 53.4647 164.593 54.2899 164.0281 56.4818 164.3851 61.0221 165.1142 66.4079 165.7782 71.1735 166.0856 73.7041 165.836 73.7041 165.836 74.8525 163.5672 76.2903 159.0132 77.62 153.7521 78.5832 149.2557 79.0435 147.083\"/>\n",
       "<polygon fill=\"rgba(40,40,40,1)\" points=\"55.2346 148.5546 58.5634 148.546 64.404 150.6616 71.3149 152.8235 77.32 154.4135 80.0504 156.3177 79.2699 156.9428 76.5711 156.431 70.9254 154.0176 64.0436 151.8648 58.029 150.6306 55.5197 149.5131\"/>\n",
       "<polygon fill=\"rgba(40,40,40,1)\" points=\"63.1195 147.2228 64.8158 147.2395 66.7416 148.4705 68.7328 150.2825 70.3696 152.1389 71.2668 153.5973 71.2668 153.5973 71.6961 155.255 71.8995 157.7215 71.8252 160.4127 71.3776 162.6541 70.2138 163.8883 69.8222 162.9682 69.4503 162.2287 69.6605 160.1727 70.0002 157.6289 70.2643 155.3082 70.2913 154.0126 70.2913 154.0126 69.3387 153.1339 67.483 151.7157 65.414 150.1973 63.7865 148.9236 63.5112 148.1429\"/>\n",
       "<polygon fill=\"rgba(40,40,40,1)\" points=\"72.4815 200.5481 72.1988 203.4171 70.7444 207.4176 68.7511 211.5306 66.8313 214.7398 65.1394 216.2018 65.1394 216.2018 63.7505 214.4494 62.4642 210.938 61.2746 206.5249 60.5934 202.3231 60.8518 199.4519 61.8474 199.5457 62.5451 202.0292 63.4044 206.069 64.3035 210.4553 65.1013 213.9717 65.2389 215.1464 65.2389 215.1464 65.5936 214.0181 67.0344 210.7127 68.7373 206.5717 70.3364 202.7637 71.4859 200.4543\"/>\n",
       "<polygon fill=\"rgba(40,40,40,1)\" points=\"61.2828 208.7686 59.6436 206.3508 57.8644 202.1966 56.2539 197.4358 55.1487 193.2122 54.9001 190.4537 55.0532 190.4757 56.2651 188.8298 58.3576 187.3745 60.8392 186.0542 63.2153 185.1321 65.2575 185.0467 65.3249 184.9075 67.4736 186.655 70.3587 189.9317 73.407 193.9276 75.8578 197.7245 76.947 200.4349 75.9972 200.7477 74.4075 198.6727 71.7207 195.1806 68.663 191.3053 65.9643 188.0499 64.5416 186.5258 64.609 186.3865 63.4778 186.3084 61.2575 186.9911 58.9008 188.245 57.094 189.7047 56.5267 190.6865 56.6798 190.7085 57.1488 192.7399 58.3405 196.7971 59.8457 201.4983 61.2404 205.6779 62.0729 208.1557\"/>\n",
       "<polygon fill=\"rgba(40,40,40,1)\" points=\"56.2229 235.9301 59.5703 236.1729 65.1535 238.8121 71.7725 241.626 77.547 243.8152 80.0445 246.0572 79.1647 246.5326 76.5841 245.7398 71.2645 242.7747 64.6788 239.9749 58.8525 238.2016 56.491 236.8934\"/>\n",
       "<polygon fill=\"rgba(40,40,40,1)\" points=\"55.9784 243.7698 56.8592 241.4234 59.0035 238.2922 61.7285 235.0551 64.3623 232.4373 66.4563 231.0748 66.5041 231.2219 68.5632 231.5276 71.1185 232.6062 73.8584 234.0406 76.2009 235.5259 77.6253 237.0438 77.7735 236.9993 77.847 239.4965 77.1964 243.1525 76.089 247.2363 74.7376 250.7827 73.3113 252.8435 72.5525 252.1922 73.117 250.1693 74.0714 246.6509 75.0705 242.66 75.813 239.2021 76.0519 237.5175 76.2 237.4729 75.4378 236.4587 73.3364 234.9239 70.6901 233.5386 68.2313 232.6862 66.9636 232.6377 67.0113 232.7849 65.7631 233.9411 63.3446 236.5215 60.6342 239.6166 58.2866 242.4057 56.946 244.0222\"/>\n",
       "<polygon fill=\"rgba(40,40,40,1)\" points=\"69.3626 242.7312 69.0925 244.2097 68.2425 246.351 67.1231 248.6363 66.0462 250.5393 65.2774 251.6025 65.1526 251.5112 64.4018 251.9032 63.6983 251.8646 63.1065 251.5996 62.6093 251.1003 62.402 250.2791 62.2507 250.2468 62.5321 248.9653 63.2351 246.8948 64.1949 244.5381 65.2267 242.4782 66.1501 241.2922 67.041 241.7464 66.8262 243.1445 66.1482 245.3114 65.274 247.6725 64.4666 249.6593 64.0088 250.6229 63.8575 250.5906 63.7229 250.6394 63.7302 250.7848 63.8909 250.8568 64.0044 250.7654 63.9511 250.6325 63.8263 250.5412 64.2405 249.558 65.1853 247.6328 66.365 245.4085 67.5303 243.4599 68.4305 242.3688\"/>\n",
       "<polygon fill=\"rgba(40,40,40,1)\" points=\"59.1723 242.4371 58.103 241.0548 58.9956 239.6151 59.9502 238.357 61.0965 237.1097 62.7156 237.7673 62.2051 238.6272 61.7789 239.1506 60.8196 239.2635 60.1027 240.2082 60.2523 241.1626 59.863 241.714\"/>\n",
       "<polygon fill=\"rgba(40,40,40,1)\" points=\"68.4351 243.0479 68.9954 243.2394 69.3227 243.542 69.518 243.9128 69.589 244.3507 69.3629 245.0919 69.2966 245.0503 68.8255 245.3813 68.3818 245.5517 67.8993 245.7243 67.4513 245.8736 67.0679 245.9787 67.0679 245.9787 66.6821 246.0748 66.2184 246.1639 65.7131 246.2496 65.2428 246.3182 64.67 246.2602 64.6326 246.329 64.0726 245.7933 63.9201 245.3767 63.9089 244.9578 64.0461 244.5336 64.441 244.0924 65.2878 244.6242 65.6259 244.51 65.822 244.5833 65.9527 244.707 65.9924 244.753 65.642 244.4747 65.6046 244.5434 65.4861 244.5896 65.8198 244.7379 66.2517 244.8684 66.6422 244.9571 66.8112 244.9973 66.8112 244.9973 66.939 244.8795 67.2361 244.611 67.5488 244.2857 67.7671 243.9931 67.6412 244.0108 67.575 243.9692 67.4057 244.3834 67.4178 244.3239 67.4712 244.1521 67.6063 243.9921 67.957 243.9262\"/>\n",
       "<polygon fill=\"rgba(40,40,40,1)\" points=\"62.4975 274.7673 63.9351 274.1934 65.4545 274.9003 67.0048 276.1703 68.3335 277.7068 69.1536 279.2846 69.0093 279.3403 69.5006 281.8068 70.2255 285.8719 71.0485 290.4913 71.7719 294.5567 72.1626 297.0411 72.3173 297.0435 72.0924 298.8075 71.3761 300.7083 70.3597 302.4355 69.1779 303.6236 67.6306 303.5815 68.28 302.821 68.0044 302.3487 68.5986 301.2902 69.4148 299.7517 70.1404 298.1647 70.5196 297.0161 70.6743 297.0185 70.5781 294.7215 70.0366 290.6614 69.2172 286.0617 68.3233 282.0644 67.6203 279.8755 67.476 279.9311 66.7235 278.9841 65.4945 277.7454 64.1972 276.5833 63.2741 275.7951 63.3696 275.2567\"/>\n",
       "<polygon fill=\"rgba(40,40,40,1)\" points=\"61.5666 298.3042 59.7424 295.8662 57.6661 291.6245 55.7258 286.7429 54.3377 282.3979 53.9211 279.5499 54.0752 279.5636 55.2324 277.7971 57.3239 276.1692 59.8315 274.6636 62.2515 273.5829 64.3545 273.3918 64.4149 273.2494 66.7328 274.9558 69.9154 278.2234 73.312 282.2306 76.0799 286.057 77.3743 288.8132 76.4422 289.1753 74.6803 287.0785 71.6921 283.5681 68.292 279.6816 65.2962 276.4254 63.7132 274.9047 63.7736 274.7623 62.5732 274.7443 60.2975 275.5777 57.9117 277.0102 56.1063 278.6271 55.5579 279.695 55.712 279.7087 56.3102 281.8207 57.776 285.9955 59.6081 290.8234 61.3019 295.111 62.3244 297.6518\"/>\n",
       "<polygon fill=\"rgba(40,40,40,1)\" points=\"72.4583 296.2908 70.7741 296.8926 68.1463 297.2193 65.184 297.3144 62.5299 297.1926 60.6623 296.8038 60.6922 296.7315 59.3509 295.6347 57.9176 293.9665 56.5131 292.0514 55.4281 290.278 54.9572 288.8884 54.9572 288.8884 55.4282 287.4988 56.5133 285.7255 57.9181 283.8105 59.3515 282.1424 60.6928 281.0458 60.663 280.9735 62.5307 280.5848 65.1848 280.4632 68.147 280.5586 70.7748 280.8856 72.4589 281.4875 72.0772 282.4118 70.6248 282.4584 68.0996 282.5075 65.2366 282.6027 62.7377 282.7585 61.4688 282.9248 61.4389 282.8525 60.5397 283.4212 59.0604 284.8064 57.5525 286.4998 56.397 288.0574 55.9717 288.8884 55.9717 288.8884 56.397 289.7195 57.5523 291.2772 59.0601 292.9707 60.5392 294.356 61.4384 294.9248 61.4682 294.8525 62.7372 295.019 65.2361 295.1749 68.099 295.2704 70.6242 295.3197 72.0766 295.3665\"/>\n",
       "<polygon fill=\"rgba(40,40,40,1)\" points=\"62.1931 302.2597 61.1733 300.4821 61.1331 297.3325 61.5219 293.4861 62.1291 289.9231 62.7621 287.5825 62.7621 287.5825 63.6651 285.3322 65.3243 282.1212 67.3286 278.8153 69.2561 276.3241 71.1403 275.518 70.823 276.4664 70.8047 277.5477 69.1263 280.0451 66.9326 283.1358 64.913 286.0362 63.7674 287.9189 63.7674 287.9189 63.5493 290.1118 63.4169 293.6436 63.3089 297.4322 63.1465 300.4368 62.5103 301.3114\"/>\n",
       "<polygon fill=\"rgba(40,40,40,1)\" points=\"62.2069 345.4679 62.0834 342.3143 63.7007 336.381 65.1766 329.3503 66.0817 323.2674 67.4629 320.4298 68.3271 320.9329 68.1757 323.7637 66.4042 329.6157 64.9314 336.6316 64.2002 342.702 63.2005 345.3547\"/>\n",
       "<polygon fill=\"rgba(40,40,40,1)\" points=\"62.0358 326.6317 64.053 326.0173 67.2078 325.8493 70.7142 326.0139 73.7594 326.4257 75.7341 327.1095 75.6509 327.2399 76.4795 328.7023 76.9498 330.7156 77.2717 332.9761 77.3822 335.0407 76.9948 336.6763 77.1112 336.7782 75.4058 337.9862 72.5967 339.2317 69.2756 340.3688 66.1994 341.0882 64.0909 341.0613 64.1494 340.063 65.7753 339.4081 68.6201 338.3729 71.8159 337.194 74.5285 336.1277 75.7593 335.593 75.8756 335.695 76.1819 334.9332 76.2492 333.0609 75.9442 330.9197 75.3569 329.1407 74.8501 328.4947 74.7669 328.6251 73.4358 328.4553 70.5333 328.1886 67.1355 327.9488 64.1148 327.7489 62.3707 327.574\"/>\n",
       "<polygon fill=\"rgba(40,40,40,1)\" points=\"77.2865 368.9578 78.3125 370.0199 77.8937 371.1417 77.0317 372.4085 75.936 373.6295 74.8112 374.5702 74.7113 374.4521 72.7813 375.7551 69.5707 377.9985 65.954 380.6017 62.8073 382.9339 60.959 384.3503 61.0392 384.4826 59.79 385.2505 58.2844 385.9019 56.8095 386.317 55.6127 386.358 54.9313 385.0479 55.7427 385.6324 55.5163 384.628 56.2706 384.2866 57.5664 383.8412 58.975 383.3639 60.107 382.9452 60.1872 383.0775 62.119 381.9446 65.3579 379.7665 68.968 377.1681 72.0618 374.7883 73.7493 373.3162 73.6494 373.1981 74.4058 372.2576 75.3056 371.0734 76.1393 369.986 76.7026 369.3791 77.5831 369.9128\"/>\n",
       "<polygon fill=\"rgba(40,40,40,1)\" points=\"65.3343 374.7173 66.3443 374.1204 67.7398 374.1346 69.2022 374.5077 70.4061 375.0412 71.2242 375.7937 71.2242 375.7937 71.2175 376.9052 70.7879 378.1499 70.0645 379.4746 69.124 380.5057 67.999 380.8383 67.5999 379.9214 67.6435 379.2005 68.2983 378.2 69.1736 377.1449 69.9228 376.2916 70.2522 376.2169 70.2522 376.2169 69.973 376.407 68.838 376.374 67.4693 376.2958 66.2909 376.0934 65.7335 375.6341\"/>\n",
       "<polygon fill=\"rgba(40,40,40,1)\" points=\"54.5593 370.596 55.497 369.0664 57.5682 367.902 60.1589 367.0453 62.6999 366.6304 64.7705 366.8815 64.7175 367.0268 66.7327 368.4707 69.7074 370.9744 73.0185 373.8807 75.8866 376.5059 77.5796 378.3169 77.7168 378.2455 78.2342 380.266 78.1522 382.8394 77.6385 385.5193 76.7525 387.724 75.3573 388.8521 75.0575 387.898 75.1649 387.0297 75.5936 385.0384 75.9858 382.5776 76.1798 380.3204 76.1219 379.0754 76.2592 379.004 75.0232 377.3467 72.3266 374.6384 69.0458 371.7587 66.0109 369.4358 64.2074 368.4252 64.1543 368.5705 62.9123 368.6746 60.6993 369.1595 58.3102 369.8674 56.3912 370.5506 55.5441 370.7696\"/>\n",
       "<polygon fill=\"rgba(40,40,40,1)\" points=\"68.4609 375.327 69.3242 375.8588 69.6694 376.7848 69.7115 377.8599 69.5565 378.8308 69.2015 379.6335 69.2015 379.6335 68.5435 380.2144 67.6648 380.6555 66.6273 380.9402 65.6403 380.8909 64.8725 380.2286 65.4632 379.4217 65.6671 378.9174 66.4065 378.7734 67.3306 378.7835 68.1296 378.8428 68.3461 379.0073 68.3461 379.0073 68.1239 378.8506 67.826 378.1068 67.5371 377.2289 67.451 376.4807 67.8702 376.1338\"/>\n",
       "<polygon fill=\"rgba(40,40,40,1)\" points=\"109.6722 10.3953 111.9719 11.5216 115.2355 13.8163 118.7347 16.6274 121.7086 19.2971 123.4719 21.2774 123.4066 21.3205 124.1502 23.4201 124.6798 26.2475 125.0046 29.2729 125.0498 31.8613 124.6167 33.5526 124.6167 33.5526 123.0265 34.2731 120.4696 34.6786 117.4338 34.8846 114.5574 34.8545 112.3605 34.4872 112.3294 34.559 110.0727 33.1668 106.9267 30.7023 103.5501 27.7451 100.723 24.93 99.2142 22.8611 100.049 22.3106 101.8192 23.7922 104.8291 26.2738 108.2733 29.0388 111.358 31.4016 113.1677 32.6214 113.1366 32.6932 114.7441 33.1189 117.4434 33.3691 120.3769 33.386 122.8056 33.1767 123.8395 32.9005 123.8395 32.9005 123.9318 31.8344 123.7156 29.4063 123.189 26.5204 122.4735 23.9057 121.7748 22.3967 121.7094 22.4397 120.1937 20.8696 117.3306 18.2426 114.0089 15.3315 111.0419 12.7988 109.2752 11.3131\"/>\n",
       "<polygon fill=\"rgba(40,40,40,1)\" points=\"107.5224 21.8955 107.4923 20.3147 108.2744 18.3064 109.452 16.3156 110.6342 14.7888 111.8563 14.0355 111.8563 14.0355 112.9223 14.9971 113.8095 16.7122 114.6082 18.883 115.0149 20.9995 114.6999 22.5489 113.704 22.4583 113.0792 21.3848 112.5076 19.4584 112.0042 17.3097 111.6101 15.5721 111.7602 15.0912 111.7602 15.0912 111.8211 15.5913 111.1197 17.2292 110.2366 19.2517 109.3266 21.0432 108.5182 21.9862\"/>\n",
       "<polygon fill=\"rgba(40,40,40,1)\" points=\"124.9841 23.3268 124.7829 25.1516 123.4063 27.2023 121.4263 29.2196 119.3053 30.804 117.3212 31.5485 117.3027 31.395 114.8735 30.9891 111.1593 30.0333 106.9797 28.8515 103.315 27.7208 101.0329 26.7945 100.9368 26.9156 99.6364 25.2423 98.6591 22.7819 98.0286 20.0264 97.9297 17.5585 98.7139 15.8986 99.4174 16.6093 99.6623 17.5367 100.0936 19.6402 100.749 22.154 101.4993 24.3744 102.0544 25.5073 101.9582 25.6285 103.739 26.5927 107.2796 27.8702 111.4176 29.0403 115.103 29.806 117.125 29.9171 117.1065 29.7635 118.1727 29.0891 119.9746 27.5903 121.8493 25.792 123.3183 24.2258 124.0126 23.5639\"/>\n",
       "<polygon fill=\"rgba(40,40,40,1)\" points=\"102.7641 69.344 102.1926 68.1913 102.5736 67.1558 103.3274 66.1652 104.2804 65.3365 105.3361 64.8178 105.3934 64.9614 106.8951 64.7059 109.2837 64.3048 111.986 63.8114 114.3622 63.3425 115.8573 63.0509 115.8602 62.8963 117.0311 63.0084 118.2154 63.4469 119.2706 64.1073 119.993 64.9413 119.8657 66.2216 119.0903 65.5901 118.7028 66.0979 118.0989 65.8509 117.2309 65.3943 116.3647 64.9526 115.8272 64.6938 115.83 64.5392 114.5303 64.5359 112.16 64.8226 109.4783 65.3123 107.1595 65.8817 105.9448 66.344 106.0021 66.4877 105.5907 66.9197 104.9366 67.639 104.2859 68.3729 103.8083 68.8174 103.2663 68.4793\"/>\n",
       "<polygon fill=\"rgba(40,40,40,1)\" points=\"106.9818 68.4353 107.4143 67.3264 108.381 65.7797 109.589 64.1278 110.739 62.7176 111.578 61.851 111.6317 61.908 112.4547 61.4089 113.4726 60.911 114.5216 60.4619 115.4051 60.1525 116.321 60.1979 116.321 60.1979 116.5606 61.0831 116.4466 62.0123 116.2313 63.1329 115.9618 64.2335 115.6496 65.1439 115.7166 65.1842 115.0488 66.1887 113.916 67.6128 112.5595 69.1451 111.2543 70.4191 110.2631 71.078 109.5771 70.3504 110.056 69.3895 111.0512 67.91 112.2384 66.284 113.3056 64.8738 113.9071 64.0967 113.9742 64.137 114.3391 63.5901 114.7893 62.6669 115.1933 61.6828 115.4554 60.9121 115.6847 60.988 115.6847 60.988 115.8078 61.1959 115.1106 61.6161 114.2352 62.2206 113.4291 62.8572 112.9725 63.3303 113.0262 63.3873 112.3952 64.1405 111.2448 65.4837 109.9091 66.9902 108.6757 68.2778 107.8389 68.9504\"/>\n",
       "<polygon fill=\"rgba(40,40,40,1)\" points=\"109.4336 68.2307 109.0887 67.3212 109.0046 65.9449 109.106 64.4376 109.321 63.1459 109.613 62.2981 109.759 62.3493 110.3539 61.8538 110.9223 61.7586 111.4537 61.7669 112.0189 61.8799 112.5979 62.3938 112.7454 62.3472 113.0107 63.2038 113.1851 64.5015 113.2392 66.0113 113.112 67.3842 112.7388 68.2826 111.7432 68.1886 111.3798 67.4284 111.1414 66.1228 111.0087 64.6598 110.9665 63.4161 111.0308 62.8882 111.1783 62.8417 111.378 62.9006 111.2839 62.7788 111.0603 62.7753 110.9624 62.8941 111.1638 62.8414 111.3098 62.8926 111.3575 63.4222 111.2764 64.664 111.0979 66.1221 110.8186 67.4196 110.4316 68.1681\"/>\n",
       "<polygon fill=\"rgba(40,40,40,1)\" points=\"109.8492 53.6206 111.959 56.122 113.9029 61.818 116.4472 68.3489 118.8688 73.8589 119.0072 77.1283 118.0476 76.8467 116.8204 74.5187 115.2706 68.7885 112.7391 62.2902 110.0041 57.0217 109.333 54.477\"/>\n",
       "<polygon fill=\"rgba(40,40,40,1)\" points=\"109.0987 64.3222 110.6035 62.7047 113.3145 60.9919 116.3772 59.4781 118.9484 58.4595 120.7424 58.3995 120.7424 58.3995 120.4112 60.1636 119.0147 62.5508 117.0542 65.3487 114.9504 67.7688 113.1235 69.0111 112.4722 68.2523 113.4495 66.487 115.3422 64.0022 117.4847 61.4216 119.2116 59.3803 119.938 59.09 119.938 59.09 119.5409 59.764 117.2615 61.1615 114.386 62.8882 111.643 64.3825 109.75 65.081\"/>\n",
       "<polygon fill=\"rgba(40,40,40,1)\" points=\"118.6718 101.9852 119.5647 104.258 120.3269 107.9513 120.8917 112.1527 121.1691 115.9215 121.0411 118.4614 120.9646 118.4451 119.9801 120.3954 118.3101 122.6851 116.3422 124.978 114.4847 126.7889 112.9582 127.6621 112.9582 127.6621 111.2769 127.1469 109.0658 125.7901 106.6408 123.9874 104.5072 122.1222 103.1169 120.4369 103.0459 120.4697 102.3611 118.0205 101.8008 114.2833 101.4254 110.0608 101.3547 106.2903 101.7246 103.8766 102.7026 104.0848 102.9337 106.2357 103.3667 109.8825 103.9227 114.0044 104.5062 117.613 104.963 119.5856 104.892 119.6183 105.7804 120.9281 107.6333 122.8421 109.8351 124.7473 111.8232 126.1711 112.8457 126.6539 112.8457 126.6539 113.7367 125.9576 115.362 124.1305 117.0896 121.7868 118.4749 119.5113 119.0527 118.038 118.9762 118.0217 118.9869 115.997 118.7606 112.3484 118.3941 108.2054 118.0125 104.5529 117.7637 102.404\"/>\n",
       "<polygon fill=\"rgba(40,40,40,1)\" points=\"100.5635 116.5535 101.9695 113.9113 106.1788 110.4341 110.8605 106.1389 114.6867 102.2441 117.44 101.0704 117.5513 102.0642 116.0494 103.9097 111.6974 107.0755 107.0401 111.3483 103.5119 115.4121 101.5441 116.7498\"/>\n",
       "<polygon fill=\"rgba(40,40,40,1)\" points=\"113.3267 140.423 115.8984 141.3763 119.196 143.867 122.5502 147.0878 125.2172 150.2597 126.499 152.8429 126.3465 152.8687 125.7345 155.5826 124.139 159.3793 122.0893 163.5447 120.0547 167.1252 118.2777 169.2659 118.3504 169.4025 115.5217 169.963 111.3813 169.7852 106.783 169.0927 102.7976 167.9996 100.4733 166.5437 101.1722 165.8285 103.2887 166.3379 107.1542 167.025 111.6074 167.6147 115.5099 167.9079 117.5057 167.8154 117.5784 167.9519 119.0611 166.4431 121.1858 163.0584 123.2025 158.9601 124.5879 155.2116 124.8787 153.1163 124.7262 153.142 123.5817 151.5043 120.9685 148.5912 117.7842 145.4227 114.8814 142.7792 113.1864 141.4132\"/>\n",
       "<polygon fill=\"rgba(40,40,40,1)\" points=\"114.4077 146.8284 116.1622 148.0072 117.7349 150.6383 119.021 153.8534 119.8019 156.8026 119.8041 158.8392 119.8041 158.8392 118.4561 160.3657 115.9203 162.0622 112.8297 163.624 109.9103 164.5583 107.8146 164.2828 108.1679 163.3473 109.3755 162.6584 112.0008 161.6099 115.0666 160.363 117.6694 159.1682 118.8123 158.4646 118.8123 158.4646 118.42 157.1809 117.2572 154.5638 115.7813 151.6014 114.5049 149.079 114.0543 147.7638\"/>\n",
       "<polygon fill=\"rgba(40,40,40,1)\" points=\"105.5414 169.8378 103.534 168.956 101.108 166.9575 98.6885 164.4233 96.7648 161.9133 95.7915 159.7407 95.869 159.7296 96.2922 157.3269 97.4466 154.0582 98.9816 150.4705 100.5691 147.345 101.9457 145.4178 101.9457 145.4178 104.0015 144.2419 107.2707 142.9765 110.9944 141.8097 114.3626 140.9897 116.7957 140.81 116.8145 140.7341 118.8784 141.9207 121.1823 144.0869 123.4605 146.7489 125.2051 149.3634 125.8807 151.4492 124.8909 151.5911 123.8843 150.2304 121.9638 147.998 119.6529 145.5839 117.5028 143.6165 116.3066 142.7832 116.3254 142.7073 114.6266 142.7152 111.3609 143.2803 107.6618 144.2119 104.4321 145.274 102.626 146.1703 102.626 146.1703 101.5528 147.8772 100.1715 150.9838 98.8729 154.5705 97.9825 157.7629 97.8039 159.4523 97.8814 159.4412 98.5902 160.7151 100.3316 163.0521 102.5012 165.5939 104.5293 167.729 105.782 168.8672\"/>\n",
       "<polygon fill=\"rgba(40,40,40,1)\" points=\"101.2895 159.4523 101.0491 156.8045 103.2235 153.3988 105.6376 149.4805 107.7016 146.0068 110.1746 145.0307 110.0345 146.0208 109.3075 147.4393 106.6788 150.1829 104.3192 154.0129 103.0508 157.5946 102.1108 158.8818\"/>\n",
       "<polygon fill=\"rgba(40,40,40,1)\" points=\"95.849 199.4762 96.1643 197.2711 97.7854 194.5043 100.0844 191.6768 102.5087 189.3925 104.72 188.2237 104.7525 188.3749 107.46 188.6822 111.531 189.6495 116.0913 190.9167 120.0778 192.1883 122.5556 193.3219 122.6616 193.2092 123.9529 195.3513 124.8511 198.5588 125.3618 202.1671 125.323 205.3735 124.4555 207.4252 123.6867 206.7857 123.5917 205.3049 123.2725 202.3865 122.7116 198.9881 122.0086 196.0172 121.4305 194.5195 121.5364 194.4068 119.6347 193.3091 115.7905 191.8977 111.2826 190.645 107.2614 189.8709 105.066 189.8301 105.0985 189.9813 103.8307 190.966 101.6957 193.1483 99.4619 195.7702 97.6829 198.1056 96.8375 199.325\"/>\n",
       "<polygon fill=\"rgba(40,40,40,1)\" points=\"109.632 212.3872 108.3505 212.8518 106.7675 212.6813 105.1518 212.1134 103.7655 211.261 102.8442 209.9346 102.9198 209.9145 102.9802 208.08 103.3693 205.3672 103.9313 202.2487 104.5496 199.4117 105.125 197.5145 105.125 197.5145 106.0627 195.7677 107.6357 193.3272 109.4479 190.7277 111.0947 188.5371 112.3514 187.1994 112.3123 187.1316 113.9021 186.8479 115.4845 187.2281 117.0273 187.9716 118.2655 188.9725 118.8411 190.2082 117.8747 190.4652 117.2643 190.1948 116.144 189.7095 114.8176 189.2617 113.6823 189.0203 113.3682 188.9598 113.3291 188.8921 112.4052 189.6902 110.6427 191.6599 108.6866 194.0853 107.0019 196.3748 106.062 197.9035 106.062 197.9035 105.6426 199.6484 105.2102 202.4579 104.8731 205.5555 104.7221 208.1943 104.8089 209.4121 104.8845 209.392 105.1491 209.5718 106.1214 210.2055 107.3749 210.8289 108.5095 211.2799 109.1319 211.5213\"/>\n",
       "<polygon fill=\"rgba(40,40,40,1)\" points=\"116.5428 204.5092 114.5956 204.7049 111.7907 203.2182 108.3996 201.8618 105.3431 201.004 104.068 199.5195 104.949 199.0462 106.2705 199.062 108.8836 200.7028 112.2395 202.0451 115.2633 202.6591 116.2312 203.559\"/>\n",
       "<polygon fill=\"rgba(40,40,40,1)\" points=\"106.5247 193.5477 107.6827 191.9167 110.033 191.9858 112.5402 192.0409 114.8913 192.0752 115.9766 193.7554 114.9967 193.9549 114.1483 194.0948 112.413 193.2904 110.1053 193.2397 108.3363 193.9671 107.4949 193.79\"/>\n",
       "<polygon fill=\"rgba(40,40,40,1)\" points=\"98.9668 194.4667 100.5134 192.4233 103.5972 190.127 107.3295 187.9666 110.824 186.4008 113.4402 185.9041 113.4249 186.058 115.5864 187.2611 118.313 189.5541 121.2111 192.3204 123.6282 194.9375 124.9305 197.0408 125.0835 197.0184 124.709 199.6548 123.3073 203.2183 121.3226 207.0469 119.1722 210.2341 117.2028 211.8741 116.71 211.0039 117.7472 209.2483 119.4824 206.0337 121.3276 202.3003 122.7653 198.9873 123.3046 197.2786 123.4577 197.2562 122.6704 195.669 120.4739 193.0341 117.6344 190.3236 114.9002 188.2519 113.2781 187.5393 113.2629 187.6932 111.5811 188.3114 108.3385 189.9014 104.6949 191.9182 101.5644 193.8009 99.8589 194.9185\"/>\n",
       "<polygon fill=\"rgba(40,40,40,1)\" points=\"104.4162 232.1294 106.6768 232.1857 109.7523 233.882 113.112 236.3741 115.9682 238.9364 117.5747 240.9306 117.5747 240.9306 118.3748 243.3632 118.9721 247.1534 119.2367 251.3281 118.9881 254.8316 117.8061 256.7594 117.3284 255.8809 117.0254 254.623 117.0587 251.3267 117.074 247.2672 116.9568 243.5684 116.6433 241.4369 116.6433 241.4369 115.0249 240.0148 111.9844 237.9053 108.5692 235.7108 105.7847 233.9463 104.8938 233.008\"/>\n",
       "<polygon fill=\"rgba(40,40,40,1)\" points=\"111.5319 261.7258 109.9086 261.8959 108.5703 260.6391 107.3491 258.7554 106.4241 256.6528 106.0284 254.6956 106.1824 254.6807 106.3438 251.749 106.702 246.8913 107.1153 241.3687 107.4839 236.5118 107.7606 233.5887 107.6105 233.5511 108.2931 231.6745 109.5207 229.733 111.0086 228.052 112.5191 227.0084 114.0989 227.4182 113.25 227.9467 113.4201 228.4884 112.5167 229.5145 111.2571 231.0547 110.0744 232.6996 109.3544 233.9883 109.2044 233.9507 108.6819 236.6435 108.1377 241.4541 107.7259 246.959 107.548 251.797 107.664 254.5376 107.818 254.5227 108.3381 255.9042 109.2629 257.7068 110.2792 259.4173 111.0199 260.5664 110.771 261.0768\"/>\n",
       "<polygon fill=\"rgba(40,40,40,1)\" points=\"124.4555 288.3462 121.4334 289.3982 115.0184 289.8063 107.5601 290.7594 101.2487 291.9777 98.0591 291.7195 98.0802 290.7197 101.0007 289.8401 107.4042 289.5132 114.8558 288.5609 121.1358 287.2669 124.1836 287.3839\"/>\n",
       "<polygon fill=\"rgba(40,40,40,1)\" points=\"104.6517 299.0079 103.3426 297.1928 102.8 293.8684 102.7466 289.9568 103.0822 286.4486 103.7834 284.2113 103.7834 284.2113 105.5175 282.6334 108.5585 280.8521 112.129 279.2539 115.3729 278.3466 117.5705 278.7698 117.0325 279.6128 115.8285 280.267 112.8752 281.3001 109.3349 282.5879 106.2339 283.8743 104.677 284.7817 104.677 284.7817 104.5093 286.5759 104.648 289.9303 104.9702 293.6837 105.2764 296.7976 105.1898 298.165\"/>\n",
       "<polygon fill=\"rgba(40,40,40,1)\" points=\"124.5124 338.3075 121.1693 339.4818 114.7404 339.1703 107.253 339.0217 100.8168 339.0777 97.5229 337.7716 98.2416 337.0763 101.025 336.9358 107.3004 337.7665 114.7428 337.9143 121.0462 337.3333 123.8219 337.5842\"/>\n",
       "<polygon fill=\"rgba(40,40,40,1)\" points=\"104.5954 334.9276 105.4896 333.26 108.1729 331.9361 111.0612 330.0802 113.3804 328.1897 115.2688 328.0693 115.1058 329.0559 114.414 330.0772 111.7229 331.1478 108.869 332.9816 106.7769 334.9845 105.5606 335.1893\"/>\n",
       "<polygon fill=\"rgba(40,40,40,1)\" points=\"105.1506 324.3754 106.8783 322.5934 110.1296 322.7413 113.7013 323.0161 116.9369 323.3672 118.3717 325.3926 117.3851 325.5554 116.1311 325.3627 113.5133 324.2579 110.1254 323.9973 107.3694 324.6886 106.1007 324.6873\"/>\n",
       "<polygon fill=\"rgba(40,40,40,1)\" points=\"101.449 323.1696 104.9145 323.0391 110.5102 325.4376 117.0517 328.0977 122.7334 330.285 125.1243 332.7969 124.1578 333.0537 121.7226 332.1848 116.5509 329.2495 110.0651 326.6121 104.3126 325.1052 101.962 324.028\"/>\n",
       "<polygon fill=\"rgba(40,40,40,1)\" points=\"113.2294 374.5073 113.6506 375.4003 113.9514 376.8137 114.1362 378.416 114.2009 379.8552 114.13 380.8696 114.0525 380.8588 113.7183 381.6537 113.2331 382.4852 112.6886 383.2955 112.1754 383.9422 111.4789 384.376 111.4789 384.376 110.7386 384.0223 110.1566 383.4366 109.5254 382.6919 108.9509 381.9195 108.5304 381.1666 108.4546 381.186 108.2714 380.1857 108.1757 378.7482 108.1813 377.1354 108.3231 375.6973 108.6425 374.763 109.6328 374.9018 109.903 375.6813 110.1288 377.0495 110.311 378.6043 110.4437 379.9651 110.4999 380.6625 110.4241 380.6819 110.5043 381.1232 110.8117 381.8904 111.2067 382.6773 111.5585 383.2617 111.4225 383.3632 111.4225 383.3632 111.276 383.2775 111.5606 382.6576 111.8658 381.8317 112.0859 381.0351 112.1167 380.5875 112.0392 380.5767 112.0175 379.8774 111.9981 378.5103 112.0063 376.9448 112.0788 375.56 112.2606 374.7553\"/>\n",
       "<polygon fill=\"rgba(40,40,40,1)\" points=\"109.0838 383.0312 107.8445 382.202 106.49 380.5596 105.2274 378.5732 104.3027 376.7178 103.9374 375.2371 104.092 375.2316 104.6629 374.097 105.636 373.0572 106.7735 371.9945 107.8771 371.0943 109.0478 370.6019 109.0638 370.448 110.5162 370.913 112.3045 371.9617 114.2006 373.3564 115.7471 374.8193 116.4902 376.1121 115.6371 376.6339 114.6147 376.1308 112.9437 375.0397 111.0865 373.7723 109.5018 372.7004 108.8778 372.2363 108.8938 372.0824 108.4794 372.1382 107.4293 372.7837 106.3787 373.7651 105.6634 374.7689 105.5796 375.1786 105.7342 375.1731 106.1548 375.8271 107.1166 377.481 108.2549 379.4201 109.2299 381.1613 109.6623 382.2156\"/>\n",
       "<polygon fill=\"rgba(40,40,40,1)\" points=\"112.6693 383.637 111.7195 384.0114 110.4651 384.0423 109.1088 383.8489 107.8931 383.4962 106.8882 382.8693 106.9445 382.8149 106.4768 381.7653 106.1628 380.4493 105.9016 378.9771 105.747 377.6349 105.7794 376.6348 105.7794 376.6348 106.1598 375.7093 106.851 374.5484 107.6928 373.3126 108.5186 372.241 109.3755 371.4753 109.3465 371.4027 110.52 371.2428 111.7734 371.4193 113.0898 371.799 114.2213 372.3413 114.9342 373.0722 114.2147 373.7666 113.6572 373.8171 112.6061 373.6875 111.4079 373.528 110.395 373.4228 110.1309 373.3627 110.1019 373.2901 109.7407 373.4875 108.8492 374.2921 107.8901 375.3227 107.1123 376.2953 106.7713 376.8474 106.7713 376.8474 106.856 377.4908 107.1668 378.6968 107.6191 380.0299 108.1025 381.1293 108.351 381.4574 108.4073 381.403 108.6728 381.4566 109.6397 381.7757 110.7981 382.1215 111.8099 382.4341 112.2977 382.7086\"/>\n",
       "<polygon fill=\"rgba(40,40,40,1)\" points=\"143.4122 13.2274 145.5267 12.7536 148.8235 13.6704 152.7066 15.2383 156.2174 16.9504 158.4359 18.3336 158.4359 18.3336 160.4056 20.0527 163.0666 22.9122 165.6981 26.1697 167.5359 29.0563 167.6989 31.2171 166.8954 30.6218 165.8536 30.0885 163.9323 27.4449 161.5717 24.0874 159.329 20.9981 157.8049 19.1855 157.8049 19.1855 155.6268 18.2558 152.018 17.0108 148.1183 15.7312 145.0296 14.6637 144.2158 13.8226\"/>\n",
       "<polygon fill=\"rgba(40,40,40,1)\" points=\"158.2594 33.8581 155.8494 32.9975 152.3543 31.0829 148.5691 28.6805 145.3215 26.359 143.3518 24.5848 143.4121 24.5349 142.4457 22.5249 141.6151 19.765 140.9672 16.7839 140.6446 14.2067 140.8932 12.4731 140.8932 12.4731 142.3957 11.5732 144.897 10.8736 147.8967 10.3178 150.7629 10.016 152.9903 10.1296 153.0131 10.0547 155.411 11.1846 158.8081 13.2813 162.4879 15.8424 165.6055 18.3246 167.3314 20.2141 166.5614 20.8521 164.6418 19.5766 161.3799 17.4464 157.6549 15.0841 154.3308 13.0822 152.3999 12.0749 152.4226 12 150.777 11.7616 148.0617 11.8243 145.1381 12.1468 142.7414 12.6367 141.738 13.0348 141.738 13.0348 141.7591 14.1141 142.2346 16.5137 143.0681 19.3344 144.0608 21.8626 144.9173 23.2878 144.9775 23.2379 146.6534 24.6287 149.7854 26.9196 153.4048 29.4407 156.631 31.6245 158.5498 32.9012\"/>\n",
       "<polygon fill=\"rgba(40,40,40,1)\" points=\"161.9415 16.3492 163.7153 17.5742 163.869 20.2612 164.0427 23.1852 164.2082 25.8716 162.5919 27.298 162.29 26.3446 162.1175 25.3615 162.7868 23.1701 162.6237 20.4249 161.6997 18.3282 161.7546 17.3315\"/>\n",
       "<polygon fill=\"rgba(40,40,40,1)\" points=\"146.9187 62.6051 147.8147 60.4228 150.7871 59.278 154.0884 57.9962 157.0545 56.8351 159.1884 57.8409 158.3998 58.4559 157.3063 58.9723 154.472 59.1922 151.3111 60.4195 149.0711 62.17 147.9156 62.5268\"/>\n",
       "<polygon fill=\"rgba(40,40,40,1)\" points=\"147.0446 61.7627 147.5229 60.4792 148.6707 59.1479 150.1517 57.9097 151.666 56.978 153.1875 56.5841 153.1844 56.6622 154.6946 57.2492 156.5808 58.3505 158.6441 59.709 160.4454 61.0418 161.575 62.1196 161.575 62.1196 162.303 63.5009 163.0925 65.598 163.8352 67.9541 164.3789 70.0695 164.5306 71.6827 164.6066 71.701 163.8117 73.0569 162.5015 74.2587 160.9056 75.3448 159.3112 76.0849 157.9458 76.1941 157.9858 75.1949 158.6099 74.6691 159.8069 73.7345 161.1308 72.6152 162.1946 71.5897 162.5544 71.2054 162.6305 71.2238 162.6529 70.3309 162.3607 68.3045 161.85 65.9661 161.2581 63.8994 160.7656 62.7311 160.7656 62.7311 159.7764 61.9379 157.9503 60.8035 155.8406 59.673 153.9713 58.8379 153.1063 58.6154 153.1032 58.6936 152.6351 58.9346 151.3579 59.6776 149.9193 60.645 148.693 61.5408 148.0166 61.9975\"/>\n",
       "<polygon fill=\"rgba(40,40,40,1)\" points=\"146.5372 75.3457 147.3397 72.3267 150.7196 67.5949 154.3715 61.8869 157.2511 56.835 159.6558 54.841 160.0819 55.7457 159.005 58.0819 155.4218 62.5758 151.7853 68.2598 149.207 73.3966 147.5372 75.3534\"/>\n",
       "<polygon fill=\"rgba(40,40,40,1)\" points=\"143.3394 75.6853 142.2065 73.4024 141.6738 69.6487 141.6208 65.3718 142.0127 61.5532 142.9577 58.9837 143.0815 59.0763 145.4113 57.6198 149.1988 56.0116 153.5617 54.4208 157.4954 53.2134 160.2159 52.8285 160.251 52.6778 162.6282 54.036 165.3861 56.706 168.0986 60.0132 170.1071 63.2288 170.7096 65.7051 169.7096 65.708 168.618 64.1148 166.4344 61.2953 163.7691 58.1713 161.2765 55.5841 159.8429 54.4288 159.878 54.2781 157.7568 54.3899 153.8813 55.3958 149.5819 56.9635 145.9686 58.6884 144.2732 59.9682 144.3971 60.0609 144.0437 61.8678 143.8015 65.4523 143.7726 69.5586 143.9164 73.122 144.1066 75.0438\"/>\n",
       "<polygon fill=\"rgba(40,40,40,1)\" points=\"155.3981 100.2095 158.0336 100.3894 160.7042 103.1172 163.7013 106.2062 166.3471 108.9579 166.4474 111.5975 165.5572 111.1421 164.5074 110.0744 162.7547 107.0318 159.8504 104.0384 156.862 102.1946 155.8265 101.1131\"/>\n",
       "<polygon fill=\"rgba(40,40,40,1)\" points=\"163.9429 105.1456 163.9596 107.8194 161.7026 111.578 159.2896 116.0163 157.3621 119.9541 155.109 121.3939 154.9993 120.3999 155.5973 118.7227 158.202 115.388 160.5839 111.0069 161.9665 107.0077 163.049 105.5939\"/>\n",
       "<polygon fill=\"rgba(40,40,40,1)\" points=\"167.781 114.1897 166.3196 115.5792 163.395 116.3125 159.7927 116.7084 156.4412 116.7784 154.196 116.5101 154.196 116.5101 152.0915 115.6831 149.1728 114.0341 146.1877 111.9793 143.9592 109.9484 143.3301 108.0325 144.2999 108.2767 145.3239 108.5225 147.5374 110.2699 150.27 112.4809 152.831 114.456 154.4549 115.4821 154.4549 115.4821 156.371 115.3474 159.562 114.8209 163.0158 114.1677 165.793 113.6771 166.8112 113.9455\"/>\n",
       "<polygon fill=\"rgba(40,40,40,1)\" points=\"162.1352 153.5034 163.6069 153.4729 163.933 154.7712 163.964 155.8648 163.7119 157.1794 162.2407 157.2322 162.1437 156.2369 162.2382 155.6112 162.7404 155.5814 162.7274 155.1234 162.2243 155.122 162.0946 154.5026\"/>\n",
       "<polygon fill=\"rgba(40,40,40,1)\" points=\"150.1939 165.6285 149.1598 163.2477 148.0858 159.3135 147.1336 154.8216 146.4816 150.7906 146.3132 148.124 146.3913 148.1287 146.999 146.0319 148.1486 143.4881 149.5468 140.9255 150.9064 138.8857 152.1805 137.8274 152.1805 137.8274 153.7543 138.3435 155.7683 139.741 158.0102 141.6106 160.0142 143.5541 161.3498 145.2809 161.4208 145.2478 162.244 147.7898 163.1187 151.7784 163.8836 156.3059 164.3303 160.3595 164.2434 162.9537 163.2452 162.8938 162.7636 160.5639 161.9633 156.6419 161.0225 152.2099 160.1265 148.3227 159.5073 146.14 159.5782 146.1069 158.6862 144.687 156.9559 142.6993 154.9397 140.7374 153.1544 139.2874 152.3702 138.824 152.3702 138.824 151.8111 139.5431 150.6835 141.5477 149.5292 144.1132 148.6504 146.5976 148.3425 148.246 148.4206 148.2507 148.6467 150.5082 149.2417 154.4528 149.9952 158.9204 150.692 162.8621 151.1002 165.2059\"/>\n",
       "<polygon fill=\"rgba(40,40,40,1)\" points=\"146.9069 145.7477 149.1624 144.8824 152.7779 144.2662 156.878 143.9101 160.5562 143.8573 163.0758 144.2071 163.0501 144.281 164.9226 145.6172 167.0729 147.7991 169.2179 150.346 170.8985 152.7214 171.6605 154.532 171.6605 154.532 171.1339 156.4245 169.7674 158.9936 167.9622 161.7916 166.1054 164.2281 164.4171 165.7907 164.452 165.8607 161.9969 166.5266 158.3417 166.9399 154.2294 167.1057 150.565 166.9522 148.2181 166.3794 148.547 165.435 150.6178 165.3731 154.154 165.1577 158.153 164.8081 161.6482 164.3711 163.5107 163.971 163.5455 164.041 164.8266 163.0398 166.75 160.882 168.6746 158.2971 170.1273 155.9371 170.6481 154.5964 170.6481 154.5964 169.9618 153.3324 168.222 151.1752 165.9856 148.8548 163.8046 146.9578 162.4071 146.1269 162.3813 146.2008 160.4832 146.0396 156.9608 146.0486 152.9497 146.2081 149.4147 146.4421 147.3527 146.6428\"/>\n",
       "<polygon fill=\"rgba(40,40,40,1)\" points=\"161.3594 144.9053 163.9149 147.0309 166.6203 151.325 169.0157 156.4085 170.585 160.9289 170.7282 163.8239 170.7282 163.8239 168.2178 165.2728 163.5685 166.4043 157.9981 167.1469 152.9232 167.2011 149.7517 166.2058 150.2302 165.3277 152.9798 165.2282 157.8388 164.9747 163.2963 164.5223 167.8496 163.8881 169.7974 163.3166 169.7974 163.3166 169.2218 161.37 167.2867 157.2 164.7085 152.3686 162.2877 148.1479 160.8809 145.7834\"/>\n",
       "<polygon fill=\"rgba(40,40,40,1)\" points=\"145.5018 158.4973 145.5557 155.9923 146.527 152.3199 148.0027 148.3522 149.5939 144.9997 151.089 143.0131 151.1846 143.1347 153.1913 142.7278 155.8884 142.8891 158.8657 143.3247 161.4959 143.9429 163.3019 144.9077 163.4283 144.8186 164.2916 147.1502 164.8555 150.8181 165.1327 155.0423 165.011 158.839 164.345 161.2544 163.4112 160.8968 163.279 158.7897 163.0344 155.1444 162.6847 151.0401 162.271 147.5257 161.9588 145.8544 162.0853 145.7653 161.0772 145.073 158.6634 144.3306 155.794 143.9108 153.2686 143.9305 152.1045 144.3049 152.2001 144.4265 151.4222 145.9383 150.019 149.1868 148.508 153.019 147.2293 156.4413 146.499 158.4222\"/>\n",
       "<polygon fill=\"rgba(40,40,40,1)\" points=\"154.6209 190.4041 156.4569 190.853 158.4262 192.6715 160.3301 195.1228 161.7827 197.5238 162.4123 199.3322 162.4123 199.3322 162.1435 201.228 161.1815 203.8642 159.7864 206.6369 158.205 208.8012 156.4902 209.5959 156.3932 208.6006 156.6491 207.5868 157.9254 205.5051 159.4913 202.993 160.8098 200.7046 161.3572 199.4349 161.3572 199.4349 160.5751 198.2948 158.8398 196.3038 156.8186 194.1411 155.1646 192.3448 154.7179 191.3994\"/>\n",
       "<polygon fill=\"rgba(40,40,40,1)\" points=\"149.6674 194.7124 150.4949 193.7066 151.9329 193.1272 153.6381 192.8329 155.2624 192.8352 156.6198 193.2635 156.5431 193.3979 157.5144 194.5171 158.7681 196.243 160.1602 198.2022 161.3777 199.9538 162.1151 201.2392 162.2672 201.2111 162.2251 202.6338 161.693 204.1684 160.8541 205.6819 159.8339 206.8493 158.6119 207.2999 158.4651 206.3107 158.5005 205.7428 159.0455 204.6133 159.712 203.2532 160.258 202.0388 160.4994 201.5386 160.6515 201.5104 160.3345 200.5573 159.3101 198.7767 157.9459 196.8568 156.6014 195.3037 155.8056 194.6908 155.729 194.8252 155.1772 194.8886 153.8508 195.0047 152.3471 195.1867 151.1012 195.3298 150.5532 195.1764\"/>\n",
       "<polygon fill=\"rgba(40,40,40,1)\" points=\"158.1654 186.8232 160.5389 189.1275 162.1846 194.4808 164.1574 200.6432 165.9266 205.9569 165.3327 209.2112 164.5791 208.5539 163.8102 206.3464 162.9503 200.9903 161.0003 194.8992 158.5897 190.0396 157.9336 187.7959\"/>\n",
       "<polygon fill=\"rgba(40,40,40,1)\" points=\"156.5957 243.1239 158.192 243.8986 160.0936 245.5949 161.904 247.6073 163.2292 249.3364 163.6716 250.8373 163.6716 250.8373 162.1089 250.7588 160.1174 249.8755 157.7369 248.5868 155.6425 247.1354 154.5154 245.765 155.1341 244.9795 156.7228 245.4836 158.8862 246.7366 161.0918 248.2425 162.8009 249.5042 162.8388 250.1813 162.8388 250.1813 162.1716 250.3031 160.5447 248.9371 158.5641 247.1456 156.8392 245.3358 155.977 243.9094\"/>\n",
       "<polygon fill=\"rgba(40,40,40,1)\" points=\"159.6627 253.3189 158.0635 253.7749 155.6885 253.8207 153.0515 253.5794 150.7055 253.1356 149.0277 252.4541 149.0726 252.39 148.0349 251.0047 147.0309 249.0012 146.0868 246.7241 145.4018 244.6424 145.1982 243.1194 145.1982 243.1194 145.7786 241.6968 146.9656 239.8546 148.4525 237.8884 149.9286 236.2022 151.2816 235.1228 151.2543 235.0495 153.0496 234.8122 155.4318 234.9733 158.0446 235.4036 160.3315 236.0458 161.7644 236.8897 161.1903 237.7085 159.9437 237.5774 157.7375 237.3287 155.226 237.1035 153.0355 236.9957 151.9921 237.0275 151.9648 236.9542 151.1082 237.4888 149.5845 238.8961 147.9921 240.6455 146.7307 242.2835 146.2045 243.2482 146.2045 243.2482 146.4709 244.3143 147.2793 246.217 148.38 248.3109 149.5005 250.0565 150.1948 250.7895 150.2397 250.7254 151.2415 251.0189 153.3886 251.466 155.8759 251.8803 158.0736 252.195 159.3132 252.3819\"/>\n",
       "<polygon fill=\"rgba(40,40,40,1)\" points=\"158.5008 251.7941 157.538 253.4104 155.56 253.259 153.5778 253.0342 151.6161 252.7389 151.0396 250.9482 152.0386 250.9047 152.779 250.9282 153.8603 251.8104 155.5586 252.003 156.81 251.3852 157.5368 251.5281\"/>\n",
       "<polygon fill=\"rgba(40,40,40,1)\" points=\"160.2667 233.3596 161.8589 235.1045 163.7614 238.1758 165.6288 241.7779 167.0792 245.0967 167.75 247.4795 167.6722 247.4871 167.2936 249.634 166.3335 252.3183 165.0758 255.1153 163.7795 257.4347 162.5552 258.7602 162.5552 258.7602 160.7572 258.9125 158.1306 258.5111 155.1508 257.786 152.4427 256.8952 150.5159 255.8756 150.462 255.9324 148.9935 253.9397 147.265 250.7568 145.5689 247.071 144.3134 243.6834 143.914 241.3552 144.9093 241.2576 145.787 243.1137 147.3386 246.2533 149.1665 249.7748 150.8656 252.8159 151.9149 254.4006 151.8611 254.4574 153.1509 255.2997 155.6172 256.3441 158.4323 257.2508 160.8837 257.8013 162.1096 257.8489 162.1096 257.8489 162.8249 256.8521 163.8959 254.5794 164.9091 251.8009 165.5994 249.2131 165.7268 247.6778 165.6489 247.6855 165.0426 245.8841 163.686 242.6755 162.0293 239.0704 160.5043 235.9177 159.5785 234.0851\"/>\n",
       "<polygon fill=\"rgba(40,40,40,1)\" points=\"152.3184 283.3203 154.6954 282.0288 158.58 281.1712 162.8497 280.73 166.3954 280.711 168.4601 281.3871 168.4601 281.3871 168.026 283.5159 166.2549 286.5877 163.7587 290.0796 161.0912 293.031 158.7927 294.4575 158.2902 293.593 159.6481 291.6845 162.0632 288.7124 164.7135 285.4741 166.7905 282.7904 167.5436 281.9199 167.5436 281.9199 166.4145 282.1437 163.0546 282.6205 158.9292 283.3211 155.1514 283.9491 152.8209 284.1848\"/>\n",
       "<polygon fill=\"rgba(40,40,40,1)\" points=\"149.4498 290.7663 150.7148 288.3246 153.2062 284.7899 156.1744 281.0274 158.8665 277.9129 160.6182 276.2455 160.7137 276.3672 162.0764 276.0865 163.3025 276.4932 164.3712 277.229 165.1886 278.2293 165.4126 279.6024 165.5603 279.6482 164.6277 281.8795 162.6788 285.5058 160.223 289.6211 157.81 293.2097 155.9803 295.2626 155.2005 294.6366 156.346 292.2827 158.4197 288.5436 160.7853 284.421 162.8156 280.9099 163.8431 279.1155 163.9909 279.1614 164.0754 278.6912 163.6616 277.9702 162.8632 277.4205 162.0421 277.2912 161.633 277.5379 161.7285 277.6596 160.4188 279.2597 157.8634 282.4091 154.8562 286.0901 152.1031 289.3614 150.3129 291.2714\"/>\n",
       "<polygon fill=\"rgba(40,40,40,1)\" points=\"159.49 283.7543 160.5188 284.7841 161.3936 286.5952 162.0672 288.7192 162.435 290.6729 162.3321 292.2115 162.1843 292.1659 161.2466 293.1533 159.8575 294.0988 158.2705 295.0759 156.8009 295.8905 155.497 296.2832 155.4711 296.4357 154.051 295.8348 152.4722 294.6267 150.8789 293.069 149.6557 291.4724 149.1994 290.0901 150.1579 289.8052 150.9898 290.3668 152.3669 291.586 153.9183 292.9926 155.261 294.1736 155.7716 294.6631 155.7457 294.8156 156.3574 294.7698 157.7718 294.1792 159.2814 293.2497 160.4456 292.2528 160.7619 291.7272 160.6141 291.6816 160.4069 291.0053 159.9569 289.2747 159.3996 287.2561 158.9309 285.4776 158.8041 284.4819\"/>\n",
       "<polygon fill=\"rgba(40,40,40,1)\" points=\"150.6711 297.616 148.9513 296.0551 147.5459 292.9263 146.5075 289.2081 145.9906 285.8704 146.2361 283.6729 146.2361 283.6729 147.9808 282.3144 151.0961 281.0096 154.8084 279.9504 158.2103 279.5121 160.44 280.1618 159.9516 281.0344 158.3888 281.4777 155.2513 282.083 151.6211 282.8373 148.5345 283.6359 147.1612 284.1906 147.1612 284.1906 147.4065 285.6513 148.3399 288.6999 149.5953 292.1886 150.7201 295.1794 151.1595 296.7434\"/>\n",
       "<polygon fill=\"rgba(40,40,40,1)\" points=\"156.4287 285.3776 157.6087 285.5677 158.6795 286.4936 159.5701 287.7483 160.1578 288.9649 160.3099 290.0711 160.3099 290.0711 159.6575 290.9773 158.5684 291.7769 157.1938 292.4684 155.8141 292.7849 154.6825 292.4002 154.9238 291.4297 155.3492 290.8667 156.4653 290.4157 157.8067 290.0345 158.9345 289.7403 159.2811 289.8153 159.2811 289.8153 158.9397 289.7192 158.0811 288.931 157.0745 287.9659 156.2995 287.0447 156.1873 286.348\"/>\n",
       "<polygon fill=\"rgba(40,40,40,1)\" points=\"145.2287 333.1794 145.0959 331.7156 145.5637 329.8308 146.3854 327.8527 147.3718 326.1578 148.5716 325.0039 148.6078 325.0733 150.2963 324.8164 152.6033 324.8425 155.1988 325.0209 157.5332 325.3189 159.1132 325.7405 159.1132 325.7405 160.4483 326.6847 162.1712 328.2878 163.9693 330.1681 165.4657 331.9241 166.3489 333.386 166.4254 333.3694 166.3066 335.0298 165.6355 336.8724 164.6413 338.7697 163.4924 340.3353 162.2826 341.1701 161.8202 340.2834 162.1997 339.427 162.9149 337.8643 163.6588 336.0522 164.1986 334.4604 164.3622 333.8172 164.4387 333.8006 164.0303 332.9174 162.8023 331.135 161.2225 329.1706 159.6937 327.5102 158.6828 326.6592 158.6828 326.6592 157.3818 326.427 155.1276 326.3148 152.6072 326.358 150.4517 326.5551 149.5116 326.8065 149.5478 326.8759 149.1584 327.4132 148.2806 328.8467 147.3643 330.5779 146.6212 332.1276 146.2059 332.9673\"/>\n",
       "<polygon fill=\"rgba(40,40,40,1)\" points=\"157.6847 338.464 156.4381 338.4066 154.6769 337.9195 152.7678 337.1953 151.1097 336.4235 149.9993 335.7115 150.0493 335.6513 149.3981 334.6991 148.8325 333.4896 148.3386 332.1884 148.0122 331.0355 148.0174 330.0634 148.0174 330.0634 148.7237 329.3953 149.7885 328.846 151.0761 328.3175 152.3458 327.9041 153.486 327.729 153.4957 327.6514 154.7742 327.9757 156.4707 328.6591 158.3039 329.5582 159.863 330.5114 160.7566 331.3824 160.1173 332.1513 159.1381 331.9152 157.4975 331.333 155.6529 330.6368 154.042 330.0328 153.2326 329.7461 153.2423 329.6685 152.6452 329.6239 151.4841 329.777 150.2334 330.0631 149.238 330.3884 148.9481 330.4671 148.9481 330.4671 149.0887 330.7326 149.5313 331.6816 150.177 332.7903 150.8585 333.7427 151.299 334.1483 151.3491 334.0881 152.1115 334.4833 153.6531 335.2468 155.4218 336.118 156.9679 336.9182 157.8093 337.4718\"/>\n",
       "<polygon fill=\"rgba(40,40,40,1)\" points=\"144.4359 373.152 145.498 371.3592 147.809 369.4369 150.6816 367.656 153.4438 366.3779 155.6604 365.9888 155.6446 366.1427 157.6194 367.1732 160.2337 369.099 163.0758 371.4019 165.5018 373.5601 166.9193 375.2784 167.0666 375.231 167.1456 377.4801 166.468 380.4472 165.3213 383.6267 163.9199 386.286 162.3863 387.6967 161.8697 386.8406 162.3942 385.4647 163.3658 382.859 164.3796 379.8142 165.1227 377.1172 165.3551 375.7817 165.5024 375.7343 164.6273 374.3893 162.4039 372.1774 159.6144 369.9171 156.9895 368.2006 155.4923 367.6234 155.4765 367.7773 154.2182 368.2816 151.7338 369.5677 148.9654 371.1908 146.6178 372.6815 145.3806 373.4799\"/>\n",
       "<polygon fill=\"rgba(40,40,40,1)\" points=\"143.2487 385.5825 144.3471 382.1496 148.5368 377.1081 153.2535 371.1135 157.1678 365.8554 160.2459 363.9803 160.361 364.9736 158.7501 367.314 154.2263 371.908 149.5378 377.8667 146.137 383.3443 144.2413 385.4606\"/>\n",
       "<polygon fill=\"rgba(40,40,40,1)\" points=\"154.1237 366.6207 156.546 366.971 159.6687 368.9107 162.8527 371.6023 165.3636 374.2778 166.5127 376.3716 166.5127 376.3716 165.9296 378.6876 164.1756 381.9105 161.7745 385.3188 159.2429 387.9843 156.9874 388.9348 156.8601 387.943 157.8688 386.5674 160.087 383.9417 162.6163 380.8222 164.6681 378.0082 165.4612 376.5065 165.4612 376.5065 164.3146 375.2537 161.6187 373.0491 158.3837 370.6693 155.5744 368.6889 154.251 367.6126\"/>\n",
       "<polygon fill=\"rgba(40,40,40,1)\" points=\"147.1797 381.6938 146.7496 379.7013 146.9537 376.709 147.5656 373.4231 148.3989 370.5881 149.4287 368.7642 149.5394 368.8723 151.2559 368.2516 153.6541 367.9569 156.3456 367.8057 158.7617 367.8301 160.5369 368.2547 160.6348 368.1349 161.8623 369.8321 163.0078 372.5559 163.9837 375.7527 164.5215 378.7034 164.3171 380.7315 163.3363 380.5365 162.82 379.0312 161.9638 376.3301 160.9496 373.2811 159.9946 370.6898 159.497 369.527 159.5949 369.4072 158.6096 369.0257 156.3558 368.8317 153.7588 368.9776 151.5409 369.4226 150.6045 369.9121 150.7152 370.0201 150.3509 371.2313 149.692 373.9133 149.0255 377.0566 148.4771 379.8366 148.1325 381.3902\"/>\n",
       "<polygon fill=\"rgba(40,40,40,1)\" points=\"204.1432 20.3129 204.63 21.4935 204.3537 22.9776 203.6727 24.5043 202.8549 25.7535 201.9799 26.5185 201.9799 26.5185 200.8299 26.6867 199.3489 26.4969 197.7458 26.0227 196.438 25.2686 195.8568 24.1316 196.765 23.713 197.4237 23.5586 198.6097 24.0233 199.97 24.6996 201.1372 25.2873 201.5362 25.5557 201.5362 25.5557 201.5913 25.0781 201.9029 23.8088 202.2724 22.3354 202.6897 21.1319 203.235 20.7314\"/>\n",
       "<polygon fill=\"rgba(40,40,40,1)\" points=\"199.4753 27.4055 197.4908 27.2225 194.942 26.0069 192.403 24.3112 190.457 22.6558 189.5874 21.1681 189.5874 21.1681 190.7376 19.8848 192.9758 18.653 195.8031 17.5006 198.5439 16.8205 200.5247 17.039 200.424 18.0339 198.9999 18.7408 196.4745 19.5726 193.6662 20.4248 191.3911 21.1598 190.6421 21.2749 190.6421 21.2749 191.3529 21.5377 193.4345 22.7137 196.015 24.1115 198.3225 25.4326 199.576 26.4106\"/>\n",
       "<polygon fill=\"rgba(40,40,40,1)\" points=\"195.6756 31.6815 194.0293 30.5826 192.2796 28.3252 190.6726 25.5622 189.5309 22.941 189.1982 20.8653 189.3519 20.8825 190.334 19.1656 192.1122 17.038 194.2276 14.754 196.213 12.8183 197.8498 11.7078 197.8209 11.5558 199.9159 11.7288 202.6168 12.6667 205.4946 14.0576 207.8792 15.6296 209.1008 17.1869 208.2301 17.6787 206.928 17.078 204.5363 15.9271 201.7644 14.6755 199.3212 13.696 198.1568 13.3221 198.1279 13.1701 196.9669 13.7585 194.9539 15.4788 192.8904 17.7067 191.3291 19.8454 190.8312 21.048 190.9849 21.0652 191.4469 22.1976 192.6103 24.5587 194.0703 27.2267 195.4007 29.5234 196.0992 30.7757\"/>\n",
       "<polygon fill=\"rgba(40,40,40,1)\" points=\"195.6698 67.0905 195.2759 64.4117 195.6334 60.4447 196.4203 56.2631 197.3263 52.9326 198.4858 51.197 198.4858 51.197 199.9598 52.6748 201.4944 55.7664 203.0772 59.716 204.1972 63.5385 204.3302 66.2428 203.335 66.3402 202.3021 64.09 201.0175 60.4242 199.7197 56.4494 198.6602 53.278 198.5891 52.2521 198.5891 52.2521 198.7182 53.2724 198.2937 56.589 197.7913 60.74 197.242 64.5853 196.665 66.9931\"/>\n",
       "<polygon fill=\"rgba(40,40,40,1)\" points=\"186.4485 64.5315 186.3828 62.8293 187.0841 60.6981 188.2277 58.5072 189.564 56.6733 191.1203 55.5387 191.1442 55.6132 193.2492 55.6274 196.2639 56.0847 199.6768 56.7826 202.7428 57.5749 204.7581 58.3486 204.7581 58.3486 206.4466 59.6936 208.6838 61.9348 211.0155 64.5229 212.9379 66.8897 214.0172 68.697 214.0935 68.6799 213.9044 70.5965 213.001 72.6781 211.6922 74.7744 210.2106 76.4593 208.7101 77.2655 208.4048 76.3133 209.0308 75.4085 210.0545 73.7169 211.0889 71.7168 211.826 69.9272 212.0338 69.1434 212.1102 69.1262 211.4962 67.8739 209.8336 65.4715 207.7154 62.7958 205.6647 60.4932 204.2544 59.2292 204.2544 59.2292 202.4499 58.6542 199.4255 58.0539 196.0454 57.5844 193.1317 57.369 191.741 57.4746 191.7649 57.5491 191.1946 58.1256 190.0256 59.6681 188.8259 61.5737 187.8867 63.3136 187.4241 64.3119\"/>\n",
       "<polygon fill=\"rgba(40,40,40,1)\" points=\"192.1813 60.0325 194.1747 58.4143 197.9478 58.4988 202.221 58.5431 205.9951 58.5368 207.9545 60.1959 207.0186 60.5482 205.5508 60.6424 202.1497 59.7971 197.9932 59.754 194.5753 60.5287 193.1097 60.404\"/>\n",
       "<polygon fill=\"rgba(40,40,40,1)\" points=\"190.4558 74.8305 189.2127 73.7471 188.1394 71.8371 187.2942 69.5723 186.8165 67.4108 186.9575 65.5561 187.0301 65.5853 188.3112 64.0768 190.4251 62.2423 192.9375 60.2904 195.3095 58.6473 197.06 57.729 197.06 57.729 199.0138 57.4287 201.898 57.3429 205.0786 57.4221 207.8686 57.6434 209.7951 58.0968 209.8363 58.0302 211.0507 59.439 211.9496 61.462 212.6139 63.7863 212.884 65.9605 212.5269 67.5702 211.5989 67.1978 211.3166 66.1591 210.7342 64.3032 209.9521 62.2304 209.1446 60.5042 208.7265 59.8262 208.7676 59.7596 207.5765 59.3644 204.9476 58.9319 201.8555 58.6381 199.0608 58.5461 197.377 58.6927 197.377 58.6927 195.935 59.5743 193.7406 61.3074 191.4267 63.3795 189.568 65.2882 188.8442 66.3134 188.9168 66.3425 188.9828 67.1364 189.3577 69.0049 189.9589 71.1371 190.5919 72.9764 190.9815 73.9798\"/>\n",
       "<polygon fill=\"rgba(40,40,40,1)\" points=\"192.4601 98.7061 193.9104 97.7873 196.0964 97.8153 198.5679 98.3766 200.8209 99.3004 202.4094 100.5504 202.2912 100.6502 203.4135 102.9172 204.9805 106.6291 206.6958 110.8652 208.1528 114.6217 208.9239 117.0308 209.0783 117.0203 208.807 119.0234 207.8314 121.2545 206.4468 123.3772 204.8961 124.9182 203.2151 125.2672 203.4523 124.2958 203.7207 123.6451 204.7405 122.1516 205.9211 120.1997 206.8794 118.3105 207.2846 117.1425 207.4389 117.132 207.0083 114.9993 205.7385 111.2345 204.036 107.0299 202.3287 103.4422 201.1542 101.6108 201.036 101.7107 199.9323 101.1535 197.9296 100.4633 195.7235 99.8827 193.9519 99.5195 193.3064 99.2389\"/>\n",
       "<polygon fill=\"rgba(40,40,40,1)\" points=\"196.6545 103.2019 198.4979 102.9226 200.9656 103.7877 203.5678 105.2357 205.711 106.8063 206.8808 108.2006 206.8808 108.2006 207.0666 110.0111 206.701 112.6429 205.9277 115.5187 204.8298 117.892 203.3455 119.0203 202.956 118.0994 203.0651 117.0081 203.8791 114.7791 204.8694 112.1318 205.6523 109.7817 205.9045 108.6136 205.9045 108.6136 204.8906 107.981 202.6589 106.906 200.0695 105.7729 197.9031 104.8046 197.044 104.1229\"/>\n",
       "<polygon fill=\"rgba(40,40,40,1)\" points=\"205.9465 145.457 206.4271 144.7888 207.3092 144.5538 208.2076 145.0919 208.4851 146.0677 208.1959 146.9757 208.1262 146.94 207.279 148.1529 205.8085 150.2586 204.0743 152.7383 202.4648 155.0207 201.3645 156.5392 201.3645 156.5392 200.2716 158.0631 198.6149 160.3114 196.8104 162.7404 195.2774 164.8011 194.3944 165.9883 194.4503 166.043 193.6803 166.6044 192.6668 166.6495 191.8723 165.9672 191.8164 165.0561 192.2985 164.3889 193.1884 164.8452 193.3949 165.1227 193.5062 164.9039 193.2073 164.5788 192.9034 164.5638 192.9427 164.5651 192.9985 164.6199 193.9334 163.6872 195.6313 161.7883 197.6002 159.5053 199.3886 157.3767 200.5415 155.946 200.5415 155.946 201.5346 154.3999 202.9889 152.0305 204.5326 149.4409 205.7974 147.2298 206.3868 146.0481 206.3172 146.0124 206.3035 145.9756 206.4139 146.2592 206.8167 146.4401 206.9892 146.2653 206.6606 146.1571\"/>\n",
       "<polygon fill=\"rgba(40,40,40,1)\" points=\"191.0327 144.3712 194.2475 143.2939 199.5959 144.6275 205.7195 146.2349 211.0333 147.7002 213.3045 150.2177 212.3172 150.3764 210.1347 149.6556 205.3512 147.4358 199.3269 145.8543 194.0699 145.4385 191.8147 144.9944\"/>\n",
       "<polygon fill=\"rgba(40,40,40,1)\" points=\"189.4933 146.6387 192.6266 147.7846 197.9332 151.6769 204.3838 155.8695 210.0954 159.1386 212.4148 161.5367 211.6631 162.1962 208.8834 160.9169 203.6939 156.9191 197.2541 152.7334 191.4936 149.6142 189.1958 147.5935\"/>\n",
       "<polygon fill=\"rgba(40,40,40,1)\" points=\"196.0091 166.3006 195.3833 164.6482 195.8519 162.2785 196.7481 159.3997 197.7332 156.734 198.475 154.9892 198.475 154.9892 199.0521 153.1831 200.0459 150.5207 201.2462 147.7549 202.4381 145.6537 203.9909 144.8105 203.6427 145.748 204.1782 146.5851 203.1949 148.7278 201.7597 151.3446 200.3551 153.7787 199.4688 155.3583 199.4688 155.3583 199.1091 157.1334 198.5842 159.8942 197.9633 162.8135 197.3095 165.0786 196.3573 165.3631\"/>\n",
       "<polygon fill=\"rgba(40,40,40,1)\" points=\"201.6337 152.0344 202.7407 151.4101 203.3571 152.3105 203.9112 153.0053 204.6517 153.8068 203.7966 154.7469 203.0838 154.0455 202.5108 154.0258 202.8243 153.6348 202.5014 153.2299 202.0504 153.4484 202.1588 152.8855\"/>\n",
       "<polygon fill=\"rgba(40,40,40,1)\" points=\"200.4736 189.6301 201.8313 189.5307 202.905 190.373 203.8366 191.6306 204.509 193.0396 204.7555 194.4254 204.601 194.4336 204.3051 196.2157 203.772 199.0392 203.1805 202.2441 202.6706 205.0718 202.3108 206.8421 202.4522 206.9049 201.7272 208.1114 200.5962 209.1875 199.277 210.0298 197.9734 210.4333 196.7405 209.8557 197.5594 209.2818 197.4727 208.7744 198.2171 208.216 199.2689 207.4554 200.2533 206.6792 200.8092 206.1749 200.9506 206.2377 201.4974 204.7959 202.1738 202.0456 202.7608 198.8652 203.1108 196.0546 203.1146 194.5126 202.9602 194.5208 202.6209 193.8513 201.9785 192.7748 201.2675 191.6889 200.7715 190.9015 201.0336 190.4585\"/>\n",
       "<polygon fill=\"rgba(40,40,40,1)\" points=\"197.6951 207.6855 196.9413 208.192 196.0696 208.1937 195.2624 207.8662 194.5923 207.232 194.2942 206.1144 194.3723 206.1197 194.7433 205.0131 195.3947 203.3944 196.1815 201.5213 196.9377 199.809 197.5081 198.6572 197.5081 198.6572 198.1564 197.5473 199.1707 195.9741 200.3024 194.2869 201.2961 192.8527 202.0163 191.9343 201.969 191.8719 203.0663 191.5063 203.9645 191.7172 204.682 192.2113 205.1599 192.9403 205.1514 193.8484 204.1536 193.7816 203.8628 193.8423 203.545 193.7948 203.1989 193.7158 203.0111 193.6891 203.2452 193.5537 203.1979 193.4914 202.6379 193.9692 201.5027 195.2123 200.2151 196.7412 199.078 198.1809 198.4011 199.1384 198.4011 199.1384 197.9736 200.2303 197.3966 201.9718 196.8276 203.888 196.4137 205.5198 196.3226 206.2503 196.4007 206.2555 196.385 205.9854 196.5106 206.1277 196.767 206.3733 196.9813 206.6126 197.0906 206.8889\"/>\n",
       "<polygon fill=\"rgba(40,40,40,1)\" points=\"200.4219 213.6782 198.6435 213.7039 196.5615 212.6029 194.4591 210.9106 192.7532 209.0277 191.8538 207.1778 192.0047 207.1439 192.1421 204.7302 192.6585 200.9914 193.3333 196.7695 194.0082 193.056 194.6299 190.7198 194.4971 190.6405 195.9284 189.1631 198.1362 187.9058 200.6614 186.9532 202.9828 186.556 204.6646 187.1349 204.0259 187.9043 203.2282 188.2713 201.3223 188.9473 199.0447 189.8899 197.0465 190.8875 196.0409 191.5619 195.9081 191.4826 195.1791 193.3411 194.3431 196.9519 193.6748 201.1329 193.3436 204.8244 193.457 206.8175 193.6079 206.7836 194.3531 207.7378 195.9408 209.3086 197.8111 210.9142 199.4113 212.1506 200.0548 212.748\"/>\n",
       "<polygon fill=\"rgba(40,40,40,1)\" points=\"195.3525 210.7322 193.5018 209.1495 191.9313 205.8273 190.7101 201.8173 190.0396 198.1685 190.1847 195.7496 190.1847 195.7496 191.8496 193.9888 194.9694 191.9813 198.7295 190.1285 202.2269 189.0009 204.6475 189.2678 204.2501 190.1854 202.7532 190.9031 199.5523 192.1452 195.8173 193.6834 192.6293 195.1908 191.1575 196.1709 191.1575 196.1709 191.4497 197.9148 192.5315 201.2712 193.965 205.0475 195.2491 208.2318 195.7499 209.8146\"/>\n",
       "<polygon fill=\"rgba(40,40,40,1)\" points=\"217.7155 245.3556 215.765 246.5141 212.0029 246.8509 207.2761 246.9233 202.8282 246.8207 199.8875 246.6308 199.8875 246.6308 196.943 246.518 192.508 246.1637 187.8135 245.6068 184.1058 244.8858 182.2845 243.5333 183.2832 243.5847 184.4633 242.9448 188.1493 243.4547 192.7741 244.2809 197.117 245.0958 199.942 245.5721 199.942 245.5721 202.801 245.3882 207.2045 245.0231 211.8897 244.6758 215.6086 244.5466 216.7168 245.3042\"/>\n",
       "<polygon fill=\"rgba(40,40,40,1)\" points=\"194.5959 255.5797 193.2401 255.0622 193.128 253.956 193.3421 252.5801 193.7798 251.1598 194.3641 249.9573 194.5038 250.0236 195.6179 248.2537 197.4287 245.2539 199.4335 241.809 201.1472 238.7526 202.1356 236.9096 202.009 236.8208 202.7658 235.7188 203.7845 234.6366 204.8751 233.7707 205.8922 233.3217 207.0119 234.2449 206.0287 234.0621 206.6382 234.8857 206.1575 235.4346 205.2503 236.2532 204.2591 237.1308 203.4813 237.8526 203.3547 237.7638 202.1783 239.3764 200.3181 242.3288 198.3178 245.7662 196.6697 248.8421 195.8487 250.6615 195.9885 250.7278 195.7451 251.7606 195.4718 253.056 195.2083 254.2491 194.9684 254.9382 193.9513 254.8152\"/>\n",
       "<polygon fill=\"rgba(40,40,40,1)\" points=\"196.0545 235.5913 196.21 234.6516 196.8696 233.9908 197.7442 233.6711 198.7383 233.743 199.6901 234.4648 199.6259 234.5095 200.1273 235.7491 200.8352 237.7412 201.6345 240.0815 202.3387 242.2499 202.7637 243.7412 202.7637 243.7412 203.1032 245.2543 203.5211 247.4955 203.9376 249.9333 204.2679 252.0214 204.4199 253.3499 204.4977 253.3584 204.0066 254.4474 203.1679 254.9857 202.2469 255.1229 201.3516 254.8578 200.7659 254.1067 201.5867 253.5355 201.8222 253.3495 202.0647 253.182 202.3251 253.0185 202.4391 252.9273 202.3992 253.1274 202.477 253.136 202.5284 252.1678 202.4321 250.1071 202.2369 247.669 201.9992 245.4326 201.7806 243.9914 201.7806 243.9914 201.2838 242.6209 200.4236 240.5429 199.4297 238.308 198.5294 236.4519 198.0214 235.6261 197.9572 235.6708 198.0879 235.8275 197.9442 235.8019 197.6373 235.7828 197.3443 235.7515 197.0485 235.7007\"/>\n",
       "<polygon fill=\"rgba(40,40,40,1)\" points=\"208.9825 288.5731 208.7804 291.8497 207.1725 296.501 204.8815 301.3333 202.5958 305.1469 200.6327 306.8895 200.6327 306.8895 198.5522 305.2891 196.0044 301.6453 193.3797 296.9859 191.4491 292.4589 191.0175 289.2046 192.0168 289.1695 193.2845 291.7329 195.333 296.0223 197.657 300.7048 199.7177 304.4557 200.5955 305.83 200.5955 305.83 201.3746 304.3975 203.1668 300.5111 205.1564 295.677 206.8986 291.2544 207.9832 288.6083\"/>\n",
       "<polygon fill=\"rgba(40,40,40,1)\" points=\"197.8955 291.5364 196.7011 290.8208 195.6833 289.3027 194.9118 287.4968 194.4781 285.8965 194.5998 284.5962 194.5998 284.5962 195.839 284.1844 197.496 284.2459 199.4293 284.5901 201.1379 285.2392 202.1045 286.2414 201.4822 287.0242 200.458 287.0921 198.8395 286.6868 197.0852 286.1025 195.6703 285.6072 195.4296 285.2559 195.4296 285.2559 195.8262 285.4112 196.6279 286.6778 197.5929 288.2551 198.3528 289.7405 198.5178 290.7535\"/>\n",
       "<polygon fill=\"rgba(40,40,40,1)\" points=\"195.5922 284.0838 197.2345 284.1299 199.7463 284.6045 202.5323 285.3124 204.977 286.0593 206.5386 286.6858 206.5041 286.756 207.5648 287.5825 208.7317 288.72 209.8481 289.9507 210.687 291.0348 211.0222 292.0825 211.0222 292.0825 210.1789 292.7887 208.8903 293.2564 207.2889 293.6996 205.6946 294.0372 204.3564 294.1685 204.348 294.2463 202.6934 293.9409 200.2281 293.2652 197.4952 292.3741 195.1187 291.4322 193.7062 290.5932 194.1468 289.6955 195.6196 289.9338 198.057 290.5073 200.8023 291.2035 203.2154 291.8207 204.5751 292.1474 204.5667 292.2252 205.5289 292.2994 207.0284 292.2067 208.5852 291.997 209.7905 291.7399 210.0479 291.8002 210.0479 291.8002 209.7982 291.7135 208.917 290.852 207.7134 289.8424 206.4958 288.9624 205.6429 288.5108 205.6084 288.581 204.2847 288.1302 201.9155 287.3617 199.2232 286.4824 196.8567 285.6641 195.4847 285.078\"/>\n",
       "<polygon fill=\"rgba(40,40,40,1)\" points=\"204.0858 281.0836 205.21 282.4726 206.4399 284.8534 207.5897 287.6278 208.4409 290.176 208.781 292.0347 208.7028 292.036 208.2712 293.6486 207.3986 295.5454 206.3126 297.491 205.2285 299.0893 204.1998 300.0089 204.1998 300.0089 202.8201 299.9989 200.9501 299.5163 198.849 298.7744 196.9404 297.928 195.5506 297.0034 195.491 297.0541 194.5174 295.4347 193.4716 292.9599 192.5002 290.1182 191.8492 287.5188 191.7745 285.7334 192.7744 285.716 193.3682 287.0841 194.338 289.4679 195.4574 292.1618 196.4897 294.4976 197.0991 295.6863 197.0395 295.7369 197.8254 296.4234 199.4769 297.3951 201.3932 298.2985 203.0706 298.9089 203.8414 299.0598 203.8414 299.0598 204.32 298.4371 205.1751 296.8702 206.0157 294.9255 206.6124 293.1047 206.7484 292.0701 206.6701 292.0714 206.3417 290.7767 205.5721 288.3417 204.6311 285.5804 203.7829 283.1506 203.3241 281.7315\"/>\n",
       "<polygon fill=\"rgba(40,40,40,1)\" points=\"202.4643 330.004 204.7986 331.5423 207.6523 334.5192 210.3962 337.9598 212.4006 340.9014 212.9873 342.9461 212.9873 342.9461 210.8604 342.9824 207.4615 341.9246 203.3695 340.3054 199.6888 338.4458 197.5357 336.6627 198.1306 335.8589 200.5795 336.6845 204.2662 338.3205 208.1862 340.1666 211.3233 341.6265 212.1352 342.3154 212.1352 342.3154 211.2391 341.7402 208.9265 339.1664 206.0159 335.9566 203.3743 332.9086 201.8694 330.8077\"/>\n",
       "<polygon fill=\"rgba(40,40,40,1)\" points=\"203.7688 330.7035 205.1487 331.0921 205.1125 332.4061 205.1881 333.6181 205.3873 334.9174 204.0664 335.4744 203.843 334.4997 203.3881 334.1209 203.9335 333.5591 203.8749 332.6206 203.264 332.1308 203.6683 331.6984\"/>\n",
       "<polygon fill=\"rgba(40,40,40,1)\" points=\"197.1992 320.914 197.7425 319.8971 198.7799 319.3354 199.9776 319.1874 201.1818 319.4769 202.1832 320.4701 202.1129 320.5044 202.5063 322.1925 202.985 324.9354 203.4869 328.1539 203.891 331.127 204.0753 333.1516 204.0753 333.1516 204.0719 335.1845 203.9342 338.1817 203.7209 341.4321 203.4882 344.2068 203.2467 345.9232 203.3198 345.9511 202.4108 347.0295 201.2371 347.4251 200.031 347.3843 198.9478 346.9172 198.316 345.9527 199.2145 345.5137 199.626 345.4902 200.2062 345.4427 200.8558 345.3192 201.3016 345.1487 201.3479 345.1969 201.421 345.2249 201.7612 343.9525 202.2146 341.2649 202.6433 338.0674 202.9555 335.1191 203.0618 333.1968 203.0618 333.1968 202.7848 331.2915 202.2114 328.3827 201.4996 325.2361 200.8088 322.5995 200.3565 321.3625 200.2862 321.3968 200.2445 321.449 199.7852 321.3189 199.1272 321.2537 198.5451 321.258 198.1332 321.2713\"/>\n",
       "<polygon fill=\"rgba(40,40,40,1)\" points=\"201.8425 324.9342 204.6381 325.847 208.2205 328.3651 211.771 331.5546 214.4508 334.5162 215.4572 336.7242 215.4572 336.7242 213.6189 338.3081 209.9456 339.876 205.386 341.2864 201.0784 342.0737 198.1575 341.7324 198.3718 340.7556 200.7759 340.1233 204.867 339.1711 209.3786 338.0609 213.0475 336.9942 214.4217 336.497 214.4217 336.497 213.3819 335.4702 210.4963 332.9657 206.8637 330.069 203.5469 327.4917 201.6282 325.911\"/>\n",
       "<polygon fill=\"rgba(40,40,40,1)\" points=\"200.8373 329.0282 201.7524 328.0828 202.6741 328.7789 203.4492 329.3338 204.4053 329.9819 203.8054 331.153 202.9322 330.6655 202.3804 330.7105 202.5657 330.2265 202.1139 329.9031 201.7155 330.2345 201.5802 329.6977\"/>\n",
       "<polygon fill=\"rgba(40,40,40,1)\" points=\"199.2018 373.1461 200.7308 373.4074 201.6598 375.1062 202.9858 376.7892 204.42 378.0899 204.3163 379.6377 203.3749 379.3004 202.5785 379.2034 201.9772 377.5378 200.696 375.9116 199.2174 374.9373 199.3094 374.1403\"/>\n",
       "<polygon fill=\"rgba(40,40,40,1)\" points=\"199.4313 393.3327 196.1819 392.2045 191.9802 388.8039 187.7483 384.3953 184.4933 380.1883 183.2021 377.1636 183.2021 377.1636 184.7107 374.2414 188.2642 370.2832 192.8067 366.1954 197.2456 363.1108 200.5687 362.2229 200.5322 363.2222 198.2923 364.7841 194.1641 367.8989 189.5572 371.6775 185.8011 375.1708 184.2615 377.2024 184.2615 377.2024 185.6487 379.341 189.1397 383.0992 193.4582 387.2042 197.348 390.612 199.4678 392.3334\"/>\n",
       "<polygon fill=\"rgba(40,40,40,1)\" points=\"238.0208 24.3234 237.4409 23.4902 237.2017 22.348 237.1932 21.0901 237.3911 19.9222 237.9821 18.8605 238.0369 18.9164 239.1208 18.4175 240.5532 18.0199 242.1866 17.648 243.6893 17.3818 244.7836 17.3134 244.7836 17.3134 245.8581 17.5316 247.3099 18.0019 248.8766 18.595 250.2408 19.1858 251.2458 19.829 251.3077 19.7812 251.7471 20.9141 251.7825 22.0981 251.601 23.3428 251.207 24.4413 250.5181 25.1869 249.8186 24.4723 249.685 24.0176 249.6659 23.107 249.6426 22.0624 249.583 21.2048 249.6374 21.0725 249.6993 21.0246 249.3549 20.6899 248.2127 19.9573 246.803 19.1946 245.4952 18.5895 244.7137 18.3255 244.7137 18.3255 243.9033 18.4795 242.5247 18.899 241.0235 19.4606 239.7914 20.0291 239.4042 20.3133 239.4589 20.3692 239.4947 20.5078 239.3176 21.349 239.1509 22.3805 239.0068 23.2798 238.8119 23.7118\"/>\n",
       "<polygon fill=\"rgba(40,40,40,1)\" points=\"234.6405 24.9029 235.0111 23.1523 236.7218 21.3393 239.0675 19.5275 241.3888 18.0825 243.1128 17.352 243.1128 17.352 244.9686 17.1037 247.7022 17.1665 250.6434 17.5327 253.0386 18.223 254.2484 19.5415 253.2838 19.8053 252.4525 20.1077 250.2106 19.6674 247.4324 19.0489 244.8784 18.5336 243.3924 18.3746 243.3924 18.3746 242.194 19.2676 240.2575 21.0107 238.1806 22.9567 236.4746 24.4766 235.6051 24.6392\"/>\n",
       "<polygon fill=\"rgba(40,40,40,1)\" points=\"240.2805 69.0959 240.9252 66.979 242.4131 63.8506 244.2588 60.4886 245.9752 57.6789 247.1324 56.1334 247.2512 56.2324 248.2624 55.7649 249.2178 55.8692 250.0429 56.273 250.7114 56.9635 250.9625 58.0489 251.1136 58.082 250.603 59.944 249.4372 63.0231 247.9145 66.5433 246.3568 69.6375 245.0806 71.4453 244.2092 70.9547 244.7782 68.923 245.9835 65.7161 247.4192 62.1927 248.6852 59.2053 249.3575 57.6969 249.5086 57.73 249.6132 57.4599 249.4144 57.084 248.9629 56.8631 248.5441 56.9367 248.395 57.185 248.5139 57.284 247.7351 58.7403 246.1526 61.5728 244.251 64.8681 242.4578 67.7873 241.2025 69.4831\"/>\n",
       "<polygon fill=\"rgba(40,40,40,1)\" points=\"256.8368 59.447 256.6963 62.9334 253.6777 68.0612 250.2176 74.0062 247.25 79.1636 244.288 81.0079 244.2835 80.0079 245.5479 77.8468 249.152 73.3414 252.5733 67.463 254.7106 62.1039 255.9651 59.937\"/>\n",
       "<polygon fill=\"rgba(40,40,40,1)\" points=\"252.7292 66.5873 251.4525 68.4483 248.1291 69.7223 244.429 71.4535 241.3212 73.1884 239.0745 72.9759 239.5399 72.0908 240.6127 71.1564 243.924 70.3035 247.5699 68.5977 250.3466 66.6021 251.7514 66.3774\"/>\n",
       "<polygon fill=\"rgba(40,40,40,1)\" points=\"238.2344 52.9636 241.6115 54.4889 246.244 59.3643 251.7584 64.915 256.6034 69.5794 258.1066 72.9664 257.1073 72.9279 254.956 70.9639 250.8504 65.7828 245.3703 60.2666 240.2161 56.1272 238.2663 53.9631\"/>\n",
       "<polygon fill=\"rgba(40,40,40,1)\" points=\"237.6975 113.0283 237.4244 111.6204 237.761 109.7161 238.4598 107.6864 239.3253 105.9568 240.3609 104.8094 240.4478 104.9374 241.8491 104.7012 243.6949 104.7164 245.7525 104.8069 247.5925 104.9538 248.9677 105.3121 249.0655 105.1923 249.9963 106.4261 250.7066 108.2251 251.2245 110.3083 251.3927 112.2348 250.997 113.6133 250.0578 113.2699 249.6725 112.4429 249.1775 110.7805 248.621 108.8669 248.1078 107.2368 247.9284 106.5849 248.0263 106.4651 247.361 106.1366 245.6689 105.8296 243.6884 105.7424 241.9759 105.8997 241.2844 106.1686 241.3713 106.2965 241.1354 106.9301 240.4811 108.5089 239.7587 110.3662 239.1196 111.9787 238.6632 112.7687\"/>\n",
       "<polygon fill=\"rgba(40,40,40,1)\" points=\"240.8997 108.0132 242.1857 108.1146 244.1452 108.5983 246.3105 109.2771 248.2037 109.9623 249.3866 110.4832 249.3533 110.554 250.1632 111.1273 251.1031 111.8784 252.0168 112.664 252.7156 113.3314 253.0849 114.2245 253.0849 114.2245 252.2308 114.6767 251.2669 114.7451 250.0621 114.7673 248.8592 114.7463 247.8698 114.6712 247.8502 114.747 246.607 114.3937 244.7119 113.7138 242.6112 112.8556 240.7936 111.9782 239.7384 111.2361 240.1634 110.3309 241.361 110.5037 243.2821 111.0252 245.4263 111.6965 247.3028 112.324 248.3782 112.7028 248.3586 112.7786 249.1007 113.0175 250.2015 113.2583 251.3333 113.4509 252.1997 113.5588 252.1305 113.8806 252.1305 113.8806 251.9786 114.1726 251.2425 113.7031 250.2479 113.1295 249.2465 112.6129 248.5226 112.3235 248.4894 112.3943 247.4194 112.0001 245.574 111.2865 243.4944 110.4359 241.6823 109.6122 240.6496 108.9814\"/>\n",
       "<polygon fill=\"rgba(40,40,40,1)\" points=\"234.7243 123.461 232.8698 120.9781 231.0831 116.5824 229.6028 111.4686 228.7301 106.8466 228.8357 103.6898 228.9821 103.7396 230.9238 101.6216 234.3216 99.1751 238.332 96.7035 242.0446 94.7679 244.8093 93.9854 244.8307 93.8322 247.6981 95.1568 251.4347 98.0138 255.3375 101.6347 258.4611 105.2065 259.8455 107.9791 258.8828 108.2498 257.1367 106.3238 253.8703 103.1382 250.0168 99.6725 246.5241 96.8436 244.5825 95.6129 244.6039 95.4597 242.4995 95.884 238.8334 97.5987 234.8959 100.0254 231.7163 102.5295 230.3914 104.2187 230.5379 104.2685 230.7646 106.556 231.7218 110.9475 233.0856 115.9475 234.4632 120.2973 235.3988 122.7227\"/>\n",
       "<polygon fill=\"rgba(40,40,40,1)\" points=\"257.9372 149.915 255.8195 152.8317 250.2665 156.7095 243.9633 161.4713 238.7154 165.7531 235.331 166.993 235.2923 165.9937 237.5129 163.9684 243.2188 160.4597 249.4969 155.7169 254.4314 151.1872 256.9865 149.6047\"/>\n",
       "<polygon fill=\"rgba(40,40,40,1)\" points=\"245.9296 146.6736 248.6084 147.4716 252.0154 149.8553 255.3898 152.9206 257.9419 155.8025 258.9168 157.9755 258.9168 157.9755 257.288 159.7131 253.9372 161.608 249.7492 163.4087 245.752 164.5544 242.9593 164.4375 243.1242 163.4512 245.2654 162.6416 249.0164 161.3576 253.18 159.8637 256.5736 158.4711 257.8712 157.8006 257.8712 157.8006 256.8623 156.7445 254.1063 154.3237 250.6552 151.5565 247.5261 149.122 245.7647 147.6599\"/>\n",
       "<polygon fill=\"rgba(40,40,40,1)\" points=\"231.9974 158.1043 232.2729 155.2739 233.6968 151.1689 235.7251 146.7592 237.8397 143.0585 239.7188 140.9372 239.8022 141.0675 242.186 140.7762 245.481 141.1689 249.1199 141.9104 252.3058 142.8383 254.3855 144.0391 254.5133 143.9519 255.4125 146.6393 255.9105 150.8723 256.0516 155.7241 255.7557 160.0589 254.9018 162.7715 253.9968 162.346 254.0278 159.9302 253.951 155.7429 253.7331 151.0168 253.3816 146.954 253.0285 144.9656 253.1562 144.8784 251.8426 143.9509 248.866 142.9045 245.3256 142.1831 242.1769 141.9813 240.6051 142.3209 240.6885 142.4512 239.5855 144.1428 237.6723 147.7441 235.6226 152.0082 233.9135 155.8316 232.9967 158.0668\"/>\n",
       "<polygon fill=\"rgba(40,40,40,1)\" points=\"243.0708 194.8604 244.8391 194.3983 247.3593 194.7467 250.0036 195.5548 252.1395 196.5148 253.3256 197.6263 253.3256 197.6263 252.8522 199.1814 251.4801 201.079 249.5916 203.0985 247.5812 204.6578 245.8181 205.1396 245.5599 204.1735 246.3898 203.0842 248.1268 201.4866 250.114 199.7562 251.7201 198.3032 252.3015 197.9 252.3015 197.9 251.5965 197.8406 249.4797 197.3828 246.8941 196.8745 244.5917 196.3565 243.329 195.8265\"/>\n",
       "<polygon fill=\"rgba(40,40,40,1)\" points=\"256.5289 189.5353 256.7325 191.8892 255.3057 195.4152 253.0852 199.4398 250.739 202.985 248.8757 205.1171 248.8757 205.1171 246.4992 206.6565 242.655 208.472 238.3544 210.0945 234.6607 211.0027 232.36 210.4647 233.116 209.81 234.248 209.0726 237.7026 208.0162 241.9921 206.6897 245.906 205.3523 248.1817 204.3157 248.1817 204.3157 249.5329 202.2116 251.416 198.529 253.342 194.4731 254.8812 191.205 255.7729 190.19\"/>\n",
       "<polygon fill=\"rgba(40,40,40,1)\" points=\"245.2853 193.2919 247.1393 195.312 249.5592 198.8644 252.0093 202.9502 253.9429 206.5634 254.8557 208.8262 254.7064 208.8667 254.3882 210.3022 253.4509 211.3824 252.2514 212.2362 250.924 212.7683 249.4633 212.5991 249.3762 212.7269 247.5369 211.1237 244.7558 208.1138 241.6971 204.4612 239.1326 201.0118 237.8307 198.5987 238.6927 198.0917 240.4969 199.9435 243.3106 203.1159 246.4012 206.6805 249.0395 209.7216 250.3886 211.2412 250.3015 211.369 250.781 211.5716 251.775 211.3275 252.7482 210.6348 253.3042 209.7754 253.2697 209.256 253.1204 209.2965 252.1262 207.5242 250.1163 204.0358 247.7599 199.9486 245.6833 196.2514 244.5242 193.9405\"/>\n",
       "<polygon fill=\"rgba(40,40,40,1)\" points=\"239.889 209.7952 238.5757 209.3553 237.875 208.1204 237.4662 206.5384 237.3636 204.9144 237.6609 203.4878 237.8071 203.5385 238.7887 201.9375 240.4153 199.425 242.2533 196.5702 243.8672 194.0495 244.9183 192.4933 244.8117 192.3812 245.9873 191.52 247.508 190.9413 249.1174 190.6585 250.5316 190.7853 251.4756 191.7987 250.5014 192.0245 250.3566 192.5092 249.3971 192.7406 248.0658 193.051 246.7966 193.4091 246.0509 193.6838 245.9442 193.5717 244.8474 194.7508 243.1092 197.1362 241.2848 199.9698 239.8328 202.5395 239.2135 204.026 239.3596 204.0767 239.4183 204.8693 239.6176 206.1729 239.8861 207.5133 240.0726 208.4825 239.6913 208.8149\"/>\n",
       "<polygon fill=\"rgba(40,40,40,1)\" points=\"259.7409 204.0443 257.4094 206.9317 251.6104 209.158 244.8873 211.62 239.0219 213.6651 235.3772 212.9662 236.0796 212.2545 238.6202 211.551 244.5008 210.425 251.1338 207.996 256.3509 205.0581 258.7449 203.9546\"/>\n",
       "<polygon fill=\"rgba(40,40,40,1)\" points=\"242.2715 246.4686 242.1009 245.1502 242.2952 243.1588 242.7074 240.9911 243.1919 239.1532 243.6391 238.056 243.7813 238.1169 244.4475 237.5876 245.1269 237.4952 245.7566 237.5862 246.382 237.8671 246.8712 238.5632 247.0248 238.5451 247.1432 239.724 247.0878 241.6239 246.8697 243.8196 246.4924 245.7846 245.9557 247.0008 244.9769 246.7959 244.7702 245.5936 244.7771 243.6344 244.9114 241.4656 245.0904 239.6259 245.2393 238.7556 245.3929 238.7375 245.5252 238.7146 245.4236 238.5567 245.1715 238.5203 245.0294 238.643 245.1498 238.7024 245.2921 238.7632 245.1886 239.6401 244.8397 241.4552 244.3546 243.5733 243.8068 245.4544 243.2683 246.549\"/>\n",
       "<polygon fill=\"rgba(40,40,40,1)\" points=\"239.8272 234.8252 242.4531 234.3398 246.0349 236.2131 250.1388 238.2915 253.7684 240.0704 254.931 242.4744 253.9333 242.4063 252.4656 241.7832 249.5241 239.3868 245.5157 237.3567 241.8433 236.4036 240.4725 235.5891\"/>\n",
       "<polygon fill=\"rgba(40,40,40,1)\" points=\"238.3287 238.0803 240.5905 238.5002 243.8443 240.9607 247.8469 243.4854 251.4691 245.3619 252.8223 247.2222 251.9259 247.6654 250.2359 247.1255 247.1651 244.5402 243.186 242.0304 239.5301 240.3728 238.3149 239.0802\"/>\n",
       "<polygon fill=\"rgba(40,40,40,1)\" points=\"244.6968 235.1596 247.6213 235.604 251.5862 237.5598 255.6331 240.214 258.7842 242.795 260.15 244.8713 260.15 244.8713 258.6735 246.8703 255.3868 249.2763 251.2017 251.7068 247.1365 253.4444 244.1921 253.7293 244.2193 252.7297 246.416 251.6069 250.2239 249.7606 254.4242 247.6364 257.8157 245.7226 259.0903 244.8425 259.0903 244.8425 257.8654 243.8943 254.5829 241.7993 250.5041 239.4501 246.8021 237.3996 244.6696 236.1592\"/>\n",
       "<polygon fill=\"rgba(40,40,40,1)\" points=\"230.1157 235.0305 233.0166 232.7137 238.5848 230.7719 245.1144 229.3571 250.9003 228.7249 254.4392 229.2317 254.4392 229.2317 256.3093 232.2786 258.026 237.84 259.3196 244.3947 259.748 250.2762 258.7732 253.8584 257.9374 253.3093 257.7747 250.3204 257.1619 244.6916 256.1669 238.2397 254.9532 232.7412 253.8571 230.1177 253.8571 230.1177 251.0141 230.1532 245.4856 231.2221 239.1689 232.8702 233.7594 234.5423 230.9515 235.5796\"/>\n",
       "<polygon fill=\"rgba(40,40,40,1)\" points=\"229.8441 283.6247 229.6027 282.1036 230.1554 280.3698 231.1754 278.6974 232.4727 277.3641 234.152 276.7102 234.153 276.7884 236.2702 277.3566 239.4624 278.5636 243.1203 280.0899 246.426 281.6024 248.584 282.7887 248.584 282.7887 250.4836 284.3559 253.1102 286.8691 255.8798 289.7045 258.1806 292.225 259.4907 293.9826 259.5638 293.9546 259.5765 295.7567 258.8166 297.4547 257.6393 299.0204 256.2323 300.1744 254.7296 300.512 254.7164 299.5121 255.2695 298.9218 256.1238 297.7941 256.9511 296.4059 257.4761 295.1596 257.5917 294.7085 257.6648 294.6806 256.8164 293.3141 254.7489 290.7133 252.1736 287.7646 249.7124 285.1658 248.0144 283.6281 248.0144 283.6281 245.9582 282.6183 242.6341 281.2911 238.9427 279.9872 235.762 279.0266 234.1788 278.743 234.1799 278.8212 233.8033 279.0953 232.8392 280.0436 231.8547 281.3251 231.1224 282.5356 230.7782 283.2677\"/>\n",
       "<polygon fill=\"rgba(40,40,40,1)\" points=\"250.9276 290.5344 250.2961 292.2843 248.4767 294.1329 246.1545 295.8113 243.9746 296.99 242.3037 297.3233 242.3037 297.3233 240.9939 296.2335 239.6401 294.1578 238.3993 291.5751 237.6818 289.0825 237.9613 287.2434 238.9306 287.4894 239.5903 288.5795 240.4348 290.8001 241.3636 293.3545 242.2125 295.48 242.5645 296.2958 242.5645 296.2958 243.2628 295.7466 245.0227 294.2832 247.0572 292.4809 248.8585 290.9319 249.9583 290.2884\"/>\n",
       "<polygon fill=\"rgba(40,40,40,1)\" points=\"244.8247 341.4046 243.4974 341.5084 242.0165 340.8671 240.5437 339.8275 239.3485 338.6386 238.6665 337.347 238.8157 337.3061 238.9278 335.7956 239.2877 333.6475 239.7243 331.2331 240.1395 329.0951 240.5634 327.6409 240.438 327.5504 241.5292 326.5795 243.065 325.8843 244.8086 325.4264 246.4203 325.3443 247.6272 325.9064 247.0323 326.7102 246.5484 327.0723 245.2861 327.4722 243.7686 327.9499 242.4521 328.4157 241.8958 328.6026 241.7704 328.5121 241.2993 329.4225 240.7293 331.4401 240.3015 333.8056 240.1289 335.8951 240.2513 336.9128 240.4005 336.8719 240.8561 337.2418 241.9261 338.1391 243.1802 339.1181 244.2225 339.9347 244.5489 340.4433\"/>\n",
       "<polygon fill=\"rgba(40,40,40,1)\" points=\"236.5927 330.922 238.5781 329.9638 242.276 330.2529 246.5607 330.2169 250.2533 329.8657 252.2545 330.7903 251.6194 331.5628 250.1317 332.0142 246.5523 331.4729 242.3056 331.5086 238.7358 332.11 237.2407 331.6837\"/>\n",
       "<polygon fill=\"rgba(40,40,40,1)\" points=\"252.4736 333.8472 253.8676 334.9104 253.3689 336.5144 252.7349 337.9196 251.8623 339.3549 250.1427 339.0132 250.4573 338.064 250.8195 337.4724 251.6951 337.2151 252.1527 336.2009 251.7662 335.3743 251.9701 334.7112\"/>\n",
       "<polygon fill=\"rgba(40,40,40,1)\" points=\"249.6627 340.8496 247.247 341.1218 243.9352 339.2824 240.0423 337.3671 236.5641 335.866 235.3056 333.7861 236.3019 333.7004 237.7529 334.0722 240.6302 336.2572 244.4558 338.1393 247.9426 339.0853 249.1226 340.008\"/>\n",
       "<polygon fill=\"rgba(40,40,40,1)\" points=\"245.2102 374.9958 245.8522 374.9928 246.4369 375.2267 246.9714 375.6058 247.4013 376.0606 247.7292 376.7571 247.6531 376.7755 247.5478 377.4774 247.3037 378.0636 247.0113 378.6717 246.716 379.2114 246.3987 379.6457 246.3987 379.6457 245.9792 379.9823 245.4533 380.3017 244.8591 380.6212 244.2845 380.8915 243.588 381.0284 243.5731 381.1052 242.8625 380.8091 242.3887 380.4003 241.9859 379.8834 241.7259 379.3098 241.6999 378.6684 242.6721 378.4344 242.9735 378.3404 243.3852 378.5261 243.8079 378.7984 244.123 379.0262 243.974 379.0324 243.9592 379.1092 243.9317 379.1819 244.4143 379.1725 244.9945 379.0897 245.4891 378.9771 245.6653 378.9447 245.6653 378.9447 245.6897 378.7673 245.7799 378.268 245.8364 377.6847 245.824 377.2021 245.7526 377.2329 245.6766 377.2512 245.6771 377.4003 245.4352 377.0958 245.1442 376.6858 244.9401 376.2829 245.0204 375.9776\"/>\n",
       "<polygon fill=\"rgba(40,40,40,1)\" points=\"232.5204 373.0632 232.1873 371.8337 232.5334 370.4846 233.2845 369.2227 234.3217 368.2271 235.7947 367.7907 235.7897 367.8687 237.5068 368.4525 240.0802 369.5768 243.0385 370.9662 245.7205 372.3188 247.4841 373.3497 247.4841 373.3497 249.08 374.6249 251.3062 376.6415 253.666 378.9026 255.6402 380.9 256.8021 382.2925 256.8731 382.2598 256.9953 383.7912 256.439 385.117 255.5315 386.2714 254.3969 387.0793 253.1298 387.2104 253.1939 386.2125 253.5051 385.7751 254.0404 385.0156 254.5642 384.085 254.8703 383.289 254.9557 383.1434 255.0268 383.1106 254.3167 382.0383 252.5653 379.9444 250.3921 377.5601 248.3238 375.4489 246.9099 374.1861 246.9099 374.1861 245.2234 373.3206 242.5098 372.1493 239.5037 370.9784 236.9203 370.0966 235.6644 369.8194 235.6593 369.8975 235.5541 370.0295 234.9214 370.6013 234.2412 371.4246 233.7249 372.1971 233.4286 372.6447\"/>\n",
       "<polygon fill=\"rgba(40,40,40,1)\" points=\"278.5397 16.3858 278.249 15.27 278.6051 14.1276 279.3405 13.1333 280.3596 12.4129 281.7667 12.2769 281.7475 12.3528 283.2083 13.1392 285.4059 14.5237 287.9347 16.1939 290.2264 17.784 291.727 18.9439 291.727 18.9439 293.0898 20.2628 294.9917 22.3032 297.0068 24.5668 298.6919 26.5435 299.6794 27.8766 299.7517 27.8467 299.8186 29.2588 299.2515 30.3705 298.3729 31.2408 297.2932 31.7568 296.1472 31.6289 296.3923 30.6594 296.6388 30.3188 297.0572 29.8022 297.4817 29.1672 297.7221 28.6483 297.8 28.6518 297.8724 28.622 297.2889 27.5822 295.8266 25.5175 294.0037 23.1417 292.2625 21.0153 291.063 19.7109 291.063 19.7109 289.6002 18.7105 287.2464 17.2918 284.634 15.8279 282.3811 14.6764 281.2685 14.2479 281.2494 14.3237 281.264 14.4003 280.7849 14.7126 280.2172 15.2236 279.7659 15.7118 279.4641 16.0045\"/>\n",
       "<polygon fill=\"rgba(40,40,40,1)\" points=\"278.4916 29.7373 277.7002 26.7262 279.3073 21.9951 281.1506 16.5674 282.7569 11.8361 285.2183 9.9297 285.3236 10.9241 284.6516 12.8565 282.3232 17.0174 280.5115 22.3522 279.8244 27.0706 279.1806 29.0125\"/>\n",
       "<polygon fill=\"rgba(40,40,40,1)\" points=\"281.8546 19.1276 281.8984 18.0685 282.4387 16.9992 283.2503 16.0027 284.1878 15.2209 285.4012 14.8153 285.4022 14.8935 286.6207 15.2956 288.1299 16.0448 289.8108 16.9681 291.3089 17.8768 292.2976 18.6185 292.2976 18.6185 293.0931 19.5645 294.0837 21.0097 295.0989 22.6367 295.9308 24.1019 296.4001 25.2962 296.4782 25.2929 296.1407 26.527 295.4121 27.5064 294.4623 28.3721 293.4247 28.9711 292.3697 29.0736 292.3573 28.0737 292.5595 27.6491 293.1297 26.9492 293.7712 26.1326 294.2501 25.4345 294.369 25.3841 294.4472 25.3807 294.3273 24.7918 293.7528 23.333 292.9612 21.6573 292.1616 20.1832 291.6004 19.3555 291.6004 19.3555 290.7428 18.8413 289.2266 18.1248 287.5095 17.4275 286.021 16.935 285.4264 16.8481 285.4274 16.9263 285.3836 17.0478 284.7132 17.5648 283.9335 18.2506 283.2664 18.8589 282.8537 19.0844\"/>\n",
       "<polygon fill=\"rgba(40,40,40,1)\" points=\"281.2247 29.2644 281.3965 26.7219 282.1765 22.757 283.278 18.3387 284.4156 14.4581 285.3424 12.0253 285.4127 12.0598 286.6517 10.4225 288.4503 8.5537 290.4245 6.7577 292.1655 5.4175 293.5885 4.922 293.5885 4.922 294.5651 6.0694 295.3888 8.1062 296.1829 10.6543 296.7888 13.1762 297.0291 15.2153 297.1072 15.2211 296.6757 17.7885 295.6935 21.7114 294.4081 26.0797 293.0748 29.8943 291.9366 32.1743 291.039 31.7335 291.5701 29.4125 292.5328 25.5472 293.622 21.1739 294.5451 17.3108 295.0017 15.0651 295.0798 15.0708 295.0617 13.4295 294.7067 10.9971 294.1494 8.4847 293.5428 6.5228 293.3225 5.9009 293.3225 5.9009 292.8179 6.3259 291.302 7.7112 289.5501 9.5963 288.0133 11.5148 287.1672 12.9214 287.2374 12.9559 286.4951 15.124 285.3367 18.9232 284.0635 23.2466 282.9382 27.0676 282.222 29.3383\"/>\n",
       "<polygon fill=\"rgba(40,40,40,1)\" points=\"285.8435 22.8676 285.6046 22.2315 285.61 21.4971 285.7736 20.7326 286.0414 20.0525 286.5182 19.423 286.571 19.4808 287.2707 19.2125 287.9624 19.1222 288.6975 19.0723 289.365 19.0686 289.948 19.1598 289.948 19.1598 290.4629 19.4483 290.9854 19.8636 291.5327 20.357 292.0208 20.8553 292.4052 21.4986 292.4824 21.4857 292.4684 22.2754 292.2588 22.9756 291.9152 23.6778 291.4657 24.2585 290.8849 24.6112 290.2106 23.8727 290.0484 23.5604 290.0941 22.982 290.2149 22.3411 290.3321 21.824 290.3998 21.8321 290.477 21.8193 290.5347 21.7711 290.3287 21.2775 290.0134 20.7206 289.7039 20.2697 289.6164 20.1186 289.6164 20.1186 289.4543 20.1834 288.9324 20.3467 288.3404 20.5898 287.8734 20.8507 287.8891 20.9242 287.9418 20.982 288.0001 21.0175 287.7728 21.4964 287.4718 22.0751 287.1504 22.5581 286.8299 22.7035\"/>\n",
       "<polygon fill=\"rgba(40,40,40,1)\" points=\"288.1156 64.3178 288.9291 63.8338 289.8748 63.9337 290.8029 64.3558 291.5434 64.8977 292.08 65.6161 292.08 65.6161 292.0751 66.5128 291.8014 67.3886 291.3055 68.2794 290.6041 68.9216 289.6622 69.0155 289.3495 68.0656 289.202 67.5324 289.6101 66.9121 290.2407 66.3021 290.8121 65.8363 291.073 65.9476 291.073 65.9476 290.9293 66.1922 290.1929 66.1569 289.3233 66.0408 288.6264 65.7842 288.4283 65.2677\"/>\n",
       "<polygon fill=\"rgba(40,40,40,1)\" points=\"279.0502 62.5905 280.5171 60.5224 283.7185 58.4861 287.5987 56.7353 291.1269 55.6128 293.506 55.5223 293.506 55.5223 295.124 57.2688 296.8247 60.5576 298.3298 64.5396 299.1531 68.2433 298.7276 70.7429 297.8037 70.3601 297.2111 68.5959 296.2438 65.1662 295.0493 61.2388 293.8559 57.9357 293.1003 56.5017 293.1003 56.5017 291.5519 56.9811 288.3722 58.4724 284.7501 60.4044 281.6407 62.1451 279.974 62.9732\"/>\n",
       "<polygon fill=\"rgba(40,40,40,1)\" points=\"281.5593 107.3459 282.2231 106.1604 283.556 104.888 285.2042 103.6844 286.8164 102.7662 288.2716 102.3373 288.2753 102.4154 289.6948 102.8292 291.3637 103.6629 293.1438 104.7043 294.6712 105.7453 295.624 106.6597 295.624 106.6597 296.0917 107.8946 296.4508 109.7078 296.7112 111.7536 296.824 113.6158 296.6483 115.0839 296.7188 115.118 295.7538 116.2886 294.2771 117.4119 292.5238 118.4565 290.8308 119.184 289.48 119.33 289.4327 118.3311 290.1471 117.7597 291.5065 116.7935 293.0354 115.6688 294.3132 114.6477 294.8178 114.1996 294.8882 114.2336 295.0813 113.5154 295.1969 111.8141 295.1623 109.8459 294.9964 108.1205 294.7777 107.219 294.7777 107.219 294.034 106.6644 292.5117 105.8356 290.7146 105.0323 289.1041 104.4718 288.3676 104.3679 288.3713 104.4461 287.7613 104.7346 286.3211 105.51 284.6871 106.4757 283.2654 107.3477 282.4597 107.7809\"/>\n",
       "<polygon fill=\"rgba(40,40,40,1)\" points=\"287.2166 127.6632 285.4127 127.5109 283.613 126.0189 281.9177 123.8638 280.6378 121.5346 280.1267 119.3955 280.2813 119.3892 280.7942 116.5637 281.8709 112.0491 283.1661 106.9419 284.371 102.4599 285.2666 99.7314 285.1338 99.6522 286.6025 98.0152 288.8377 96.5775 291.3552 95.4908 293.6483 95.0368 295.3068 95.7626 294.5117 96.3691 293.8997 96.7512 292.094 97.4573 289.8473 98.512 287.8157 99.6741 286.6781 100.5728 286.5452 100.4936 285.5193 102.8256 284.1568 107.2091 282.8691 112.2864 281.978 116.7894 281.7686 119.3285 281.9231 119.3222 282.4949 120.6544 283.7272 122.6442 285.1998 124.6422 286.4507 126.1235 286.8067 126.7511\"/>\n",
       "<polygon fill=\"rgba(40,40,40,1)\" points=\"282.9812 150.8763 283.6848 149.8855 284.9644 148.9593 286.5085 148.1586 288.0042 147.6108 289.381 147.4814 289.3688 147.5586 290.5643 148.2052 291.8856 149.2611 293.2779 150.5213 294.4573 151.7343 295.1641 152.7263 295.1641 152.7263 295.4395 153.9129 295.5676 155.5999 295.5901 157.4777 295.5065 159.167 295.1994 160.491 295.2654 160.533 294.2568 161.479 292.8559 162.2372 291.2335 162.8641 289.6921 163.2097 288.4837 163.081 288.6402 162.0933 289.2657 161.6884 290.5014 161.0574 291.9017 160.3215 293.0714 159.6453 293.4841 159.3999 293.5501 159.4419 293.7865 158.8686 294.0793 157.3592 294.2718 155.5805 294.3243 153.9972 294.2393 153.1433 294.2393 153.1433 293.6557 152.5142 292.4344 151.5051 290.974 150.4717 289.6491 149.6917 289.0629 149.4893 289.0507 149.5666 288.5936 149.7133 287.3122 150.1421 285.8336 150.7042 284.5425 151.2124 283.8249 151.4131\"/>\n",
       "<polygon fill=\"rgba(40,40,40,1)\" points=\"292.6053 145.3401 294.2752 146.159 296.0522 148.0763 297.7046 150.5043 298.9044 152.8778 299.305 154.8658 299.1507 154.8553 298.2855 156.6858 296.6675 159.129 294.7376 161.8061 292.931 164.1134 291.4678 165.5127 291.5265 165.6558 289.5138 165.904 286.8827 165.5158 284.057 164.7155 281.6763 163.6356 280.3716 162.3101 281.2061 161.759 282.3963 162.0595 284.6852 162.7108 287.3609 163.3867 289.7202 163.8592 290.844 163.9925 290.9027 164.1356 292.0489 163.2922 293.9245 161.1802 295.8167 158.5554 297.2277 156.1084 297.6656 154.7545 297.5113 154.744 297.0297 153.7199 295.8357 151.6309 294.3488 149.3059 293.0075 147.3402 292.3462 146.306\"/>\n",
       "<polygon fill=\"rgba(40,40,40,1)\" points=\"283.7935 157.4848 283.3128 156.5452 283.3673 155.4318 283.7218 154.2684 284.2674 153.2519 285.0771 152.485 285.1613 152.6148 286.2181 152.3986 287.6465 152.2259 289.2449 152.0195 290.6702 151.8237 291.7473 151.7645 291.7958 151.6176 292.7737 152.1536 293.5596 152.9982 294.198 154.0335 294.5334 155.0965 294.3072 156.1274 293.3609 155.804 292.9249 155.7407 292.3918 155.1063 291.8026 154.2925 291.3015 153.5876 291.2327 153.325 291.2811 153.1781 290.7088 153.0283 289.3516 153.04 287.8025 153.24 286.4868 153.5734 285.9712 153.8637 286.0554 153.9935 286.0555 154.2649 285.7499 155.0739 285.3867 156.0108 285.0323 156.7597 284.6266 156.9317\"/>\n",
       "<polygon fill=\"rgba(40,40,40,1)\" points=\"294.5698 149.5377 294.139 151.6303 291.7555 154.6976 289.3491 158.5122 287.6072 161.9843 285.9042 163.2743 285.3376 162.4502 285.8264 160.776 288.292 157.8338 290.688 154.0357 292.2816 150.5434 293.5821 149.3813\"/>\n",
       "<polygon fill=\"rgba(40,40,40,1)\" points=\"284.5566 191.9213 286.392 190.5926 289.264 191.2694 292.4287 192.0104 295.3027 192.679 296.3574 194.6844 295.3581 194.7234 294.2619 194.5625 292.0631 193.212 289.0582 192.5084 286.4884 192.7424 285.4347 192.3999\"/>\n",
       "<polygon fill=\"rgba(40,40,40,1)\" points=\"292.7788 201.9786 292.1466 203.3847 290.5862 204.7303 288.6609 205.861 286.9052 206.5904 285.4967 206.6691 285.4967 206.6691 284.7308 205.4844 284.2863 203.6359 284.0663 201.414 284.2349 199.3604 284.999 198.0214 285.8903 198.4748 286.2016 199.5262 286.2443 201.4021 286.1833 203.5042 286.1407 205.2296 285.9773 205.7242 285.9773 205.7242 286.2808 205.3009 287.6502 204.2503 289.3132 202.9631 290.8544 201.8928 291.8875 201.5252\"/>\n",
       "<polygon fill=\"rgba(40,40,40,1)\" points=\"290.9949 195.5472 291.8094 195.5366 292.543 195.8764 293.1939 196.4107 293.6985 197.0625 293.9589 198.049 293.8807 198.0463 293.5325 198.9029 292.9784 199.8161 292.3184 200.8206 291.6789 201.7164 291.1493 202.3301 291.1493 202.3301 290.5198 202.8408 289.605 203.4528 288.5809 204.082 287.6513 204.6081 286.7846 204.9302 286.7848 205.0084 285.8067 204.7182 285.1706 204.1941 284.6562 203.5272 284.3389 202.7836 284.3742 201.9698 285.3736 202.0037 285.698 201.978 286.1356 202.2576 286.613 202.6131 286.9766 202.8745 286.7774 202.8972 286.7777 202.9755 287.0271 202.9779 287.9404 202.7085 289.0042 202.3046 289.9402 201.8843 290.4429 201.602 290.4429 201.602 290.7404 201.1081 291.1889 200.1852 291.625 199.1342 291.922 198.2295 291.9271 197.9802 291.8489 197.9775 291.8202 198.1759 291.5698 197.8045 291.229 197.3165 290.9628 196.8706 290.9984 196.5472\"/>\n",
       "<polygon fill=\"rgba(40,40,40,1)\" points=\"290.9631 186.0192 293.065 186.6021 295.8127 188.1914 298.6708 190.289 301.0469 192.4185 302.4345 194.3174 302.3617 194.346 302.5057 196.6649 302.1541 199.8671 301.5155 203.4035 300.7219 206.5127 299.841 208.5 299.841 208.5 298.1344 209.8466 295.3194 211.3869 292.0522 212.8832 289.0374 214.0185 286.7553 214.4545 286.7456 214.5321 284.5618 213.6592 281.9093 211.8859 279.168 209.6378 276.9465 207.3704 275.8602 205.479 276.7906 205.1124 278.0756 206.2652 280.4162 208.1403 283.1617 210.1505 285.6542 211.7685 287.0078 212.4373 286.9981 212.5149 288.5754 212.3351 291.5106 211.4678 294.7764 210.2103 297.5699 208.8812 299.0395 207.878 299.0395 207.878 299.6466 206.2054 300.2409 203.1695 300.6486 199.6938 300.7603 196.6351 300.5431 195.0626 300.4703 195.0913 299.4865 193.9459 297.3005 191.9329 294.6719 189.7722 292.2745 187.9701 290.8389 187.0114\"/>\n",
       "<polygon fill=\"rgba(40,40,40,1)\" points=\"281.7527 250.356 282.1441 248.0536 283.2184 244.5063 284.6238 240.5733 286.0069 237.1329 287.0537 234.995 287.121 235.0348 288.3383 233.632 290.0403 232.0468 291.8748 230.5359 293.4642 229.421 294.7901 229.0482 294.7901 229.0482 295.5271 230.2117 295.9642 232.1032 296.3188 234.4533 296.5253 236.77 296.4931 238.627 296.5698 238.6425 295.9195 240.9322 294.6487 244.4158 293.0653 248.2805 291.4935 251.6371 290.2457 253.6113 289.3847 253.1026 290.0414 251.0145 291.252 247.5648 292.6429 243.6698 293.8517 240.2309 294.5 238.2262 294.5767 238.2417 294.7797 236.7659 294.8074 234.5642 294.6804 232.2797 294.444 230.4902 294.427 229.9955 294.427 229.9955 294.0837 230.3521 292.7118 231.5252 291.0904 233.1395 289.6394 234.7957 288.804 236.029 288.8714 236.0688 288.0138 237.9933 286.6144 241.3591 285.0456 245.1859 283.6403 248.5611 282.7331 250.5531\"/>\n",
       "<polygon fill=\"rgba(40,40,40,1)\" points=\"297.5119 244.3252 295.83 245.8839 292.0399 246.8023 287.7564 248.2135 284.1627 249.7278 281.8836 249.4741 282.2523 248.5446 283.6231 247.6446 287.3814 247.0148 291.629 245.6154 295.0257 243.8879 296.6629 243.7968\"/>\n",
       "<polygon fill=\"rgba(40,40,40,1)\" points=\"282.6411 246.682 281.6473 243.6573 281.2803 238.9377 281.3864 233.8495 281.8302 229.7081 282.8159 227.4869 282.8159 227.4869 284.9876 228.5773 287.9597 231.4954 291.2718 235.3595 293.9844 239.239 295.1367 242.2069 294.1952 242.5441 292.3503 240.346 289.5493 236.6926 286.5122 232.7287 283.9801 229.596 283.1733 228.4849 283.1733 228.4849 283.2553 229.8556 283.2876 233.8835 283.4574 238.8743 283.6126 243.4753 283.5825 246.3448\"/>\n",
       "<polygon fill=\"rgba(40,40,40,1)\" points=\"284.5841 242.8632 284.511 241.3687 285.8569 240.7845 287.1121 240.0364 288.2662 239.1305 289.546 239.9058 288.825 240.5987 288.7239 241.2333 287.6695 241.1619 286.5817 241.8103 286.1429 242.7717 285.5366 242.5587\"/>\n",
       "<polygon fill=\"rgba(40,40,40,1)\" points=\"274.8956 246.0528 275.6131 243.5152 277.4164 239.9019 279.7509 236.0134 282.0687 232.6933 283.9612 230.6813 284.0069 230.7448 286.3335 229.9095 289.5958 229.3383 293.1733 228.9996 296.3033 228.9714 298.3482 229.4137 298.3482 229.4137 299.6317 231.066 300.9602 233.9002 302.2025 237.2721 303.0989 240.4604 303.3522 242.9195 303.4293 242.9331 302.434 245.5099 300.4433 249.0358 297.9474 252.8228 295.4698 256.0117 293.4924 257.7564 292.9091 256.9442 294.2171 255.0489 296.3228 251.7453 298.6053 247.9395 300.4854 244.5246 301.3505 242.5645 301.4275 242.5782 301.3812 240.7717 300.7479 237.6974 299.748 234.3583 298.6394 231.5818 297.8079 230.2723 297.8079 230.2723 296.2676 230.0891 293.2847 230.2907 289.8416 230.8337 286.7959 231.5927 285.1472 232.3324 285.1928 232.396 283.7999 234.0239 281.5344 237.1963 279.0906 240.9005 277.0231 244.2281 275.8802 246.2274\"/>\n",
       "<polygon fill=\"rgba(40,40,40,1)\" points=\"289.178 282.772 290.9034 283.5927 293.1642 285.3716 295.4775 287.5627 297.3346 289.618 298.3149 291.171 298.1713 291.2285 297.9828 292.5984 297.2639 293.8984 296.3322 295.2002 295.3337 296.3001 294.0978 296.9203 294.0897 297.0748 292.3035 296.6479 289.759 295.5531 286.9388 294.0702 284.5257 292.5042 283.1923 291.1358 283.8892 290.4186 285.4199 291.02 287.9267 292.2162 290.7135 293.5908 293.0944 294.7511 294.1834 295.2794 294.1754 295.4339 294.6101 295.3363 295.5474 294.5393 296.3851 293.3688 296.8372 292.2244 296.7893 291.7814 296.6457 291.8389 295.7943 290.9785 293.928 289.0992 291.728 286.9048 289.787 284.9179 288.724 283.663\"/>\n",
       "<polygon fill=\"rgba(40,40,40,1)\" points=\"275.4774 284.183 277.2749 281.8532 281.2302 279.5339 286.0512 277.5151 290.4625 276.2092 293.3837 276.0788 293.3837 276.0788 295.5829 278.0059 298.2112 281.7819 300.7138 286.3703 302.3528 290.6526 302.3004 293.5947 301.3568 293.2636 300.4783 291.2706 298.7388 287.2887 296.5519 282.7107 294.421 278.8442 293.0327 277.0792 293.0327 277.0792 290.846 277.5897 286.7663 279.2771 282.1983 281.485 278.3522 283.5069 276.421 284.5141\"/>\n",
       "<polygon fill=\"rgba(40,40,40,1)\" points=\"273.5323 280.474 275.8315 279.4645 279.9748 279.6367 284.9382 280.4134 289.4624 281.484 292.3477 282.5768 292.3477 282.5768 294.8215 284.4206 298.1585 287.6577 301.4842 291.4232 303.859 294.8226 304.2454 297.3038 303.3685 296.8232 302.2059 295.9009 299.7766 292.7752 296.7299 288.9127 293.8131 285.4384 291.8383 283.5064 291.8383 283.5064 289.1472 282.8816 284.6492 282.2929 279.7542 281.8035 275.8123 281.4381 274.4093 280.9545\"/>\n",
       "<polygon fill=\"rgba(40,40,40,1)\" points=\"288.4162 274.1411 289.9159 273.9361 290.9041 275.0176 291.7444 276.608 292.3484 278.3831 292.5729 280.033 292.4187 280.045 292.2682 282.5422 292.0064 286.6957 291.7384 291.4205 291.5289 295.577 291.3961 298.0752 291.5479 298.1046 291.1383 299.7185 290.3375 301.4139 289.3228 302.8991 288.2186 303.8619 286.7517 303.4887 287.6463 303.0419 287.123 302.5195 287.6316 301.6528 288.4512 300.3168 289.2584 298.888 289.7827 297.7633 289.9346 297.7927 290.328 295.476 290.7145 291.3554 290.9816 286.6446 291.0636 282.5068 290.9347 280.1604 290.7805 280.1724 290.3866 278.9956 289.7462 277.4848 289.0829 276.0647 288.6755 275.1461 289.2546 274.6862\"/>\n",
       "<polygon fill=\"rgba(40,40,40,1)\" points=\"274.439 289.7226 274.5983 287.4723 275.9709 284.5009 277.9917 281.3966 280.165 278.8341 282.2134 277.4232 282.2626 277.5699 284.8703 277.6288 288.7665 278.246 293.1347 279.1288 296.9648 280.073 299.3908 281.0315 299.493 280.9154 300.8327 283.0111 301.8404 286.2164 302.497 289.8618 302.608 293.1331 301.881 295.2686 301.0489 294.7138 300.8754 293.1536 300.4184 290.1658 299.717 286.7196 298.9081 283.732 298.3043 282.2642 298.4066 282.1482 296.5911 281.2188 292.9023 280.1282 288.5926 279.2572 284.7697 278.8297 282.7359 278.9811 282.7851 279.1278 281.6586 280.2458 279.753 282.6849 277.7684 285.5882 276.187 288.1641 275.4212 289.5345\"/>\n",
       "<polygon fill=\"rgba(40,40,40,1)\" points=\"284.208 348.2857 282.7192 347.9599 282.3028 346.6001 282.2005 344.8026 282.3603 342.9025 282.7724 341.26 282.9212 341.302 283.9303 338.8562 285.6042 334.7452 287.4685 330.0523 289.0719 325.9134 290.0162 323.4418 289.8791 323.3703 290.7064 321.8927 291.8941 320.4009 293.2019 319.1636 294.438 318.4603 295.7445 319.2449 294.7451 319.2789 295.2644 319.9832 294.6029 320.729 293.4931 321.8858 292.3331 323.1487 291.473 324.2021 291.3358 324.1305 290.1824 326.3815 288.42 330.4361 286.5597 335.1191 285.0594 339.2777 284.3537 341.7066 284.5026 341.7487 284.4054 343.1051 284.3826 344.8198 284.396 346.4228 284.3655 347.4192 283.5044 347.5752\"/>\n",
       "<polygon fill=\"rgba(40,40,40,1)\" points=\"284.0537 318.8125 286.3961 318.3823 289.8343 318.9784 293.5941 320.1924 296.8369 321.7038 298.8454 323.386 298.7168 323.472 299.38 326.139 299.8235 330.2892 300.1168 334.9968 300.1918 339.17 299.8648 341.8986 300.003 341.9681 298.2188 343.8865 295.1887 345.7887 291.6086 347.4599 288.271 348.4781 285.8933 348.342 286.2103 347.3936 287.8067 346.8088 290.7839 345.5278 294.1613 343.8635 297.0328 342.2081 298.3964 341.161 298.5346 341.2305 298.9884 339.1039 299.0913 335.0304 298.8018 330.3831 298.1941 326.3539 297.4799 324.3001 297.3514 324.3862 295.8684 323.5164 292.8136 322.2302 289.2558 320.998 286.1426 320.0964 284.486 319.7142\"/>\n",
       "<polygon fill=\"rgba(40,40,40,1)\" points=\"298.1114 369.3368 299.4003 369.9993 300.5171 371.3777 301.4079 373.0883 301.9345 374.8141 301.81 376.499 301.7383 376.4678 300.4998 377.8861 298.4413 379.7192 295.9866 381.727 293.6681 383.4653 291.9786 384.5014 291.9786 384.5014 290.092 385.1086 287.2629 385.7358 284.1406 386.2908 281.409 386.6589 279.5261 386.675 279.5031 386.7498 278.1434 385.7468 277.1769 384.2233 276.4589 382.4332 276.1403 380.6881 276.4771 379.2784 277.3939 379.6778 277.6953 380.4083 278.28 381.7373 279.0586 383.2038 279.8364 384.3679 280.1238 384.7319 280.1008 384.8067 281.3169 384.9157 283.9599 384.7862 287.0533 384.457 289.8467 384.0175 291.555 383.5796 291.555 383.5796 292.9999 382.5685 295.1527 380.735 297.4173 378.602 299.2369 376.6809 299.9463 375.6871 299.8745 375.6558 299.7854 375.2007 299.4087 373.8523 298.803 372.3063 298.1753 370.9971 297.8173 370.2926\"/>\n",
       "<polygon fill=\"rgba(40,40,40,1)\" points=\"300.9582 375.6784 301.1893 377.43 300.4451 379.6903 299.1605 382.0661 297.6553 384.0677 296.0551 385.2634 295.9957 385.1205 293.7983 385.2976 290.4468 385.2335 286.6606 385.0613 283.3172 384.821 281.1449 384.4451 281.0728 384.582 279.5877 383.246 278.2704 381.1159 277.2068 378.6334 276.6709 376.3149 277.06 374.5915 277.9323 375.0803 278.3649 375.9507 279.166 377.8753 280.2167 380.1292 281.2751 382.0727 281.9109 382.9914 281.8388 383.1282 283.4854 383.6276 286.7315 384.0377 290.4691 384.2077 293.7391 384.0939 295.4242 383.7461 295.3648 383.6033 296.0814 382.7461 297.3118 380.9067 298.5628 378.7575 299.5353 376.9136 300.0451 376.0861\"/>\n",
       "<polygon fill=\"rgba(40,40,40,1)\" points=\"277.0856 373.3702 278.6919 371.3542 282.1767 369.5137 286.4162 367.994 290.2952 367.0754 292.8793 367.0916 292.8793 367.0916 294.8416 368.7731 297.169 372.0093 299.3749 375.9358 300.8004 379.61 300.6922 382.1854 299.7553 381.8355 298.9307 380.2422 297.4077 376.8708 295.5173 372.9515 293.685 369.6187 292.5085 368.0847 292.5085 368.0847 290.6144 368.4721 287.0462 369.7882 283.0496 371.5092 279.6896 373.0572 278.0224 373.72\"/>\n",
       "<polygon fill=\"rgba(40,40,40,1)\" points=\"293.1224 381.1076 293.0756 382.658 291.6408 383.1018 290.2853 383.606 288.9093 384.2077 287.8606 383.0648 288.7258 382.5633 289.0611 382.0611 289.9734 382.3894 291.0818 381.9771 291.5578 381.1324 292.1398 381.2933\"/>\n",
       "<polygon fill=\"rgba(40,40,40,1)\" points=\"331.9933 11.4835 334.3525 11.8094 337.3755 13.6779 340.4503 16.2763 342.8711 18.8614 343.9783 20.8938 343.9783 20.8938 343.4045 23.1361 341.6932 26.2368 339.3514 29.5112 336.8802 32.0653 334.6734 32.9609 334.5496 31.9686 335.5178 30.6373 337.6754 28.1201 340.1429 25.1356 342.1486 22.4466 342.9263 21.0251 342.9263 21.0251 341.8231 19.8384 339.2182 17.7247 336.0928 15.4382 333.3828 13.5284 332.1171 12.4758\"/>\n",
       "<polygon fill=\"rgba(40,40,40,1)\" points=\"323.6881 25.9664 323.0497 24.7657 323.3832 23.442 324.1533 22.0799 325.1667 20.8939 326.3325 20.1068 326.4025 20.2448 328.1474 19.797 330.9359 19.1479 334.0957 18.3989 336.8789 17.7273 338.6391 17.3442 338.6398 17.1895 340.0348 17.3695 341.4727 17.9745 342.7723 18.846 343.6645 19.8791 343.6329 21.2387 342.7756 20.7238 342.3455 21.0028 341.5346 20.5434 340.4168 19.8842 339.3129 19.2937 338.6318 18.9873 338.6325 18.8327 337.0994 18.9121 334.3201 19.4001 331.1848 20.1433 328.4822 20.9548 327.0765 21.5719 327.1466 21.7098 326.6755 22.2893 325.9541 23.3124 325.2511 24.4033 324.7327 25.1778 324.2231 25.1216\"/>\n",
       "<polygon fill=\"rgba(40,40,40,1)\" points=\"322.9597 27.4564 323.4856 24.5513 326.6366 20.7036 330.1356 16.1455 333.0382 12.1071 335.7086 10.8482 335.6683 11.8474 334.5915 13.5966 331.112 16.9355 327.6521 21.4427 325.3259 25.6669 323.9145 27.1592\"/>\n",
       "<polygon fill=\"rgba(40,40,40,1)\" points=\"327.2522 25.2378 328.2028 23.6713 330.0178 21.3871 332.1832 18.9131 334.1785 16.7873 335.5188 15.5158 335.5705 15.5745 336.7487 14.8199 338.2669 13.9799 339.8261 13.1969 341.1035 12.6421 342.2438 12.619 342.2438 12.619 342.306 13.7578 341.8482 15.0731 341.1839 16.6865 340.4597 18.2632 339.7953 19.4945 339.8577 19.5417 338.6899 20.9732 336.7191 23.1218 334.4139 25.466 332.2717 27.4467 330.7807 28.5117 330.1197 27.7613 331.1389 26.3454 332.9928 24.1316 335.1416 21.6755 337.055 19.5257 338.1735 18.2686 338.2359 18.3158 338.9487 17.3892 339.8357 15.9943 340.6706 14.5322 341.2541 13.378 341.5538 13.3627 341.5538 13.3627 341.5609 13.6626 340.4535 14.3307 339.0579 15.2726 337.7332 16.2614 336.8625 17.0414 336.9142 17.1001 335.7441 18.3094 333.7434 20.3781 331.4547 22.7045 329.3857 24.7186 328.0499 25.8408\"/>\n",
       "<polygon fill=\"rgba(40,40,40,1)\" points=\"337.5454 24.184 336.8734 25.1963 335.6575 25.6244 334.2055 25.7429 332.8716 25.6394 331.8802 25.3422 331.8802 25.3422 331.0148 24.7746 330.0772 23.8201 329.2335 22.6325 328.7788 21.4263 329.1213 20.2605 330.0278 20.6827 330.6187 20.7118 331.1584 21.6133 331.6907 22.8139 332.1466 23.896 332.3278 24.3812 332.3278 24.3812 332.8157 24.2077 333.9375 23.8603 335.199 23.4952 336.2363 23.3282 336.6389 23.7618\"/>\n",
       "<polygon fill=\"rgba(40,40,40,1)\" points=\"333.7452 57.2645 334.8953 58.3947 335.2737 60.363 335.4101 62.8396 335.3784 65.1765 335.2499 66.7506 335.2499 66.7506 335.2403 68.33 335.0675 70.6607 334.715 73.1159 334.166 75.0435 332.9214 76.0688 332.9652 75.0698 332.2553 74.5486 332.5849 72.6614 333.1991 70.3066 333.8252 68.1055 334.1908 66.7042 334.1908 66.7042 333.9491 65.2764 333.518 63.0289 333.112 60.6294 332.9487 58.7206 333.7015 58.2636\"/>\n",
       "<polygon fill=\"rgba(40,40,40,1)\" points=\"342.325 60.3497 343.1072 62.8193 343.3845 66.7458 343.2676 71.1333 342.8311 74.957 342.0314 77.401 341.902 77.3163 340.0637 78.3905 337.3269 79.158 334.2134 79.7513 331.3861 80.0441 329.2816 79.7212 329.1924 79.8476 327.55 77.8689 325.7379 74.4736 324.0156 70.4366 322.8295 66.6833 322.6487 64.0991 323.648 64.135 324.4812 66.1593 325.9621 69.6464 327.7125 73.5447 329.3307 76.8429 330.2288 78.3785 330.1397 78.5049 331.4073 78.8391 334.0742 78.7348 337.0825 78.1615 339.6008 77.2778 340.6567 76.5008 340.5273 76.4161 340.7978 74.6578 341.0898 70.9956 341.2838 66.7268 341.3786 62.9394 341.4089 60.7506\"/>\n",
       "<polygon fill=\"rgba(40,40,40,1)\" points=\"338.8817 63.8462 340.1943 63.4852 340.7264 64.6045 340.9295 65.5671 340.8947 66.806 339.5482 67.0058 339.2815 66.0421 339.2325 65.4393 339.677 65.4734 339.6185 65.196 339.2256 65.4068 339.027 64.8356\"/>\n",
       "<polygon fill=\"rgba(40,40,40,1)\" points=\"326.9695 109.2781 327.7139 107.522 330.0663 106.7647 332.6016 105.7232 334.8071 104.6082 336.571 105.3339 335.8539 106.0309 335.2312 106.718 333.0261 106.9053 330.5953 107.9038 328.8953 109.3207 327.9695 109.2698\"/>\n",
       "<polygon fill=\"rgba(40,40,40,1)\" points=\"344.3061 103.8372 345.0515 106.9159 343.3144 111.6885 341.2988 117.1531 339.5208 121.9106 336.9548 123.768 336.8875 122.7702 337.659 120.8313 340.1389 116.6713 342.1194 111.3017 342.9348 106.5278 343.607 104.5522\"/>\n",
       "<polygon fill=\"rgba(40,40,40,1)\" points=\"331.2344 116.9167 330.1543 116.0745 329.7311 114.5773 329.6234 112.7698 329.7423 111.0993 330.038 109.9197 330.038 109.9197 330.565 108.8238 331.5418 107.4634 332.7806 106.1427 334.0634 105.2623 335.4323 105.3055 335.0923 106.246 335.1819 106.8885 334.1995 107.7952 332.8674 108.8268 331.6484 109.7614 331.035 110.2801 331.035 110.2801 331.1748 111.0713 331.5143 112.5693 331.8787 114.2142 332.0542 115.5396 331.5744 115.9763\"/>\n",
       "<polygon fill=\"rgba(40,40,40,1)\" points=\"326.4523 119.9821 325.5575 117.8083 324.7637 114.2664 324.1499 110.2328 323.8167 106.6111 323.8886 104.1646 323.9656 104.1788 324.8519 102.2843 326.3682 100.0597 328.1605 97.8296 329.8595 96.0636 331.2903 95.1945 331.2903 95.1945 332.8942 95.674 334.9841 96.9538 337.2815 98.6588 339.3105 100.4284 340.6466 102.0376 340.7175 102.0045 341.4049 104.3535 341.9972 107.9419 342.422 111.9998 342.5486 115.6273 342.2317 117.9566 341.2484 117.7749 340.9709 115.7122 340.4841 112.2115 339.88 108.2544 339.2656 104.7906 338.8057 102.9001 338.8765 102.8669 338.0367 101.622 336.2877 99.803 334.2135 97.9956 332.3474 96.6496 331.4194 96.2007 331.4194 96.2007 330.6349 96.8695 329.1692 98.6431 327.6188 100.9157 326.3859 103.1175 325.8877 104.5341 325.9647 104.5484 325.9971 106.4938 326.2774 110.0004 326.6923 113.9818 327.1054 117.492 327.3579 119.5578\"/>\n",
       "<polygon fill=\"rgba(40,40,40,1)\" points=\"348.1354 158.2794 347.8444 160.0057 346.3201 161.6564 344.1894 163.1643 341.9311 164.2584 339.8868 164.6203 339.8911 164.4657 337.366 163.777 333.4049 162.4362 328.9347 160.8471 325.016 159.3868 322.6229 158.327 322.5286 158.4497 321.1715 156.8786 320.1105 154.6046 319.4097 152.0901 319.2694 149.8476 320.1334 148.325 320.6982 149.1502 321.0017 149.8085 321.4569 151.6189 322.1641 153.8666 322.9797 155.9017 323.6242 157.0242 323.53 157.1469 325.493 158.28 329.2942 159.8861 333.7327 161.4639 337.6947 162.6175 339.9325 162.9778 339.9368 162.8231 341.1453 162.3593 343.0624 161.2957 345.0297 159.9987 346.5255 158.8819 347.1765 158.5629\"/>\n",
       "<polygon fill=\"rgba(40,40,40,1)\" points=\"330.8146 153.3889 331.9205 151.7662 334.1128 150.0171 336.6631 148.4495 338.8578 147.3753 340.5127 147.2095 340.5127 147.2095 340.5961 148.8706 339.8619 151.2012 338.6931 153.9572 337.2913 156.3862 335.852 157.7222 335.0939 157.07 335.5742 155.4129 336.7469 152.9793 338.1317 150.4123 339.2541 148.3687 339.8214 148.0132 339.8214 148.0132 339.5546 148.6272 337.7017 150.0424 335.3705 151.7953 333.1395 153.3185 331.5727 154.0411\"/>\n",
       "<polygon fill=\"rgba(40,40,40,1)\" points=\"319.2957 205.7811 319.473 203.2055 321.4653 199.6334 324.3433 195.7863 327.282 192.5775 329.5747 190.8734 329.5747 190.8734 332.4026 190.4687 336.7487 190.6774 341.5013 191.382 345.4313 192.5151 347.371 194.2189 346.4463 194.5997 344.8016 194.3856 341.0461 193.512 336.4788 192.5597 332.3378 191.9 329.9784 191.8537 329.9784 191.8537 328.3359 193.5481 325.8605 196.9327 323.2884 200.8251 321.2373 204.0901 320.2204 205.4003\"/>\n",
       "<polygon fill=\"rgba(40,40,40,1)\" points=\"329.5175 197.1678 331.7775 197.0739 335.3142 197.4246 339.2033 198.0259 342.5136 198.6844 344.3902 199.2291 344.342 199.376 345.1369 200.0923 345.4029 200.9671 345.304 201.82 344.845 202.6107 343.9072 203.1261 343.9206 203.2802 341.969 203.3811 338.5959 203.2648 334.6724 202.9603 331.1493 202.4925 328.9707 201.884 329.1337 200.8974 331.3052 200.7668 334.8257 200.8652 338.7289 201.0867 342.0551 201.3277 343.765 201.4891 343.7784 201.6432 344.0895 201.6717 344.3427 201.4613 344.3851 201.0963 344.1867 200.8336 343.8773 200.7901 343.829 200.9371 342.1275 200.703 338.8344 200.1767 334.9841 199.4993 331.5345 198.7895 329.4505 198.1656\"/>\n",
       "<polygon fill=\"rgba(40,40,40,1)\" points=\"325.835 215.2073 324.9516 213.0245 325.2719 209.1756 326.1642 204.5341 327.2891 200.2769 328.3345 197.5352 328.3345 197.5352 329.8729 195.0366 332.5653 191.5523 335.704 188.0184 338.5623 185.4209 340.8317 184.7927 340.3894 185.6896 339.8581 186.9096 337.2566 189.5459 333.9758 192.8275 330.9881 195.9362 329.2853 198.004 329.2853 198.004 328.6816 200.6138 328.0347 204.8766 327.429 209.4773 326.9215 213.1461 326.2772 214.3104\"/>\n",
       "<polygon fill=\"rgba(40,40,40,1)\" points=\"334.1991 186.9705 334.7174 186.0643 335.6814 185.6507 336.7277 185.7649 337.6525 186.4119 338.1043 187.5957 338.0263 187.6021 337.8621 189.2994 337.5058 192.135 337.055 195.4621 336.6029 198.5257 336.2398 200.5819 336.2398 200.5819 335.7833 202.6194 335.0211 205.6209 334.1562 208.8652 333.3933 211.6193 332.8914 213.249 332.9609 213.285 332.0882 214.2036 330.9856 214.4447 329.976 214.1473 329.2455 213.3944 329.1161 212.3585 330.1127 212.276 330.4567 212.3799 330.7338 212.3511 330.977 212.3046 331.0831 212.2652 331.0861 212.3142 331.1556 212.3502 331.739 211.0623 332.7088 208.4161 333.7778 205.2554 334.7043 202.3254 335.2451 200.3828 335.2451 200.3828 335.4939 198.3817 335.7668 195.3208 335.9971 191.9921 336.1208 189.1766 336.0782 187.7634 336.0003 187.7698 335.9786 187.8139 335.8958 187.7367 335.6893 187.6001 335.4446 187.4669 335.0871 187.4303\"/>\n",
       "<polygon fill=\"rgba(40,40,40,1)\" points=\"319.2368 241.658 320.3871 239.4492 322.7779 236.5571 325.7346 233.5639 328.5834 231.1019 330.836 229.7373 330.8611 229.8114 333.311 229.7349 336.6111 230.2102 340.1847 231.0065 343.2654 231.9587 345.167 232.9953 345.167 232.9953 346.1403 234.9301 346.9902 238.0406 347.6681 241.6386 348.0341 244.9526 347.8767 247.3986 347.95 247.4261 346.5118 249.6324 343.957 252.3984 340.8677 255.2546 337.8982 257.5486 335.6527 258.6253 335.3324 257.6779 336.9297 256.3003 339.5518 253.8163 342.4265 250.9024 344.8318 248.2377 345.9734 246.6842 346.0467 246.7117 346.2887 244.9804 346.1634 241.8194 345.7185 238.2896 345.0731 235.2645 344.438 233.7007 344.438 233.7007 342.896 233.0142 339.8939 232.2693 336.3807 231.7081 333.2256 231.4785 331.4872 231.6631 331.5122 231.7373 329.922 232.827 327.1792 235.1429 324.172 237.9198 321.6027 240.4585 320.1731 242.0094\"/>\n",
       "<polygon fill=\"rgba(40,40,40,1)\" points=\"326.1537 242.4492 327.0725 239.8134 329.4923 236.4731 332.5246 233.1849 335.3115 230.7193 337.3989 229.8152 337.3989 229.8152 338.7205 231.6667 339.8356 235.2167 340.7365 239.598 341.0859 243.7078 340.513 246.4397 339.5495 246.172 339.1161 243.8325 338.5809 239.9094 337.9726 235.5977 337.3534 232.0954 337.1151 230.8366 337.1151 230.8366 336.2614 231.7919 333.9239 234.4725 331.1782 237.8522 328.6955 240.9365 327.1172 242.7169\"/>\n",
       "<polygon fill=\"rgba(40,40,40,1)\" points=\"334.5138 229.4214 335.4901 232.9257 335.5304 240.1137 335.9938 248.507 336.7449 255.6558 336.1603 259.2463 335.1903 259.0031 334.5939 255.7226 334.7393 248.5692 334.2767 240.19 333.3448 233.0961 333.5765 229.7699\"/>\n",
       "<polygon fill=\"rgba(40,40,40,1)\" points=\"332.8572 241.6914 333.3865 240.6732 334.1851 241.133 334.8309 241.3705 335.737 241.538 335.4803 242.6565 334.5056 242.4327 334.0515 242.8761 334.2363 242.4769 333.9209 242.3608 333.8029 242.7846 333.7444 242.1526\"/>\n",
       "<polygon fill=\"rgba(40,40,40,1)\" points=\"338.857 236.6914 340.1276 238.8362 339.7347 242.654 339.4566 247.0308 339.363 250.8676 337.8312 252.8343 337.4181 251.9236 337.2576 250.4224 338.2066 246.9088 338.4793 242.6168 337.9827 239.0113 338.332 237.5425\"/>\n",
       "<polygon fill=\"rgba(40,40,40,1)\" points=\"320.7608 287.7987 321.6877 285.6948 323.7029 282.8729 326.2251 279.9133 328.6739 277.4425 330.6352 276.0076 330.6678 276.0787 332.8634 275.7686 335.8086 275.8679 338.9985 276.224 341.7582 276.7669 343.5112 277.5224 343.5112 277.5224 344.4549 279.1816 345.2981 281.8648 346.003 284.9962 346.4257 287.9126 346.359 290.129 346.4333 290.1536 345.2228 292.2608 343.0364 294.9666 340.3722 297.7991 337.7892 300.1125 335.8 301.2652 335.3833 300.3561 336.7234 298.9461 338.9537 296.4619 341.406 293.5803 343.4586 290.9742 344.429 289.4904 344.5033 289.5149 344.6818 287.991 344.5044 285.2223 344.035 282.1544 343.4006 279.5548 342.8345 278.2781 342.8345 278.2781 341.5033 277.8559 338.8496 277.5113 335.7487 277.3822 332.9773 277.5105 331.4823 277.8556 331.5149 277.9267 330.1468 279.0544 327.7824 281.3813 325.188 284.1358 322.9642 286.6258 321.7102 288.1129\"/>\n",
       "<polygon fill=\"rgba(40,40,40,1)\" points=\"329.8746 287.712 330.456 285.3997 332.1184 282.3458 334.2161 279.2861 336.1159 276.9532 337.7328 275.9591 337.7328 275.9591 338.4078 277.733 338.4905 280.7405 338.2868 284.4446 337.7416 287.8787 336.7921 290.0658 335.8454 289.7436 335.7913 287.5761 336.1216 284.2082 336.5942 280.5989 336.9751 277.7174 337.3913 276.9627 337.3913 276.9627 337.2608 277.8146 335.8053 280.3305 333.9785 283.479 332.1861 286.3495 330.8213 288.0341\"/>\n",
       "<polygon fill=\"rgba(40,40,40,1)\" points=\"328.7416 283.8779 330.4357 284.3718 332.6917 286.6842 335.6263 289.0084 338.394 290.6747 339.2629 292.2106 338.4585 292.8047 337.0227 292.3332 334.8417 289.9892 331.9168 287.6726 329.1355 286.0866 328.3476 284.797\"/>\n",
       "<polygon fill=\"rgba(40,40,40,1)\" points=\"336.3894 278.8802 338.7126 280.1391 341.2809 283.1499 343.6542 286.8702 345.3221 290.2938 345.7405 292.6774 345.7405 292.6774 344.062 294.4206 340.7661 296.3286 336.7194 298.0885 332.9073 299.1511 330.2772 298.8976 330.5693 297.9412 332.4498 297.2312 335.9878 296.037 339.9979 294.5891 343.3329 293.1872 344.7266 292.3678 344.7266 292.3678 344.0284 290.9096 342.0453 287.8838 339.5281 284.4428 337.2606 281.476 336.0974 279.8366\"/>\n",
       "<polygon fill=\"rgba(40,40,40,1)\" points=\"332.6866 286.1799 333.188 285.1396 334.0048 285.5699 334.6697 285.7775 335.5862 285.8885 335.4067 287.0293 334.4211 286.8598 333.9965 287.3389 334.1377 286.9153 333.795 286.8083 333.67 287.237 333.5934 286.6013\"/>\n",
       "<polygon fill=\"rgba(40,40,40,1)\" points=\"336.2311 319.4402 336.546 322.8271 335.4006 329.5494 334.5202 337.4785 334.1631 344.2884 333.113 347.5237 332.1552 347.2365 332.0279 344.0206 333.2723 337.3358 334.1518 329.415 334.404 322.62 335.2336 319.5103\"/>\n",
       "<polygon fill=\"rgba(40,40,40,1)\" points=\"340.2351 337.3957 340.7318 339.1553 339.3045 340.3137 337.847 341.3338 336.2699 342.2781 334.7868 341.2089 335.5249 340.5342 336.111 340.132 337.2745 340.2159 338.4502 339.393 338.7698 338.2712 339.3484 337.8582\"/>\n",
       "<polygon fill=\"rgba(40,40,40,1)\" points=\"346.4245 331.0251 343.821 333.0214 337.9136 335.0207 331.1465 337.6973 325.4698 340.2798 322.2051 340.6045 322.3092 339.6099 324.76 338.2482 330.6955 336.525 337.4407 333.8571 342.9491 331.054 345.6682 330.3708\"/>\n",
       "<polygon fill=\"rgba(40,40,40,1)\" points=\"327.0326 333.6395 325.6577 333.1197 325.8516 331.7931 326.1578 330.714 326.6897 329.4833 328.1327 329.7632 327.9423 330.7449 327.8229 331.3128 327.2688 331.2999 327.1047 331.8781 327.583 332.1582 327.3863 332.7041\"/>\n",
       "<polygon fill=\"rgba(40,40,40,1)\" points=\"331.1645 334.9514 329.1226 332.6971 326.7274 328.8554 324.4755 324.6004 322.8631 321.1 322.5618 318.8957 322.5618 318.8957 324.5889 319.8124 327.4851 322.3551 330.9224 325.7255 333.9228 329.1158 335.5022 331.7152 334.7007 332.3132 332.4561 330.4365 329.3399 327.2221 326.1281 323.6872 323.6027 320.8518 323.1957 319.7454 323.1957 319.7454 324.1403 320.4507 326.139 323.6791 328.6127 327.7647 330.8064 331.6674 331.966 334.3535\"/>\n",
       "<polygon fill=\"rgba(40,40,40,1)\" points=\"331.6944 377.3885 331.9234 374.7756 332.9732 371.0259 334.3716 367.1325 335.6487 364.085 336.9474 362.5603 336.9474 362.5603 337.4219 364.5061 337.1924 367.8024 336.6909 371.9089 335.9426 375.7301 334.9722 378.167 333.9993 377.9359 333.9993 375.3848 334.5408 371.5606 335.3118 367.5204 336.0006 364.3254 336.7025 363.5917 336.7025 363.5917 336.9995 364.5626 336.1781 367.7261 335.0502 371.6815 333.8144 375.3409 332.6674 377.6196\"/>\n",
       "<polygon fill=\"rgba(40,40,40,1)\" points=\"340.4086 389.7124 337.8272 390.082 333.8388 389.9023 329.3887 389.3533 325.4586 388.592 322.8795 387.691 322.9189 387.6234 321.2277 385.8623 319.4011 383.1574 317.6581 380.0775 316.3751 377.2759 315.9527 375.2573 315.9527 375.2573 316.9311 373.4418 318.9571 371.1202 321.5031 368.6622 324.0228 366.5876 326.1447 365.3794 326.1261 365.3034 328.8549 365.1721 332.8393 365.5586 337.2621 366.2963 341.1372 367.2569 343.5073 368.3445 343.0036 369.2084 340.7663 368.7927 336.9366 368.2184 332.5825 367.6833 328.7434 367.3528 326.6275 367.3542 326.609 367.2782 324.9992 368.0346 322.478 369.8226 319.8645 372.0453 317.803 374.1422 316.9567 375.4029 316.9567 375.4029 317.41 376.8521 318.791 379.4482 320.6654 382.3218 322.5749 384.7523 323.9035 385.9347 323.9429 385.8671 325.9712 386.4695 329.746 387.2432 334.0727 387.9669 337.9079 388.5041 340.1711 388.7411\"/>\n",
       "<polygon fill=\"rgba(40,40,40,1)\" points=\"332.6221 384.7255 331.4537 383.9142 330.9688 382.417 330.7354 380.5378 330.7004 378.7616 330.8206 377.5206 330.8206 377.5206 330.9544 376.2809 331.3485 374.5486 331.9578 372.7557 332.7359 371.3878 334.0445 370.8301 333.9427 371.8249 334.468 372.3341 333.9444 373.6487 333.1144 375.2542 332.3127 376.7366 331.8752 377.6285 331.8752 377.6285 332.123 378.5906 332.6076 380.2047 333.0951 381.9451 333.3416 383.3385 332.724 383.7307\"/>\n",
       "<polygon fill=\"rgba(40,40,40,1)\" points=\"329.9391 373.3235 332.0465 371.71 335.655 370.2459 339.6811 369.1061 343.0577 368.4806 345.1418 368.7796 345.1418 368.7796 344.8772 370.8683 343.3783 373.958 341.2113 377.5375 338.8423 380.6282 336.7275 382.232 336.1214 381.4366 337.2886 379.4111 339.4143 376.3068 341.7601 372.9593 343.5977 370.2236 344.2986 369.4222 344.2986 369.4222 343.3399 369.8853 340.2147 370.9313 336.3649 372.305 332.8079 373.531 330.5452 374.1189\"/>\n",
       "<polygon fill=\"rgba(40,40,40,1)\" points=\"375.8899 30.0404 374.5529 29.1921 372.9184 27.5404 371.2723 25.53 369.9419 23.616 369.2052 22.0915 369.2805 22.0702 369.3086 20.5407 369.6728 18.6879 370.2149 16.7367 370.8307 15.0778 371.5417 14.0087 371.5417 14.0087 372.7626 13.6111 374.5258 13.4636 376.5509 13.4657 378.4335 13.6127 379.9143 13.9966 379.955 13.9298 381.2256 15.0489 382.7118 16.8447 384.206 18.9703 385.3578 20.9885 385.8157 22.5042 384.8535 22.7765 384.0185 21.8267 382.6266 20.113 381.0375 18.1778 379.6126 16.5206 378.8555 15.732 378.8963 15.6652 378.0891 15.324 376.4095 14.9746 374.505 14.7593 372.8782 14.7234 372.1552 14.8167 372.1552 14.8167 371.8711 15.4881 371.4685 17.0647 371.1642 18.957 371.0495 20.6687 371.1614 21.5379 371.2367 21.5166 371.7929 22.4577 373.0062 24.2755 374.4434 26.3261 375.7201 28.1272 376.4107 29.1867\"/>\n",
       "<polygon fill=\"rgba(40,40,40,1)\" points=\"384.2636 19.8005 385.0379 22.2581 385.0355 26.0355 384.5275 30.1 383.7518 33.4244 382.6392 35.2418 382.6392 35.2418 380.6078 34.5984 377.843 32.5959 374.7955 29.8591 372.318 27.0077 371.292 24.644 372.2288 24.2942 373.8331 25.7428 376.3491 28.3325 379.1188 31.1859 381.455 33.4429 382.2684 34.2486 382.2684 34.2486 382.3547 33.107 382.6398 29.8711 382.8616 25.9008 383.0645 22.2958 383.3267 20.1503\"/>\n",
       "<polygon fill=\"rgba(40,40,40,1)\" points=\"385.9019 51.2809 386.9801 53.556 386.9287 57.7041 386.2902 62.6798 385.3402 67.2184 384.3147 70.1183 384.3147 70.1183 382.4983 72.6006 379.286 75.9447 375.5371 79.2781 372.1407 81.6598 369.6537 82.0525 370.1206 81.1682 371.0614 80.0074 374.1806 77.574 378.0253 74.5211 381.4745 71.5983 383.3773 69.6234 383.3773 69.6234 383.9351 66.9383 384.4036 62.4416 384.7565 57.5449 385.0068 53.5967 385.4349 52.1652\"/>\n",
       "<polygon fill=\"rgba(40,40,40,1)\" points=\"367.0483 63.4967 367.2785 62.1041 368.3194 61.6515 369.662 61.4753 371.0796 61.5327 372.3329 61.8325 372.2934 61.982 374.0407 62.7345 376.9423 63.9454 380.2602 65.2733 383.1959 66.3989 384.9798 67.0598 385.0544 66.9243 386.1684 67.5721 387.2342 68.5087 388.0844 69.5625 388.5255 70.6083 387.7314 71.7751 387.6315 70.7801 386.9342 71.2939 386.4163 70.8394 385.647 70.0063 384.828 69.1299 384.1874 68.4993 384.262 68.3637 382.7204 67.5063 379.873 66.2235 376.567 64.9003 373.6208 63.8642 371.9133 63.4212 371.8738 63.5707 370.975 63.5852 369.7775 63.6545 368.6458 63.7267 367.9573 63.6984 367.8071 62.8454\"/>\n",
       "<polygon fill=\"rgba(40,40,40,1)\" points=\"371.5688 55.7739 374.2906 57.313 378.0397 61.7798 382.6709 66.7542 386.8587 70.8126 388.1996 73.6373 387.2191 73.8335 385.2153 72.202 381.7422 67.5997 377.13 62.6458 372.7875 58.853 371.3031 56.7379\"/>\n",
       "<polygon fill=\"rgba(40,40,40,1)\" points=\"370.9412 57.6163 373.664 58.5299 377.5857 61.987 382.3694 65.7429 386.6583 68.7324 388.1918 71.1606 387.2351 71.4518 385.2395 70.3504 381.5814 66.7209 376.8226 62.9846 372.4287 60.292 370.8853 58.6148\"/>\n",
       "<polygon fill=\"rgba(40,40,40,1)\" points=\"361.977 66.9203 365.0176 64.5163 371.8311 62.3085 379.7068 59.5508 386.4093 57.0259 390.2854 57.008 389.877 57.9208 386.9697 59.1036 380.1016 60.7432 372.2664 63.4867 365.8757 66.4898 362.8656 67.379\"/>\n",
       "<polygon fill=\"rgba(40,40,40,1)\" points=\"379.3309 99.1357 381.1252 100.2711 382.7025 103.0315 384.061 106.5125 384.9632 109.7928 385.1536 112.0677 385.1536 112.0677 384.3892 114.2188 382.68 117.1604 380.4785 120.1797 378.2492 122.4464 376.2246 123.0865 376.3532 122.0948 376.8924 121.013 378.8136 118.7754 381.1485 116.0332 383.1609 113.4811 384.1023 111.9314 384.1023 111.9314 383.5874 110.1928 382.2926 107.2118 380.7345 103.9646 379.4476 101.311 379.2023 100.1274\"/>\n",
       "<polygon fill=\"rgba(40,40,40,1)\" points=\"373.5799 103.9362 375.5759 103.163 378.6611 103.2887 382.0322 103.9574 384.8621 104.8917 386.4898 106.0139 386.4898 106.0139 386.6706 107.9828 386.0984 110.9075 385.0297 114.1738 383.6276 116.9249 381.9756 118.286 381.4706 117.4229 381.8978 115.9745 383.0176 113.3397 384.293 110.3105 385.2668 107.6962 385.5748 106.5493 385.5748 106.5493 384.424 106.2558 381.668 105.8238 378.4024 105.4514 375.5568 105.1366 374.0849 104.7993\"/>\n",
       "<polygon fill=\"rgba(40,40,40,1)\" points=\"364.1178 114.2315 364.641 111.6019 366.16 107.7688 368.1844 103.6017 370.232 100.0111 371.9439 97.7938 371.9959 97.8522 374.223 96.7629 377.3975 95.8325 380.8983 95.1018 383.9806 94.7325 386.0394 94.959 386.0394 94.959 387.428 96.4959 388.9325 99.2112 390.389 102.4775 391.4924 105.596 391.9126 108.0394 391.9904 108.0474 391.1944 110.7332 389.4814 114.4949 387.2873 118.5752 385.0683 122.0502 383.2422 124.0135 382.5772 123.2667 383.7315 121.2081 385.5724 117.6481 387.5543 113.5641 389.1694 109.9164 389.8903 107.8318 389.9681 107.8398 389.7991 106.0202 388.9657 102.9979 387.7535 99.7491 386.4735 97.0786 385.5774 95.8622 385.5774 95.8622 384.0667 95.8476 381.1522 96.3726 377.8085 97.2911 374.8702 98.3842 373.2958 99.3121 373.3479 99.3705 372.0794 101.175 370.067 104.6195 367.9154 108.6167 366.1062 112.1929 365.1126 114.3337\"/>\n",
       "<polygon fill=\"rgba(40,40,40,1)\" points=\"373.5125 123.3589 372.4154 121.7071 372.2227 118.7454 372.4433 115.1406 372.9092 111.8084 373.4756 109.6129 373.4756 109.6129 374.3955 107.5405 376.1002 104.6397 378.1665 101.6776 380.1573 99.4763 382.0431 98.8633 381.7142 99.8077 381.6009 100.8223 379.8737 103.0303 377.6411 105.7539 375.6039 108.3103 374.4768 109.9615 374.4768 109.9615 374.3344 111.9557 374.343 115.2245 374.4007 118.7458 374.3828 121.549 373.8414 122.4146\"/>\n",
       "<polygon fill=\"rgba(40,40,40,1)\" points=\"372.1349 150.6919 371.3444 149.3522 372.3385 148.3394 373.3297 147.6896 374.6549 147.1819 375.5681 148.4411 374.7738 149.0486 374.1465 149.273 373.7449 148.875 373.2599 149.193 373.4648 149.72 373.0088 150.2057\"/>\n",
       "<polygon fill=\"rgba(40,40,40,1)\" points=\"376.3707 160.1042 375.4989 159.5969 374.542 158.6057 373.6225 157.3871 372.9012 156.2114 372.4999 155.1897 372.5761 155.1724 372.6709 154.1648 372.9811 153.0937 373.3909 151.9921 373.8297 151.0556 374.3635 150.3889 374.3635 150.3889 375.1861 150.1592 376.2197 150.1228 377.3938 150.1777 378.5007 150.3123 379.4648 150.6202 379.5106 150.5568 380.2931 151.3266 381.0919 152.4511 381.8524 153.7748 382.3891 155.0437 382.5139 156.0446 381.5388 156.2663 381.0005 155.7973 380.2025 154.8133 379.333 153.6703 378.5826 152.6837 378.2729 152.2671 378.3187 152.2037 378.0123 151.9882 377.1245 151.6691 376.0893 151.4121 375.209 151.2774 374.9228 151.2352 374.9228 151.2352 374.8493 151.515 374.6281 152.3777 374.4586 153.4308 374.4041 154.3726 374.4822 154.739 374.5585 154.7216 374.8203 155.1699 375.4337 156.2471 376.1442 157.4951 376.7366 158.615 376.957 159.2941\"/>\n",
       "<polygon fill=\"rgba(40,40,40,1)\" points=\"373.722 154.0766 374.8516 153.268 376.7222 153.6681 378.8693 153.6887 380.7472 153.3244 381.8611 154.1545 381.2071 154.911 380.5852 155.4703 378.838 154.9443 376.7294 154.9241 374.9725 155.4166 374.3614 154.8455\"/>\n",
       "<polygon fill=\"rgba(40,40,40,1)\" points=\"370.4869 164.2251 369.1877 162.9216 368.2011 160.5584 367.5203 157.7553 367.2495 155.141 367.596 153.1416 367.7363 153.2069 369.2202 151.7408 371.6641 149.8846 374.493 147.8909 377.0629 146.2135 378.9426 145.309 378.9283 145.155 380.9277 145.501 383.2987 146.6352 385.7096 148.2189 387.6035 149.9427 388.3942 151.6046 387.4192 151.8269 386.4288 151.2166 384.504 149.9393 382.2077 148.5251 380.1319 147.3959 379.0941 146.9452 379.0798 146.7912 377.639 147.272 375.0595 148.7464 372.2792 150.7058 370.0233 152.6394 369.086 153.8345 369.2262 153.8997 369.3016 155.0287 369.667 157.3634 370.2268 160.0015 370.7823 162.2437 371.0241 163.3817\"/>\n",
       "<polygon fill=\"rgba(40,40,40,1)\" points=\"373.6096 156.9991 373.8551 155.3872 374.743 153.0996 375.946 150.6696 377.1375 148.6479 378.0998 147.4652 378.2077 147.5761 379.2934 147.3034 380.2953 147.5168 381.2783 147.8936 382.1661 148.4045 382.7915 149.333 382.9458 149.3227 382.8711 150.8456 382.4061 153.1457 381.6766 155.7572 380.808 158.0523 379.9132 159.4153 379.0237 158.9582 379.1573 157.5254 379.6524 155.1955 380.2884 152.619 380.8574 150.4346 381.152 149.4428 381.3063 149.4325 381.3205 149.2632 380.8092 148.8061 380.0343 148.5091 379.3485 148.5073 379.2459 148.6427 379.3538 148.7536 378.9099 149.6882 377.8731 151.6933 376.6241 154.0348 375.435 156.0987 374.5767 157.2536\"/>\n",
       "<polygon fill=\"rgba(40,40,40,1)\" points=\"366.2267 211.707 365.5651 209.1994 366.349 205.0806 367.891 200.3379 369.6888 196.1499 371.3161 193.6244 371.3161 193.6244 373.8195 191.9634 377.9831 190.1096 382.7047 188.5041 386.8125 187.665 389.3288 188.293 388.6265 189.0048 387.1273 189.6134 383.2816 190.6043 378.6006 191.9081 374.4013 193.2727 372.0707 194.369 372.0707 194.369 371.0058 196.7141 369.6976 200.9313 368.4568 205.6294 367.5175 209.488 366.9291 210.9952\"/>\n",
       "<polygon fill=\"rgba(40,40,40,1)\" points=\"387.6045 203.4366 385.0328 204.0909 380.2755 203.3082 374.695 202.7712 369.8758 202.6323 367.4761 201.4996 368.0856 200.7069 370.1859 200.5028 374.8294 201.5224 380.3817 202.0567 385.1345 201.9413 387.1572 202.5422\"/>\n",
       "<polygon fill=\"rgba(40,40,40,1)\" points=\"386.3754 200.6301 386.0843 202.2446 384.9226 204.1946 383.3162 206.1529 381.6546 207.718 380.0925 208.5475 380.0568 208.397 378.4079 208.1063 376.2444 207.3461 373.8551 206.3975 371.7592 205.4669 370.36 204.5475 370.2308 204.6325 369.6629 202.9574 369.5272 200.6789 369.7014 198.1519 370.1935 195.9361 371.089 194.5615 371.8519 195.2081 371.8906 196.2857 371.7935 198.3419 371.7091 200.7117 371.7085 202.7592 371.7327 203.6442 371.6034 203.7293 372.3563 204.42 374.2671 205.4579 376.5891 206.3796 378.6915 206.935 379.7131 206.9487 379.6774 206.7982 380.302 206.1707 381.7059 204.6803 383.2698 202.8979 384.6095 201.3349 385.3768 200.5773\"/>\n",
       "<polygon fill=\"rgba(40,40,40,1)\" points=\"371.8181 238.3807 373.8915 237.4205 377.1445 238.2921 380.8837 239.096 384.2074 239.6383 385.703 241.3658 384.7342 241.6136 383.4361 241.6474 380.5754 240.3136 376.9251 239.5288 373.769 239.569 372.5995 239.0047\"/>\n",
       "<polygon fill=\"rgba(40,40,40,1)\" points=\"366.1789 239.4618 367.8255 237.374 371.0397 234.9502 374.8997 232.632 378.4826 230.9187 381.1113 230.3101 381.1032 230.4646 383.2026 231.5758 385.7349 233.7354 388.3896 236.3581 390.5797 238.8641 391.7163 240.9498 391.8707 240.9398 391.294 243.5757 389.6243 247.1791 387.353 251.067 384.9684 254.3103 382.9007 255.9821 382.3936 255.1202 383.5796 253.274 385.5627 249.968 387.6975 246.1548 389.3968 242.7854 390.0766 241.0565 390.2309 241.0464 389.5947 239.5584 387.6365 237.0549 385.0473 234.4969 382.5202 232.5691 381.0246 231.951 381.0164 232.1055 379.2958 232.8061 375.9473 234.5462 372.1603 236.7271 368.8785 238.75 367.0469 239.9584\"/>\n",
       "<polygon fill=\"rgba(40,40,40,1)\" points=\"367.2293 240.5999 368.6367 239.2042 371.4257 238.4256 374.8135 238.0151 377.9326 237.9631 380.0168 238.3012 380.0168 238.3012 381.8298 239.3835 384.1839 241.4303 386.5131 243.9244 388.147 246.3151 388.3262 248.289 387.3867 247.9466 386.4834 247.3772 384.8168 245.2906 382.7824 242.7155 380.8651 240.4428 379.6538 239.2973 379.6538 239.2973 377.9894 239.3947 375.0593 239.9007 371.8451 240.5629 369.2267 241.0877 368.1689 240.9423\"/>\n",
       "<polygon fill=\"rgba(40,40,40,1)\" points=\"380.1197 274.7238 382.2444 275.346 384.7822 277.2914 387.3022 279.8909 389.2714 282.5267 390.1698 284.806 390.0158 284.8211 389.3896 287.3299 387.9525 290.9725 386.1619 295.0186 384.4322 298.5317 382.9964 300.6822 383.0887 300.8064 380.7976 301.6741 377.5226 301.989 373.904 301.8718 370.7575 301.3016 368.8683 300.1475 369.594 299.4595 371.104 299.6039 374.0421 299.7756 377.4725 299.8074 380.4905 299.642 382.0157 299.3638 382.108 299.4879 383.3925 297.9222 385.2359 294.5768 387.0028 290.5842 388.2394 286.9702 388.5345 284.9667 388.3805 284.9818 387.5609 283.6659 385.6539 281.3209 383.3236 278.8032 381.2208 276.7441 380.0986 275.7236\"/>\n",
       "<polygon fill=\"rgba(40,40,40,1)\" points=\"372.0826 300.5028 370.7079 300.0147 370.3917 298.759 370.4218 297.1889 370.7202 295.575 371.261 294.205 371.4023 294.2677 372.569 292.4073 374.4929 289.3144 376.6449 285.7763 378.5064 282.6455 379.6219 280.7539 379.5012 280.6573 380.469 279.547 381.7649 278.5398 383.1452 277.791 384.4057 277.4942 385.4713 278.4905 384.4724 278.4451 384.7782 279.1864 384.089 279.6678 382.9457 280.3749 381.7602 281.1459 380.9047 281.7808 380.784 281.6841 379.5194 283.2984 377.518 286.3152 375.373 289.8419 373.6146 293.0065 372.7628 294.8718 372.9041 294.9346 372.7338 295.9862 372.5944 297.3935 372.4923 298.7338 372.3818 299.5672 371.5829 299.6366\"/>\n",
       "<polygon fill=\"rgba(40,40,40,1)\" points=\"377.2648 277.9096 379.9141 278.6329 382.5253 281.965 385.5554 285.7285 388.2534 288.9908 388.3946 291.7334 387.5043 291.278 386.3706 290.033 384.5461 286.476 381.5796 282.7915 378.494 280.2499 377.5197 278.8765\"/>\n",
       "<polygon fill=\"rgba(40,40,40,1)\" points=\"379.1846 326.7088 380.9855 326.4286 382.2665 328.0142 383.6696 329.628 385.0616 331.1171 384.5336 332.8616 383.7274 332.27 383.0664 331.9236 382.659 330.3739 381.3873 328.9111 379.9094 328.2922 379.6583 327.5895\"/>\n",
       "<polygon fill=\"rgba(40,40,40,1)\" points=\"375.9392 343.4823 374.5677 343.4241 373.9342 342.4919 373.5372 341.24 373.3714 339.8895 373.4906 338.65 373.6439 338.6712 374.1756 336.9895 375.0249 334.2342 375.9446 331.0907 376.7144 328.3122 377.173 326.609 377.0325 326.5443 377.6002 325.436 378.4678 324.3879 379.4769 323.5473 380.513 323.1036 381.6996 323.7939 380.7373 324.0661 381.2054 324.692 380.7732 325.2004 379.9993 325.9423 379.2044 326.7206 378.6654 327.2965 378.5249 327.2318 377.8605 328.685 376.9272 331.3862 376.0118 334.5149 375.3419 337.2932 375.1183 338.8754 375.2715 338.8966 375.4151 339.6722 375.6651 340.7562 375.9171 341.7982 376.0071 342.4595 375.2754 342.7344\"/>\n",
       "<polygon fill=\"rgba(40,40,40,1)\" points=\"383.7893 324.9243 385.177 326.2568 386.4278 328.7101 387.4394 331.6229 388.0284 334.3256 387.9414 336.3809 387.7941 336.3335 386.5125 337.8169 384.3816 339.5745 381.8964 341.4327 379.6079 342.9794 377.8227 343.7893 377.8265 343.9439 375.8304 343.4461 373.4047 342.1167 370.8969 340.3227 368.8975 338.4291 368.0118 336.7212 368.9608 336.4056 370.0866 337.1687 372.1601 338.6442 374.5831 340.2801 376.7425 341.6044 377.7822 342.1466 377.786 342.3012 379.0304 341.9216 381.3119 340.5894 383.7381 338.7753 385.6612 336.9638 386.3772 335.8775 386.2299 335.8301 386.0039 334.6795 385.3444 332.2337 384.4606 329.447 383.6318 327.0409 383.2183 325.7452\"/>\n",
       "<polygon fill=\"rgba(40,40,40,1)\" points=\"366.1701 333.6548 366.7138 330.7776 368.9847 326.9559 372.0553 323.0631 375.054 320.0256 377.3729 318.7156 377.3729 318.7156 379.7608 319.8952 382.9231 322.7621 386.2044 326.479 388.6833 330.1691 389.3855 333.0119 388.3859 333.0395 387.002 331.2028 384.4825 327.8129 381.5089 324.0333 378.8153 320.9717 377.4023 319.7753 377.4023 319.7753 376.0576 321.0481 373.5377 324.2541 370.7777 328.1925 368.4498 331.7167 367.1697 333.6271\"/>\n",
       "<polygon fill=\"rgba(40,40,40,1)\" points=\"367.4898 391.5762 365.7421 389.9378 364.3001 386.7613 363.2239 382.9293 362.7101 379.3191 363.0529 376.621 363.1952 376.6816 365.1871 374.3848 368.6827 371.1894 372.7742 367.7234 376.5007 364.8006 379.0937 363.2134 379.0574 363.063 381.7751 363.1684 385.2517 364.2688 388.8547 365.9603 391.7509 367.9049 393.0797 369.898 392.1142 370.1585 390.7349 369.3084 387.8898 367.8263 384.4399 366.2943 381.2735 365.1614 379.48 364.8105 379.4436 364.6602 377.183 365.794 373.4173 368.5229 369.3656 371.9552 366.0548 375.2211 364.5648 377.2645 364.7071 377.3251 364.7584 379.152 365.3554 382.4615 366.2994 386.1163 367.2937 389.1663 367.9054 390.6667\"/>\n",
       "<polygon fill=\"rgba(40,40,40,1)\" points=\"372.5242 377.6247 373.6333 376.7615 375.5585 375.7061 377.7919 374.6542 379.8147 373.8091 381.1616 373.358 381.1834 373.4331 382.2834 373.3262 383.6176 373.2999 384.96 373.3346 386.0432 373.4307 386.927 373.893 386.927 373.893 386.6458 374.85 385.9626 375.6961 385.0553 376.686 384.1098 377.6277 383.2689 378.3449 383.3078 378.4127 382.0478 379.0685 380.0349 379.9369 377.727 380.8133 375.6307 381.4655 374.2393 381.6639 373.9609 380.7035 375.0537 379.9947 376.9778 379.0136 379.1846 377.9729 381.1391 377.083 382.2571 376.5816 382.296 376.6494 383.0324 376.2543 384.0523 375.5499 385.0574 374.7688 385.7922 374.1274 385.9933 374.2895 385.9933 374.2895 385.9702 374.5467 384.9985 374.63 383.7384 374.8106 382.5233 375.0553 381.7275 375.3106 381.7493 375.3857 380.6121 375.8418 378.6144 376.63 376.333 377.4951 374.2908 378.1981 373.0219 378.4921\"/>\n",
       "<polygon fill=\"rgba(40,40,40,1)\" points=\"374.7625 362.7613 377.5207 362.7995 381.4901 364.0446 385.7609 365.9595 389.3634 368.0581 391.4523 370.0642 391.3175 370.14 391.6562 372.9062 391.4276 377.0224 390.8921 381.6381 390.1723 385.6974 389.2093 388.3125 389.3232 388.4172 386.8305 389.8918 382.8431 391.1099 378.2474 391.9961 374.0984 392.2994 371.4047 391.7051 371.8217 390.7962 374.0059 390.5691 377.9076 389.9231 382.3331 388.9882 386.1355 387.9577 387.9991 387.201 388.113 387.3056 389.0079 385.3866 389.8779 381.4827 390.4047 376.9415 390.4516 372.9421 390.0198 370.8692 389.885 370.945 388.2441 369.7817 384.7786 367.908 380.6847 365.9848 377.0346 364.4627 374.9604 363.7415\"/>\n",
       "<polygon fill=\"rgba(40,40,40,1)\" points=\"377.2201 370.8258 377.8703 369.3776 379.3288 369.592 380.5743 369.9298 381.9415 370.4815 381.771 372.0598 380.7854 371.8906 380.1913 371.7337 380.0254 371.0595 379.2318 370.8443 378.7481 371.3423 378.1561 371.1777\"/>\n",
       "<polygon fill=\"rgba(40,40,40,1)\" points=\"389.9863 372.2435 387.7973 374.6851 382.3314 377.9191 376.1619 382.0374 371.079 385.8451 367.9846 386.9304 367.7723 385.9532 369.9395 384.0196 375.472 380.9878 381.6267 376.8794 386.5484 372.9326 389.1653 371.6727\"/>\n",
       "</svg>"
      ],
      "text/plain": [
       "<IPython.core.display.SVG object>"
      ]
     },
     "metadata": {},
     "output_type": "display_data"
    }
   ],
   "source": [
    "doc = document(400, 400, 'pt')\n",
    "page = doc.addpage()\n",
    "fig = shape().fill(rgba(40, 40, 40, 255)).nostroke()\n",
    "grid_size = 9\n",
    "grid_res = doc.width / grid_size\n",
    "for i in range(grid_size):\n",
    "    for j in range(grid_size):\n",
    "        for k in range(np.random.choice([2, 3, 4, 5])):\n",
    "            poly = ellipse(0, 0,\n",
    "                           np.random.uniform((doc.width/grid_size)*0.4),\n",
    "                           np.random.uniform((doc.height/grid_size)*0.4),\n",
    "                           n=np.random.choice([4, 5, 6, 7]))\n",
    "            poly_fancy = poly.fancy_curve(thicknesses=[1, 2, 1, 2, 1],\n",
    "                                          interp=\"cubic\",\n",
    "                                          tightness=0.5)\n",
    "            page.place(fig.polygon(poly_fancy.rotate(np.random.uniform(np.pi*2)).translate(\n",
    "                i*grid_res+grid_res*0.5, j*grid_res+grid_res*0.5)))\n",
    "show(page)"
   ]
  },
  {
   "cell_type": "markdown",
   "metadata": {},
   "source": [
    "An example with `arc` primitives and `.fancy_curve()`:"
   ]
  },
  {
   "cell_type": "code",
   "execution_count": 65,
   "metadata": {},
   "outputs": [
    {
     "data": {
      "image/svg+xml": [
       "<svg height=\"400pt\" version=\"1.1\" width=\"400pt\" xmlns=\"http://www.w3.org/2000/svg\" xmlns:xlink=\"http://www.w3.org/1999/xlink\">\n",
       "<title>Untitled</title>\n",
       "<polygon fill=\"rgba(40,40,40,1)\" points=\"175.0988 326.8505 173.8583 326.5731 172.6206 326.2836 171.3859 325.982 170.1546 325.6683 168.927 325.3428 168.9335 325.3167 167.7096 324.9793 166.4891 324.6298 165.2723 324.2685 164.0594 323.8953 162.8507 323.5104 162.8584 323.4849 161.6541 323.0883 160.4537 322.6799 159.2575 322.2599 158.0658 321.8282 156.879 321.3851 156.8878 321.3601 155.7059 320.9055 154.5284 320.4393 153.3557 319.9617 152.1881 319.4727 151.0258 318.9725 151.0359 318.9482 149.8791 318.4368 148.7273 317.9141 147.5808 317.3802 146.44 316.8352 145.3051 316.2793 145.3162 316.2556 144.1872 315.6888 143.0639 315.1109 141.9463 314.5222 140.835 313.9226 139.73 313.3125 139.7422 313.2895 138.6438 312.6688 137.5514 312.0373 136.4654 311.3952 135.3861 310.7427 134.3137 310.0799 134.3269 310.0577 133.2615 309.3847 132.2027 308.7012 131.1508 308.0075 130.1061 307.3037 129.0687 306.59 129.083 306.5686 128.0531 305.845 127.0303 305.1113 126.0149 304.3677 125.0071 303.6145 124.0072 302.8516 124.0224 302.8311 123.0304 302.0588 122.046 301.2768 121.0695 300.4853 120.101 299.6844 119.1409 298.8745 119.1569 298.8549 118.2052 298.0358 117.2615 297.2075 116.326 296.37 115.3991 295.5237 114.4809 294.6686 114.4978 294.6499 113.5884 293.7862 112.6875 292.9136 111.7954 292.0324 110.9121 291.1426 110.038 290.2446 110.0557 290.2269 109.1908 289.3208 108.3347 288.4061 107.4878 287.4832 106.6503 286.5523 105.8222 285.6137 105.8406 285.597 105.0222 284.6506 104.213 283.6962 103.4133 282.734 102.6233 281.7643 101.8432 280.7873 101.8623 280.7716 101.0921 279.7874 100.3316 278.7956 99.5809 277.7966 98.8403 276.7905 98.1099 275.7776 98.1295 275.763 97.4094 274.7433 96.6992 273.7167 95.9993 272.6832 95.3097 271.6432 94.6306 270.5969 94.6508 270.5834 93.9823 269.5309 93.3241 268.4718 92.6764 267.4065 92.0394 266.3352 91.4132 265.2581 91.4339 265.2456 90.8185 264.1629 90.2137 263.0741 89.6197 261.9796 89.0367 260.8795 88.4647 259.7743 88.4858 259.763 87.9249 258.6526 87.3749 257.5368 86.8359 256.4157 86.3081 255.2897 85.7915 254.159 85.8131 254.1488 85.3079 253.0136 84.8138 251.8734 84.3309 250.7285 83.8595 249.5793 83.3996 248.426 83.4214 248.4169 82.973 247.2596 82.5359 246.0978 82.1102 244.932 81.6962 243.7623 81.2938 242.5892 81.3159 242.5812 80.9252 241.4047 80.546 240.2242 80.1785 239.0402 79.8227 237.853 79.4787 236.6629 79.501 236.6561 79.1688 235.4631 78.8483 234.2668 78.5396 233.0675 78.2428 231.8656 77.9579 230.6614 77.9804 230.6557 77.7074 229.4492 77.4462 228.24 77.197 227.0284 76.9597 225.8147 76.7344 224.5993 76.757 224.5948 76.5437 223.3777 76.3424 222.1585 76.153 220.9374 75.9757 219.7149 75.8105 218.4913 75.8331 218.4879 75.68 217.2632 75.5388 216.0369 75.4097 214.8094 75.2927 213.581 75.1878 212.3521 75.2103 212.3498 75.1175 211.1204 75.0368 209.89 74.9681 208.659 74.9115 207.4276 74.867 206.1964 74.8895 206.1953 74.8571 204.9641 74.8368 203.7325 74.8285 202.501 74.8324 201.2697 74.8483 200.0391 74.8707 200.0391 74.8986 198.8091 74.9387 197.5793 74.9908 196.3502 75.0549 195.1219 75.1311 193.8948 75.1532 193.8959 75.2414 192.6701 75.3416 191.4451 75.4538 190.2213 75.5779 188.9989 75.714 187.7784 75.7359 187.7805 75.8839 186.5618 76.0439 185.3445 76.2157 184.1289 76.3994 182.9154 76.5947 181.7042 76.616 181.7074 76.8229 180.4986 77.0416 179.2917 77.272 178.0872 77.514 176.8852 77.7675 175.6862 77.7878 175.6902 78.0528 174.4941 78.3295 173.3005 78.6177 172.1097 78.9174 170.9221 79.2285 169.738 79.2478 169.7428 79.5701 168.5621 79.904 167.3845 80.2493 166.2102 80.6059 165.0396 80.9737 163.8731 80.9918 163.8786 81.3707 162.716 81.7609 161.557 82.1624 160.402 82.5749 159.2511 82.9984 158.1048 83.0155 158.111 83.4499 156.9691 83.8955 155.8314 84.352 154.6982 84.8195 153.5697 85.2976 152.4463 85.3137 152.4529 85.8025 151.3345 86.3022 150.2207 86.8128 149.1118 87.3339 148.0082 87.8655 146.9102 87.8805 146.9173 88.4225 145.8247 88.9752 144.7374 89.5384 143.6554 90.112 142.5793 90.6958 141.5092 90.7096 141.5166 91.3035 140.4524 91.9078 139.3939 92.5223 138.3414 93.1469 137.2951 93.7814 136.2553 93.7941 136.263 94.4384 135.2296 95.0928 134.2024 95.7571 133.1817 96.4312 132.1676 97.1149 131.1606 97.1265 131.1684 97.8197 130.1682 98.5226 129.1746 99.2351 128.1879 99.9571 127.2083 100.6883 126.2363 100.6988 126.2441 101.4392 125.2793 102.1889 124.3216 102.948 123.3712 103.7161 122.4285 104.493 121.4936 104.5025 121.5014 105.2883 120.5742 106.0831 119.6545 106.8868 118.7426 107.6992 117.8387 108.5201 116.9431 108.5286 116.9508 109.3579 116.0633 110.1958 115.1837 111.0424 114.3123 111.8971 113.4494 112.7599 112.5951 112.7675 112.6026 113.6383 111.7568 114.5175 110.9193 115.4048 110.0904 116.2999 109.2703 117.2026 108.4592 117.2092 108.4665 118.1196 107.6643 119.0379 106.8708 119.9638 106.0863 120.8972 105.3109 121.8377 104.5449 121.8434 104.5518 122.7912 103.795 123.7464 103.0473 124.7089 102.3089 125.6783 101.5799 126.6544 100.8607 126.6593 100.8673 127.6422 100.1576 128.6321 99.4574 129.6288 98.7667 130.632 98.0859 131.6415 97.4151 131.6456 97.4212 132.6613 96.7603 133.6836 96.109 134.7123 95.4677 135.747 94.8366 136.7874 94.2157 136.7907 94.2213 137.8369 93.6105 138.8893 93.0098 139.9474 92.4193 141.0112 91.8392 142.0801 91.2697 142.0828 91.2747 143.157 90.7155 144.237 90.1666 145.3222 89.6283 146.4125 89.1005 147.5075 88.5836 147.5095 88.588 148.6094 88.0817 149.7143 87.5859 150.8241 87.1009 151.9384 86.6267 153.0569 86.1635 153.0585 86.1673 154.1813 85.7149 155.3088 85.2734 156.4405 84.8428 157.5763 84.4233 158.7157 84.0149 158.7168 84.018 159.86 83.6206 161.0074 83.2343 162.1585 82.8591 163.3131 82.4952 164.4708 82.1426 164.4715 82.1449 165.6325 81.8034 166.797 81.4732 167.9648 81.1543 169.1356 80.8468 170.3089 80.5507 170.3093 80.5522 171.4853 80.2675 172.6644 79.9941 173.8462 79.7322 175.0304 79.4818 176.2166 79.2429 176.2168 79.2436 177.4052 79.0162 178.5961 78.8003 179.7892 78.596 180.9841 78.4032 182.1804 78.2222 182.1804 78.2221 183.3784 78.0525 184.5784 77.8946 185.78 77.7483 186.9828 77.6137 188.1866 77.4908 188.1865 77.4899 189.3914 77.3786 190.5977 77.279 191.805 77.1911 193.013 77.1149 194.2213 77.0505 194.2213 77.0488 195.4302 76.996 196.64 76.9549 197.8503 76.9256 199.0607 76.9081 200.2708 76.9023 200.2708 76.8997 201.4811 76.9056 202.6916 76.9232 203.902 76.9526 205.112 76.9938 206.3212 77.0467 206.3212 77.0467 205.1123 76.9872 203.9024 76.9397 202.692 76.9043 201.4814 76.8808 200.2709 76.8695 200.2709 76.8669 199.0604 76.8677 197.8495 76.8806 196.6387 76.9055 195.4282 76.9424 194.2186 76.9914 194.2185 76.9896 193.0093 77.0508 191.8005 77.124 190.5923 77.2092 189.3851 77.3064 188.1793 77.4156 188.1792 77.4147 186.9746 77.536 185.7708 77.6694 184.5683 77.8147 183.3675 77.972 182.1686 78.1411 182.1685 78.141 180.9714 78.3222 179.7758 78.5154 178.582 78.7205 177.3905 78.9374 176.2015 79.1661 176.2016 79.1668 175.015 79.4074 173.8305 79.6599 172.6485 79.9242 171.4693 80.2002 170.2933 80.4879 170.2936 80.4894 169.1206 80.7888 167.9502 81.1 166.7829 81.4229 165.619 81.7573 164.4589 82.1031 164.4596 82.1054 163.303 82.4629 162.1497 82.832 161.0001 83.2126 159.8545 83.6045 158.7131 84.0077 158.7142 84.0108 157.5771 84.4254 156.4438 84.8514 155.3148 85.2888 154.1902 85.7372 153.0706 86.1967 153.0722 86.2005 151.9573 86.6712 150.8469 87.1531 149.7412 87.646 148.6407 88.1499 147.5456 88.6645 147.5476 88.6689 146.4578 89.1944 145.3731 89.7309 144.2936 90.2783 143.2198 90.8362 142.152 91.4046 142.1547 91.4096 141.0927 91.9887 140.0363 92.5784 138.9857 93.1787 137.9414 93.7893 136.9035 94.41 136.9068 94.4156 135.8753 95.0467 134.8499 95.6881 133.8309 96.3398 132.8186 97.0014 131.8133 97.6729 131.8174 97.679 130.819 98.3605 129.8272 99.052 128.8422 99.7534 127.8645 100.4644 126.8942 101.1849 126.8991 101.1915 125.9363 101.9216 124.9805 102.6614 124.0322 103.4107 123.0915 104.1692 122.1587 104.9368 122.1644 104.9438 121.2396 105.7207 120.3223 106.5069 119.4128 107.3021 118.5115 108.1063 117.6185 108.919 117.6251 108.9264 116.7406 109.748 115.864 110.5785 114.9957 111.4177 114.136 112.2654 113.2851 113.1212 113.2926 113.1288 112.4505 113.993 111.6169 114.8657 110.7919 115.7467 109.976 116.6357 109.1692 117.5324 109.1777 117.5402 108.3801 118.4448 107.5915 119.3575 106.8119 120.278 106.0417 121.206 105.281 122.1413 105.2906 122.1492 104.5395 123.0919 103.7977 124.0422 103.0655 124.9998 102.3429 125.9645 101.6302 126.9359 101.6408 126.9438 100.9381 127.9221 100.2451 128.9076 99.5619 129.8999 98.8887 130.8988 98.2258 131.9039 98.2374 131.9117 97.5848 132.9232 96.9422 133.9413 96.3097 134.9657 95.6876 135.9962 95.076 137.0323 95.0888 137.04 94.4878 138.082 93.8972 139.1301 93.317 140.1841 92.7474 141.2435 92.1886 142.3081 92.2025 142.3155 91.6546 143.3853 91.1173 144.4608 90.5908 145.5415 90.0751 146.6272 89.5705 147.7174 89.5855 147.7245 89.092 148.8195 88.6094 149.9195 88.1377 151.0243 87.6772 152.1334 87.228 153.2465 87.244 153.2532 86.8061 154.3705 86.3793 155.4923 85.9636 156.6182 85.5593 157.748 85.1665 158.8811 85.1836 158.8873 84.8023 160.024 84.4322 161.1647 84.0735 162.3089 83.7264 163.4564 83.3908 164.6067 83.409 164.6123 83.0851 165.7656 82.7727 166.9222 82.4718 168.0818 82.1825 169.2441 81.9049 170.4086 81.9242 170.4135 81.6585 171.5804 81.4043 172.75 81.1618 173.9221 80.9311 175.0962 80.7122 176.2719 80.7324 176.276 80.5254 177.4535 80.3301 178.6332 80.1466 179.8147 79.9748 180.9976 79.8149 182.1816 79.8362 182.1848 79.6883 183.37 79.5522 184.5567 79.4279 185.7446 79.3154 186.9334 79.2146 188.1226 79.2365 188.1248 79.1476 189.3145 79.0703 190.5052 79.0048 191.6965 78.9511 192.8881 78.9092 194.0795 78.9313 194.0806 78.9012 195.272 78.8827 196.4638 78.8761 197.6556 78.8812 198.847 78.898 200.0378 78.9203 200.0378 78.9489 201.2279 78.9892 202.4178 79.0413 203.6072 79.105 204.7956 79.1805 205.9828 79.2029 205.9817 79.2901 207.1676 79.3889 208.3528 79.4994 209.5368 79.6216 210.7193 79.7553 211.9 79.7779 211.8978 79.9232 213.0767 80.0802 214.2542 80.2488 215.43 80.4288 216.6038 80.6204 217.7751 80.643 217.7718 80.8461 218.9407 81.0607 220.1077 81.2868 221.2725 81.5242 222.4346 81.773 223.5938 81.7956 223.5893 82.0558 224.7455 82.3274 225.8992 82.6103 227.0501 82.9044 228.1978 83.2097 229.3419 83.2322 229.3363 83.5487 230.4769 83.8765 231.6145 84.2154 232.7488 84.5654 233.8793 84.9263 235.0057 84.9486 234.9989 85.3206 236.1212 85.7036 237.24 86.0976 238.3548 86.5024 239.4654 86.918 240.5714 86.9401 240.5634 87.3664 241.6648 87.8036 242.762 88.2516 243.8548 88.7101 244.9428 89.1792 246.0256 89.201 246.0165 89.6806 247.0943 90.1708 248.1673 90.6715 249.2354 91.1825 250.2982 91.7038 251.3554 91.7253 251.3452 92.2568 252.3967 92.7986 253.443 93.3507 254.4839 93.9129 255.519 94.485 256.5479 94.5061 256.5366 95.0881 257.5594 95.6802 258.5765 96.2822 259.5877 96.894 260.5926 97.5154 261.5908 97.5361 261.5784 98.167 262.57 98.8078 263.5556 99.4582 264.5346 100.118 265.5069 100.787 266.4722 100.8072 266.4586 101.4855 267.4168 102.1732 268.3684 102.8702 269.313 103.5763 270.2505 104.2912 271.1804 104.3109 271.1658 105.0347 272.0882 105.7676 273.0036 106.5095 273.9116 107.26 274.8119 108.019 275.7044 108.038 275.6887 108.8055 276.5732 109.5817 277.4503 110.3664 278.3195 111.1595 279.1807 111.9605 280.0336 111.9789 280.0169 112.788 280.8614 113.6055 281.698 114.4312 282.5265 115.2647 283.3465 116.1057 284.1578 116.1234 284.1401 116.9721 284.9427 117.8288 285.737 118.6932 286.5228 119.565 287.2997 120.444 288.0676 120.4609 288.0489 121.347 288.8077 122.2407 289.5578 123.1416 290.2991 124.0496 291.0311 124.9642 291.7538 124.9802 291.7342 125.9015 292.4475 126.8299 293.1517 127.7651 293.8467 128.7068 294.5322 129.6548 295.2081 129.6699 295.1875 130.624 295.8537 131.5848 296.5104 132.5519 297.1576 133.525 297.795 134.5039 298.4225 134.5181 298.4011 135.5026 299.0186 136.4933 299.6263 137.4899 300.2243 138.492 300.8122 139.4992 301.3898 139.5124 301.3676 140.5249 301.935 141.5431 302.4925 142.5666 303.0398 143.5951 303.5769 144.6282 304.1035 144.6404 304.0805 145.6783 304.5966 146.7213 305.1025 147.7692 305.598 148.8215 306.0831 149.878 306.5574 149.8891 306.5337 150.9498 306.9974 152.0151 307.4507 153.0847 307.8933 154.1582 308.3253 155.2354 308.7464 155.2454 308.722 156.3261 309.1323 157.4111 309.5319 158.4997 309.9208 159.5918 310.2987 160.6869 310.6657 160.6958 310.6408 161.794 310.9967 162.8958 311.3419 164.0009 311.6761 165.1088 311.9993 166.2191 312.3114 166.2268 312.2859 167.3397 312.5868 168.4557 312.8768 169.5744 313.1558 170.6953 313.4236 171.8182 313.6802 171.8247 313.6542 172.9496 313.8995 174.0769 314.1338 175.2064 314.3569 176.3377 314.5689 177.4703 314.7695\"/>\n",
       "<polygon fill=\"rgba(40,40,40,1)\" points=\"246.5329 169.9847 246.0498 169.2258 245.5539 168.4739 245.0455 167.7298 244.5251 166.9941 243.9932 166.2675 244.0033 166.2597 243.4594 165.5416 242.9032 164.8315 242.3352 164.1302 241.756 163.4383 241.166 162.7564 241.1753 162.7479 240.574 162.0755 239.9611 161.4121 239.3371 160.7584 238.7027 160.1149 238.0584 159.4824 238.067 159.4733 237.4121 158.851 236.7464 158.2388 236.0704 157.6372 235.3849 157.0467 234.6903 156.4678 234.6981 156.4581 233.9939 155.8904 233.2796 155.3336 232.5561 154.7881 231.8238 154.2546 231.0835 153.7334 231.0904 153.7231 230.3413 153.2139 229.5832 152.7163 228.8167 152.2309 228.0424 151.758 227.2612 151.2981 227.2672 151.2873 226.4782 150.84 225.681 150.4052 224.8765 149.9831 224.0653 149.5742 223.2482 149.1788 223.2533 149.1676 222.4294 148.7855 221.5985 148.4163 220.7612 148.0606 219.9184 147.7185 219.0707 147.3904 219.0749 147.379 218.2216 147.0646 217.3623 146.7639 216.4977 146.477 215.6287 146.2042 214.7561 145.9457 214.7592 145.9341 213.8821 145.6898 213 145.4596 212.1139 145.2436 211.2245 145.0421 210.3325 144.8552 210.3347 144.8434 209.4395 144.6711 208.5405 144.5131 207.6386 144.3697 206.7346 144.241 205.8292 144.1271 205.8304 144.1152 204.923 144.016 204.013 143.9316 203.1012 143.8619 202.1886 143.807 201.2758 143.767 201.2761 143.7551 200.3624 143.73 199.4474 143.7198 198.5318 143.7244 197.6166 143.7439 196.7024 143.7783 196.7017 143.7666 195.7879 143.8159 194.8739 143.8801 193.9607 143.9593 193.0489 144.0532 192.1394 144.1619 192.1378 144.1503 191.2298 144.2739 190.323 144.4124 189.4181 144.5657 188.5158 144.7337 187.6171 144.9161 187.6145 144.9048 186.7185 145.102 185.8248 145.314 184.9343 145.5407 184.0476 145.7817 183.1656 146.0369 183.1621 146.0259 182.284 146.2957 181.4095 146.58 180.5392 146.8786 179.674 147.1913 178.8146 147.5177 178.8103 147.5071 177.956 147.8477 177.1064 148.2026 176.2623 148.5714 175.4243 148.9539 174.5933 149.3496 174.5882 149.3395 173.7634 149.7489 172.9445 150.1721 172.1321 150.6089 171.3271 151.0587 170.53 151.5212 170.5241 151.5116 169.7344 151.9872 168.9517 152.4762 168.1766 152.9782 167.4099 153.4925 166.6521 154.0189 166.6455 154.0099 165.8962 154.5488 165.1549 155.1005 164.4223 155.6644 163.6991 156.24 162.9858 156.827 162.9785 156.8185 162.2747 157.4173 161.5799 158.0281 160.8947 158.6504 160.2199 159.2837 159.5559 159.9275 159.548 159.9197 158.8944 160.5744 158.2508 161.2405 157.6178 161.9172 156.9959 162.604 156.3857 163.3004 156.3773 163.2934 155.7783 163.9999 155.1903 164.7169 154.6137 165.4436 154.0491 166.1796 153.4969 166.9241 153.488 166.9178 152.9478 167.6716 152.4194 168.4348 151.9032 169.2069 151.3997 169.9873 150.9093 170.7751 150.9 170.7696 150.4223 171.5657 149.9571 172.3702 149.5049 173.1827 149.066 174.0023 148.6407 174.8283 148.6311 174.8236 148.2192 175.6568 147.8206 176.4975 147.4354 177.3449 147.0642 178.1984 146.707 179.0573 146.6971 179.0534 146.354 179.9183 146.0246 180.7895 145.7092 181.6664 145.4082 182.5483 145.1218 183.4343 145.1117 183.4312 144.8396 184.3222 144.5819 185.2183 144.3386 186.1189 144.11 187.0233 143.8963 187.9307 143.886 187.9285 143.687 188.8396 143.5028 189.7547 143.3333 190.6731 143.1788 191.5941 143.0394 192.5169 143.0291 192.5155 142.9047 193.4408 142.7953 194.3689 142.7009 195.299 142.6217 196.2305 142.5578 197.1626 142.5477 197.1621 142.499 198.0954 142.4657 199.0303 142.4475 199.9661 142.4446 200.9019 142.457 201.837 142.4472 201.8374 142.475 202.7725 142.518 203.708 142.5764 204.643 142.6499 205.5769 142.7387 206.5089 142.7293 206.5099 142.8334 207.4406 142.9528 208.3703 143.0874 209.2984 143.2371 210.2241 143.4017 211.1466 143.3929 211.1483 143.5727 212.0682 143.7678 212.986 143.9778 213.9009 144.2028 214.8121 144.4424 215.7189 144.4341 215.7212 144.6886 216.6242 144.9582 217.5238 145.2425 218.4193 145.5413 219.3099 145.8543 220.1949 145.8466 220.1978 146.1743 221.0777 146.5167 221.9531 146.8734 222.8231 147.2442 223.6871 147.6287 224.5443 147.6216 224.5476 148.0204 225.3986 148.4333 226.2438 148.8602 227.0825 149.3006 227.914 149.7542 228.7376 149.7478 228.7413 150.215 229.5576 150.6959 230.3668 151.1902 231.1685 151.6973 231.9619 152.217 232.7463 152.2112 232.7503 152.7439 233.5263 153.2897 234.2942 153.8481 235.0534 154.4187 235.8033 155.0011 236.5433 154.996 236.5475 155.5906 237.2779 156.1976 237.9992 156.8165 238.7108 157.4469 239.4121 158.0882 240.1025 158.0836 240.1069 158.7363 240.7868 159.4006 241.4566 160.076 242.1157 160.7619 242.7637 161.4578 243.3999 161.4539 243.4043 162.1603 244.0291 162.8775 244.6428 163.6048 245.245 164.3418 245.8351 165.0877 246.4128 165.0844 246.4171 165.8399 246.9825 166.6052 247.536 167.3797 248.0772 168.1627 248.6055 168.9538 249.1206 168.9511 249.1249 169.7506 249.627 170.5589 250.1165 171.3754 250.5929 172.1994 251.0558 173.0302 251.5049 173.0281 251.509 173.8663 251.9445 174.7123 252.3665 175.5653 252.7749 176.4247 253.1692 177.2899 253.5492 177.2882 253.5531 178.1596 253.9189 179.0376 254.2707 179.9215 254.6082 180.8106 254.9312 181.7042 255.2395 181.703 255.2432 182.6017 255.5367 183.5058 255.8158 184.4147 256.0802 185.3275 256.3297 186.2437 256.5641 186.2428 256.5675 187.1628 256.7868 188.0871 256.9913 189.0148 257.1807 189.9453 257.355 190.8778 257.5139 190.8774 257.5169 191.8125 257.6605 192.7506 257.7889 193.691 257.902 194.6329 257.9998 195.5756 258.0821 195.5754 258.0848 196.5194 258.1516 197.4651 258.2031 198.4119 258.2391 199.3589 258.2597 200.3054 258.2648 200.3054 258.2671 201.252 258.2567 202.199 258.2308 203.1457 258.1894 204.0915 258.1327 205.0355 258.0605 205.0356 258.0624 205.9784 257.9748 206.9203 257.8717 207.8607 257.7532 208.7988 257.6194 209.734 257.4705 209.7342 257.472 210.6668 257.3077 211.5973 257.128 212.5251 256.9331 213.4493 256.7232 214.3693 256.4985 214.3696 256.4996 215.2858 256.2597 216.1987 256.0047 217.1075 255.7347 218.0117 255.4501 218.9103 255.1509 218.9106 255.1516 219.8042 254.8378 220.6933 254.5091 221.5772 254.1659 222.4551 253.8084 223.3264 253.4369 223.3266 253.4372 224.1917 253.0515 225.051 252.6513 225.904 252.2371 226.7499 251.8092 227.588 251.3678 227.5879 251.3678 228.4187 250.9127 229.2425 250.4438 230.0588 249.9613 230.867 249.4658 231.6662 248.9576 231.666 248.9572 232.4568 248.4359 233.2396 247.9013 234.0138 247.3539 234.7788 246.7941 235.5339 246.2224 235.5334 246.2217 236.2789 245.6377 237.0155 245.0411 237.7424 244.4324 238.459 243.8121 239.1649 243.1807 239.1641 243.1798 239.8594 242.5369 240.5447 241.8823 241.2194 241.2164 241.883 240.5398 242.5349 239.853 242.5349 239.853 241.8808 240.5376 241.2151 241.2121 240.5385 241.8758 239.8514 242.5284 239.1544 243.1692 239.1536 243.1683 238.4464 243.7977 237.7285 244.4161 237.0006 245.023 236.2632 245.6178 235.5168 246.2002 235.5163 246.1995 234.7606 246.7697 233.9952 247.328 233.2207 247.8741 232.4377 248.4074 231.6468 248.9275 231.6466 248.9271 230.8474 249.4344 230.0394 249.9291 229.2234 250.4108 228.3999 250.8791 227.5696 251.3336 227.5696 251.3336 226.732 251.7747 225.8868 252.2024 225.0345 252.6166 224.1759 253.0169 223.3116 253.4029 223.3117 253.4032 222.4413 253.7752 221.5642 254.1334 220.6813 254.4774 219.7931 254.807 218.9004 255.1219 218.9006 255.1226 218.0029 255.4231 217.0997 255.7093 216.1918 255.9809 215.2798 256.2377 214.3645 256.4796 214.3648 256.4807 213.4456 256.7077 212.5222 256.92 211.5952 257.1174 210.6653 257.2997 209.7334 257.4669 209.7336 257.4684 208.799 257.6205 207.8613 257.7575 206.9212 257.8794 205.9795 257.9861 205.0369 258.0774 205.0371 258.0794 204.0931 258.1555 203.1472 258.2163 202.2002 258.2619 201.2527 258.2922 200.3056 258.3071 200.3056 258.3094 199.3584 258.3091 198.4104 258.2933 197.4626 258.2623 196.5155 258.2159 195.5701 258.1543 195.5699 258.157 194.6255 258.0801 193.6817 257.9878 192.7391 257.8803 191.7987 257.7575 190.8611 257.6197 190.8606 257.6228 189.9252 257.4698 188.9916 257.3015 188.0605 257.1182 187.1328 256.9198 186.209 256.7066 186.2082 256.71 185.2879 256.4819 184.3706 256.2387 183.4571 255.9807 182.548 255.7079 181.6442 255.4207 181.643 255.4244 180.7437 255.1226 179.8487 254.806 178.9587 254.4748 178.0743 254.1294 177.1962 253.77 177.1945 253.774 176.3223 253.4003 175.4554 253.0123 174.5946 252.6102 173.7406 252.1943 172.8941 251.7649 172.8919 251.7691 172.0522 251.326 171.2192 250.869 170.3933 250.3985 169.5753 249.9147 168.7657 249.4181 168.763 249.4224 167.9615 248.9127 167.1676 248.3897 166.3821 247.8537 165.6054 247.3051 164.8382 246.7445 164.8349 246.7489 164.0767 246.1758 163.3273 245.59 162.5872 244.9919 161.8569 244.3821 161.1371 243.761 161.1332 243.7654 160.4234 243.1325 159.7233 242.4877 159.0335 241.8315 158.3545 241.1643 157.6868 240.4866 157.6823 240.4909 157.0255 239.8024 156.3793 239.1027 155.7444 238.3924 155.121 237.6721 154.5099 236.9422 154.5047 236.9464 153.9053 236.2066 153.3174 235.4565 152.7415 234.6967 152.178 233.9278 151.6274 233.1505 151.6216 233.1544 151.0835 232.3681 150.5577 231.5724 150.0446 230.768 149.5447 229.9555 149.0584 229.1356 149.0519 229.1393 148.5787 228.3114 148.1186 227.4752 147.6719 226.6313 147.2389 225.7805 146.82 224.9233 146.8129 224.9266 146.4079 224.0625 146.0165 223.1912 145.6391 222.3133 145.2759 221.4296 144.9274 220.5406 144.9197 220.5435 144.5854 219.6487 144.2655 218.7479 143.9599 217.8417 143.6691 216.9307 143.3933 216.0157 143.385 216.018 143.1239 215.0984 142.8775 214.1739 142.646 213.2451 142.4295 212.3128 142.2283 211.3777 142.2195 211.3794 142.0334 210.4408 141.8623 209.4986 141.7064 208.5532 141.5659 207.6056 141.4407 206.6564 141.4314 206.6575 141.3216 205.706 141.2271 204.7521 141.148 203.7964 141.0844 202.8395 141.0363 201.8824 141.0265 201.8827 140.9939 200.9246 140.9768 199.9652 140.9752 199.0052 140.989 198.0454 141.0185 197.0865 141.0083 197.086 141.0532 196.1274 141.1137 195.1688 141.1897 194.2108 141.2813 193.2543 141.3883 192.3 141.3779 192.2986 141.5005 191.3458 141.6386 190.3942 141.7922 189.4446 141.9612 188.4976 142.1455 187.5541 142.1352 187.5519 142.3349 186.6111 142.55 185.6729 142.7804 184.7378 143.0259 183.8067 143.2863 182.8802 143.2762 182.8772 143.5518 181.9547 143.8426 181.036 144.1484 180.1218 144.4689 179.2127 144.804 178.3094 144.7941 178.3055 145.144 177.4075 145.5088 176.5145 145.8881 175.6271 146.2818 174.746 146.6895 173.872 146.6798 173.8673 147.1019 172.9996 147.5383 172.1382 147.9889 171.2836 148.4532 170.4364 148.931 169.5974 148.9217 169.5919 149.4132 168.7604 149.9187 167.9363 150.4377 167.1202 150.9698 166.3126 151.5146 165.5142 151.5057 165.5079 152.0637 164.7182 152.635 163.937 153.2191 163.1648 153.8156 162.4022 154.4241 161.6498 154.4157 161.6427 155.0365 160.9001 155.67 160.1669 156.3155 159.4439 156.9726 158.7314 157.6409 158.03 157.633 158.0223 158.3128 157.3316 159.0044 156.6515 159.7072 155.9825 160.4208 155.3249 161.1445 154.6794 161.1373 154.6709 161.8717 154.037 162.617 153.4145 163.3726 152.804 164.138 152.2058 164.9126 151.6204 164.906 151.6114 165.6903 151.0385 166.4845 150.4779 167.2881 149.93 168.1004 149.3953 168.9208 148.8741 168.915 148.8644 169.7441 148.3565 170.5821 147.8616 171.4284 147.3802 172.2824 146.9126 173.1434 146.4591 173.1383 146.449 174.0069 146.0094 174.8833 145.5837 175.7668 145.172 176.6569 144.7747 177.5529 144.3922 177.5486 144.3816 178.451 144.0135 179.3601 143.6598 180.2752 143.3208 181.1956 142.9967 182.1207 142.6877 182.1173 142.6767 183.0477 142.3827 183.9835 142.1037 184.9242 141.8397 185.8689 141.591 186.8172 141.3578 186.8146 141.3465 187.7669 141.1287 188.7234 140.9262 189.6835 140.7392 190.6464 140.5677 191.6115 140.4121 191.6099 140.4005 192.5778 140.2605 193.5487 140.1361 194.5219 140.0274 195.4967 139.9346 196.4725 139.8576 196.4718 139.8459 197.449 139.7847 198.4279 139.7395 199.4079 139.7101 200.3882 139.6966 201.3681 139.699 201.3684 139.6872 202.3485 139.7055 203.329 139.7399 204.3093 139.7901 205.2886 139.8563 206.2662 139.9383 206.2675 139.9264 207.244 140.0243 208.2197 140.1382 209.1938 140.268 210.1657 140.4135 211.1346 140.5747 211.1368 140.5629 212.1033 140.74 213.0677 140.9329 214.0292 141.1414 214.9872 141.3656 215.941 141.6052 215.9442 141.5935 216.8943 141.8487 217.841 142.1195 218.7835 142.4057 219.7213 142.7072 220.6536 143.0237 220.6578 143.0123 221.5852 143.3441 222.5079 143.6912 223.4252 144.0534 224.3365 144.4304 225.2412 144.8219 225.2463 144.8108 226.1449 145.2172 227.0374 145.6385 227.9234 146.0745 228.8022 146.5247 229.6732 146.9889 229.6792 146.9782 230.5429 147.4567 231.3994 147.9497 232.2481 148.4566 233.0886 148.9773 233.92 149.5113 233.9269 149.501 234.7499 150.0487 235.5646 150.6102 236.3704 151.185 237.1668 151.7729 237.9532 152.3733 237.961 152.3636 238.7378 152.977 239.5052 153.6034 240.2627 154.2425 241.0096 154.8938 241.7456 155.5569 241.7542 155.5477 242.4796 156.223 243.1946 156.9105 243.8985 157.6098 244.5911 158.3204 245.2717 159.0419 245.2811 159.0334 245.9502 159.7661 246.6078 160.5103 247.2535 161.2653 247.8869 162.0307 248.5076 162.806 248.5176 162.7983 249.1258 163.5839 249.7217 164.3799 250.3047 165.1858 250.8747 166.0011 251.4311 166.8252\"/>\n",
       "<polygon fill=\"rgba(40,40,40,1)\" points=\"160.4074 130.4808 160.865 130.2413 161.3242 130.0048 161.7848 129.7712 162.2467 129.5407 162.71 129.3132 162.7178 129.3279 163.1823 129.1034 163.6482 128.882 164.1155 128.6636 164.584 128.4483 165.0538 128.2361 165.061 128.2509 165.5319 128.0418 166.0041 127.8357 166.4776 127.6327 166.9522 127.4328 167.4279 127.236 167.4346 127.251 167.9114 127.0573 168.3894 126.8667 168.8685 126.6792 169.3487 126.4949 169.83 126.3137 169.8361 126.3288 170.3183 126.1507 170.8016 125.9758 171.2859 125.804 171.7711 125.6354 172.2573 125.47 172.263 125.4851 172.75 125.3229 173.238 125.1638 173.727 125.0078 174.2168 124.855 174.7075 124.7055 174.7126 124.7207 175.204 124.5744 175.6963 124.4312 176.1894 124.2912 176.6833 124.1544 177.1779 124.0208 177.1825 124.0361 177.6777 123.9057 178.1737 123.7786 178.6705 123.6546 179.1679 123.5339 179.6659 123.4164 179.67 123.4318 180.1686 123.3175 180.6678 123.2065 181.1677 123.0987 181.6681 122.9941 182.169 122.8928 182.1726 122.9082 182.674 122.8101 183.1759 122.7152 183.6784 122.6236 184.1813 122.5353 184.6846 122.4502 184.6877 122.4656 185.1913 122.3838 185.6955 122.3052 186.2 122.2299 186.7049 122.1578 187.2101 122.089 187.2126 122.1044 187.7181 122.0388 188.2238 121.9766 188.7299 121.9175 189.2363 121.8618 189.7428 121.8093 189.7449 121.8246 190.2515 121.7754 190.7584 121.7294 191.2656 121.6868 191.7729 121.6473 192.2802 121.6112 192.2817 121.6265 192.7891 121.5936 193.2967 121.5639 193.8043 121.5376 194.312 121.5145 194.8197 121.4947 194.8207 121.5099 195.3283 121.4933 195.8359 121.48 196.3435 121.47 196.8511 121.4632 197.3586 121.4597 197.3591 121.4748 197.8663 121.4746 198.3736 121.4776 198.8807 121.4838 199.3876 121.4933 199.8943 121.5061 199.8943 121.5211 200.4008 121.5371 200.907 121.5564 201.4131 121.5789 201.9189 121.6046 202.4243 121.6336 202.4239 121.6486 202.929 121.6808 203.4338 121.7162 203.9383 121.7549 204.4424 121.7968 204.9461 121.842 204.9451 121.8568 205.4483 121.9051 205.9512 121.9567 206.4536 122.0115 206.9555 122.0695 207.4569 122.1307 207.4555 122.1454 207.9564 122.2098 208.4567 122.2774 208.9565 122.3482 209.4558 122.4222 209.9544 122.4994 209.9526 122.5139 210.4505 122.5943 210.9478 122.6778 211.4446 122.7646 211.9407 122.8544 212.436 122.9475 212.4337 122.9619 212.9282 123.058 213.4221 123.1574 213.9152 123.2599 214.4076 123.3655 214.8991 123.4743 214.8964 123.4885 215.387 123.6004 215.8769 123.7154 216.3659 123.8335 216.8541 123.9548 217.3414 124.0791 217.3382 124.0931 217.8244 124.2205 218.3098 124.3511 218.7943 124.4847 219.2778 124.6214 219.7603 124.7612 219.7567 124.775 220.2381 124.9178 220.7185 125.0637 221.1979 125.2126 221.6762 125.3646 222.1534 125.5196 222.1494 125.5332 222.6254 125.6912 223.1004 125.8522 223.5743 126.0163 224.047 126.1834 224.5184 126.3534 224.514 126.3668 224.9842 126.5398 225.4533 126.7158 225.9211 126.8948 226.3877 127.0768 226.853 127.2617 226.8481 127.2747 227.312 127.4625 227.7747 127.6533 228.2361 127.847 228.6961 128.0437 229.1547 128.2432 229.1495 128.256 229.6066 128.4584 230.0624 128.6637 230.5168 128.8719 230.9698 129.0829 231.4213 129.2969 231.4157 129.3094 231.8656 129.5261 232.3141 129.7457 232.7612 129.9681 233.2066 130.1934 233.6505 130.4214 233.6446 130.4337 234.0869 130.6645 234.5276 130.8981 234.9668 131.1345 235.4044 131.3736 235.8404 131.6154 235.8342 131.6272 236.2685 131.8716 236.7013 132.1187 237.1324 132.3684 237.5618 132.6208 237.9896 132.8759 237.9833 132.887 238.4093 133.1446 238.8337 133.4048 239.2563 133.6677 239.6773 133.9331 240.0964 134.2011 240.09 134.2116 240.5074 134.4821 240.923 134.7552 241.3368 135.0308 241.7488 135.309 242.159 135.5897 242.1526 135.5996 242.5609 135.8827 242.9674 136.1684 243.372 136.4566 243.7748 136.7472 244.1756 137.0404 244.1691 137.0496 244.568 137.3451 244.965 137.643 245.3601 137.9434 245.7532 138.2463 246.1443 138.5515 246.1379 138.5601 246.527 138.8676 246.9141 139.1776 247.2993 139.4899 247.6825 139.8047 248.0635 140.1217 248.0571 140.1297 248.4361 140.4489 248.8131 140.7706 249.188 141.0945 249.5608 141.4208 249.9315 141.7493 249.9252 141.7567 250.2937 142.0874 250.6602 142.4204 251.0245 142.7557 251.3867 143.0931 251.7466 143.4328 251.7404 143.4396 252.0982 143.7814 252.4538 144.1254 252.8072 144.4716 253.1584 144.82 253.5073 145.1705 253.5012 145.1767 253.8479 145.5293 254.1923 145.884 254.5345 146.2409 254.8744 146.5998 255.212 146.9608 255.2061 146.9664 255.5413 147.3294 255.8743 147.6945 256.205 148.0616 256.5333 148.4307 256.8592 148.8018 256.8535 148.807 257.1771 149.18 257.4983 149.555 257.8171 149.9321 258.1335 150.3111 258.4475 150.6919 258.442 150.6965 258.7536 151.0793 259.0628 151.4639 259.3695 151.8505 259.6738 152.239 259.9755 152.6293 259.9703 152.6334 260.2696 153.0254 260.5664 153.4194 260.8608 153.8151 261.1526 154.2127 261.4419 154.612 261.437 154.6156 261.7237 155.0166 262.008 155.4194 262.2897 155.824 262.5688 156.2303 262.8453 156.6382 262.8407 156.6414 263.1147 157.051 263.3861 157.4623 263.6549 157.8753 263.9211 158.2899 264.1846 158.7061 264.1803 158.7088 264.4413 159.1266 264.6996 159.546 264.9553 159.967 265.2083 160.3896 265.4586 160.8136 265.4547 160.816 265.7023 161.2415 265.9474 161.6686 266.1897 162.0972 266.4293 162.5273 266.6661 162.9588 266.6626 162.9608 266.8968 163.3937 267.1283 163.8281 267.357 164.264 267.583 164.7012 267.8062 165.1398 267.803 165.1414 268.0235 165.5812 268.2413 166.0225 268.4562 166.4652 268.6684 166.9091 268.8777 167.3543 268.875 167.3556 269.0816 167.8021 269.2854 168.2498 269.4864 168.6988 269.6845 169.1491 269.8798 169.6005 269.8775 169.6015 270.07 170.0541 270.2597 170.5079 270.4465 170.9629 270.6305 171.419 270.8116 171.8762 270.8097 171.8769 270.988 172.3352 271.1634 172.7947 271.3359 173.2552 271.5055 173.7168 271.6721 174.1793 271.6708 174.1798 271.8346 174.6434 271.9955 175.108 272.1536 175.5737 272.3087 176.0403 272.4608 176.5077 272.4599 176.508 272.6092 176.9764 272.7555 177.4458 272.8989 177.9161 273.0393 178.3873 273.1768 178.8593 273.1764 178.8594 273.3109 179.3322 273.4426 179.8059 273.5712 180.2805 273.6969 180.7558 273.8195 181.2318 273.8196 181.2318 273.9393 181.7086 274.0561 182.1862 274.1699 182.6645 274.2806 183.1435 274.3883 183.6232 274.3889 183.6231 274.4937 184.1034 274.5955 184.5844 274.6943 185.066 274.79 185.5483 274.8828 186.0311 274.8838 186.0309 274.9736 186.5143 275.0603 186.9983 275.144 187.4828 275.2247 187.9679 275.3023 188.4534 275.3039 188.4532 275.3785 188.9392 275.4501 189.4257 275.5187 189.9127 275.5842 190.4001 275.6466 190.8879 275.6466 190.8879 275.5882 190.3996 275.5266 189.9116 275.4618 189.4241 275.3937 188.937 275.3224 188.4503 275.324 188.4501 275.2494 187.964 275.1716 187.4783 275.0905 186.9931 275.0063 186.5084 274.9188 186.0244 274.9199 186.0242 274.8291 185.5408 274.7351 185.0579 274.6379 184.5756 274.5376 184.094 274.434 183.6131 274.4346 183.613 274.3278 183.1328 274.2177 182.6533 274.1045 182.1745 273.9882 181.6965 273.8687 181.2193 273.8687 181.2193 273.746 180.743 273.62 180.2674 273.491 179.7926 273.3587 179.3188 273.2234 178.8458 273.223 178.846 273.0844 178.374 272.9427 177.9029 272.7979 177.4327 272.6499 176.9635 272.4989 176.4954 272.498 176.4957 272.3438 176.0286 272.1865 175.5625 272.0261 175.0974 271.8626 174.6335 271.6961 174.1707 271.6947 174.1712 271.5251 173.7096 271.3524 173.249 271.1766 172.7896 270.9978 172.3314 270.816 171.8745 270.8141 171.8752 270.6292 171.4195 270.4413 170.9651 270.2503 170.5118 270.0563 170.0599 269.8594 169.6094 269.8571 169.6104 269.6572 169.1612 269.4542 168.7133 269.2483 168.2668 269.0395 167.8217 268.8277 167.378 268.825 167.3793 268.6102 166.9372 268.3925 166.4964 268.1719 166.0571 267.9484 165.6193 267.722 165.183 267.7189 165.1846 267.4896 164.75 267.2574 164.3168 267.0223 163.8852 266.7844 163.4552 266.5437 163.0269 266.5401 163.0288 266.2966 162.6022 266.0501 162.1771 265.8009 161.7537 265.5489 161.332 265.2941 160.9121 265.2902 160.9144 265.0326 160.4963 264.7722 160.0798 264.5091 159.6651 264.2433 159.2522 263.9747 158.8411 263.9705 158.8439 263.6992 158.4347 263.4252 158.0273 263.1485 157.6217 262.8692 157.218 262.5872 156.8163 262.5826 156.8195 262.298 156.4197 262.0107 156.0219 261.7208 155.6259 261.4283 155.2319 261.1332 154.84 261.1283 154.8436 260.8307 154.4538 260.5304 154.0659 260.2276 153.68 259.9223 153.2961 259.6145 152.9144 259.6093 152.9185 259.2989 152.539 258.9861 152.1615 258.6707 151.7861 258.353 151.4129 258.0328 151.0418 258.0273 151.0464 257.7047 150.6776 257.3796 150.311 257.0521 149.9465 256.7222 149.5842 256.3901 149.2243 256.3844 149.2294 256.0498 148.8718 255.7129 148.5163 255.3736 148.1632 255.0321 147.8124 254.6883 147.4639 254.6824 147.4695 254.3363 147.1235 253.9879 146.7797 253.6373 146.4382 253.2845 146.0992 252.9295 145.7626 252.9235 145.7688 252.5663 145.4347 252.2069 145.1029 251.8453 144.7736 251.4816 144.4467 251.1159 144.1223 251.1097 144.1291 250.7418 143.8073 250.3718 143.4879 249.9997 143.1711 249.6256 142.8567 249.2495 142.5449 249.2432 142.5523 248.8651 142.2431 248.4849 141.9365 248.1028 141.6325 247.7187 141.331 247.3327 141.0321 247.3263 141.0401 246.9384 140.744 246.5485 140.4504 246.1568 140.1595 245.7632 139.8712 245.3677 139.5856 245.3613 139.5942 244.964 139.3114 244.5649 139.0313 244.164 138.7538 243.7614 138.479 243.357 138.207 243.3505 138.2162 242.9444 137.947 242.5365 137.6806 242.127 137.4169 241.7157 137.1559 241.3029 136.8978 241.2964 136.9076 240.8819 136.6523 240.4658 136.3999 240.048 136.1502 239.6287 135.9033 239.2078 135.6593 239.2014 135.6698 238.7791 135.4287 238.3551 135.1905 237.9297 134.9551 237.5027 134.7225 237.0744 134.4929 237.0681 134.5041 236.6384 134.2774 236.2071 134.0537 235.7745 133.8328 235.3405 133.6149 234.9051 133.3999 234.899 133.4117 234.4623 133.1998 234.0243 132.9907 233.585 132.7846 233.1445 132.5814 232.7027 132.3812 232.6968 132.3934 232.254 132.1961 231.8098 132.0017 231.3645 131.8102 230.9181 131.6217 230.4706 131.4361 230.465 131.4486 230.0164 131.266 229.5667 131.0863 229.1159 130.9096 228.6641 130.7359 228.2113 130.5651 228.2061 130.5779 227.7523 130.4102 227.2975 130.2454 226.8417 130.0836 226.3849 129.9248 225.9273 129.769 225.9225 129.7821 225.464 129.6294 225.0046 129.4796 224.5443 129.3329 224.0831 129.1892 223.6212 129.0485 223.6168 129.0619 223.1541 128.9243 222.6906 128.7897 222.2262 128.6582 221.7612 128.5297 221.2954 128.4043 221.2914 128.4178 220.825 128.2955 220.3579 128.1762 219.8901 128.0599 219.4216 127.9468 218.9526 127.8367 218.9489 127.8504 218.4794 127.7435 218.0091 127.6395 217.5383 127.5387 217.067 127.4409 216.5951 127.3462 216.5919 127.3602 216.1197 127.2687 215.6468 127.1802 215.1735 127.0948 214.6998 127.0125 214.2257 126.9333 214.2229 126.9475 213.7485 126.8714 213.2736 126.7985 212.7983 126.7286 212.3227 126.6618 211.8468 126.5981 211.8445 126.6125 211.3684 126.552 210.8919 126.4946 210.4151 126.4402 209.9381 126.389 209.461 126.3409 209.4591 126.3555 208.9819 126.3105 208.5044 126.2687 208.0266 126.2299 207.5488 126.1943 207.0709 126.1618 207.0695 126.1764 206.5916 126.1471 206.1135 126.1208 205.6354 126.0976 205.1572 126.0776 204.6791 126.0607 204.6782 126.0755 204.2001 126.0617 203.722 126.051 203.244 126.0434 202.766 126.0389 202.2881 126.0375 202.2876 126.0525 201.81 126.0542 201.3324 126.0591 200.8549 126.067 200.3776 126.0781 199.9005 126.0922 199.9005 126.1073 199.4237 126.1245 198.9471 126.1449 198.4707 126.1683 197.9946 126.1949 197.5188 126.2245 197.5193 126.2396 197.0439 126.2724 196.5688 126.3082 196.094 126.347 195.6196 126.389 195.1456 126.434 195.1466 126.4492 194.6731 126.4973 194.2 126.5485 193.7273 126.6027 193.2551 126.66 192.7834 126.7204 192.7849 126.7357 192.3138 126.7991 191.8432 126.8655 191.3731 126.935 190.9035 127.0075 190.4347 127.0831 190.4367 127.0984 189.9685 127.177 189.5009 127.2586 189.0338 127.3433 188.5675 127.4309 188.1019 127.5216 188.1044 127.5369 187.6396 127.6306 187.1755 127.7272 186.7121 127.8269 186.2494 127.9295 185.7876 128.0351 185.7906 128.0505 185.3297 128.1591 184.8696 128.2707 184.4102 128.3852 183.9517 128.5027 183.4942 128.6231 183.4977 128.6385 183.0412 128.7619 182.5855 128.8882 182.1307 129.0174 181.6768 129.1496 181.224 129.2846 181.2281 129.3 180.7764 129.438 180.3256 129.5789 179.8758 129.7226 179.4271 129.8693 178.9795 130.0188 178.9841 130.0341 178.5377 130.1865 178.0923 130.3418 177.6481 130.4999 177.2049 130.6609 176.763 130.8247 176.7682 130.84 176.3275 131.0066 175.888 131.176 175.4497 131.3483 175.0126 131.5234 174.5768 131.7012 174.5825 131.7164 174.1481 131.897 173.7149 132.0805 173.283 132.2667 172.8524 132.4556 172.4232 132.6473 172.4294 132.6624 172.0016 132.8568 171.5752 133.0539 171.1501 133.2538 170.7265 133.4564 170.3043 133.6617 170.311 133.6766 169.8904 133.8846 169.4712 134.0952 169.0534 134.3085 168.6371 134.5245 168.2225 134.7431 168.2297 134.7579 167.8166 134.9791 167.405 135.203 166.995 135.4295 166.5865 135.6586 166.1797 135.8902 166.1874 135.9049 165.7823 136.1391 165.3788 136.376 164.9769 136.6153 164.5766 136.8573 164.1781 137.1017\"/>\n",
       "<polygon fill=\"rgba(40,40,40,1)\" points=\"294.7893 180.7747 294.5478 179.5146 294.2893 178.2567 294.014 177.0018 293.7221 175.7506 293.4137 174.504 293.4351 174.4982 293.11 173.2552 292.7681 172.0155 292.4095 170.78 292.0346 169.5493 291.6436 168.3242 291.6644 168.317 291.2569 167.0967 290.8328 165.8808 290.3924 164.6702 289.936 163.4655 289.4638 162.2675 289.484 162.2589 288.9956 161.0668 288.491 159.8802 287.9705 158.6999 287.4343 157.5265 286.8828 156.3609 286.9023 156.3512 286.3351 155.1925 285.752 154.0405 285.1534 152.8958 284.5397 151.7592 283.9111 150.6313 283.9298 150.6203 283.286 149.5004 282.6268 148.3882 281.9526 147.2843 281.2638 146.1895 280.5609 145.1044 280.5786 145.0923 279.8609 144.0162 279.1284 142.9488 278.3814 141.8908 277.6204 140.8428 276.8459 139.8054 276.8627 139.7922 276.074 138.7648 275.2711 137.7471 274.4545 136.7397 273.6245 135.7432 272.7816 134.7582 272.7974 134.7441 271.9412 133.77 271.0713 132.8066 270.1884 131.8545 269.2929 130.9141 268.3853 129.9861 268.4001 129.971 267.4798 129.0548 266.5467 128.1502 265.6013 127.2576 264.644 126.3777 263.6756 125.5109 263.6892 125.495 262.7089 124.6408 261.7165 123.799 260.7126 122.9702 259.6977 122.1547 258.6725 121.3531 258.685 121.3364 257.6488 120.5483 256.6013 119.7733 255.5432 119.012 254.4751 118.2648 253.3976 117.5321 253.4088 117.5148 252.3212 116.7962 251.2232 116.0917 250.1154 115.4014 248.9986 114.726 247.8734 114.0657 247.8834 114.0477 246.749 113.4022 245.6052 112.7713 244.4527 112.1554 243.292 111.5549 242.124 110.97 242.1327 110.9516 240.9565 110.3821 239.7719 109.8279 238.5795 109.2893 237.38 108.7665 236.1742 108.2599 236.1817 108.241 234.9687 107.7503 233.7484 107.2754 232.5213 106.8166 231.2883 106.3741 230.05 105.9482 230.0561 105.929 228.8117 105.5194 227.561 105.1262 226.3047 104.7494 225.0435 104.3893 223.7781 104.0461 223.7829 104.0267 222.5125 103.7003 221.2369 103.3906 219.9567 103.0977 218.6728 102.8219 217.3859 102.5632 217.3894 102.5437 216.0986 102.3021 214.8036 102.0775 213.5053 101.87 212.2044 101.6798 210.9015 101.507 210.9037 101.4874 209.5981 101.3319 208.2896 101.1936 206.9788 101.0727 205.6665 100.9692 204.3535 100.8831 204.3544 100.8636 203.0398 100.795 201.7234 100.7439 200.4059 100.7103 199.0881 100.6941 197.7707 100.6955 197.7703 100.6761 196.4525 100.695 195.1341 100.7314 193.8157 100.7854 192.4982 100.8569 191.1823 100.9459 191.1806 100.9267 189.8655 101.0332 188.5508 101.1573 187.2375 101.2989 185.9261 101.4579 184.6175 101.6342 184.6145 101.6153 183.3078 101.8092 182.0028 102.0205 180.7003 102.2493 179.4009 102.4953 178.1053 102.7585 178.1012 102.7399 176.8088 103.0205 175.5192 103.3184 174.2333 103.6335 172.9516 103.9657 171.675 104.3147 171.6696 104.2966 170.3972 104.6627 169.1289 105.0461 167.8653 105.4464 166.6071 105.8634 165.355 106.2969 165.3485 106.2793 164.1019 106.7297 162.8604 107.1969 161.6247 107.6808 160.3956 108.181 159.1737 108.6973 159.1662 108.6803 157.9508 109.213 156.7417 109.7623 155.5396 110.3278 154.3451 110.9092 153.1589 111.5062 153.1503 111.4898 151.9717 112.1028 150.8005 112.7318 149.6373 113.3766 148.4828 114.0368 147.3375 114.7119 147.3279 114.6963 146.1914 115.387 145.0633 116.0932 143.9443 116.8146 142.8349 117.5507 141.7359 118.3013 141.7253 118.2865 140.6359 119.0519 139.5561 119.8323 138.4863 120.6273 137.4272 121.4365 136.3794 122.2594 136.3681 122.2456 135.3311 123.0829 134.3047 123.9345 133.2893 124.8001 132.2856 125.6792 131.2941 126.5712 131.2824 126.5587 130.3026 127.4643 129.3344 128.3836 128.3782 129.316 127.4345 130.2611 126.5039 131.2184 126.4919 131.2072 125.5739 132.1772 124.6684 133.16 123.7757 134.1553 122.8965 135.1623 122.0311 136.1805 122.0189 136.1706 121.167 137.2007 120.3284 138.2429 119.5034 139.2965 118.6927 140.361 117.8965 141.4358 117.8843 141.427 117.1024 142.5128 116.3346 143.6096 115.5812 144.717 114.8427 145.8343 114.1195 146.9608 114.1073 146.9533 113.3991 148.0898 112.7057 149.2365 112.0275 150.3927 111.3647 151.5578 110.7178 152.7311 110.7058 152.7247 110.0746 153.907 109.4588 155.0984 108.8589 156.2983 108.275 157.5061 107.7075 158.721 107.6956 158.7157 107.1444 159.9384 106.6092 161.1693 106.0904 162.4075 105.5881 163.6525 105.1027 164.9035 105.0912 164.8993 104.6225 166.157 104.1704 167.4218 103.7351 168.6929 103.3168 169.9695 102.9158 171.2511 102.9047 171.2478 102.5209 172.535 102.154 173.8281 101.8044 175.1262 101.4721 176.4289 101.1574 177.7353 101.1467 177.7329 100.8496 179.0437 100.5697 180.3592 100.3074 181.6787 100.0628 183.0015 99.8359 184.3268 99.8258 184.3252 99.6167 185.6538 99.4253 186.9858 99.2516 188.3207 99.0958 189.6576 98.9578 190.996 98.9483 190.9951 98.8284 192.3354 98.7264 193.6781 98.6422 195.0223 98.576 196.3674 98.5277 197.7127 98.5189 197.7125 98.4888 199.0586 98.4766 200.4057 98.4825 201.7533 98.5063 203.1005 98.548 204.4467 98.5399 204.4471 98.5998 205.7928 98.6777 207.1384 98.7736 208.4832 98.8874 209.8265 99.019 211.1675 99.0116 211.1683 99.1613 212.5076 99.329 213.8456 99.5146 215.1816 99.718 216.5148 99.939 217.8446 99.9323 217.8458 100.1713 219.1727 100.4281 220.497 100.7026 221.8181 100.9947 223.1353 101.3042 224.4479 101.2983 224.4494 101.6255 225.7578 101.9703 227.0625 102.3326 228.3628 102.7122 229.658 103.1088 230.9474 103.1037 230.949 103.5176 232.2331 103.949 233.5123 104.3975 234.7858 104.8629 236.0532 105.3449 237.3136 105.3405 237.3153 105.8395 238.5692 106.3555 239.8171 106.8882 241.0582 107.4373 242.292 108.0026 243.5177 107.999 243.5194 108.5808 244.7375 109.1791 245.9484 109.7937 247.1514 110.4241 248.346 111.0702 249.5315 111.0673 249.5331 111.7293 250.7099 112.4073 251.8783 113.101 253.0379 113.81 254.1879 114.5339 255.3278 114.5317 255.3292 115.2709 256.4593 116.0256 257.58 116.7953 258.6908 117.5797 259.7911 118.3782 260.8802 118.3767 260.8814 119.1899 261.9597 120.0178 263.0276 120.8601 264.0846 121.7163 265.1302 122.5859 266.1636 122.585 266.1645 123.4684 267.1861 124.366 268.1965 125.2771 269.1949 126.2012 270.181 127.138 271.1541 127.1376 271.1545 128.0874 272.115 129.0504 273.0631 130.0262 273.9985 131.0142 274.9207 132.0139 275.8291 132.014 275.829 133.0258 276.7238 134.0501 277.6056 135.0862 278.4737 136.1336 279.3278 137.1917 280.1673 137.1922 280.1667 138.2615 280.9919 139.3423 281.8032 140.434 282.6002 141.5361 283.3823 142.6478 284.1493 142.6487 284.1481 143.7707 284.9 144.9031 285.6372 146.0456 286.3594 147.1973 287.0661 148.3577 287.7571 148.3588 287.7552 149.5284 288.4304 150.7074 289.0903 151.8954 289.7344 153.0916 290.3626 154.2954 290.9743 154.2954 290.9743 153.0941 290.3577 151.9004 289.725 150.715 289.0765 149.5385 288.4126 148.3715 287.7336 148.3726 287.7318 147.2146 287.0376 146.0653 286.3278 144.9253 285.6028 143.7951 284.863 142.6754 284.1088 142.6763 284.1076 141.5666 283.3388 140.4666 282.5551 139.3768 281.7567 138.2978 280.9443 137.2302 280.1181 137.2307 280.1175 136.1741 279.2774 135.1281 278.423 134.0932 277.5548 133.0701 276.6732 132.0592 275.7786 132.0592 275.7785 131.0602 274.8708 130.0726 273.9494 129.0972 273.015 128.1342 272.068 127.1844 271.1088 127.1839 271.1093 126.2467 270.1377 125.3219 269.1534 124.41 268.1568 123.5114 267.1484 122.6266 266.1288 122.6257 266.1297 121.7543 265.0985 120.8962 264.0554 120.0518 263.0009 119.2214 261.9355 118.4055 260.8598 118.404 260.861 117.6023 259.7747 116.8146 258.6772 116.0412 257.5693 115.2826 256.4515 114.5392 255.3243 114.537 255.3258 113.8084 254.1889 113.0945 253.0418 112.3955 251.8853 111.712 250.7198 111.0443 249.5459 111.0413 249.5475 110.389 248.365 109.7519 247.1732 109.1305 245.9729 108.525 244.7648 107.9358 243.5493 107.9322 243.551 107.3589 242.3278 106.8015 241.0964 106.2602 239.8576 105.7354 238.6119 105.2273 237.3599 105.2229 237.3617 104.7312 236.1031 104.2559 234.8374 103.7972 233.5652 103.3553 232.2873 102.9305 231.0043 102.9254 231.006 102.5174 229.7173 102.1263 228.4227 101.7521 227.1227 101.3951 225.8181 101.0556 224.5095 101.0496 224.511 100.7272 223.1978 100.422 221.8798 100.1341 220.5576 99.8636 219.2318 99.6108 217.9032 99.6041 217.9044 99.3687 216.5724 99.1507 215.2366 98.9503 213.8977 98.7676 212.5565 98.6026 211.2135 98.5952 211.2143 98.4478 209.8692 98.3182 208.5214 98.2062 207.1716 98.1121 205.8206 98.0358 204.4692 98.0276 204.4695 97.9691 203.1169 97.9283 201.7629 97.9054 200.408 97.9004 199.0531 97.9132 197.6989 97.9043 197.6987 97.9349 196.3445 97.9833 194.9899 98.0496 193.6358 98.1338 192.2828 98.2357 190.9316 98.2262 190.9308 98.3458 189.5808 98.4834 188.2316 98.6387 186.884 98.8118 185.5387 99.0025 184.1964 98.9924 184.1948 99.2007 182.8548 99.4269 181.5168 99.6707 180.1816 99.932 178.8498 100.2108 177.5221 100.2001 177.5197 100.4964 176.1954 100.8102 174.8744 101.1416 173.5572 101.4902 172.2447 101.856 170.9373 101.8448 170.934 102.2278 169.6313 102.6282 168.3329 103.0457 167.0395 103.4803 165.7518 103.9316 164.4704 103.92 164.4662 104.3882 163.1905 104.8735 161.9204 105.3756 160.6563 105.8943 159.3991 106.4293 158.1493 106.4175 158.144 106.969 156.901 107.5372 155.6646 108.1219 154.4354 108.7226 153.2141 109.3392 152.0012 109.3271 151.9948 109.9597 150.7899 110.6086 149.5926 111.2733 148.4036 111.9537 147.2234 112.6493 146.0528 112.6371 146.0453 113.3482 144.8836 114.075 143.7306 114.8172 142.587 115.5744 141.4532 116.3462 140.3299 116.3339 140.3212 117.1206 139.2078 117.9224 138.1042 118.739 137.0109 119.5699 135.9285 120.4146 134.8575 120.4025 134.8475 121.2615 133.7873 122.135 132.7379 123.0225 131.6997 123.9237 130.6734 124.8379 129.6593 124.8259 129.6481 125.7537 128.6458 126.6953 127.6552 127.6502 126.6767 128.6178 125.7109 129.5978 124.7583 129.5861 124.7458 130.5788 123.8058 131.5845 122.8784 132.6027 121.964 133.6328 121.063 134.6744 120.176 134.6632 120.1623 135.7167 119.2887 136.7823 118.4286 137.8596 117.5823 138.948 116.7503 140.0469 115.9331 140.0364 115.9183 141.1465 115.1154 142.2679 114.3268 143.4 113.5528 144.5423 112.7939 145.6942 112.0504 145.6845 112.0348 146.8466 111.3064 148.019 110.593 149.2011 109.895 150.3924 109.2127 151.5923 108.5464 151.5836 108.53 152.7926 107.8795 154.011 107.2446 155.2381 106.6257 156.4732 106.023 157.7159 105.437 157.7083 105.42 158.9591 104.8503 160.2182 104.2969 161.4849 103.76 162.7586 103.2399 164.0388 102.7369 164.0323 102.7193 165.3194 102.2332 166.6138 101.7638 167.9147 101.3114 169.2215 100.8764 170.5335 100.4587 170.5281 100.4406 171.8461 100.0403 173.1701 99.6573 174.4996 99.2916 175.8338 98.9436 177.1721 98.6134 177.1679 98.5949 178.5109 98.2824 179.8589 97.9875 181.2111 97.7104 182.5669 97.4512 183.9256 97.2101 183.9226 97.1911 185.2849 96.968 186.651 96.7627 188.0201 96.5756 189.3916 96.4065 190.7648 96.2557 190.7631 96.2365 192.1387 96.1039 193.5169 95.9894 194.8969 95.8932 196.2781 95.8152 197.6598 95.7556 197.6594 95.7362 199.0423 95.6948 200.4266 95.6719 201.8115 95.6672 203.1964 95.6809 204.5806 95.7129 204.5814 95.6933 205.9656 95.7437 207.3499 95.8125 208.7337 95.8997 210.1162 96.0051 211.4968 96.1289 211.4989 96.1093 212.8783 96.2514 214.2566 96.4118 215.6331 96.5906 217.0071 96.7876 218.378 97.0027 218.3815 96.9832 219.75 97.2165 221.1162 97.4682 222.4794 97.738 223.8389 98.0259 225.1942 98.3316 225.199 98.3122 226.5505 98.6361 227.8986 98.978 229.2425 99.3379 230.5815 99.7156 231.915 100.1109 231.9212 100.0917 233.2499 100.5048 234.5739 100.9357 235.8925 101.3843 237.2051 101.8504 238.511 102.3336 238.5185 102.3148 239.8184 102.8155 241.1124 103.3338 242.3999 103.8693 243.6803 104.4219 244.9529 104.9912 244.9616 104.9727 246.227 105.5591 247.4853 106.1626 248.736 106.783 249.9784 107.4198 251.212 108.0729 251.222 108.055 252.4472 108.7246 253.6642 109.4109 254.8725 110.1135 256.0714 110.8321 257.2604 111.5663 257.2717 111.5489 258.4513 112.2991 259.6216 113.0654 260.782 113.8474 261.9321 114.6447 263.0712 115.457 263.0837 115.4403 264.2123 116.2679 265.3307 117.111 266.4381 117.9691 267.5342 118.8419 268.6183 119.7288 268.6319 119.7129 269.7046 120.6145 270.7659 121.5309 271.8154 122.4615 272.8525 123.4061 273.8767 124.364 273.8914 124.3489 274.9033 125.3207 275.9028 126.3065 276.8895 127.3058 277.8629 128.3182 278.8227 129.3431 278.8385 129.3289 279.7849 130.3668 280.718 131.4179 281.6375 132.4816 282.5429 133.5575 283.4337 134.645 283.4505 134.6318 284.3272 135.7315 285.1898 136.8434 286.0378 137.967 286.871 139.1018 287.6889 140.2473 287.7066 140.2352 288.5095 141.3919 289.2976 142.5599 290.0703 143.7386 290.8274 144.9275 291.5685 146.1261 291.5872 146.1151 292.3126 147.3239 293.0224 148.543 293.7163 149.7718 294.3938 151.0098 295.0548 152.2564 295.0743 152.2466 295.7189 153.5023 296.3472 154.7673 296.9589 156.0409 297.5537 157.3226 298.1314 158.6118 298.1516 158.6032 298.7123 159.9005 299.2562 161.2059 299.7828 162.5189 300.2921 163.8387 300.7838 165.165 300.8046 165.1578 301.2788 166.491 301.7356 167.8312 302.1748 169.1778 302.5961 170.5302 302.9993 171.8877 303.0207 171.8819 303.4061 173.2453 303.7736 174.6145 304.123 175.9889 304.4543 177.368 304.7672 178.751\"/>\n",
       "<polygon fill=\"rgba(40,40,40,1)\" points=\"215.2072 231.1951 214.8959 231.3369 214.5832 231.4757 214.2692 231.6113 213.954 231.7438 213.6376 231.8732 213.6347 231.8666 213.3172 231.9928 212.9985 232.1158 212.6786 232.2358 212.3576 232.3525 212.0357 232.466 212.0332 232.4593 211.7103 232.5696 211.3863 232.6767 211.0613 232.7806 210.7354 232.8813 210.4086 232.9787 210.4065 232.9719 210.0789 233.0661 209.7505 233.157 209.4212 233.2447 209.0911 233.3291 208.7604 233.4103 208.7586 233.4034 208.4272 233.4813 208.0951 233.5559 207.7623 233.6272 207.4289 233.6952 207.0949 233.7599 207.0935 233.753 206.7591 233.8144 206.4241 233.8725 206.0886 233.9273 205.7527 233.9788 205.4164 234.027 205.4153 234.0201 205.0787 234.0649 204.7417 234.1064 204.4043 234.1446 204.0667 234.1794 203.7289 234.211 203.7281 234.2041 203.3901 234.2323 203.0519 234.2571 202.7134 234.2787 202.3749 234.2968 202.0363 234.3117 202.0359 234.3048 201.6974 234.3164 201.3587 234.3245 201.02 234.3294 200.6814 234.3309 200.343 234.3291 200.3429 234.3223 200.0046 234.3172 199.6664 234.3087 199.3282 234.2969 198.9904 234.2818 198.6528 234.2634 198.6531 234.2566 198.3158 234.2349 197.9788 234.2098 197.6421 234.1815 197.3058 234.1498 196.9699 234.1149 196.9705 234.1082 196.6352 234.0699 196.3002 234.0284 195.9657 233.9836 195.6317 233.9355 195.2984 233.8841 195.2993 233.8775 194.9666 233.8229 194.6345 233.765 194.303 233.7038 193.9721 233.6395 193.6421 233.5719 193.6434 233.5653 193.3142 233.4945 192.9857 233.4205 192.6579 233.3432 192.3311 233.2627 192.0052 233.1791 192.0067 233.1726 191.6818 233.0858 191.3577 232.9958 191.0345 232.9026 190.7124 232.8063 190.3914 232.7069 190.3932 232.7006 190.0733 232.598 189.7544 232.4923 189.4366 232.3835 189.1199 232.2715 188.8045 232.1566 188.8067 232.1504 188.4926 232.0324 188.1796 231.9113 187.8679 231.7871 187.5575 231.6599 187.2485 231.5297 187.2509 231.5237 186.9433 231.3905 186.6371 231.2543 186.3322 231.1151 186.0287 230.973 185.7269 230.8279 185.7296 230.8221 185.4292 230.6741 185.1304 230.5232 184.833 230.3694 184.5373 230.2127 184.2432 230.0531 184.2462 230.0475 183.9539 229.8851 183.6631 229.7199 183.374 229.5518 183.0867 229.3809 182.8011 229.2073 182.8043 229.2019 182.5207 229.0255 182.2387 228.8464 181.9585 228.6645 181.6802 228.4799 181.4039 228.2927 181.4074 228.2874 181.133 228.0976 180.8605 227.905 180.5899 227.7098 180.3213 227.512 180.0548 227.3117 180.0585 227.3066 179.7941 227.1037 179.5316 226.8982 179.2713 226.6902 179.013 226.4797 178.757 226.2667 178.7609 226.2619 178.507 226.0465 178.2553 225.8286 178.0058 225.6082 177.7584 225.3855 177.5134 225.1604 177.5176 225.1558 177.2749 224.9285 177.0344 224.6987 176.7963 224.4666 176.5605 224.2323 176.3271 223.9957 176.3314 223.9913 176.1004 223.7526 175.8718 223.5115 175.6456 223.2683 175.4218 223.0229 175.2006 222.7754 175.2051 222.7713 174.9864 222.5217 174.7701 222.27 174.5564 222.0162 174.3452 221.7604 174.1366 221.5026 174.1413 221.4988 173.9353 221.2391 173.7319 220.9773 173.5311 220.7136 173.333 220.448 173.1375 220.1806 173.1423 220.177 172.9496 219.9077 172.7595 219.6366 172.5721 219.3636 172.3874 219.0889 172.2056 218.8125 172.2105 218.8091 172.0314 218.531 171.8551 218.2512 171.6815 217.9696 171.5108 217.6865 171.3429 217.4018 171.348 217.3987 171.1829 217.1124 171.0207 216.8246 170.8614 216.5351 170.7049 216.2442 170.5513 215.9519 170.5564 215.9492 170.4057 215.6555 170.2579 215.3604 170.1129 215.0639 169.9709 214.766 169.8319 214.4669 169.8369 214.4645 169.7008 214.1642 169.5676 213.8625 169.4374 213.5596 169.3102 213.2555 169.186 212.9503 169.1909 212.9483 169.0697 212.642 168.9514 212.3345 168.8362 212.0259 168.724 211.7163 168.6149 211.4057 168.6197 211.404 168.5136 211.0925 168.4105 210.7799 168.3105 210.4663 168.2136 210.1519 168.1198 209.8367 168.1244 209.8353 168.0337 209.5192 167.946 209.2023 167.8614 208.8846 167.78 208.5661 167.7017 208.2469 167.7062 208.2458 167.631 207.926 167.5589 207.6055 167.4899 207.2843 167.4241 206.9625 167.3614 206.6402 167.3658 206.6393 167.3062 206.3165 167.2498 205.9931 167.1966 205.6692 167.1465 205.3448 167.0997 205.0201 167.1038 205.0195 167.0601 204.6944 167.0195 204.3689 166.9821 204.0431 166.9479 203.7169 166.9169 203.3906 166.9208 203.3901 166.893 203.0636 166.8683 202.7367 166.8468 202.4097 166.8284 202.0825 166.8133 201.7552 166.8171 201.755 166.8051 201.4278 166.7964 201.1003 166.7908 200.7728 166.7884 200.4453 166.7892 200.118 166.7927 200.118 166.7967 199.7907 166.8038 199.4634 166.8142 199.1362 166.8277 198.8092 166.8444 198.4825 166.8477 198.4827 166.8675 198.1562 166.8906 197.8299 166.9168 197.5038 166.9461 197.178 166.9787 196.8527 166.9817 196.853 167.0174 196.528 167.0562 196.2034 167.0982 195.8791 167.1434 195.5554 167.1917 195.2322 167.1945 195.2326 167.2459 194.9099 167.3004 194.5877 167.3581 194.2661 167.4189 193.945 167.4828 193.6247 167.4854 193.6252 167.5523 193.3056 167.6224 192.9866 167.6956 192.6683 167.7719 192.3508 167.8512 192.0341 167.8536 192.0347 167.936 191.7188 168.0214 191.4037 168.11 191.0895 168.2016 190.7762 168.2962 190.4639 168.2983 190.4645 168.3958 190.1532 168.4965 189.8427 168.6001 189.5333 168.7068 189.2249 168.8164 188.9177 168.8183 188.9183 168.9308 188.6122 169.0464 188.3072 169.1649 188.0032 169.2864 187.7005 169.4107 187.3991 169.4124 187.3997 169.5396 187.0996 169.6698 186.8006 169.8029 186.5028 169.9389 186.2065 170.0778 185.9115 170.0791 185.9122 170.2208 185.6186 170.3653 185.3264 170.5127 185.0356 170.6629 184.7462 170.8158 184.4585 170.817 184.4591 170.9727 184.1728 171.1312 183.888 171.2925 183.6048 171.4565 183.3232 171.6232 183.0432 171.6242 183.0438 171.7936 182.7655 171.9657 182.4888 172.1405 182.2138 172.318 181.9405 172.4981 181.669 172.4988 181.6695 172.6815 181.3998 172.8668 181.1319 173.0548 180.8657 173.2453 180.6014 173.4383 180.3391 173.4389 180.3394 173.6344 180.079 173.8325 179.8204 174.0332 179.5637 174.2363 179.309 174.4418 179.0564 174.4421 179.0566 174.6501 178.806 174.8605 178.5573 175.0734 178.3107 175.2886 178.0662 175.5061 177.8239 175.5063 177.824 175.7261 177.5838 175.9484 177.3457 176.173 177.1097 176.3998 176.8759 176.6289 176.6445 176.6289 176.6444 176.8601 176.4152 177.0937 176.1881 177.3295 175.9633 177.5674 175.7409 177.8075 175.5208 177.8073 175.5206 178.0494 175.3029 178.2938 175.0874 178.5402 174.8743 178.7887 174.6637 179.0392 174.4555 179.0389 174.4552 179.2913 174.2494 179.5458 174.0461 179.8024 173.8452 180.0608 173.6469 180.3211 173.4511 180.3207 173.4505 180.5829 173.2573 180.847 173.0665 181.113 172.8783 181.3809 172.6927 181.6504 172.5098 181.6504 172.5098 181.3799 172.6913 181.1111 172.8755 180.8441 173.0624 180.579 173.2519 180.3159 173.444 180.3154 173.4434 180.0543 173.6382 179.795 173.8356 179.5376 174.0356 179.2823 174.2382 179.0291 174.4432 179.0288 174.4429 178.7776 174.6505 178.5285 174.8606 178.2814 175.0733 178.0365 175.2883 177.7938 175.5058 177.7937 175.5056 177.5532 175.7255 177.3149 175.9478 177.0787 176.1725 176.8449 176.3996 176.6133 176.6289 176.6133 176.6289 176.3841 176.8605 176.1572 177.0945 175.9326 177.3307 175.7103 177.5692 175.4905 177.8098 175.4907 177.8099 175.2734 178.0527 175.0584 178.2977 174.8459 178.5449 174.6358 178.7941 174.4284 179.0453 174.4287 179.0456 174.2238 179.2989 174.0213 179.5544 173.8214 179.8118 173.6241 180.0712 173.4295 180.3325 173.43 180.3329 173.238 180.5961 173.0486 180.8613 172.8618 181.1284 172.6777 181.3973 172.4964 181.6679 172.4971 181.6684 172.3185 181.9408 172.1426 182.2151 171.9695 182.4911 171.7991 182.7689 171.6315 183.0482 171.6324 183.0487 171.4677 183.3297 171.3058 183.6124 171.1466 183.8967 170.9904 184.1825 170.837 184.4698 170.8382 184.4704 170.6877 184.7592 170.5401 185.0495 170.3954 185.3413 170.2537 185.6345 170.1149 185.929 170.1163 185.9297 169.9805 186.2255 169.8476 186.5228 169.7177 186.8214 169.5908 187.1212 169.4669 187.4222 169.4686 187.4229 169.3477 187.7251 169.2299 188.0285 169.1151 188.3331 169.0034 188.6388 168.8948 188.9455 168.8966 188.9462 168.7911 189.2539 168.6886 189.5628 168.5892 189.8726 168.493 190.1834 168.3998 190.495 168.4019 190.4957 168.3119 190.8082 168.2251 191.1216 168.1413 191.436 168.0607 191.751 167.9833 192.0668 167.9856 192.0674 167.9114 192.3839 167.8403 192.7011 167.7724 193.0191 167.7076 193.3377 167.6461 193.6568 167.6487 193.6573 167.5904 193.9769 167.5353 194.2972 167.4834 194.618 167.4346 194.9393 167.3892 195.2609 167.392 195.2613 167.3498 195.5833 167.3107 195.9057 167.2749 196.2286 167.2423 196.5517 167.213 196.875 167.2161 196.8753 167.19 197.1988 167.1671 197.5226 167.1475 197.8467 167.1311 198.1709 167.1179 198.495 167.1213 198.4952 167.1114 198.8194 167.1047 199.1438 167.1013 199.4682 167.1011 199.7926 167.1042 200.1168 167.1077 200.1168 167.1141 200.441 167.1236 200.7651 167.1364 201.089 167.1524 201.4128 167.1717 201.7363 167.1754 201.7361 167.1979 202.0593 167.2237 202.3823 167.2526 202.705 167.2848 203.0273 167.3201 203.3492 167.3241 203.3488 167.3627 203.6702 167.4045 203.9913 167.4495 204.312 167.4977 204.6321 167.549 204.9516 167.5532 204.9509 167.6077 205.2698 167.6655 205.5881 167.7264 205.9059 167.7905 206.2229 167.8577 206.5392 167.862 206.5383 167.9324 206.8538 168.0059 207.1686 168.0826 207.4827 168.1624 207.7959 168.2452 208.1082 168.2497 208.107 168.3357 208.4183 168.4248 208.7288 168.517 209.0384 168.6122 209.347 168.7105 209.6544 168.7152 209.653 168.8165 209.9593 168.9209 210.2647 169.0284 210.569 169.1388 210.8722 169.2522 211.1741 169.257 211.1723 169.3734 211.473 169.4929 211.7725 169.6153 212.0708 169.7406 212.3678 169.8688 212.6633 169.8737 212.6613 170.0049 212.9554 170.139 213.2483 170.2761 213.5398 170.416 213.8299 170.5587 214.1184 170.5637 214.116 170.7092 214.403 170.8577 214.6885 171.0089 214.9725 171.163 215.2549 171.3198 215.5357 171.3249 215.5329 171.4844 215.812 171.6468 216.0894 171.8119 216.3652 171.9797 216.6393 172.15 216.9116 172.1551 216.9086 172.3281 217.179 172.5038 217.4478 172.6822 217.7149 172.8631 217.98 173.0465 218.2433 173.0515 218.2399 173.2374 218.5013 173.426 218.7608 173.6171 219.0184 173.8107 219.274 174.0067 219.5276 174.0115 219.524 174.21 219.7755 174.4109 220.0251 174.6143 220.2726 174.8201 220.5181 175.0282 220.7614 175.0328 220.7576 175.2432 220.9987 175.456 221.2378 175.6711 221.4747 175.8885 221.7095 176.1081 221.9419 176.1126 221.9378 176.3344 222.168 176.5586 222.396 176.7849 222.6218 177.0134 222.8453 177.2439 223.0663 177.2482 223.062 177.4809 223.2807 177.7157 223.4971 177.9527 223.7111 178.1917 223.9228 178.4326 224.132 178.4367 224.1274 178.6796 224.3341 178.9246 224.5384 179.1716 224.7402 179.4204 224.9396 179.6711 225.1364 179.675 225.1315 179.9276 225.3257 180.1821 225.5175 180.4384 225.7066 180.6965 225.8932 180.9563 226.0772 180.96 226.0721 181.2215 226.2534 181.4849 226.4321 181.75 226.6082 182.0167 226.7816 182.285 226.9522 182.2884 226.947 182.5583 227.1149 182.8298 227.2802 183.1029 227.4428 183.3776 227.6026 183.6536 227.7596 183.6569 227.7541 183.9344 227.9083 184.2134 228.0598 184.4939 228.2085 184.7758 228.3544 185.0589 228.4974 185.0619 228.4917 185.3463 228.6318 185.6322 228.7692 185.9193 228.9037 186.2077 229.0353 186.4973 229.1639 186.5 229.1581 186.7906 229.2838 187.0826 229.4067 187.3757 229.5267 187.6699 229.6438 187.9651 229.7578 187.9675 229.7518 188.2637 229.8629 188.561 229.9711 188.8593 230.0763 189.1586 230.1786 189.4587 230.2778 189.4608 230.2716 189.7617 230.3678 190.0637 230.461 190.3664 230.5513 190.67 230.6385 190.9743 230.7226 190.9761 230.7163 191.2811 230.7974 191.5869 230.8755 191.8934 230.9506 192.2005 231.0226 192.5082 231.0915 192.5097 231.0851 192.8179 231.1509 193.1268 231.2138 193.4363 231.2735 193.7462 231.3302 194.0565 231.3837 194.0578 231.3772 194.3685 231.4277 194.6797 231.4751 194.9913 231.5194 195.3033 231.5606 195.6155 231.5987 195.6164 231.5921 195.9288 231.6271 196.2416 231.659 196.5547 231.6878 196.8679 231.7135 197.1812 231.7361 197.1818 231.7294 197.4952 231.7489 197.8088 231.7653 198.1225 231.7786 198.4362 231.7888 198.7498 231.7959 198.7501 231.7891 199.0636 231.793 199.3773 231.7939 199.6908 231.7917 200.0043 231.7863 200.3175 231.7779 200.3174 231.7711 200.6304 231.7595 200.9432 231.7449 201.2559 231.7272 201.5683 231.7064 201.8803 231.6826 201.8799 231.6757 202.1915 231.6487 202.5029 231.6187 202.8139 231.5856 203.1245 231.5494 203.4345 231.5102 203.4337 231.5033 203.7432 231.4611 204.0523 231.4157 204.3609 231.3674 204.6689 231.316 204.9762 231.2616 204.9751 231.2547 205.2817 231.1972 205.5878 231.1367 205.8932 231.0733 206.1979 231.0068 206.5018 230.9373 206.5003 230.9304 206.8033 230.858 207.1056 230.7826 207.4071 230.7042 207.7077 230.6228 208.0074 230.5385 208.0056 230.5317 208.3042 230.4445 208.602 230.3543 208.8989 230.2612 209.1947 230.1652 209.4894 230.0664 209.4873 230.0596 209.7809 229.9579 210.0735 229.8532 210.365 229.7457 210.6553 229.6354 210.9444 229.5222 210.9419 229.5155 211.2297 229.3995 211.5163 229.2807 211.8018 229.1591 212.0859 229.0347 212.3687 228.9076 212.3658 228.9009 212.6472 228.7711 212.9272 228.6384 213.2059 228.503 213.4832 228.3649 213.7589 228.2241\"/>\n",
       "<polygon fill=\"rgba(40,40,40,1)\" points=\"123.0486 165.2226 123.3116 164.6885 123.5783 164.1564 123.8487 163.6262 124.1227 163.0981 124.4004 162.5721 124.4161 162.5799 124.6973 162.0561 124.9822 161.5343 125.2706 161.0146 125.5627 160.4971 125.8582 159.9818 125.8735 159.9901 126.1726 159.4771 126.4752 158.9662 126.7813 158.4576 127.091 157.9513 127.404 157.4473 127.419 157.456 127.7354 156.9545 128.0554 156.4552 128.3788 155.9582 128.7056 155.4637 129.0357 154.9716 129.0502 154.9808 129.3837 154.4913 129.7205 154.0041 130.0608 153.5194 130.4043 153.0373 130.7511 152.5577 130.7652 152.5673 131.1151 152.0904 131.4684 151.6159 131.825 151.144 132.1848 150.6748 132.5477 150.2082 132.5614 150.2183 132.9275 149.7545 133.2968 149.2932 133.6692 148.8347 134.0448 148.3789 134.4234 147.9259 134.4366 147.9364 134.8183 147.4863 135.203 147.0389 135.5908 146.5942 135.9817 146.1524 136.3755 145.7135 136.3883 145.7244 136.785 145.2884 137.1847 144.8553 137.5874 144.4251 137.993 143.9978 138.4015 143.5735 138.4138 143.5847 138.8251 143.1635 139.2393 142.7451 139.6563 142.3298 140.0762 141.9175 140.4988 141.5082 140.5106 141.5198 140.9359 141.1138 141.364 140.7107 141.7948 140.3107 142.2284 139.9138 142.6645 139.5202 142.6758 139.5321 143.1146 139.1416 143.556 138.7543 144.0001 138.3701 144.4468 137.9892 144.896 137.6115 144.9068 137.6237 145.3584 137.2494 145.8126 136.8782 146.2694 136.5103 146.7286 136.1456 147.1902 135.7844 147.2005 135.7969 147.6645 135.439 148.1309 135.0844 148.5997 134.7332 149.0709 134.3853 149.5443 134.0408 149.5541 134.0536 150.0298 133.7126 150.5078 133.375 150.9881 133.0408 151.4706 132.71 151.9553 132.3828 151.9645 132.3958 152.4513 132.0721 152.9403 131.7518 153.4314 131.4351 153.9247 131.1218 154.4199 130.8121 154.4287 130.8254 154.9259 130.5193 155.4253 130.2167 155.9267 129.9177 156.43 129.6223 156.9353 129.3305 156.9435 129.344 157.4506 129.0558 157.9596 128.7713 158.4706 128.4904 158.9834 128.2131 159.498 127.9395 159.5057 127.9532 160.022 127.6833 160.5401 127.4171 161.06 127.1546 161.5816 126.8958 162.1049 126.6407 162.112 126.6545 162.6369 126.4032 163.1634 126.1556 163.6916 125.9118 164.2214 125.6717 164.7527 125.4354 164.7593 125.4494 165.292 125.2169 165.8264 124.9882 166.3622 124.7633 166.8995 124.5421 167.4381 124.3249 167.4442 124.339 167.9841 124.1256 168.5255 123.916 169.0683 123.7102 169.6124 123.5083 170.1577 123.3103 170.1632 123.3245 170.7097 123.1304 171.2575 122.9401 171.8065 122.7537 172.3568 122.5712 172.9081 122.3926 172.9131 122.4069 173.4654 122.2323 174.0189 122.0615 174.5736 121.8947 175.1292 121.7318 175.6858 121.5729 175.6903 121.5872 176.2478 121.4322 176.8064 121.2812 177.3659 121.134 177.9263 120.9909 178.4875 120.8517 178.4914 120.8661 179.0534 120.7309 179.6163 120.5997 180.18 120.4724 180.7445 120.3491 181.3097 120.2298 181.313 120.2443 181.8788 120.129 182.4453 120.0177 183.0126 119.9104 183.5804 119.8071 184.1488 119.7078 184.1516 119.7222 184.7204 119.627 185.2899 119.5357 185.8599 119.4485 186.4304 119.3652 187.0013 119.286 187.0036 119.3004 187.5748 119.2253 188.1465 119.1541 188.7187 119.087 189.2911 119.0239 189.8638 118.9648 189.8656 118.9792 190.4385 118.9241 191.0117 118.8731 191.5852 118.8261 192.1589 118.7832 192.7327 118.7443 192.734 118.7586 193.3078 118.7237 193.8819 118.6929 194.4561 118.6661 195.0303 118.6432 195.6045 118.6243 195.6053 118.6384 196.1794 118.6234 196.7535 118.6123 197.3277 118.6052 197.9018 118.6021 198.4757 118.6029 198.4759 118.6164 199.0496 118.6211 199.6233 118.6298 200.1967 118.6424 200.77 118.6589 201.343 118.6794 201.3428 118.6924 201.9154 118.7168 202.4878 118.745 203.06 118.7773 203.6318 118.8135 204.2031 118.8536 204.2025 118.866 204.7734 118.9099 205.344 118.9578 205.9142 119.0096 206.4839 119.0653 207.053 119.1249 207.052 119.1367 207.6205 119.2002 208.1886 119.2675 208.7562 119.3388 209.3231 119.4139 209.8893 119.493 209.888 119.5042 210.4535 119.587 211.0185 119.6738 211.5828 119.7644 212.1463 119.8588 212.7091 119.9572 212.7074 119.9678 213.2693 120.0699 213.8305 120.1759 214.3909 120.2857 214.9504 120.3993 215.509 120.5168 215.507 120.5269 216.0646 120.6481 216.6214 120.7731 217.1773 120.902 217.7322 121.0347 218.286 121.1711 218.2838 121.1806 218.8365 121.3207 219.3883 121.4647 219.939 121.6124 220.4886 121.7639 221.037 121.9192 221.0346 121.928 221.5818 122.0869 222.1279 122.2496 222.6729 122.416 223.2166 122.5862 223.759 122.76 223.7565 122.7683 224.2975 122.9457 224.8374 123.1269 225.376 123.3118 225.9132 123.5004 226.4489 123.6926 226.4463 123.7002 226.9806 123.896 227.5137 124.0955 228.0452 124.2986 228.5754 124.5053 229.1039 124.7157 229.1012 124.7227 229.6282 124.9366 230.1537 125.1541 230.6778 125.3752 231.2002 125.5998 231.7209 125.8281 231.7181 125.8345 232.2372 126.0662 232.7547 126.3014 233.2706 126.5402 233.7847 126.7825 234.297 127.0283 234.2943 127.0342 234.8049 127.2834 235.3138 127.5361 235.8209 127.7924 236.3262 128.052 236.8295 128.3151 236.8268 128.3204 237.3283 128.5868 237.828 128.8567 238.3258 129.1301 238.8217 129.4068 239.3155 129.6869 239.3129 129.6915 239.8048 129.9749 240.2947 130.2617 240.7827 130.5518 241.2686 130.8452 241.7523 131.1419 241.7498 131.1461 242.2315 131.446 242.7112 131.7493 243.1887 132.0558 243.6641 132.3656 244.1372 132.6787 244.1349 132.6822 244.6058 132.9984 245.0746 133.3178 245.5412 133.6405 246.0056 133.9663 246.4675 134.2952 246.4654 134.2983 246.9251 134.6303 247.3826 134.9655 247.8377 135.3039 248.2905 135.6453 248.7408 135.9898 248.7388 135.9923 249.1868 136.3398 249.6324 136.6904 250.0756 137.0441 250.5162 137.4008 250.9544 137.7604 250.9527 137.7625 251.3884 138.125 251.8216 138.4906 252.2523 138.8592 252.6804 139.2307 253.1059 139.6051 253.1045 139.6067 253.5274 139.9839 253.9478 140.364 254.3656 140.7471 254.7806 141.133 255.193 141.5217 255.1919 141.5228 255.6016 141.9142 256.0086 142.3085 256.413 142.7057 256.8145 143.1055 257.2132 143.5081 257.2125 143.5088 257.6085 143.914 258.0018 144.322 258.3922 144.7327 258.7798 145.146 259.1645 145.562 259.1641 145.5623 259.546 145.9808 259.925 146.402 260.3012 146.8258 260.6744 147.2522 261.0445 147.6811 261.0446 147.681 261.4119 148.1124 261.7763 148.5463 262.1376 148.9828 262.496 149.4217 262.8513 149.8631 262.8518 149.8627 263.2041 150.3064 263.5534 150.7526 263.8996 151.2012 264.2427 151.6522 264.5827 152.1054 264.5836 152.1047 264.9205 152.5603 265.2543 153.0182 265.585 153.4785 265.9125 153.941 266.2368 154.4057 266.2382 154.4047 266.5593 154.8716 266.8773 155.3408 267.1921 155.8122 267.5036 156.2857 267.8117 156.7613 267.8117 156.7613 267.5072 156.2834 267.1991 155.8075 266.8876 155.3339 266.5727 154.8626 266.2545 154.3935 266.2559 154.3926 265.9342 153.9259 265.6091 153.4615 265.2806 152.9993 264.9488 152.5396 264.6137 152.0824 264.6147 152.0817 264.2763 151.6269 263.9345 151.1745 263.5895 150.7246 263.2413 150.2771 262.8899 149.8323 262.8903 149.8319 262.5357 149.3896 262.1778 148.9499 261.8167 148.5127 261.4525 148.0781 261.0852 147.6462 261.0852 147.6462 260.7148 147.2171 260.3412 146.7905 259.9645 146.3667 259.5848 145.9456 259.2022 145.5273 259.2018 145.5276 258.8161 145.1122 258.4273 144.6995 258.0355 144.2895 257.6409 143.8825 257.2433 143.4783 257.2426 143.479 256.8421 143.0779 256.4387 142.6795 256.0324 142.2841 255.6233 141.8916 255.2114 141.5021 255.2104 141.5032 254.7957 141.1168 254.3781 140.7334 253.9578 140.353 253.5348 139.9756 253.1092 139.6013 253.1078 139.6029 252.6795 139.2318 252.2484 138.8638 251.8147 138.4989 251.3784 138.1371 250.9395 137.7786 250.9379 137.7806 250.4964 137.4253 250.0524 137.0732 249.6058 136.7243 249.1568 136.3786 248.7054 136.0363 248.7035 136.0388 248.2496 135.6998 247.7932 135.364 247.3344 135.0316 246.8733 134.7025 246.4099 134.3768 246.4077 134.3798 245.942 134.0575 245.4739 133.7386 245.0035 133.4231 244.5309 133.1109 244.0561 132.8023 244.0538 132.8059 243.5768 132.5008 243.0976 132.1991 242.6163 131.9009 242.1328 131.6061 241.6474 131.315 241.6449 131.3191 241.1574 131.0316 240.6677 130.7475 240.1761 130.467 239.6825 130.1901 239.187 129.9168 239.1844 129.9214 238.6869 129.6518 238.1875 129.3858 237.6862 129.1234 237.1831 128.8646 236.6783 128.6095 236.6756 128.6147 236.1689 128.3634 235.6605 128.1157 235.1502 127.8717 234.6383 127.6314 234.1248 127.3949 234.122 127.4007 233.6068 127.168 233.09 126.939 232.5715 126.7137 232.0514 126.4922 231.5299 126.2745 231.5272 126.281 231.0042 126.0672 230.4796 125.8571 229.9536 125.6509 229.4261 125.4484 228.8974 125.2499 228.8947 125.2569 228.3646 125.0623 227.833 124.8714 227.3001 124.6845 226.766 124.5014 226.2307 124.3222 226.2281 124.3298 225.6916 124.1546 225.1538 123.9833 224.6148 123.8158 224.0747 123.6522 223.5336 123.4926 223.5311 123.5009 222.9889 123.3453 222.4457 123.1936 221.9013 123.0459 221.356 122.9021 220.8098 122.7623 220.8075 122.7711 220.2604 122.6354 219.7123 122.5035 219.1634 122.3757 218.6136 122.2518 218.0631 122.132 218.0609 122.1414 217.5096 122.0256 216.9576 121.9138 216.4047 121.806 215.8512 121.7022 215.2971 121.6024 215.2952 121.6125 214.7405 121.5168 214.1852 121.4251 213.6292 121.3374 213.0727 121.2538 212.5158 121.1742 212.5141 121.1849 211.9568 121.1094 211.3989 121.0379 210.8406 120.9705 210.2819 120.9071 209.7229 120.8478 209.7215 120.8591 209.1623 120.8039 208.6027 120.7527 208.0427 120.7056 207.4826 120.6625 206.9223 120.6235 206.9213 120.6353 206.3609 120.6005 205.8002 120.5696 205.2395 120.5429 204.6786 120.5201 204.1178 120.5014 204.1171 120.5138 203.5564 120.4993 202.9955 120.4888 202.4346 120.4824 201.8738 120.4799 201.3132 120.4816 201.313 120.4945 200.7526 120.5003 200.1922 120.5101 199.632 120.524 199.0721 120.5419 198.5124 120.5638 198.5127 120.5773 197.9534 120.6034 197.3943 120.6334 196.8355 120.6675 196.2771 120.7057 195.7192 120.7478 195.72 120.7618 195.1626 120.8081 194.6055 120.8583 194.0489 120.9126 193.4929 120.9708 192.9374 121.0329 192.9387 121.0472 192.3839 121.1133 191.8296 121.1833 191.2758 121.2571 190.7228 121.3349 190.1705 121.4166 190.1723 121.431 189.6208 121.5166 189.0699 121.6061 188.5197 121.6994 187.9704 121.7967 187.4219 121.8978 187.4242 121.9122 186.8767 122.0171 186.33 122.126 185.7841 122.2387 185.2391 122.3552 184.6952 122.4756 184.698 122.49 184.1552 122.6142 183.6132 122.7422 183.0722 122.874 182.5324 123.0096 181.9936 123.149 181.997 123.1635 181.4595 123.3066 180.923 123.4536 180.3877 123.6044 179.8536 123.7589 179.3207 123.9171 179.3246 123.9315 178.7931 124.0935 178.2628 124.2592 177.7337 124.4287 177.206 124.6018 176.6797 124.7787 176.6842 124.793 176.1593 124.9735 175.6358 125.1577 175.1137 125.3456 174.593 125.5372 174.0739 125.7323 174.0789 125.7466 173.5614 125.9454 173.0453 126.1478 172.5308 126.3539 172.0178 126.5635 171.5066 126.7767 171.5121 126.7909 171.0026 127.0077 170.4946 127.228 169.9882 127.4519 169.4836 127.6794 168.9808 127.9103 168.9869 127.9244 168.486 128.1588 167.9867 128.3967 167.4892 128.6382 166.9936 128.8831 166.4998 129.1314 166.5064 129.1454 166.0147 129.3971 165.5248 129.6523 165.0367 129.9109 164.5506 130.1729 164.0666 130.4383 164.0738 130.4521 163.5918 130.7208 163.1118 130.9929 162.6338 131.2683 162.1579 131.5471 161.6841 131.8291 161.6918 131.8428 161.2203 132.128 160.7508 132.4166 160.2834 132.7085 159.8182 133.0036 159.3553 133.3019 159.3636 133.3153 158.903 133.6168 158.4446 133.9215 157.9884 134.2294 157.5345 134.5404 157.083 134.8545 157.0918 134.8678 156.6427 135.185 156.196 135.5054 155.7515 135.8289 155.3095 136.1554 154.87 136.4849 154.8793 136.498 154.4423 136.8305 154.0077 137.1661 153.5755 137.5047 153.1459 137.8463 152.7189 138.1908 152.7286 138.2036 152.3043 138.551 151.8823 138.9013 151.463 139.2546 151.0463 139.6108 150.6322 139.9698 150.6425 139.9823 150.2312 140.3441 149.8225 140.7087 149.4165 141.0762 149.0132 141.4465 148.6126 141.8195 148.6234 141.8317 148.2257 142.2074 147.8307 142.5858 147.4384 142.967 147.049 143.3508 146.6624 143.7373 146.6737 143.7492 146.2901 144.1383 145.9092 144.53 145.5312 144.9243 145.156 145.3212 144.7839 145.7207 144.7957 145.7323 144.4266 146.1341 144.0603 146.5386 143.6969 146.9456 143.3366 147.3551 142.9793 147.7669 142.9916 147.7782 142.6374 148.1923 142.2862 148.609 141.9379 149.0281 141.5928 149.4495 141.2508 149.8732 141.2635 149.8841 140.9247 150.3101 140.5889 150.7384 140.2561 151.169 139.9266 151.6018 139.6002 152.0368 139.6135 152.0473 139.2904 152.4845 138.9704 152.9238 138.6536 153.3654 138.34 153.8091 138.0297 154.2548 138.0433 154.2649 137.7363 154.7126 137.4325 155.1625 137.132 155.6144 136.8347 156.0684 136.5408 156.5242 136.5549 156.5339 136.2644 156.9916 135.9771 157.4513 135.6931 157.913 135.4125 158.3766 135.1353 158.842 135.1499 158.8512 134.8761 159.3183 134.6057 159.7873 134.3387 160.2582 134.075 160.7308 133.8149 161.2051 133.8298 161.2138 133.5732 161.6897 133.3199 162.1674 133.07 162.6468 132.8237 163.1278 132.5808 163.6103 132.5962 163.6186 132.3569 164.1027 132.121 164.5884 131.8887 165.0756 131.6598 165.5644 131.4346 166.0546 131.4503 166.0624 131.2286 166.554 131.0105 167.047 130.7958 167.5416 130.5848 168.0375 130.3773 168.5347\"/>\n",
       "<polygon fill=\"rgba(40,40,40,1)\" points=\"155.2758 164.1627 155.146 164.304 155.0167 164.4458 154.8878 164.5881 154.7594 164.7309 154.6315 164.8741 154.6211 164.866 154.4936 165.0097 154.3666 165.1539 154.2401 165.2986 154.114 165.4437 153.9884 165.5893 153.9779 165.5815 153.8527 165.7276 153.7281 165.8741 153.6038 166.0211 153.4801 166.1686 153.3569 166.3165 153.3463 166.3089 153.2235 166.4574 153.1012 166.6062 152.9794 166.7556 152.8581 166.9053 152.7372 167.0556 152.7266 167.0482 152.6063 167.1989 152.4864 167.35 152.367 167.5016 152.2481 167.6537 152.1297 167.8062 152.1191 167.799 152.0012 167.952 151.8837 168.1053 151.7668 168.2592 151.6504 168.4134 151.5345 168.5681 151.5238 168.5612 151.4084 168.7164 151.2935 168.872 151.1791 169.028 151.0652 169.1844 150.9518 169.3413 150.9411 169.3346 150.8282 169.4919 150.7159 169.6496 150.604 169.8078 150.4927 169.9664 150.3819 170.1254 150.3711 170.1189 150.2608 170.2783 150.1511 170.4382 150.0418 170.5985 149.9331 170.7592 149.8249 170.9202 149.8141 170.914 149.7064 171.0755 149.5993 171.2374 149.4927 171.3998 149.3866 171.5625 149.2811 171.7256 149.2702 171.7196 149.1652 171.8831 149.0608 172.0471 148.9568 172.2114 148.8534 172.3762 148.7506 172.5413 148.7397 172.5354 148.6374 172.701 148.5357 172.8669 148.4345 173.0332 148.3338 173.1999 148.2337 173.367 148.2228 173.3614 148.1232 173.5289 148.0242 173.6967 147.9257 173.865 147.8278 174.0336 147.7305 174.2026 147.7196 174.1972 147.6228 174.3665 147.5266 174.5363 147.4309 174.7064 147.3358 174.8769 147.2412 175.0477 147.2303 175.0425 147.1363 175.2138 147.0429 175.3854 146.9501 175.5573 146.8578 175.7296 146.7661 175.9022 146.7552 175.8973 146.664 176.0703 146.5735 176.2437 146.4835 176.4174 146.3941 176.5915 146.3053 176.7658 146.2943 176.7611 146.2061 176.9359 146.1184 177.111 146.0313 177.2864 145.9448 177.4622 145.8589 177.6383 145.8479 177.6338 145.7626 177.8103 145.6779 177.9871 145.5937 178.1642 145.5101 178.3417 145.4271 178.5194 145.4162 178.5151 145.3338 178.6932 145.252 178.8717 145.1708 179.0505 145.0902 179.2295 145.0102 179.4089 144.9993 179.4048 144.9199 179.5845 144.8411 179.7646 144.7629 179.9449 144.6853 180.1255 144.6083 180.3065 144.5973 180.3026 144.5209 180.4839 144.4451 180.6654 144.37 180.8473 144.2954 181.0294 144.2214 181.2119 144.2105 181.2082 144.1371 181.391 144.0644 181.574 143.9923 181.7574 143.9207 181.941 143.8498 182.1249 143.8389 182.1214 143.7687 182.3056 143.699 182.4901 143.6299 182.6749 143.5615 182.8599 143.4937 183.0452 143.4828 183.0419 143.4156 183.2275 143.3491 183.4134 143.2831 183.5995 143.2178 183.7859 143.1531 183.9725 143.1423 183.9695 143.0782 184.1564 143.0148 184.3436 142.952 184.5311 142.8898 184.7188 142.8283 184.9067 142.8174 184.9038 142.7565 185.092 142.6962 185.2805 142.6366 185.4692 142.5776 185.6582 142.5192 185.8473 142.5084 185.8447 142.4507 186.0341 142.3936 186.2238 142.3371 186.4137 142.2813 186.6038 142.2262 186.7942 142.2154 186.7917 142.1609 186.9823 142.107 187.1732 142.0537 187.3642 142.0011 187.5555 141.9492 187.747 141.9385 187.7447 141.8872 187.9365 141.8365 188.1284 141.7865 188.3206 141.7371 188.5129 141.6884 188.7055 141.6777 188.7034 141.6297 188.8962 141.5823 189.0892 141.5355 189.2824 141.4894 189.4757 141.444 189.6693 141.4333 189.6674 141.3886 189.8612 141.3444 190.0552 141.3009 190.2494 141.2582 190.4437 141.2161 190.6383 141.2057 190.6366 141.1644 190.8314 141.1238 191.0264 141.084 191.2215 141.0448 191.4168 141.0064 191.6123 140.9964 191.6109 140.9587 191.8066 140.9218 192.0024 140.8856 192.1985 140.8501 192.3946 140.8153 192.591 140.8056 192.5898 140.7716 192.7863 140.7383 192.983 140.7058 193.1799 140.6739 193.3769 140.6428 193.574 140.6336 193.573 140.6032 193.7703 140.5736 193.9678 140.5448 194.1654 140.5166 194.3631 140.4892 194.5609 140.4803 194.5601 140.4537 194.7581 140.4277 194.9563 140.4025 195.1545 140.3781 195.3529 140.3544 195.5514 140.3459 195.5507 140.3229 195.7494 140.3007 195.9481 140.2793 196.147 140.2585 196.3459 140.2385 196.5449 140.2304 196.5445 140.2112 196.7437 140.1927 196.9429 140.1749 197.1423 140.1579 197.3417 140.1416 197.5413 140.1339 197.5409 140.1185 197.7406 140.1037 197.9403 140.0897 198.1401 140.0764 198.34 140.0638 198.5399 140.0566 198.5397 140.0448 198.7397 140.0338 198.9398 140.0235 199.14 140.014 199.3402 140.0052 199.5405 139.9983 199.5404 139.9903 199.7407 139.983 199.9411 139.9765 200.1416 139.9707 200.3421 139.9656 200.5426 139.9592 200.5426 139.9549 200.7432 139.9514 200.9438 139.9486 201.1444 139.9466 201.3451 139.9453 201.5458 139.9393 201.5459 139.9388 201.7467 139.939 201.9474 139.94 202.1482 139.9417 202.349 139.9442 202.5497 139.9386 202.55 139.9418 202.7508 139.9458 202.9516 139.9506 203.1524 139.9561 203.3532 139.9623 203.554 139.9571 203.5543 139.9641 203.7551 139.9719 203.9559 139.9804 204.1567 139.9897 204.3575 139.9997 204.5582 139.9949 204.5586 140.0057 204.7593 140.0172 204.96 140.0295 205.1607 140.0425 205.3613 140.0563 205.5619 140.0519 205.5623 140.0665 205.7629 140.0818 205.9634 140.0978 206.1639 140.1146 206.3644 140.1321 206.5648 140.1281 206.5652 140.1465 206.7655 140.1655 206.9658 140.1853 207.166 140.2059 207.3662 140.2272 207.5663 140.2236 207.5668 140.2457 207.7668 140.2685 207.9667 140.292 208.1666 140.3163 208.3664 140.3414 208.5661 140.3382 208.5666 140.364 208.7662 140.3906 208.9658 140.4179 209.1653 140.446 209.3646 140.4747 209.5639 140.472 209.5643 140.5016 209.7635 140.5319 209.9626 140.5629 210.1616 140.5947 210.3604 140.6272 210.5592 140.6248 210.5596 140.6582 210.7582 140.6922 210.9567 140.727 211.1551 140.7625 211.3534 140.7987 211.5515 140.7968 211.5519 140.8338 211.7499 140.8715 211.9478 140.91 212.1455 140.9492 212.3431 140.9892 212.5406 140.9877 212.5409 141.0284 212.7382 141.0698 212.9354 141.112 213.1324 141.1549 213.3293 141.1986 213.526 141.1974 213.5262 141.2419 213.7228 141.287 213.9191 141.3329 214.1154 141.3795 214.3114 141.4268 214.5073 141.4261 214.5075 141.4742 214.7031 141.523 214.8987 141.5725 215.094 141.6228 215.2891 141.6738 215.4841 141.6734 215.4842 141.7252 215.6789 141.7777 215.8735 141.8309 216.0679 141.8848 216.2621 141.9394 216.456 141.9394 216.456 141.9948 216.6498 142.0509 216.8433 142.1078 217.0367 142.1653 217.2298 142.2235 217.4227 142.224 217.4226 142.283 217.6153 142.3427 217.8077 142.4031 218 142.4643 218.192 142.5261 218.3838 142.5269 218.3835 142.5895 218.575 142.6528 218.7663 142.7168 218.9574 142.7815 219.1482 142.847 219.3388 142.8482 219.3384 142.9143 219.5287 142.9812 219.7188 143.0488 219.9086 143.117 220.0981 143.186 220.2874 143.186 220.2874 143.1201 220.097 143.0548 219.9065 142.99 219.7157 142.9258 219.5248 142.8622 219.3336 142.8634 219.3332 142.8003 219.1419 142.7378 218.9505 142.6759 218.7588 142.6145 218.567 142.5537 218.3749 142.5546 218.3747 142.4943 218.1825 142.4346 217.9902 142.3755 217.7976 142.3169 217.6049 142.259 217.412 142.2594 217.4119 142.202 217.2189 142.1451 217.0257 142.0888 216.8323 142.0331 216.6388 141.978 216.4451 141.9781 216.4451 141.9235 216.2512 141.8694 216.0572 141.816 215.8631 141.7631 215.6687 141.7109 215.4742 141.7105 215.4743 141.6588 215.2797 141.6076 215.0849 141.557 214.89 141.507 214.6949 141.4576 214.4996 141.4569 214.4998 141.408 214.3045 141.3597 214.1089 141.3119 213.9132 141.2648 213.7174 141.2183 213.5215 141.2171 213.5217 141.1711 213.3256 141.1256 213.1294 141.0808 212.933 141.0365 212.7365 140.9929 212.5398 140.9913 212.5401 140.9482 212.3434 140.9056 212.1464 140.8636 211.9494 140.8222 211.7522 140.7814 211.5549 140.7795 211.5553 140.7392 211.3578 140.6996 211.1603 140.6605 210.9626 140.622 210.7648 140.5841 210.5668 140.5817 210.5672 140.5443 210.3692 140.5076 210.171 140.4714 209.9727 140.4358 209.7743 140.4008 209.5758 140.398 209.5762 140.3635 209.3776 140.3297 209.1788 140.2964 208.98 140.2637 208.781 140.2316 208.5819 140.2284 208.5824 140.1969 208.3832 140.1659 208.1839 140.1355 207.9845 140.1057 207.785 140.0766 207.5854 140.073 207.5858 140.0443 207.3861 140.0163 207.1863 139.9888 206.9864 139.962 206.7864 139.9357 206.5863 139.9317 206.5867 139.906 206.3865 139.8809 206.1863 139.8563 205.9859 139.8324 205.7854 139.8091 205.5849 139.8047 205.5853 139.7819 205.3846 139.7597 205.1839 139.7381 204.9831 139.7171 204.7822 139.6967 204.5812 139.6919 204.5816 139.6721 204.3805 139.6528 204.1794 139.6342 203.9782 139.6161 203.7769 139.5987 203.5755 139.5935 203.5759 139.5766 203.3744 139.5603 203.1729 139.5446 202.9713 139.5295 202.7697 139.515 202.568 139.5093 202.5682 139.4954 202.3664 139.482 202.1646 139.4693 201.9627 139.4572 201.7607 139.4456 201.5587 139.4396 201.5588 139.4286 201.3567 139.4182 201.1545 139.4084 200.9523 139.3993 200.7501 139.3907 200.5478 139.3842 200.5478 139.3762 200.3454 139.3688 200.143 139.362 199.9405 139.3558 199.738 139.3502 199.5354 139.3433 199.5354 139.3383 199.3328 139.3338 199.1301 139.33 198.9274 139.3268 198.7246 139.3242 198.5219 139.3169 198.5217 139.3148 198.3189 139.3134 198.116 139.3125 197.9131 139.3123 197.7102 139.3126 197.5072 139.305 197.5069 139.3059 197.3039 139.3074 197.1008 139.3096 196.8978 139.3123 196.6947 139.3157 196.4916 139.3076 196.4911 139.3115 196.288 139.316 196.0848 139.3212 195.8816 139.3269 195.6784 139.3333 195.4752 139.3248 195.4746 139.3317 195.2713 139.3392 195.0681 139.3473 194.8648 139.3561 194.6615 139.3654 194.4582 139.3566 194.4574 139.3665 194.2541 139.377 194.0508 139.3881 193.8474 139.3999 193.6441 139.4123 193.4408 139.403 193.4398 139.4159 193.2364 139.4295 193.0331 139.4436 192.8297 139.4584 192.6264 139.4737 192.423 139.4641 192.4218 139.48 192.2185 139.4966 192.0151 139.5137 191.8118 139.5315 191.6085 139.5499 191.4052 139.5399 191.4038 139.5588 191.2005 139.5784 190.9972 139.5986 190.7939 139.6194 190.5906 139.6408 190.3874 139.6304 190.3857 139.6524 190.1825 139.6749 189.9793 139.6982 189.7761 139.722 189.573 139.7466 189.3699 139.736 189.368 139.7612 189.1649 139.7871 188.9618 139.8136 188.7588 139.8408 188.5559 139.8687 188.353 139.8581 188.3509 139.8866 188.1481 139.9159 187.9453 139.9458 187.7425 139.9763 187.5398 140.0076 187.3372 139.9969 187.3349 140.0288 187.1323 140.0614 186.9298 140.0946 186.7273 140.1286 186.5249 140.1631 186.3226 140.1524 186.3202 140.1877 186.1179 140.2236 185.9157 140.2602 185.7136 140.2975 185.5116 140.3354 185.3096 140.3246 185.307 140.3632 185.1051 140.4025 184.9033 140.4424 184.7016 140.483 184.5 140.5243 184.2984 140.5135 184.2956 140.5555 184.0941 140.5981 183.8928 140.6414 183.6915 140.6853 183.4904 140.7299 183.2894 140.7191 183.2863 140.7644 183.0853 140.8103 182.8845 140.857 182.6837 140.9043 182.4831 140.9522 182.2826 140.9414 182.2794 140.99 182.0789 141.0393 181.8786 141.0892 181.6785 141.1399 181.4784 141.1912 181.2785 141.1803 181.275 141.2322 181.0752 141.2848 180.8755 141.3381 180.676 141.3921 180.4765 141.4467 180.2773 141.4358 180.2736 141.4911 180.0744 141.547 179.8754 141.6036 179.6765 141.6609 179.4778 141.7189 179.2792 141.7079 179.2753 141.7665 179.0768 141.8258 178.8785 141.8857 178.6804 141.9463 178.4824 142.0076 178.2845 141.9966 178.2805 142.0585 178.0827 142.1211 177.8852 142.1844 177.6878 142.2483 177.4906 142.3128 177.2936 142.3019 177.2893 142.3671 177.0924 142.433 176.8957 142.4995 176.6991 142.5667 176.5028 142.6345 176.3066 142.6236 176.3021 142.6921 176.106 142.7613 175.9102 142.8311 175.7145 142.9016 175.5191 142.9727 175.3238 142.9618 175.3191 143.0336 175.124 143.106 174.9291 143.1791 174.7344 143.2529 174.5398 143.3273 174.3455 143.3163 174.3406 143.3914 174.1465 143.4671 173.9525 143.5435 173.7588 143.6205 173.5653 143.6982 173.372 143.6873 173.3669 143.7656 173.1738 143.8446 172.9809 143.9242 172.7882 144.0045 172.5957 144.0854 172.4035 144.0745 172.3981 144.1561 172.2061 144.2383 172.0143 144.3212 171.8228 144.4047 171.6314 144.4888 171.4403 144.4779 171.4347 144.5628 171.2438 144.6482 171.0532 144.7343 170.8628 144.8211 170.6726 144.9084 170.4827 144.8976 170.4769 144.9856 170.2872 145.0743 170.0977 145.1636 169.9085 145.2535 169.7196 145.3441 169.5309 145.3333 169.5248 145.4245 169.3364 145.5164 169.1482 145.6089 168.9602 145.7021 168.7725 145.7958 168.5851 145.785 168.5789 145.8795 168.3917 145.9745 168.2048 146.0702 168.0182 146.1665 167.8318 146.2635 167.6457 146.2527 167.6393 146.3503 167.4534 146.4485 167.2679 146.5474 167.0826 146.6469 166.8976 146.747 166.713 146.7363 166.7063 146.837 166.5218 146.9384 166.3377 147.0404 166.1538 147.143 165.9703 147.2463 165.7871 147.2356 165.7801 147.3395 165.5971 147.444 165.4145 147.5491 165.2321 147.6549 165.05 147.7613 164.8683 147.7506 164.8611 147.8576 164.6796 147.9653 164.4985 148.0735 164.3176 148.1824 164.1371 148.2918 163.9569 148.2812 163.9495 148.3913 163.7696 148.5021 163.59 148.6134 163.4107 148.7253 163.2318 148.8379 163.0531 148.8274 163.0455 148.9405 162.8672 149.0543 162.6892 149.1687 162.5116 149.2837 162.3343 149.3993 162.1573 149.3889 162.1495 149.5051 161.9728 149.6219 161.7965 149.7394 161.6205 149.8574 161.4449 149.976 161.2696 149.9656 161.2616 150.0849 161.0866 150.2048 160.912 150.3252 160.7378 150.4463 160.5639 150.5679 160.3904\"/>\n",
       "<polygon fill=\"rgba(40,40,40,1)\" points=\"159.7311 159.2007 160.0421 158.9128 160.3551 158.6272 160.6702 158.3439 160.9873 158.0631 161.3064 157.7847 161.3144 157.7935 161.6353 157.5175 161.9583 157.244 162.2832 156.9729 162.61 156.7042 162.9387 156.4381 162.9463 156.4471 163.2768 156.1835 163.6092 155.9224 163.9435 155.6637 164.2795 155.4076 164.6173 155.1541 164.6246 155.1633 164.9641 154.9124 165.3055 154.6639 165.6486 154.4181 165.9934 154.1748 166.3399 153.9342 166.3468 153.9436 166.6949 153.7056 167.0448 153.4702 167.3963 153.2374 167.7494 153.0073 168.1041 152.7799 168.1106 152.7895 168.4668 152.5647 168.8246 152.3426 169.184 152.1232 169.5449 151.9065 169.9072 151.6926 169.9133 151.7023 170.2771 151.4911 170.6424 151.2826 171.0092 151.0768 171.3774 150.8738 171.7469 150.6735 171.7526 150.6835 172.1235 150.486 172.4958 150.2913 172.8694 150.0994 173.2444 149.9103 173.6206 149.724 173.6259 149.7341 174.0033 149.5507 174.382 149.37 174.762 149.1922 175.1432 149.0172 175.5256 148.8451 175.5305 148.8553 175.9139 148.6861 176.2986 148.5197 176.6844 148.3562 177.0713 148.1956 177.4593 148.0379 177.4637 148.0482 177.8527 147.8934 178.2428 147.7414 178.6339 147.5924 179.026 147.4463 179.419 147.3031 179.4231 147.3135 179.817 147.1733 180.2119 147.036 180.6078 146.9016 181.0045 146.7702 181.4021 146.6418 181.4057 146.6522 181.8041 146.5267 182.2033 146.4042 182.6034 146.2846 183.0042 146.168 183.4057 146.0544 183.409 146.065 183.8112 145.9544 184.2142 145.8467 184.6179 145.7421 185.0223 145.6404 185.4273 145.5418 185.4301 145.5524 185.8356 145.4568 186.2419 145.3641 186.6487 145.2745 187.0561 145.1879 187.4639 145.1044 187.4663 145.115 187.8746 145.0344 188.2835 144.9569 188.6929 144.8824 189.1027 144.811 189.5129 144.7425 189.5149 144.7532 189.9254 144.6878 190.3364 144.6254 190.7477 144.5661 191.1594 144.5099 191.5714 144.4566 191.573 144.4672 191.9851 144.4171 192.3976 144.3699 192.8104 144.3259 193.2234 144.2848 193.6366 144.2469 193.6378 144.2574 194.0511 144.2225 194.4646 144.1906 194.8782 144.1618 195.292 144.136 195.7058 144.1133 195.7066 144.1238 196.1204 144.1042 196.5343 144.0876 196.9483 144.074 197.3622 144.0635 197.7761 144.056 197.7765 144.0665 198.1903 144.0621 198.6041 144.0607 199.0178 144.0623 199.4314 144.0671 199.8448 144.0748 199.8448 144.0852 200.258 144.096 200.6711 144.1099 201.084 144.1267 201.4967 144.1466 201.9091 144.1696 201.9087 144.1799 202.3208 144.2059 202.7326 144.2349 203.1442 144.2669 203.5554 144.3019 203.9662 144.34 203.9655 144.3503 204.3758 144.3913 204.7859 144.4354 205.1955 144.4825 205.6047 144.5326 206.0134 144.5857 206.0123 144.5958 206.4204 144.6519 206.8281 144.7109 207.2353 144.773 207.6419 144.8381 208.0479 144.9061 208.0464 144.9161 208.4518 144.9871 208.8566 145.061 209.2607 145.1379 209.6642 145.2178 210.067 145.3006 210.0652 145.3105 210.4672 145.3963 210.8686 145.485 211.2692 145.5766 211.6691 145.6712 212.0681 145.7686 212.0659 145.7784 212.4641 145.8787 212.8615 145.982 213.2581 146.0882 213.6537 146.1973 214.0485 146.3093 214.046 146.3189 214.4397 146.4337 214.8326 146.5514 215.2246 146.672 215.6156 146.7955 216.0055 146.9218 216.0027 146.9312 216.3916 147.0603 216.7795 147.1922 217.1663 147.327 217.5521 147.4646 217.9367 147.605 217.9335 147.6142 218.317 147.7574 218.6993 147.9034 219.0806 148.0522 219.4606 148.2037 219.8394 148.3579 219.836 148.3668 220.2136 148.5236 220.59 148.6831 220.9653 148.8454 221.3392 149.0103 221.7118 149.1779 221.7082 149.1864 222.0795 149.3565 222.4496 149.5294 222.8183 149.7049 223.1857 149.883 223.5517 150.0638 223.548 150.0717 223.9125 150.255 224.2757 150.4409 224.6376 150.6294 224.9979 150.8205 225.3568 151.0141 225.3529 151.0216 225.7103 151.2177 226.0663 151.4164 226.4207 151.6176 226.7736 151.8214 227.125 152.0277 227.121 152.0347 227.4708 152.2434 227.819 152.4546 228.1657 152.6683 228.5107 152.8845 228.8541 153.103 228.85 153.1096 229.1917 153.3306 229.5318 153.554 229.8703 153.7799 230.207 154.0082 230.542 154.2388 230.5379 154.2449 230.8711 154.4778 231.2027 154.7132 231.5325 154.9509 231.8605 155.191 232.1867 155.4334 232.1826 155.439 232.507 155.6836 232.8296 155.9306 233.1504 156.1799 233.4693 156.4314 233.7863 156.6852 233.7822 156.6904 234.0973 156.9464 234.4106 157.2046 234.7219 157.4651 235.0313 157.7278 235.3387 157.9927 235.3347 157.9974 235.6402 158.2644 235.9437 158.5336 236.2453 158.8049 236.5448 159.0784 236.8422 159.354 236.8383 159.3583 237.1337 159.636 237.4272 159.9157 237.7186 160.1976 238.0078 160.4815 238.295 160.7675 238.2912 160.7714 238.5762 161.0593 238.8592 161.3493 239.1401 161.6413 239.4188 161.9353 239.6952 162.2312 239.6915 162.2347 239.9659 162.5325 240.2381 162.8324 240.5081 163.1341 240.7758 163.4378 241.0413 163.7433 241.0378 163.7465 241.301 164.0538 241.5621 164.3631 241.8209 164.6742 242.0774 164.9872 242.3316 165.3019 242.3282 165.3047 242.5801 165.6212 242.8297 165.9395 243.077 166.2596 243.322 166.5815 243.5645 166.905 243.5614 166.9074 243.8016 167.2326 244.0395 167.5596 244.275 167.8883 244.508 168.2186 244.7387 168.5505 244.7357 168.5526 244.964 168.8861 245.1898 169.2213 245.4132 169.5581 245.6342 169.8965 245.8526 170.2364 245.8499 170.2381 246.0658 170.5795 246.2794 170.9225 246.4904 171.267 246.699 171.613 246.9049 171.9604 246.9025 171.9619 247.1059 172.3107 247.3069 172.6611 247.5054 173.0128 247.7012 173.366 247.8945 173.7205 247.8923 173.7217 248.083 174.0776 248.2711 174.4348 248.4567 174.7934 248.6397 175.1533 248.82 175.5145 248.8181 175.5154 248.9958 175.8778 249.1709 176.2415 249.3434 176.6065 249.5132 176.9726 249.6804 177.34 249.6788 177.3407 249.8433 177.7092 250.0052 178.0789 250.1643 178.4498 250.3208 178.8217 250.4746 179.1948 250.4733 179.1953 250.6244 179.5694 250.7728 179.9446 250.9185 180.3209 251.0615 180.6983 251.2017 181.0765 251.2007 181.0769 251.3382 181.4562 251.473 181.8364 251.6051 182.2177 251.7343 182.5999 251.8608 182.9829 251.8601 182.9832 251.9839 183.3671 252.1049 183.7519 252.2231 184.1377 252.3385 184.5243 252.451 184.9116 252.4507 184.9117 252.5606 185.2998 252.6676 185.6887 252.7718 186.0785 252.8732 186.469 252.9718 186.8601 252.9718 186.8601 253.0676 187.2519 253.1605 187.6444 253.2506 188.0377 253.3379 188.4316 253.4223 188.826 253.4227 188.8259 253.5043 189.2209 253.583 189.6166 253.6589 190.0129 253.7319 190.4096 253.8021 190.8069 253.8028 190.8067 253.8701 191.2045 253.9346 191.6028 253.9961 192.0015 254.0548 192.4007 254.1106 192.8003 254.1117 192.8001 254.1647 193.2001 254.2147 193.6005 254.2619 194.0013 254.3061 194.4024 254.3475 194.8037 254.3475 194.8037 254.3091 194.4021 254.2676 194.0006 254.2231 193.5995 254.1756 193.1987 254.125 192.7984 254.1262 192.7982 254.0726 192.3982 254.0159 191.9986 253.9563 191.5994 253.8936 191.2006 253.8279 190.8025 253.8287 190.8023 253.76 190.4046 253.6883 190.0074 253.6135 189.6107 253.5358 189.2146 253.4551 188.8191 253.4555 188.819 253.3718 188.4242 253.285 188.03 253.1953 187.6364 253.1026 187.2435 253.007 186.8513 253.0071 186.8513 252.9084 186.4599 252.8069 186.0692 252.7023 185.6793 252.5948 185.2902 252.4844 184.902 252.4841 184.9021 252.3708 184.5147 252.2544 184.1282 252.1352 183.7425 252.0131 183.3577 251.8881 182.974 251.8874 182.9742 251.7595 182.5914 251.6286 182.2096 251.4949 181.8287 251.3583 181.4489 251.2188 181.0702 251.2179 181.0706 251.0755 180.693 250.9303 180.3164 250.7823 179.9409 250.6314 179.5666 250.4777 179.1935 250.4764 179.194 250.3199 178.8221 250.1606 178.4514 249.9985 178.0818 249.8336 177.7135 249.6659 177.3466 249.6643 177.3473 249.4938 176.9817 249.3206 176.6173 249.1446 176.2542 248.9659 175.8925 248.7846 175.5322 248.7826 175.5332 248.5985 175.1744 248.4116 174.8169 248.2221 174.4608 248.0299 174.1062 247.835 173.7531 247.8328 173.7544 247.6353 173.4028 247.4351 173.0528 247.2322 172.7042 247.0268 172.3573 246.8188 172.0119 246.8163 172.0134 246.6057 171.6697 246.3924 171.3276 246.1766 170.9871 245.9582 170.6483 245.7374 170.3111 245.7346 170.3129 245.5112 169.9776 245.2852 169.6439 245.0567 169.3119 244.8258 168.9817 244.5924 168.6533 244.5894 168.6554 244.3536 168.3289 244.1152 168.0041 243.8744 167.6812 243.6312 167.3601 243.3857 167.0409 243.3825 167.0433 243.1345 166.7261 242.8841 166.4107 242.6314 166.0972 242.3763 165.7857 242.119 165.4762 242.1156 165.479 241.8559 165.1715 241.5939 164.866 241.3296 164.5625 241.063 164.261 240.7943 163.9616 240.7907 163.9647 240.5197 163.6675 240.2464 163.3722 239.971 163.0791 239.6933 162.788 239.4136 162.4992 239.4099 162.5027 239.128 162.2161 238.8439 161.9316 238.5577 161.6492 238.2694 161.369 237.979 161.0912 237.9752 161.0951 237.6828 160.8195 237.3883 160.5461 237.0918 160.2749 236.7933 160.0061 236.4928 159.7395 236.4889 159.7439 236.1864 159.4797 235.882 159.2178 235.5756 158.9583 235.2673 158.7011 234.9572 158.4463 234.9531 158.451 234.6411 158.1987 234.3272 157.9487 234.0114 157.7011 233.6938 157.4559 233.3744 157.2132 233.3704 157.2184 233.0493 156.9782 232.7263 156.7404 232.4016 156.5051 232.0752 156.2723 231.7471 156.0421 231.743 156.0477 231.4133 155.82 231.0818 155.5949 230.7486 155.3722 230.4139 155.1521 230.0776 154.9346 230.0735 154.9407 229.7356 154.7258 229.3961 154.5135 229.0551 154.3038 228.7125 154.0967 228.3685 153.8923 228.3644 153.8988 228.0189 153.6971 227.6719 153.498 227.3235 153.3015 226.9736 153.1077 226.6223 152.9166 226.6184 152.9236 226.2658 152.7353 225.9118 152.5496 225.5564 152.3666 225.1998 152.1864 224.8419 152.0089 224.838 152.0164 224.4789 151.8417 224.1184 151.6697 223.7567 151.5005 223.3938 151.334 223.0298 151.1704 223.026 151.1784 222.6609 151.0176 222.2945 150.8595 221.927 150.7043 221.5584 150.5518 221.1888 150.4022 221.1852 150.4107 220.8146 150.264 220.4428 150.1201 220.0701 149.979 219.6964 149.8408 219.3217 149.7054 219.3183 149.7143 218.9428 149.5819 218.5663 149.4524 218.1888 149.3256 217.8105 149.2018 217.4315 149.0808 217.4283 149.09 217.0485 148.9718 216.6678 148.8565 216.2864 148.7441 215.9042 148.6344 215.5213 148.5277 215.5184 148.5371 215.1349 148.4333 214.7506 148.3323 214.3657 148.2342 213.9801 148.139 213.5939 148.0466 213.5914 148.0562 213.2047 147.9668 212.8174 147.8803 212.4294 147.7966 212.041 147.7159 211.6521 147.638 211.6499 147.6478 211.2606 147.5729 210.8708 147.5009 210.4804 147.4318 210.0897 147.3656 209.6986 147.3024 209.6968 147.3122 209.3054 147.2519 208.9136 147.1945 208.5214 147.14 208.1289 147.0885 207.7362 147.0399 207.7347 147.0499 207.3418 147.0042 206.9486 146.9615 206.5551 146.9216 206.1614 146.8847 205.7676 146.8508 205.7665 146.8609 205.3726 146.8299 204.9785 146.8019 204.5842 146.7767 204.1899 146.7545 203.7955 146.7352 203.7948 146.7455 203.4005 146.7292 203.006 146.7158 202.6116 146.7053 202.2171 146.6978 201.8228 146.6932 201.8224 146.7035 201.4282 146.7018 201.034 146.7031 200.6399 146.7073 200.2459 146.7144 199.8522 146.7245 199.8522 146.7349 199.4587 146.7479 199.0652 146.7638 198.672 146.7826 198.279 146.8044 197.8863 146.829 197.8868 146.8395 197.4944 146.8671 197.1023 146.8975 196.7105 146.9309 196.3191 146.9672 195.9281 147.0064 195.9289 147.0169 195.5383 147.059 195.1481 147.104 194.7583 147.1518 194.3689 147.2026 193.9801 147.2562 193.9813 147.2668 193.593 147.3233 193.2052 147.3827 192.8179 147.4449 192.4311 147.51 192.045 147.578 192.0466 147.5886 191.6612 147.6594 191.2763 147.733 190.892 147.8096 190.5084 147.8889 190.1256 147.9711 190.1276 147.9817 189.7455 148.0666 189.3641 148.1545 188.9834 148.2451 188.6035 148.3385 188.2244 148.4347 188.2269 148.4453 187.8487 148.5443 187.4712 148.6461 187.0946 148.7507 186.7189 148.8581 186.3442 148.9682 186.347 148.9787 185.9732 149.0916 185.6003 149.2072 185.2283 149.3256 184.8573 149.4467 184.4873 149.5705 184.4906 149.581 184.1217 149.7075 183.7538 149.8368 183.3869 149.9687 183.0211 150.1034 182.6565 150.2406 182.6601 150.2511 182.2967 150.3911 181.9343 150.5337 181.573 150.679 181.2129 150.827 180.8541 150.9776 180.8581 150.988 180.5006 151.1411 180.1442 151.297 179.789 151.4554 179.4351 151.6164 179.0826 151.78 179.0871 151.7903 178.7359 151.9565 178.386 152.1253 178.0374 152.2966 177.6902 152.4704 177.3444 152.6468 177.3493 152.657 177.005 152.8359 176.6621 153.0173 176.3205 153.2012 175.9804 153.3876 175.6419 153.5764 175.6472 153.5865 175.3102 153.7778 174.9747 153.9716 174.6407 154.1678 174.3082 154.3665 173.9773 154.5675 173.983 154.5775 173.6538 154.7809 173.3262 154.9868 173.0001 155.195 172.6756 155.4056 172.3529 155.6185 172.359 155.6283 172.038 155.8436 171.7186 156.0612 171.4009 156.2811 171.085 156.5033 170.7708 156.7278 170.7773 156.7374 170.465 156.9642 170.1543 157.1932 169.8454 157.4245 169.5383 157.658 169.2331 157.8937 169.24 157.9031 168.9367 158.141 168.6352 158.3811 168.3355 158.6234 168.0378 158.8678 167.7419 159.1144 167.7492 159.1236 167.4554 159.3722 167.1634 159.623 166.8733 159.8759 166.5852 160.1309 166.2991 160.388 166.3068 160.397 166.0228 160.656 165.7407 160.9172 165.4606 161.1803 165.1826 161.4455 164.9066 161.7126 164.9147 161.7214 164.6408 161.9905 164.369 162.2615 164.0993 162.5346 163.8317 162.8095 163.5662 163.0863\"/>\n",
       "</svg>"
      ],
      "text/plain": [
       "<IPython.core.display.SVG object>"
      ]
     },
     "metadata": {},
     "output_type": "display_data"
    }
   ],
   "source": [
    "parts = []\n",
    "for i in range(8):\n",
    "    arc_poly = arc(0, 0, 100, 100, np.random.uniform(0, np.pi*2), np.random.uniform(0, np.pi*2))\n",
    "    poly = arc_poly.fancy_curve(thicknesses=[10, 5, 1, 0], interp=\"quadratic\")\n",
    "    poly = poly.scale(np.random.uniform(0.25, 1.5))\n",
    "    parts.append(poly)\n",
    "d = document(400, 400, 'pt')\n",
    "page = d.addpage()\n",
    "curve_fig = shape().fill(rgba(40, 40, 40, 255)).nostroke()\n",
    "for part in parts:\n",
    "    page.place(curve_fig.polygon(part.translate(200, 200)))\n",
    "show(page)"
   ]
  }
 ],
 "metadata": {
  "kernelspec": {
   "display_name": "Python 3",
   "language": "python",
   "name": "python3"
  },
  "language_info": {
   "codemirror_mode": {
    "name": "ipython",
    "version": 3
   },
   "file_extension": ".py",
   "mimetype": "text/x-python",
   "name": "python",
   "nbconvert_exporter": "python",
   "pygments_lexer": "ipython3",
   "version": "3.7.0"
  }
 },
 "nbformat": 4,
 "nbformat_minor": 2
}
